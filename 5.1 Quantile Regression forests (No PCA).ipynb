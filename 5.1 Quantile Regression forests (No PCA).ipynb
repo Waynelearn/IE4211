{
 "cells": [
  {
   "cell_type": "code",
   "execution_count": 1,
   "metadata": {},
   "outputs": [
    {
     "name": "stdout",
     "output_type": "stream",
     "text": [
      "Collecting scikit-garden\n",
      "  Using cached scikit-garden-0.1.3.tar.gz (317 kB)\n",
      "Requirement already satisfied: numpy in c:\\users\\wayne linn\\anaconda3\\lib\\site-packages (from scikit-garden) (1.19.2)\n",
      "Requirement already satisfied: scipy in c:\\users\\wayne linn\\anaconda3\\lib\\site-packages (from scikit-garden) (1.5.2)\n",
      "Requirement already satisfied: scikit-learn>=0.18 in c:\\users\\wayne linn\\anaconda3\\lib\\site-packages (from scikit-garden) (0.23.2)\n",
      "Requirement already satisfied: cython in c:\\users\\wayne linn\\anaconda3\\lib\\site-packages (from scikit-garden) (0.29.21)\n",
      "Requirement already satisfied: joblib>=0.11 in c:\\users\\wayne linn\\anaconda3\\lib\\site-packages (from scikit-learn>=0.18->scikit-garden) (0.17.0)\n",
      "Requirement already satisfied: threadpoolctl>=2.0.0 in c:\\users\\wayne linn\\anaconda3\\lib\\site-packages (from scikit-learn>=0.18->scikit-garden) (2.1.0)\n",
      "Building wheels for collected packages: scikit-garden\n",
      "  Building wheel for scikit-garden (setup.py): started\n",
      "  Building wheel for scikit-garden (setup.py): finished with status 'error'\n",
      "  Running setup.py clean for scikit-garden\n",
      "Failed to build scikit-garden\n",
      "Installing collected packages: scikit-garden\n",
      "    Running setup.py install for scikit-garden: started\n",
      "    Running setup.py install for scikit-garden: finished with status 'error'\n"
     ]
    },
    {
     "name": "stderr",
     "output_type": "stream",
     "text": [
      "  ERROR: Command errored out with exit status 1:\n",
      "   command: 'C:\\Users\\Wayne Linn\\anaconda3\\python.exe' -u -c 'import sys, setuptools, tokenize; sys.argv[0] = '\"'\"'C:\\\\Users\\\\Wayne Linn\\\\AppData\\\\Local\\\\Temp\\\\pip-install-6a8ac02w\\\\scikit-garden\\\\setup.py'\"'\"'; __file__='\"'\"'C:\\\\Users\\\\Wayne Linn\\\\AppData\\\\Local\\\\Temp\\\\pip-install-6a8ac02w\\\\scikit-garden\\\\setup.py'\"'\"';f=getattr(tokenize, '\"'\"'open'\"'\"', open)(__file__);code=f.read().replace('\"'\"'\\r\\n'\"'\"', '\"'\"'\\n'\"'\"');f.close();exec(compile(code, __file__, '\"'\"'exec'\"'\"'))' bdist_wheel -d 'C:\\Users\\Wayne Linn\\AppData\\Local\\Temp\\pip-wheel-g82r6zi2'\n",
      "       cwd: C:\\Users\\Wayne Linn\\AppData\\Local\\Temp\\pip-install-6a8ac02w\\scikit-garden\\\n",
      "  Complete output (164 lines):\n",
      "  Appending skgarden.mondrian.tree configuration to skgarden.mondrian\n",
      "  Ignoring attempt to set 'name' (from 'skgarden.mondrian' to 'skgarden.mondrian.tree')\n",
      "  Appending skgarden.mondrian.ensemble configuration to skgarden.mondrian\n",
      "  Ignoring attempt to set 'name' (from 'skgarden.mondrian' to 'skgarden.mondrian.ensemble')\n",
      "  Appending skgarden.mondrian configuration to skgarden\n",
      "  Ignoring attempt to set 'name' (from 'skgarden' to 'skgarden.mondrian')\n",
      "  Appending skgarden.quantile configuration to skgarden\n",
      "  Ignoring attempt to set 'name' (from 'skgarden' to 'skgarden.quantile')\n",
      "  Appending skgarden configuration to\n",
      "  Ignoring attempt to set 'name' (from '' to 'skgarden')\n",
      "  running bdist_wheel\n",
      "  running build\n",
      "  running config_cc\n",
      "  unifing config_cc, config, build_clib, build_ext, build commands --compiler options\n",
      "  running config_fc\n",
      "  unifing config_fc, config, build_clib, build_ext, build commands --fcompiler options\n",
      "  running build_src\n",
      "  build_src\n",
      "  building extension \"skgarden.mondrian.tree._tree\" sources\n",
      "  building extension \"skgarden.mondrian.tree._splitter\" sources\n",
      "  building extension \"skgarden.mondrian.tree._criterion\" sources\n",
      "  building extension \"skgarden.mondrian.tree._utils\" sources\n",
      "  build_src: building npy-pkg config files\n",
      "  running build_py\n",
      "  creating build\n",
      "  creating build\\lib.win-amd64-3.8\n",
      "  creating build\\lib.win-amd64-3.8\\skgarden\n",
      "  copying skgarden\\forest.py -> build\\lib.win-amd64-3.8\\skgarden\n",
      "  copying skgarden\\setup.py -> build\\lib.win-amd64-3.8\\skgarden\n",
      "  copying skgarden\\__init__.py -> build\\lib.win-amd64-3.8\\skgarden\n",
      "  creating build\\lib.win-amd64-3.8\\skgarden\\mondrian\n",
      "  copying skgarden\\mondrian\\setup.py -> build\\lib.win-amd64-3.8\\skgarden\\mondrian\n",
      "  copying skgarden\\mondrian\\__init__.py -> build\\lib.win-amd64-3.8\\skgarden\\mondrian\n",
      "  creating build\\lib.win-amd64-3.8\\skgarden\\quantile\n",
      "  copying skgarden\\quantile\\ensemble.py -> build\\lib.win-amd64-3.8\\skgarden\\quantile\n",
      "  copying skgarden\\quantile\\setup.py -> build\\lib.win-amd64-3.8\\skgarden\\quantile\n",
      "  copying skgarden\\quantile\\tree.py -> build\\lib.win-amd64-3.8\\skgarden\\quantile\n",
      "  copying skgarden\\quantile\\utils.py -> build\\lib.win-amd64-3.8\\skgarden\\quantile\n",
      "  copying skgarden\\quantile\\__init__.py -> build\\lib.win-amd64-3.8\\skgarden\\quantile\n",
      "  creating build\\lib.win-amd64-3.8\\skgarden\\mondrian\\ensemble\n",
      "  copying skgarden\\mondrian\\ensemble\\forest.py -> build\\lib.win-amd64-3.8\\skgarden\\mondrian\\ensemble\n",
      "  copying skgarden\\mondrian\\ensemble\\setup.py -> build\\lib.win-amd64-3.8\\skgarden\\mondrian\\ensemble\n",
      "  copying skgarden\\mondrian\\ensemble\\__init__.py -> build\\lib.win-amd64-3.8\\skgarden\\mondrian\\ensemble\n",
      "  creating build\\lib.win-amd64-3.8\\skgarden\\mondrian\\tree\n",
      "  copying skgarden\\mondrian\\tree\\setup.py -> build\\lib.win-amd64-3.8\\skgarden\\mondrian\\tree\n",
      "  copying skgarden\\mondrian\\tree\\tree.py -> build\\lib.win-amd64-3.8\\skgarden\\mondrian\\tree\n",
      "  copying skgarden\\mondrian\\tree\\__init__.py -> build\\lib.win-amd64-3.8\\skgarden\\mondrian\\tree\n",
      "  running build_ext\n",
      "  No module named 'numpy.distutils._msvccompiler' in numpy.distutils; trying from distutils\n",
      "  customize MSVCCompiler\n",
      "  customize MSVCCompiler using build_ext\n",
      "  building 'skgarden.mondrian.tree._tree' extension\n",
      "  compiling C sources\n",
      "  creating build\\temp.win-amd64-3.8\\Release\\skgarden\n",
      "  creating build\\temp.win-amd64-3.8\\Release\\skgarden\\mondrian\n",
      "  creating build\\temp.win-amd64-3.8\\Release\\skgarden\\mondrian\\tree\n",
      "  C:\\Program Files (x86)\\Microsoft Visual Studio\\2019\\Community\\VC\\Tools\\MSVC\\14.29.30133\\bin\\HostX86\\x64\\cl.exe /c /nologo /Ox /W3 /GL /DNDEBUG /MD -IC:\\Users\\Wayne Linn\\anaconda3\\lib\\site-packages\\numpy\\core\\include -IC:\\Users\\Wayne Linn\\anaconda3\\lib\\site-packages\\numpy\\core\\include -IC:\\Users\\Wayne Linn\\anaconda3\\include -IC:\\Users\\Wayne Linn\\anaconda3\\include -IC:\\Program Files (x86)\\Microsoft Visual Studio\\2019\\Community\\VC\\Tools\\MSVC\\14.29.30133\\ATLMFC\\include -IC:\\Program Files (x86)\\Microsoft Visual Studio\\2019\\Community\\VC\\Tools\\MSVC\\14.29.30133\\include -IC:\\Program Files (x86)\\Windows Kits\\10\\include\\10.0.19041.0\\ucrt -IC:\\Program Files (x86)\\Windows Kits\\10\\include\\10.0.19041.0\\shared -IC:\\Program Files (x86)\\Windows Kits\\10\\include\\10.0.19041.0\\um -IC:\\Program Files (x86)\\Windows Kits\\10\\include\\10.0.19041.0\\winrt -IC:\\Program Files (x86)\\Windows Kits\\10\\include\\10.0.19041.0\\cppwinrt /Tcskgarden\\mondrian\\tree\\_tree.c /Fobuild\\temp.win-amd64-3.8\\Release\\skgarden\\mondrian\\tree\\_tree.obj -O3\n",
      "  cl : Command line warning D9002 : ignoring unknown option '-O3'\n",
      "  C:\\Program Files (x86)\\Microsoft Visual Studio\\2019\\Community\\VC\\Tools\\MSVC\\14.29.30133\\bin\\HostX86\\x64\\link.exe /nologo /INCREMENTAL:NO /LTCG /DLL /MANIFEST:EMBED,ID=2 /MANIFESTUAC:NO /LIBPATH:C:\\Users\\Wayne Linn\\anaconda3\\libs /LIBPATH:C:\\Users\\Wayne Linn\\anaconda3\\PCbuild\\amd64 /LIBPATH:C:\\Program Files (x86)\\Microsoft Visual Studio\\2019\\Community\\VC\\Tools\\MSVC\\14.29.30133\\ATLMFC\\lib\\x64 /LIBPATH:C:\\Program Files (x86)\\Microsoft Visual Studio\\2019\\Community\\VC\\Tools\\MSVC\\14.29.30133\\lib\\x64 /LIBPATH:C:\\Program Files (x86)\\Windows Kits\\10\\lib\\10.0.19041.0\\ucrt\\x64 /LIBPATH:C:\\Program Files (x86)\\Windows Kits\\10\\lib\\10.0.19041.0\\um\\x64 /EXPORT:PyInit__tree build\\temp.win-amd64-3.8\\Release\\skgarden\\mondrian\\tree\\_tree.obj /OUT:build\\lib.win-amd64-3.8\\skgarden\\mondrian\\tree\\_tree.cp38-win_amd64.pyd /IMPLIB:build\\temp.win-amd64-3.8\\Release\\skgarden\\mondrian\\tree\\_tree.cp38-win_amd64.lib\n",
      "  building 'skgarden.mondrian.tree._splitter' extension\n",
      "  compiling C sources\n",
      "  C:\\Program Files (x86)\\Microsoft Visual Studio\\2019\\Community\\VC\\Tools\\MSVC\\14.29.30133\\bin\\HostX86\\x64\\cl.exe /c /nologo /Ox /W3 /GL /DNDEBUG /MD -IC:\\Users\\Wayne Linn\\anaconda3\\lib\\site-packages\\numpy\\core\\include -IC:\\Users\\Wayne Linn\\anaconda3\\lib\\site-packages\\numpy\\core\\include -IC:\\Users\\Wayne Linn\\anaconda3\\include -IC:\\Users\\Wayne Linn\\anaconda3\\include -IC:\\Program Files (x86)\\Microsoft Visual Studio\\2019\\Community\\VC\\Tools\\MSVC\\14.29.30133\\ATLMFC\\include -IC:\\Program Files (x86)\\Microsoft Visual Studio\\2019\\Community\\VC\\Tools\\MSVC\\14.29.30133\\include -IC:\\Program Files (x86)\\Windows Kits\\10\\include\\10.0.19041.0\\ucrt -IC:\\Program Files (x86)\\Windows Kits\\10\\include\\10.0.19041.0\\shared -IC:\\Program Files (x86)\\Windows Kits\\10\\include\\10.0.19041.0\\um -IC:\\Program Files (x86)\\Windows Kits\\10\\include\\10.0.19041.0\\winrt -IC:\\Program Files (x86)\\Windows Kits\\10\\include\\10.0.19041.0\\cppwinrt /Tcskgarden\\mondrian\\tree\\_splitter.c /Fobuild\\temp.win-amd64-3.8\\Release\\skgarden\\mondrian\\tree\\_splitter.obj -O3\n",
      "  cl : Command line warning D9002 : ignoring unknown option '-O3'\n",
      "  C:\\Program Files (x86)\\Microsoft Visual Studio\\2019\\Community\\VC\\Tools\\MSVC\\14.29.30133\\bin\\HostX86\\x64\\link.exe /nologo /INCREMENTAL:NO /LTCG /DLL /MANIFEST:EMBED,ID=2 /MANIFESTUAC:NO /LIBPATH:C:\\Users\\Wayne Linn\\anaconda3\\libs /LIBPATH:C:\\Users\\Wayne Linn\\anaconda3\\PCbuild\\amd64 /LIBPATH:C:\\Program Files (x86)\\Microsoft Visual Studio\\2019\\Community\\VC\\Tools\\MSVC\\14.29.30133\\ATLMFC\\lib\\x64 /LIBPATH:C:\\Program Files (x86)\\Microsoft Visual Studio\\2019\\Community\\VC\\Tools\\MSVC\\14.29.30133\\lib\\x64 /LIBPATH:C:\\Program Files (x86)\\Windows Kits\\10\\lib\\10.0.19041.0\\ucrt\\x64 /LIBPATH:C:\\Program Files (x86)\\Windows Kits\\10\\lib\\10.0.19041.0\\um\\x64 /EXPORT:PyInit__splitter build\\temp.win-amd64-3.8\\Release\\skgarden\\mondrian\\tree\\_splitter.obj /OUT:build\\lib.win-amd64-3.8\\skgarden\\mondrian\\tree\\_splitter.cp38-win_amd64.pyd /IMPLIB:build\\temp.win-amd64-3.8\\Release\\skgarden\\mondrian\\tree\\_splitter.cp38-win_amd64.lib\n",
      "  building 'skgarden.mondrian.tree._criterion' extension\n",
      "  compiling C sources\n",
      "  C:\\Program Files (x86)\\Microsoft Visual Studio\\2019\\Community\\VC\\Tools\\MSVC\\14.29.30133\\bin\\HostX86\\x64\\cl.exe /c /nologo /Ox /W3 /GL /DNDEBUG /MD -IC:\\Users\\Wayne Linn\\anaconda3\\lib\\site-packages\\numpy\\core\\include -IC:\\Users\\Wayne Linn\\anaconda3\\lib\\site-packages\\numpy\\core\\include -IC:\\Users\\Wayne Linn\\anaconda3\\include -IC:\\Users\\Wayne Linn\\anaconda3\\include -IC:\\Program Files (x86)\\Microsoft Visual Studio\\2019\\Community\\VC\\Tools\\MSVC\\14.29.30133\\ATLMFC\\include -IC:\\Program Files (x86)\\Microsoft Visual Studio\\2019\\Community\\VC\\Tools\\MSVC\\14.29.30133\\include -IC:\\Program Files (x86)\\Windows Kits\\10\\include\\10.0.19041.0\\ucrt -IC:\\Program Files (x86)\\Windows Kits\\10\\include\\10.0.19041.0\\shared -IC:\\Program Files (x86)\\Windows Kits\\10\\include\\10.0.19041.0\\um -IC:\\Program Files (x86)\\Windows Kits\\10\\include\\10.0.19041.0\\winrt -IC:\\Program Files (x86)\\Windows Kits\\10\\include\\10.0.19041.0\\cppwinrt /Tcskgarden\\mondrian\\tree\\_criterion.c /Fobuild\\temp.win-amd64-3.8\\Release\\skgarden\\mondrian\\tree\\_criterion.obj -O3\n",
      "  cl : Command line warning D9002 : ignoring unknown option '-O3'\n",
      "  C:\\Program Files (x86)\\Microsoft Visual Studio\\2019\\Community\\VC\\Tools\\MSVC\\14.29.30133\\bin\\HostX86\\x64\\link.exe /nologo /INCREMENTAL:NO /LTCG /DLL /MANIFEST:EMBED,ID=2 /MANIFESTUAC:NO /LIBPATH:C:\\Users\\Wayne Linn\\anaconda3\\libs /LIBPATH:C:\\Users\\Wayne Linn\\anaconda3\\PCbuild\\amd64 /LIBPATH:C:\\Program Files (x86)\\Microsoft Visual Studio\\2019\\Community\\VC\\Tools\\MSVC\\14.29.30133\\ATLMFC\\lib\\x64 /LIBPATH:C:\\Program Files (x86)\\Microsoft Visual Studio\\2019\\Community\\VC\\Tools\\MSVC\\14.29.30133\\lib\\x64 /LIBPATH:C:\\Program Files (x86)\\Windows Kits\\10\\lib\\10.0.19041.0\\ucrt\\x64 /LIBPATH:C:\\Program Files (x86)\\Windows Kits\\10\\lib\\10.0.19041.0\\um\\x64 /EXPORT:PyInit__criterion build\\temp.win-amd64-3.8\\Release\\skgarden\\mondrian\\tree\\_criterion.obj /OUT:build\\lib.win-amd64-3.8\\skgarden\\mondrian\\tree\\_criterion.cp38-win_amd64.pyd /IMPLIB:build\\temp.win-amd64-3.8\\Release\\skgarden\\mondrian\\tree\\_criterion.cp38-win_amd64.lib\n",
      "  building 'skgarden.mondrian.tree._utils' extension\n",
      "  compiling C sources\n",
      "  C:\\Program Files (x86)\\Microsoft Visual Studio\\2019\\Community\\VC\\Tools\\MSVC\\14.29.30133\\bin\\HostX86\\x64\\cl.exe /c /nologo /Ox /W3 /GL /DNDEBUG /MD -IC:\\Users\\Wayne Linn\\anaconda3\\lib\\site-packages\\numpy\\core\\include -IC:\\Users\\Wayne Linn\\anaconda3\\lib\\site-packages\\numpy\\core\\include -IC:\\Users\\Wayne Linn\\anaconda3\\include -IC:\\Users\\Wayne Linn\\anaconda3\\include -IC:\\Program Files (x86)\\Microsoft Visual Studio\\2019\\Community\\VC\\Tools\\MSVC\\14.29.30133\\ATLMFC\\include -IC:\\Program Files (x86)\\Microsoft Visual Studio\\2019\\Community\\VC\\Tools\\MSVC\\14.29.30133\\include -IC:\\Program Files (x86)\\Windows Kits\\10\\include\\10.0.19041.0\\ucrt -IC:\\Program Files (x86)\\Windows Kits\\10\\include\\10.0.19041.0\\shared -IC:\\Program Files (x86)\\Windows Kits\\10\\include\\10.0.19041.0\\um -IC:\\Program Files (x86)\\Windows Kits\\10\\include\\10.0.19041.0\\winrt -IC:\\Program Files (x86)\\Windows Kits\\10\\include\\10.0.19041.0\\cppwinrt /Tcskgarden\\mondrian\\tree\\_utils.c /Fobuild\\temp.win-amd64-3.8\\Release\\skgarden\\mondrian\\tree\\_utils.obj -O3\n",
      "  cl : Command line warning D9002 : ignoring unknown option '-O3'\n",
      "  C:\\Program Files (x86)\\Microsoft Visual Studio\\2019\\Community\\VC\\Tools\\MSVC\\14.29.30133\\bin\\HostX86\\x64\\link.exe /nologo /INCREMENTAL:NO /LTCG /DLL /MANIFEST:EMBED,ID=2 /MANIFESTUAC:NO /LIBPATH:C:\\Users\\Wayne Linn\\anaconda3\\libs /LIBPATH:C:\\Users\\Wayne Linn\\anaconda3\\PCbuild\\amd64 /LIBPATH:C:\\Program Files (x86)\\Microsoft Visual Studio\\2019\\Community\\VC\\Tools\\MSVC\\14.29.30133\\ATLMFC\\lib\\x64 /LIBPATH:C:\\Program Files (x86)\\Microsoft Visual Studio\\2019\\Community\\VC\\Tools\\MSVC\\14.29.30133\\lib\\x64 /LIBPATH:C:\\Program Files (x86)\\Windows Kits\\10\\lib\\10.0.19041.0\\ucrt\\x64 /LIBPATH:C:\\Program Files (x86)\\Windows Kits\\10\\lib\\10.0.19041.0\\um\\x64 /EXPORT:PyInit__utils build\\temp.win-amd64-3.8\\Release\\skgarden\\mondrian\\tree\\_utils.obj /OUT:build\\lib.win-amd64-3.8\\skgarden\\mondrian\\tree\\_utils.cp38-win_amd64.pyd /IMPLIB:build\\temp.win-amd64-3.8\\Release\\skgarden\\mondrian\\tree\\_utils.cp38-win_amd64.lib\n",
      "  installing to build\\bdist.win-amd64\\wheel\n",
      "  running install\n",
      "  running install_lib\n",
      "  creating build\\bdist.win-amd64\n",
      "  creating build\\bdist.win-amd64\\wheel\n",
      "  creating build\\bdist.win-amd64\\wheel\\skgarden\n",
      "  copying build\\lib.win-amd64-3.8\\skgarden\\forest.py -> build\\bdist.win-amd64\\wheel\\.\\skgarden\n",
      "  creating build\\bdist.win-amd64\\wheel\\skgarden\\mondrian\n",
      "  creating build\\bdist.win-amd64\\wheel\\skgarden\\mondrian\\ensemble\n",
      "  copying build\\lib.win-amd64-3.8\\skgarden\\mondrian\\ensemble\\forest.py -> build\\bdist.win-amd64\\wheel\\.\\skgarden\\mondrian\\ensemble\n",
      "  copying build\\lib.win-amd64-3.8\\skgarden\\mondrian\\ensemble\\setup.py -> build\\bdist.win-amd64\\wheel\\.\\skgarden\\mondrian\\ensemble\n",
      "  copying build\\lib.win-amd64-3.8\\skgarden\\mondrian\\ensemble\\__init__.py -> build\\bdist.win-amd64\\wheel\\.\\skgarden\\mondrian\\ensemble\n",
      "  copying build\\lib.win-amd64-3.8\\skgarden\\mondrian\\setup.py -> build\\bdist.win-amd64\\wheel\\.\\skgarden\\mondrian\n",
      "  creating build\\bdist.win-amd64\\wheel\\skgarden\\mondrian\\tree\n",
      "  copying build\\lib.win-amd64-3.8\\skgarden\\mondrian\\tree\\setup.py -> build\\bdist.win-amd64\\wheel\\.\\skgarden\\mondrian\\tree\n",
      "  copying build\\lib.win-amd64-3.8\\skgarden\\mondrian\\tree\\tree.py -> build\\bdist.win-amd64\\wheel\\.\\skgarden\\mondrian\\tree\n",
      "  copying build\\lib.win-amd64-3.8\\skgarden\\mondrian\\tree\\_criterion.cp38-win_amd64.pyd -> build\\bdist.win-amd64\\wheel\\.\\skgarden\\mondrian\\tree\n",
      "  copying build\\lib.win-amd64-3.8\\skgarden\\mondrian\\tree\\_splitter.cp38-win_amd64.pyd -> build\\bdist.win-amd64\\wheel\\.\\skgarden\\mondrian\\tree\n",
      "  copying build\\lib.win-amd64-3.8\\skgarden\\mondrian\\tree\\_tree.cp38-win_amd64.pyd -> build\\bdist.win-amd64\\wheel\\.\\skgarden\\mondrian\\tree\n",
      "  copying build\\lib.win-amd64-3.8\\skgarden\\mondrian\\tree\\_utils.cp38-win_amd64.pyd -> build\\bdist.win-amd64\\wheel\\.\\skgarden\\mondrian\\tree\n",
      "  copying build\\lib.win-amd64-3.8\\skgarden\\mondrian\\tree\\__init__.py -> build\\bdist.win-amd64\\wheel\\.\\skgarden\\mondrian\\tree\n",
      "  copying build\\lib.win-amd64-3.8\\skgarden\\mondrian\\__init__.py -> build\\bdist.win-amd64\\wheel\\.\\skgarden\\mondrian\n",
      "  creating build\\bdist.win-amd64\\wheel\\skgarden\\quantile\n",
      "  copying build\\lib.win-amd64-3.8\\skgarden\\quantile\\ensemble.py -> build\\bdist.win-amd64\\wheel\\.\\skgarden\\quantile\n",
      "  copying build\\lib.win-amd64-3.8\\skgarden\\quantile\\setup.py -> build\\bdist.win-amd64\\wheel\\.\\skgarden\\quantile\n",
      "  copying build\\lib.win-amd64-3.8\\skgarden\\quantile\\tree.py -> build\\bdist.win-amd64\\wheel\\.\\skgarden\\quantile\n",
      "  copying build\\lib.win-amd64-3.8\\skgarden\\quantile\\utils.py -> build\\bdist.win-amd64\\wheel\\.\\skgarden\\quantile\n",
      "  copying build\\lib.win-amd64-3.8\\skgarden\\quantile\\__init__.py -> build\\bdist.win-amd64\\wheel\\.\\skgarden\\quantile\n",
      "  copying build\\lib.win-amd64-3.8\\skgarden\\setup.py -> build\\bdist.win-amd64\\wheel\\.\\skgarden\n",
      "  copying build\\lib.win-amd64-3.8\\skgarden\\__init__.py -> build\\bdist.win-amd64\\wheel\\.\\skgarden\n",
      "  running install_egg_info\n",
      "  running egg_info\n",
      "  writing scikit_garden.egg-info\\PKG-INFO\n",
      "  writing dependency_links to scikit_garden.egg-info\\dependency_links.txt\n",
      "  writing requirements to scikit_garden.egg-info\\requires.txt\n",
      "  writing top-level names to scikit_garden.egg-info\\top_level.txt\n",
      "  reading manifest file 'scikit_garden.egg-info\\SOURCES.txt'\n",
      "  Traceback (most recent call last):\n",
      "    File \"<string>\", line 1, in <module>\n",
      "    File \"C:\\Users\\Wayne Linn\\AppData\\Local\\Temp\\pip-install-6a8ac02w\\scikit-garden\\setup.py\", line 36, in <module>\n",
      "      setup(configuration=configuration,\n",
      "    File \"C:\\Users\\Wayne Linn\\anaconda3\\lib\\site-packages\\numpy\\distutils\\core.py\", line 169, in setup\n",
      "      return old_setup(**new_attr)\n",
      "    File \"C:\\Users\\Wayne Linn\\anaconda3\\lib\\site-packages\\setuptools\\__init__.py\", line 153, in setup\n",
      "      return distutils.core.setup(**attrs)\n",
      "    File \"C:\\Users\\Wayne Linn\\anaconda3\\lib\\distutils\\core.py\", line 148, in setup\n",
      "      dist.run_commands()\n",
      "    File \"C:\\Users\\Wayne Linn\\anaconda3\\lib\\distutils\\dist.py\", line 966, in run_commands\n",
      "      self.run_command(cmd)\n",
      "    File \"C:\\Users\\Wayne Linn\\anaconda3\\lib\\distutils\\dist.py\", line 985, in run_command\n",
      "      cmd_obj.run()\n",
      "    File \"C:\\Users\\Wayne Linn\\AppData\\Roaming\\Python\\Python38\\site-packages\\wheel\\bdist_wheel.py\", line 326, in run\n",
      "      self.run_command('install')\n",
      "    File \"C:\\Users\\Wayne Linn\\anaconda3\\lib\\distutils\\cmd.py\", line 313, in run_command\n",
      "      self.distribution.run_command(command)\n",
      "    File \"C:\\Users\\Wayne Linn\\anaconda3\\lib\\distutils\\dist.py\", line 985, in run_command\n",
      "      cmd_obj.run()\n",
      "    File \"C:\\Users\\Wayne Linn\\anaconda3\\lib\\site-packages\\numpy\\distutils\\command\\install.py\", line 60, in run\n",
      "      r = self.setuptools_run()\n",
      "    File \"C:\\Users\\Wayne Linn\\anaconda3\\lib\\site-packages\\numpy\\distutils\\command\\install.py\", line 34, in setuptools_run\n",
      "      return distutils_install.run(self)\n",
      "    File \"C:\\Users\\Wayne Linn\\anaconda3\\lib\\distutils\\command\\install.py\", line 557, in run\n",
      "      self.run_command(cmd_name)\n",
      "    File \"C:\\Users\\Wayne Linn\\anaconda3\\lib\\distutils\\cmd.py\", line 313, in run_command\n",
      "      self.distribution.run_command(command)\n",
      "    File \"C:\\Users\\Wayne Linn\\anaconda3\\lib\\distutils\\dist.py\", line 985, in run_command\n",
      "      cmd_obj.run()\n",
      "    File \"C:\\Users\\Wayne Linn\\anaconda3\\lib\\site-packages\\setuptools\\command\\install_egg_info.py\", line 34, in run\n",
      "      self.run_command('egg_info')\n",
      "    File \"C:\\Users\\Wayne Linn\\anaconda3\\lib\\distutils\\cmd.py\", line 313, in run_command\n",
      "      self.distribution.run_command(command)\n",
      "    File \"C:\\Users\\Wayne Linn\\anaconda3\\lib\\distutils\\dist.py\", line 985, in run_command\n",
      "      cmd_obj.run()\n",
      "    File \"C:\\Users\\Wayne Linn\\anaconda3\\lib\\site-packages\\numpy\\distutils\\command\\egg_info.py\", line 25, in run\n",
      "      _egg_info.run(self)\n",
      "    File \"C:\\Users\\Wayne Linn\\anaconda3\\lib\\site-packages\\setuptools\\command\\egg_info.py\", line 298, in run\n",
      "      self.find_sources()\n",
      "    File \"C:\\Users\\Wayne Linn\\anaconda3\\lib\\site-packages\\setuptools\\command\\egg_info.py\", line 305, in find_sources\n",
      "      mm.run()\n",
      "    File \"C:\\Users\\Wayne Linn\\anaconda3\\lib\\site-packages\\setuptools\\command\\egg_info.py\", line 536, in run\n",
      "      self.add_defaults()\n",
      "    File \"C:\\Users\\Wayne Linn\\anaconda3\\lib\\site-packages\\setuptools\\command\\egg_info.py\", line 580, in add_defaults\n",
      "      self.read_manifest()\n",
      "    File \"C:\\Users\\Wayne Linn\\anaconda3\\lib\\site-packages\\setuptools\\command\\sdist.py\", line 190, in read_manifest\n",
      "      self.filelist.append(line)\n",
      "    File \"C:\\Users\\Wayne Linn\\anaconda3\\lib\\site-packages\\setuptools\\command\\egg_info.py\", line 478, in append\n",
      "      path = convert_path(item)\n",
      "    File \"C:\\Users\\Wayne Linn\\anaconda3\\lib\\distutils\\util.py\", line 122, in convert_path\n",
      "      raise ValueError(\"path '%s' cannot be absolute\" % pathname)\n",
      "  ValueError: path '/usr/local/lib/python3.5/dist-packages/numpy/core/include/numpy/arrayobject.h' cannot be absolute\n",
      "  ----------------------------------------\n",
      "  ERROR: Failed building wheel for scikit-garden\n",
      "    ERROR: Command errored out with exit status 1:\n",
      "     command: 'C:\\Users\\Wayne Linn\\anaconda3\\python.exe' -u -c 'import sys, setuptools, tokenize; sys.argv[0] = '\"'\"'C:\\\\Users\\\\Wayne Linn\\\\AppData\\\\Local\\\\Temp\\\\pip-install-6a8ac02w\\\\scikit-garden\\\\setup.py'\"'\"'; __file__='\"'\"'C:\\\\Users\\\\Wayne Linn\\\\AppData\\\\Local\\\\Temp\\\\pip-install-6a8ac02w\\\\scikit-garden\\\\setup.py'\"'\"';f=getattr(tokenize, '\"'\"'open'\"'\"', open)(__file__);code=f.read().replace('\"'\"'\\r\\n'\"'\"', '\"'\"'\\n'\"'\"');f.close();exec(compile(code, __file__, '\"'\"'exec'\"'\"'))' install --record 'C:\\Users\\Wayne Linn\\AppData\\Local\\Temp\\pip-record-06aatsw3\\install-record.txt' --single-version-externally-managed --compile --install-headers 'C:\\Users\\Wayne Linn\\anaconda3\\Include\\scikit-garden'\n",
      "         cwd: C:\\Users\\Wayne Linn\\AppData\\Local\\Temp\\pip-install-6a8ac02w\\scikit-garden\\\n",
      "    Complete output (133 lines):\n",
      "    Appending skgarden.mondrian.tree configuration to skgarden.mondrian\n",
      "    Ignoring attempt to set 'name' (from 'skgarden.mondrian' to 'skgarden.mondrian.tree')\n",
      "    Appending skgarden.mondrian.ensemble configuration to skgarden.mondrian\n",
      "    Ignoring attempt to set 'name' (from 'skgarden.mondrian' to 'skgarden.mondrian.ensemble')\n",
      "    Appending skgarden.mondrian configuration to skgarden\n",
      "    Ignoring attempt to set 'name' (from 'skgarden' to 'skgarden.mondrian')\n",
      "    Appending skgarden.quantile configuration to skgarden\n",
      "    Ignoring attempt to set 'name' (from 'skgarden' to 'skgarden.quantile')\n",
      "    Appending skgarden configuration to\n",
      "    Ignoring attempt to set 'name' (from '' to 'skgarden')\n",
      "    running install\n",
      "    running build\n",
      "    running config_cc\n",
      "    unifing config_cc, config, build_clib, build_ext, build commands --compiler options\n",
      "    running config_fc\n",
      "    unifing config_fc, config, build_clib, build_ext, build commands --fcompiler options\n",
      "    running build_src\n",
      "    build_src\n",
      "    building extension \"skgarden.mondrian.tree._tree\" sources\n",
      "    building extension \"skgarden.mondrian.tree._splitter\" sources\n",
      "    building extension \"skgarden.mondrian.tree._criterion\" sources\n",
      "    building extension \"skgarden.mondrian.tree._utils\" sources\n",
      "    build_src: building npy-pkg config files\n",
      "    running build_py\n",
      "    creating build\n",
      "    creating build\\lib.win-amd64-3.8\n",
      "    creating build\\lib.win-amd64-3.8\\skgarden\n",
      "    copying skgarden\\forest.py -> build\\lib.win-amd64-3.8\\skgarden\n",
      "    copying skgarden\\setup.py -> build\\lib.win-amd64-3.8\\skgarden\n",
      "    copying skgarden\\__init__.py -> build\\lib.win-amd64-3.8\\skgarden\n",
      "    creating build\\lib.win-amd64-3.8\\skgarden\\mondrian\n",
      "    copying skgarden\\mondrian\\setup.py -> build\\lib.win-amd64-3.8\\skgarden\\mondrian\n",
      "    copying skgarden\\mondrian\\__init__.py -> build\\lib.win-amd64-3.8\\skgarden\\mondrian\n",
      "    creating build\\lib.win-amd64-3.8\\skgarden\\quantile\n",
      "    copying skgarden\\quantile\\ensemble.py -> build\\lib.win-amd64-3.8\\skgarden\\quantile\n",
      "    copying skgarden\\quantile\\setup.py -> build\\lib.win-amd64-3.8\\skgarden\\quantile\n",
      "    copying skgarden\\quantile\\tree.py -> build\\lib.win-amd64-3.8\\skgarden\\quantile\n",
      "    copying skgarden\\quantile\\utils.py -> build\\lib.win-amd64-3.8\\skgarden\\quantile\n",
      "    copying skgarden\\quantile\\__init__.py -> build\\lib.win-amd64-3.8\\skgarden\\quantile\n",
      "    creating build\\lib.win-amd64-3.8\\skgarden\\mondrian\\ensemble\n",
      "    copying skgarden\\mondrian\\ensemble\\forest.py -> build\\lib.win-amd64-3.8\\skgarden\\mondrian\\ensemble\n",
      "    copying skgarden\\mondrian\\ensemble\\setup.py -> build\\lib.win-amd64-3.8\\skgarden\\mondrian\\ensemble\n",
      "    copying skgarden\\mondrian\\ensemble\\__init__.py -> build\\lib.win-amd64-3.8\\skgarden\\mondrian\\ensemble\n",
      "    creating build\\lib.win-amd64-3.8\\skgarden\\mondrian\\tree\n",
      "    copying skgarden\\mondrian\\tree\\setup.py -> build\\lib.win-amd64-3.8\\skgarden\\mondrian\\tree\n",
      "    copying skgarden\\mondrian\\tree\\tree.py -> build\\lib.win-amd64-3.8\\skgarden\\mondrian\\tree\n",
      "    copying skgarden\\mondrian\\tree\\__init__.py -> build\\lib.win-amd64-3.8\\skgarden\\mondrian\\tree\n",
      "    running build_ext\n",
      "    No module named 'numpy.distutils._msvccompiler' in numpy.distutils; trying from distutils\n",
      "    customize MSVCCompiler\n",
      "    customize MSVCCompiler using build_ext\n",
      "    building 'skgarden.mondrian.tree._tree' extension\n",
      "    compiling C sources\n",
      "    creating build\\temp.win-amd64-3.8\\Release\\skgarden\n",
      "    creating build\\temp.win-amd64-3.8\\Release\\skgarden\\mondrian\n",
      "    creating build\\temp.win-amd64-3.8\\Release\\skgarden\\mondrian\\tree\n",
      "    C:\\Program Files (x86)\\Microsoft Visual Studio\\2019\\Community\\VC\\Tools\\MSVC\\14.29.30133\\bin\\HostX86\\x64\\cl.exe /c /nologo /Ox /W3 /GL /DNDEBUG /MD -IC:\\Users\\Wayne Linn\\anaconda3\\lib\\site-packages\\numpy\\core\\include -IC:\\Users\\Wayne Linn\\anaconda3\\lib\\site-packages\\numpy\\core\\include -IC:\\Users\\Wayne Linn\\anaconda3\\include -IC:\\Users\\Wayne Linn\\anaconda3\\include -IC:\\Program Files (x86)\\Microsoft Visual Studio\\2019\\Community\\VC\\Tools\\MSVC\\14.29.30133\\ATLMFC\\include -IC:\\Program Files (x86)\\Microsoft Visual Studio\\2019\\Community\\VC\\Tools\\MSVC\\14.29.30133\\include -IC:\\Program Files (x86)\\Windows Kits\\10\\include\\10.0.19041.0\\ucrt -IC:\\Program Files (x86)\\Windows Kits\\10\\include\\10.0.19041.0\\shared -IC:\\Program Files (x86)\\Windows Kits\\10\\include\\10.0.19041.0\\um -IC:\\Program Files (x86)\\Windows Kits\\10\\include\\10.0.19041.0\\winrt -IC:\\Program Files (x86)\\Windows Kits\\10\\include\\10.0.19041.0\\cppwinrt /Tcskgarden\\mondrian\\tree\\_tree.c /Fobuild\\temp.win-amd64-3.8\\Release\\skgarden\\mondrian\\tree\\_tree.obj -O3\n",
      "    cl : Command line warning D9002 : ignoring unknown option '-O3'\n",
      "    C:\\Program Files (x86)\\Microsoft Visual Studio\\2019\\Community\\VC\\Tools\\MSVC\\14.29.30133\\bin\\HostX86\\x64\\link.exe /nologo /INCREMENTAL:NO /LTCG /DLL /MANIFEST:EMBED,ID=2 /MANIFESTUAC:NO /LIBPATH:C:\\Users\\Wayne Linn\\anaconda3\\libs /LIBPATH:C:\\Users\\Wayne Linn\\anaconda3\\PCbuild\\amd64 /LIBPATH:C:\\Program Files (x86)\\Microsoft Visual Studio\\2019\\Community\\VC\\Tools\\MSVC\\14.29.30133\\ATLMFC\\lib\\x64 /LIBPATH:C:\\Program Files (x86)\\Microsoft Visual Studio\\2019\\Community\\VC\\Tools\\MSVC\\14.29.30133\\lib\\x64 /LIBPATH:C:\\Program Files (x86)\\Windows Kits\\10\\lib\\10.0.19041.0\\ucrt\\x64 /LIBPATH:C:\\Program Files (x86)\\Windows Kits\\10\\lib\\10.0.19041.0\\um\\x64 /EXPORT:PyInit__tree build\\temp.win-amd64-3.8\\Release\\skgarden\\mondrian\\tree\\_tree.obj /OUT:build\\lib.win-amd64-3.8\\skgarden\\mondrian\\tree\\_tree.cp38-win_amd64.pyd /IMPLIB:build\\temp.win-amd64-3.8\\Release\\skgarden\\mondrian\\tree\\_tree.cp38-win_amd64.lib\n",
      "    building 'skgarden.mondrian.tree._splitter' extension\n",
      "    compiling C sources\n",
      "    C:\\Program Files (x86)\\Microsoft Visual Studio\\2019\\Community\\VC\\Tools\\MSVC\\14.29.30133\\bin\\HostX86\\x64\\cl.exe /c /nologo /Ox /W3 /GL /DNDEBUG /MD -IC:\\Users\\Wayne Linn\\anaconda3\\lib\\site-packages\\numpy\\core\\include -IC:\\Users\\Wayne Linn\\anaconda3\\lib\\site-packages\\numpy\\core\\include -IC:\\Users\\Wayne Linn\\anaconda3\\include -IC:\\Users\\Wayne Linn\\anaconda3\\include -IC:\\Program Files (x86)\\Microsoft Visual Studio\\2019\\Community\\VC\\Tools\\MSVC\\14.29.30133\\ATLMFC\\include -IC:\\Program Files (x86)\\Microsoft Visual Studio\\2019\\Community\\VC\\Tools\\MSVC\\14.29.30133\\include -IC:\\Program Files (x86)\\Windows Kits\\10\\include\\10.0.19041.0\\ucrt -IC:\\Program Files (x86)\\Windows Kits\\10\\include\\10.0.19041.0\\shared -IC:\\Program Files (x86)\\Windows Kits\\10\\include\\10.0.19041.0\\um -IC:\\Program Files (x86)\\Windows Kits\\10\\include\\10.0.19041.0\\winrt -IC:\\Program Files (x86)\\Windows Kits\\10\\include\\10.0.19041.0\\cppwinrt /Tcskgarden\\mondrian\\tree\\_splitter.c /Fobuild\\temp.win-amd64-3.8\\Release\\skgarden\\mondrian\\tree\\_splitter.obj -O3\n",
      "    cl : Command line warning D9002 : ignoring unknown option '-O3'\n",
      "    C:\\Program Files (x86)\\Microsoft Visual Studio\\2019\\Community\\VC\\Tools\\MSVC\\14.29.30133\\bin\\HostX86\\x64\\link.exe /nologo /INCREMENTAL:NO /LTCG /DLL /MANIFEST:EMBED,ID=2 /MANIFESTUAC:NO /LIBPATH:C:\\Users\\Wayne Linn\\anaconda3\\libs /LIBPATH:C:\\Users\\Wayne Linn\\anaconda3\\PCbuild\\amd64 /LIBPATH:C:\\Program Files (x86)\\Microsoft Visual Studio\\2019\\Community\\VC\\Tools\\MSVC\\14.29.30133\\ATLMFC\\lib\\x64 /LIBPATH:C:\\Program Files (x86)\\Microsoft Visual Studio\\2019\\Community\\VC\\Tools\\MSVC\\14.29.30133\\lib\\x64 /LIBPATH:C:\\Program Files (x86)\\Windows Kits\\10\\lib\\10.0.19041.0\\ucrt\\x64 /LIBPATH:C:\\Program Files (x86)\\Windows Kits\\10\\lib\\10.0.19041.0\\um\\x64 /EXPORT:PyInit__splitter build\\temp.win-amd64-3.8\\Release\\skgarden\\mondrian\\tree\\_splitter.obj /OUT:build\\lib.win-amd64-3.8\\skgarden\\mondrian\\tree\\_splitter.cp38-win_amd64.pyd /IMPLIB:build\\temp.win-amd64-3.8\\Release\\skgarden\\mondrian\\tree\\_splitter.cp38-win_amd64.lib\n",
      "    building 'skgarden.mondrian.tree._criterion' extension\n",
      "    compiling C sources\n",
      "    C:\\Program Files (x86)\\Microsoft Visual Studio\\2019\\Community\\VC\\Tools\\MSVC\\14.29.30133\\bin\\HostX86\\x64\\cl.exe /c /nologo /Ox /W3 /GL /DNDEBUG /MD -IC:\\Users\\Wayne Linn\\anaconda3\\lib\\site-packages\\numpy\\core\\include -IC:\\Users\\Wayne Linn\\anaconda3\\lib\\site-packages\\numpy\\core\\include -IC:\\Users\\Wayne Linn\\anaconda3\\include -IC:\\Users\\Wayne Linn\\anaconda3\\include -IC:\\Program Files (x86)\\Microsoft Visual Studio\\2019\\Community\\VC\\Tools\\MSVC\\14.29.30133\\ATLMFC\\include -IC:\\Program Files (x86)\\Microsoft Visual Studio\\2019\\Community\\VC\\Tools\\MSVC\\14.29.30133\\include -IC:\\Program Files (x86)\\Windows Kits\\10\\include\\10.0.19041.0\\ucrt -IC:\\Program Files (x86)\\Windows Kits\\10\\include\\10.0.19041.0\\shared -IC:\\Program Files (x86)\\Windows Kits\\10\\include\\10.0.19041.0\\um -IC:\\Program Files (x86)\\Windows Kits\\10\\include\\10.0.19041.0\\winrt -IC:\\Program Files (x86)\\Windows Kits\\10\\include\\10.0.19041.0\\cppwinrt /Tcskgarden\\mondrian\\tree\\_criterion.c /Fobuild\\temp.win-amd64-3.8\\Release\\skgarden\\mondrian\\tree\\_criterion.obj -O3\n",
      "    cl : Command line warning D9002 : ignoring unknown option '-O3'\n",
      "    C:\\Program Files (x86)\\Microsoft Visual Studio\\2019\\Community\\VC\\Tools\\MSVC\\14.29.30133\\bin\\HostX86\\x64\\link.exe /nologo /INCREMENTAL:NO /LTCG /DLL /MANIFEST:EMBED,ID=2 /MANIFESTUAC:NO /LIBPATH:C:\\Users\\Wayne Linn\\anaconda3\\libs /LIBPATH:C:\\Users\\Wayne Linn\\anaconda3\\PCbuild\\amd64 /LIBPATH:C:\\Program Files (x86)\\Microsoft Visual Studio\\2019\\Community\\VC\\Tools\\MSVC\\14.29.30133\\ATLMFC\\lib\\x64 /LIBPATH:C:\\Program Files (x86)\\Microsoft Visual Studio\\2019\\Community\\VC\\Tools\\MSVC\\14.29.30133\\lib\\x64 /LIBPATH:C:\\Program Files (x86)\\Windows Kits\\10\\lib\\10.0.19041.0\\ucrt\\x64 /LIBPATH:C:\\Program Files (x86)\\Windows Kits\\10\\lib\\10.0.19041.0\\um\\x64 /EXPORT:PyInit__criterion build\\temp.win-amd64-3.8\\Release\\skgarden\\mondrian\\tree\\_criterion.obj /OUT:build\\lib.win-amd64-3.8\\skgarden\\mondrian\\tree\\_criterion.cp38-win_amd64.pyd /IMPLIB:build\\temp.win-amd64-3.8\\Release\\skgarden\\mondrian\\tree\\_criterion.cp38-win_amd64.lib\n",
      "    building 'skgarden.mondrian.tree._utils' extension\n",
      "    compiling C sources\n",
      "    C:\\Program Files (x86)\\Microsoft Visual Studio\\2019\\Community\\VC\\Tools\\MSVC\\14.29.30133\\bin\\HostX86\\x64\\cl.exe /c /nologo /Ox /W3 /GL /DNDEBUG /MD -IC:\\Users\\Wayne Linn\\anaconda3\\lib\\site-packages\\numpy\\core\\include -IC:\\Users\\Wayne Linn\\anaconda3\\lib\\site-packages\\numpy\\core\\include -IC:\\Users\\Wayne Linn\\anaconda3\\include -IC:\\Users\\Wayne Linn\\anaconda3\\include -IC:\\Program Files (x86)\\Microsoft Visual Studio\\2019\\Community\\VC\\Tools\\MSVC\\14.29.30133\\ATLMFC\\include -IC:\\Program Files (x86)\\Microsoft Visual Studio\\2019\\Community\\VC\\Tools\\MSVC\\14.29.30133\\include -IC:\\Program Files (x86)\\Windows Kits\\10\\include\\10.0.19041.0\\ucrt -IC:\\Program Files (x86)\\Windows Kits\\10\\include\\10.0.19041.0\\shared -IC:\\Program Files (x86)\\Windows Kits\\10\\include\\10.0.19041.0\\um -IC:\\Program Files (x86)\\Windows Kits\\10\\include\\10.0.19041.0\\winrt -IC:\\Program Files (x86)\\Windows Kits\\10\\include\\10.0.19041.0\\cppwinrt /Tcskgarden\\mondrian\\tree\\_utils.c /Fobuild\\temp.win-amd64-3.8\\Release\\skgarden\\mondrian\\tree\\_utils.obj -O3\n",
      "    cl : Command line warning D9002 : ignoring unknown option '-O3'\n",
      "    C:\\Program Files (x86)\\Microsoft Visual Studio\\2019\\Community\\VC\\Tools\\MSVC\\14.29.30133\\bin\\HostX86\\x64\\link.exe /nologo /INCREMENTAL:NO /LTCG /DLL /MANIFEST:EMBED,ID=2 /MANIFESTUAC:NO /LIBPATH:C:\\Users\\Wayne Linn\\anaconda3\\libs /LIBPATH:C:\\Users\\Wayne Linn\\anaconda3\\PCbuild\\amd64 /LIBPATH:C:\\Program Files (x86)\\Microsoft Visual Studio\\2019\\Community\\VC\\Tools\\MSVC\\14.29.30133\\ATLMFC\\lib\\x64 /LIBPATH:C:\\Program Files (x86)\\Microsoft Visual Studio\\2019\\Community\\VC\\Tools\\MSVC\\14.29.30133\\lib\\x64 /LIBPATH:C:\\Program Files (x86)\\Windows Kits\\10\\lib\\10.0.19041.0\\ucrt\\x64 /LIBPATH:C:\\Program Files (x86)\\Windows Kits\\10\\lib\\10.0.19041.0\\um\\x64 /EXPORT:PyInit__utils build\\temp.win-amd64-3.8\\Release\\skgarden\\mondrian\\tree\\_utils.obj /OUT:build\\lib.win-amd64-3.8\\skgarden\\mondrian\\tree\\_utils.cp38-win_amd64.pyd /IMPLIB:build\\temp.win-amd64-3.8\\Release\\skgarden\\mondrian\\tree\\_utils.cp38-win_amd64.lib\n",
      "    running install_lib\n",
      "    copying build\\lib.win-amd64-3.8\\skgarden\\mondrian\\tree\\_criterion.cp38-win_amd64.pyd -> C:\\Users\\Wayne Linn\\anaconda3\\Lib\\site-packages\\skgarden\\mondrian\\tree\n",
      "    copying build\\lib.win-amd64-3.8\\skgarden\\mondrian\\tree\\_splitter.cp38-win_amd64.pyd -> C:\\Users\\Wayne Linn\\anaconda3\\Lib\\site-packages\\skgarden\\mondrian\\tree\n",
      "    copying build\\lib.win-amd64-3.8\\skgarden\\mondrian\\tree\\_tree.cp38-win_amd64.pyd -> C:\\Users\\Wayne Linn\\anaconda3\\Lib\\site-packages\\skgarden\\mondrian\\tree\n",
      "    copying build\\lib.win-amd64-3.8\\skgarden\\mondrian\\tree\\_utils.cp38-win_amd64.pyd -> C:\\Users\\Wayne Linn\\anaconda3\\Lib\\site-packages\\skgarden\\mondrian\\tree\n",
      "    running install_egg_info\n",
      "    running egg_info\n",
      "    writing scikit_garden.egg-info\\PKG-INFO\n",
      "    writing dependency_links to scikit_garden.egg-info\\dependency_links.txt\n",
      "    writing requirements to scikit_garden.egg-info\\requires.txt\n",
      "    writing top-level names to scikit_garden.egg-info\\top_level.txt\n",
      "    reading manifest file 'scikit_garden.egg-info\\SOURCES.txt'\n",
      "    Traceback (most recent call last):\n",
      "      File \"<string>\", line 1, in <module>\n",
      "      File \"C:\\Users\\Wayne Linn\\AppData\\Local\\Temp\\pip-install-6a8ac02w\\scikit-garden\\setup.py\", line 36, in <module>\n",
      "        setup(configuration=configuration,\n",
      "      File \"C:\\Users\\Wayne Linn\\anaconda3\\lib\\site-packages\\numpy\\distutils\\core.py\", line 169, in setup\n",
      "        return old_setup(**new_attr)\n",
      "      File \"C:\\Users\\Wayne Linn\\anaconda3\\lib\\site-packages\\setuptools\\__init__.py\", line 153, in setup\n",
      "        return distutils.core.setup(**attrs)\n",
      "      File \"C:\\Users\\Wayne Linn\\anaconda3\\lib\\distutils\\core.py\", line 148, in setup\n",
      "        dist.run_commands()\n",
      "      File \"C:\\Users\\Wayne Linn\\anaconda3\\lib\\distutils\\dist.py\", line 966, in run_commands\n",
      "        self.run_command(cmd)\n",
      "      File \"C:\\Users\\Wayne Linn\\anaconda3\\lib\\distutils\\dist.py\", line 985, in run_command\n",
      "        cmd_obj.run()\n",
      "      File \"C:\\Users\\Wayne Linn\\anaconda3\\lib\\site-packages\\numpy\\distutils\\command\\install.py\", line 60, in run\n",
      "        r = self.setuptools_run()\n",
      "      File \"C:\\Users\\Wayne Linn\\anaconda3\\lib\\site-packages\\numpy\\distutils\\command\\install.py\", line 34, in setuptools_run\n",
      "        return distutils_install.run(self)\n",
      "      File \"C:\\Users\\Wayne Linn\\anaconda3\\lib\\distutils\\command\\install.py\", line 557, in run\n",
      "        self.run_command(cmd_name)\n",
      "      File \"C:\\Users\\Wayne Linn\\anaconda3\\lib\\distutils\\cmd.py\", line 313, in run_command\n",
      "        self.distribution.run_command(command)\n",
      "      File \"C:\\Users\\Wayne Linn\\anaconda3\\lib\\distutils\\dist.py\", line 985, in run_command\n",
      "        cmd_obj.run()\n",
      "      File \"C:\\Users\\Wayne Linn\\anaconda3\\lib\\site-packages\\setuptools\\command\\install_egg_info.py\", line 34, in run\n",
      "        self.run_command('egg_info')\n",
      "      File \"C:\\Users\\Wayne Linn\\anaconda3\\lib\\distutils\\cmd.py\", line 313, in run_command\n",
      "        self.distribution.run_command(command)\n",
      "      File \"C:\\Users\\Wayne Linn\\anaconda3\\lib\\distutils\\dist.py\", line 985, in run_command\n",
      "        cmd_obj.run()\n",
      "      File \"C:\\Users\\Wayne Linn\\anaconda3\\lib\\site-packages\\numpy\\distutils\\command\\egg_info.py\", line 25, in run\n",
      "        _egg_info.run(self)\n",
      "      File \"C:\\Users\\Wayne Linn\\anaconda3\\lib\\site-packages\\setuptools\\command\\egg_info.py\", line 298, in run\n",
      "        self.find_sources()\n",
      "      File \"C:\\Users\\Wayne Linn\\anaconda3\\lib\\site-packages\\setuptools\\command\\egg_info.py\", line 305, in find_sources\n",
      "        mm.run()\n",
      "      File \"C:\\Users\\Wayne Linn\\anaconda3\\lib\\site-packages\\setuptools\\command\\egg_info.py\", line 536, in run\n",
      "        self.add_defaults()\n",
      "      File \"C:\\Users\\Wayne Linn\\anaconda3\\lib\\site-packages\\setuptools\\command\\egg_info.py\", line 580, in add_defaults\n",
      "        self.read_manifest()\n",
      "      File \"C:\\Users\\Wayne Linn\\anaconda3\\lib\\site-packages\\setuptools\\command\\sdist.py\", line 190, in read_manifest\n",
      "        self.filelist.append(line)\n",
      "      File \"C:\\Users\\Wayne Linn\\anaconda3\\lib\\site-packages\\setuptools\\command\\egg_info.py\", line 478, in append\n",
      "        path = convert_path(item)\n",
      "      File \"C:\\Users\\Wayne Linn\\anaconda3\\lib\\distutils\\util.py\", line 122, in convert_path\n",
      "        raise ValueError(\"path '%s' cannot be absolute\" % pathname)\n",
      "    ValueError: path '/usr/local/lib/python3.5/dist-packages/numpy/core/include/numpy/arrayobject.h' cannot be absolute\n",
      "    ----------------------------------------\n",
      "ERROR: Command errored out with exit status 1: 'C:\\Users\\Wayne Linn\\anaconda3\\python.exe' -u -c 'import sys, setuptools, tokenize; sys.argv[0] = '\"'\"'C:\\\\Users\\\\Wayne Linn\\\\AppData\\\\Local\\\\Temp\\\\pip-install-6a8ac02w\\\\scikit-garden\\\\setup.py'\"'\"'; __file__='\"'\"'C:\\\\Users\\\\Wayne Linn\\\\AppData\\\\Local\\\\Temp\\\\pip-install-6a8ac02w\\\\scikit-garden\\\\setup.py'\"'\"';f=getattr(tokenize, '\"'\"'open'\"'\"', open)(__file__);code=f.read().replace('\"'\"'\\r\\n'\"'\"', '\"'\"'\\n'\"'\"');f.close();exec(compile(code, __file__, '\"'\"'exec'\"'\"'))' install --record 'C:\\Users\\Wayne Linn\\AppData\\Local\\Temp\\pip-record-06aatsw3\\install-record.txt' --single-version-externally-managed --compile --install-headers 'C:\\Users\\Wayne Linn\\anaconda3\\Include\\scikit-garden' Check the logs for full command output.\n"
     ]
    },
    {
     "name": "stdout",
     "output_type": "stream",
     "text": [
      "Requirement already satisfied: setuptools in c:\\users\\wayne linn\\anaconda3\\lib\\site-packages (50.3.1.post20201107)\n",
      "Requirement already satisfied: numpy in c:\\users\\wayne linn\\anaconda3\\lib\\site-packages (1.19.2)\n",
      "Requirement already satisfied: scipy in c:\\users\\wayne linn\\anaconda3\\lib\\site-packages (1.5.2)\n",
      "Requirement already satisfied: scikit-learn in c:\\users\\wayne linn\\anaconda3\\lib\\site-packages (0.23.2)\n",
      "Requirement already satisfied: cython in c:\\users\\wayne linn\\anaconda3\\lib\\site-packages (0.29.21)\n",
      "Requirement already satisfied: joblib>=0.11 in c:\\users\\wayne linn\\anaconda3\\lib\\site-packages (from scikit-learn) (0.17.0)\n",
      "Requirement already satisfied: threadpoolctl>=2.0.0 in c:\\users\\wayne linn\\anaconda3\\lib\\site-packages (from scikit-learn) (2.1.0)\n"
     ]
    }
   ],
   "source": [
    "!pip install scikit-garden\n",
    "!pip install setuptools numpy scipy scikit-learn cython"
   ]
  },
  {
   "cell_type": "code",
   "execution_count": 1,
   "metadata": {},
   "outputs": [
    {
     "name": "stderr",
     "output_type": "stream",
     "text": [
      "C:\\Users\\Wayne Linn\\anaconda3\\lib\\site-packages\\sklearn\\utils\\deprecation.py:143: FutureWarning: The sklearn.ensemble.forest module is  deprecated in version 0.22 and will be removed in version 0.24. The corresponding classes / functions should instead be imported from sklearn.ensemble. Anything that cannot be imported from sklearn.ensemble is now part of the private API.\n",
      "  warnings.warn(message, FutureWarning)\n",
      "C:\\Users\\Wayne Linn\\anaconda3\\lib\\site-packages\\sklearn\\utils\\deprecation.py:143: FutureWarning: The sklearn.tree.tree module is  deprecated in version 0.22 and will be removed in version 0.24. The corresponding classes / functions should instead be imported from sklearn.tree. Anything that cannot be imported from sklearn.tree is now part of the private API.\n",
      "  warnings.warn(message, FutureWarning)\n"
     ]
    }
   ],
   "source": [
    "import six\n",
    "import sys\n",
    "sys.modules['sklearn.externals.six'] = six\n",
    "\n",
    "import pandas as pd\n",
    "import numpy as np\n",
    "import matplotlib.pyplot as plt\n",
    "from sklearn.pipeline import Pipeline\n",
    "from sklearn.model_selection import GridSearchCV\n",
    "from sklearn.decomposition import PCA\n",
    "from sklearn.metrics import mean_squared_error as MSE\n",
    "from sklearn.linear_model import LinearRegression\n",
    "from sklearn.preprocessing import PolynomialFeatures\n",
    "from sklearn.model_selection import train_test_split\n",
    "from sklearn.linear_model import Lasso\n",
    "from sklearn.neighbors import KNeighborsRegressor\n",
    "from sklearn.tree import DecisionTreeRegressor\n",
    "from sklearn.ensemble import RandomForestRegressor\n",
    "from sklearn.ensemble import GradientBoostingRegressor\n",
    "from skgarden import RandomForestQuantileRegressor\n",
    "\n",
    "import warnings\n",
    "warnings.filterwarnings(\"ignore\")"
   ]
  },
  {
   "cell_type": "code",
   "execution_count": 32,
   "metadata": {},
   "outputs": [],
   "source": [
    "np.random.seed(42)"
   ]
  },
  {
   "cell_type": "markdown",
   "metadata": {},
   "source": [
    "# 1. Import the train datasets"
   ]
  },
  {
   "cell_type": "code",
   "execution_count": 33,
   "metadata": {},
   "outputs": [],
   "source": [
    "X_train = pd.read_csv(\"data-train.csv\",index_col=0)\n",
    "Y_train = X_train.sales\n",
    "X_train = X_train.drop(['sales'],axis=1)"
   ]
  },
  {
   "cell_type": "code",
   "execution_count": 34,
   "metadata": {},
   "outputs": [],
   "source": [
    "#Model_1 = RandomForestQuantileRegressor(n_estimators=100)"
   ]
  },
  {
   "cell_type": "markdown",
   "metadata": {},
   "source": [
    "# 2. Setup Pipeline (Not Used)"
   ]
  },
  {
   "cell_type": "markdown",
   "metadata": {},
   "source": [
    "# Quantile Regression Forest is not stable and does not work well with GridSearchCV"
   ]
  },
  {
   "cell_type": "code",
   "execution_count": 5,
   "metadata": {},
   "outputs": [],
   "source": [
    "\n",
    "#RG = Model_1"
   ]
  },
  {
   "cell_type": "code",
   "execution_count": 6,
   "metadata": {},
   "outputs": [],
   "source": [
    "#pipe = Pipeline(steps=[(\"RG\",RG)])"
   ]
  },
  {
   "cell_type": "code",
   "execution_count": 7,
   "metadata": {},
   "outputs": [],
   "source": [
    "#param_grid = {\n",
    "    #\"pca__n_components\": [50, 100,170]\n",
    "}"
   ]
  },
  {
   "cell_type": "markdown",
   "metadata": {},
   "source": [
    "# 3. Setup GridSearch (Not Used)"
   ]
  },
  {
   "cell_type": "code",
   "execution_count": 71,
   "metadata": {},
   "outputs": [],
   "source": [
    "#score_metric = 'neg_mean_squared_error'\n",
    "#search = GridSearchCV(pipe,param_grid,\n",
    "#                      n_jobs=-1,\n",
    "#                      cv=10,\n",
    "#                      scoring=score_metric)"
   ]
  },
  {
   "cell_type": "code",
   "execution_count": 72,
   "metadata": {},
   "outputs": [],
   "source": [
    "#search.fit(X_train,Y_train.values.ravel())"
   ]
  },
  {
   "cell_type": "code",
   "execution_count": null,
   "metadata": {},
   "outputs": [],
   "source": [
    "print(\"Best parameter (CV score=%0.3f):\" % search.best_score_)\n",
    "print(search.best_params_)"
   ]
  },
  {
   "cell_type": "code",
   "execution_count": null,
   "metadata": {},
   "outputs": [],
   "source": [
    "#df = pd.DataFrame(search.cv_results_)\n",
    "#df = df.sort_values(by=['rank_test_score'])\n",
    "#df"
   ]
  },
  {
   "cell_type": "markdown",
   "metadata": {},
   "source": [
    "# 4. Best Hyperparameter (Not Used)"
   ]
  },
  {
   "cell_type": "code",
   "execution_count": null,
   "metadata": {},
   "outputs": [],
   "source": [
    "#parms = pd.DataFrame(df['params'])\n",
    "#for i in parms.iloc[0]:\n",
    "#    print(i)"
   ]
  },
  {
   "cell_type": "markdown",
   "metadata": {},
   "source": [
    "# 5. Evaluate Model "
   ]
  },
  {
   "cell_type": "code",
   "execution_count": 35,
   "metadata": {},
   "outputs": [],
   "source": [
    "\n",
    "best_n_est=1000"
   ]
  },
  {
   "cell_type": "code",
   "execution_count": 36,
   "metadata": {},
   "outputs": [],
   "source": [
    "Model_2 = RandomForestQuantileRegressor(n_estimators=best_n_est)"
   ]
  },
  {
   "cell_type": "code",
   "execution_count": 37,
   "metadata": {},
   "outputs": [],
   "source": [
    "X_train1,X_test1,Y_train1,Y_test1 = train_test_split(X_train,Y_train,test_size=0.2,random_state=132)\n"
   ]
  },
  {
   "cell_type": "code",
   "execution_count": 38,
   "metadata": {},
   "outputs": [
    {
     "data": {
      "text/plain": [
       "RandomForestQuantileRegressor(n_estimators=1000)"
      ]
     },
     "execution_count": 38,
     "metadata": {},
     "output_type": "execute_result"
    }
   ],
   "source": [
    "RG1 = Model_2\n",
    "RG1.fit(X_train1,Y_train1.values.ravel())"
   ]
  },
  {
   "cell_type": "code",
   "execution_count": null,
   "metadata": {},
   "outputs": [],
   "source": []
  },
  {
   "cell_type": "code",
   "execution_count": 39,
   "metadata": {},
   "outputs": [
    {
     "data": {
      "text/plain": [
       "311.97975670410364"
      ]
     },
     "execution_count": 39,
     "metadata": {},
     "output_type": "execute_result"
    }
   ],
   "source": [
    "MSE(RG1.predict(X_test1),Y_test1)"
   ]
  },
  {
   "cell_type": "code",
   "execution_count": 40,
   "metadata": {},
   "outputs": [],
   "source": [
    "result = pd.DataFrame(Y_test1)"
   ]
  },
  {
   "cell_type": "code",
   "execution_count": 41,
   "metadata": {},
   "outputs": [],
   "source": [
    "result[\"Predicted_sales\"] = RG1.predict(X_test1)"
   ]
  },
  {
   "cell_type": "code",
   "execution_count": 42,
   "metadata": {},
   "outputs": [
    {
     "data": {
      "text/plain": [
       "311.97975670410364"
      ]
     },
     "execution_count": 42,
     "metadata": {},
     "output_type": "execute_result"
    }
   ],
   "source": [
    "MSE(result[\"sales\"],result[\"Predicted_sales\"])"
   ]
  },
  {
   "cell_type": "markdown",
   "metadata": {},
   "source": [
    "# 6. Inventory Decision"
   ]
  },
  {
   "cell_type": "code",
   "execution_count": 43,
   "metadata": {},
   "outputs": [],
   "source": [
    "residual = result['sales']-result['Predicted_sales']"
   ]
  },
  {
   "cell_type": "code",
   "execution_count": 44,
   "metadata": {},
   "outputs": [
    {
     "data": {
      "text/plain": [
       "(4, 8)"
      ]
     },
     "execution_count": 44,
     "metadata": {},
     "output_type": "execute_result"
    }
   ],
   "source": [
    "Price=20\n",
    "Cost=12\n",
    "Salvage=8\n",
    "Over=Cost - Salvage\n",
    "Under=Price - Cost\n",
    "Over, Under"
   ]
  },
  {
   "cell_type": "markdown",
   "metadata": {},
   "source": [
    "### QQ plot to explore the distribution of residual"
   ]
  },
  {
   "cell_type": "markdown",
   "metadata": {},
   "source": [
    "#### Normal Distribution"
   ]
  },
  {
   "cell_type": "code",
   "execution_count": 45,
   "metadata": {},
   "outputs": [],
   "source": [
    "import scipy.stats as sct"
   ]
  },
  {
   "cell_type": "code",
   "execution_count": 46,
   "metadata": {},
   "outputs": [
    {
     "data": {
      "image/png": "[encoded data removed]",
      "text/plain": [
       "<Figure size 432x288 with 1 Axes>"
      ]
     },
     "metadata": {
      "needs_background": "light"
     },
     "output_type": "display_data"
    }
   ],
   "source": [
    "import scipy\n",
    "scipy.stats.probplot(residual, dist=\"norm\", plot=plt)\n",
    "plt.show()"
   ]
  },
  {
   "cell_type": "code",
   "execution_count": 47,
   "metadata": {},
   "outputs": [],
   "source": [
    "s = residual.std()\n",
    "opt_dec_N=np.ceil(sct.norm.ppf(Under/(Under+Over))*s + result['Predicted_sales'])"
   ]
  },
  {
   "cell_type": "markdown",
   "metadata": {},
   "source": [
    "#### Exponential Distribution"
   ]
  },
  {
   "cell_type": "code",
   "execution_count": 48,
   "metadata": {},
   "outputs": [
    {
     "data": {
      "image/png": "[encoded data removed]",
      "text/plain": [
       "<Figure size 432x288 with 1 Axes>"
      ]
     },
     "metadata": {
      "needs_background": "light"
     },
     "output_type": "display_data"
    }
   ],
   "source": [
    "scipy.stats.probplot(residual, dist=\"expon\", plot=plt)\n",
    "plt.show()"
   ]
  },
  {
   "cell_type": "code",
   "execution_count": 49,
   "metadata": {},
   "outputs": [],
   "source": [
    "opt_dec_E=np.ceil((-result['Predicted_sales'])*np.log(1-(Under/(Under+Over))))"
   ]
  },
  {
   "cell_type": "markdown",
   "metadata": {},
   "source": [
    "#### Empirical Distribution"
   ]
  },
  {
   "cell_type": "code",
   "execution_count": 50,
   "metadata": {},
   "outputs": [
    {
     "data": {
      "text/plain": [
       "[<matplotlib.lines.Line2D at 0x2a99e7487c0>]"
      ]
     },
     "execution_count": 50,
     "metadata": {},
     "output_type": "execute_result"
    },
    {
     "data": {
      "image/png": "[encoded data removed]",
      "text/plain": [
       "<Figure size 432x288 with 1 Axes>"
      ]
     },
     "metadata": {
      "needs_background": "light"
     },
     "output_type": "display_data"
    }
   ],
   "source": [
    "size = residual.shape[0]\n",
    "step=1/size\n",
    "jumps = [step*i for i in range(1,size+1)]\n",
    "Sample = sorted(residual)\n",
    "plt.plot(Sample,jumps)"
   ]
  },
  {
   "cell_type": "code",
   "execution_count": 51,
   "metadata": {},
   "outputs": [
    {
     "data": {
      "image/png": "[encoded data removed]",
      "text/plain": [
       "<Figure size 432x288 with 1 Axes>"
      ]
     },
     "metadata": {
      "needs_background": "light"
     },
     "output_type": "display_data"
    }
   ],
   "source": [
    "plt.hist(Sample)\n",
    "plt.show()"
   ]
  },
  {
   "cell_type": "code",
   "execution_count": 52,
   "metadata": {},
   "outputs": [],
   "source": [
    "def inv(sample,jump,area):\n",
    "    size = len(sample)\n",
    "    i=0\n",
    "    temp=jump[i]\n",
    "    while temp<area:\n",
    "        i+=1\n",
    "        temp=jump[i]\n",
    "        \n",
    "    return sample[i]"
   ]
  },
  {
   "cell_type": "code",
   "execution_count": 53,
   "metadata": {},
   "outputs": [
    {
     "data": {
      "text/plain": [
       "0.13400000000000034"
      ]
     },
     "execution_count": 53,
     "metadata": {},
     "output_type": "execute_result"
    }
   ],
   "source": [
    "offset = inv(Sample,jumps,2/3)\n",
    "offset"
   ]
  },
  {
   "cell_type": "code",
   "execution_count": 54,
   "metadata": {},
   "outputs": [],
   "source": [
    "opt_dec_B = np.ceil(result['Predicted_sales']+offset)"
   ]
  },
  {
   "cell_type": "markdown",
   "metadata": {},
   "source": [
    "# 7. Out-of-samples Profit"
   ]
  },
  {
   "cell_type": "code",
   "execution_count": 55,
   "metadata": {},
   "outputs": [
    {
     "data": {
      "text/plain": [
       "82096"
      ]
     },
     "execution_count": 55,
     "metadata": {},
     "output_type": "execute_result"
    }
   ],
   "source": [
    "#max profit for test data set\n",
    "max_profit = result['sales'].sum()*(Price-Cost)\n",
    "max_profit"
   ]
  },
  {
   "cell_type": "code",
   "execution_count": 56,
   "metadata": {},
   "outputs": [],
   "source": [
    "def profit(demand,inv):\n",
    "    return (Price-Salvage)*np.minimum(demand,inv)-(Cost-Salvage)*inv"
   ]
  },
  {
   "cell_type": "code",
   "execution_count": 68,
   "metadata": {},
   "outputs": [
    {
     "data": {
      "text/plain": [
       "60040.0"
      ]
     },
     "execution_count": 68,
     "metadata": {},
     "output_type": "execute_result"
    }
   ],
   "source": [
    "#Profit (None)\n",
    "profit_lst = profit(round(result['sales']),round(result['Predicted_sales']))\n",
    "profit_lst.sum()"
   ]
  },
  {
   "cell_type": "code",
   "execution_count": 57,
   "metadata": {},
   "outputs": [
    {
     "data": {
      "text/plain": [
       "52956.0"
      ]
     },
     "execution_count": 57,
     "metadata": {},
     "output_type": "execute_result"
    }
   ],
   "source": [
    "#Profit (Normal)\n",
    "profit_lst_N = profit(result['sales'],opt_dec_N)\n",
    "profit_lst_N.sum()"
   ]
  },
  {
   "cell_type": "code",
   "execution_count": 58,
   "metadata": {},
   "outputs": [
    {
     "data": {
      "text/plain": [
       "59636.0"
      ]
     },
     "execution_count": 58,
     "metadata": {},
     "output_type": "execute_result"
    }
   ],
   "source": [
    "#Profit (Exponential)\n",
    "profit_lst_E = profit(result['sales'],opt_dec_E)\n",
    "profit_lst_E.sum()"
   ]
  },
  {
   "cell_type": "code",
   "execution_count": 59,
   "metadata": {},
   "outputs": [
    {
     "data": {
      "text/plain": [
       "60012.0"
      ]
     },
     "execution_count": 59,
     "metadata": {},
     "output_type": "execute_result"
    }
   ],
   "source": [
    "#Profit (Empirical)\n",
    "profit_lst_B = profit(result['sales'],opt_dec_B)\n",
    "profit_lst_B.sum()"
   ]
  },
  {
   "cell_type": "markdown",
   "metadata": {},
   "source": [
    "# 8. K-Fold Cross Validation"
   ]
  },
  {
   "cell_type": "markdown",
   "metadata": {},
   "source": [
    "### Repeat steps 5,6,7 with 10-fold cross validation"
   ]
  },
  {
   "cell_type": "code",
   "execution_count": 60,
   "metadata": {},
   "outputs": [],
   "source": [
    "Model_4 = RandomForestQuantileRegressor(n_estimators=best_n_est)"
   ]
  },
  {
   "cell_type": "code",
   "execution_count": 61,
   "metadata": {},
   "outputs": [],
   "source": [
    "from sklearn.model_selection import KFold\n",
    "k=10\n",
    "kf = KFold(n_splits=k)\n",
    "X_train_t=X_train.to_numpy()\n",
    "Y_train_t=Y_train.to_numpy()\n",
    "model = []\n",
    "mse_lst = []\n",
    "max_profit_lst = []\n",
    "profit_N_lst = []\n",
    "profit_E_lst = []\n",
    "profit_B_lst = []\n",
    "\n",
    "for train_index,test_index in kf.split(X_train_t):\n",
    "    X_train_K,X_test_K=X_train_t[train_index],X_train_t[test_index]\n",
    "    Y_train_K,Y_test_K=Y_train_t[train_index],Y_train_t[test_index]\n",
    "    \n",
    "    \n",
    "    #Model\n",
    "    RG_K = Model_4\n",
    "    RG_K.fit(X_train_K,Y_train_K.ravel())\n",
    "    \n",
    "    \n",
    "    #MSE\n",
    "    mse_lst.append(MSE(RG_K.predict(X_test_K),Y_test_K))\n",
    "    \n",
    "    result_K = pd.DataFrame(Y_test_K)\n",
    "    result_K[\"Predicted_sales\"] = RG_K.predict(X_test_K)\n",
    "    \n",
    "    #Obtain residual\n",
    "    residual_K = result_K[0]-result_K['Predicted_sales']\n",
    "    \n",
    "    #Get std for Normal distribution\n",
    "    s_K = residual_K.std()\n",
    "    \n",
    "    #Inventory Decision (Normal)\n",
    "    opt_dec_N_K=np.ceil(sct.norm.ppf(Under/(Under+Over))*s_K + result_K['Predicted_sales'])\n",
    "    #Inventory Decision (Exponential)\n",
    "    opt_dec_E_K=np.ceil((-result_K['Predicted_sales'])*np.log(1-(Under/(Under+Over))))\n",
    "    \n",
    "    #Inventory Decision (Empirical Distribution)\n",
    "    size_K = residual_K.shape[0]\n",
    "    step_K=1/size_K\n",
    "    jumps_K = [step_K*i for i in range(1,size_K+1)]\n",
    "    Sample_K = sorted(residual_K)\n",
    "    offset_K = inv(Sample_K,jumps_K,2/3)\n",
    "    opt_dec_B_K = np.ceil(result_K['Predicted_sales']+offset_K)\n",
    "    \n",
    "    #Out-of_sample profit\n",
    "    profit_lst_B_K = profit(result_K[0],opt_dec_B_K)\n",
    "    profit_B_lst.append(profit_lst_B_K.sum())\n",
    "    \n",
    "    profit_lst_N_K = profit(result_K[0],opt_dec_N_K)\n",
    "    profit_N_lst.append(profit_lst_N_K.sum())\n",
    "    \n",
    "    profit_lst_E_K = profit(result_K[0],opt_dec_E_K)\n",
    "    profit_E_lst.append(profit_lst_E_K.sum())\n",
    "    \n",
    "    max_profit_K = result_K[0].sum()*(Price-Cost)\n",
    "    max_profit_lst.append(max_profit_K)\n",
    "    \n",
    "max_profit_lst = np.array(max_profit_lst)\n",
    "profit_N_lst = np.array(profit_N_lst)\n",
    "profit_E_lst = np.array(profit_E_lst)\n",
    "profit_B_lst = np.array(profit_B_lst)\n",
    "\n",
    "fraction_of_max_N = profit_N_lst/max_profit_lst\n",
    "fraction_of_max_E = profit_E_lst/max_profit_lst\n",
    "fraction_of_max_B = profit_B_lst/max_profit_lst\n",
    "\n",
    "dist_profit = [\"Normal\",\"Exponential\",\"Empirical\",\"Max\"]\n",
    "dist_frac = [\"Normal\",\"Exponential\",\"Empirical\"]\n",
    "col_name = [\"Dataset_\"+str(i) for i in range(1,k+1)]\n",
    "\n",
    "profit_lst = [profit_N_lst,profit_E_lst,profit_B_lst,max_profit_lst]\n",
    "profit_table = pd.DataFrame(profit_lst,index=dist_profit,columns=col_name)\n",
    "profit_table[\"mean_profit\"]=profit_table.mean(axis=1)\n",
    "profit_table[\"std_profit\"]=profit_table.std(ddof=1,axis=1)\n",
    "\n",
    "fraction_lst = [fraction_of_max_N,fraction_of_max_E,fraction_of_max_B]\n",
    "fraction_table = pd.DataFrame(fraction_lst,index=dist_frac,columns=col_name)\n",
    "fraction_table[\"mean_fraction\"]=fraction_table.mean(axis=1)"
   ]
  },
  {
   "cell_type": "code",
   "execution_count": 62,
   "metadata": {
    "scrolled": false
   },
   "outputs": [
    {
     "data": {
      "text/html": [
       "<div>\n",
       "<style scoped>\n",
       "    .dataframe tbody tr th:only-of-type {\n",
       "        vertical-align: middle;\n",
       "    }\n",
       "\n",
       "    .dataframe tbody tr th {\n",
       "        vertical-align: top;\n",
       "    }\n",
       "\n",
       "    .dataframe thead th {\n",
       "        text-align: right;\n",
       "    }\n",
       "</style>\n",
       "<table border=\"1\" class=\"dataframe\">\n",
       "  <thead>\n",
       "    <tr style=\"text-align: right;\">\n",
       "      <th></th>\n",
       "      <th>Dataset_1</th>\n",
       "      <th>Dataset_2</th>\n",
       "      <th>Dataset_3</th>\n",
       "      <th>Dataset_4</th>\n",
       "      <th>Dataset_5</th>\n",
       "      <th>Dataset_6</th>\n",
       "      <th>Dataset_7</th>\n",
       "      <th>Dataset_8</th>\n",
       "      <th>Dataset_9</th>\n",
       "      <th>Dataset_10</th>\n",
       "      <th>mean_fraction</th>\n",
       "    </tr>\n",
       "  </thead>\n",
       "  <tbody>\n",
       "    <tr>\n",
       "      <th>Normal</th>\n",
       "      <td>0.730234</td>\n",
       "      <td>0.707442</td>\n",
       "      <td>0.583204</td>\n",
       "      <td>0.628498</td>\n",
       "      <td>0.555761</td>\n",
       "      <td>0.718705</td>\n",
       "      <td>0.690083</td>\n",
       "      <td>0.662272</td>\n",
       "      <td>0.604062</td>\n",
       "      <td>0.667307</td>\n",
       "      <td>0.654757</td>\n",
       "    </tr>\n",
       "    <tr>\n",
       "      <th>Exponential</th>\n",
       "      <td>0.778658</td>\n",
       "      <td>0.753403</td>\n",
       "      <td>0.718680</td>\n",
       "      <td>0.748240</td>\n",
       "      <td>0.726753</td>\n",
       "      <td>0.769924</td>\n",
       "      <td>0.758863</td>\n",
       "      <td>0.727320</td>\n",
       "      <td>0.710183</td>\n",
       "      <td>0.742124</td>\n",
       "      <td>0.743415</td>\n",
       "    </tr>\n",
       "    <tr>\n",
       "      <th>Empirical</th>\n",
       "      <td>0.786101</td>\n",
       "      <td>0.749779</td>\n",
       "      <td>0.718334</td>\n",
       "      <td>0.740773</td>\n",
       "      <td>0.709750</td>\n",
       "      <td>0.771461</td>\n",
       "      <td>0.745630</td>\n",
       "      <td>0.725585</td>\n",
       "      <td>0.714746</td>\n",
       "      <td>0.741740</td>\n",
       "      <td>0.740390</td>\n",
       "    </tr>\n",
       "  </tbody>\n",
       "</table>\n",
       "</div>"
      ],
      "text/plain": [
       "             Dataset_1  Dataset_2  Dataset_3  Dataset_4  Dataset_5  Dataset_6  \\\n",
       "Normal        0.730234   0.707442   0.583204   0.628498   0.555761   0.718705   \n",
       "Exponential   0.778658   0.753403   0.718680   0.748240   0.726753   0.769924   \n",
       "Empirical     0.786101   0.749779   0.718334   0.740773   0.709750   0.771461   \n",
       "\n",
       "             Dataset_7  Dataset_8  Dataset_9  Dataset_10  mean_fraction  \n",
       "Normal        0.690083   0.662272   0.604062    0.667307       0.654757  \n",
       "Exponential   0.758863   0.727320   0.710183    0.742124       0.743415  \n",
       "Empirical     0.745630   0.725585   0.714746    0.741740       0.740390  "
      ]
     },
     "execution_count": 62,
     "metadata": {},
     "output_type": "execute_result"
    }
   ],
   "source": [
    "fraction_table"
   ]
  },
  {
   "cell_type": "code",
   "execution_count": 63,
   "metadata": {
    "scrolled": false
   },
   "outputs": [
    {
     "data": {
      "text/html": [
       "<div>\n",
       "<style scoped>\n",
       "    .dataframe tbody tr th:only-of-type {\n",
       "        vertical-align: middle;\n",
       "    }\n",
       "\n",
       "    .dataframe tbody tr th {\n",
       "        vertical-align: top;\n",
       "    }\n",
       "\n",
       "    .dataframe thead th {\n",
       "        text-align: right;\n",
       "    }\n",
       "</style>\n",
       "<table border=\"1\" class=\"dataframe\">\n",
       "  <thead>\n",
       "    <tr style=\"text-align: right;\">\n",
       "      <th></th>\n",
       "      <th>Dataset_1</th>\n",
       "      <th>Dataset_2</th>\n",
       "      <th>Dataset_3</th>\n",
       "      <th>Dataset_4</th>\n",
       "      <th>Dataset_5</th>\n",
       "      <th>Dataset_6</th>\n",
       "      <th>Dataset_7</th>\n",
       "      <th>Dataset_8</th>\n",
       "      <th>Dataset_9</th>\n",
       "      <th>Dataset_10</th>\n",
       "      <th>mean_profit</th>\n",
       "      <th>std_profit</th>\n",
       "    </tr>\n",
       "  </thead>\n",
       "  <tbody>\n",
       "    <tr>\n",
       "      <th>Normal</th>\n",
       "      <td>30220.0</td>\n",
       "      <td>32016.0</td>\n",
       "      <td>27000.0</td>\n",
       "      <td>29288.0</td>\n",
       "      <td>27588.0</td>\n",
       "      <td>28064.0</td>\n",
       "      <td>33792.0</td>\n",
       "      <td>30544.0</td>\n",
       "      <td>27004.0</td>\n",
       "      <td>27792.0</td>\n",
       "      <td>29330.8</td>\n",
       "      <td>2173.330016</td>\n",
       "    </tr>\n",
       "    <tr>\n",
       "      <th>Exponential</th>\n",
       "      <td>32224.0</td>\n",
       "      <td>34096.0</td>\n",
       "      <td>33272.0</td>\n",
       "      <td>34868.0</td>\n",
       "      <td>36076.0</td>\n",
       "      <td>30064.0</td>\n",
       "      <td>37160.0</td>\n",
       "      <td>33544.0</td>\n",
       "      <td>31748.0</td>\n",
       "      <td>30908.0</td>\n",
       "      <td>33396.0</td>\n",
       "      <td>2131.337984</td>\n",
       "    </tr>\n",
       "    <tr>\n",
       "      <th>Empirical</th>\n",
       "      <td>32532.0</td>\n",
       "      <td>33932.0</td>\n",
       "      <td>33256.0</td>\n",
       "      <td>34520.0</td>\n",
       "      <td>35232.0</td>\n",
       "      <td>30124.0</td>\n",
       "      <td>36512.0</td>\n",
       "      <td>33464.0</td>\n",
       "      <td>31952.0</td>\n",
       "      <td>30892.0</td>\n",
       "      <td>33241.6</td>\n",
       "      <td>1849.986119</td>\n",
       "    </tr>\n",
       "    <tr>\n",
       "      <th>Max</th>\n",
       "      <td>41384.0</td>\n",
       "      <td>45256.0</td>\n",
       "      <td>46296.0</td>\n",
       "      <td>46600.0</td>\n",
       "      <td>49640.0</td>\n",
       "      <td>39048.0</td>\n",
       "      <td>48968.0</td>\n",
       "      <td>46120.0</td>\n",
       "      <td>44704.0</td>\n",
       "      <td>41648.0</td>\n",
       "      <td>44966.4</td>\n",
       "      <td>3203.875254</td>\n",
       "    </tr>\n",
       "  </tbody>\n",
       "</table>\n",
       "</div>"
      ],
      "text/plain": [
       "             Dataset_1  Dataset_2  Dataset_3  Dataset_4  Dataset_5  Dataset_6  \\\n",
       "Normal         30220.0    32016.0    27000.0    29288.0    27588.0    28064.0   \n",
       "Exponential    32224.0    34096.0    33272.0    34868.0    36076.0    30064.0   \n",
       "Empirical      32532.0    33932.0    33256.0    34520.0    35232.0    30124.0   \n",
       "Max            41384.0    45256.0    46296.0    46600.0    49640.0    39048.0   \n",
       "\n",
       "             Dataset_7  Dataset_8  Dataset_9  Dataset_10  mean_profit  \\\n",
       "Normal         33792.0    30544.0    27004.0     27792.0      29330.8   \n",
       "Exponential    37160.0    33544.0    31748.0     30908.0      33396.0   \n",
       "Empirical      36512.0    33464.0    31952.0     30892.0      33241.6   \n",
       "Max            48968.0    46120.0    44704.0     41648.0      44966.4   \n",
       "\n",
       "              std_profit  \n",
       "Normal       2173.330016  \n",
       "Exponential  2131.337984  \n",
       "Empirical    1849.986119  \n",
       "Max          3203.875254  "
      ]
     },
     "execution_count": 63,
     "metadata": {},
     "output_type": "execute_result"
    }
   ],
   "source": [
    "profit_table"
   ]
  },
  {
   "cell_type": "code",
   "execution_count": 64,
   "metadata": {
    "scrolled": true
   },
   "outputs": [
    {
     "data": {
      "text/html": [
       "<div>\n",
       "<style scoped>\n",
       "    .dataframe tbody tr th:only-of-type {\n",
       "        vertical-align: middle;\n",
       "    }\n",
       "\n",
       "    .dataframe tbody tr th {\n",
       "        vertical-align: top;\n",
       "    }\n",
       "\n",
       "    .dataframe thead th {\n",
       "        text-align: right;\n",
       "    }\n",
       "</style>\n",
       "<table border=\"1\" class=\"dataframe\">\n",
       "  <thead>\n",
       "    <tr style=\"text-align: right;\">\n",
       "      <th></th>\n",
       "      <th>Cross Validation MSE</th>\n",
       "    </tr>\n",
       "  </thead>\n",
       "  <tbody>\n",
       "    <tr>\n",
       "      <th>Dataset_1</th>\n",
       "      <td>152.837849</td>\n",
       "    </tr>\n",
       "    <tr>\n",
       "      <th>Dataset_2</th>\n",
       "      <td>263.909447</td>\n",
       "    </tr>\n",
       "    <tr>\n",
       "      <th>Dataset_3</th>\n",
       "      <td>788.329781</td>\n",
       "    </tr>\n",
       "    <tr>\n",
       "      <th>Dataset_4</th>\n",
       "      <td>659.787530</td>\n",
       "    </tr>\n",
       "    <tr>\n",
       "      <th>Dataset_5</th>\n",
       "      <td>1209.349022</td>\n",
       "    </tr>\n",
       "    <tr>\n",
       "      <th>Dataset_6</th>\n",
       "      <td>154.558192</td>\n",
       "    </tr>\n",
       "    <tr>\n",
       "      <th>Dataset_7</th>\n",
       "      <td>383.712739</td>\n",
       "    </tr>\n",
       "    <tr>\n",
       "      <th>Dataset_8</th>\n",
       "      <td>400.800399</td>\n",
       "    </tr>\n",
       "    <tr>\n",
       "      <th>Dataset_9</th>\n",
       "      <td>569.467388</td>\n",
       "    </tr>\n",
       "    <tr>\n",
       "      <th>Dataset_10</th>\n",
       "      <td>266.010168</td>\n",
       "    </tr>\n",
       "  </tbody>\n",
       "</table>\n",
       "</div>"
      ],
      "text/plain": [
       "            Cross Validation MSE\n",
       "Dataset_1             152.837849\n",
       "Dataset_2             263.909447\n",
       "Dataset_3             788.329781\n",
       "Dataset_4             659.787530\n",
       "Dataset_5            1209.349022\n",
       "Dataset_6             154.558192\n",
       "Dataset_7             383.712739\n",
       "Dataset_8             400.800399\n",
       "Dataset_9             569.467388\n",
       "Dataset_10            266.010168"
      ]
     },
     "execution_count": 64,
     "metadata": {},
     "output_type": "execute_result"
    }
   ],
   "source": [
    "mse_table = pd.DataFrame(mse_lst,index=col_name,columns=['Cross Validation MSE'])\n",
    "mse_table"
   ]
  },
  {
   "cell_type": "code",
   "execution_count": 65,
   "metadata": {
    "scrolled": true
   },
   "outputs": [
    {
     "name": "stdout",
     "output_type": "stream",
     "text": [
      "Average 10 fold CV MSE:  484.8762514796816\n"
     ]
    }
   ],
   "source": [
    "print(f\"Average 10 fold CV MSE:  {float(mse_table.mean())}\")"
   ]
  },
  {
   "cell_type": "code",
   "execution_count": 67,
   "metadata": {},
   "outputs": [
    {
     "data": {
      "text/plain": [
       "[<matplotlib.lines.Line2D at 0x2a98b7e3640>]"
      ]
     },
     "execution_count": 67,
     "metadata": {},
     "output_type": "execute_result"
    },
    {
     "data": {
      "image/png": "[encoded data removed]",
      "text/plain": [
       "<Figure size 432x288 with 1 Axes>"
      ]
     },
     "metadata": {
      "needs_background": "light"
     },
     "output_type": "display_data"
    }
   ],
   "source": [
    "plt.plot(result['sales'],residual,\".\")"
   ]
  },
  {
   "cell_type": "code",
   "execution_count": 69,
   "metadata": {},
   "outputs": [],
   "source": [
    "name = \"5.1_Quantile_regression_forest(No_PCA).csv\"\n",
    "mse_table.to_csv(f\".\\\\Model_CV_Result_MSE\\\\{name}\")"
   ]
  },
  {
   "cell_type": "code",
   "execution_count": 70,
   "metadata": {},
   "outputs": [],
   "source": [
    "f = pd.DataFrame(fraction_table['mean_fraction'])\n",
    "f = f.transpose().reset_index()\n",
    "f.to_csv(f\".\\\\Model_CV_Result_Efficiency\\\\{name}\")"
   ]
  },
  {
   "cell_type": "code",
   "execution_count": null,
   "metadata": {},
   "outputs": [],
   "source": []
  }
 ],
 "metadata": {
  "kernelspec": {
   "display_name": "Python 3",
   "language": "python",
   "name": "python3"
  },
  "language_info": {
   "codemirror_mode": {
    "name": "ipython",
    "version": 3
   },
   "file_extension": ".py",
   "mimetype": "text/x-python",
   "name": "python",
   "nbconvert_exporter": "python",
   "pygments_lexer": "ipython3",
   "version": "3.8.5"
  }
 },
 "nbformat": 4,
 "nbformat_minor": 4
}
