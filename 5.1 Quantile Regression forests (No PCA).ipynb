{
 "cells": [
  {
   "cell_type": "code",
   "execution_count": 1,
   "metadata": {},
   "outputs": [
    {
     "name": "stdout",
     "output_type": "stream",
     "text": [
      "Collecting scikit-garden\n",
      "  Using cached scikit-garden-0.1.3.tar.gz (317 kB)\n",
      "Requirement already satisfied: numpy in c:\\users\\wayne linn\\anaconda3\\lib\\site-packages (from scikit-garden) (1.19.2)\n",
      "Requirement already satisfied: scipy in c:\\users\\wayne linn\\anaconda3\\lib\\site-packages (from scikit-garden) (1.5.2)\n",
      "Requirement already satisfied: scikit-learn>=0.18 in c:\\users\\wayne linn\\anaconda3\\lib\\site-packages (from scikit-garden) (0.23.2)\n",
      "Requirement already satisfied: cython in c:\\users\\wayne linn\\anaconda3\\lib\\site-packages (from scikit-garden) (0.29.21)\n",
      "Requirement already satisfied: joblib>=0.11 in c:\\users\\wayne linn\\anaconda3\\lib\\site-packages (from scikit-learn>=0.18->scikit-garden) (0.17.0)\n",
      "Requirement already satisfied: threadpoolctl>=2.0.0 in c:\\users\\wayne linn\\anaconda3\\lib\\site-packages (from scikit-learn>=0.18->scikit-garden) (2.1.0)\n",
      "Building wheels for collected packages: scikit-garden\n",
      "  Building wheel for scikit-garden (setup.py): started\n",
      "  Building wheel for scikit-garden (setup.py): finished with status 'error'\n",
      "  Running setup.py clean for scikit-garden\n",
      "Failed to build scikit-garden\n",
      "Installing collected packages: scikit-garden\n",
      "    Running setup.py install for scikit-garden: started\n",
      "    Running setup.py install for scikit-garden: finished with status 'error'\n"
     ]
    },
    {
     "name": "stderr",
     "output_type": "stream",
     "text": [
      "  ERROR: Command errored out with exit status 1:\n",
      "   command: 'C:\\Users\\Wayne Linn\\anaconda3\\python.exe' -u -c 'import sys, setuptools, tokenize; sys.argv[0] = '\"'\"'C:\\\\Users\\\\Wayne Linn\\\\AppData\\\\Local\\\\Temp\\\\pip-install-6a8ac02w\\\\scikit-garden\\\\setup.py'\"'\"'; __file__='\"'\"'C:\\\\Users\\\\Wayne Linn\\\\AppData\\\\Local\\\\Temp\\\\pip-install-6a8ac02w\\\\scikit-garden\\\\setup.py'\"'\"';f=getattr(tokenize, '\"'\"'open'\"'\"', open)(__file__);code=f.read().replace('\"'\"'\\r\\n'\"'\"', '\"'\"'\\n'\"'\"');f.close();exec(compile(code, __file__, '\"'\"'exec'\"'\"'))' bdist_wheel -d 'C:\\Users\\Wayne Linn\\AppData\\Local\\Temp\\pip-wheel-g82r6zi2'\n",
      "       cwd: C:\\Users\\Wayne Linn\\AppData\\Local\\Temp\\pip-install-6a8ac02w\\scikit-garden\\\n",
      "  Complete output (164 lines):\n",
      "  Appending skgarden.mondrian.tree configuration to skgarden.mondrian\n",
      "  Ignoring attempt to set 'name' (from 'skgarden.mondrian' to 'skgarden.mondrian.tree')\n",
      "  Appending skgarden.mondrian.ensemble configuration to skgarden.mondrian\n",
      "  Ignoring attempt to set 'name' (from 'skgarden.mondrian' to 'skgarden.mondrian.ensemble')\n",
      "  Appending skgarden.mondrian configuration to skgarden\n",
      "  Ignoring attempt to set 'name' (from 'skgarden' to 'skgarden.mondrian')\n",
      "  Appending skgarden.quantile configuration to skgarden\n",
      "  Ignoring attempt to set 'name' (from 'skgarden' to 'skgarden.quantile')\n",
      "  Appending skgarden configuration to\n",
      "  Ignoring attempt to set 'name' (from '' to 'skgarden')\n",
      "  running bdist_wheel\n",
      "  running build\n",
      "  running config_cc\n",
      "  unifing config_cc, config, build_clib, build_ext, build commands --compiler options\n",
      "  running config_fc\n",
      "  unifing config_fc, config, build_clib, build_ext, build commands --fcompiler options\n",
      "  running build_src\n",
      "  build_src\n",
      "  building extension \"skgarden.mondrian.tree._tree\" sources\n",
      "  building extension \"skgarden.mondrian.tree._splitter\" sources\n",
      "  building extension \"skgarden.mondrian.tree._criterion\" sources\n",
      "  building extension \"skgarden.mondrian.tree._utils\" sources\n",
      "  build_src: building npy-pkg config files\n",
      "  running build_py\n",
      "  creating build\n",
      "  creating build\\lib.win-amd64-3.8\n",
      "  creating build\\lib.win-amd64-3.8\\skgarden\n",
      "  copying skgarden\\forest.py -> build\\lib.win-amd64-3.8\\skgarden\n",
      "  copying skgarden\\setup.py -> build\\lib.win-amd64-3.8\\skgarden\n",
      "  copying skgarden\\__init__.py -> build\\lib.win-amd64-3.8\\skgarden\n",
      "  creating build\\lib.win-amd64-3.8\\skgarden\\mondrian\n",
      "  copying skgarden\\mondrian\\setup.py -> build\\lib.win-amd64-3.8\\skgarden\\mondrian\n",
      "  copying skgarden\\mondrian\\__init__.py -> build\\lib.win-amd64-3.8\\skgarden\\mondrian\n",
      "  creating build\\lib.win-amd64-3.8\\skgarden\\quantile\n",
      "  copying skgarden\\quantile\\ensemble.py -> build\\lib.win-amd64-3.8\\skgarden\\quantile\n",
      "  copying skgarden\\quantile\\setup.py -> build\\lib.win-amd64-3.8\\skgarden\\quantile\n",
      "  copying skgarden\\quantile\\tree.py -> build\\lib.win-amd64-3.8\\skgarden\\quantile\n",
      "  copying skgarden\\quantile\\utils.py -> build\\lib.win-amd64-3.8\\skgarden\\quantile\n",
      "  copying skgarden\\quantile\\__init__.py -> build\\lib.win-amd64-3.8\\skgarden\\quantile\n",
      "  creating build\\lib.win-amd64-3.8\\skgarden\\mondrian\\ensemble\n",
      "  copying skgarden\\mondrian\\ensemble\\forest.py -> build\\lib.win-amd64-3.8\\skgarden\\mondrian\\ensemble\n",
      "  copying skgarden\\mondrian\\ensemble\\setup.py -> build\\lib.win-amd64-3.8\\skgarden\\mondrian\\ensemble\n",
      "  copying skgarden\\mondrian\\ensemble\\__init__.py -> build\\lib.win-amd64-3.8\\skgarden\\mondrian\\ensemble\n",
      "  creating build\\lib.win-amd64-3.8\\skgarden\\mondrian\\tree\n",
      "  copying skgarden\\mondrian\\tree\\setup.py -> build\\lib.win-amd64-3.8\\skgarden\\mondrian\\tree\n",
      "  copying skgarden\\mondrian\\tree\\tree.py -> build\\lib.win-amd64-3.8\\skgarden\\mondrian\\tree\n",
      "  copying skgarden\\mondrian\\tree\\__init__.py -> build\\lib.win-amd64-3.8\\skgarden\\mondrian\\tree\n",
      "  running build_ext\n",
      "  No module named 'numpy.distutils._msvccompiler' in numpy.distutils; trying from distutils\n",
      "  customize MSVCCompiler\n",
      "  customize MSVCCompiler using build_ext\n",
      "  building 'skgarden.mondrian.tree._tree' extension\n",
      "  compiling C sources\n",
      "  creating build\\temp.win-amd64-3.8\\Release\\skgarden\n",
      "  creating build\\temp.win-amd64-3.8\\Release\\skgarden\\mondrian\n",
      "  creating build\\temp.win-amd64-3.8\\Release\\skgarden\\mondrian\\tree\n",
      "  C:\\Program Files (x86)\\Microsoft Visual Studio\\2019\\Community\\VC\\Tools\\MSVC\\14.29.30133\\bin\\HostX86\\x64\\cl.exe /c /nologo /Ox /W3 /GL /DNDEBUG /MD -IC:\\Users\\Wayne Linn\\anaconda3\\lib\\site-packages\\numpy\\core\\include -IC:\\Users\\Wayne Linn\\anaconda3\\lib\\site-packages\\numpy\\core\\include -IC:\\Users\\Wayne Linn\\anaconda3\\include -IC:\\Users\\Wayne Linn\\anaconda3\\include -IC:\\Program Files (x86)\\Microsoft Visual Studio\\2019\\Community\\VC\\Tools\\MSVC\\14.29.30133\\ATLMFC\\include -IC:\\Program Files (x86)\\Microsoft Visual Studio\\2019\\Community\\VC\\Tools\\MSVC\\14.29.30133\\include -IC:\\Program Files (x86)\\Windows Kits\\10\\include\\10.0.19041.0\\ucrt -IC:\\Program Files (x86)\\Windows Kits\\10\\include\\10.0.19041.0\\shared -IC:\\Program Files (x86)\\Windows Kits\\10\\include\\10.0.19041.0\\um -IC:\\Program Files (x86)\\Windows Kits\\10\\include\\10.0.19041.0\\winrt -IC:\\Program Files (x86)\\Windows Kits\\10\\include\\10.0.19041.0\\cppwinrt /Tcskgarden\\mondrian\\tree\\_tree.c /Fobuild\\temp.win-amd64-3.8\\Release\\skgarden\\mondrian\\tree\\_tree.obj -O3\n",
      "  cl : Command line warning D9002 : ignoring unknown option '-O3'\n",
      "  C:\\Program Files (x86)\\Microsoft Visual Studio\\2019\\Community\\VC\\Tools\\MSVC\\14.29.30133\\bin\\HostX86\\x64\\link.exe /nologo /INCREMENTAL:NO /LTCG /DLL /MANIFEST:EMBED,ID=2 /MANIFESTUAC:NO /LIBPATH:C:\\Users\\Wayne Linn\\anaconda3\\libs /LIBPATH:C:\\Users\\Wayne Linn\\anaconda3\\PCbuild\\amd64 /LIBPATH:C:\\Program Files (x86)\\Microsoft Visual Studio\\2019\\Community\\VC\\Tools\\MSVC\\14.29.30133\\ATLMFC\\lib\\x64 /LIBPATH:C:\\Program Files (x86)\\Microsoft Visual Studio\\2019\\Community\\VC\\Tools\\MSVC\\14.29.30133\\lib\\x64 /LIBPATH:C:\\Program Files (x86)\\Windows Kits\\10\\lib\\10.0.19041.0\\ucrt\\x64 /LIBPATH:C:\\Program Files (x86)\\Windows Kits\\10\\lib\\10.0.19041.0\\um\\x64 /EXPORT:PyInit__tree build\\temp.win-amd64-3.8\\Release\\skgarden\\mondrian\\tree\\_tree.obj /OUT:build\\lib.win-amd64-3.8\\skgarden\\mondrian\\tree\\_tree.cp38-win_amd64.pyd /IMPLIB:build\\temp.win-amd64-3.8\\Release\\skgarden\\mondrian\\tree\\_tree.cp38-win_amd64.lib\n",
      "  building 'skgarden.mondrian.tree._splitter' extension\n",
      "  compiling C sources\n",
      "  C:\\Program Files (x86)\\Microsoft Visual Studio\\2019\\Community\\VC\\Tools\\MSVC\\14.29.30133\\bin\\HostX86\\x64\\cl.exe /c /nologo /Ox /W3 /GL /DNDEBUG /MD -IC:\\Users\\Wayne Linn\\anaconda3\\lib\\site-packages\\numpy\\core\\include -IC:\\Users\\Wayne Linn\\anaconda3\\lib\\site-packages\\numpy\\core\\include -IC:\\Users\\Wayne Linn\\anaconda3\\include -IC:\\Users\\Wayne Linn\\anaconda3\\include -IC:\\Program Files (x86)\\Microsoft Visual Studio\\2019\\Community\\VC\\Tools\\MSVC\\14.29.30133\\ATLMFC\\include -IC:\\Program Files (x86)\\Microsoft Visual Studio\\2019\\Community\\VC\\Tools\\MSVC\\14.29.30133\\include -IC:\\Program Files (x86)\\Windows Kits\\10\\include\\10.0.19041.0\\ucrt -IC:\\Program Files (x86)\\Windows Kits\\10\\include\\10.0.19041.0\\shared -IC:\\Program Files (x86)\\Windows Kits\\10\\include\\10.0.19041.0\\um -IC:\\Program Files (x86)\\Windows Kits\\10\\include\\10.0.19041.0\\winrt -IC:\\Program Files (x86)\\Windows Kits\\10\\include\\10.0.19041.0\\cppwinrt /Tcskgarden\\mondrian\\tree\\_splitter.c /Fobuild\\temp.win-amd64-3.8\\Release\\skgarden\\mondrian\\tree\\_splitter.obj -O3\n",
      "  cl : Command line warning D9002 : ignoring unknown option '-O3'\n",
      "  C:\\Program Files (x86)\\Microsoft Visual Studio\\2019\\Community\\VC\\Tools\\MSVC\\14.29.30133\\bin\\HostX86\\x64\\link.exe /nologo /INCREMENTAL:NO /LTCG /DLL /MANIFEST:EMBED,ID=2 /MANIFESTUAC:NO /LIBPATH:C:\\Users\\Wayne Linn\\anaconda3\\libs /LIBPATH:C:\\Users\\Wayne Linn\\anaconda3\\PCbuild\\amd64 /LIBPATH:C:\\Program Files (x86)\\Microsoft Visual Studio\\2019\\Community\\VC\\Tools\\MSVC\\14.29.30133\\ATLMFC\\lib\\x64 /LIBPATH:C:\\Program Files (x86)\\Microsoft Visual Studio\\2019\\Community\\VC\\Tools\\MSVC\\14.29.30133\\lib\\x64 /LIBPATH:C:\\Program Files (x86)\\Windows Kits\\10\\lib\\10.0.19041.0\\ucrt\\x64 /LIBPATH:C:\\Program Files (x86)\\Windows Kits\\10\\lib\\10.0.19041.0\\um\\x64 /EXPORT:PyInit__splitter build\\temp.win-amd64-3.8\\Release\\skgarden\\mondrian\\tree\\_splitter.obj /OUT:build\\lib.win-amd64-3.8\\skgarden\\mondrian\\tree\\_splitter.cp38-win_amd64.pyd /IMPLIB:build\\temp.win-amd64-3.8\\Release\\skgarden\\mondrian\\tree\\_splitter.cp38-win_amd64.lib\n",
      "  building 'skgarden.mondrian.tree._criterion' extension\n",
      "  compiling C sources\n",
      "  C:\\Program Files (x86)\\Microsoft Visual Studio\\2019\\Community\\VC\\Tools\\MSVC\\14.29.30133\\bin\\HostX86\\x64\\cl.exe /c /nologo /Ox /W3 /GL /DNDEBUG /MD -IC:\\Users\\Wayne Linn\\anaconda3\\lib\\site-packages\\numpy\\core\\include -IC:\\Users\\Wayne Linn\\anaconda3\\lib\\site-packages\\numpy\\core\\include -IC:\\Users\\Wayne Linn\\anaconda3\\include -IC:\\Users\\Wayne Linn\\anaconda3\\include -IC:\\Program Files (x86)\\Microsoft Visual Studio\\2019\\Community\\VC\\Tools\\MSVC\\14.29.30133\\ATLMFC\\include -IC:\\Program Files (x86)\\Microsoft Visual Studio\\2019\\Community\\VC\\Tools\\MSVC\\14.29.30133\\include -IC:\\Program Files (x86)\\Windows Kits\\10\\include\\10.0.19041.0\\ucrt -IC:\\Program Files (x86)\\Windows Kits\\10\\include\\10.0.19041.0\\shared -IC:\\Program Files (x86)\\Windows Kits\\10\\include\\10.0.19041.0\\um -IC:\\Program Files (x86)\\Windows Kits\\10\\include\\10.0.19041.0\\winrt -IC:\\Program Files (x86)\\Windows Kits\\10\\include\\10.0.19041.0\\cppwinrt /Tcskgarden\\mondrian\\tree\\_criterion.c /Fobuild\\temp.win-amd64-3.8\\Release\\skgarden\\mondrian\\tree\\_criterion.obj -O3\n",
      "  cl : Command line warning D9002 : ignoring unknown option '-O3'\n",
      "  C:\\Program Files (x86)\\Microsoft Visual Studio\\2019\\Community\\VC\\Tools\\MSVC\\14.29.30133\\bin\\HostX86\\x64\\link.exe /nologo /INCREMENTAL:NO /LTCG /DLL /MANIFEST:EMBED,ID=2 /MANIFESTUAC:NO /LIBPATH:C:\\Users\\Wayne Linn\\anaconda3\\libs /LIBPATH:C:\\Users\\Wayne Linn\\anaconda3\\PCbuild\\amd64 /LIBPATH:C:\\Program Files (x86)\\Microsoft Visual Studio\\2019\\Community\\VC\\Tools\\MSVC\\14.29.30133\\ATLMFC\\lib\\x64 /LIBPATH:C:\\Program Files (x86)\\Microsoft Visual Studio\\2019\\Community\\VC\\Tools\\MSVC\\14.29.30133\\lib\\x64 /LIBPATH:C:\\Program Files (x86)\\Windows Kits\\10\\lib\\10.0.19041.0\\ucrt\\x64 /LIBPATH:C:\\Program Files (x86)\\Windows Kits\\10\\lib\\10.0.19041.0\\um\\x64 /EXPORT:PyInit__criterion build\\temp.win-amd64-3.8\\Release\\skgarden\\mondrian\\tree\\_criterion.obj /OUT:build\\lib.win-amd64-3.8\\skgarden\\mondrian\\tree\\_criterion.cp38-win_amd64.pyd /IMPLIB:build\\temp.win-amd64-3.8\\Release\\skgarden\\mondrian\\tree\\_criterion.cp38-win_amd64.lib\n",
      "  building 'skgarden.mondrian.tree._utils' extension\n",
      "  compiling C sources\n",
      "  C:\\Program Files (x86)\\Microsoft Visual Studio\\2019\\Community\\VC\\Tools\\MSVC\\14.29.30133\\bin\\HostX86\\x64\\cl.exe /c /nologo /Ox /W3 /GL /DNDEBUG /MD -IC:\\Users\\Wayne Linn\\anaconda3\\lib\\site-packages\\numpy\\core\\include -IC:\\Users\\Wayne Linn\\anaconda3\\lib\\site-packages\\numpy\\core\\include -IC:\\Users\\Wayne Linn\\anaconda3\\include -IC:\\Users\\Wayne Linn\\anaconda3\\include -IC:\\Program Files (x86)\\Microsoft Visual Studio\\2019\\Community\\VC\\Tools\\MSVC\\14.29.30133\\ATLMFC\\include -IC:\\Program Files (x86)\\Microsoft Visual Studio\\2019\\Community\\VC\\Tools\\MSVC\\14.29.30133\\include -IC:\\Program Files (x86)\\Windows Kits\\10\\include\\10.0.19041.0\\ucrt -IC:\\Program Files (x86)\\Windows Kits\\10\\include\\10.0.19041.0\\shared -IC:\\Program Files (x86)\\Windows Kits\\10\\include\\10.0.19041.0\\um -IC:\\Program Files (x86)\\Windows Kits\\10\\include\\10.0.19041.0\\winrt -IC:\\Program Files (x86)\\Windows Kits\\10\\include\\10.0.19041.0\\cppwinrt /Tcskgarden\\mondrian\\tree\\_utils.c /Fobuild\\temp.win-amd64-3.8\\Release\\skgarden\\mondrian\\tree\\_utils.obj -O3\n",
      "  cl : Command line warning D9002 : ignoring unknown option '-O3'\n",
      "  C:\\Program Files (x86)\\Microsoft Visual Studio\\2019\\Community\\VC\\Tools\\MSVC\\14.29.30133\\bin\\HostX86\\x64\\link.exe /nologo /INCREMENTAL:NO /LTCG /DLL /MANIFEST:EMBED,ID=2 /MANIFESTUAC:NO /LIBPATH:C:\\Users\\Wayne Linn\\anaconda3\\libs /LIBPATH:C:\\Users\\Wayne Linn\\anaconda3\\PCbuild\\amd64 /LIBPATH:C:\\Program Files (x86)\\Microsoft Visual Studio\\2019\\Community\\VC\\Tools\\MSVC\\14.29.30133\\ATLMFC\\lib\\x64 /LIBPATH:C:\\Program Files (x86)\\Microsoft Visual Studio\\2019\\Community\\VC\\Tools\\MSVC\\14.29.30133\\lib\\x64 /LIBPATH:C:\\Program Files (x86)\\Windows Kits\\10\\lib\\10.0.19041.0\\ucrt\\x64 /LIBPATH:C:\\Program Files (x86)\\Windows Kits\\10\\lib\\10.0.19041.0\\um\\x64 /EXPORT:PyInit__utils build\\temp.win-amd64-3.8\\Release\\skgarden\\mondrian\\tree\\_utils.obj /OUT:build\\lib.win-amd64-3.8\\skgarden\\mondrian\\tree\\_utils.cp38-win_amd64.pyd /IMPLIB:build\\temp.win-amd64-3.8\\Release\\skgarden\\mondrian\\tree\\_utils.cp38-win_amd64.lib\n",
      "  installing to build\\bdist.win-amd64\\wheel\n",
      "  running install\n",
      "  running install_lib\n",
      "  creating build\\bdist.win-amd64\n",
      "  creating build\\bdist.win-amd64\\wheel\n",
      "  creating build\\bdist.win-amd64\\wheel\\skgarden\n",
      "  copying build\\lib.win-amd64-3.8\\skgarden\\forest.py -> build\\bdist.win-amd64\\wheel\\.\\skgarden\n",
      "  creating build\\bdist.win-amd64\\wheel\\skgarden\\mondrian\n",
      "  creating build\\bdist.win-amd64\\wheel\\skgarden\\mondrian\\ensemble\n",
      "  copying build\\lib.win-amd64-3.8\\skgarden\\mondrian\\ensemble\\forest.py -> build\\bdist.win-amd64\\wheel\\.\\skgarden\\mondrian\\ensemble\n",
      "  copying build\\lib.win-amd64-3.8\\skgarden\\mondrian\\ensemble\\setup.py -> build\\bdist.win-amd64\\wheel\\.\\skgarden\\mondrian\\ensemble\n",
      "  copying build\\lib.win-amd64-3.8\\skgarden\\mondrian\\ensemble\\__init__.py -> build\\bdist.win-amd64\\wheel\\.\\skgarden\\mondrian\\ensemble\n",
      "  copying build\\lib.win-amd64-3.8\\skgarden\\mondrian\\setup.py -> build\\bdist.win-amd64\\wheel\\.\\skgarden\\mondrian\n",
      "  creating build\\bdist.win-amd64\\wheel\\skgarden\\mondrian\\tree\n",
      "  copying build\\lib.win-amd64-3.8\\skgarden\\mondrian\\tree\\setup.py -> build\\bdist.win-amd64\\wheel\\.\\skgarden\\mondrian\\tree\n",
      "  copying build\\lib.win-amd64-3.8\\skgarden\\mondrian\\tree\\tree.py -> build\\bdist.win-amd64\\wheel\\.\\skgarden\\mondrian\\tree\n",
      "  copying build\\lib.win-amd64-3.8\\skgarden\\mondrian\\tree\\_criterion.cp38-win_amd64.pyd -> build\\bdist.win-amd64\\wheel\\.\\skgarden\\mondrian\\tree\n",
      "  copying build\\lib.win-amd64-3.8\\skgarden\\mondrian\\tree\\_splitter.cp38-win_amd64.pyd -> build\\bdist.win-amd64\\wheel\\.\\skgarden\\mondrian\\tree\n",
      "  copying build\\lib.win-amd64-3.8\\skgarden\\mondrian\\tree\\_tree.cp38-win_amd64.pyd -> build\\bdist.win-amd64\\wheel\\.\\skgarden\\mondrian\\tree\n",
      "  copying build\\lib.win-amd64-3.8\\skgarden\\mondrian\\tree\\_utils.cp38-win_amd64.pyd -> build\\bdist.win-amd64\\wheel\\.\\skgarden\\mondrian\\tree\n",
      "  copying build\\lib.win-amd64-3.8\\skgarden\\mondrian\\tree\\__init__.py -> build\\bdist.win-amd64\\wheel\\.\\skgarden\\mondrian\\tree\n",
      "  copying build\\lib.win-amd64-3.8\\skgarden\\mondrian\\__init__.py -> build\\bdist.win-amd64\\wheel\\.\\skgarden\\mondrian\n",
      "  creating build\\bdist.win-amd64\\wheel\\skgarden\\quantile\n",
      "  copying build\\lib.win-amd64-3.8\\skgarden\\quantile\\ensemble.py -> build\\bdist.win-amd64\\wheel\\.\\skgarden\\quantile\n",
      "  copying build\\lib.win-amd64-3.8\\skgarden\\quantile\\setup.py -> build\\bdist.win-amd64\\wheel\\.\\skgarden\\quantile\n",
      "  copying build\\lib.win-amd64-3.8\\skgarden\\quantile\\tree.py -> build\\bdist.win-amd64\\wheel\\.\\skgarden\\quantile\n",
      "  copying build\\lib.win-amd64-3.8\\skgarden\\quantile\\utils.py -> build\\bdist.win-amd64\\wheel\\.\\skgarden\\quantile\n",
      "  copying build\\lib.win-amd64-3.8\\skgarden\\quantile\\__init__.py -> build\\bdist.win-amd64\\wheel\\.\\skgarden\\quantile\n",
      "  copying build\\lib.win-amd64-3.8\\skgarden\\setup.py -> build\\bdist.win-amd64\\wheel\\.\\skgarden\n",
      "  copying build\\lib.win-amd64-3.8\\skgarden\\__init__.py -> build\\bdist.win-amd64\\wheel\\.\\skgarden\n",
      "  running install_egg_info\n",
      "  running egg_info\n",
      "  writing scikit_garden.egg-info\\PKG-INFO\n",
      "  writing dependency_links to scikit_garden.egg-info\\dependency_links.txt\n",
      "  writing requirements to scikit_garden.egg-info\\requires.txt\n",
      "  writing top-level names to scikit_garden.egg-info\\top_level.txt\n",
      "  reading manifest file 'scikit_garden.egg-info\\SOURCES.txt'\n",
      "  Traceback (most recent call last):\n",
      "    File \"<string>\", line 1, in <module>\n",
      "    File \"C:\\Users\\Wayne Linn\\AppData\\Local\\Temp\\pip-install-6a8ac02w\\scikit-garden\\setup.py\", line 36, in <module>\n",
      "      setup(configuration=configuration,\n",
      "    File \"C:\\Users\\Wayne Linn\\anaconda3\\lib\\site-packages\\numpy\\distutils\\core.py\", line 169, in setup\n",
      "      return old_setup(**new_attr)\n",
      "    File \"C:\\Users\\Wayne Linn\\anaconda3\\lib\\site-packages\\setuptools\\__init__.py\", line 153, in setup\n",
      "      return distutils.core.setup(**attrs)\n",
      "    File \"C:\\Users\\Wayne Linn\\anaconda3\\lib\\distutils\\core.py\", line 148, in setup\n",
      "      dist.run_commands()\n",
      "    File \"C:\\Users\\Wayne Linn\\anaconda3\\lib\\distutils\\dist.py\", line 966, in run_commands\n",
      "      self.run_command(cmd)\n",
      "    File \"C:\\Users\\Wayne Linn\\anaconda3\\lib\\distutils\\dist.py\", line 985, in run_command\n",
      "      cmd_obj.run()\n",
      "    File \"C:\\Users\\Wayne Linn\\AppData\\Roaming\\Python\\Python38\\site-packages\\wheel\\bdist_wheel.py\", line 326, in run\n",
      "      self.run_command('install')\n",
      "    File \"C:\\Users\\Wayne Linn\\anaconda3\\lib\\distutils\\cmd.py\", line 313, in run_command\n",
      "      self.distribution.run_command(command)\n",
      "    File \"C:\\Users\\Wayne Linn\\anaconda3\\lib\\distutils\\dist.py\", line 985, in run_command\n",
      "      cmd_obj.run()\n",
      "    File \"C:\\Users\\Wayne Linn\\anaconda3\\lib\\site-packages\\numpy\\distutils\\command\\install.py\", line 60, in run\n",
      "      r = self.setuptools_run()\n",
      "    File \"C:\\Users\\Wayne Linn\\anaconda3\\lib\\site-packages\\numpy\\distutils\\command\\install.py\", line 34, in setuptools_run\n",
      "      return distutils_install.run(self)\n",
      "    File \"C:\\Users\\Wayne Linn\\anaconda3\\lib\\distutils\\command\\install.py\", line 557, in run\n",
      "      self.run_command(cmd_name)\n",
      "    File \"C:\\Users\\Wayne Linn\\anaconda3\\lib\\distutils\\cmd.py\", line 313, in run_command\n",
      "      self.distribution.run_command(command)\n",
      "    File \"C:\\Users\\Wayne Linn\\anaconda3\\lib\\distutils\\dist.py\", line 985, in run_command\n",
      "      cmd_obj.run()\n",
      "    File \"C:\\Users\\Wayne Linn\\anaconda3\\lib\\site-packages\\setuptools\\command\\install_egg_info.py\", line 34, in run\n",
      "      self.run_command('egg_info')\n",
      "    File \"C:\\Users\\Wayne Linn\\anaconda3\\lib\\distutils\\cmd.py\", line 313, in run_command\n",
      "      self.distribution.run_command(command)\n",
      "    File \"C:\\Users\\Wayne Linn\\anaconda3\\lib\\distutils\\dist.py\", line 985, in run_command\n",
      "      cmd_obj.run()\n",
      "    File \"C:\\Users\\Wayne Linn\\anaconda3\\lib\\site-packages\\numpy\\distutils\\command\\egg_info.py\", line 25, in run\n",
      "      _egg_info.run(self)\n",
      "    File \"C:\\Users\\Wayne Linn\\anaconda3\\lib\\site-packages\\setuptools\\command\\egg_info.py\", line 298, in run\n",
      "      self.find_sources()\n",
      "    File \"C:\\Users\\Wayne Linn\\anaconda3\\lib\\site-packages\\setuptools\\command\\egg_info.py\", line 305, in find_sources\n",
      "      mm.run()\n",
      "    File \"C:\\Users\\Wayne Linn\\anaconda3\\lib\\site-packages\\setuptools\\command\\egg_info.py\", line 536, in run\n",
      "      self.add_defaults()\n",
      "    File \"C:\\Users\\Wayne Linn\\anaconda3\\lib\\site-packages\\setuptools\\command\\egg_info.py\", line 580, in add_defaults\n",
      "      self.read_manifest()\n",
      "    File \"C:\\Users\\Wayne Linn\\anaconda3\\lib\\site-packages\\setuptools\\command\\sdist.py\", line 190, in read_manifest\n",
      "      self.filelist.append(line)\n",
      "    File \"C:\\Users\\Wayne Linn\\anaconda3\\lib\\site-packages\\setuptools\\command\\egg_info.py\", line 478, in append\n",
      "      path = convert_path(item)\n",
      "    File \"C:\\Users\\Wayne Linn\\anaconda3\\lib\\distutils\\util.py\", line 122, in convert_path\n",
      "      raise ValueError(\"path '%s' cannot be absolute\" % pathname)\n",
      "  ValueError: path '/usr/local/lib/python3.5/dist-packages/numpy/core/include/numpy/arrayobject.h' cannot be absolute\n",
      "  ----------------------------------------\n",
      "  ERROR: Failed building wheel for scikit-garden\n",
      "    ERROR: Command errored out with exit status 1:\n",
      "     command: 'C:\\Users\\Wayne Linn\\anaconda3\\python.exe' -u -c 'import sys, setuptools, tokenize; sys.argv[0] = '\"'\"'C:\\\\Users\\\\Wayne Linn\\\\AppData\\\\Local\\\\Temp\\\\pip-install-6a8ac02w\\\\scikit-garden\\\\setup.py'\"'\"'; __file__='\"'\"'C:\\\\Users\\\\Wayne Linn\\\\AppData\\\\Local\\\\Temp\\\\pip-install-6a8ac02w\\\\scikit-garden\\\\setup.py'\"'\"';f=getattr(tokenize, '\"'\"'open'\"'\"', open)(__file__);code=f.read().replace('\"'\"'\\r\\n'\"'\"', '\"'\"'\\n'\"'\"');f.close();exec(compile(code, __file__, '\"'\"'exec'\"'\"'))' install --record 'C:\\Users\\Wayne Linn\\AppData\\Local\\Temp\\pip-record-06aatsw3\\install-record.txt' --single-version-externally-managed --compile --install-headers 'C:\\Users\\Wayne Linn\\anaconda3\\Include\\scikit-garden'\n",
      "         cwd: C:\\Users\\Wayne Linn\\AppData\\Local\\Temp\\pip-install-6a8ac02w\\scikit-garden\\\n",
      "    Complete output (133 lines):\n",
      "    Appending skgarden.mondrian.tree configuration to skgarden.mondrian\n",
      "    Ignoring attempt to set 'name' (from 'skgarden.mondrian' to 'skgarden.mondrian.tree')\n",
      "    Appending skgarden.mondrian.ensemble configuration to skgarden.mondrian\n",
      "    Ignoring attempt to set 'name' (from 'skgarden.mondrian' to 'skgarden.mondrian.ensemble')\n",
      "    Appending skgarden.mondrian configuration to skgarden\n",
      "    Ignoring attempt to set 'name' (from 'skgarden' to 'skgarden.mondrian')\n",
      "    Appending skgarden.quantile configuration to skgarden\n",
      "    Ignoring attempt to set 'name' (from 'skgarden' to 'skgarden.quantile')\n",
      "    Appending skgarden configuration to\n",
      "    Ignoring attempt to set 'name' (from '' to 'skgarden')\n",
      "    running install\n",
      "    running build\n",
      "    running config_cc\n",
      "    unifing config_cc, config, build_clib, build_ext, build commands --compiler options\n",
      "    running config_fc\n",
      "    unifing config_fc, config, build_clib, build_ext, build commands --fcompiler options\n",
      "    running build_src\n",
      "    build_src\n",
      "    building extension \"skgarden.mondrian.tree._tree\" sources\n",
      "    building extension \"skgarden.mondrian.tree._splitter\" sources\n",
      "    building extension \"skgarden.mondrian.tree._criterion\" sources\n",
      "    building extension \"skgarden.mondrian.tree._utils\" sources\n",
      "    build_src: building npy-pkg config files\n",
      "    running build_py\n",
      "    creating build\n",
      "    creating build\\lib.win-amd64-3.8\n",
      "    creating build\\lib.win-amd64-3.8\\skgarden\n",
      "    copying skgarden\\forest.py -> build\\lib.win-amd64-3.8\\skgarden\n",
      "    copying skgarden\\setup.py -> build\\lib.win-amd64-3.8\\skgarden\n",
      "    copying skgarden\\__init__.py -> build\\lib.win-amd64-3.8\\skgarden\n",
      "    creating build\\lib.win-amd64-3.8\\skgarden\\mondrian\n",
      "    copying skgarden\\mondrian\\setup.py -> build\\lib.win-amd64-3.8\\skgarden\\mondrian\n",
      "    copying skgarden\\mondrian\\__init__.py -> build\\lib.win-amd64-3.8\\skgarden\\mondrian\n",
      "    creating build\\lib.win-amd64-3.8\\skgarden\\quantile\n",
      "    copying skgarden\\quantile\\ensemble.py -> build\\lib.win-amd64-3.8\\skgarden\\quantile\n",
      "    copying skgarden\\quantile\\setup.py -> build\\lib.win-amd64-3.8\\skgarden\\quantile\n",
      "    copying skgarden\\quantile\\tree.py -> build\\lib.win-amd64-3.8\\skgarden\\quantile\n",
      "    copying skgarden\\quantile\\utils.py -> build\\lib.win-amd64-3.8\\skgarden\\quantile\n",
      "    copying skgarden\\quantile\\__init__.py -> build\\lib.win-amd64-3.8\\skgarden\\quantile\n",
      "    creating build\\lib.win-amd64-3.8\\skgarden\\mondrian\\ensemble\n",
      "    copying skgarden\\mondrian\\ensemble\\forest.py -> build\\lib.win-amd64-3.8\\skgarden\\mondrian\\ensemble\n",
      "    copying skgarden\\mondrian\\ensemble\\setup.py -> build\\lib.win-amd64-3.8\\skgarden\\mondrian\\ensemble\n",
      "    copying skgarden\\mondrian\\ensemble\\__init__.py -> build\\lib.win-amd64-3.8\\skgarden\\mondrian\\ensemble\n",
      "    creating build\\lib.win-amd64-3.8\\skgarden\\mondrian\\tree\n",
      "    copying skgarden\\mondrian\\tree\\setup.py -> build\\lib.win-amd64-3.8\\skgarden\\mondrian\\tree\n",
      "    copying skgarden\\mondrian\\tree\\tree.py -> build\\lib.win-amd64-3.8\\skgarden\\mondrian\\tree\n",
      "    copying skgarden\\mondrian\\tree\\__init__.py -> build\\lib.win-amd64-3.8\\skgarden\\mondrian\\tree\n",
      "    running build_ext\n",
      "    No module named 'numpy.distutils._msvccompiler' in numpy.distutils; trying from distutils\n",
      "    customize MSVCCompiler\n",
      "    customize MSVCCompiler using build_ext\n",
      "    building 'skgarden.mondrian.tree._tree' extension\n",
      "    compiling C sources\n",
      "    creating build\\temp.win-amd64-3.8\\Release\\skgarden\n",
      "    creating build\\temp.win-amd64-3.8\\Release\\skgarden\\mondrian\n",
      "    creating build\\temp.win-amd64-3.8\\Release\\skgarden\\mondrian\\tree\n",
      "    C:\\Program Files (x86)\\Microsoft Visual Studio\\2019\\Community\\VC\\Tools\\MSVC\\14.29.30133\\bin\\HostX86\\x64\\cl.exe /c /nologo /Ox /W3 /GL /DNDEBUG /MD -IC:\\Users\\Wayne Linn\\anaconda3\\lib\\site-packages\\numpy\\core\\include -IC:\\Users\\Wayne Linn\\anaconda3\\lib\\site-packages\\numpy\\core\\include -IC:\\Users\\Wayne Linn\\anaconda3\\include -IC:\\Users\\Wayne Linn\\anaconda3\\include -IC:\\Program Files (x86)\\Microsoft Visual Studio\\2019\\Community\\VC\\Tools\\MSVC\\14.29.30133\\ATLMFC\\include -IC:\\Program Files (x86)\\Microsoft Visual Studio\\2019\\Community\\VC\\Tools\\MSVC\\14.29.30133\\include -IC:\\Program Files (x86)\\Windows Kits\\10\\include\\10.0.19041.0\\ucrt -IC:\\Program Files (x86)\\Windows Kits\\10\\include\\10.0.19041.0\\shared -IC:\\Program Files (x86)\\Windows Kits\\10\\include\\10.0.19041.0\\um -IC:\\Program Files (x86)\\Windows Kits\\10\\include\\10.0.19041.0\\winrt -IC:\\Program Files (x86)\\Windows Kits\\10\\include\\10.0.19041.0\\cppwinrt /Tcskgarden\\mondrian\\tree\\_tree.c /Fobuild\\temp.win-amd64-3.8\\Release\\skgarden\\mondrian\\tree\\_tree.obj -O3\n",
      "    cl : Command line warning D9002 : ignoring unknown option '-O3'\n",
      "    C:\\Program Files (x86)\\Microsoft Visual Studio\\2019\\Community\\VC\\Tools\\MSVC\\14.29.30133\\bin\\HostX86\\x64\\link.exe /nologo /INCREMENTAL:NO /LTCG /DLL /MANIFEST:EMBED,ID=2 /MANIFESTUAC:NO /LIBPATH:C:\\Users\\Wayne Linn\\anaconda3\\libs /LIBPATH:C:\\Users\\Wayne Linn\\anaconda3\\PCbuild\\amd64 /LIBPATH:C:\\Program Files (x86)\\Microsoft Visual Studio\\2019\\Community\\VC\\Tools\\MSVC\\14.29.30133\\ATLMFC\\lib\\x64 /LIBPATH:C:\\Program Files (x86)\\Microsoft Visual Studio\\2019\\Community\\VC\\Tools\\MSVC\\14.29.30133\\lib\\x64 /LIBPATH:C:\\Program Files (x86)\\Windows Kits\\10\\lib\\10.0.19041.0\\ucrt\\x64 /LIBPATH:C:\\Program Files (x86)\\Windows Kits\\10\\lib\\10.0.19041.0\\um\\x64 /EXPORT:PyInit__tree build\\temp.win-amd64-3.8\\Release\\skgarden\\mondrian\\tree\\_tree.obj /OUT:build\\lib.win-amd64-3.8\\skgarden\\mondrian\\tree\\_tree.cp38-win_amd64.pyd /IMPLIB:build\\temp.win-amd64-3.8\\Release\\skgarden\\mondrian\\tree\\_tree.cp38-win_amd64.lib\n",
      "    building 'skgarden.mondrian.tree._splitter' extension\n",
      "    compiling C sources\n",
      "    C:\\Program Files (x86)\\Microsoft Visual Studio\\2019\\Community\\VC\\Tools\\MSVC\\14.29.30133\\bin\\HostX86\\x64\\cl.exe /c /nologo /Ox /W3 /GL /DNDEBUG /MD -IC:\\Users\\Wayne Linn\\anaconda3\\lib\\site-packages\\numpy\\core\\include -IC:\\Users\\Wayne Linn\\anaconda3\\lib\\site-packages\\numpy\\core\\include -IC:\\Users\\Wayne Linn\\anaconda3\\include -IC:\\Users\\Wayne Linn\\anaconda3\\include -IC:\\Program Files (x86)\\Microsoft Visual Studio\\2019\\Community\\VC\\Tools\\MSVC\\14.29.30133\\ATLMFC\\include -IC:\\Program Files (x86)\\Microsoft Visual Studio\\2019\\Community\\VC\\Tools\\MSVC\\14.29.30133\\include -IC:\\Program Files (x86)\\Windows Kits\\10\\include\\10.0.19041.0\\ucrt -IC:\\Program Files (x86)\\Windows Kits\\10\\include\\10.0.19041.0\\shared -IC:\\Program Files (x86)\\Windows Kits\\10\\include\\10.0.19041.0\\um -IC:\\Program Files (x86)\\Windows Kits\\10\\include\\10.0.19041.0\\winrt -IC:\\Program Files (x86)\\Windows Kits\\10\\include\\10.0.19041.0\\cppwinrt /Tcskgarden\\mondrian\\tree\\_splitter.c /Fobuild\\temp.win-amd64-3.8\\Release\\skgarden\\mondrian\\tree\\_splitter.obj -O3\n",
      "    cl : Command line warning D9002 : ignoring unknown option '-O3'\n",
      "    C:\\Program Files (x86)\\Microsoft Visual Studio\\2019\\Community\\VC\\Tools\\MSVC\\14.29.30133\\bin\\HostX86\\x64\\link.exe /nologo /INCREMENTAL:NO /LTCG /DLL /MANIFEST:EMBED,ID=2 /MANIFESTUAC:NO /LIBPATH:C:\\Users\\Wayne Linn\\anaconda3\\libs /LIBPATH:C:\\Users\\Wayne Linn\\anaconda3\\PCbuild\\amd64 /LIBPATH:C:\\Program Files (x86)\\Microsoft Visual Studio\\2019\\Community\\VC\\Tools\\MSVC\\14.29.30133\\ATLMFC\\lib\\x64 /LIBPATH:C:\\Program Files (x86)\\Microsoft Visual Studio\\2019\\Community\\VC\\Tools\\MSVC\\14.29.30133\\lib\\x64 /LIBPATH:C:\\Program Files (x86)\\Windows Kits\\10\\lib\\10.0.19041.0\\ucrt\\x64 /LIBPATH:C:\\Program Files (x86)\\Windows Kits\\10\\lib\\10.0.19041.0\\um\\x64 /EXPORT:PyInit__splitter build\\temp.win-amd64-3.8\\Release\\skgarden\\mondrian\\tree\\_splitter.obj /OUT:build\\lib.win-amd64-3.8\\skgarden\\mondrian\\tree\\_splitter.cp38-win_amd64.pyd /IMPLIB:build\\temp.win-amd64-3.8\\Release\\skgarden\\mondrian\\tree\\_splitter.cp38-win_amd64.lib\n",
      "    building 'skgarden.mondrian.tree._criterion' extension\n",
      "    compiling C sources\n",
      "    C:\\Program Files (x86)\\Microsoft Visual Studio\\2019\\Community\\VC\\Tools\\MSVC\\14.29.30133\\bin\\HostX86\\x64\\cl.exe /c /nologo /Ox /W3 /GL /DNDEBUG /MD -IC:\\Users\\Wayne Linn\\anaconda3\\lib\\site-packages\\numpy\\core\\include -IC:\\Users\\Wayne Linn\\anaconda3\\lib\\site-packages\\numpy\\core\\include -IC:\\Users\\Wayne Linn\\anaconda3\\include -IC:\\Users\\Wayne Linn\\anaconda3\\include -IC:\\Program Files (x86)\\Microsoft Visual Studio\\2019\\Community\\VC\\Tools\\MSVC\\14.29.30133\\ATLMFC\\include -IC:\\Program Files (x86)\\Microsoft Visual Studio\\2019\\Community\\VC\\Tools\\MSVC\\14.29.30133\\include -IC:\\Program Files (x86)\\Windows Kits\\10\\include\\10.0.19041.0\\ucrt -IC:\\Program Files (x86)\\Windows Kits\\10\\include\\10.0.19041.0\\shared -IC:\\Program Files (x86)\\Windows Kits\\10\\include\\10.0.19041.0\\um -IC:\\Program Files (x86)\\Windows Kits\\10\\include\\10.0.19041.0\\winrt -IC:\\Program Files (x86)\\Windows Kits\\10\\include\\10.0.19041.0\\cppwinrt /Tcskgarden\\mondrian\\tree\\_criterion.c /Fobuild\\temp.win-amd64-3.8\\Release\\skgarden\\mondrian\\tree\\_criterion.obj -O3\n",
      "    cl : Command line warning D9002 : ignoring unknown option '-O3'\n",
      "    C:\\Program Files (x86)\\Microsoft Visual Studio\\2019\\Community\\VC\\Tools\\MSVC\\14.29.30133\\bin\\HostX86\\x64\\link.exe /nologo /INCREMENTAL:NO /LTCG /DLL /MANIFEST:EMBED,ID=2 /MANIFESTUAC:NO /LIBPATH:C:\\Users\\Wayne Linn\\anaconda3\\libs /LIBPATH:C:\\Users\\Wayne Linn\\anaconda3\\PCbuild\\amd64 /LIBPATH:C:\\Program Files (x86)\\Microsoft Visual Studio\\2019\\Community\\VC\\Tools\\MSVC\\14.29.30133\\ATLMFC\\lib\\x64 /LIBPATH:C:\\Program Files (x86)\\Microsoft Visual Studio\\2019\\Community\\VC\\Tools\\MSVC\\14.29.30133\\lib\\x64 /LIBPATH:C:\\Program Files (x86)\\Windows Kits\\10\\lib\\10.0.19041.0\\ucrt\\x64 /LIBPATH:C:\\Program Files (x86)\\Windows Kits\\10\\lib\\10.0.19041.0\\um\\x64 /EXPORT:PyInit__criterion build\\temp.win-amd64-3.8\\Release\\skgarden\\mondrian\\tree\\_criterion.obj /OUT:build\\lib.win-amd64-3.8\\skgarden\\mondrian\\tree\\_criterion.cp38-win_amd64.pyd /IMPLIB:build\\temp.win-amd64-3.8\\Release\\skgarden\\mondrian\\tree\\_criterion.cp38-win_amd64.lib\n",
      "    building 'skgarden.mondrian.tree._utils' extension\n",
      "    compiling C sources\n",
      "    C:\\Program Files (x86)\\Microsoft Visual Studio\\2019\\Community\\VC\\Tools\\MSVC\\14.29.30133\\bin\\HostX86\\x64\\cl.exe /c /nologo /Ox /W3 /GL /DNDEBUG /MD -IC:\\Users\\Wayne Linn\\anaconda3\\lib\\site-packages\\numpy\\core\\include -IC:\\Users\\Wayne Linn\\anaconda3\\lib\\site-packages\\numpy\\core\\include -IC:\\Users\\Wayne Linn\\anaconda3\\include -IC:\\Users\\Wayne Linn\\anaconda3\\include -IC:\\Program Files (x86)\\Microsoft Visual Studio\\2019\\Community\\VC\\Tools\\MSVC\\14.29.30133\\ATLMFC\\include -IC:\\Program Files (x86)\\Microsoft Visual Studio\\2019\\Community\\VC\\Tools\\MSVC\\14.29.30133\\include -IC:\\Program Files (x86)\\Windows Kits\\10\\include\\10.0.19041.0\\ucrt -IC:\\Program Files (x86)\\Windows Kits\\10\\include\\10.0.19041.0\\shared -IC:\\Program Files (x86)\\Windows Kits\\10\\include\\10.0.19041.0\\um -IC:\\Program Files (x86)\\Windows Kits\\10\\include\\10.0.19041.0\\winrt -IC:\\Program Files (x86)\\Windows Kits\\10\\include\\10.0.19041.0\\cppwinrt /Tcskgarden\\mondrian\\tree\\_utils.c /Fobuild\\temp.win-amd64-3.8\\Release\\skgarden\\mondrian\\tree\\_utils.obj -O3\n",
      "    cl : Command line warning D9002 : ignoring unknown option '-O3'\n",
      "    C:\\Program Files (x86)\\Microsoft Visual Studio\\2019\\Community\\VC\\Tools\\MSVC\\14.29.30133\\bin\\HostX86\\x64\\link.exe /nologo /INCREMENTAL:NO /LTCG /DLL /MANIFEST:EMBED,ID=2 /MANIFESTUAC:NO /LIBPATH:C:\\Users\\Wayne Linn\\anaconda3\\libs /LIBPATH:C:\\Users\\Wayne Linn\\anaconda3\\PCbuild\\amd64 /LIBPATH:C:\\Program Files (x86)\\Microsoft Visual Studio\\2019\\Community\\VC\\Tools\\MSVC\\14.29.30133\\ATLMFC\\lib\\x64 /LIBPATH:C:\\Program Files (x86)\\Microsoft Visual Studio\\2019\\Community\\VC\\Tools\\MSVC\\14.29.30133\\lib\\x64 /LIBPATH:C:\\Program Files (x86)\\Windows Kits\\10\\lib\\10.0.19041.0\\ucrt\\x64 /LIBPATH:C:\\Program Files (x86)\\Windows Kits\\10\\lib\\10.0.19041.0\\um\\x64 /EXPORT:PyInit__utils build\\temp.win-amd64-3.8\\Release\\skgarden\\mondrian\\tree\\_utils.obj /OUT:build\\lib.win-amd64-3.8\\skgarden\\mondrian\\tree\\_utils.cp38-win_amd64.pyd /IMPLIB:build\\temp.win-amd64-3.8\\Release\\skgarden\\mondrian\\tree\\_utils.cp38-win_amd64.lib\n",
      "    running install_lib\n",
      "    copying build\\lib.win-amd64-3.8\\skgarden\\mondrian\\tree\\_criterion.cp38-win_amd64.pyd -> C:\\Users\\Wayne Linn\\anaconda3\\Lib\\site-packages\\skgarden\\mondrian\\tree\n",
      "    copying build\\lib.win-amd64-3.8\\skgarden\\mondrian\\tree\\_splitter.cp38-win_amd64.pyd -> C:\\Users\\Wayne Linn\\anaconda3\\Lib\\site-packages\\skgarden\\mondrian\\tree\n",
      "    copying build\\lib.win-amd64-3.8\\skgarden\\mondrian\\tree\\_tree.cp38-win_amd64.pyd -> C:\\Users\\Wayne Linn\\anaconda3\\Lib\\site-packages\\skgarden\\mondrian\\tree\n",
      "    copying build\\lib.win-amd64-3.8\\skgarden\\mondrian\\tree\\_utils.cp38-win_amd64.pyd -> C:\\Users\\Wayne Linn\\anaconda3\\Lib\\site-packages\\skgarden\\mondrian\\tree\n",
      "    running install_egg_info\n",
      "    running egg_info\n",
      "    writing scikit_garden.egg-info\\PKG-INFO\n",
      "    writing dependency_links to scikit_garden.egg-info\\dependency_links.txt\n",
      "    writing requirements to scikit_garden.egg-info\\requires.txt\n",
      "    writing top-level names to scikit_garden.egg-info\\top_level.txt\n",
      "    reading manifest file 'scikit_garden.egg-info\\SOURCES.txt'\n",
      "    Traceback (most recent call last):\n",
      "      File \"<string>\", line 1, in <module>\n",
      "      File \"C:\\Users\\Wayne Linn\\AppData\\Local\\Temp\\pip-install-6a8ac02w\\scikit-garden\\setup.py\", line 36, in <module>\n",
      "        setup(configuration=configuration,\n",
      "      File \"C:\\Users\\Wayne Linn\\anaconda3\\lib\\site-packages\\numpy\\distutils\\core.py\", line 169, in setup\n",
      "        return old_setup(**new_attr)\n",
      "      File \"C:\\Users\\Wayne Linn\\anaconda3\\lib\\site-packages\\setuptools\\__init__.py\", line 153, in setup\n",
      "        return distutils.core.setup(**attrs)\n",
      "      File \"C:\\Users\\Wayne Linn\\anaconda3\\lib\\distutils\\core.py\", line 148, in setup\n",
      "        dist.run_commands()\n",
      "      File \"C:\\Users\\Wayne Linn\\anaconda3\\lib\\distutils\\dist.py\", line 966, in run_commands\n",
      "        self.run_command(cmd)\n",
      "      File \"C:\\Users\\Wayne Linn\\anaconda3\\lib\\distutils\\dist.py\", line 985, in run_command\n",
      "        cmd_obj.run()\n",
      "      File \"C:\\Users\\Wayne Linn\\anaconda3\\lib\\site-packages\\numpy\\distutils\\command\\install.py\", line 60, in run\n",
      "        r = self.setuptools_run()\n",
      "      File \"C:\\Users\\Wayne Linn\\anaconda3\\lib\\site-packages\\numpy\\distutils\\command\\install.py\", line 34, in setuptools_run\n",
      "        return distutils_install.run(self)\n",
      "      File \"C:\\Users\\Wayne Linn\\anaconda3\\lib\\distutils\\command\\install.py\", line 557, in run\n",
      "        self.run_command(cmd_name)\n",
      "      File \"C:\\Users\\Wayne Linn\\anaconda3\\lib\\distutils\\cmd.py\", line 313, in run_command\n",
      "        self.distribution.run_command(command)\n",
      "      File \"C:\\Users\\Wayne Linn\\anaconda3\\lib\\distutils\\dist.py\", line 985, in run_command\n",
      "        cmd_obj.run()\n",
      "      File \"C:\\Users\\Wayne Linn\\anaconda3\\lib\\site-packages\\setuptools\\command\\install_egg_info.py\", line 34, in run\n",
      "        self.run_command('egg_info')\n",
      "      File \"C:\\Users\\Wayne Linn\\anaconda3\\lib\\distutils\\cmd.py\", line 313, in run_command\n",
      "        self.distribution.run_command(command)\n",
      "      File \"C:\\Users\\Wayne Linn\\anaconda3\\lib\\distutils\\dist.py\", line 985, in run_command\n",
      "        cmd_obj.run()\n",
      "      File \"C:\\Users\\Wayne Linn\\anaconda3\\lib\\site-packages\\numpy\\distutils\\command\\egg_info.py\", line 25, in run\n",
      "        _egg_info.run(self)\n",
      "      File \"C:\\Users\\Wayne Linn\\anaconda3\\lib\\site-packages\\setuptools\\command\\egg_info.py\", line 298, in run\n",
      "        self.find_sources()\n",
      "      File \"C:\\Users\\Wayne Linn\\anaconda3\\lib\\site-packages\\setuptools\\command\\egg_info.py\", line 305, in find_sources\n",
      "        mm.run()\n",
      "      File \"C:\\Users\\Wayne Linn\\anaconda3\\lib\\site-packages\\setuptools\\command\\egg_info.py\", line 536, in run\n",
      "        self.add_defaults()\n",
      "      File \"C:\\Users\\Wayne Linn\\anaconda3\\lib\\site-packages\\setuptools\\command\\egg_info.py\", line 580, in add_defaults\n",
      "        self.read_manifest()\n",
      "      File \"C:\\Users\\Wayne Linn\\anaconda3\\lib\\site-packages\\setuptools\\command\\sdist.py\", line 190, in read_manifest\n",
      "        self.filelist.append(line)\n",
      "      File \"C:\\Users\\Wayne Linn\\anaconda3\\lib\\site-packages\\setuptools\\command\\egg_info.py\", line 478, in append\n",
      "        path = convert_path(item)\n",
      "      File \"C:\\Users\\Wayne Linn\\anaconda3\\lib\\distutils\\util.py\", line 122, in convert_path\n",
      "        raise ValueError(\"path '%s' cannot be absolute\" % pathname)\n",
      "    ValueError: path '/usr/local/lib/python3.5/dist-packages/numpy/core/include/numpy/arrayobject.h' cannot be absolute\n",
      "    ----------------------------------------\n",
      "ERROR: Command errored out with exit status 1: 'C:\\Users\\Wayne Linn\\anaconda3\\python.exe' -u -c 'import sys, setuptools, tokenize; sys.argv[0] = '\"'\"'C:\\\\Users\\\\Wayne Linn\\\\AppData\\\\Local\\\\Temp\\\\pip-install-6a8ac02w\\\\scikit-garden\\\\setup.py'\"'\"'; __file__='\"'\"'C:\\\\Users\\\\Wayne Linn\\\\AppData\\\\Local\\\\Temp\\\\pip-install-6a8ac02w\\\\scikit-garden\\\\setup.py'\"'\"';f=getattr(tokenize, '\"'\"'open'\"'\"', open)(__file__);code=f.read().replace('\"'\"'\\r\\n'\"'\"', '\"'\"'\\n'\"'\"');f.close();exec(compile(code, __file__, '\"'\"'exec'\"'\"'))' install --record 'C:\\Users\\Wayne Linn\\AppData\\Local\\Temp\\pip-record-06aatsw3\\install-record.txt' --single-version-externally-managed --compile --install-headers 'C:\\Users\\Wayne Linn\\anaconda3\\Include\\scikit-garden' Check the logs for full command output.\n"
     ]
    },
    {
     "name": "stdout",
     "output_type": "stream",
     "text": [
      "Requirement already satisfied: setuptools in c:\\users\\wayne linn\\anaconda3\\lib\\site-packages (50.3.1.post20201107)\n",
      "Requirement already satisfied: numpy in c:\\users\\wayne linn\\anaconda3\\lib\\site-packages (1.19.2)\n",
      "Requirement already satisfied: scipy in c:\\users\\wayne linn\\anaconda3\\lib\\site-packages (1.5.2)\n",
      "Requirement already satisfied: scikit-learn in c:\\users\\wayne linn\\anaconda3\\lib\\site-packages (0.23.2)\n",
      "Requirement already satisfied: cython in c:\\users\\wayne linn\\anaconda3\\lib\\site-packages (0.29.21)\n",
      "Requirement already satisfied: joblib>=0.11 in c:\\users\\wayne linn\\anaconda3\\lib\\site-packages (from scikit-learn) (0.17.0)\n",
      "Requirement already satisfied: threadpoolctl>=2.0.0 in c:\\users\\wayne linn\\anaconda3\\lib\\site-packages (from scikit-learn) (2.1.0)\n"
     ]
    }
   ],
   "source": [
    "!pip install scikit-garden\n",
    "!pip install setuptools numpy scipy scikit-learn cython"
   ]
  },
  {
   "cell_type": "code",
   "execution_count": 2,
   "metadata": {},
   "outputs": [
    {
     "name": "stderr",
     "output_type": "stream",
     "text": [
      "C:\\Users\\Wayne Linn\\anaconda3\\lib\\site-packages\\sklearn\\utils\\deprecation.py:143: FutureWarning: The sklearn.ensemble.forest module is  deprecated in version 0.22 and will be removed in version 0.24. The corresponding classes / functions should instead be imported from sklearn.ensemble. Anything that cannot be imported from sklearn.ensemble is now part of the private API.\n",
      "  warnings.warn(message, FutureWarning)\n",
      "C:\\Users\\Wayne Linn\\anaconda3\\lib\\site-packages\\sklearn\\utils\\deprecation.py:143: FutureWarning: The sklearn.tree.tree module is  deprecated in version 0.22 and will be removed in version 0.24. The corresponding classes / functions should instead be imported from sklearn.tree. Anything that cannot be imported from sklearn.tree is now part of the private API.\n",
      "  warnings.warn(message, FutureWarning)\n"
     ]
    }
   ],
   "source": [
    "import six\n",
    "import sys\n",
    "sys.modules['sklearn.externals.six'] = six\n",
    "\n",
    "import pandas as pd\n",
    "import numpy as np\n",
    "import matplotlib.pyplot as plt\n",
    "from sklearn.pipeline import Pipeline\n",
    "from sklearn.model_selection import GridSearchCV\n",
    "from sklearn.decomposition import PCA\n",
    "from sklearn.metrics import mean_squared_error as MSE\n",
    "from sklearn.linear_model import LinearRegression\n",
    "from sklearn.preprocessing import PolynomialFeatures\n",
    "from sklearn.model_selection import train_test_split\n",
    "from sklearn.linear_model import Lasso\n",
    "from sklearn.neighbors import KNeighborsRegressor\n",
    "from sklearn.tree import DecisionTreeRegressor\n",
    "from sklearn.ensemble import RandomForestRegressor\n",
    "from sklearn.ensemble import GradientBoostingRegressor\n",
    "from skgarden import RandomForestQuantileRegressor\n",
    "\n",
    "import warnings\n",
    "warnings.filterwarnings(\"ignore\")"
   ]
  },
  {
   "cell_type": "markdown",
   "metadata": {},
   "source": [
    "# 1. Import the train datasets"
   ]
  },
  {
   "cell_type": "code",
   "execution_count": 3,
   "metadata": {},
   "outputs": [],
   "source": [
    "X_train = pd.read_csv(\"data-train.csv\",index_col=0)\n",
    "Y_train = X_train.sales\n",
    "X_train = X_train.drop(['sales'],axis=1)"
   ]
  },
  {
   "cell_type": "code",
   "execution_count": 4,
   "metadata": {},
   "outputs": [],
   "source": [
    "Model_1 = RandomForestQuantileRegressor(n_estimators=100)"
   ]
  },
  {
   "cell_type": "markdown",
   "metadata": {},
   "source": [
    "# 2. Setup Pipeline (Not Used)"
   ]
  },
  {
   "cell_type": "markdown",
   "metadata": {},
   "source": [
    "# Quantile Regression Forest is not stable and does not work well with GridSearchCV"
   ]
  },
  {
   "cell_type": "code",
   "execution_count": 5,
   "metadata": {},
   "outputs": [],
   "source": [
    "\n",
    "RG = Model_1"
   ]
  },
  {
   "cell_type": "code",
   "execution_count": 6,
   "metadata": {},
   "outputs": [],
   "source": [
    "pipe = Pipeline(steps=[(\"RG\",RG)])"
   ]
  },
  {
   "cell_type": "code",
   "execution_count": 7,
   "metadata": {},
   "outputs": [],
   "source": [
    "param_grid = {\n",
    "    #\"pca__n_components\": [50, 100,170]\n",
    "}"
   ]
  },
  {
   "cell_type": "markdown",
   "metadata": {},
   "source": [
    "# 3. Setup GridSearch (Not Used)"
   ]
  },
  {
   "cell_type": "code",
   "execution_count": 8,
   "metadata": {},
   "outputs": [],
   "source": [
    "score_metric = 'neg_mean_squared_error'\n",
    "search = GridSearchCV(pipe,param_grid,\n",
    "                      n_jobs=-1,\n",
    "                      cv=10,\n",
    "                      scoring=score_metric)"
   ]
  },
  {
   "cell_type": "code",
   "execution_count": 9,
   "metadata": {},
   "outputs": [
    {
     "ename": "BrokenProcessPool",
     "evalue": "A task has failed to un-serialize. Please ensure that the arguments of the function are all picklable.",
     "output_type": "error",
     "traceback": [
      "\u001b[1;31m---------------------------------------------------------------------------\u001b[0m",
      "\u001b[1;31m_RemoteTraceback\u001b[0m                          Traceback (most recent call last)",
      "\u001b[1;31m_RemoteTraceback\u001b[0m: \n\"\"\"\nTraceback (most recent call last):\n  File \"C:\\Users\\Wayne Linn\\anaconda3\\lib\\site-packages\\joblib\\externals\\loky\\process_executor.py\", line 404, in _process_worker\n    call_item = call_queue.get(block=True, timeout=timeout)\n  File \"C:\\Users\\Wayne Linn\\anaconda3\\lib\\multiprocessing\\queues.py\", line 116, in get\n    return _ForkingPickler.loads(res)\n  File \"C:\\Users\\Wayne Linn\\anaconda3\\lib\\site-packages\\skgarden\\__init__.py\", line 3, in <module>\n    from .mondrian import MondrianForestClassifier\n  File \"C:\\Users\\Wayne Linn\\anaconda3\\lib\\site-packages\\skgarden\\mondrian\\__init__.py\", line 1, in <module>\n    from .ensemble import MondrianForestClassifier\n  File \"C:\\Users\\Wayne Linn\\anaconda3\\lib\\site-packages\\skgarden\\mondrian\\ensemble\\__init__.py\", line 1, in <module>\n    from .forest import MondrianForestClassifier\n  File \"C:\\Users\\Wayne Linn\\anaconda3\\lib\\site-packages\\skgarden\\mondrian\\ensemble\\forest.py\", line 9, in <module>\n    from ..tree import MondrianTreeClassifier\n  File \"C:\\Users\\Wayne Linn\\anaconda3\\lib\\site-packages\\skgarden\\mondrian\\tree\\__init__.py\", line 6, in <module>\n    from .tree import MondrianTreeRegressor\n  File \"C:\\Users\\Wayne Linn\\anaconda3\\lib\\site-packages\\skgarden\\mondrian\\tree\\tree.py\", line 31, in <module>\n    from sklearn.externals import six\nImportError: cannot import name 'six' from 'sklearn.externals' (C:\\Users\\Wayne Linn\\anaconda3\\lib\\site-packages\\sklearn\\externals\\__init__.py)\n\"\"\"",
      "\nThe above exception was the direct cause of the following exception:\n",
      "\u001b[1;31mBrokenProcessPool\u001b[0m                         Traceback (most recent call last)",
      "\u001b[1;32m<ipython-input-9-bc79c893f98e>\u001b[0m in \u001b[0;36m<module>\u001b[1;34m\u001b[0m\n\u001b[1;32m----> 1\u001b[1;33m \u001b[0msearch\u001b[0m\u001b[1;33m.\u001b[0m\u001b[0mfit\u001b[0m\u001b[1;33m(\u001b[0m\u001b[0mX_train\u001b[0m\u001b[1;33m,\u001b[0m\u001b[0mY_train\u001b[0m\u001b[1;33m.\u001b[0m\u001b[0mvalues\u001b[0m\u001b[1;33m.\u001b[0m\u001b[0mravel\u001b[0m\u001b[1;33m(\u001b[0m\u001b[1;33m)\u001b[0m\u001b[1;33m)\u001b[0m\u001b[1;33m\u001b[0m\u001b[1;33m\u001b[0m\u001b[0m\n\u001b[0m",
      "\u001b[1;32m~\\anaconda3\\lib\\site-packages\\sklearn\\utils\\validation.py\u001b[0m in \u001b[0;36minner_f\u001b[1;34m(*args, **kwargs)\u001b[0m\n\u001b[0;32m     70\u001b[0m                           FutureWarning)\n\u001b[0;32m     71\u001b[0m         \u001b[0mkwargs\u001b[0m\u001b[1;33m.\u001b[0m\u001b[0mupdate\u001b[0m\u001b[1;33m(\u001b[0m\u001b[1;33m{\u001b[0m\u001b[0mk\u001b[0m\u001b[1;33m:\u001b[0m \u001b[0marg\u001b[0m \u001b[1;32mfor\u001b[0m \u001b[0mk\u001b[0m\u001b[1;33m,\u001b[0m \u001b[0marg\u001b[0m \u001b[1;32min\u001b[0m \u001b[0mzip\u001b[0m\u001b[1;33m(\u001b[0m\u001b[0msig\u001b[0m\u001b[1;33m.\u001b[0m\u001b[0mparameters\u001b[0m\u001b[1;33m,\u001b[0m \u001b[0margs\u001b[0m\u001b[1;33m)\u001b[0m\u001b[1;33m}\u001b[0m\u001b[1;33m)\u001b[0m\u001b[1;33m\u001b[0m\u001b[1;33m\u001b[0m\u001b[0m\n\u001b[1;32m---> 72\u001b[1;33m         \u001b[1;32mreturn\u001b[0m \u001b[0mf\u001b[0m\u001b[1;33m(\u001b[0m\u001b[1;33m**\u001b[0m\u001b[0mkwargs\u001b[0m\u001b[1;33m)\u001b[0m\u001b[1;33m\u001b[0m\u001b[1;33m\u001b[0m\u001b[0m\n\u001b[0m\u001b[0;32m     73\u001b[0m     \u001b[1;32mreturn\u001b[0m \u001b[0minner_f\u001b[0m\u001b[1;33m\u001b[0m\u001b[1;33m\u001b[0m\u001b[0m\n\u001b[0;32m     74\u001b[0m \u001b[1;33m\u001b[0m\u001b[0m\n",
      "\u001b[1;32m~\\anaconda3\\lib\\site-packages\\sklearn\\model_selection\\_search.py\u001b[0m in \u001b[0;36mfit\u001b[1;34m(self, X, y, groups, **fit_params)\u001b[0m\n\u001b[0;32m    734\u001b[0m                 \u001b[1;32mreturn\u001b[0m \u001b[0mresults\u001b[0m\u001b[1;33m\u001b[0m\u001b[1;33m\u001b[0m\u001b[0m\n\u001b[0;32m    735\u001b[0m \u001b[1;33m\u001b[0m\u001b[0m\n\u001b[1;32m--> 736\u001b[1;33m             \u001b[0mself\u001b[0m\u001b[1;33m.\u001b[0m\u001b[0m_run_search\u001b[0m\u001b[1;33m(\u001b[0m\u001b[0mevaluate_candidates\u001b[0m\u001b[1;33m)\u001b[0m\u001b[1;33m\u001b[0m\u001b[1;33m\u001b[0m\u001b[0m\n\u001b[0m\u001b[0;32m    737\u001b[0m \u001b[1;33m\u001b[0m\u001b[0m\n\u001b[0;32m    738\u001b[0m         \u001b[1;31m# For multi-metric evaluation, store the best_index_, best_params_ and\u001b[0m\u001b[1;33m\u001b[0m\u001b[1;33m\u001b[0m\u001b[1;33m\u001b[0m\u001b[0m\n",
      "\u001b[1;32m~\\anaconda3\\lib\\site-packages\\sklearn\\model_selection\\_search.py\u001b[0m in \u001b[0;36m_run_search\u001b[1;34m(self, evaluate_candidates)\u001b[0m\n\u001b[0;32m   1186\u001b[0m     \u001b[1;32mdef\u001b[0m \u001b[0m_run_search\u001b[0m\u001b[1;33m(\u001b[0m\u001b[0mself\u001b[0m\u001b[1;33m,\u001b[0m \u001b[0mevaluate_candidates\u001b[0m\u001b[1;33m)\u001b[0m\u001b[1;33m:\u001b[0m\u001b[1;33m\u001b[0m\u001b[1;33m\u001b[0m\u001b[0m\n\u001b[0;32m   1187\u001b[0m         \u001b[1;34m\"\"\"Search all candidates in param_grid\"\"\"\u001b[0m\u001b[1;33m\u001b[0m\u001b[1;33m\u001b[0m\u001b[0m\n\u001b[1;32m-> 1188\u001b[1;33m         \u001b[0mevaluate_candidates\u001b[0m\u001b[1;33m(\u001b[0m\u001b[0mParameterGrid\u001b[0m\u001b[1;33m(\u001b[0m\u001b[0mself\u001b[0m\u001b[1;33m.\u001b[0m\u001b[0mparam_grid\u001b[0m\u001b[1;33m)\u001b[0m\u001b[1;33m)\u001b[0m\u001b[1;33m\u001b[0m\u001b[1;33m\u001b[0m\u001b[0m\n\u001b[0m\u001b[0;32m   1189\u001b[0m \u001b[1;33m\u001b[0m\u001b[0m\n\u001b[0;32m   1190\u001b[0m \u001b[1;33m\u001b[0m\u001b[0m\n",
      "\u001b[1;32m~\\anaconda3\\lib\\site-packages\\sklearn\\model_selection\\_search.py\u001b[0m in \u001b[0;36mevaluate_candidates\u001b[1;34m(candidate_params)\u001b[0m\n\u001b[0;32m    706\u001b[0m                               n_splits, n_candidates, n_candidates * n_splits))\n\u001b[0;32m    707\u001b[0m \u001b[1;33m\u001b[0m\u001b[0m\n\u001b[1;32m--> 708\u001b[1;33m                 out = parallel(delayed(_fit_and_score)(clone(base_estimator),\n\u001b[0m\u001b[0;32m    709\u001b[0m                                                        \u001b[0mX\u001b[0m\u001b[1;33m,\u001b[0m \u001b[0my\u001b[0m\u001b[1;33m,\u001b[0m\u001b[1;33m\u001b[0m\u001b[1;33m\u001b[0m\u001b[0m\n\u001b[0;32m    710\u001b[0m                                                        \u001b[0mtrain\u001b[0m\u001b[1;33m=\u001b[0m\u001b[0mtrain\u001b[0m\u001b[1;33m,\u001b[0m \u001b[0mtest\u001b[0m\u001b[1;33m=\u001b[0m\u001b[0mtest\u001b[0m\u001b[1;33m,\u001b[0m\u001b[1;33m\u001b[0m\u001b[1;33m\u001b[0m\u001b[0m\n",
      "\u001b[1;32m~\\anaconda3\\lib\\site-packages\\joblib\\parallel.py\u001b[0m in \u001b[0;36m__call__\u001b[1;34m(self, iterable)\u001b[0m\n\u001b[0;32m   1059\u001b[0m \u001b[1;33m\u001b[0m\u001b[0m\n\u001b[0;32m   1060\u001b[0m             \u001b[1;32mwith\u001b[0m \u001b[0mself\u001b[0m\u001b[1;33m.\u001b[0m\u001b[0m_backend\u001b[0m\u001b[1;33m.\u001b[0m\u001b[0mretrieval_context\u001b[0m\u001b[1;33m(\u001b[0m\u001b[1;33m)\u001b[0m\u001b[1;33m:\u001b[0m\u001b[1;33m\u001b[0m\u001b[1;33m\u001b[0m\u001b[0m\n\u001b[1;32m-> 1061\u001b[1;33m                 \u001b[0mself\u001b[0m\u001b[1;33m.\u001b[0m\u001b[0mretrieve\u001b[0m\u001b[1;33m(\u001b[0m\u001b[1;33m)\u001b[0m\u001b[1;33m\u001b[0m\u001b[1;33m\u001b[0m\u001b[0m\n\u001b[0m\u001b[0;32m   1062\u001b[0m             \u001b[1;31m# Make sure that we get a last message telling us we are done\u001b[0m\u001b[1;33m\u001b[0m\u001b[1;33m\u001b[0m\u001b[1;33m\u001b[0m\u001b[0m\n\u001b[0;32m   1063\u001b[0m             \u001b[0melapsed_time\u001b[0m \u001b[1;33m=\u001b[0m \u001b[0mtime\u001b[0m\u001b[1;33m.\u001b[0m\u001b[0mtime\u001b[0m\u001b[1;33m(\u001b[0m\u001b[1;33m)\u001b[0m \u001b[1;33m-\u001b[0m \u001b[0mself\u001b[0m\u001b[1;33m.\u001b[0m\u001b[0m_start_time\u001b[0m\u001b[1;33m\u001b[0m\u001b[1;33m\u001b[0m\u001b[0m\n",
      "\u001b[1;32m~\\anaconda3\\lib\\site-packages\\joblib\\parallel.py\u001b[0m in \u001b[0;36mretrieve\u001b[1;34m(self)\u001b[0m\n\u001b[0;32m    938\u001b[0m             \u001b[1;32mtry\u001b[0m\u001b[1;33m:\u001b[0m\u001b[1;33m\u001b[0m\u001b[1;33m\u001b[0m\u001b[0m\n\u001b[0;32m    939\u001b[0m                 \u001b[1;32mif\u001b[0m \u001b[0mgetattr\u001b[0m\u001b[1;33m(\u001b[0m\u001b[0mself\u001b[0m\u001b[1;33m.\u001b[0m\u001b[0m_backend\u001b[0m\u001b[1;33m,\u001b[0m \u001b[1;34m'supports_timeout'\u001b[0m\u001b[1;33m,\u001b[0m \u001b[1;32mFalse\u001b[0m\u001b[1;33m)\u001b[0m\u001b[1;33m:\u001b[0m\u001b[1;33m\u001b[0m\u001b[1;33m\u001b[0m\u001b[0m\n\u001b[1;32m--> 940\u001b[1;33m                     \u001b[0mself\u001b[0m\u001b[1;33m.\u001b[0m\u001b[0m_output\u001b[0m\u001b[1;33m.\u001b[0m\u001b[0mextend\u001b[0m\u001b[1;33m(\u001b[0m\u001b[0mjob\u001b[0m\u001b[1;33m.\u001b[0m\u001b[0mget\u001b[0m\u001b[1;33m(\u001b[0m\u001b[0mtimeout\u001b[0m\u001b[1;33m=\u001b[0m\u001b[0mself\u001b[0m\u001b[1;33m.\u001b[0m\u001b[0mtimeout\u001b[0m\u001b[1;33m)\u001b[0m\u001b[1;33m)\u001b[0m\u001b[1;33m\u001b[0m\u001b[1;33m\u001b[0m\u001b[0m\n\u001b[0m\u001b[0;32m    941\u001b[0m                 \u001b[1;32melse\u001b[0m\u001b[1;33m:\u001b[0m\u001b[1;33m\u001b[0m\u001b[1;33m\u001b[0m\u001b[0m\n\u001b[0;32m    942\u001b[0m                     \u001b[0mself\u001b[0m\u001b[1;33m.\u001b[0m\u001b[0m_output\u001b[0m\u001b[1;33m.\u001b[0m\u001b[0mextend\u001b[0m\u001b[1;33m(\u001b[0m\u001b[0mjob\u001b[0m\u001b[1;33m.\u001b[0m\u001b[0mget\u001b[0m\u001b[1;33m(\u001b[0m\u001b[1;33m)\u001b[0m\u001b[1;33m)\u001b[0m\u001b[1;33m\u001b[0m\u001b[1;33m\u001b[0m\u001b[0m\n",
      "\u001b[1;32m~\\anaconda3\\lib\\site-packages\\joblib\\_parallel_backends.py\u001b[0m in \u001b[0;36mwrap_future_result\u001b[1;34m(future, timeout)\u001b[0m\n\u001b[0;32m    540\u001b[0m         AsyncResults.get from multiprocessing.\"\"\"\n\u001b[0;32m    541\u001b[0m         \u001b[1;32mtry\u001b[0m\u001b[1;33m:\u001b[0m\u001b[1;33m\u001b[0m\u001b[1;33m\u001b[0m\u001b[0m\n\u001b[1;32m--> 542\u001b[1;33m             \u001b[1;32mreturn\u001b[0m \u001b[0mfuture\u001b[0m\u001b[1;33m.\u001b[0m\u001b[0mresult\u001b[0m\u001b[1;33m(\u001b[0m\u001b[0mtimeout\u001b[0m\u001b[1;33m=\u001b[0m\u001b[0mtimeout\u001b[0m\u001b[1;33m)\u001b[0m\u001b[1;33m\u001b[0m\u001b[1;33m\u001b[0m\u001b[0m\n\u001b[0m\u001b[0;32m    543\u001b[0m         \u001b[1;32mexcept\u001b[0m \u001b[0mCfTimeoutError\u001b[0m \u001b[1;32mas\u001b[0m \u001b[0me\u001b[0m\u001b[1;33m:\u001b[0m\u001b[1;33m\u001b[0m\u001b[1;33m\u001b[0m\u001b[0m\n\u001b[0;32m    544\u001b[0m             \u001b[1;32mraise\u001b[0m \u001b[0mTimeoutError\u001b[0m \u001b[1;32mfrom\u001b[0m \u001b[0me\u001b[0m\u001b[1;33m\u001b[0m\u001b[1;33m\u001b[0m\u001b[0m\n",
      "\u001b[1;32m~\\anaconda3\\lib\\concurrent\\futures\\_base.py\u001b[0m in \u001b[0;36mresult\u001b[1;34m(self, timeout)\u001b[0m\n\u001b[0;32m    437\u001b[0m                 \u001b[1;32mraise\u001b[0m \u001b[0mCancelledError\u001b[0m\u001b[1;33m(\u001b[0m\u001b[1;33m)\u001b[0m\u001b[1;33m\u001b[0m\u001b[1;33m\u001b[0m\u001b[0m\n\u001b[0;32m    438\u001b[0m             \u001b[1;32melif\u001b[0m \u001b[0mself\u001b[0m\u001b[1;33m.\u001b[0m\u001b[0m_state\u001b[0m \u001b[1;33m==\u001b[0m \u001b[0mFINISHED\u001b[0m\u001b[1;33m:\u001b[0m\u001b[1;33m\u001b[0m\u001b[1;33m\u001b[0m\u001b[0m\n\u001b[1;32m--> 439\u001b[1;33m                 \u001b[1;32mreturn\u001b[0m \u001b[0mself\u001b[0m\u001b[1;33m.\u001b[0m\u001b[0m__get_result\u001b[0m\u001b[1;33m(\u001b[0m\u001b[1;33m)\u001b[0m\u001b[1;33m\u001b[0m\u001b[1;33m\u001b[0m\u001b[0m\n\u001b[0m\u001b[0;32m    440\u001b[0m             \u001b[1;32melse\u001b[0m\u001b[1;33m:\u001b[0m\u001b[1;33m\u001b[0m\u001b[1;33m\u001b[0m\u001b[0m\n\u001b[0;32m    441\u001b[0m                 \u001b[1;32mraise\u001b[0m \u001b[0mTimeoutError\u001b[0m\u001b[1;33m(\u001b[0m\u001b[1;33m)\u001b[0m\u001b[1;33m\u001b[0m\u001b[1;33m\u001b[0m\u001b[0m\n",
      "\u001b[1;32m~\\anaconda3\\lib\\concurrent\\futures\\_base.py\u001b[0m in \u001b[0;36m__get_result\u001b[1;34m(self)\u001b[0m\n\u001b[0;32m    386\u001b[0m     \u001b[1;32mdef\u001b[0m \u001b[0m__get_result\u001b[0m\u001b[1;33m(\u001b[0m\u001b[0mself\u001b[0m\u001b[1;33m)\u001b[0m\u001b[1;33m:\u001b[0m\u001b[1;33m\u001b[0m\u001b[1;33m\u001b[0m\u001b[0m\n\u001b[0;32m    387\u001b[0m         \u001b[1;32mif\u001b[0m \u001b[0mself\u001b[0m\u001b[1;33m.\u001b[0m\u001b[0m_exception\u001b[0m\u001b[1;33m:\u001b[0m\u001b[1;33m\u001b[0m\u001b[1;33m\u001b[0m\u001b[0m\n\u001b[1;32m--> 388\u001b[1;33m             \u001b[1;32mraise\u001b[0m \u001b[0mself\u001b[0m\u001b[1;33m.\u001b[0m\u001b[0m_exception\u001b[0m\u001b[1;33m\u001b[0m\u001b[1;33m\u001b[0m\u001b[0m\n\u001b[0m\u001b[0;32m    389\u001b[0m         \u001b[1;32melse\u001b[0m\u001b[1;33m:\u001b[0m\u001b[1;33m\u001b[0m\u001b[1;33m\u001b[0m\u001b[0m\n\u001b[0;32m    390\u001b[0m             \u001b[1;32mreturn\u001b[0m \u001b[0mself\u001b[0m\u001b[1;33m.\u001b[0m\u001b[0m_result\u001b[0m\u001b[1;33m\u001b[0m\u001b[1;33m\u001b[0m\u001b[0m\n",
      "\u001b[1;31mBrokenProcessPool\u001b[0m: A task has failed to un-serialize. Please ensure that the arguments of the function are all picklable."
     ]
    }
   ],
   "source": [
    "search.fit(X_train,Y_train.values.ravel())"
   ]
  },
  {
   "cell_type": "code",
   "execution_count": null,
   "metadata": {},
   "outputs": [],
   "source": [
    "print(\"Best parameter (CV score=%0.3f):\" % search.best_score_)\n",
    "print(search.best_params_)"
   ]
  },
  {
   "cell_type": "code",
   "execution_count": null,
   "metadata": {},
   "outputs": [],
   "source": [
    "df = pd.DataFrame(search.cv_results_)\n",
    "df = df.sort_values(by=['rank_test_score'])\n",
    "df"
   ]
  },
  {
   "cell_type": "markdown",
   "metadata": {},
   "source": [
    "# 4. Best Hyperparameter (Not Used)"
   ]
  },
  {
   "cell_type": "code",
   "execution_count": null,
   "metadata": {},
   "outputs": [],
   "source": [
    "parms = pd.DataFrame(df['params'])\n",
    "for i in parms.iloc[0]:\n",
    "    print(i)"
   ]
  },
  {
   "cell_type": "markdown",
   "metadata": {},
   "source": [
    "# 5. Evaluate Model "
   ]
  },
  {
   "cell_type": "code",
   "execution_count": 10,
   "metadata": {},
   "outputs": [],
   "source": [
    "\n",
    "best_n_est=1000"
   ]
  },
  {
   "cell_type": "code",
   "execution_count": 11,
   "metadata": {},
   "outputs": [],
   "source": [
    "Model_2 = RandomForestQuantileRegressor(n_estimators=best_n_est)"
   ]
  },
  {
   "cell_type": "code",
   "execution_count": 12,
   "metadata": {},
   "outputs": [],
   "source": [
    "X_train1,X_test1,Y_train1,Y_test1 = train_test_split(X_train,Y_train,test_size=0.2,random_state=132)\n"
   ]
  },
  {
   "cell_type": "code",
   "execution_count": 13,
   "metadata": {},
   "outputs": [
    {
     "data": {
      "text/plain": [
       "RandomForestQuantileRegressor(n_estimators=1000)"
      ]
     },
     "execution_count": 13,
     "metadata": {},
     "output_type": "execute_result"
    }
   ],
   "source": [
    "RG1 = Model_2\n",
    "RG1.fit(X_train1,Y_train1.values.ravel())"
   ]
  },
  {
   "cell_type": "code",
   "execution_count": null,
   "metadata": {},
   "outputs": [],
   "source": []
  },
  {
   "cell_type": "code",
   "execution_count": 14,
   "metadata": {},
   "outputs": [
    {
     "data": {
      "text/plain": [
       "314.90921677321813"
      ]
     },
     "execution_count": 14,
     "metadata": {},
     "output_type": "execute_result"
    }
   ],
   "source": [
    "MSE(RG1.predict(X_test1),Y_test1)"
   ]
  },
  {
   "cell_type": "code",
   "execution_count": 15,
   "metadata": {},
   "outputs": [],
   "source": [
    "result = pd.DataFrame(Y_test1)"
   ]
  },
  {
   "cell_type": "code",
   "execution_count": 16,
   "metadata": {},
   "outputs": [],
   "source": [
    "result[\"Predicted_sales\"] = RG1.predict(X_test1)"
   ]
  },
  {
   "cell_type": "code",
   "execution_count": 17,
   "metadata": {},
   "outputs": [
    {
     "data": {
      "text/plain": [
       "314.90921677321813"
      ]
     },
     "execution_count": 17,
     "metadata": {},
     "output_type": "execute_result"
    }
   ],
   "source": [
    "MSE(result[\"sales\"],result[\"Predicted_sales\"])"
   ]
  },
  {
   "cell_type": "markdown",
   "metadata": {},
   "source": [
    "# 6. Inventory Decision"
   ]
  },
  {
   "cell_type": "code",
   "execution_count": 18,
   "metadata": {},
   "outputs": [],
   "source": [
    "residual = result['sales']-result['Predicted_sales']"
   ]
  },
  {
   "cell_type": "code",
   "execution_count": 19,
   "metadata": {},
   "outputs": [
    {
     "data": {
      "text/plain": [
       "(4, 8)"
      ]
     },
     "execution_count": 19,
     "metadata": {},
     "output_type": "execute_result"
    }
   ],
   "source": [
    "Price=20\n",
    "Cost=12\n",
    "Salvage=8\n",
    "Over=Cost - Salvage\n",
    "Under=Price - Cost\n",
    "Over, Under"
   ]
  },
  {
   "cell_type": "markdown",
   "metadata": {},
   "source": [
    "### QQ plot to explore the distribution of residual"
   ]
  },
  {
   "cell_type": "markdown",
   "metadata": {},
   "source": [
    "#### Normal Distribution"
   ]
  },
  {
   "cell_type": "code",
   "execution_count": 20,
   "metadata": {},
   "outputs": [],
   "source": [
    "import scipy.stats as sct"
   ]
  },
  {
   "cell_type": "code",
   "execution_count": 21,
   "metadata": {},
   "outputs": [
    {
     "data": {
      "image/png": "[encoded data removed]",
      "text/plain": [
       "<Figure size 432x288 with 1 Axes>"
      ]
     },
     "metadata": {
      "needs_background": "light"
     },
     "output_type": "display_data"
    }
   ],
   "source": [
    "import scipy\n",
    "scipy.stats.probplot(residual, dist=\"norm\", plot=plt)\n",
    "plt.show()"
   ]
  },
  {
   "cell_type": "code",
   "execution_count": 22,
   "metadata": {},
   "outputs": [],
   "source": [
    "s = residual.std()\n",
    "opt_dec_N=np.ceil(sct.norm.ppf(Under/(Under+Over))*s + result['Predicted_sales'])"
   ]
  },
  {
   "cell_type": "markdown",
   "metadata": {},
   "source": [
    "#### Exponential Distribution"
   ]
  },
  {
   "cell_type": "code",
   "execution_count": 23,
   "metadata": {},
   "outputs": [
    {
     "data": {
      "image/png": "[encoded data removed]",
      "text/plain": [
       "<Figure size 432x288 with 1 Axes>"
      ]
     },
     "metadata": {
      "needs_background": "light"
     },
     "output_type": "display_data"
    }
   ],
   "source": [
    "scipy.stats.probplot(residual, dist=\"expon\", plot=plt)\n",
    "plt.show()"
   ]
  },
  {
   "cell_type": "code",
   "execution_count": 24,
   "metadata": {},
   "outputs": [],
   "source": [
    "opt_dec_E=np.ceil((-result['Predicted_sales'])*np.log(1-(Under/(Under+Over))))"
   ]
  },
  {
   "cell_type": "markdown",
   "metadata": {},
   "source": [
    "#### Empirical Distribution"
   ]
  },
  {
   "cell_type": "code",
   "execution_count": 25,
   "metadata": {},
   "outputs": [
    {
     "data": {
      "text/plain": [
       "[<matplotlib.lines.Line2D at 0x22277897220>]"
      ]
     },
     "execution_count": 25,
     "metadata": {},
     "output_type": "execute_result"
    },
    {
     "data": {
      "image/png": "[encoded data removed]",
      "text/plain": [
       "<Figure size 432x288 with 1 Axes>"
      ]
     },
     "metadata": {
      "needs_background": "light"
     },
     "output_type": "display_data"
    }
   ],
   "source": [
    "size = residual.shape[0]\n",
    "step=1/size\n",
    "jumps = [step*i for i in range(1,size+1)]\n",
    "Sample = sorted(residual)\n",
    "plt.plot(Sample,jumps)"
   ]
  },
  {
   "cell_type": "code",
   "execution_count": 26,
   "metadata": {},
   "outputs": [
    {
     "data": {
      "image/png": "[encoded data removed]",
      "text/plain": [
       "<Figure size 432x288 with 1 Axes>"
      ]
     },
     "metadata": {
      "needs_background": "light"
     },
     "output_type": "display_data"
    }
   ],
   "source": [
    "plt.hist(Sample)\n",
    "plt.show()"
   ]
  },
  {
   "cell_type": "code",
   "execution_count": 27,
   "metadata": {},
   "outputs": [],
   "source": [
    "def inv(sample,jump,area):\n",
    "    size = len(sample)\n",
    "    i=0\n",
    "    temp=jump[i]\n",
    "    while temp<area:\n",
    "        i+=1\n",
    "        temp=jump[i]\n",
    "        \n",
    "    return sample[i]"
   ]
  },
  {
   "cell_type": "code",
   "execution_count": 28,
   "metadata": {},
   "outputs": [
    {
     "data": {
      "text/plain": [
       "0.1849999999999996"
      ]
     },
     "execution_count": 28,
     "metadata": {},
     "output_type": "execute_result"
    }
   ],
   "source": [
    "offset = inv(Sample,jumps,2/3)\n",
    "offset"
   ]
  },
  {
   "cell_type": "code",
   "execution_count": 29,
   "metadata": {},
   "outputs": [],
   "source": [
    "opt_dec_B = np.ceil(result['Predicted_sales']+offset)"
   ]
  },
  {
   "cell_type": "markdown",
   "metadata": {},
   "source": [
    "# 7. Out-of-samples Profit"
   ]
  },
  {
   "cell_type": "code",
   "execution_count": 30,
   "metadata": {},
   "outputs": [
    {
     "data": {
      "text/plain": [
       "82096"
      ]
     },
     "execution_count": 30,
     "metadata": {},
     "output_type": "execute_result"
    }
   ],
   "source": [
    "#max profit for test data set\n",
    "max_profit = result['sales'].sum()*(Price-Cost)\n",
    "max_profit"
   ]
  },
  {
   "cell_type": "code",
   "execution_count": 31,
   "metadata": {},
   "outputs": [],
   "source": [
    "def profit(demand,inv):\n",
    "    return (Price-Salvage)*np.minimum(demand,inv)-(Cost-Salvage)*inv"
   ]
  },
  {
   "cell_type": "code",
   "execution_count": 32,
   "metadata": {},
   "outputs": [
    {
     "data": {
      "text/plain": [
       "52912.0"
      ]
     },
     "execution_count": 32,
     "metadata": {},
     "output_type": "execute_result"
    }
   ],
   "source": [
    "#Profit (Normal)\n",
    "profit_lst_N = profit(result['sales'],opt_dec_N)\n",
    "profit_lst_N.sum()"
   ]
  },
  {
   "cell_type": "code",
   "execution_count": 33,
   "metadata": {},
   "outputs": [
    {
     "data": {
      "text/plain": [
       "59700.0"
      ]
     },
     "execution_count": 33,
     "metadata": {},
     "output_type": "execute_result"
    }
   ],
   "source": [
    "#Profit (Exponential)\n",
    "profit_lst_E = profit(result['sales'],opt_dec_E)\n",
    "profit_lst_E.sum()"
   ]
  },
  {
   "cell_type": "code",
   "execution_count": 34,
   "metadata": {},
   "outputs": [
    {
     "data": {
      "text/plain": [
       "60024.0"
      ]
     },
     "execution_count": 34,
     "metadata": {},
     "output_type": "execute_result"
    }
   ],
   "source": [
    "#Profit (Empirical)\n",
    "profit_lst_B = profit(result['sales'],opt_dec_B)\n",
    "profit_lst_B.sum()"
   ]
  },
  {
   "cell_type": "markdown",
   "metadata": {},
   "source": [
    "# 8. K-Fold Cross Validation"
   ]
  },
  {
   "cell_type": "markdown",
   "metadata": {},
   "source": [
    "### Repeat steps 5,6,7 with 10-fold cross validation"
   ]
  },
  {
   "cell_type": "code",
   "execution_count": 35,
   "metadata": {},
   "outputs": [],
   "source": [
    "Model_4= Model_2 = RandomForestQuantileRegressor(n_estimators=best_n_est)"
   ]
  },
  {
   "cell_type": "code",
   "execution_count": 36,
   "metadata": {},
   "outputs": [],
   "source": [
    "from sklearn.model_selection import KFold\n",
    "k=10\n",
    "kf = KFold(n_splits=k)\n",
    "X_train_t=X_train.to_numpy()\n",
    "Y_train_t=Y_train.to_numpy()\n",
    "model = []\n",
    "mse_lst = []\n",
    "max_profit_lst = []\n",
    "profit_N_lst = []\n",
    "profit_E_lst = []\n",
    "profit_B_lst = []\n",
    "\n",
    "for train_index,test_index in kf.split(X_train_t):\n",
    "    X_train_K,X_test_K=X_train_t[train_index],X_train_t[test_index]\n",
    "    Y_train_K,Y_test_K=Y_train_t[train_index],Y_train_t[test_index]\n",
    "    \n",
    "    \n",
    "    #Model\n",
    "    RG_K = Model_4\n",
    "    RG_K.fit(X_train_K,Y_train_K.ravel())\n",
    "    \n",
    "    #MSE\n",
    "    mse_lst.append(MSE(RG_K.predict(X_test_K),Y_test_K))\n",
    "    \n",
    "    #Transform log(sale) back to sale\n",
    "    result_K = pd.DataFrame(Y_test_K)\n",
    "    result_K[\"Predicted_sales\"] = RG_K.predict(X_test_K)\n",
    "    \n",
    "    #Obtain residual\n",
    "    residual_K = result_K[0]-result_K['Predicted_sales']\n",
    "    \n",
    "    #Get std for Normal distribution\n",
    "    s_K = residual.std()\n",
    "    \n",
    "    #Inventory Decision (Normal)\n",
    "    opt_dec_N_K=np.ceil(sct.norm.ppf(Under/(Under+Over))*s_K + result_K['Predicted_sales'])\n",
    "    #Inventory Decision (Exponential)\n",
    "    opt_dec_E_K=np.ceil((-result_K['Predicted_sales'])*np.log(1-(Under/(Under+Over))))\n",
    "    \n",
    "    #Inventory Decision (Empirical Distribution)\n",
    "    size_K = residual_K.shape[0]\n",
    "    step_K=1/size_K\n",
    "    jumps_K = [step_K*i for i in range(1,size+1)]\n",
    "    Sample_K = sorted(residual_K)\n",
    "    offset_K = inv(Sample_K,jumps_K,2/3)\n",
    "    opt_dec_B_K = np.ceil(result_K['Predicted_sales']+offset_K)\n",
    "    \n",
    "    #Out-of_sample profit\n",
    "    profit_lst_B_K = profit(result_K[0],opt_dec_B_K)\n",
    "    profit_B_lst.append(profit_lst_B_K.sum())\n",
    "    \n",
    "    profit_lst_N_K = profit(result_K[0],opt_dec_N_K)\n",
    "    profit_N_lst.append(profit_lst_N_K.sum())\n",
    "    \n",
    "    profit_lst_E_K = profit(result_K[0],opt_dec_E_K)\n",
    "    profit_E_lst.append(profit_lst_E_K.sum())\n",
    "    \n",
    "    max_profit_K = result_K[0].sum()*(Price-Cost)\n",
    "    max_profit_lst.append(max_profit_K)\n",
    "    \n",
    "max_profit_lst = np.array(max_profit_lst)\n",
    "profit_N_lst = np.array(profit_N_lst)\n",
    "profit_E_lst = np.array(profit_E_lst)\n",
    "profit_B_lst = np.array(profit_B_lst)\n",
    "\n",
    "fraction_of_max_N = profit_N_lst/max_profit_lst\n",
    "fraction_of_max_E = profit_E_lst/max_profit_lst\n",
    "fraction_of_max_B = profit_B_lst/max_profit_lst\n",
    "\n",
    "dist_profit = [\"Normal\",\"Exponential\",\"Empirical\",\"Max\"]\n",
    "dist_frac = [\"Normal\",\"Exponential\",\"Empirical\"]\n",
    "col_name = [\"Dataset_\"+str(i) for i in range(1,k+1)]\n",
    "\n",
    "profit_lst = [profit_N_lst,profit_E_lst,profit_B_lst,max_profit_lst]\n",
    "profit_table = pd.DataFrame(profit_lst,index=dist_profit,columns=col_name)\n",
    "profit_table[\"mean_profit\"]=profit_table.mean(axis=1)\n",
    "profit_table[\"std_profit\"]=profit_table.std(ddof=1,axis=1)\n",
    "\n",
    "fraction_lst = [fraction_of_max_N,fraction_of_max_E,fraction_of_max_B]\n",
    "fraction_table = pd.DataFrame(fraction_lst,index=dist_frac,columns=col_name)\n",
    "fraction_table[\"mean_fraction\"]=fraction_table.mean(axis=1)"
   ]
  },
  {
   "cell_type": "code",
   "execution_count": 37,
   "metadata": {},
   "outputs": [
    {
     "data": {
      "text/html": [
       "<div>\n",
       "<style scoped>\n",
       "    .dataframe tbody tr th:only-of-type {\n",
       "        vertical-align: middle;\n",
       "    }\n",
       "\n",
       "    .dataframe tbody tr th {\n",
       "        vertical-align: top;\n",
       "    }\n",
       "\n",
       "    .dataframe thead th {\n",
       "        text-align: right;\n",
       "    }\n",
       "</style>\n",
       "<table border=\"1\" class=\"dataframe\">\n",
       "  <thead>\n",
       "    <tr style=\"text-align: right;\">\n",
       "      <th></th>\n",
       "      <th>Dataset_1</th>\n",
       "      <th>Dataset_2</th>\n",
       "      <th>Dataset_3</th>\n",
       "      <th>Dataset_4</th>\n",
       "      <th>Dataset_5</th>\n",
       "      <th>Dataset_6</th>\n",
       "      <th>Dataset_7</th>\n",
       "      <th>Dataset_8</th>\n",
       "      <th>Dataset_9</th>\n",
       "      <th>Dataset_10</th>\n",
       "      <th>mean_fraction</th>\n",
       "    </tr>\n",
       "  </thead>\n",
       "  <tbody>\n",
       "    <tr>\n",
       "      <th>Normal</th>\n",
       "      <td>0.692828</td>\n",
       "      <td>0.699576</td>\n",
       "      <td>0.646535</td>\n",
       "      <td>0.678712</td>\n",
       "      <td>0.652780</td>\n",
       "      <td>0.682647</td>\n",
       "      <td>0.700702</td>\n",
       "      <td>0.674935</td>\n",
       "      <td>0.643611</td>\n",
       "      <td>0.654149</td>\n",
       "      <td>0.672648</td>\n",
       "    </tr>\n",
       "    <tr>\n",
       "      <th>Exponential</th>\n",
       "      <td>0.779045</td>\n",
       "      <td>0.754905</td>\n",
       "      <td>0.716174</td>\n",
       "      <td>0.746953</td>\n",
       "      <td>0.727317</td>\n",
       "      <td>0.769002</td>\n",
       "      <td>0.759353</td>\n",
       "      <td>0.724978</td>\n",
       "      <td>0.708572</td>\n",
       "      <td>0.740204</td>\n",
       "      <td>0.742650</td>\n",
       "    </tr>\n",
       "    <tr>\n",
       "      <th>Empirical</th>\n",
       "      <td>0.786777</td>\n",
       "      <td>0.752077</td>\n",
       "      <td>0.717384</td>\n",
       "      <td>0.738627</td>\n",
       "      <td>0.711604</td>\n",
       "      <td>0.772075</td>\n",
       "      <td>0.745875</td>\n",
       "      <td>0.725239</td>\n",
       "      <td>0.714298</td>\n",
       "      <td>0.739435</td>\n",
       "      <td>0.740339</td>\n",
       "    </tr>\n",
       "  </tbody>\n",
       "</table>\n",
       "</div>"
      ],
      "text/plain": [
       "             Dataset_1  Dataset_2  Dataset_3  Dataset_4  Dataset_5  Dataset_6  \\\n",
       "Normal        0.692828   0.699576   0.646535   0.678712   0.652780   0.682647   \n",
       "Exponential   0.779045   0.754905   0.716174   0.746953   0.727317   0.769002   \n",
       "Empirical     0.786777   0.752077   0.717384   0.738627   0.711604   0.772075   \n",
       "\n",
       "             Dataset_7  Dataset_8  Dataset_9  Dataset_10  mean_fraction  \n",
       "Normal        0.700702   0.674935   0.643611    0.654149       0.672648  \n",
       "Exponential   0.759353   0.724978   0.708572    0.740204       0.742650  \n",
       "Empirical     0.745875   0.725239   0.714298    0.739435       0.740339  "
      ]
     },
     "execution_count": 37,
     "metadata": {},
     "output_type": "execute_result"
    }
   ],
   "source": [
    "fraction_table"
   ]
  },
  {
   "cell_type": "code",
   "execution_count": 38,
   "metadata": {},
   "outputs": [
    {
     "data": {
      "text/html": [
       "<div>\n",
       "<style scoped>\n",
       "    .dataframe tbody tr th:only-of-type {\n",
       "        vertical-align: middle;\n",
       "    }\n",
       "\n",
       "    .dataframe tbody tr th {\n",
       "        vertical-align: top;\n",
       "    }\n",
       "\n",
       "    .dataframe thead th {\n",
       "        text-align: right;\n",
       "    }\n",
       "</style>\n",
       "<table border=\"1\" class=\"dataframe\">\n",
       "  <thead>\n",
       "    <tr style=\"text-align: right;\">\n",
       "      <th></th>\n",
       "      <th>Dataset_1</th>\n",
       "      <th>Dataset_2</th>\n",
       "      <th>Dataset_3</th>\n",
       "      <th>Dataset_4</th>\n",
       "      <th>Dataset_5</th>\n",
       "      <th>Dataset_6</th>\n",
       "      <th>Dataset_7</th>\n",
       "      <th>Dataset_8</th>\n",
       "      <th>Dataset_9</th>\n",
       "      <th>Dataset_10</th>\n",
       "      <th>mean_profit</th>\n",
       "      <th>std_profit</th>\n",
       "    </tr>\n",
       "  </thead>\n",
       "  <tbody>\n",
       "    <tr>\n",
       "      <th>Normal</th>\n",
       "      <td>28672.0</td>\n",
       "      <td>31660.0</td>\n",
       "      <td>29932.0</td>\n",
       "      <td>31628.0</td>\n",
       "      <td>32404.0</td>\n",
       "      <td>26656.0</td>\n",
       "      <td>34312.0</td>\n",
       "      <td>31128.0</td>\n",
       "      <td>28772.0</td>\n",
       "      <td>27244.0</td>\n",
       "      <td>30240.8</td>\n",
       "      <td>2291.836504</td>\n",
       "    </tr>\n",
       "    <tr>\n",
       "      <th>Exponential</th>\n",
       "      <td>32240.0</td>\n",
       "      <td>34164.0</td>\n",
       "      <td>33156.0</td>\n",
       "      <td>34808.0</td>\n",
       "      <td>36104.0</td>\n",
       "      <td>30028.0</td>\n",
       "      <td>37184.0</td>\n",
       "      <td>33436.0</td>\n",
       "      <td>31676.0</td>\n",
       "      <td>30828.0</td>\n",
       "      <td>33362.4</td>\n",
       "      <td>2157.463103</td>\n",
       "    </tr>\n",
       "    <tr>\n",
       "      <th>Empirical</th>\n",
       "      <td>32560.0</td>\n",
       "      <td>34036.0</td>\n",
       "      <td>33212.0</td>\n",
       "      <td>34420.0</td>\n",
       "      <td>35324.0</td>\n",
       "      <td>30148.0</td>\n",
       "      <td>36524.0</td>\n",
       "      <td>33448.0</td>\n",
       "      <td>31932.0</td>\n",
       "      <td>30796.0</td>\n",
       "      <td>33240.0</td>\n",
       "      <td>1868.278352</td>\n",
       "    </tr>\n",
       "    <tr>\n",
       "      <th>Max</th>\n",
       "      <td>41384.0</td>\n",
       "      <td>45256.0</td>\n",
       "      <td>46296.0</td>\n",
       "      <td>46600.0</td>\n",
       "      <td>49640.0</td>\n",
       "      <td>39048.0</td>\n",
       "      <td>48968.0</td>\n",
       "      <td>46120.0</td>\n",
       "      <td>44704.0</td>\n",
       "      <td>41648.0</td>\n",
       "      <td>44966.4</td>\n",
       "      <td>3203.875254</td>\n",
       "    </tr>\n",
       "  </tbody>\n",
       "</table>\n",
       "</div>"
      ],
      "text/plain": [
       "             Dataset_1  Dataset_2  Dataset_3  Dataset_4  Dataset_5  Dataset_6  \\\n",
       "Normal         28672.0    31660.0    29932.0    31628.0    32404.0    26656.0   \n",
       "Exponential    32240.0    34164.0    33156.0    34808.0    36104.0    30028.0   \n",
       "Empirical      32560.0    34036.0    33212.0    34420.0    35324.0    30148.0   \n",
       "Max            41384.0    45256.0    46296.0    46600.0    49640.0    39048.0   \n",
       "\n",
       "             Dataset_7  Dataset_8  Dataset_9  Dataset_10  mean_profit  \\\n",
       "Normal         34312.0    31128.0    28772.0     27244.0      30240.8   \n",
       "Exponential    37184.0    33436.0    31676.0     30828.0      33362.4   \n",
       "Empirical      36524.0    33448.0    31932.0     30796.0      33240.0   \n",
       "Max            48968.0    46120.0    44704.0     41648.0      44966.4   \n",
       "\n",
       "              std_profit  \n",
       "Normal       2291.836504  \n",
       "Exponential  2157.463103  \n",
       "Empirical    1868.278352  \n",
       "Max          3203.875254  "
      ]
     },
     "execution_count": 38,
     "metadata": {},
     "output_type": "execute_result"
    }
   ],
   "source": [
    "profit_table"
   ]
  },
  {
   "cell_type": "code",
   "execution_count": 39,
   "metadata": {},
   "outputs": [],
   "source": [
    "profit_table.to_csv(\".\\\\Model_Selection_Result\\\\5.1_Quantile_regression_forest(No_PCA).csv\")"
   ]
  },
  {
   "cell_type": "code",
   "execution_count": 40,
   "metadata": {},
   "outputs": [
    {
     "data": {
      "text/plain": [
       "[<matplotlib.lines.Line2D at 0x222777712b0>]"
      ]
     },
     "execution_count": 40,
     "metadata": {},
     "output_type": "execute_result"
    },
    {
     "data": {
      "image/png": "[encoded data removed]",
      "text/plain": [
       "<Figure size 432x288 with 1 Axes>"
      ]
     },
     "metadata": {
      "needs_background": "light"
     },
     "output_type": "display_data"
    }
   ],
   "source": [
    "plt.plot(result['sales'],residual,\".\")"
   ]
  },
  {
   "cell_type": "code",
   "execution_count": null,
   "metadata": {},
   "outputs": [],
   "source": []
  },
  {
   "cell_type": "code",
   "execution_count": null,
   "metadata": {},
   "outputs": [],
   "source": []
  },
  {
   "cell_type": "code",
   "execution_count": null,
   "metadata": {},
   "outputs": [],
   "source": []
  },
  {
   "cell_type": "code",
   "execution_count": null,
   "metadata": {},
   "outputs": [],
   "source": []
  },
  {
   "cell_type": "code",
   "execution_count": null,
   "metadata": {},
   "outputs": [],
   "source": []
  }
 ],
 "metadata": {
  "kernelspec": {
   "display_name": "Python 3",
   "language": "python",
   "name": "python3"
  },
  "language_info": {
   "codemirror_mode": {
    "name": "ipython",
    "version": 3
   },
   "file_extension": ".py",
   "mimetype": "text/x-python",
   "name": "python",
   "nbconvert_exporter": "python",
   "pygments_lexer": "ipython3",
   "version": "3.8.5"
  }
 },
 "nbformat": 4,
 "nbformat_minor": 4
}
