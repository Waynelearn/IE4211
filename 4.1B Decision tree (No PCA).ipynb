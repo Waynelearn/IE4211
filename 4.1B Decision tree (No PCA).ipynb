{
 "cells": [
  {
   "cell_type": "code",
   "execution_count": 1,
   "metadata": {},
   "outputs": [],
   "source": [
    "import pandas as pd\n",
    "import numpy as np\n",
    "import matplotlib.pyplot as plt\n",
    "from sklearn.pipeline import Pipeline\n",
    "from sklearn.model_selection import GridSearchCV\n",
    "from sklearn.decomposition import PCA\n",
    "from sklearn.metrics import mean_squared_error as MSE\n",
    "from sklearn.linear_model import LinearRegression\n",
    "from sklearn.preprocessing import PolynomialFeatures\n",
    "from sklearn.model_selection import train_test_split\n",
    "from sklearn.linear_model import Lasso\n",
    "from sklearn.neighbors import KNeighborsRegressor\n",
    "from sklearn.tree import DecisionTreeRegressor\n",
    "from sklearn.ensemble import RandomForestRegressor\n",
    "from sklearn.ensemble import GradientBoostingRegressor"
   ]
  },
  {
   "cell_type": "markdown",
   "metadata": {},
   "source": [
    "# 1. Import the train datasets"
   ]
  },
  {
   "cell_type": "code",
   "execution_count": 2,
   "metadata": {},
   "outputs": [],
   "source": [
    "X_train = pd.read_csv(\"data-train.csv\",index_col=0)\n",
    "Y_train = X_train.sales\n",
    "X_train = X_train.drop(['sales'],axis=1)"
   ]
  },
  {
   "cell_type": "code",
   "execution_count": 3,
   "metadata": {},
   "outputs": [],
   "source": [
    "#X_train = pd.read_csv(\"B_encoded_train_data.csv\",index_col=0)\n",
    "#Y_train = pd.read_csv(\"A_sales_train.csv\",index_col=0)"
   ]
  },
  {
   "cell_type": "code",
   "execution_count": 4,
   "metadata": {},
   "outputs": [],
   "source": [
    "Model_1 = DecisionTreeRegressor()"
   ]
  },
  {
   "cell_type": "markdown",
   "metadata": {},
   "source": [
    "# 2. Setup Pipeline"
   ]
  },
  {
   "cell_type": "code",
   "execution_count": 5,
   "metadata": {},
   "outputs": [],
   "source": [
    "\n",
    "RG = Model_1"
   ]
  },
  {
   "cell_type": "code",
   "execution_count": 6,
   "metadata": {},
   "outputs": [],
   "source": [
    "\n",
    "pipe = Pipeline(steps=[(\"RG\",RG)])"
   ]
  },
  {
   "cell_type": "code",
   "execution_count": 7,
   "metadata": {},
   "outputs": [],
   "source": [
    "param_grid = {\n",
    "    \"RG__ccp_alpha\":[0,0.001,0.005,0.1,0.5,2,8]\n",
    "}"
   ]
  },
  {
   "cell_type": "markdown",
   "metadata": {},
   "source": [
    "# 3. Setup GridSearch"
   ]
  },
  {
   "cell_type": "code",
   "execution_count": 8,
   "metadata": {},
   "outputs": [],
   "source": [
    "score_metric = 'neg_mean_squared_error'\n",
    "search = GridSearchCV(pipe,param_grid,\n",
    "                      n_jobs=-1,\n",
    "                      cv=10,\n",
    "                      scoring=score_metric)"
   ]
  },
  {
   "cell_type": "code",
   "execution_count": 9,
   "metadata": {},
   "outputs": [
    {
     "data": {
      "text/plain": [
       "GridSearchCV(cv=10, estimator=Pipeline(steps=[('RG', DecisionTreeRegressor())]),\n",
       "             n_jobs=-1,\n",
       "             param_grid={'RG__ccp_alpha': [0, 0.001, 0.005, 0.1, 0.5, 2, 8]},\n",
       "             scoring='neg_mean_squared_error')"
      ]
     },
     "execution_count": 9,
     "metadata": {},
     "output_type": "execute_result"
    }
   ],
   "source": [
    "search.fit(X_train,Y_train.values.ravel())"
   ]
  },
  {
   "cell_type": "code",
   "execution_count": 10,
   "metadata": {},
   "outputs": [
    {
     "name": "stdout",
     "output_type": "stream",
     "text": [
      "Best parameter (CV score=-730.785):\n",
      "{'RG__ccp_alpha': 0.005}\n"
     ]
    }
   ],
   "source": [
    "print(\"Best parameter (CV score=%0.3f):\" % search.best_score_)\n",
    "print(search.best_params_)"
   ]
  },
  {
   "cell_type": "code",
   "execution_count": 11,
   "metadata": {},
   "outputs": [
    {
     "data": {
      "text/html": [
       "<div>\n",
       "<style scoped>\n",
       "    .dataframe tbody tr th:only-of-type {\n",
       "        vertical-align: middle;\n",
       "    }\n",
       "\n",
       "    .dataframe tbody tr th {\n",
       "        vertical-align: top;\n",
       "    }\n",
       "\n",
       "    .dataframe thead th {\n",
       "        text-align: right;\n",
       "    }\n",
       "</style>\n",
       "<table border=\"1\" class=\"dataframe\">\n",
       "  <thead>\n",
       "    <tr style=\"text-align: right;\">\n",
       "      <th></th>\n",
       "      <th>mean_fit_time</th>\n",
       "      <th>std_fit_time</th>\n",
       "      <th>mean_score_time</th>\n",
       "      <th>std_score_time</th>\n",
       "      <th>param_RG__ccp_alpha</th>\n",
       "      <th>params</th>\n",
       "      <th>split0_test_score</th>\n",
       "      <th>split1_test_score</th>\n",
       "      <th>split2_test_score</th>\n",
       "      <th>split3_test_score</th>\n",
       "      <th>split4_test_score</th>\n",
       "      <th>split5_test_score</th>\n",
       "      <th>split6_test_score</th>\n",
       "      <th>split7_test_score</th>\n",
       "      <th>split8_test_score</th>\n",
       "      <th>split9_test_score</th>\n",
       "      <th>mean_test_score</th>\n",
       "      <th>std_test_score</th>\n",
       "      <th>rank_test_score</th>\n",
       "    </tr>\n",
       "  </thead>\n",
       "  <tbody>\n",
       "    <tr>\n",
       "      <th>2</th>\n",
       "      <td>0.063330</td>\n",
       "      <td>0.012936</td>\n",
       "      <td>0.003590</td>\n",
       "      <td>0.000798</td>\n",
       "      <td>0.005</td>\n",
       "      <td>{'RG__ccp_alpha': 0.005}</td>\n",
       "      <td>-331.173706</td>\n",
       "      <td>-386.011649</td>\n",
       "      <td>-697.379734</td>\n",
       "      <td>-1008.893386</td>\n",
       "      <td>-2012.628411</td>\n",
       "      <td>-387.714429</td>\n",
       "      <td>-618.478541</td>\n",
       "      <td>-501.932453</td>\n",
       "      <td>-619.094219</td>\n",
       "      <td>-744.545830</td>\n",
       "      <td>-730.785236</td>\n",
       "      <td>468.560391</td>\n",
       "      <td>1</td>\n",
       "    </tr>\n",
       "    <tr>\n",
       "      <th>6</th>\n",
       "      <td>0.059242</td>\n",
       "      <td>0.010798</td>\n",
       "      <td>0.002593</td>\n",
       "      <td>0.000489</td>\n",
       "      <td>8</td>\n",
       "      <td>{'RG__ccp_alpha': 8}</td>\n",
       "      <td>-333.755018</td>\n",
       "      <td>-354.666982</td>\n",
       "      <td>-877.548830</td>\n",
       "      <td>-1091.468585</td>\n",
       "      <td>-2297.209439</td>\n",
       "      <td>-191.099060</td>\n",
       "      <td>-730.823138</td>\n",
       "      <td>-589.390658</td>\n",
       "      <td>-603.697816</td>\n",
       "      <td>-670.838817</td>\n",
       "      <td>-774.049834</td>\n",
       "      <td>567.159138</td>\n",
       "      <td>2</td>\n",
       "    </tr>\n",
       "    <tr>\n",
       "      <th>1</th>\n",
       "      <td>0.061735</td>\n",
       "      <td>0.011065</td>\n",
       "      <td>0.004687</td>\n",
       "      <td>0.002363</td>\n",
       "      <td>0.001</td>\n",
       "      <td>{'RG__ccp_alpha': 0.001}</td>\n",
       "      <td>-348.781219</td>\n",
       "      <td>-361.588393</td>\n",
       "      <td>-762.104403</td>\n",
       "      <td>-1047.163080</td>\n",
       "      <td>-2012.385331</td>\n",
       "      <td>-372.792833</td>\n",
       "      <td>-1903.697952</td>\n",
       "      <td>-525.144321</td>\n",
       "      <td>-623.098355</td>\n",
       "      <td>-854.514606</td>\n",
       "      <td>-881.127049</td>\n",
       "      <td>580.763102</td>\n",
       "      <td>3</td>\n",
       "    </tr>\n",
       "    <tr>\n",
       "      <th>5</th>\n",
       "      <td>0.058894</td>\n",
       "      <td>0.007695</td>\n",
       "      <td>0.003092</td>\n",
       "      <td>0.000537</td>\n",
       "      <td>2</td>\n",
       "      <td>{'RG__ccp_alpha': 2}</td>\n",
       "      <td>-335.317754</td>\n",
       "      <td>-319.031803</td>\n",
       "      <td>-2238.490892</td>\n",
       "      <td>-1053.612171</td>\n",
       "      <td>-1968.069726</td>\n",
       "      <td>-337.426377</td>\n",
       "      <td>-612.631752</td>\n",
       "      <td>-604.690838</td>\n",
       "      <td>-834.890780</td>\n",
       "      <td>-1325.620816</td>\n",
       "      <td>-962.978291</td>\n",
       "      <td>651.484791</td>\n",
       "      <td>4</td>\n",
       "    </tr>\n",
       "    <tr>\n",
       "      <th>4</th>\n",
       "      <td>0.073910</td>\n",
       "      <td>0.021166</td>\n",
       "      <td>0.003392</td>\n",
       "      <td>0.000489</td>\n",
       "      <td>0.5</td>\n",
       "      <td>{'RG__ccp_alpha': 0.5}</td>\n",
       "      <td>-669.958545</td>\n",
       "      <td>-309.245973</td>\n",
       "      <td>-2327.819793</td>\n",
       "      <td>-873.456592</td>\n",
       "      <td>-1947.417618</td>\n",
       "      <td>-354.167012</td>\n",
       "      <td>-857.062299</td>\n",
       "      <td>-543.846152</td>\n",
       "      <td>-750.366184</td>\n",
       "      <td>-1438.075533</td>\n",
       "      <td>-1007.141570</td>\n",
       "      <td>645.144343</td>\n",
       "      <td>5</td>\n",
       "    </tr>\n",
       "    <tr>\n",
       "      <th>3</th>\n",
       "      <td>0.076846</td>\n",
       "      <td>0.028037</td>\n",
       "      <td>0.004089</td>\n",
       "      <td>0.001133</td>\n",
       "      <td>0.1</td>\n",
       "      <td>{'RG__ccp_alpha': 0.1}</td>\n",
       "      <td>-479.916727</td>\n",
       "      <td>-356.166732</td>\n",
       "      <td>-2337.698238</td>\n",
       "      <td>-1438.975332</td>\n",
       "      <td>-1967.735981</td>\n",
       "      <td>-384.582828</td>\n",
       "      <td>-1754.278061</td>\n",
       "      <td>-485.752499</td>\n",
       "      <td>-775.902744</td>\n",
       "      <td>-988.463691</td>\n",
       "      <td>-1096.947283</td>\n",
       "      <td>690.807196</td>\n",
       "      <td>6</td>\n",
       "    </tr>\n",
       "    <tr>\n",
       "      <th>0</th>\n",
       "      <td>0.053457</td>\n",
       "      <td>0.008055</td>\n",
       "      <td>0.004987</td>\n",
       "      <td>0.002044</td>\n",
       "      <td>0</td>\n",
       "      <td>{'RG__ccp_alpha': 0}</td>\n",
       "      <td>-678.469828</td>\n",
       "      <td>-388.801724</td>\n",
       "      <td>-2221.689655</td>\n",
       "      <td>-1539.543103</td>\n",
       "      <td>-2061.463203</td>\n",
       "      <td>-391.294372</td>\n",
       "      <td>-1962.636364</td>\n",
       "      <td>-499.701299</td>\n",
       "      <td>-601.043290</td>\n",
       "      <td>-719.987013</td>\n",
       "      <td>-1106.462985</td>\n",
       "      <td>711.266592</td>\n",
       "      <td>7</td>\n",
       "    </tr>\n",
       "  </tbody>\n",
       "</table>\n",
       "</div>"
      ],
      "text/plain": [
       "   mean_fit_time  std_fit_time  mean_score_time  std_score_time  \\\n",
       "2       0.063330      0.012936         0.003590        0.000798   \n",
       "6       0.059242      0.010798         0.002593        0.000489   \n",
       "1       0.061735      0.011065         0.004687        0.002363   \n",
       "5       0.058894      0.007695         0.003092        0.000537   \n",
       "4       0.073910      0.021166         0.003392        0.000489   \n",
       "3       0.076846      0.028037         0.004089        0.001133   \n",
       "0       0.053457      0.008055         0.004987        0.002044   \n",
       "\n",
       "  param_RG__ccp_alpha                    params  split0_test_score  \\\n",
       "2               0.005  {'RG__ccp_alpha': 0.005}        -331.173706   \n",
       "6                   8      {'RG__ccp_alpha': 8}        -333.755018   \n",
       "1               0.001  {'RG__ccp_alpha': 0.001}        -348.781219   \n",
       "5                   2      {'RG__ccp_alpha': 2}        -335.317754   \n",
       "4                 0.5    {'RG__ccp_alpha': 0.5}        -669.958545   \n",
       "3                 0.1    {'RG__ccp_alpha': 0.1}        -479.916727   \n",
       "0                   0      {'RG__ccp_alpha': 0}        -678.469828   \n",
       "\n",
       "   split1_test_score  split2_test_score  split3_test_score  split4_test_score  \\\n",
       "2        -386.011649        -697.379734       -1008.893386       -2012.628411   \n",
       "6        -354.666982        -877.548830       -1091.468585       -2297.209439   \n",
       "1        -361.588393        -762.104403       -1047.163080       -2012.385331   \n",
       "5        -319.031803       -2238.490892       -1053.612171       -1968.069726   \n",
       "4        -309.245973       -2327.819793        -873.456592       -1947.417618   \n",
       "3        -356.166732       -2337.698238       -1438.975332       -1967.735981   \n",
       "0        -388.801724       -2221.689655       -1539.543103       -2061.463203   \n",
       "\n",
       "   split5_test_score  split6_test_score  split7_test_score  split8_test_score  \\\n",
       "2        -387.714429        -618.478541        -501.932453        -619.094219   \n",
       "6        -191.099060        -730.823138        -589.390658        -603.697816   \n",
       "1        -372.792833       -1903.697952        -525.144321        -623.098355   \n",
       "5        -337.426377        -612.631752        -604.690838        -834.890780   \n",
       "4        -354.167012        -857.062299        -543.846152        -750.366184   \n",
       "3        -384.582828       -1754.278061        -485.752499        -775.902744   \n",
       "0        -391.294372       -1962.636364        -499.701299        -601.043290   \n",
       "\n",
       "   split9_test_score  mean_test_score  std_test_score  rank_test_score  \n",
       "2        -744.545830      -730.785236      468.560391                1  \n",
       "6        -670.838817      -774.049834      567.159138                2  \n",
       "1        -854.514606      -881.127049      580.763102                3  \n",
       "5       -1325.620816      -962.978291      651.484791                4  \n",
       "4       -1438.075533     -1007.141570      645.144343                5  \n",
       "3        -988.463691     -1096.947283      690.807196                6  \n",
       "0        -719.987013     -1106.462985      711.266592                7  "
      ]
     },
     "execution_count": 11,
     "metadata": {},
     "output_type": "execute_result"
    }
   ],
   "source": [
    "df = pd.DataFrame(search.cv_results_)\n",
    "df = df.sort_values(by=['rank_test_score'])\n",
    "df"
   ]
  },
  {
   "cell_type": "markdown",
   "metadata": {},
   "source": [
    "# 4. Best Hyperparameter"
   ]
  },
  {
   "cell_type": "code",
   "execution_count": 12,
   "metadata": {},
   "outputs": [
    {
     "name": "stdout",
     "output_type": "stream",
     "text": [
      "{'RG__ccp_alpha': 0.005}\n"
     ]
    }
   ],
   "source": [
    "parms = pd.DataFrame(df['params'])\n",
    "for i in parms.iloc[0]:\n",
    "    print(i)"
   ]
  },
  {
   "cell_type": "markdown",
   "metadata": {},
   "source": [
    "# 5. Evaluate Model $log(Sales)$"
   ]
  },
  {
   "cell_type": "code",
   "execution_count": 13,
   "metadata": {},
   "outputs": [],
   "source": [
    "best_ccp_alpha = parms.iloc[0][0]['RG__ccp_alpha']"
   ]
  },
  {
   "cell_type": "code",
   "execution_count": null,
   "metadata": {},
   "outputs": [],
   "source": []
  },
  {
   "cell_type": "code",
   "execution_count": 14,
   "metadata": {},
   "outputs": [],
   "source": [
    "Model_2 = DecisionTreeRegressor(ccp_alpha=best_ccp_alpha)"
   ]
  },
  {
   "cell_type": "code",
   "execution_count": 15,
   "metadata": {},
   "outputs": [],
   "source": [
    "X_train1,X_test1,Y_train1,Y_test1 = train_test_split(X_train,Y_train,test_size=0.2,random_state=132)\n"
   ]
  },
  {
   "cell_type": "code",
   "execution_count": 16,
   "metadata": {},
   "outputs": [
    {
     "data": {
      "text/plain": [
       "DecisionTreeRegressor(ccp_alpha=0.005)"
      ]
     },
     "execution_count": 16,
     "metadata": {},
     "output_type": "execute_result"
    }
   ],
   "source": [
    "\n",
    "RG1 = Model_2\n",
    "RG1.fit(X_train1,Y_train1.values.ravel())"
   ]
  },
  {
   "cell_type": "code",
   "execution_count": null,
   "metadata": {},
   "outputs": [],
   "source": []
  },
  {
   "cell_type": "code",
   "execution_count": 17,
   "metadata": {},
   "outputs": [
    {
     "data": {
      "text/plain": [
       "446.8042209202588"
      ]
     },
     "execution_count": 17,
     "metadata": {},
     "output_type": "execute_result"
    }
   ],
   "source": [
    "MSE(RG1.predict(X_test1),Y_test1)"
   ]
  },
  {
   "cell_type": "code",
   "execution_count": 18,
   "metadata": {},
   "outputs": [],
   "source": [
    "result = pd.DataFrame(Y_test1)"
   ]
  },
  {
   "cell_type": "code",
   "execution_count": 19,
   "metadata": {},
   "outputs": [],
   "source": [
    "result[\"Predicted_sales\"] = RG1.predict(X_test1)"
   ]
  },
  {
   "cell_type": "code",
   "execution_count": 20,
   "metadata": {},
   "outputs": [
    {
     "data": {
      "text/plain": [
       "446.8042209202588"
      ]
     },
     "execution_count": 20,
     "metadata": {},
     "output_type": "execute_result"
    }
   ],
   "source": [
    "MSE(result[\"sales\"],result[\"Predicted_sales\"])"
   ]
  },
  {
   "cell_type": "markdown",
   "metadata": {},
   "source": [
    "# 6. Inventory Decision"
   ]
  },
  {
   "cell_type": "code",
   "execution_count": 21,
   "metadata": {},
   "outputs": [],
   "source": [
    "residual = result['sales']-result['Predicted_sales']"
   ]
  },
  {
   "cell_type": "code",
   "execution_count": 22,
   "metadata": {},
   "outputs": [
    {
     "data": {
      "text/plain": [
       "(4, 8)"
      ]
     },
     "execution_count": 22,
     "metadata": {},
     "output_type": "execute_result"
    }
   ],
   "source": [
    "Price=20\n",
    "Cost=12\n",
    "Salvage=8\n",
    "Over=Cost - Salvage\n",
    "Under=Price - Cost\n",
    "Over, Under"
   ]
  },
  {
   "cell_type": "markdown",
   "metadata": {},
   "source": [
    "### QQ plot to explore the distribution of residual"
   ]
  },
  {
   "cell_type": "markdown",
   "metadata": {},
   "source": [
    "#### Normal Distribution"
   ]
  },
  {
   "cell_type": "code",
   "execution_count": 23,
   "metadata": {},
   "outputs": [],
   "source": [
    "import scipy.stats as sct"
   ]
  },
  {
   "cell_type": "code",
   "execution_count": 24,
   "metadata": {},
   "outputs": [
    {
     "data": {
      "image/png": "[encoded data removed]",
      "text/plain": [
       "<Figure size 432x288 with 1 Axes>"
      ]
     },
     "metadata": {
      "needs_background": "light"
     },
     "output_type": "display_data"
    }
   ],
   "source": [
    "import scipy\n",
    "scipy.stats.probplot(residual, dist=\"norm\", plot=plt)\n",
    "plt.show()"
   ]
  },
  {
   "cell_type": "code",
   "execution_count": 25,
   "metadata": {},
   "outputs": [],
   "source": [
    "s = residual.std()\n",
    "opt_dec_N=round(sct.norm.ppf(Under/(Under+Over))*s + result['Predicted_sales'])"
   ]
  },
  {
   "cell_type": "markdown",
   "metadata": {},
   "source": [
    "#### Exponential Distribution"
   ]
  },
  {
   "cell_type": "code",
   "execution_count": 26,
   "metadata": {},
   "outputs": [
    {
     "data": {
      "image/png": "[encoded data removed]",
      "text/plain": [
       "<Figure size 432x288 with 1 Axes>"
      ]
     },
     "metadata": {
      "needs_background": "light"
     },
     "output_type": "display_data"
    }
   ],
   "source": [
    "scipy.stats.probplot(residual, dist=\"expon\", plot=plt)\n",
    "plt.show()"
   ]
  },
  {
   "cell_type": "code",
   "execution_count": 27,
   "metadata": {},
   "outputs": [],
   "source": [
    "opt_dec_E=round((-result['Predicted_sales'])*np.log(1-(Under/(Under+Over))))"
   ]
  },
  {
   "cell_type": "markdown",
   "metadata": {},
   "source": [
    "#### Empirical Distribution"
   ]
  },
  {
   "cell_type": "code",
   "execution_count": 28,
   "metadata": {},
   "outputs": [
    {
     "data": {
      "text/plain": [
       "[<matplotlib.lines.Line2D at 0x1f7784de880>]"
      ]
     },
     "execution_count": 28,
     "metadata": {},
     "output_type": "execute_result"
    },
    {
     "data": {
      "image/png": "[encoded data removed]",
      "text/plain": [
       "<Figure size 432x288 with 1 Axes>"
      ]
     },
     "metadata": {
      "needs_background": "light"
     },
     "output_type": "display_data"
    }
   ],
   "source": [
    "size = residual.shape[0]\n",
    "step=1/size\n",
    "jumps = [step*i for i in range(1,size+1)]\n",
    "Sample = sorted(residual)\n",
    "plt.plot(Sample,jumps)"
   ]
  },
  {
   "cell_type": "code",
   "execution_count": 29,
   "metadata": {},
   "outputs": [
    {
     "data": {
      "image/png": "[encoded data removed]",
      "text/plain": [
       "<Figure size 432x288 with 1 Axes>"
      ]
     },
     "metadata": {
      "needs_background": "light"
     },
     "output_type": "display_data"
    }
   ],
   "source": [
    "plt.hist(Sample)\n",
    "plt.show()"
   ]
  },
  {
   "cell_type": "code",
   "execution_count": 30,
   "metadata": {},
   "outputs": [],
   "source": [
    "def inv(sample,jump,area):\n",
    "    size = len(sample)\n",
    "    i=0\n",
    "    temp=jump[i]\n",
    "    while temp<area:\n",
    "        i+=1\n",
    "        temp=jump[i]\n",
    "        \n",
    "    return sample[i]"
   ]
  },
  {
   "cell_type": "code",
   "execution_count": 31,
   "metadata": {},
   "outputs": [
    {
     "data": {
      "text/plain": [
       "1.75"
      ]
     },
     "execution_count": 31,
     "metadata": {},
     "output_type": "execute_result"
    }
   ],
   "source": [
    "offset = inv(Sample,jumps,2/3)\n",
    "offset"
   ]
  },
  {
   "cell_type": "code",
   "execution_count": 32,
   "metadata": {},
   "outputs": [],
   "source": [
    "opt_dec_B = round(result['Predicted_sales']+offset)"
   ]
  },
  {
   "cell_type": "markdown",
   "metadata": {},
   "source": [
    "# 7. Out-of-samples Profit"
   ]
  },
  {
   "cell_type": "code",
   "execution_count": 33,
   "metadata": {},
   "outputs": [
    {
     "data": {
      "text/plain": [
       "82096"
      ]
     },
     "execution_count": 33,
     "metadata": {},
     "output_type": "execute_result"
    }
   ],
   "source": [
    "#max profit for test data set\n",
    "max_profit = result['sales'].sum()*(Price-Cost)\n",
    "max_profit"
   ]
  },
  {
   "cell_type": "code",
   "execution_count": 34,
   "metadata": {},
   "outputs": [],
   "source": [
    "def profit(demand,inv):\n",
    "    return (Price-Salvage)*np.minimum(demand,inv)-(Cost-Salvage)*inv"
   ]
  },
  {
   "cell_type": "code",
   "execution_count": 35,
   "metadata": {},
   "outputs": [
    {
     "data": {
      "text/plain": [
       "49592.0"
      ]
     },
     "execution_count": 35,
     "metadata": {},
     "output_type": "execute_result"
    }
   ],
   "source": [
    "#Profit (Normal)\n",
    "profit_lst_N = profit(result['sales'],opt_dec_N)\n",
    "profit_lst_N.sum()"
   ]
  },
  {
   "cell_type": "code",
   "execution_count": 36,
   "metadata": {},
   "outputs": [
    {
     "data": {
      "text/plain": [
       "53256.0"
      ]
     },
     "execution_count": 36,
     "metadata": {},
     "output_type": "execute_result"
    }
   ],
   "source": [
    "#Profit (Exponential)\n",
    "profit_lst_E = profit(result['sales'],opt_dec_E)\n",
    "profit_lst_E.sum()"
   ]
  },
  {
   "cell_type": "code",
   "execution_count": 37,
   "metadata": {},
   "outputs": [
    {
     "data": {
      "text/plain": [
       "54084.0"
      ]
     },
     "execution_count": 37,
     "metadata": {},
     "output_type": "execute_result"
    }
   ],
   "source": [
    "#Profit (Empirical)\n",
    "profit_lst_B = profit(result['sales'],opt_dec_B)\n",
    "profit_lst_B.sum()"
   ]
  },
  {
   "cell_type": "markdown",
   "metadata": {},
   "source": [
    "# 8. K-Fold Cross Validation"
   ]
  },
  {
   "cell_type": "markdown",
   "metadata": {},
   "source": [
    "### Repeat steps 5,6,7 with 10-fold cross validation"
   ]
  },
  {
   "cell_type": "code",
   "execution_count": 38,
   "metadata": {},
   "outputs": [],
   "source": [
    "Model_4= DecisionTreeRegressor(ccp_alpha=best_ccp_alpha)"
   ]
  },
  {
   "cell_type": "code",
   "execution_count": 39,
   "metadata": {},
   "outputs": [],
   "source": [
    "from sklearn.model_selection import KFold\n",
    "k=10\n",
    "kf = KFold(n_splits=k)\n",
    "X_train_t=X_train.to_numpy()\n",
    "Y_train_t=Y_train.to_numpy()\n",
    "model = []\n",
    "mse_lst = []\n",
    "max_profit_lst = []\n",
    "profit_N_lst = []\n",
    "profit_E_lst = []\n",
    "profit_B_lst = []\n",
    "\n",
    "for train_index,test_index in kf.split(X_train_t):\n",
    "    X_train_K,X_test_K=X_train_t[train_index],X_train_t[test_index]\n",
    "    Y_train_K,Y_test_K=Y_train_t[train_index],Y_train_t[test_index]\n",
    "    \n",
    "    #PCA to transform train data\n",
    "    \n",
    "    #Model\n",
    "    RG_K = Model_4\n",
    "    RG_K.fit(X_train_K,Y_train_K.ravel())\n",
    "    \n",
    "    #pca to transform test data\n",
    "    \n",
    "    #MSE\n",
    "    mse_lst.append(MSE(RG_K.predict(X_test_K),Y_test_K))\n",
    "    \n",
    "    #Transform log(sale) back to sale\n",
    "    result_K = pd.DataFrame(Y_test_K)\n",
    "    result_K[\"Predicted_sales\"] = RG_K.predict(X_test_K)\n",
    "    \n",
    "    #Obtain residual\n",
    "    residual_K = result_K[0]-result_K['Predicted_sales']\n",
    "    \n",
    "    #Get std for Normal distribution\n",
    "    s_K = residual.std()\n",
    "    \n",
    "    #Inventory Decision (Normal)\n",
    "    opt_dec_N_K=np.ceil(sct.norm.ppf(Under/(Under+Over))*s_K + result_K['Predicted_sales'])\n",
    "    #Inventory Decision (Exponential)\n",
    "    opt_dec_E_K=np.ceil((-result_K['Predicted_sales'])*np.log(1-(Under/(Under+Over))))\n",
    "    \n",
    "    #Inventory Decision (Empirical Distribution)\n",
    "    size_K = residual_K.shape[0]\n",
    "    step_K=1/size_K\n",
    "    jumps_K = [step_K*i for i in range(1,size+1)]\n",
    "    Sample_K = sorted(residual_K)\n",
    "    offset_K = inv(Sample_K,jumps_K,2/3)\n",
    "    opt_dec_B_K = np.ceil(result_K['Predicted_sales']+offset_K)\n",
    "    \n",
    "    #Out-of_sample profit\n",
    "    profit_lst_B_K = profit(result_K[0],opt_dec_B_K)\n",
    "    profit_B_lst.append(profit_lst_B_K.sum())\n",
    "    \n",
    "    profit_lst_N_K = profit(result_K[0],opt_dec_N_K)\n",
    "    profit_N_lst.append(profit_lst_N_K.sum())\n",
    "    \n",
    "    profit_lst_E_K = profit(result_K[0],opt_dec_E_K)\n",
    "    profit_E_lst.append(profit_lst_E_K.sum())\n",
    "    \n",
    "    max_profit_K = result_K[0].sum()*(Price-Cost)\n",
    "    max_profit_lst.append(max_profit_K)\n",
    "    \n",
    "max_profit_lst = np.array(max_profit_lst)\n",
    "profit_N_lst = np.array(profit_N_lst)\n",
    "profit_E_lst = np.array(profit_E_lst)\n",
    "profit_B_lst = np.array(profit_B_lst)\n",
    "\n",
    "fraction_of_max_N = profit_N_lst/max_profit_lst\n",
    "fraction_of_max_E = profit_E_lst/max_profit_lst\n",
    "fraction_of_max_B = profit_B_lst/max_profit_lst\n",
    "\n",
    "dist_profit = [\"Normal\",\"Exponential\",\"Empirical\",\"Max\"]\n",
    "dist_frac = [\"Normal\",\"Exponential\",\"Empirical\"]\n",
    "col_name = [\"Dataset_\"+str(i) for i in range(1,k+1)]\n",
    "\n",
    "profit_lst = [profit_N_lst,profit_E_lst,profit_B_lst,max_profit_lst]\n",
    "profit_table = pd.DataFrame(profit_lst,index=dist_profit,columns=col_name)\n",
    "profit_table[\"mean_profit\"]=profit_table.mean(axis=1)\n",
    "profit_table[\"std_profit\"]=profit_table.std(ddof=1,axis=1)\n",
    "\n",
    "fraction_lst = [fraction_of_max_N,fraction_of_max_E,fraction_of_max_B]\n",
    "fraction_table = pd.DataFrame(fraction_lst,index=dist_frac,columns=col_name)\n",
    "fraction_table[\"mean_fraction\"]=fraction_table.mean(axis=1)"
   ]
  },
  {
   "cell_type": "code",
   "execution_count": 40,
   "metadata": {},
   "outputs": [
    {
     "data": {
      "text/html": [
       "<div>\n",
       "<style scoped>\n",
       "    .dataframe tbody tr th:only-of-type {\n",
       "        vertical-align: middle;\n",
       "    }\n",
       "\n",
       "    .dataframe tbody tr th {\n",
       "        vertical-align: top;\n",
       "    }\n",
       "\n",
       "    .dataframe thead th {\n",
       "        text-align: right;\n",
       "    }\n",
       "</style>\n",
       "<table border=\"1\" class=\"dataframe\">\n",
       "  <thead>\n",
       "    <tr style=\"text-align: right;\">\n",
       "      <th></th>\n",
       "      <th>Dataset_1</th>\n",
       "      <th>Dataset_2</th>\n",
       "      <th>Dataset_3</th>\n",
       "      <th>Dataset_4</th>\n",
       "      <th>Dataset_5</th>\n",
       "      <th>Dataset_6</th>\n",
       "      <th>Dataset_7</th>\n",
       "      <th>Dataset_8</th>\n",
       "      <th>Dataset_9</th>\n",
       "      <th>Dataset_10</th>\n",
       "      <th>mean_fraction</th>\n",
       "    </tr>\n",
       "  </thead>\n",
       "  <tbody>\n",
       "    <tr>\n",
       "      <th>Normal</th>\n",
       "      <td>0.606708</td>\n",
       "      <td>0.632226</td>\n",
       "      <td>0.575600</td>\n",
       "      <td>0.610129</td>\n",
       "      <td>0.591056</td>\n",
       "      <td>0.574268</td>\n",
       "      <td>0.645646</td>\n",
       "      <td>0.584996</td>\n",
       "      <td>0.608626</td>\n",
       "      <td>0.530061</td>\n",
       "      <td>0.595931</td>\n",
       "    </tr>\n",
       "    <tr>\n",
       "      <th>Exponential</th>\n",
       "      <td>0.683646</td>\n",
       "      <td>0.662896</td>\n",
       "      <td>0.627959</td>\n",
       "      <td>0.640258</td>\n",
       "      <td>0.637067</td>\n",
       "      <td>0.636038</td>\n",
       "      <td>0.681261</td>\n",
       "      <td>0.616219</td>\n",
       "      <td>0.670902</td>\n",
       "      <td>0.586919</td>\n",
       "      <td>0.644316</td>\n",
       "    </tr>\n",
       "    <tr>\n",
       "      <th>Empirical</th>\n",
       "      <td>0.699207</td>\n",
       "      <td>0.662719</td>\n",
       "      <td>0.635649</td>\n",
       "      <td>0.651588</td>\n",
       "      <td>0.636825</td>\n",
       "      <td>0.650072</td>\n",
       "      <td>0.675462</td>\n",
       "      <td>0.628708</td>\n",
       "      <td>0.674123</td>\n",
       "      <td>0.593834</td>\n",
       "      <td>0.650819</td>\n",
       "    </tr>\n",
       "  </tbody>\n",
       "</table>\n",
       "</div>"
      ],
      "text/plain": [
       "             Dataset_1  Dataset_2  Dataset_3  Dataset_4  Dataset_5  Dataset_6  \\\n",
       "Normal        0.606708   0.632226   0.575600   0.610129   0.591056   0.574268   \n",
       "Exponential   0.683646   0.662896   0.627959   0.640258   0.637067   0.636038   \n",
       "Empirical     0.699207   0.662719   0.635649   0.651588   0.636825   0.650072   \n",
       "\n",
       "             Dataset_7  Dataset_8  Dataset_9  Dataset_10  mean_fraction  \n",
       "Normal        0.645646   0.584996   0.608626    0.530061       0.595931  \n",
       "Exponential   0.681261   0.616219   0.670902    0.586919       0.644316  \n",
       "Empirical     0.675462   0.628708   0.674123    0.593834       0.650819  "
      ]
     },
     "execution_count": 40,
     "metadata": {},
     "output_type": "execute_result"
    }
   ],
   "source": [
    "fraction_table"
   ]
  },
  {
   "cell_type": "code",
   "execution_count": 41,
   "metadata": {
    "scrolled": true
   },
   "outputs": [
    {
     "data": {
      "text/html": [
       "<div>\n",
       "<style scoped>\n",
       "    .dataframe tbody tr th:only-of-type {\n",
       "        vertical-align: middle;\n",
       "    }\n",
       "\n",
       "    .dataframe tbody tr th {\n",
       "        vertical-align: top;\n",
       "    }\n",
       "\n",
       "    .dataframe thead th {\n",
       "        text-align: right;\n",
       "    }\n",
       "</style>\n",
       "<table border=\"1\" class=\"dataframe\">\n",
       "  <thead>\n",
       "    <tr style=\"text-align: right;\">\n",
       "      <th></th>\n",
       "      <th>Dataset_1</th>\n",
       "      <th>Dataset_2</th>\n",
       "      <th>Dataset_3</th>\n",
       "      <th>Dataset_4</th>\n",
       "      <th>Dataset_5</th>\n",
       "      <th>Dataset_6</th>\n",
       "      <th>Dataset_7</th>\n",
       "      <th>Dataset_8</th>\n",
       "      <th>Dataset_9</th>\n",
       "      <th>Dataset_10</th>\n",
       "      <th>mean_profit</th>\n",
       "      <th>std_profit</th>\n",
       "    </tr>\n",
       "  </thead>\n",
       "  <tbody>\n",
       "    <tr>\n",
       "      <th>Normal</th>\n",
       "      <td>25108.0</td>\n",
       "      <td>28612.0</td>\n",
       "      <td>26648.0</td>\n",
       "      <td>28432.0</td>\n",
       "      <td>29340.0</td>\n",
       "      <td>22424.0</td>\n",
       "      <td>31616.0</td>\n",
       "      <td>26980.0</td>\n",
       "      <td>27208.0</td>\n",
       "      <td>22076.0</td>\n",
       "      <td>26844.4</td>\n",
       "      <td>2830.598778</td>\n",
       "    </tr>\n",
       "    <tr>\n",
       "      <th>Exponential</th>\n",
       "      <td>28292.0</td>\n",
       "      <td>30000.0</td>\n",
       "      <td>29072.0</td>\n",
       "      <td>29836.0</td>\n",
       "      <td>31624.0</td>\n",
       "      <td>24836.0</td>\n",
       "      <td>33360.0</td>\n",
       "      <td>28420.0</td>\n",
       "      <td>29992.0</td>\n",
       "      <td>24444.0</td>\n",
       "      <td>28987.6</td>\n",
       "      <td>2598.370228</td>\n",
       "    </tr>\n",
       "    <tr>\n",
       "      <th>Empirical</th>\n",
       "      <td>28936.0</td>\n",
       "      <td>29992.0</td>\n",
       "      <td>29428.0</td>\n",
       "      <td>30364.0</td>\n",
       "      <td>31612.0</td>\n",
       "      <td>25384.0</td>\n",
       "      <td>33076.0</td>\n",
       "      <td>28996.0</td>\n",
       "      <td>30136.0</td>\n",
       "      <td>24732.0</td>\n",
       "      <td>29265.6</td>\n",
       "      <td>2415.460999</td>\n",
       "    </tr>\n",
       "    <tr>\n",
       "      <th>Max</th>\n",
       "      <td>41384.0</td>\n",
       "      <td>45256.0</td>\n",
       "      <td>46296.0</td>\n",
       "      <td>46600.0</td>\n",
       "      <td>49640.0</td>\n",
       "      <td>39048.0</td>\n",
       "      <td>48968.0</td>\n",
       "      <td>46120.0</td>\n",
       "      <td>44704.0</td>\n",
       "      <td>41648.0</td>\n",
       "      <td>44966.4</td>\n",
       "      <td>3203.875254</td>\n",
       "    </tr>\n",
       "  </tbody>\n",
       "</table>\n",
       "</div>"
      ],
      "text/plain": [
       "             Dataset_1  Dataset_2  Dataset_3  Dataset_4  Dataset_5  Dataset_6  \\\n",
       "Normal         25108.0    28612.0    26648.0    28432.0    29340.0    22424.0   \n",
       "Exponential    28292.0    30000.0    29072.0    29836.0    31624.0    24836.0   \n",
       "Empirical      28936.0    29992.0    29428.0    30364.0    31612.0    25384.0   \n",
       "Max            41384.0    45256.0    46296.0    46600.0    49640.0    39048.0   \n",
       "\n",
       "             Dataset_7  Dataset_8  Dataset_9  Dataset_10  mean_profit  \\\n",
       "Normal         31616.0    26980.0    27208.0     22076.0      26844.4   \n",
       "Exponential    33360.0    28420.0    29992.0     24444.0      28987.6   \n",
       "Empirical      33076.0    28996.0    30136.0     24732.0      29265.6   \n",
       "Max            48968.0    46120.0    44704.0     41648.0      44966.4   \n",
       "\n",
       "              std_profit  \n",
       "Normal       2830.598778  \n",
       "Exponential  2598.370228  \n",
       "Empirical    2415.460999  \n",
       "Max          3203.875254  "
      ]
     },
     "execution_count": 41,
     "metadata": {},
     "output_type": "execute_result"
    }
   ],
   "source": [
    "profit_table"
   ]
  },
  {
   "cell_type": "code",
   "execution_count": 42,
   "metadata": {},
   "outputs": [],
   "source": [
    "profit_table.to_csv(\".\\\\Model_Selection_Result\\\\4.2B_Decision_tree(No_PCA).csv\")"
   ]
  },
  {
   "cell_type": "code",
   "execution_count": 43,
   "metadata": {},
   "outputs": [
    {
     "data": {
      "text/plain": [
       "[<matplotlib.lines.Line2D at 0x1f7785f8e50>]"
      ]
     },
     "execution_count": 43,
     "metadata": {},
     "output_type": "execute_result"
    },
    {
     "data": {
      "image/png": "[encoded data removed]",
      "text/plain": [
       "<Figure size 432x288 with 1 Axes>"
      ]
     },
     "metadata": {
      "needs_background": "light"
     },
     "output_type": "display_data"
    }
   ],
   "source": [
    "plt.xlabel(\"sales\")\n",
    "plt.ylabel(\"Residual\")\n",
    "plt.plot(result['sales'],residual,\".\")"
   ]
  },
  {
   "cell_type": "code",
   "execution_count": null,
   "metadata": {},
   "outputs": [],
   "source": []
  }
 ],
 "metadata": {
  "kernelspec": {
   "display_name": "Python 3",
   "language": "python",
   "name": "python3"
  },
  "language_info": {
   "codemirror_mode": {
    "name": "ipython",
    "version": 3
   },
   "file_extension": ".py",
   "mimetype": "text/x-python",
   "name": "python",
   "nbconvert_exporter": "python",
   "pygments_lexer": "ipython3",
   "version": "3.8.5"
  }
 },
 "nbformat": 4,
 "nbformat_minor": 4
}
