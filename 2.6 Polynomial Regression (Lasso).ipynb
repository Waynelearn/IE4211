{
 "cells": [
  {
   "cell_type": "code",
   "execution_count": 1,
   "metadata": {},
   "outputs": [],
   "source": [
    "import pandas as pd\n",
    "import numpy as np\n",
    "import matplotlib.pyplot as plt\n",
    "from sklearn.pipeline import Pipeline\n",
    "from sklearn.model_selection import GridSearchCV\n",
    "from sklearn.decomposition import PCA\n",
    "from sklearn.metrics import mean_squared_error as MSE\n",
    "from sklearn.linear_model import LinearRegression\n",
    "from sklearn.preprocessing import PolynomialFeatures\n",
    "from sklearn.model_selection import train_test_split\n",
    "import pickle\n",
    "from sklearn.linear_model import Lasso"
   ]
  },
  {
   "cell_type": "markdown",
   "metadata": {},
   "source": [
    "# Import the train data"
   ]
  },
  {
   "cell_type": "code",
   "execution_count": 2,
   "metadata": {},
   "outputs": [],
   "source": [
    "X_train = pd.read_csv(\"A_Normalised_train_data.csv\",index_col=0)\n",
    "Y_train = pd.read_csv(\"A_Log_sales_train.csv\",index_col=0)"
   ]
  },
  {
   "cell_type": "markdown",
   "metadata": {},
   "source": [
    "# Setup Pipeline"
   ]
  },
  {
   "cell_type": "code",
   "execution_count": 3,
   "metadata": {},
   "outputs": [],
   "source": [
    "poly = PolynomialFeatures()\n",
    "pca=PCA()\n",
    "SLR = Lasso()"
   ]
  },
  {
   "cell_type": "code",
   "execution_count": 4,
   "metadata": {},
   "outputs": [],
   "source": [
    "# Step 1: Polynomial transform\n",
    "# Step 2: PCA\n",
    "# Step 3: Model\n",
    "pipe = Pipeline(steps=[(\"poly\",poly),(\"pca\",pca),(\"SLR\",SLR)])"
   ]
  },
  {
   "cell_type": "code",
   "execution_count": 5,
   "metadata": {},
   "outputs": [],
   "source": [
    "param_grid = {\n",
    "    \"pca__n_components\": [5, 10, 30, 45, 60, 100 ,150 ,170],\n",
    "    \"poly__degree\":[1,2],\n",
    "    \"SLR__alpha\":[0.05,0.1,0.2,0.5,1,2,8,10,100,1000,10000]\n",
    "}"
   ]
  },
  {
   "cell_type": "markdown",
   "metadata": {},
   "source": [
    "# Setup GridSearch"
   ]
  },
  {
   "cell_type": "code",
   "execution_count": 6,
   "metadata": {},
   "outputs": [],
   "source": [
    "score_metric = 'neg_mean_squared_error'\n",
    "search = GridSearchCV(pipe,param_grid,\n",
    "                      n_jobs=-1,\n",
    "                      cv=10,\n",
    "                      scoring=score_metric)"
   ]
  },
  {
   "cell_type": "code",
   "execution_count": 7,
   "metadata": {},
   "outputs": [
    {
     "data": {
      "text/plain": [
       "GridSearchCV(cv=10,\n",
       "             estimator=Pipeline(steps=[('poly', PolynomialFeatures()),\n",
       "                                       ('pca', PCA()), ('SLR', Lasso())]),\n",
       "             n_jobs=-1,\n",
       "             param_grid={'SLR__alpha': [0.05, 0.1, 0.2, 0.5, 1, 2, 8, 10, 100,\n",
       "                                        1000, 10000],\n",
       "                         'pca__n_components': [5, 10, 30, 45, 60, 100, 150,\n",
       "                                               170],\n",
       "                         'poly__degree': [1, 2]},\n",
       "             scoring='neg_mean_squared_error')"
      ]
     },
     "execution_count": 7,
     "metadata": {},
     "output_type": "execute_result"
    }
   ],
   "source": [
    "search.fit(X_train,Y_train)"
   ]
  },
  {
   "cell_type": "code",
   "execution_count": 8,
   "metadata": {},
   "outputs": [
    {
     "name": "stdout",
     "output_type": "stream",
     "text": [
      "Best parameter (CV score=-0.853):\n",
      "{'SLR__alpha': 0.05, 'pca__n_components': 100, 'poly__degree': 1}\n"
     ]
    }
   ],
   "source": [
    "print(\"Best parameter (CV score=%0.3f):\" % search.best_score_)\n",
    "print(search.best_params_)"
   ]
  },
  {
   "cell_type": "code",
   "execution_count": 9,
   "metadata": {},
   "outputs": [
    {
     "data": {
      "text/html": [
       "<div>\n",
       "<style scoped>\n",
       "    .dataframe tbody tr th:only-of-type {\n",
       "        vertical-align: middle;\n",
       "    }\n",
       "\n",
       "    .dataframe tbody tr th {\n",
       "        vertical-align: top;\n",
       "    }\n",
       "\n",
       "    .dataframe thead th {\n",
       "        text-align: right;\n",
       "    }\n",
       "</style>\n",
       "<table border=\"1\" class=\"dataframe\">\n",
       "  <thead>\n",
       "    <tr style=\"text-align: right;\">\n",
       "      <th></th>\n",
       "      <th>mean_fit_time</th>\n",
       "      <th>std_fit_time</th>\n",
       "      <th>mean_score_time</th>\n",
       "      <th>std_score_time</th>\n",
       "      <th>param_SLR__alpha</th>\n",
       "      <th>param_pca__n_components</th>\n",
       "      <th>param_poly__degree</th>\n",
       "      <th>params</th>\n",
       "      <th>split0_test_score</th>\n",
       "      <th>split1_test_score</th>\n",
       "      <th>...</th>\n",
       "      <th>split3_test_score</th>\n",
       "      <th>split4_test_score</th>\n",
       "      <th>split5_test_score</th>\n",
       "      <th>split6_test_score</th>\n",
       "      <th>split7_test_score</th>\n",
       "      <th>split8_test_score</th>\n",
       "      <th>split9_test_score</th>\n",
       "      <th>mean_test_score</th>\n",
       "      <th>std_test_score</th>\n",
       "      <th>rank_test_score</th>\n",
       "    </tr>\n",
       "  </thead>\n",
       "  <tbody>\n",
       "    <tr>\n",
       "      <th>10</th>\n",
       "      <td>0.199625</td>\n",
       "      <td>0.021146</td>\n",
       "      <td>0.012925</td>\n",
       "      <td>0.008554</td>\n",
       "      <td>0.05</td>\n",
       "      <td>100</td>\n",
       "      <td>1</td>\n",
       "      <td>{'SLR__alpha': 0.05, 'pca__n_components': 100,...</td>\n",
       "      <td>-0.775079</td>\n",
       "      <td>-0.808119</td>\n",
       "      <td>...</td>\n",
       "      <td>-0.925531</td>\n",
       "      <td>-1.012478</td>\n",
       "      <td>-0.712893</td>\n",
       "      <td>-0.745863</td>\n",
       "      <td>-0.841430</td>\n",
       "      <td>-0.872580</td>\n",
       "      <td>-0.887274</td>\n",
       "      <td>-0.853110</td>\n",
       "      <td>0.089978</td>\n",
       "      <td>1</td>\n",
       "    </tr>\n",
       "    <tr>\n",
       "      <th>12</th>\n",
       "      <td>0.125212</td>\n",
       "      <td>0.024416</td>\n",
       "      <td>0.012613</td>\n",
       "      <td>0.006882</td>\n",
       "      <td>0.05</td>\n",
       "      <td>150</td>\n",
       "      <td>1</td>\n",
       "      <td>{'SLR__alpha': 0.05, 'pca__n_components': 150,...</td>\n",
       "      <td>-0.730444</td>\n",
       "      <td>-0.748982</td>\n",
       "      <td>...</td>\n",
       "      <td>-0.924766</td>\n",
       "      <td>-0.947118</td>\n",
       "      <td>-0.667845</td>\n",
       "      <td>-0.687494</td>\n",
       "      <td>-0.798476</td>\n",
       "      <td>-0.835862</td>\n",
       "      <td>-0.808362</td>\n",
       "      <td>-0.863896</td>\n",
       "      <td>0.226024</td>\n",
       "      <td>2</td>\n",
       "    </tr>\n",
       "    <tr>\n",
       "      <th>14</th>\n",
       "      <td>0.124357</td>\n",
       "      <td>0.013331</td>\n",
       "      <td>0.013434</td>\n",
       "      <td>0.004694</td>\n",
       "      <td>0.05</td>\n",
       "      <td>170</td>\n",
       "      <td>1</td>\n",
       "      <td>{'SLR__alpha': 0.05, 'pca__n_components': 170,...</td>\n",
       "      <td>-0.730444</td>\n",
       "      <td>-0.748982</td>\n",
       "      <td>...</td>\n",
       "      <td>-0.924766</td>\n",
       "      <td>-0.947118</td>\n",
       "      <td>-0.667845</td>\n",
       "      <td>-0.687494</td>\n",
       "      <td>-0.798476</td>\n",
       "      <td>-0.835862</td>\n",
       "      <td>-0.808362</td>\n",
       "      <td>-0.863896</td>\n",
       "      <td>0.226024</td>\n",
       "      <td>2</td>\n",
       "    </tr>\n",
       "    <tr>\n",
       "      <th>8</th>\n",
       "      <td>0.191259</td>\n",
       "      <td>0.018142</td>\n",
       "      <td>0.011326</td>\n",
       "      <td>0.010631</td>\n",
       "      <td>0.05</td>\n",
       "      <td>60</td>\n",
       "      <td>1</td>\n",
       "      <td>{'SLR__alpha': 0.05, 'pca__n_components': 60, ...</td>\n",
       "      <td>-0.800718</td>\n",
       "      <td>-0.817899</td>\n",
       "      <td>...</td>\n",
       "      <td>-0.948645</td>\n",
       "      <td>-1.017329</td>\n",
       "      <td>-0.719580</td>\n",
       "      <td>-0.764002</td>\n",
       "      <td>-0.853333</td>\n",
       "      <td>-0.871908</td>\n",
       "      <td>-0.895233</td>\n",
       "      <td>-0.865502</td>\n",
       "      <td>0.089034</td>\n",
       "      <td>4</td>\n",
       "    </tr>\n",
       "    <tr>\n",
       "      <th>6</th>\n",
       "      <td>0.149427</td>\n",
       "      <td>0.029588</td>\n",
       "      <td>0.010934</td>\n",
       "      <td>0.010002</td>\n",
       "      <td>0.05</td>\n",
       "      <td>45</td>\n",
       "      <td>1</td>\n",
       "      <td>{'SLR__alpha': 0.05, 'pca__n_components': 45, ...</td>\n",
       "      <td>-0.805709</td>\n",
       "      <td>-0.841597</td>\n",
       "      <td>...</td>\n",
       "      <td>-0.954718</td>\n",
       "      <td>-1.038425</td>\n",
       "      <td>-0.740746</td>\n",
       "      <td>-0.756611</td>\n",
       "      <td>-0.874947</td>\n",
       "      <td>-0.902492</td>\n",
       "      <td>-0.955439</td>\n",
       "      <td>-0.886737</td>\n",
       "      <td>0.095748</td>\n",
       "      <td>5</td>\n",
       "    </tr>\n",
       "    <tr>\n",
       "      <th>...</th>\n",
       "      <td>...</td>\n",
       "      <td>...</td>\n",
       "      <td>...</td>\n",
       "      <td>...</td>\n",
       "      <td>...</td>\n",
       "      <td>...</td>\n",
       "      <td>...</td>\n",
       "      <td>...</td>\n",
       "      <td>...</td>\n",
       "      <td>...</td>\n",
       "      <td>...</td>\n",
       "      <td>...</td>\n",
       "      <td>...</td>\n",
       "      <td>...</td>\n",
       "      <td>...</td>\n",
       "      <td>...</td>\n",
       "      <td>...</td>\n",
       "      <td>...</td>\n",
       "      <td>...</td>\n",
       "      <td>...</td>\n",
       "      <td>...</td>\n",
       "    </tr>\n",
       "    <tr>\n",
       "      <th>3</th>\n",
       "      <td>5.938009</td>\n",
       "      <td>0.161822</td>\n",
       "      <td>0.129758</td>\n",
       "      <td>0.015632</td>\n",
       "      <td>0.05</td>\n",
       "      <td>10</td>\n",
       "      <td>2</td>\n",
       "      <td>{'SLR__alpha': 0.05, 'pca__n_components': 10, ...</td>\n",
       "      <td>-1.331158</td>\n",
       "      <td>-1.278882</td>\n",
       "      <td>...</td>\n",
       "      <td>-1.683183</td>\n",
       "      <td>-1.611545</td>\n",
       "      <td>-1.134180</td>\n",
       "      <td>-1.393727</td>\n",
       "      <td>-1.348487</td>\n",
       "      <td>-1.382237</td>\n",
       "      <td>-1.425489</td>\n",
       "      <td>-1.396562</td>\n",
       "      <td>0.148019</td>\n",
       "      <td>172</td>\n",
       "    </tr>\n",
       "    <tr>\n",
       "      <th>19</th>\n",
       "      <td>5.791081</td>\n",
       "      <td>0.137068</td>\n",
       "      <td>0.147426</td>\n",
       "      <td>0.013066</td>\n",
       "      <td>0.1</td>\n",
       "      <td>10</td>\n",
       "      <td>2</td>\n",
       "      <td>{'SLR__alpha': 0.1, 'pca__n_components': 10, '...</td>\n",
       "      <td>-1.331335</td>\n",
       "      <td>-1.278860</td>\n",
       "      <td>...</td>\n",
       "      <td>-1.683398</td>\n",
       "      <td>-1.612491</td>\n",
       "      <td>-1.134061</td>\n",
       "      <td>-1.393723</td>\n",
       "      <td>-1.348453</td>\n",
       "      <td>-1.382238</td>\n",
       "      <td>-1.424083</td>\n",
       "      <td>-1.396618</td>\n",
       "      <td>0.148176</td>\n",
       "      <td>173</td>\n",
       "    </tr>\n",
       "    <tr>\n",
       "      <th>35</th>\n",
       "      <td>5.858360</td>\n",
       "      <td>0.125668</td>\n",
       "      <td>0.131569</td>\n",
       "      <td>0.019126</td>\n",
       "      <td>0.2</td>\n",
       "      <td>10</td>\n",
       "      <td>2</td>\n",
       "      <td>{'SLR__alpha': 0.2, 'pca__n_components': 10, '...</td>\n",
       "      <td>-1.331710</td>\n",
       "      <td>-1.278817</td>\n",
       "      <td>...</td>\n",
       "      <td>-1.683818</td>\n",
       "      <td>-1.614433</td>\n",
       "      <td>-1.133825</td>\n",
       "      <td>-1.393713</td>\n",
       "      <td>-1.348383</td>\n",
       "      <td>-1.382240</td>\n",
       "      <td>-1.421322</td>\n",
       "      <td>-1.396746</td>\n",
       "      <td>0.148503</td>\n",
       "      <td>174</td>\n",
       "    </tr>\n",
       "    <tr>\n",
       "      <th>67</th>\n",
       "      <td>5.827255</td>\n",
       "      <td>0.097570</td>\n",
       "      <td>0.131128</td>\n",
       "      <td>0.020906</td>\n",
       "      <td>1</td>\n",
       "      <td>10</td>\n",
       "      <td>2</td>\n",
       "      <td>{'SLR__alpha': 1, 'pca__n_components': 10, 'po...</td>\n",
       "      <td>-1.334570</td>\n",
       "      <td>-1.278495</td>\n",
       "      <td>...</td>\n",
       "      <td>-1.687062</td>\n",
       "      <td>-1.624947</td>\n",
       "      <td>-1.131873</td>\n",
       "      <td>-1.393673</td>\n",
       "      <td>-1.347939</td>\n",
       "      <td>-1.382259</td>\n",
       "      <td>-1.400748</td>\n",
       "      <td>-1.396882</td>\n",
       "      <td>0.150689</td>\n",
       "      <td>175</td>\n",
       "    </tr>\n",
       "    <tr>\n",
       "      <th>51</th>\n",
       "      <td>5.811015</td>\n",
       "      <td>0.104284</td>\n",
       "      <td>0.130297</td>\n",
       "      <td>0.017687</td>\n",
       "      <td>0.5</td>\n",
       "      <td>10</td>\n",
       "      <td>2</td>\n",
       "      <td>{'SLR__alpha': 0.5, 'pca__n_components': 10, '...</td>\n",
       "      <td>-1.332817</td>\n",
       "      <td>-1.278691</td>\n",
       "      <td>...</td>\n",
       "      <td>-1.685086</td>\n",
       "      <td>-1.620573</td>\n",
       "      <td>-1.133123</td>\n",
       "      <td>-1.393690</td>\n",
       "      <td>-1.348182</td>\n",
       "      <td>-1.382243</td>\n",
       "      <td>-1.413332</td>\n",
       "      <td>-1.397225</td>\n",
       "      <td>0.149586</td>\n",
       "      <td>176</td>\n",
       "    </tr>\n",
       "  </tbody>\n",
       "</table>\n",
       "<p>176 rows × 21 columns</p>\n",
       "</div>"
      ],
      "text/plain": [
       "    mean_fit_time  std_fit_time  mean_score_time  std_score_time  \\\n",
       "10       0.199625      0.021146         0.012925        0.008554   \n",
       "12       0.125212      0.024416         0.012613        0.006882   \n",
       "14       0.124357      0.013331         0.013434        0.004694   \n",
       "8        0.191259      0.018142         0.011326        0.010631   \n",
       "6        0.149427      0.029588         0.010934        0.010002   \n",
       "..            ...           ...              ...             ...   \n",
       "3        5.938009      0.161822         0.129758        0.015632   \n",
       "19       5.791081      0.137068         0.147426        0.013066   \n",
       "35       5.858360      0.125668         0.131569        0.019126   \n",
       "67       5.827255      0.097570         0.131128        0.020906   \n",
       "51       5.811015      0.104284         0.130297        0.017687   \n",
       "\n",
       "   param_SLR__alpha param_pca__n_components param_poly__degree  \\\n",
       "10             0.05                     100                  1   \n",
       "12             0.05                     150                  1   \n",
       "14             0.05                     170                  1   \n",
       "8              0.05                      60                  1   \n",
       "6              0.05                      45                  1   \n",
       "..              ...                     ...                ...   \n",
       "3              0.05                      10                  2   \n",
       "19              0.1                      10                  2   \n",
       "35              0.2                      10                  2   \n",
       "67                1                      10                  2   \n",
       "51              0.5                      10                  2   \n",
       "\n",
       "                                               params  split0_test_score  \\\n",
       "10  {'SLR__alpha': 0.05, 'pca__n_components': 100,...          -0.775079   \n",
       "12  {'SLR__alpha': 0.05, 'pca__n_components': 150,...          -0.730444   \n",
       "14  {'SLR__alpha': 0.05, 'pca__n_components': 170,...          -0.730444   \n",
       "8   {'SLR__alpha': 0.05, 'pca__n_components': 60, ...          -0.800718   \n",
       "6   {'SLR__alpha': 0.05, 'pca__n_components': 45, ...          -0.805709   \n",
       "..                                                ...                ...   \n",
       "3   {'SLR__alpha': 0.05, 'pca__n_components': 10, ...          -1.331158   \n",
       "19  {'SLR__alpha': 0.1, 'pca__n_components': 10, '...          -1.331335   \n",
       "35  {'SLR__alpha': 0.2, 'pca__n_components': 10, '...          -1.331710   \n",
       "67  {'SLR__alpha': 1, 'pca__n_components': 10, 'po...          -1.334570   \n",
       "51  {'SLR__alpha': 0.5, 'pca__n_components': 10, '...          -1.332817   \n",
       "\n",
       "    split1_test_score  ...  split3_test_score  split4_test_score  \\\n",
       "10          -0.808119  ...          -0.925531          -1.012478   \n",
       "12          -0.748982  ...          -0.924766          -0.947118   \n",
       "14          -0.748982  ...          -0.924766          -0.947118   \n",
       "8           -0.817899  ...          -0.948645          -1.017329   \n",
       "6           -0.841597  ...          -0.954718          -1.038425   \n",
       "..                ...  ...                ...                ...   \n",
       "3           -1.278882  ...          -1.683183          -1.611545   \n",
       "19          -1.278860  ...          -1.683398          -1.612491   \n",
       "35          -1.278817  ...          -1.683818          -1.614433   \n",
       "67          -1.278495  ...          -1.687062          -1.624947   \n",
       "51          -1.278691  ...          -1.685086          -1.620573   \n",
       "\n",
       "    split5_test_score  split6_test_score  split7_test_score  \\\n",
       "10          -0.712893          -0.745863          -0.841430   \n",
       "12          -0.667845          -0.687494          -0.798476   \n",
       "14          -0.667845          -0.687494          -0.798476   \n",
       "8           -0.719580          -0.764002          -0.853333   \n",
       "6           -0.740746          -0.756611          -0.874947   \n",
       "..                ...                ...                ...   \n",
       "3           -1.134180          -1.393727          -1.348487   \n",
       "19          -1.134061          -1.393723          -1.348453   \n",
       "35          -1.133825          -1.393713          -1.348383   \n",
       "67          -1.131873          -1.393673          -1.347939   \n",
       "51          -1.133123          -1.393690          -1.348182   \n",
       "\n",
       "    split8_test_score  split9_test_score  mean_test_score  std_test_score  \\\n",
       "10          -0.872580          -0.887274        -0.853110        0.089978   \n",
       "12          -0.835862          -0.808362        -0.863896        0.226024   \n",
       "14          -0.835862          -0.808362        -0.863896        0.226024   \n",
       "8           -0.871908          -0.895233        -0.865502        0.089034   \n",
       "6           -0.902492          -0.955439        -0.886737        0.095748   \n",
       "..                ...                ...              ...             ...   \n",
       "3           -1.382237          -1.425489        -1.396562        0.148019   \n",
       "19          -1.382238          -1.424083        -1.396618        0.148176   \n",
       "35          -1.382240          -1.421322        -1.396746        0.148503   \n",
       "67          -1.382259          -1.400748        -1.396882        0.150689   \n",
       "51          -1.382243          -1.413332        -1.397225        0.149586   \n",
       "\n",
       "    rank_test_score  \n",
       "10                1  \n",
       "12                2  \n",
       "14                2  \n",
       "8                 4  \n",
       "6                 5  \n",
       "..              ...  \n",
       "3               172  \n",
       "19              173  \n",
       "35              174  \n",
       "67              175  \n",
       "51              176  \n",
       "\n",
       "[176 rows x 21 columns]"
      ]
     },
     "execution_count": 9,
     "metadata": {},
     "output_type": "execute_result"
    }
   ],
   "source": [
    "df = pd.DataFrame(search.cv_results_)\n",
    "df = df.sort_values(by=['rank_test_score'])\n",
    "df"
   ]
  },
  {
   "cell_type": "markdown",
   "metadata": {},
   "source": [
    "# Best Hyperparameter"
   ]
  },
  {
   "cell_type": "code",
   "execution_count": 10,
   "metadata": {},
   "outputs": [
    {
     "name": "stdout",
     "output_type": "stream",
     "text": [
      "{'SLR__alpha': 0.05, 'pca__n_components': 100, 'poly__degree': 1}\n"
     ]
    }
   ],
   "source": [
    "parms = pd.DataFrame(df['params'])\n",
    "for i in parms.iloc[0]:\n",
    "    print(i)"
   ]
  },
  {
   "cell_type": "markdown",
   "metadata": {},
   "source": [
    "# # Evaluate Model $log(Sales)$"
   ]
  },
  {
   "cell_type": "code",
   "execution_count": 11,
   "metadata": {},
   "outputs": [],
   "source": [
    "best_pca =parms.iloc[0][0]['pca__n_components']\n",
    "best_degree=parms.iloc[0][0]['poly__degree']\n",
    "best_alpha=parms.iloc[0][0]['SLR__alpha']"
   ]
  },
  {
   "cell_type": "code",
   "execution_count": 12,
   "metadata": {},
   "outputs": [],
   "source": [
    "X_train1,X_test1,Y_train1,Y_test1 = train_test_split(X_train,Y_train,test_size=0.2,random_state=132)"
   ]
  },
  {
   "cell_type": "code",
   "execution_count": 13,
   "metadata": {},
   "outputs": [],
   "source": [
    "poly1 = PolynomialFeatures(degree=best_degree)"
   ]
  },
  {
   "cell_type": "code",
   "execution_count": 14,
   "metadata": {},
   "outputs": [
    {
     "data": {
      "text/plain": [
       "Lasso(alpha=0.05)"
      ]
     },
     "execution_count": 14,
     "metadata": {},
     "output_type": "execute_result"
    }
   ],
   "source": [
    "pca1 = PCA(n_components=100)\n",
    "X_train1 = poly1.fit_transform(X_train1)\n",
    "pca1.fit(X_train1)\n",
    "PX_train1 = pca1.transform(X_train1)\n",
    "SLR1 = Lasso(alpha=best_alpha)\n",
    "SLR1.fit(PX_train1,Y_train1)"
   ]
  },
  {
   "cell_type": "code",
   "execution_count": 15,
   "metadata": {},
   "outputs": [],
   "source": [
    "pca2 = PCA(n_components=100)\n",
    "X_test1=poly1.fit_transform(X_test1)\n",
    "pca2.fit(X_test1)\n",
    "PX_test1 = pca2.transform(X_test1)"
   ]
  },
  {
   "cell_type": "code",
   "execution_count": 16,
   "metadata": {},
   "outputs": [
    {
     "data": {
      "text/plain": [
       "1.8526117820261607"
      ]
     },
     "execution_count": 16,
     "metadata": {},
     "output_type": "execute_result"
    }
   ],
   "source": [
    "MSE(SLR1.predict(PX_test1),Y_test1)"
   ]
  },
  {
   "cell_type": "code",
   "execution_count": 17,
   "metadata": {},
   "outputs": [],
   "source": [
    "result = pd.DataFrame(np.exp(Y_test1))"
   ]
  },
  {
   "cell_type": "code",
   "execution_count": 18,
   "metadata": {},
   "outputs": [],
   "source": [
    "result[\"Predicted_sales\"] = np.exp(SLR1.predict(PX_test1))"
   ]
  },
  {
   "cell_type": "code",
   "execution_count": 19,
   "metadata": {},
   "outputs": [
    {
     "data": {
      "text/plain": [
       "1086.1813935222935"
      ]
     },
     "execution_count": 19,
     "metadata": {},
     "output_type": "execute_result"
    }
   ],
   "source": [
    "MSE(result[\"sales\"],result[\"Predicted_sales\"])"
   ]
  },
  {
   "cell_type": "markdown",
   "metadata": {},
   "source": [
    "# Inventory Decision"
   ]
  },
  {
   "cell_type": "code",
   "execution_count": 20,
   "metadata": {},
   "outputs": [],
   "source": [
    "residue = result['sales']-result['Predicted_sales']"
   ]
  },
  {
   "cell_type": "code",
   "execution_count": 21,
   "metadata": {},
   "outputs": [
    {
     "data": {
      "image/png": "[encoded data removed]",
      "text/plain": [
       "<Figure size 432x288 with 1 Axes>"
      ]
     },
     "metadata": {
      "needs_background": "light"
     },
     "output_type": "display_data"
    }
   ],
   "source": [
    "import scipy\n",
    "scipy.stats.probplot(residue, dist=\"norm\", plot=plt)\n",
    "plt.show()"
   ]
  },
  {
   "cell_type": "code",
   "execution_count": 22,
   "metadata": {},
   "outputs": [
    {
     "data": {
      "image/png": "[encoded data removed]",
      "text/plain": [
       "<Figure size 432x288 with 1 Axes>"
      ]
     },
     "metadata": {
      "needs_background": "light"
     },
     "output_type": "display_data"
    }
   ],
   "source": [
    "scipy.stats.probplot(residue, dist=\"expon\", plot=plt)\n",
    "plt.show()"
   ]
  },
  {
   "cell_type": "code",
   "execution_count": 23,
   "metadata": {},
   "outputs": [],
   "source": [
    "import scipy.stats as sct"
   ]
  },
  {
   "cell_type": "code",
   "execution_count": 24,
   "metadata": {},
   "outputs": [
    {
     "data": {
      "text/plain": [
       "(4, 8)"
      ]
     },
     "execution_count": 24,
     "metadata": {},
     "output_type": "execute_result"
    }
   ],
   "source": [
    "Price=20\n",
    "Cost=12\n",
    "Salvage=8\n",
    "Over=Cost - Salvage\n",
    "Under=Price - Cost\n",
    "Over, Under"
   ]
  },
  {
   "cell_type": "code",
   "execution_count": 25,
   "metadata": {},
   "outputs": [],
   "source": [
    "s = residue.std()\n",
    "opt_dec_N=np.ceil(sct.norm.ppf(Under/(Under+Over))*s + result['Predicted_sales'])"
   ]
  },
  {
   "cell_type": "code",
   "execution_count": 26,
   "metadata": {},
   "outputs": [],
   "source": [
    "opt_dec_E=np.ceil((-result['Predicted_sales'])*np.log(1-(Under/(Under+Over))))"
   ]
  },
  {
   "cell_type": "markdown",
   "metadata": {},
   "source": [
    "# Out-of-samples Profit"
   ]
  },
  {
   "cell_type": "code",
   "execution_count": 27,
   "metadata": {},
   "outputs": [
    {
     "data": {
      "text/plain": [
       "82096.0"
      ]
     },
     "execution_count": 27,
     "metadata": {},
     "output_type": "execute_result"
    }
   ],
   "source": [
    "#max profit for test data set\n",
    "max_profit = result['sales'].sum()*(Price-Cost)\n",
    "max_profit"
   ]
  },
  {
   "cell_type": "code",
   "execution_count": 28,
   "metadata": {},
   "outputs": [],
   "source": [
    "def profit(demand,inv):\n",
    "    return (Price-Salvage)*np.minimum(demand,inv)-(Cost-Salvage)*inv"
   ]
  },
  {
   "cell_type": "code",
   "execution_count": 29,
   "metadata": {},
   "outputs": [
    {
     "data": {
      "text/plain": [
       "24788.0"
      ]
     },
     "execution_count": 29,
     "metadata": {},
     "output_type": "execute_result"
    }
   ],
   "source": [
    "profit_lst_N = profit(result['sales'],opt_dec_N)\n",
    "profit_lst_N.sum()"
   ]
  },
  {
   "cell_type": "code",
   "execution_count": 30,
   "metadata": {},
   "outputs": [
    {
     "data": {
      "text/plain": [
       "23880.0"
      ]
     },
     "execution_count": 30,
     "metadata": {},
     "output_type": "execute_result"
    }
   ],
   "source": [
    "profit_lst_E = profit(result['sales'],opt_dec_E)\n",
    "profit_lst_E.sum()"
   ]
  },
  {
   "cell_type": "code",
   "execution_count": null,
   "metadata": {},
   "outputs": [],
   "source": []
  },
  {
   "cell_type": "code",
   "execution_count": null,
   "metadata": {},
   "outputs": [],
   "source": []
  }
 ],
 "metadata": {
  "kernelspec": {
   "display_name": "Python 3",
   "language": "python",
   "name": "python3"
  },
  "language_info": {
   "codemirror_mode": {
    "name": "ipython",
    "version": 3
   },
   "file_extension": ".py",
   "mimetype": "text/x-python",
   "name": "python",
   "nbconvert_exporter": "python",
   "pygments_lexer": "ipython3",
   "version": "3.8.5"
  }
 },
 "nbformat": 4,
 "nbformat_minor": 4
}
