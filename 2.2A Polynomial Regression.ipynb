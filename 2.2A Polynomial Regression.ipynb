{
 "cells": [
  {
   "cell_type": "code",
   "execution_count": 1,
   "metadata": {},
   "outputs": [],
   "source": [
    "import pandas as pd\n",
    "import numpy as np\n",
    "import matplotlib.pyplot as plt\n",
    "from sklearn.pipeline import Pipeline\n",
    "from sklearn.model_selection import GridSearchCV\n",
    "from sklearn.decomposition import PCA\n",
    "from sklearn.metrics import mean_squared_error as MSE\n",
    "from sklearn.linear_model import LinearRegression\n",
    "from sklearn.preprocessing import PolynomialFeatures\n",
    "from sklearn.model_selection import train_test_split\n",
    "from sklearn.linear_model import Lasso"
   ]
  },
  {
   "cell_type": "markdown",
   "metadata": {},
   "source": [
    "# 1. Import the train datasets"
   ]
  },
  {
   "cell_type": "code",
   "execution_count": 2,
   "metadata": {},
   "outputs": [],
   "source": [
    "X_train = pd.read_csv(\"A_Normalised_train_data.csv\",index_col=0)\n",
    "Y_train = pd.read_csv(\"A_Log_sales_train.csv\",index_col=0)"
   ]
  },
  {
   "cell_type": "code",
   "execution_count": 3,
   "metadata": {},
   "outputs": [],
   "source": [
    "Model_1 = LinearRegression()"
   ]
  },
  {
   "cell_type": "markdown",
   "metadata": {},
   "source": [
    "# 2. Setup Pipeline"
   ]
  },
  {
   "cell_type": "code",
   "execution_count": 4,
   "metadata": {},
   "outputs": [],
   "source": [
    "poly = PolynomialFeatures()\n",
    "pca=PCA()\n",
    "SLR = Model_1"
   ]
  },
  {
   "cell_type": "code",
   "execution_count": 5,
   "metadata": {},
   "outputs": [],
   "source": [
    "# Step 1: Polynomial transform\n",
    "# Step 2: PCA\n",
    "# Step 3: Model\n",
    "pipe = Pipeline(steps=[(\"poly\",poly),(\"pca\",pca),(\"SLR\",SLR)])"
   ]
  },
  {
   "cell_type": "code",
   "execution_count": 6,
   "metadata": {},
   "outputs": [],
   "source": [
    "param_grid = {\n",
    "    \"pca__n_components\": [45, 100 ,150 ,170],\n",
    "    \"poly__degree\":[1,2]\n",
    "}"
   ]
  },
  {
   "cell_type": "markdown",
   "metadata": {},
   "source": [
    "# 3. Setup GridSearch"
   ]
  },
  {
   "cell_type": "code",
   "execution_count": 7,
   "metadata": {},
   "outputs": [],
   "source": [
    "score_metric = 'neg_mean_squared_error'\n",
    "search = GridSearchCV(pipe,param_grid,\n",
    "                      n_jobs=-1,\n",
    "                      cv=10,\n",
    "                      scoring=score_metric)"
   ]
  },
  {
   "cell_type": "code",
   "execution_count": 8,
   "metadata": {},
   "outputs": [
    {
     "data": {
      "text/plain": [
       "GridSearchCV(cv=10,\n",
       "             estimator=Pipeline(steps=[('poly', PolynomialFeatures()),\n",
       "                                       ('pca', PCA()),\n",
       "                                       ('SLR', LinearRegression())]),\n",
       "             n_jobs=-1,\n",
       "             param_grid={'pca__n_components': [45, 100, 150, 170],\n",
       "                         'poly__degree': [1, 2]},\n",
       "             scoring='neg_mean_squared_error')"
      ]
     },
     "execution_count": 8,
     "metadata": {},
     "output_type": "execute_result"
    }
   ],
   "source": [
    "search.fit(X_train,Y_train)"
   ]
  },
  {
   "cell_type": "code",
   "execution_count": 9,
   "metadata": {},
   "outputs": [
    {
     "name": "stdout",
     "output_type": "stream",
     "text": [
      "Best parameter (CV score=-0.787):\n",
      "{'pca__n_components': 100, 'poly__degree': 1}\n"
     ]
    }
   ],
   "source": [
    "print(\"Best parameter (CV score=%0.3f):\" % search.best_score_)\n",
    "print(search.best_params_)"
   ]
  },
  {
   "cell_type": "code",
   "execution_count": 10,
   "metadata": {},
   "outputs": [
    {
     "data": {
      "text/html": [
       "<div>\n",
       "<style scoped>\n",
       "    .dataframe tbody tr th:only-of-type {\n",
       "        vertical-align: middle;\n",
       "    }\n",
       "\n",
       "    .dataframe tbody tr th {\n",
       "        vertical-align: top;\n",
       "    }\n",
       "\n",
       "    .dataframe thead th {\n",
       "        text-align: right;\n",
       "    }\n",
       "</style>\n",
       "<table border=\"1\" class=\"dataframe\">\n",
       "  <thead>\n",
       "    <tr style=\"text-align: right;\">\n",
       "      <th></th>\n",
       "      <th>mean_fit_time</th>\n",
       "      <th>std_fit_time</th>\n",
       "      <th>mean_score_time</th>\n",
       "      <th>std_score_time</th>\n",
       "      <th>param_pca__n_components</th>\n",
       "      <th>param_poly__degree</th>\n",
       "      <th>params</th>\n",
       "      <th>split0_test_score</th>\n",
       "      <th>split1_test_score</th>\n",
       "      <th>split2_test_score</th>\n",
       "      <th>split3_test_score</th>\n",
       "      <th>split4_test_score</th>\n",
       "      <th>split5_test_score</th>\n",
       "      <th>split6_test_score</th>\n",
       "      <th>split7_test_score</th>\n",
       "      <th>split8_test_score</th>\n",
       "      <th>split9_test_score</th>\n",
       "      <th>mean_test_score</th>\n",
       "      <th>std_test_score</th>\n",
       "      <th>rank_test_score</th>\n",
       "    </tr>\n",
       "  </thead>\n",
       "  <tbody>\n",
       "    <tr>\n",
       "      <th>2</th>\n",
       "      <td>0.239963</td>\n",
       "      <td>0.060343</td>\n",
       "      <td>0.011514</td>\n",
       "      <td>0.005124</td>\n",
       "      <td>100</td>\n",
       "      <td>1</td>\n",
       "      <td>{'pca__n_components': 100, 'poly__degree': 1}</td>\n",
       "      <td>-0.744125</td>\n",
       "      <td>-0.722907</td>\n",
       "      <td>-8.859186e-01</td>\n",
       "      <td>-0.822174</td>\n",
       "      <td>-9.295186e-01</td>\n",
       "      <td>-7.114021e-01</td>\n",
       "      <td>-0.676377</td>\n",
       "      <td>-7.626722e-01</td>\n",
       "      <td>-0.812144</td>\n",
       "      <td>-7.993790e-01</td>\n",
       "      <td>-7.866617e-01</td>\n",
       "      <td>7.523866e-02</td>\n",
       "      <td>1</td>\n",
       "    </tr>\n",
       "    <tr>\n",
       "      <th>0</th>\n",
       "      <td>0.116728</td>\n",
       "      <td>0.016693</td>\n",
       "      <td>0.009414</td>\n",
       "      <td>0.003664</td>\n",
       "      <td>45</td>\n",
       "      <td>1</td>\n",
       "      <td>{'pca__n_components': 45, 'poly__degree': 1}</td>\n",
       "      <td>-0.806193</td>\n",
       "      <td>-0.807374</td>\n",
       "      <td>-1.005650e+00</td>\n",
       "      <td>-0.868962</td>\n",
       "      <td>-1.007613e+00</td>\n",
       "      <td>-7.317305e-01</td>\n",
       "      <td>-0.730463</td>\n",
       "      <td>-8.394058e-01</td>\n",
       "      <td>-0.848165</td>\n",
       "      <td>-9.714178e-01</td>\n",
       "      <td>-8.616974e-01</td>\n",
       "      <td>9.743250e-02</td>\n",
       "      <td>2</td>\n",
       "    </tr>\n",
       "    <tr>\n",
       "      <th>7</th>\n",
       "      <td>22.124471</td>\n",
       "      <td>3.681005</td>\n",
       "      <td>0.471264</td>\n",
       "      <td>0.416633</td>\n",
       "      <td>170</td>\n",
       "      <td>2</td>\n",
       "      <td>{'pca__n_components': 170, 'poly__degree': 2}</td>\n",
       "      <td>-0.678893</td>\n",
       "      <td>-0.663759</td>\n",
       "      <td>-2.352964e+00</td>\n",
       "      <td>-0.748038</td>\n",
       "      <td>-9.260115e-01</td>\n",
       "      <td>-7.021468e-01</td>\n",
       "      <td>-0.636271</td>\n",
       "      <td>-6.833354e-01</td>\n",
       "      <td>-0.851077</td>\n",
       "      <td>-7.916800e-01</td>\n",
       "      <td>-9.034175e-01</td>\n",
       "      <td>4.908386e-01</td>\n",
       "      <td>3</td>\n",
       "    </tr>\n",
       "    <tr>\n",
       "      <th>5</th>\n",
       "      <td>17.987711</td>\n",
       "      <td>3.602743</td>\n",
       "      <td>0.313222</td>\n",
       "      <td>0.098979</td>\n",
       "      <td>150</td>\n",
       "      <td>2</td>\n",
       "      <td>{'pca__n_components': 150, 'poly__degree': 2}</td>\n",
       "      <td>-0.707447</td>\n",
       "      <td>-0.715970</td>\n",
       "      <td>-2.105983e+00</td>\n",
       "      <td>-0.824584</td>\n",
       "      <td>-9.416547e-01</td>\n",
       "      <td>-7.460992e-01</td>\n",
       "      <td>-0.658866</td>\n",
       "      <td>-7.079688e-01</td>\n",
       "      <td>-0.852369</td>\n",
       "      <td>-8.443718e-01</td>\n",
       "      <td>-9.105314e-01</td>\n",
       "      <td>4.069057e-01</td>\n",
       "      <td>4</td>\n",
       "    </tr>\n",
       "    <tr>\n",
       "      <th>3</th>\n",
       "      <td>12.180063</td>\n",
       "      <td>1.126178</td>\n",
       "      <td>0.197038</td>\n",
       "      <td>0.039779</td>\n",
       "      <td>100</td>\n",
       "      <td>2</td>\n",
       "      <td>{'pca__n_components': 100, 'poly__degree': 2}</td>\n",
       "      <td>-0.901704</td>\n",
       "      <td>-0.874436</td>\n",
       "      <td>-1.013769e+00</td>\n",
       "      <td>-1.000211</td>\n",
       "      <td>-1.163220e+00</td>\n",
       "      <td>-8.726271e-01</td>\n",
       "      <td>-0.835385</td>\n",
       "      <td>-9.039988e-01</td>\n",
       "      <td>-1.001529</td>\n",
       "      <td>-1.026442e+00</td>\n",
       "      <td>-9.593322e-01</td>\n",
       "      <td>9.431826e-02</td>\n",
       "      <td>5</td>\n",
       "    </tr>\n",
       "    <tr>\n",
       "      <th>1</th>\n",
       "      <td>9.150904</td>\n",
       "      <td>0.562465</td>\n",
       "      <td>0.171821</td>\n",
       "      <td>0.046198</td>\n",
       "      <td>45</td>\n",
       "      <td>2</td>\n",
       "      <td>{'pca__n_components': 45, 'poly__degree': 2}</td>\n",
       "      <td>-1.240820</td>\n",
       "      <td>-1.233416</td>\n",
       "      <td>-1.271792e+00</td>\n",
       "      <td>-1.429764</td>\n",
       "      <td>-1.416093e+00</td>\n",
       "      <td>-1.028106e+00</td>\n",
       "      <td>-1.223085</td>\n",
       "      <td>-1.222280e+00</td>\n",
       "      <td>-1.263524</td>\n",
       "      <td>-1.309136e+00</td>\n",
       "      <td>-1.263802e+00</td>\n",
       "      <td>1.064147e-01</td>\n",
       "      <td>6</td>\n",
       "    </tr>\n",
       "    <tr>\n",
       "      <th>4</th>\n",
       "      <td>0.193936</td>\n",
       "      <td>0.046472</td>\n",
       "      <td>0.017916</td>\n",
       "      <td>0.009193</td>\n",
       "      <td>150</td>\n",
       "      <td>1</td>\n",
       "      <td>{'pca__n_components': 150, 'poly__degree': 1}</td>\n",
       "      <td>-0.512133</td>\n",
       "      <td>-0.569253</td>\n",
       "      <td>-2.564365e+25</td>\n",
       "      <td>-0.633127</td>\n",
       "      <td>-7.563299e+24</td>\n",
       "      <td>-2.796497e+24</td>\n",
       "      <td>-0.581328</td>\n",
       "      <td>-1.890418e+25</td>\n",
       "      <td>-0.670868</td>\n",
       "      <td>-1.070161e+25</td>\n",
       "      <td>-6.560923e+24</td>\n",
       "      <td>8.741028e+24</td>\n",
       "      <td>7</td>\n",
       "    </tr>\n",
       "    <tr>\n",
       "      <th>6</th>\n",
       "      <td>0.178822</td>\n",
       "      <td>0.056212</td>\n",
       "      <td>0.012666</td>\n",
       "      <td>0.002046</td>\n",
       "      <td>170</td>\n",
       "      <td>1</td>\n",
       "      <td>{'pca__n_components': 170, 'poly__degree': 1}</td>\n",
       "      <td>-0.508346</td>\n",
       "      <td>-0.564813</td>\n",
       "      <td>-8.601736e+26</td>\n",
       "      <td>-0.611982</td>\n",
       "      <td>-4.182862e+25</td>\n",
       "      <td>-6.613890e+26</td>\n",
       "      <td>-0.593203</td>\n",
       "      <td>-1.502600e+26</td>\n",
       "      <td>-0.670370</td>\n",
       "      <td>-7.206934e+26</td>\n",
       "      <td>-2.434345e+26</td>\n",
       "      <td>3.359252e+26</td>\n",
       "      <td>8</td>\n",
       "    </tr>\n",
       "  </tbody>\n",
       "</table>\n",
       "</div>"
      ],
      "text/plain": [
       "   mean_fit_time  std_fit_time  mean_score_time  std_score_time  \\\n",
       "2       0.239963      0.060343         0.011514        0.005124   \n",
       "0       0.116728      0.016693         0.009414        0.003664   \n",
       "7      22.124471      3.681005         0.471264        0.416633   \n",
       "5      17.987711      3.602743         0.313222        0.098979   \n",
       "3      12.180063      1.126178         0.197038        0.039779   \n",
       "1       9.150904      0.562465         0.171821        0.046198   \n",
       "4       0.193936      0.046472         0.017916        0.009193   \n",
       "6       0.178822      0.056212         0.012666        0.002046   \n",
       "\n",
       "  param_pca__n_components param_poly__degree  \\\n",
       "2                     100                  1   \n",
       "0                      45                  1   \n",
       "7                     170                  2   \n",
       "5                     150                  2   \n",
       "3                     100                  2   \n",
       "1                      45                  2   \n",
       "4                     150                  1   \n",
       "6                     170                  1   \n",
       "\n",
       "                                          params  split0_test_score  \\\n",
       "2  {'pca__n_components': 100, 'poly__degree': 1}          -0.744125   \n",
       "0   {'pca__n_components': 45, 'poly__degree': 1}          -0.806193   \n",
       "7  {'pca__n_components': 170, 'poly__degree': 2}          -0.678893   \n",
       "5  {'pca__n_components': 150, 'poly__degree': 2}          -0.707447   \n",
       "3  {'pca__n_components': 100, 'poly__degree': 2}          -0.901704   \n",
       "1   {'pca__n_components': 45, 'poly__degree': 2}          -1.240820   \n",
       "4  {'pca__n_components': 150, 'poly__degree': 1}          -0.512133   \n",
       "6  {'pca__n_components': 170, 'poly__degree': 1}          -0.508346   \n",
       "\n",
       "   split1_test_score  split2_test_score  split3_test_score  split4_test_score  \\\n",
       "2          -0.722907      -8.859186e-01          -0.822174      -9.295186e-01   \n",
       "0          -0.807374      -1.005650e+00          -0.868962      -1.007613e+00   \n",
       "7          -0.663759      -2.352964e+00          -0.748038      -9.260115e-01   \n",
       "5          -0.715970      -2.105983e+00          -0.824584      -9.416547e-01   \n",
       "3          -0.874436      -1.013769e+00          -1.000211      -1.163220e+00   \n",
       "1          -1.233416      -1.271792e+00          -1.429764      -1.416093e+00   \n",
       "4          -0.569253      -2.564365e+25          -0.633127      -7.563299e+24   \n",
       "6          -0.564813      -8.601736e+26          -0.611982      -4.182862e+25   \n",
       "\n",
       "   split5_test_score  split6_test_score  split7_test_score  split8_test_score  \\\n",
       "2      -7.114021e-01          -0.676377      -7.626722e-01          -0.812144   \n",
       "0      -7.317305e-01          -0.730463      -8.394058e-01          -0.848165   \n",
       "7      -7.021468e-01          -0.636271      -6.833354e-01          -0.851077   \n",
       "5      -7.460992e-01          -0.658866      -7.079688e-01          -0.852369   \n",
       "3      -8.726271e-01          -0.835385      -9.039988e-01          -1.001529   \n",
       "1      -1.028106e+00          -1.223085      -1.222280e+00          -1.263524   \n",
       "4      -2.796497e+24          -0.581328      -1.890418e+25          -0.670868   \n",
       "6      -6.613890e+26          -0.593203      -1.502600e+26          -0.670370   \n",
       "\n",
       "   split9_test_score  mean_test_score  std_test_score  rank_test_score  \n",
       "2      -7.993790e-01    -7.866617e-01    7.523866e-02                1  \n",
       "0      -9.714178e-01    -8.616974e-01    9.743250e-02                2  \n",
       "7      -7.916800e-01    -9.034175e-01    4.908386e-01                3  \n",
       "5      -8.443718e-01    -9.105314e-01    4.069057e-01                4  \n",
       "3      -1.026442e+00    -9.593322e-01    9.431826e-02                5  \n",
       "1      -1.309136e+00    -1.263802e+00    1.064147e-01                6  \n",
       "4      -1.070161e+25    -6.560923e+24    8.741028e+24                7  \n",
       "6      -7.206934e+26    -2.434345e+26    3.359252e+26                8  "
      ]
     },
     "execution_count": 10,
     "metadata": {},
     "output_type": "execute_result"
    }
   ],
   "source": [
    "df = pd.DataFrame(search.cv_results_)\n",
    "df = df.sort_values(by=['rank_test_score'])\n",
    "df"
   ]
  },
  {
   "cell_type": "markdown",
   "metadata": {},
   "source": [
    "# 4. Best Hyperparameter"
   ]
  },
  {
   "cell_type": "code",
   "execution_count": 11,
   "metadata": {},
   "outputs": [
    {
     "name": "stdout",
     "output_type": "stream",
     "text": [
      "{'pca__n_components': 100, 'poly__degree': 1}\n"
     ]
    }
   ],
   "source": [
    "parms = pd.DataFrame(df['params'])\n",
    "for i in parms.iloc[0]:\n",
    "    print(i)"
   ]
  },
  {
   "cell_type": "markdown",
   "metadata": {},
   "source": [
    "# 5. Evaluate Model $log(Sales)$"
   ]
  },
  {
   "cell_type": "code",
   "execution_count": 12,
   "metadata": {},
   "outputs": [],
   "source": [
    "best_pca =parms.iloc[0][0]['pca__n_components']\n",
    "best_degree=parms.iloc[0][0]['poly__degree']\n"
   ]
  },
  {
   "cell_type": "code",
   "execution_count": 13,
   "metadata": {},
   "outputs": [],
   "source": [
    "Model_2 = LinearRegression()"
   ]
  },
  {
   "cell_type": "code",
   "execution_count": 14,
   "metadata": {},
   "outputs": [],
   "source": [
    "poly1 = PolynomialFeatures(degree=best_degree)"
   ]
  },
  {
   "cell_type": "code",
   "execution_count": 15,
   "metadata": {},
   "outputs": [],
   "source": [
    "X_train1,X_test1,Y_train1,Y_test1 = train_test_split(X_train,Y_train,test_size=0.2,random_state=132)\n"
   ]
  },
  {
   "cell_type": "code",
   "execution_count": 16,
   "metadata": {},
   "outputs": [
    {
     "data": {
      "text/plain": [
       "LinearRegression()"
      ]
     },
     "execution_count": 16,
     "metadata": {},
     "output_type": "execute_result"
    }
   ],
   "source": [
    "pca1 = PCA(n_components=best_pca)\n",
    "X_train1 = poly1.fit_transform(X_train1)\n",
    "pca1.fit(X_train1)\n",
    "PX_train1 = pca1.transform(X_train1)\n",
    "SLR1 = Model_2\n",
    "SLR1.fit(PX_train1,Y_train1)"
   ]
  },
  {
   "cell_type": "code",
   "execution_count": 17,
   "metadata": {},
   "outputs": [],
   "source": [
    "pca2 = PCA(n_components=best_pca)\n",
    "X_test1=poly1.fit_transform(X_test1)\n",
    "pca2.fit(X_test1)\n",
    "PX_test1 = pca2.transform(X_test1)"
   ]
  },
  {
   "cell_type": "code",
   "execution_count": 18,
   "metadata": {},
   "outputs": [
    {
     "data": {
      "text/plain": [
       "2.1100621042096965"
      ]
     },
     "execution_count": 18,
     "metadata": {},
     "output_type": "execute_result"
    }
   ],
   "source": [
    "MSE(SLR1.predict(PX_test1),Y_test1)"
   ]
  },
  {
   "cell_type": "code",
   "execution_count": 19,
   "metadata": {},
   "outputs": [],
   "source": [
    "result = pd.DataFrame(np.exp(Y_test1))"
   ]
  },
  {
   "cell_type": "code",
   "execution_count": 20,
   "metadata": {},
   "outputs": [],
   "source": [
    "result[\"Predicted_sales\"] = np.exp(SLR1.predict(PX_test1))"
   ]
  },
  {
   "cell_type": "code",
   "execution_count": 21,
   "metadata": {},
   "outputs": [
    {
     "data": {
      "text/plain": [
       "1259.491560047362"
      ]
     },
     "execution_count": 21,
     "metadata": {},
     "output_type": "execute_result"
    }
   ],
   "source": [
    "MSE(result[\"sales\"],result[\"Predicted_sales\"])"
   ]
  },
  {
   "cell_type": "markdown",
   "metadata": {},
   "source": [
    "# 5.1 Model using original sales data"
   ]
  },
  {
   "cell_type": "code",
   "execution_count": 22,
   "metadata": {},
   "outputs": [],
   "source": [
    "Model_3 = LinearRegression()"
   ]
  },
  {
   "cell_type": "code",
   "execution_count": 23,
   "metadata": {},
   "outputs": [],
   "source": [
    "OY_train = pd.read_csv(\"A_sales_train.csv\",index_col=0)"
   ]
  },
  {
   "cell_type": "code",
   "execution_count": 24,
   "metadata": {},
   "outputs": [],
   "source": [
    "X_train2,X_test2,Y_train2,Y_test2 = train_test_split(X_train,OY_train,test_size=0.2,random_state=132)"
   ]
  },
  {
   "cell_type": "code",
   "execution_count": 25,
   "metadata": {},
   "outputs": [
    {
     "data": {
      "text/plain": [
       "LinearRegression()"
      ]
     },
     "execution_count": 25,
     "metadata": {},
     "output_type": "execute_result"
    }
   ],
   "source": [
    "pca3 = PCA(n_components=best_pca)\n",
    "X_train2 = poly1.fit_transform(X_train2)\n",
    "pca3.fit(X_train2)\n",
    "PX_train2 = pca3.transform(X_train2)\n",
    "SLR2 = Model_3\n",
    "SLR2.fit(PX_train2,Y_train2)"
   ]
  },
  {
   "cell_type": "code",
   "execution_count": 26,
   "metadata": {},
   "outputs": [],
   "source": [
    "pca4 = PCA(n_components=best_pca)\n",
    "X_test2=poly1.fit_transform(X_test2)\n",
    "pca4.fit(X_test2)\n",
    "PX_test2 = pca4.transform(X_test2)"
   ]
  },
  {
   "cell_type": "code",
   "execution_count": 27,
   "metadata": {},
   "outputs": [
    {
     "data": {
      "text/plain": [
       "1892.2865092554582"
      ]
     },
     "execution_count": 27,
     "metadata": {},
     "output_type": "execute_result"
    }
   ],
   "source": [
    "MSE(SLR2.predict(PX_test2),Y_test2)"
   ]
  },
  {
   "cell_type": "markdown",
   "metadata": {},
   "source": [
    "#### Notably model trained on log(Sales) has lower out-of-sample MSE than model with unmodified Sales"
   ]
  },
  {
   "cell_type": "markdown",
   "metadata": {},
   "source": [
    "# 6. Inventory Decision"
   ]
  },
  {
   "cell_type": "code",
   "execution_count": 28,
   "metadata": {},
   "outputs": [],
   "source": [
    "residual = result['sales']-result['Predicted_sales']"
   ]
  },
  {
   "cell_type": "code",
   "execution_count": 29,
   "metadata": {},
   "outputs": [
    {
     "data": {
      "text/plain": [
       "(4, 8)"
      ]
     },
     "execution_count": 29,
     "metadata": {},
     "output_type": "execute_result"
    }
   ],
   "source": [
    "Price=20\n",
    "Cost=12\n",
    "Salvage=8\n",
    "Over=Cost - Salvage\n",
    "Under=Price - Cost\n",
    "Over, Under"
   ]
  },
  {
   "cell_type": "markdown",
   "metadata": {},
   "source": [
    "### QQ plot to explore the distribution of residual"
   ]
  },
  {
   "cell_type": "markdown",
   "metadata": {},
   "source": [
    "#### Normal Distribution"
   ]
  },
  {
   "cell_type": "code",
   "execution_count": 30,
   "metadata": {},
   "outputs": [],
   "source": [
    "import scipy.stats as sct"
   ]
  },
  {
   "cell_type": "code",
   "execution_count": 31,
   "metadata": {},
   "outputs": [
    {
     "data": {
      "image/png": "[encoded data removed]",
      "text/plain": [
       "<Figure size 432x288 with 1 Axes>"
      ]
     },
     "metadata": {
      "needs_background": "light"
     },
     "output_type": "display_data"
    }
   ],
   "source": [
    "import scipy\n",
    "scipy.stats.probplot(residual, dist=\"norm\", plot=plt)\n",
    "plt.show()"
   ]
  },
  {
   "cell_type": "code",
   "execution_count": 32,
   "metadata": {},
   "outputs": [],
   "source": [
    "s = residual.std()\n",
    "opt_dec_N=np.ceil(sct.norm.ppf(Under/(Under+Over))*s + result['Predicted_sales'])"
   ]
  },
  {
   "cell_type": "markdown",
   "metadata": {},
   "source": [
    "#### Exponential Distribution"
   ]
  },
  {
   "cell_type": "code",
   "execution_count": 33,
   "metadata": {},
   "outputs": [
    {
     "data": {
      "image/png": "[encoded data removed]",
      "text/plain": [
       "<Figure size 432x288 with 1 Axes>"
      ]
     },
     "metadata": {
      "needs_background": "light"
     },
     "output_type": "display_data"
    }
   ],
   "source": [
    "scipy.stats.probplot(residual, dist=\"expon\", plot=plt)\n",
    "plt.show()"
   ]
  },
  {
   "cell_type": "code",
   "execution_count": 34,
   "metadata": {},
   "outputs": [],
   "source": [
    "opt_dec_E=np.ceil((-result['Predicted_sales'])*np.log(1-(Under/(Under+Over))))"
   ]
  },
  {
   "cell_type": "markdown",
   "metadata": {},
   "source": [
    "#### Empirical Distribution"
   ]
  },
  {
   "cell_type": "code",
   "execution_count": 35,
   "metadata": {},
   "outputs": [
    {
     "data": {
      "text/plain": [
       "[<matplotlib.lines.Line2D at 0x23a091b0af0>]"
      ]
     },
     "execution_count": 35,
     "metadata": {},
     "output_type": "execute_result"
    },
    {
     "data": {
      "image/png": "[encoded data removed]",
      "text/plain": [
       "<Figure size 432x288 with 1 Axes>"
      ]
     },
     "metadata": {
      "needs_background": "light"
     },
     "output_type": "display_data"
    }
   ],
   "source": [
    "size = residual.shape[0]\n",
    "step=1/size\n",
    "jumps = [step*i for i in range(1,size+1)]\n",
    "Sample = sorted(residual)\n",
    "plt.plot(Sample,jumps)"
   ]
  },
  {
   "cell_type": "code",
   "execution_count": 36,
   "metadata": {},
   "outputs": [
    {
     "data": {
      "image/png": "[encoded data removed]",
      "text/plain": [
       "<Figure size 432x288 with 1 Axes>"
      ]
     },
     "metadata": {
      "needs_background": "light"
     },
     "output_type": "display_data"
    }
   ],
   "source": [
    "plt.hist(Sample)\n",
    "plt.show()"
   ]
  },
  {
   "cell_type": "code",
   "execution_count": 37,
   "metadata": {},
   "outputs": [],
   "source": [
    "def inv(sample,jump,area):\n",
    "    size = len(sample)\n",
    "    i=0\n",
    "    temp=jump[i]\n",
    "    while temp<area:\n",
    "        i+=1\n",
    "        temp=jump[i]\n",
    "        \n",
    "    return sample[i]"
   ]
  },
  {
   "cell_type": "code",
   "execution_count": 38,
   "metadata": {},
   "outputs": [
    {
     "data": {
      "text/plain": [
       "6.254636119527191"
      ]
     },
     "execution_count": 38,
     "metadata": {},
     "output_type": "execute_result"
    }
   ],
   "source": [
    "offset = inv(Sample,jumps,2/3)\n",
    "offset"
   ]
  },
  {
   "cell_type": "code",
   "execution_count": 39,
   "metadata": {},
   "outputs": [],
   "source": [
    "opt_dec_B = np.ceil(result['Predicted_sales']+offset)"
   ]
  },
  {
   "cell_type": "markdown",
   "metadata": {},
   "source": [
    "# 7. Out-of-samples Profit"
   ]
  },
  {
   "cell_type": "code",
   "execution_count": 40,
   "metadata": {},
   "outputs": [
    {
     "data": {
      "text/plain": [
       "82096.0"
      ]
     },
     "execution_count": 40,
     "metadata": {},
     "output_type": "execute_result"
    }
   ],
   "source": [
    "#max profit for test data set\n",
    "max_profit = result['sales'].sum()*(Price-Cost)\n",
    "max_profit"
   ]
  },
  {
   "cell_type": "code",
   "execution_count": 41,
   "metadata": {},
   "outputs": [],
   "source": [
    "def profit(demand,inv):\n",
    "    return (Price-Salvage)*np.minimum(demand,inv)-(Cost-Salvage)*inv"
   ]
  },
  {
   "cell_type": "code",
   "execution_count": 42,
   "metadata": {},
   "outputs": [
    {
     "data": {
      "text/plain": [
       "20804.0"
      ]
     },
     "execution_count": 42,
     "metadata": {},
     "output_type": "execute_result"
    }
   ],
   "source": [
    "#Profit (Normal)\n",
    "profit_lst_N = profit(result['sales'],opt_dec_N)\n",
    "profit_lst_N.sum()"
   ]
  },
  {
   "cell_type": "code",
   "execution_count": 43,
   "metadata": {},
   "outputs": [
    {
     "data": {
      "text/plain": [
       "20972.0"
      ]
     },
     "execution_count": 43,
     "metadata": {},
     "output_type": "execute_result"
    }
   ],
   "source": [
    "#Profit (Exponential)\n",
    "profit_lst_E = profit(result['sales'],opt_dec_E)\n",
    "profit_lst_E.sum()"
   ]
  },
  {
   "cell_type": "code",
   "execution_count": 44,
   "metadata": {},
   "outputs": [
    {
     "data": {
      "text/plain": [
       "23620.0"
      ]
     },
     "execution_count": 44,
     "metadata": {},
     "output_type": "execute_result"
    }
   ],
   "source": [
    "#Profit (Empirical)\n",
    "profit_lst_B = profit(result['sales'],opt_dec_B)\n",
    "profit_lst_B.sum()"
   ]
  },
  {
   "cell_type": "markdown",
   "metadata": {},
   "source": [
    "# 8. K-Fold Cross Validation"
   ]
  },
  {
   "cell_type": "markdown",
   "metadata": {},
   "source": [
    "### Repeat steps 5,6,7 with 10-fold cross validation"
   ]
  },
  {
   "cell_type": "code",
   "execution_count": 45,
   "metadata": {},
   "outputs": [],
   "source": [
    "Model_4=LinearRegression()"
   ]
  },
  {
   "cell_type": "code",
   "execution_count": 46,
   "metadata": {},
   "outputs": [],
   "source": [
    "from sklearn.model_selection import KFold\n",
    "k=10\n",
    "kf = KFold(n_splits=k)\n",
    "X_train_t=X_train.to_numpy()\n",
    "Y_train_t=Y_train.to_numpy()\n",
    "model = []\n",
    "mse_lst = []\n",
    "max_profit_lst = []\n",
    "profit_N_lst = []\n",
    "profit_E_lst = []\n",
    "profit_B_lst = []\n",
    "\n",
    "for train_index,test_index in kf.split(X_train_t):\n",
    "    X_train_K,X_test_K=X_train_t[train_index],X_train_t[test_index]\n",
    "    Y_train_K,Y_test_K=Y_train_t[train_index],Y_train_t[test_index]\n",
    "    \n",
    "    #PCA to transform train data\n",
    "    pca_K1 = PCA(n_components=best_pca)\n",
    "    X_train_K = poly1.fit_transform(X_train_K)\n",
    "    pca_K1.fit(X_train_K)\n",
    "    PX_train_K = pca_K1.transform(X_train_K)\n",
    "    \n",
    "    #Model\n",
    "    SLR_K = Model_4\n",
    "    SLR_K.fit(PX_train_K,Y_train_K)\n",
    "    \n",
    "    #pca to transform test data\n",
    "    pca_K2 = PCA(n_components=best_pca)\n",
    "    X_test_K=poly1.fit_transform(X_test_K)\n",
    "    pca_K2.fit(X_test_K)\n",
    "    PX_test_K = pca_K2.transform(X_test_K)\n",
    "    \n",
    "    #MSE\n",
    "    mse_lst.append(MSE(SLR_K.predict(PX_test_K),Y_test_K))\n",
    "    \n",
    "    #Transform log(sale) back to sale\n",
    "    result_K = pd.DataFrame(np.exp(Y_test_K))\n",
    "    result_K[\"Predicted_sales\"] = np.exp(SLR_K.predict(PX_test_K))\n",
    "    \n",
    "    #Obtain residual\n",
    "    residual_K = result_K[0]-result_K['Predicted_sales']\n",
    "    \n",
    "    #Get std for Normal distribution\n",
    "    s_K = residual.std()\n",
    "    \n",
    "    #Inventory Decision (Normal)\n",
    "    opt_dec_N_K=np.ceil(sct.norm.ppf(Under/(Under+Over))*s_K + result_K['Predicted_sales'])\n",
    "    #Inventory Decision (Exponential)\n",
    "    opt_dec_E_K=np.ceil((-result_K['Predicted_sales'])*np.log(1-(Under/(Under+Over))))\n",
    "    \n",
    "    #Inventory Decision (Empirical Distribution)\n",
    "    size_K = residual_K.shape[0]\n",
    "    step_K=1/size_K\n",
    "    jumps_K = [step_K*i for i in range(1,size+1)]\n",
    "    Sample_K = sorted(residual_K)\n",
    "    offset_K = inv(Sample_K,jumps_K,2/3)\n",
    "    opt_dec_B_K = np.ceil(result_K['Predicted_sales']+offset_K)\n",
    "    \n",
    "    #Out-of_sample profit\n",
    "    profit_lst_B_K = profit(result_K[0],opt_dec_B_K)\n",
    "    profit_B_lst.append(profit_lst_B_K.sum())\n",
    "    \n",
    "    profit_lst_N_K = profit(result_K[0],opt_dec_N_K)\n",
    "    profit_N_lst.append(profit_lst_N_K.sum())\n",
    "    \n",
    "    profit_lst_E_K = profit(result_K[0],opt_dec_E_K)\n",
    "    profit_E_lst.append(profit_lst_E_K.sum())\n",
    "    \n",
    "    max_profit_K = result_K[0].sum()*(Price-Cost)\n",
    "    max_profit_lst.append(max_profit_K)\n",
    "    \n",
    "max_profit_lst = np.array(max_profit_lst)\n",
    "profit_N_lst = np.array(profit_N_lst)\n",
    "profit_E_lst = np.array(profit_E_lst)\n",
    "profit_B_lst = np.array(profit_B_lst)\n",
    "\n",
    "fraction_of_max_N = profit_N_lst/max_profit_lst\n",
    "fraction_of_max_E = profit_E_lst/max_profit_lst\n",
    "fraction_of_max_B = profit_B_lst/max_profit_lst\n",
    "\n",
    "dist_profit = [\"Normal\",\"Exponential\",\"Empirical\",\"Max\"]\n",
    "dist_frac = [\"Normal\",\"Exponential\",\"Empirical\"]\n",
    "col_name = [\"Dataset_\"+str(i) for i in range(1,k+1)]\n",
    "\n",
    "profit_lst = [profit_N_lst,profit_E_lst,profit_B_lst,max_profit_lst]\n",
    "profit_table = pd.DataFrame(profit_lst,index=dist_profit,columns=col_name)\n",
    "profit_table[\"mean_profit\"]=profit_table.mean(axis=1)\n",
    "profit_table[\"std_profit\"]=profit_table.std(ddof=1,axis=1)\n",
    "\n",
    "fraction_lst = [fraction_of_max_N,fraction_of_max_E,fraction_of_max_B]\n",
    "fraction_table = pd.DataFrame(fraction_lst,index=dist_frac,columns=col_name)\n",
    "fraction_table[\"mean_fraction\"]=fraction_table.mean(axis=1)"
   ]
  },
  {
   "cell_type": "code",
   "execution_count": 47,
   "metadata": {},
   "outputs": [
    {
     "data": {
      "text/html": [
       "<div>\n",
       "<style scoped>\n",
       "    .dataframe tbody tr th:only-of-type {\n",
       "        vertical-align: middle;\n",
       "    }\n",
       "\n",
       "    .dataframe tbody tr th {\n",
       "        vertical-align: top;\n",
       "    }\n",
       "\n",
       "    .dataframe thead th {\n",
       "        text-align: right;\n",
       "    }\n",
       "</style>\n",
       "<table border=\"1\" class=\"dataframe\">\n",
       "  <thead>\n",
       "    <tr style=\"text-align: right;\">\n",
       "      <th></th>\n",
       "      <th>Dataset_1</th>\n",
       "      <th>Dataset_2</th>\n",
       "      <th>Dataset_3</th>\n",
       "      <th>Dataset_4</th>\n",
       "      <th>Dataset_5</th>\n",
       "      <th>Dataset_6</th>\n",
       "      <th>Dataset_7</th>\n",
       "      <th>Dataset_8</th>\n",
       "      <th>Dataset_9</th>\n",
       "      <th>Dataset_10</th>\n",
       "      <th>mean_fraction</th>\n",
       "    </tr>\n",
       "  </thead>\n",
       "  <tbody>\n",
       "    <tr>\n",
       "      <th>Normal</th>\n",
       "      <td>0.106998</td>\n",
       "      <td>0.226533</td>\n",
       "      <td>-0.098497</td>\n",
       "      <td>0.232876</td>\n",
       "      <td>0.091861</td>\n",
       "      <td>0.145155</td>\n",
       "      <td>-0.049747</td>\n",
       "      <td>0.215698</td>\n",
       "      <td>0.230225</td>\n",
       "      <td>-0.002689</td>\n",
       "      <td>0.109841</td>\n",
       "    </tr>\n",
       "    <tr>\n",
       "      <th>Exponential</th>\n",
       "      <td>0.070752</td>\n",
       "      <td>0.205498</td>\n",
       "      <td>-0.174875</td>\n",
       "      <td>0.213734</td>\n",
       "      <td>0.076471</td>\n",
       "      <td>0.118316</td>\n",
       "      <td>-0.093694</td>\n",
       "      <td>0.171986</td>\n",
       "      <td>0.213583</td>\n",
       "      <td>-0.013542</td>\n",
       "      <td>0.078823</td>\n",
       "    </tr>\n",
       "    <tr>\n",
       "      <th>Empirical</th>\n",
       "      <td>0.131258</td>\n",
       "      <td>0.256496</td>\n",
       "      <td>-0.087610</td>\n",
       "      <td>0.251588</td>\n",
       "      <td>0.115552</td>\n",
       "      <td>0.188076</td>\n",
       "      <td>-0.027446</td>\n",
       "      <td>0.227060</td>\n",
       "      <td>0.252416</td>\n",
       "      <td>0.035440</td>\n",
       "      <td>0.134283</td>\n",
       "    </tr>\n",
       "  </tbody>\n",
       "</table>\n",
       "</div>"
      ],
      "text/plain": [
       "             Dataset_1  Dataset_2  Dataset_3  Dataset_4  Dataset_5  Dataset_6  \\\n",
       "Normal        0.106998   0.226533  -0.098497   0.232876   0.091861   0.145155   \n",
       "Exponential   0.070752   0.205498  -0.174875   0.213734   0.076471   0.118316   \n",
       "Empirical     0.131258   0.256496  -0.087610   0.251588   0.115552   0.188076   \n",
       "\n",
       "             Dataset_7  Dataset_8  Dataset_9  Dataset_10  mean_fraction  \n",
       "Normal       -0.049747   0.215698   0.230225   -0.002689       0.109841  \n",
       "Exponential  -0.093694   0.171986   0.213583   -0.013542       0.078823  \n",
       "Empirical    -0.027446   0.227060   0.252416    0.035440       0.134283  "
      ]
     },
     "execution_count": 47,
     "metadata": {},
     "output_type": "execute_result"
    }
   ],
   "source": [
    "fraction_table"
   ]
  },
  {
   "cell_type": "code",
   "execution_count": 48,
   "metadata": {},
   "outputs": [
    {
     "data": {
      "text/html": [
       "<div>\n",
       "<style scoped>\n",
       "    .dataframe tbody tr th:only-of-type {\n",
       "        vertical-align: middle;\n",
       "    }\n",
       "\n",
       "    .dataframe tbody tr th {\n",
       "        vertical-align: top;\n",
       "    }\n",
       "\n",
       "    .dataframe thead th {\n",
       "        text-align: right;\n",
       "    }\n",
       "</style>\n",
       "<table border=\"1\" class=\"dataframe\">\n",
       "  <thead>\n",
       "    <tr style=\"text-align: right;\">\n",
       "      <th></th>\n",
       "      <th>Dataset_1</th>\n",
       "      <th>Dataset_2</th>\n",
       "      <th>Dataset_3</th>\n",
       "      <th>Dataset_4</th>\n",
       "      <th>Dataset_5</th>\n",
       "      <th>Dataset_6</th>\n",
       "      <th>Dataset_7</th>\n",
       "      <th>Dataset_8</th>\n",
       "      <th>Dataset_9</th>\n",
       "      <th>Dataset_10</th>\n",
       "      <th>mean_profit</th>\n",
       "      <th>std_profit</th>\n",
       "    </tr>\n",
       "  </thead>\n",
       "  <tbody>\n",
       "    <tr>\n",
       "      <th>Normal</th>\n",
       "      <td>4428.0</td>\n",
       "      <td>10252.0</td>\n",
       "      <td>-4560.0</td>\n",
       "      <td>10852.0</td>\n",
       "      <td>4560.0</td>\n",
       "      <td>5668.0</td>\n",
       "      <td>-2436.0</td>\n",
       "      <td>9948.0</td>\n",
       "      <td>10292.0</td>\n",
       "      <td>-112.0</td>\n",
       "      <td>4889.2</td>\n",
       "      <td>5366.394112</td>\n",
       "    </tr>\n",
       "    <tr>\n",
       "      <th>Exponential</th>\n",
       "      <td>2928.0</td>\n",
       "      <td>9300.0</td>\n",
       "      <td>-8096.0</td>\n",
       "      <td>9960.0</td>\n",
       "      <td>3796.0</td>\n",
       "      <td>4620.0</td>\n",
       "      <td>-4588.0</td>\n",
       "      <td>7932.0</td>\n",
       "      <td>9548.0</td>\n",
       "      <td>-564.0</td>\n",
       "      <td>3483.6</td>\n",
       "      <td>5913.189447</td>\n",
       "    </tr>\n",
       "    <tr>\n",
       "      <th>Empirical</th>\n",
       "      <td>5432.0</td>\n",
       "      <td>11608.0</td>\n",
       "      <td>-4056.0</td>\n",
       "      <td>11724.0</td>\n",
       "      <td>5736.0</td>\n",
       "      <td>7344.0</td>\n",
       "      <td>-1344.0</td>\n",
       "      <td>10472.0</td>\n",
       "      <td>11284.0</td>\n",
       "      <td>1476.0</td>\n",
       "      <td>5967.6</td>\n",
       "      <td>5383.729993</td>\n",
       "    </tr>\n",
       "    <tr>\n",
       "      <th>Max</th>\n",
       "      <td>41384.0</td>\n",
       "      <td>45256.0</td>\n",
       "      <td>46296.0</td>\n",
       "      <td>46600.0</td>\n",
       "      <td>49640.0</td>\n",
       "      <td>39048.0</td>\n",
       "      <td>48968.0</td>\n",
       "      <td>46120.0</td>\n",
       "      <td>44704.0</td>\n",
       "      <td>41648.0</td>\n",
       "      <td>44966.4</td>\n",
       "      <td>3203.875254</td>\n",
       "    </tr>\n",
       "  </tbody>\n",
       "</table>\n",
       "</div>"
      ],
      "text/plain": [
       "             Dataset_1  Dataset_2  Dataset_3  Dataset_4  Dataset_5  Dataset_6  \\\n",
       "Normal          4428.0    10252.0    -4560.0    10852.0     4560.0     5668.0   \n",
       "Exponential     2928.0     9300.0    -8096.0     9960.0     3796.0     4620.0   \n",
       "Empirical       5432.0    11608.0    -4056.0    11724.0     5736.0     7344.0   \n",
       "Max            41384.0    45256.0    46296.0    46600.0    49640.0    39048.0   \n",
       "\n",
       "             Dataset_7  Dataset_8  Dataset_9  Dataset_10  mean_profit  \\\n",
       "Normal         -2436.0     9948.0    10292.0      -112.0       4889.2   \n",
       "Exponential    -4588.0     7932.0     9548.0      -564.0       3483.6   \n",
       "Empirical      -1344.0    10472.0    11284.0      1476.0       5967.6   \n",
       "Max            48968.0    46120.0    44704.0     41648.0      44966.4   \n",
       "\n",
       "              std_profit  \n",
       "Normal       5366.394112  \n",
       "Exponential  5913.189447  \n",
       "Empirical    5383.729993  \n",
       "Max          3203.875254  "
      ]
     },
     "execution_count": 48,
     "metadata": {},
     "output_type": "execute_result"
    }
   ],
   "source": [
    "profit_table"
   ]
  },
  {
   "cell_type": "code",
   "execution_count": 49,
   "metadata": {},
   "outputs": [],
   "source": [
    "profit_table.to_csv(\".\\\\Model_Selection_Result\\\\2.2A_Poly_reg.csv\")"
   ]
  },
  {
   "cell_type": "code",
   "execution_count": null,
   "metadata": {},
   "outputs": [],
   "source": []
  }
 ],
 "metadata": {
  "kernelspec": {
   "display_name": "Python 3",
   "language": "python",
   "name": "python3"
  },
  "language_info": {
   "codemirror_mode": {
    "name": "ipython",
    "version": 3
   },
   "file_extension": ".py",
   "mimetype": "text/x-python",
   "name": "python",
   "nbconvert_exporter": "python",
   "pygments_lexer": "ipython3",
   "version": "3.8.5"
  }
 },
 "nbformat": 4,
 "nbformat_minor": 4
}
