{
 "cells": [
  {
   "cell_type": "code",
   "execution_count": 1,
   "metadata": {},
   "outputs": [],
   "source": [
    "import pandas as pd\n",
    "import numpy as np\n",
    "import matplotlib.pyplot as plt\n",
    "from sklearn.pipeline import Pipeline\n",
    "from sklearn.model_selection import GridSearchCV\n",
    "from sklearn.decomposition import PCA\n",
    "from sklearn.metrics import mean_squared_error as MSE\n",
    "from sklearn.linear_model import LinearRegression\n",
    "from sklearn.preprocessing import PolynomialFeatures\n",
    "from sklearn.model_selection import train_test_split\n",
    "from sklearn.linear_model import Lasso"
   ]
  },
  {
   "cell_type": "code",
   "execution_count": 2,
   "metadata": {},
   "outputs": [],
   "source": [
    "np.random.seed(42)"
   ]
  },
  {
   "cell_type": "markdown",
   "metadata": {},
   "source": [
    "# 1. Import the train datasets"
   ]
  },
  {
   "cell_type": "code",
   "execution_count": 3,
   "metadata": {},
   "outputs": [],
   "source": [
    "X_train = pd.read_csv(\"A_Normalised_train_data.csv\",index_col=0)\n",
    "Y_train = pd.read_csv(\"A_Log_sales_train.csv\",index_col=0)"
   ]
  },
  {
   "cell_type": "code",
   "execution_count": 4,
   "metadata": {},
   "outputs": [],
   "source": [
    "Model_1 = LinearRegression()"
   ]
  },
  {
   "cell_type": "markdown",
   "metadata": {},
   "source": [
    "# 2. Setup Pipeline"
   ]
  },
  {
   "cell_type": "code",
   "execution_count": 5,
   "metadata": {},
   "outputs": [],
   "source": [
    "poly = PolynomialFeatures()\n",
    "pca=PCA()\n",
    "SLR = Model_1"
   ]
  },
  {
   "cell_type": "code",
   "execution_count": 6,
   "metadata": {},
   "outputs": [],
   "source": [
    "# Step 1: Polynomial transform\n",
    "# Step 2: PCA\n",
    "# Step 3: Model\n",
    "pipe = Pipeline(steps=[(\"poly\",poly),(\"pca\",pca),(\"SLR\",SLR)])"
   ]
  },
  {
   "cell_type": "code",
   "execution_count": 7,
   "metadata": {},
   "outputs": [],
   "source": [
    "param_grid = {\n",
    "    \"pca__n_components\": [45, 100 ,150 ,170],\n",
    "    \"poly__degree\":[1,2]\n",
    "}"
   ]
  },
  {
   "cell_type": "markdown",
   "metadata": {},
   "source": [
    "# 3. Setup GridSearch"
   ]
  },
  {
   "cell_type": "code",
   "execution_count": 8,
   "metadata": {},
   "outputs": [],
   "source": [
    "score_metric = 'neg_mean_squared_error'\n",
    "search = GridSearchCV(pipe,param_grid,\n",
    "                      n_jobs=-1,\n",
    "                      cv=10,\n",
    "                      scoring=score_metric)"
   ]
  },
  {
   "cell_type": "code",
   "execution_count": 9,
   "metadata": {},
   "outputs": [
    {
     "data": {
      "text/plain": [
       "GridSearchCV(cv=10,\n",
       "             estimator=Pipeline(steps=[('poly', PolynomialFeatures()),\n",
       "                                       ('pca', PCA()),\n",
       "                                       ('SLR', LinearRegression())]),\n",
       "             n_jobs=-1,\n",
       "             param_grid={'pca__n_components': [45, 100, 150, 170],\n",
       "                         'poly__degree': [1, 2]},\n",
       "             scoring='neg_mean_squared_error')"
      ]
     },
     "execution_count": 9,
     "metadata": {},
     "output_type": "execute_result"
    }
   ],
   "source": [
    "search.fit(X_train,Y_train)"
   ]
  },
  {
   "cell_type": "code",
   "execution_count": 10,
   "metadata": {},
   "outputs": [
    {
     "name": "stdout",
     "output_type": "stream",
     "text": [
      "Best parameter (CV score=-0.789):\n",
      "{'pca__n_components': 100, 'poly__degree': 1}\n"
     ]
    }
   ],
   "source": [
    "print(\"Best parameter (CV score=%0.3f):\" % search.best_score_)\n",
    "print(search.best_params_)"
   ]
  },
  {
   "cell_type": "code",
   "execution_count": 11,
   "metadata": {},
   "outputs": [
    {
     "data": {
      "text/html": [
       "<div>\n",
       "<style scoped>\n",
       "    .dataframe tbody tr th:only-of-type {\n",
       "        vertical-align: middle;\n",
       "    }\n",
       "\n",
       "    .dataframe tbody tr th {\n",
       "        vertical-align: top;\n",
       "    }\n",
       "\n",
       "    .dataframe thead th {\n",
       "        text-align: right;\n",
       "    }\n",
       "</style>\n",
       "<table border=\"1\" class=\"dataframe\">\n",
       "  <thead>\n",
       "    <tr style=\"text-align: right;\">\n",
       "      <th></th>\n",
       "      <th>mean_fit_time</th>\n",
       "      <th>std_fit_time</th>\n",
       "      <th>mean_score_time</th>\n",
       "      <th>std_score_time</th>\n",
       "      <th>param_pca__n_components</th>\n",
       "      <th>param_poly__degree</th>\n",
       "      <th>params</th>\n",
       "      <th>split0_test_score</th>\n",
       "      <th>split1_test_score</th>\n",
       "      <th>split2_test_score</th>\n",
       "      <th>split3_test_score</th>\n",
       "      <th>split4_test_score</th>\n",
       "      <th>split5_test_score</th>\n",
       "      <th>split6_test_score</th>\n",
       "      <th>split7_test_score</th>\n",
       "      <th>split8_test_score</th>\n",
       "      <th>split9_test_score</th>\n",
       "      <th>mean_test_score</th>\n",
       "      <th>std_test_score</th>\n",
       "      <th>rank_test_score</th>\n",
       "    </tr>\n",
       "  </thead>\n",
       "  <tbody>\n",
       "    <tr>\n",
       "      <th>2</th>\n",
       "      <td>1.862501</td>\n",
       "      <td>0.843080</td>\n",
       "      <td>0.082983</td>\n",
       "      <td>0.076845</td>\n",
       "      <td>100</td>\n",
       "      <td>1</td>\n",
       "      <td>{'pca__n_components': 100, 'poly__degree': 1}</td>\n",
       "      <td>-0.731604</td>\n",
       "      <td>-0.720879</td>\n",
       "      <td>-8.627484e-01</td>\n",
       "      <td>-0.833846</td>\n",
       "      <td>-9.393732e-01</td>\n",
       "      <td>-7.097942e-01</td>\n",
       "      <td>-0.666166</td>\n",
       "      <td>-7.915321e-01</td>\n",
       "      <td>-0.824856</td>\n",
       "      <td>-8.047515e-01</td>\n",
       "      <td>-7.885551e-01</td>\n",
       "      <td>7.803625e-02</td>\n",
       "      <td>1</td>\n",
       "    </tr>\n",
       "    <tr>\n",
       "      <th>0</th>\n",
       "      <td>1.789564</td>\n",
       "      <td>1.059684</td>\n",
       "      <td>0.032727</td>\n",
       "      <td>0.041621</td>\n",
       "      <td>45</td>\n",
       "      <td>1</td>\n",
       "      <td>{'pca__n_components': 45, 'poly__degree': 1}</td>\n",
       "      <td>-0.803224</td>\n",
       "      <td>-0.796636</td>\n",
       "      <td>-9.689899e-01</td>\n",
       "      <td>-0.855450</td>\n",
       "      <td>-1.004065e+00</td>\n",
       "      <td>-7.069605e-01</td>\n",
       "      <td>-0.720404</td>\n",
       "      <td>-8.679688e-01</td>\n",
       "      <td>-0.888795</td>\n",
       "      <td>-9.775660e-01</td>\n",
       "      <td>-8.590059e-01</td>\n",
       "      <td>9.874489e-02</td>\n",
       "      <td>2</td>\n",
       "    </tr>\n",
       "    <tr>\n",
       "      <th>7</th>\n",
       "      <td>43.772690</td>\n",
       "      <td>15.875806</td>\n",
       "      <td>0.902824</td>\n",
       "      <td>0.479130</td>\n",
       "      <td>170</td>\n",
       "      <td>2</td>\n",
       "      <td>{'pca__n_components': 170, 'poly__degree': 2}</td>\n",
       "      <td>-0.681453</td>\n",
       "      <td>-0.665326</td>\n",
       "      <td>-2.201826e+00</td>\n",
       "      <td>-0.763740</td>\n",
       "      <td>-9.058276e-01</td>\n",
       "      <td>-7.134524e-01</td>\n",
       "      <td>-0.635589</td>\n",
       "      <td>-6.932354e-01</td>\n",
       "      <td>-0.843513</td>\n",
       "      <td>-8.122975e-01</td>\n",
       "      <td>-8.916259e-01</td>\n",
       "      <td>4.442783e-01</td>\n",
       "      <td>3</td>\n",
       "    </tr>\n",
       "    <tr>\n",
       "      <th>5</th>\n",
       "      <td>50.474733</td>\n",
       "      <td>18.609281</td>\n",
       "      <td>1.080133</td>\n",
       "      <td>0.722317</td>\n",
       "      <td>150</td>\n",
       "      <td>2</td>\n",
       "      <td>{'pca__n_components': 150, 'poly__degree': 2}</td>\n",
       "      <td>-0.705712</td>\n",
       "      <td>-0.699851</td>\n",
       "      <td>-2.084749e+00</td>\n",
       "      <td>-0.816254</td>\n",
       "      <td>-9.518173e-01</td>\n",
       "      <td>-7.387349e-01</td>\n",
       "      <td>-0.669613</td>\n",
       "      <td>-7.117442e-01</td>\n",
       "      <td>-0.847762</td>\n",
       "      <td>-8.364955e-01</td>\n",
       "      <td>-9.062733e-01</td>\n",
       "      <td>4.015008e-01</td>\n",
       "      <td>4</td>\n",
       "    </tr>\n",
       "    <tr>\n",
       "      <th>3</th>\n",
       "      <td>52.095190</td>\n",
       "      <td>13.735350</td>\n",
       "      <td>1.879207</td>\n",
       "      <td>0.912921</td>\n",
       "      <td>100</td>\n",
       "      <td>2</td>\n",
       "      <td>{'pca__n_components': 100, 'poly__degree': 2}</td>\n",
       "      <td>-0.901700</td>\n",
       "      <td>-0.874450</td>\n",
       "      <td>-1.014074e+00</td>\n",
       "      <td>-1.000132</td>\n",
       "      <td>-1.163212e+00</td>\n",
       "      <td>-8.726599e-01</td>\n",
       "      <td>-0.835424</td>\n",
       "      <td>-9.040172e-01</td>\n",
       "      <td>-1.001558</td>\n",
       "      <td>-1.026390e+00</td>\n",
       "      <td>-9.593617e-01</td>\n",
       "      <td>9.431844e-02</td>\n",
       "      <td>5</td>\n",
       "    </tr>\n",
       "    <tr>\n",
       "      <th>1</th>\n",
       "      <td>39.322145</td>\n",
       "      <td>5.289329</td>\n",
       "      <td>2.695195</td>\n",
       "      <td>2.247064</td>\n",
       "      <td>45</td>\n",
       "      <td>2</td>\n",
       "      <td>{'pca__n_components': 45, 'poly__degree': 2}</td>\n",
       "      <td>-1.248041</td>\n",
       "      <td>-1.233714</td>\n",
       "      <td>-1.272664e+00</td>\n",
       "      <td>-1.442198</td>\n",
       "      <td>-1.467154e+00</td>\n",
       "      <td>-9.984640e-01</td>\n",
       "      <td>-1.232960</td>\n",
       "      <td>-1.226382e+00</td>\n",
       "      <td>-1.256712</td>\n",
       "      <td>-1.306531e+00</td>\n",
       "      <td>-1.268482e+00</td>\n",
       "      <td>1.219926e-01</td>\n",
       "      <td>6</td>\n",
       "    </tr>\n",
       "    <tr>\n",
       "      <th>4</th>\n",
       "      <td>2.335763</td>\n",
       "      <td>0.917631</td>\n",
       "      <td>0.022771</td>\n",
       "      <td>0.029580</td>\n",
       "      <td>150</td>\n",
       "      <td>1</td>\n",
       "      <td>{'pca__n_components': 150, 'poly__degree': 1}</td>\n",
       "      <td>-0.512133</td>\n",
       "      <td>-0.569253</td>\n",
       "      <td>-2.564365e+25</td>\n",
       "      <td>-0.633127</td>\n",
       "      <td>-7.563299e+24</td>\n",
       "      <td>-2.796497e+24</td>\n",
       "      <td>-0.581328</td>\n",
       "      <td>-1.890418e+25</td>\n",
       "      <td>-0.670868</td>\n",
       "      <td>-1.070161e+25</td>\n",
       "      <td>-6.560923e+24</td>\n",
       "      <td>8.741028e+24</td>\n",
       "      <td>7</td>\n",
       "    </tr>\n",
       "    <tr>\n",
       "      <th>6</th>\n",
       "      <td>1.244128</td>\n",
       "      <td>0.825886</td>\n",
       "      <td>0.191359</td>\n",
       "      <td>0.147377</td>\n",
       "      <td>170</td>\n",
       "      <td>1</td>\n",
       "      <td>{'pca__n_components': 170, 'poly__degree': 1}</td>\n",
       "      <td>-0.508346</td>\n",
       "      <td>-0.564813</td>\n",
       "      <td>-8.601736e+26</td>\n",
       "      <td>-0.611982</td>\n",
       "      <td>-4.182862e+25</td>\n",
       "      <td>-6.613890e+26</td>\n",
       "      <td>-0.593203</td>\n",
       "      <td>-1.502600e+26</td>\n",
       "      <td>-0.670370</td>\n",
       "      <td>-7.206934e+26</td>\n",
       "      <td>-2.434345e+26</td>\n",
       "      <td>3.359252e+26</td>\n",
       "      <td>8</td>\n",
       "    </tr>\n",
       "  </tbody>\n",
       "</table>\n",
       "</div>"
      ],
      "text/plain": [
       "   mean_fit_time  std_fit_time  mean_score_time  std_score_time  \\\n",
       "2       1.862501      0.843080         0.082983        0.076845   \n",
       "0       1.789564      1.059684         0.032727        0.041621   \n",
       "7      43.772690     15.875806         0.902824        0.479130   \n",
       "5      50.474733     18.609281         1.080133        0.722317   \n",
       "3      52.095190     13.735350         1.879207        0.912921   \n",
       "1      39.322145      5.289329         2.695195        2.247064   \n",
       "4       2.335763      0.917631         0.022771        0.029580   \n",
       "6       1.244128      0.825886         0.191359        0.147377   \n",
       "\n",
       "  param_pca__n_components param_poly__degree  \\\n",
       "2                     100                  1   \n",
       "0                      45                  1   \n",
       "7                     170                  2   \n",
       "5                     150                  2   \n",
       "3                     100                  2   \n",
       "1                      45                  2   \n",
       "4                     150                  1   \n",
       "6                     170                  1   \n",
       "\n",
       "                                          params  split0_test_score  \\\n",
       "2  {'pca__n_components': 100, 'poly__degree': 1}          -0.731604   \n",
       "0   {'pca__n_components': 45, 'poly__degree': 1}          -0.803224   \n",
       "7  {'pca__n_components': 170, 'poly__degree': 2}          -0.681453   \n",
       "5  {'pca__n_components': 150, 'poly__degree': 2}          -0.705712   \n",
       "3  {'pca__n_components': 100, 'poly__degree': 2}          -0.901700   \n",
       "1   {'pca__n_components': 45, 'poly__degree': 2}          -1.248041   \n",
       "4  {'pca__n_components': 150, 'poly__degree': 1}          -0.512133   \n",
       "6  {'pca__n_components': 170, 'poly__degree': 1}          -0.508346   \n",
       "\n",
       "   split1_test_score  split2_test_score  split3_test_score  split4_test_score  \\\n",
       "2          -0.720879      -8.627484e-01          -0.833846      -9.393732e-01   \n",
       "0          -0.796636      -9.689899e-01          -0.855450      -1.004065e+00   \n",
       "7          -0.665326      -2.201826e+00          -0.763740      -9.058276e-01   \n",
       "5          -0.699851      -2.084749e+00          -0.816254      -9.518173e-01   \n",
       "3          -0.874450      -1.014074e+00          -1.000132      -1.163212e+00   \n",
       "1          -1.233714      -1.272664e+00          -1.442198      -1.467154e+00   \n",
       "4          -0.569253      -2.564365e+25          -0.633127      -7.563299e+24   \n",
       "6          -0.564813      -8.601736e+26          -0.611982      -4.182862e+25   \n",
       "\n",
       "   split5_test_score  split6_test_score  split7_test_score  split8_test_score  \\\n",
       "2      -7.097942e-01          -0.666166      -7.915321e-01          -0.824856   \n",
       "0      -7.069605e-01          -0.720404      -8.679688e-01          -0.888795   \n",
       "7      -7.134524e-01          -0.635589      -6.932354e-01          -0.843513   \n",
       "5      -7.387349e-01          -0.669613      -7.117442e-01          -0.847762   \n",
       "3      -8.726599e-01          -0.835424      -9.040172e-01          -1.001558   \n",
       "1      -9.984640e-01          -1.232960      -1.226382e+00          -1.256712   \n",
       "4      -2.796497e+24          -0.581328      -1.890418e+25          -0.670868   \n",
       "6      -6.613890e+26          -0.593203      -1.502600e+26          -0.670370   \n",
       "\n",
       "   split9_test_score  mean_test_score  std_test_score  rank_test_score  \n",
       "2      -8.047515e-01    -7.885551e-01    7.803625e-02                1  \n",
       "0      -9.775660e-01    -8.590059e-01    9.874489e-02                2  \n",
       "7      -8.122975e-01    -8.916259e-01    4.442783e-01                3  \n",
       "5      -8.364955e-01    -9.062733e-01    4.015008e-01                4  \n",
       "3      -1.026390e+00    -9.593617e-01    9.431844e-02                5  \n",
       "1      -1.306531e+00    -1.268482e+00    1.219926e-01                6  \n",
       "4      -1.070161e+25    -6.560923e+24    8.741028e+24                7  \n",
       "6      -7.206934e+26    -2.434345e+26    3.359252e+26                8  "
      ]
     },
     "execution_count": 11,
     "metadata": {},
     "output_type": "execute_result"
    }
   ],
   "source": [
    "df = pd.DataFrame(search.cv_results_)\n",
    "df = df.sort_values(by=['rank_test_score'])\n",
    "df"
   ]
  },
  {
   "cell_type": "markdown",
   "metadata": {},
   "source": [
    "# 4. Best Hyperparameter"
   ]
  },
  {
   "cell_type": "code",
   "execution_count": 12,
   "metadata": {},
   "outputs": [
    {
     "name": "stdout",
     "output_type": "stream",
     "text": [
      "{'pca__n_components': 100, 'poly__degree': 1}\n"
     ]
    }
   ],
   "source": [
    "parms = pd.DataFrame(df['params'])\n",
    "for i in parms.iloc[0]:\n",
    "    print(i)"
   ]
  },
  {
   "cell_type": "markdown",
   "metadata": {},
   "source": [
    "# 5. Evaluate Model $log(Sales)$"
   ]
  },
  {
   "cell_type": "code",
   "execution_count": 13,
   "metadata": {},
   "outputs": [],
   "source": [
    "best_pca =parms.iloc[0][0]['pca__n_components']\n",
    "best_degree=parms.iloc[0][0]['poly__degree']\n"
   ]
  },
  {
   "cell_type": "code",
   "execution_count": 14,
   "metadata": {},
   "outputs": [],
   "source": [
    "Model_2 = LinearRegression()"
   ]
  },
  {
   "cell_type": "code",
   "execution_count": 15,
   "metadata": {},
   "outputs": [],
   "source": [
    "poly1 = PolynomialFeatures(degree=best_degree)"
   ]
  },
  {
   "cell_type": "code",
   "execution_count": 16,
   "metadata": {},
   "outputs": [],
   "source": [
    "X_train1,X_test1,Y_train1,Y_test1 = train_test_split(X_train,Y_train,test_size=0.2,random_state=132)\n"
   ]
  },
  {
   "cell_type": "code",
   "execution_count": 17,
   "metadata": {},
   "outputs": [
    {
     "data": {
      "text/plain": [
       "LinearRegression()"
      ]
     },
     "execution_count": 17,
     "metadata": {},
     "output_type": "execute_result"
    }
   ],
   "source": [
    "pca1 = PCA(n_components=best_pca)\n",
    "X_train1 = poly1.fit_transform(X_train1)\n",
    "pca1.fit(X_train1)\n",
    "PX_train1 = pca1.transform(X_train1)\n",
    "SLR1 = Model_2\n",
    "SLR1.fit(PX_train1,Y_train1)"
   ]
  },
  {
   "cell_type": "code",
   "execution_count": 18,
   "metadata": {},
   "outputs": [],
   "source": [
    "pca2 = PCA(n_components=best_pca)\n",
    "X_test1=poly1.fit_transform(X_test1)\n",
    "pca2.fit(X_test1)\n",
    "PX_test1 = pca2.transform(X_test1)"
   ]
  },
  {
   "cell_type": "code",
   "execution_count": 19,
   "metadata": {},
   "outputs": [
    {
     "data": {
      "text/plain": [
       "2.1073212306216047"
      ]
     },
     "execution_count": 19,
     "metadata": {},
     "output_type": "execute_result"
    }
   ],
   "source": [
    "MSE(SLR1.predict(PX_test1),Y_test1)"
   ]
  },
  {
   "cell_type": "code",
   "execution_count": 20,
   "metadata": {},
   "outputs": [],
   "source": [
    "result = pd.DataFrame(np.exp(Y_test1))"
   ]
  },
  {
   "cell_type": "code",
   "execution_count": 21,
   "metadata": {},
   "outputs": [],
   "source": [
    "result[\"Predicted_sales\"] = np.exp(SLR1.predict(PX_test1))"
   ]
  },
  {
   "cell_type": "code",
   "execution_count": 22,
   "metadata": {},
   "outputs": [
    {
     "data": {
      "text/plain": [
       "1271.10300272211"
      ]
     },
     "execution_count": 22,
     "metadata": {},
     "output_type": "execute_result"
    }
   ],
   "source": [
    "MSE(result[\"sales\"],result[\"Predicted_sales\"])"
   ]
  },
  {
   "cell_type": "markdown",
   "metadata": {},
   "source": [
    "# 5.1 Model using original sales data"
   ]
  },
  {
   "cell_type": "code",
   "execution_count": 23,
   "metadata": {},
   "outputs": [],
   "source": [
    "Model_3 = LinearRegression()"
   ]
  },
  {
   "cell_type": "code",
   "execution_count": 24,
   "metadata": {},
   "outputs": [],
   "source": [
    "OY_train = pd.read_csv(\"A_sales_train.csv\",index_col=0)"
   ]
  },
  {
   "cell_type": "code",
   "execution_count": 25,
   "metadata": {},
   "outputs": [],
   "source": [
    "X_train2,X_test2,Y_train2,Y_test2 = train_test_split(X_train,OY_train,test_size=0.2,random_state=132)"
   ]
  },
  {
   "cell_type": "code",
   "execution_count": 26,
   "metadata": {},
   "outputs": [
    {
     "data": {
      "text/plain": [
       "LinearRegression()"
      ]
     },
     "execution_count": 26,
     "metadata": {},
     "output_type": "execute_result"
    }
   ],
   "source": [
    "pca3 = PCA(n_components=best_pca)\n",
    "X_train2 = poly1.fit_transform(X_train2)\n",
    "pca3.fit(X_train2)\n",
    "PX_train2 = pca3.transform(X_train2)\n",
    "SLR2 = Model_3\n",
    "SLR2.fit(PX_train2,Y_train2)"
   ]
  },
  {
   "cell_type": "code",
   "execution_count": 27,
   "metadata": {},
   "outputs": [],
   "source": [
    "pca4 = PCA(n_components=best_pca)\n",
    "X_test2=poly1.fit_transform(X_test2)\n",
    "pca4.fit(X_test2)\n",
    "PX_test2 = pca4.transform(X_test2)"
   ]
  },
  {
   "cell_type": "code",
   "execution_count": 28,
   "metadata": {},
   "outputs": [
    {
     "data": {
      "text/plain": [
       "1908.1163565328227"
      ]
     },
     "execution_count": 28,
     "metadata": {},
     "output_type": "execute_result"
    }
   ],
   "source": [
    "MSE(SLR2.predict(PX_test2),Y_test2)"
   ]
  },
  {
   "cell_type": "markdown",
   "metadata": {},
   "source": [
    "#### Notably model trained on log(Sales) has lower out-of-sample MSE than model with unmodified Sales"
   ]
  },
  {
   "cell_type": "markdown",
   "metadata": {},
   "source": [
    "# 6. Inventory Decision"
   ]
  },
  {
   "cell_type": "code",
   "execution_count": 29,
   "metadata": {},
   "outputs": [
    {
     "name": "stdout",
     "output_type": "stream",
     "text": [
      "The history saving thread hit an unexpected error (OperationalError('database is locked')).History will not be written to the database.\n"
     ]
    }
   ],
   "source": [
    "residual = result['sales']-result['Predicted_sales']"
   ]
  },
  {
   "cell_type": "code",
   "execution_count": 30,
   "metadata": {},
   "outputs": [
    {
     "data": {
      "text/plain": [
       "(4, 8)"
      ]
     },
     "execution_count": 30,
     "metadata": {},
     "output_type": "execute_result"
    }
   ],
   "source": [
    "Price=20\n",
    "Cost=12\n",
    "Salvage=8\n",
    "Over=Cost - Salvage\n",
    "Under=Price - Cost\n",
    "Over, Under"
   ]
  },
  {
   "cell_type": "markdown",
   "metadata": {},
   "source": [
    "### QQ plot to explore the distribution of residual"
   ]
  },
  {
   "cell_type": "markdown",
   "metadata": {},
   "source": [
    "#### Normal Distribution"
   ]
  },
  {
   "cell_type": "code",
   "execution_count": 31,
   "metadata": {},
   "outputs": [],
   "source": [
    "import scipy.stats as sct"
   ]
  },
  {
   "cell_type": "code",
   "execution_count": 32,
   "metadata": {},
   "outputs": [
    {
     "data": {
      "image/png": "[encoded data removed]",
      "text/plain": [
       "<Figure size 432x288 with 1 Axes>"
      ]
     },
     "metadata": {
      "needs_background": "light"
     },
     "output_type": "display_data"
    }
   ],
   "source": [
    "import scipy\n",
    "scipy.stats.probplot(residual, dist=\"norm\", plot=plt)\n",
    "plt.show()"
   ]
  },
  {
   "cell_type": "code",
   "execution_count": 33,
   "metadata": {},
   "outputs": [],
   "source": [
    "s = residual.std()\n",
    "opt_dec_N=np.ceil(sct.norm.ppf(Under/(Under+Over))*s + result['Predicted_sales'])"
   ]
  },
  {
   "cell_type": "markdown",
   "metadata": {},
   "source": [
    "#### Exponential Distribution"
   ]
  },
  {
   "cell_type": "code",
   "execution_count": 34,
   "metadata": {},
   "outputs": [
    {
     "data": {
      "image/png": "[encoded data removed]",
      "text/plain": [
       "<Figure size 432x288 with 1 Axes>"
      ]
     },
     "metadata": {
      "needs_background": "light"
     },
     "output_type": "display_data"
    }
   ],
   "source": [
    "scipy.stats.probplot(residual, dist=\"expon\", plot=plt)\n",
    "plt.show()"
   ]
  },
  {
   "cell_type": "code",
   "execution_count": 35,
   "metadata": {},
   "outputs": [],
   "source": [
    "opt_dec_E=np.ceil((-result['Predicted_sales'])*np.log(1-(Under/(Under+Over))))"
   ]
  },
  {
   "cell_type": "markdown",
   "metadata": {},
   "source": [
    "#### Empirical Distribution"
   ]
  },
  {
   "cell_type": "code",
   "execution_count": 36,
   "metadata": {},
   "outputs": [
    {
     "data": {
      "text/plain": [
       "[<matplotlib.lines.Line2D at 0x1d00825e610>]"
      ]
     },
     "execution_count": 36,
     "metadata": {},
     "output_type": "execute_result"
    },
    {
     "data": {
      "image/png": "[encoded data removed]",
      "text/plain": [
       "<Figure size 432x288 with 1 Axes>"
      ]
     },
     "metadata": {
      "needs_background": "light"
     },
     "output_type": "display_data"
    }
   ],
   "source": [
    "size = residual.shape[0]\n",
    "step=1/size\n",
    "jumps = [step*i for i in range(1,size+1)]\n",
    "Sample = sorted(residual)\n",
    "plt.plot(Sample,jumps)"
   ]
  },
  {
   "cell_type": "code",
   "execution_count": 37,
   "metadata": {},
   "outputs": [
    {
     "data": {
      "image/png": "[encoded data removed]",
      "text/plain": [
       "<Figure size 432x288 with 1 Axes>"
      ]
     },
     "metadata": {
      "needs_background": "light"
     },
     "output_type": "display_data"
    }
   ],
   "source": [
    "plt.hist(Sample)\n",
    "plt.show()"
   ]
  },
  {
   "cell_type": "code",
   "execution_count": 38,
   "metadata": {},
   "outputs": [],
   "source": [
    "def inv(sample,jump,area):\n",
    "    size = len(sample)\n",
    "    i=0\n",
    "    temp=jump[i]\n",
    "    while temp<area:\n",
    "        i+=1\n",
    "        temp=jump[i]\n",
    "        \n",
    "    return sample[i]"
   ]
  },
  {
   "cell_type": "code",
   "execution_count": 39,
   "metadata": {},
   "outputs": [
    {
     "data": {
      "text/plain": [
       "7.126905178048888"
      ]
     },
     "execution_count": 39,
     "metadata": {},
     "output_type": "execute_result"
    }
   ],
   "source": [
    "offset = inv(Sample,jumps,2/3)\n",
    "offset"
   ]
  },
  {
   "cell_type": "code",
   "execution_count": 40,
   "metadata": {},
   "outputs": [],
   "source": [
    "opt_dec_B = np.ceil(result['Predicted_sales']+offset)"
   ]
  },
  {
   "cell_type": "markdown",
   "metadata": {},
   "source": [
    "# 7. Out-of-samples Profit"
   ]
  },
  {
   "cell_type": "code",
   "execution_count": 41,
   "metadata": {},
   "outputs": [
    {
     "data": {
      "text/plain": [
       "82096.0"
      ]
     },
     "execution_count": 41,
     "metadata": {},
     "output_type": "execute_result"
    }
   ],
   "source": [
    "#max profit for test data set\n",
    "max_profit = result['sales'].sum()*(Price-Cost)\n",
    "max_profit"
   ]
  },
  {
   "cell_type": "code",
   "execution_count": 42,
   "metadata": {},
   "outputs": [],
   "source": [
    "def profit(demand,inv):\n",
    "    return (Price-Salvage)*np.minimum(demand,inv)-(Cost-Salvage)*inv"
   ]
  },
  {
   "cell_type": "code",
   "execution_count": 43,
   "metadata": {},
   "outputs": [
    {
     "data": {
      "text/plain": [
       "20860.0"
      ]
     },
     "execution_count": 43,
     "metadata": {},
     "output_type": "execute_result"
    }
   ],
   "source": [
    "#Profit (None)\n",
    "profit_lst = profit(round(result['sales']),round(result['Predicted_sales']))\n",
    "profit_lst.sum()"
   ]
  },
  {
   "cell_type": "code",
   "execution_count": 44,
   "metadata": {},
   "outputs": [
    {
     "data": {
      "text/plain": [
       "20588.0"
      ]
     },
     "execution_count": 44,
     "metadata": {},
     "output_type": "execute_result"
    }
   ],
   "source": [
    "#Profit (Normal)\n",
    "profit_lst_N = profit(result['sales'],opt_dec_N)\n",
    "profit_lst_N.sum()"
   ]
  },
  {
   "cell_type": "code",
   "execution_count": 45,
   "metadata": {},
   "outputs": [
    {
     "data": {
      "text/plain": [
       "20680.0"
      ]
     },
     "execution_count": 45,
     "metadata": {},
     "output_type": "execute_result"
    }
   ],
   "source": [
    "#Profit (Exponential)\n",
    "profit_lst_E = profit(result['sales'],opt_dec_E)\n",
    "profit_lst_E.sum()"
   ]
  },
  {
   "cell_type": "code",
   "execution_count": 46,
   "metadata": {},
   "outputs": [
    {
     "data": {
      "text/plain": [
       "23424.0"
      ]
     },
     "execution_count": 46,
     "metadata": {},
     "output_type": "execute_result"
    }
   ],
   "source": [
    "#Profit (Empirical)\n",
    "profit_lst_B = profit(result['sales'],opt_dec_B)\n",
    "profit_lst_B.sum()"
   ]
  },
  {
   "cell_type": "markdown",
   "metadata": {},
   "source": [
    "# 8. K-Fold Cross Validation"
   ]
  },
  {
   "cell_type": "markdown",
   "metadata": {},
   "source": [
    "### Repeat steps 5,6,7 with 10-fold cross validation"
   ]
  },
  {
   "cell_type": "code",
   "execution_count": 47,
   "metadata": {},
   "outputs": [],
   "source": [
    "Model_4=LinearRegression()"
   ]
  },
  {
   "cell_type": "code",
   "execution_count": 55,
   "metadata": {},
   "outputs": [],
   "source": [
    "from sklearn.model_selection import KFold\n",
    "k=10\n",
    "kf = KFold(n_splits=k)\n",
    "X_train_t=X_train.to_numpy()\n",
    "Y_train_t=Y_train.to_numpy()\n",
    "model = []\n",
    "mse_lst = []\n",
    "max_profit_lst = []\n",
    "profit_N_lst = []\n",
    "profit_E_lst = []\n",
    "profit_B_lst = []\n",
    "\n",
    "for train_index,test_index in kf.split(X_train_t):\n",
    "    X_train_K,X_test_K=X_train_t[train_index],X_train_t[test_index]\n",
    "    Y_train_K,Y_test_K=Y_train_t[train_index],Y_train_t[test_index]\n",
    "    \n",
    "    #PCA to transform train data\n",
    "    pca_K1 = PCA(n_components=best_pca,random_state=42)\n",
    "    X_train_K = poly1.fit_transform(X_train_K)\n",
    "    pca_K1.fit(X_train_K)\n",
    "    PX_train_K = pca_K1.transform(X_train_K)\n",
    "    \n",
    "    #Model\n",
    "    SLR_K = Model_4\n",
    "    SLR_K.fit(PX_train_K,Y_train_K)\n",
    "    \n",
    "    #pca to transform test data\n",
    "    pca_K2 = PCA(n_components=best_pca,random_state=42)\n",
    "    X_test_K=poly1.fit_transform(X_test_K)\n",
    "    pca_K2.fit(X_test_K)\n",
    "    PX_test_K = pca_K2.transform(X_test_K)\n",
    "    \n",
    "    #MSE\n",
    "    mse_lst.append(MSE(np.exp(SLR_K.predict(PX_test_K)),np.exp(Y_test_K)))\n",
    "    \n",
    "    #Transform log(sale) back to sale\n",
    "    result_K = pd.DataFrame(np.exp(Y_test_K))\n",
    "    result_K[\"Predicted_sales\"] = np.exp(SLR_K.predict(PX_test_K))\n",
    "    \n",
    "    #Obtain residual\n",
    "    residual_K = result_K[0]-result_K['Predicted_sales']\n",
    "    \n",
    "    #Get std for Normal distribution\n",
    "    s_K = residual_K.std()\n",
    "    \n",
    "    #Inventory Decision (Normal)\n",
    "    opt_dec_N_K=np.ceil(sct.norm.ppf(Under/(Under+Over))*s_K + result_K['Predicted_sales'])\n",
    "    #Inventory Decision (Exponential)\n",
    "    opt_dec_E_K=np.ceil((-result_K['Predicted_sales'])*np.log(1-(Under/(Under+Over))))\n",
    "    \n",
    "    #Inventory Decision (Empirical Distribution)\n",
    "    size_K = residual_K.shape[0]\n",
    "    step_K=1/size_K\n",
    "    jumps_K = [step_K*i for i in range(1,size_K+1)]\n",
    "    Sample_K = sorted(residual_K)\n",
    "    offset_K = inv(Sample_K,jumps_K,2/3)\n",
    "    opt_dec_B_K = np.ceil(result_K['Predicted_sales']+offset_K)\n",
    "    \n",
    "    #Out-of_sample profit\n",
    "    profit_lst_B_K = profit(result_K[0],opt_dec_B_K)\n",
    "    profit_B_lst.append(profit_lst_B_K.sum())\n",
    "    \n",
    "    profit_lst_N_K = profit(result_K[0],opt_dec_N_K)\n",
    "    profit_N_lst.append(profit_lst_N_K.sum())\n",
    "    \n",
    "    profit_lst_E_K = profit(result_K[0],opt_dec_E_K)\n",
    "    profit_E_lst.append(profit_lst_E_K.sum())\n",
    "    \n",
    "    max_profit_K = result_K[0].sum()*(Price-Cost)\n",
    "    max_profit_lst.append(max_profit_K)\n",
    "    \n",
    "max_profit_lst = np.array(max_profit_lst)\n",
    "profit_N_lst = np.array(profit_N_lst)\n",
    "profit_E_lst = np.array(profit_E_lst)\n",
    "profit_B_lst = np.array(profit_B_lst)\n",
    "\n",
    "fraction_of_max_N = profit_N_lst/max_profit_lst\n",
    "fraction_of_max_E = profit_E_lst/max_profit_lst\n",
    "fraction_of_max_B = profit_B_lst/max_profit_lst\n",
    "\n",
    "dist_profit = [\"Normal\",\"Exponential\",\"Empirical\",\"Max\"]\n",
    "dist_frac = [\"Normal\",\"Exponential\",\"Empirical\"]\n",
    "col_name = [\"Dataset_\"+str(i) for i in range(1,k+1)]\n",
    "\n",
    "profit_lst = [profit_N_lst,profit_E_lst,profit_B_lst,max_profit_lst]\n",
    "profit_table = pd.DataFrame(profit_lst,index=dist_profit,columns=col_name)\n",
    "profit_table[\"mean_profit\"]=profit_table.mean(axis=1)\n",
    "profit_table[\"std_profit\"]=profit_table.std(ddof=1,axis=1)\n",
    "\n",
    "fraction_lst = [fraction_of_max_N,fraction_of_max_E,fraction_of_max_B]\n",
    "fraction_table = pd.DataFrame(fraction_lst,index=dist_frac,columns=col_name)\n",
    "fraction_table[\"mean_fraction\"]=fraction_table.mean(axis=1)"
   ]
  },
  {
   "cell_type": "code",
   "execution_count": 56,
   "metadata": {
    "scrolled": true
   },
   "outputs": [
    {
     "data": {
      "text/html": [
       "<div>\n",
       "<style scoped>\n",
       "    .dataframe tbody tr th:only-of-type {\n",
       "        vertical-align: middle;\n",
       "    }\n",
       "\n",
       "    .dataframe tbody tr th {\n",
       "        vertical-align: top;\n",
       "    }\n",
       "\n",
       "    .dataframe thead th {\n",
       "        text-align: right;\n",
       "    }\n",
       "</style>\n",
       "<table border=\"1\" class=\"dataframe\">\n",
       "  <thead>\n",
       "    <tr style=\"text-align: right;\">\n",
       "      <th></th>\n",
       "      <th>Dataset_1</th>\n",
       "      <th>Dataset_2</th>\n",
       "      <th>Dataset_3</th>\n",
       "      <th>Dataset_4</th>\n",
       "      <th>Dataset_5</th>\n",
       "      <th>Dataset_6</th>\n",
       "      <th>Dataset_7</th>\n",
       "      <th>Dataset_8</th>\n",
       "      <th>Dataset_9</th>\n",
       "      <th>Dataset_10</th>\n",
       "      <th>mean_fraction</th>\n",
       "    </tr>\n",
       "  </thead>\n",
       "  <tbody>\n",
       "    <tr>\n",
       "      <th>Normal</th>\n",
       "      <td>-0.329306</td>\n",
       "      <td>0.158123</td>\n",
       "      <td>-0.613876</td>\n",
       "      <td>0.155880</td>\n",
       "      <td>-0.068090</td>\n",
       "      <td>0.011985</td>\n",
       "      <td>-1.139193</td>\n",
       "      <td>0.190546</td>\n",
       "      <td>0.173944</td>\n",
       "      <td>-0.421341</td>\n",
       "      <td>-0.188133</td>\n",
       "    </tr>\n",
       "    <tr>\n",
       "      <th>Exponential</th>\n",
       "      <td>0.103228</td>\n",
       "      <td>0.185434</td>\n",
       "      <td>-0.181787</td>\n",
       "      <td>0.205837</td>\n",
       "      <td>0.076551</td>\n",
       "      <td>0.123745</td>\n",
       "      <td>-0.055955</td>\n",
       "      <td>0.160191</td>\n",
       "      <td>0.193092</td>\n",
       "      <td>0.008452</td>\n",
       "      <td>0.081879</td>\n",
       "    </tr>\n",
       "    <tr>\n",
       "      <th>Empirical</th>\n",
       "      <td>0.152909</td>\n",
       "      <td>0.243504</td>\n",
       "      <td>-0.098497</td>\n",
       "      <td>0.244979</td>\n",
       "      <td>0.113940</td>\n",
       "      <td>0.189408</td>\n",
       "      <td>0.007352</td>\n",
       "      <td>0.217606</td>\n",
       "      <td>0.238278</td>\n",
       "      <td>0.063869</td>\n",
       "      <td>0.137335</td>\n",
       "    </tr>\n",
       "  </tbody>\n",
       "</table>\n",
       "</div>"
      ],
      "text/plain": [
       "             Dataset_1  Dataset_2  Dataset_3  Dataset_4  Dataset_5  Dataset_6  \\\n",
       "Normal       -0.329306   0.158123  -0.613876   0.155880  -0.068090   0.011985   \n",
       "Exponential   0.103228   0.185434  -0.181787   0.205837   0.076551   0.123745   \n",
       "Empirical     0.152909   0.243504  -0.098497   0.244979   0.113940   0.189408   \n",
       "\n",
       "             Dataset_7  Dataset_8  Dataset_9  Dataset_10  mean_fraction  \n",
       "Normal       -1.139193   0.190546   0.173944   -0.421341      -0.188133  \n",
       "Exponential  -0.055955   0.160191   0.193092    0.008452       0.081879  \n",
       "Empirical     0.007352   0.217606   0.238278    0.063869       0.137335  "
      ]
     },
     "execution_count": 56,
     "metadata": {},
     "output_type": "execute_result"
    }
   ],
   "source": [
    "fraction_table"
   ]
  },
  {
   "cell_type": "code",
   "execution_count": 57,
   "metadata": {
    "scrolled": true
   },
   "outputs": [
    {
     "data": {
      "text/html": [
       "<div>\n",
       "<style scoped>\n",
       "    .dataframe tbody tr th:only-of-type {\n",
       "        vertical-align: middle;\n",
       "    }\n",
       "\n",
       "    .dataframe tbody tr th {\n",
       "        vertical-align: top;\n",
       "    }\n",
       "\n",
       "    .dataframe thead th {\n",
       "        text-align: right;\n",
       "    }\n",
       "</style>\n",
       "<table border=\"1\" class=\"dataframe\">\n",
       "  <thead>\n",
       "    <tr style=\"text-align: right;\">\n",
       "      <th></th>\n",
       "      <th>Dataset_1</th>\n",
       "      <th>Dataset_2</th>\n",
       "      <th>Dataset_3</th>\n",
       "      <th>Dataset_4</th>\n",
       "      <th>Dataset_5</th>\n",
       "      <th>Dataset_6</th>\n",
       "      <th>Dataset_7</th>\n",
       "      <th>Dataset_8</th>\n",
       "      <th>Dataset_9</th>\n",
       "      <th>Dataset_10</th>\n",
       "      <th>mean_profit</th>\n",
       "      <th>std_profit</th>\n",
       "    </tr>\n",
       "  </thead>\n",
       "  <tbody>\n",
       "    <tr>\n",
       "      <th>Normal</th>\n",
       "      <td>-13628.0</td>\n",
       "      <td>7156.0</td>\n",
       "      <td>-28420.0</td>\n",
       "      <td>7264.0</td>\n",
       "      <td>-3380.0</td>\n",
       "      <td>468.0</td>\n",
       "      <td>-55784.0</td>\n",
       "      <td>8788.0</td>\n",
       "      <td>7776.0</td>\n",
       "      <td>-17548.0</td>\n",
       "      <td>-8730.8</td>\n",
       "      <td>19759.174157</td>\n",
       "    </tr>\n",
       "    <tr>\n",
       "      <th>Exponential</th>\n",
       "      <td>4272.0</td>\n",
       "      <td>8392.0</td>\n",
       "      <td>-8416.0</td>\n",
       "      <td>9592.0</td>\n",
       "      <td>3800.0</td>\n",
       "      <td>4832.0</td>\n",
       "      <td>-2740.0</td>\n",
       "      <td>7388.0</td>\n",
       "      <td>8632.0</td>\n",
       "      <td>352.0</td>\n",
       "      <td>3610.4</td>\n",
       "      <td>5437.600412</td>\n",
       "    </tr>\n",
       "    <tr>\n",
       "      <th>Empirical</th>\n",
       "      <td>6328.0</td>\n",
       "      <td>11020.0</td>\n",
       "      <td>-4560.0</td>\n",
       "      <td>11416.0</td>\n",
       "      <td>5656.0</td>\n",
       "      <td>7396.0</td>\n",
       "      <td>360.0</td>\n",
       "      <td>10036.0</td>\n",
       "      <td>10652.0</td>\n",
       "      <td>2660.0</td>\n",
       "      <td>6096.4</td>\n",
       "      <td>4990.235089</td>\n",
       "    </tr>\n",
       "    <tr>\n",
       "      <th>Max</th>\n",
       "      <td>41384.0</td>\n",
       "      <td>45256.0</td>\n",
       "      <td>46296.0</td>\n",
       "      <td>46600.0</td>\n",
       "      <td>49640.0</td>\n",
       "      <td>39048.0</td>\n",
       "      <td>48968.0</td>\n",
       "      <td>46120.0</td>\n",
       "      <td>44704.0</td>\n",
       "      <td>41648.0</td>\n",
       "      <td>44966.4</td>\n",
       "      <td>3203.875254</td>\n",
       "    </tr>\n",
       "  </tbody>\n",
       "</table>\n",
       "</div>"
      ],
      "text/plain": [
       "             Dataset_1  Dataset_2  Dataset_3  Dataset_4  Dataset_5  Dataset_6  \\\n",
       "Normal        -13628.0     7156.0   -28420.0     7264.0    -3380.0      468.0   \n",
       "Exponential     4272.0     8392.0    -8416.0     9592.0     3800.0     4832.0   \n",
       "Empirical       6328.0    11020.0    -4560.0    11416.0     5656.0     7396.0   \n",
       "Max            41384.0    45256.0    46296.0    46600.0    49640.0    39048.0   \n",
       "\n",
       "             Dataset_7  Dataset_8  Dataset_9  Dataset_10  mean_profit  \\\n",
       "Normal        -55784.0     8788.0     7776.0    -17548.0      -8730.8   \n",
       "Exponential    -2740.0     7388.0     8632.0       352.0       3610.4   \n",
       "Empirical        360.0    10036.0    10652.0      2660.0       6096.4   \n",
       "Max            48968.0    46120.0    44704.0     41648.0      44966.4   \n",
       "\n",
       "               std_profit  \n",
       "Normal       19759.174157  \n",
       "Exponential   5437.600412  \n",
       "Empirical     4990.235089  \n",
       "Max           3203.875254  "
      ]
     },
     "execution_count": 57,
     "metadata": {},
     "output_type": "execute_result"
    }
   ],
   "source": [
    "profit_table"
   ]
  },
  {
   "cell_type": "code",
   "execution_count": 58,
   "metadata": {
    "scrolled": true
   },
   "outputs": [
    {
     "data": {
      "text/html": [
       "<div>\n",
       "<style scoped>\n",
       "    .dataframe tbody tr th:only-of-type {\n",
       "        vertical-align: middle;\n",
       "    }\n",
       "\n",
       "    .dataframe tbody tr th {\n",
       "        vertical-align: top;\n",
       "    }\n",
       "\n",
       "    .dataframe thead th {\n",
       "        text-align: right;\n",
       "    }\n",
       "</style>\n",
       "<table border=\"1\" class=\"dataframe\">\n",
       "  <thead>\n",
       "    <tr style=\"text-align: right;\">\n",
       "      <th></th>\n",
       "      <th>Cross Validation MSE</th>\n",
       "    </tr>\n",
       "  </thead>\n",
       "  <tbody>\n",
       "    <tr>\n",
       "      <th>Dataset_1</th>\n",
       "      <td>12440.800423</td>\n",
       "    </tr>\n",
       "    <tr>\n",
       "      <th>Dataset_2</th>\n",
       "      <td>3193.272218</td>\n",
       "    </tr>\n",
       "    <tr>\n",
       "      <th>Dataset_3</th>\n",
       "      <td>18128.141328</td>\n",
       "    </tr>\n",
       "    <tr>\n",
       "      <th>Dataset_4</th>\n",
       "      <td>3137.565040</td>\n",
       "    </tr>\n",
       "    <tr>\n",
       "      <th>Dataset_5</th>\n",
       "      <td>5750.328471</td>\n",
       "    </tr>\n",
       "    <tr>\n",
       "      <th>Dataset_6</th>\n",
       "      <td>4243.556300</td>\n",
       "    </tr>\n",
       "    <tr>\n",
       "      <th>Dataset_7</th>\n",
       "      <td>49313.797507</td>\n",
       "    </tr>\n",
       "    <tr>\n",
       "      <th>Dataset_8</th>\n",
       "      <td>2025.403800</td>\n",
       "    </tr>\n",
       "    <tr>\n",
       "      <th>Dataset_9</th>\n",
       "      <td>2467.686367</td>\n",
       "    </tr>\n",
       "    <tr>\n",
       "      <th>Dataset_10</th>\n",
       "      <td>12249.116286</td>\n",
       "    </tr>\n",
       "  </tbody>\n",
       "</table>\n",
       "</div>"
      ],
      "text/plain": [
       "            Cross Validation MSE\n",
       "Dataset_1           12440.800423\n",
       "Dataset_2            3193.272218\n",
       "Dataset_3           18128.141328\n",
       "Dataset_4            3137.565040\n",
       "Dataset_5            5750.328471\n",
       "Dataset_6            4243.556300\n",
       "Dataset_7           49313.797507\n",
       "Dataset_8            2025.403800\n",
       "Dataset_9            2467.686367\n",
       "Dataset_10          12249.116286"
      ]
     },
     "execution_count": 58,
     "metadata": {},
     "output_type": "execute_result"
    }
   ],
   "source": [
    "mse_table = pd.DataFrame(mse_lst,index=col_name,columns=['Cross Validation MSE'])\n",
    "mse_table"
   ]
  },
  {
   "cell_type": "code",
   "execution_count": 59,
   "metadata": {},
   "outputs": [
    {
     "name": "stdout",
     "output_type": "stream",
     "text": [
      "Average 10 fold CV MSE:  11294.966773976312\n"
     ]
    }
   ],
   "source": [
    "print(f\"Average 10 fold CV MSE:  {float(mse_table.mean())}\")"
   ]
  },
  {
   "cell_type": "code",
   "execution_count": 60,
   "metadata": {},
   "outputs": [],
   "source": [
    "name = \"2.2A_Poly_reg.csv\"\n",
    "mse_table.to_csv(f\".\\\\Model_CV_Result_MSE\\\\{name}\")"
   ]
  },
  {
   "cell_type": "code",
   "execution_count": 61,
   "metadata": {},
   "outputs": [],
   "source": [
    "f = pd.DataFrame(fraction_table['mean_fraction'])\n",
    "f = f.transpose().reset_index()\n",
    "f.to_csv(f\".\\\\Model_CV_Result_Efficiency\\\\{name}\")"
   ]
  },
  {
   "cell_type": "code",
   "execution_count": null,
   "metadata": {},
   "outputs": [],
   "source": []
  }
 ],
 "metadata": {
  "kernelspec": {
   "display_name": "Python 3",
   "language": "python",
   "name": "python3"
  },
  "language_info": {
   "codemirror_mode": {
    "name": "ipython",
    "version": 3
   },
   "file_extension": ".py",
   "mimetype": "text/x-python",
   "name": "python",
   "nbconvert_exporter": "python",
   "pygments_lexer": "ipython3",
   "version": "3.8.5"
  }
 },
 "nbformat": 4,
 "nbformat_minor": 4
}
