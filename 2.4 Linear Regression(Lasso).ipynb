{
 "cells": [
  {
   "cell_type": "code",
   "execution_count": 1,
   "metadata": {},
   "outputs": [],
   "source": [
    "import pandas as pd\n",
    "import numpy as np\n",
    "import matplotlib.pyplot as plt\n",
    "from sklearn.pipeline import Pipeline\n",
    "from sklearn.model_selection import GridSearchCV\n",
    "from sklearn.decomposition import PCA\n",
    "from sklearn.metrics import mean_squared_error as MSE\n",
    "from sklearn.linear_model import LinearRegression\n",
    "from sklearn.preprocessing import PolynomialFeatures\n",
    "from sklearn.model_selection import train_test_split\n",
    "from sklearn.linear_model import Lasso"
   ]
  },
  {
   "cell_type": "markdown",
   "metadata": {},
   "source": [
    "# Import the train datasets"
   ]
  },
  {
   "cell_type": "code",
   "execution_count": 2,
   "metadata": {},
   "outputs": [],
   "source": [
    "X_train = pd.read_csv(\"A_Normalised_train_data.csv\",index_col=0)\n",
    "Y_train = pd.read_csv(\"A_Log_sales_train.csv\",index_col=0)"
   ]
  },
  {
   "cell_type": "markdown",
   "metadata": {},
   "source": [
    "# Setup Pipeline"
   ]
  },
  {
   "cell_type": "code",
   "execution_count": 3,
   "metadata": {},
   "outputs": [],
   "source": [
    "pca=PCA()\n",
    "SLR = Lasso()"
   ]
  },
  {
   "cell_type": "code",
   "execution_count": 4,
   "metadata": {},
   "outputs": [],
   "source": [
    "# Step 1: PCA\n",
    "# Step 2: Model\n",
    "pipe = Pipeline(steps=[(\"pca\",pca),(\"SLR\",SLR)])"
   ]
  },
  {
   "cell_type": "code",
   "execution_count": 5,
   "metadata": {},
   "outputs": [],
   "source": [
    "param_grid = {\n",
    "    \"pca__n_components\": [5, 10, 30, 45, 60, 100 ,150 ,170],\n",
    "    \"SLR__alpha\":[0.001,0.01,0.05,0.1,0.2,0.5,1,2,8,10,100,1000,10000]\n",
    "}"
   ]
  },
  {
   "cell_type": "markdown",
   "metadata": {},
   "source": [
    "# Setup GridSearch"
   ]
  },
  {
   "cell_type": "code",
   "execution_count": 6,
   "metadata": {},
   "outputs": [],
   "source": [
    "score_metric = 'neg_mean_squared_error'\n",
    "search = GridSearchCV(pipe,param_grid,\n",
    "                      n_jobs=-1,\n",
    "                      cv=10,\n",
    "                      scoring=score_metric)"
   ]
  },
  {
   "cell_type": "code",
   "execution_count": 7,
   "metadata": {},
   "outputs": [
    {
     "data": {
      "text/plain": [
       "GridSearchCV(cv=10,\n",
       "             estimator=Pipeline(steps=[('pca', PCA()), ('SLR', Lasso())]),\n",
       "             n_jobs=-1,\n",
       "             param_grid={'SLR__alpha': [0.001, 0.01, 0.05, 0.1, 0.2, 0.5, 1, 2,\n",
       "                                        8, 10, 100, 1000, 10000],\n",
       "                         'pca__n_components': [5, 10, 30, 45, 60, 100, 150,\n",
       "                                               170]},\n",
       "             scoring='neg_mean_squared_error')"
      ]
     },
     "execution_count": 7,
     "metadata": {},
     "output_type": "execute_result"
    }
   ],
   "source": [
    "search.fit(X_train,Y_train)"
   ]
  },
  {
   "cell_type": "code",
   "execution_count": 8,
   "metadata": {},
   "outputs": [
    {
     "name": "stdout",
     "output_type": "stream",
     "text": [
      "Best parameter (CV score=-0.746):\n",
      "{'SLR__alpha': 0.01, 'pca__n_components': 150}\n"
     ]
    }
   ],
   "source": [
    "print(\"Best parameter (CV score=%0.3f):\" % search.best_score_)\n",
    "print(search.best_params_)"
   ]
  },
  {
   "cell_type": "code",
   "execution_count": 9,
   "metadata": {},
   "outputs": [
    {
     "data": {
      "text/html": [
       "<div>\n",
       "<style scoped>\n",
       "    .dataframe tbody tr th:only-of-type {\n",
       "        vertical-align: middle;\n",
       "    }\n",
       "\n",
       "    .dataframe tbody tr th {\n",
       "        vertical-align: top;\n",
       "    }\n",
       "\n",
       "    .dataframe thead th {\n",
       "        text-align: right;\n",
       "    }\n",
       "</style>\n",
       "<table border=\"1\" class=\"dataframe\">\n",
       "  <thead>\n",
       "    <tr style=\"text-align: right;\">\n",
       "      <th></th>\n",
       "      <th>mean_fit_time</th>\n",
       "      <th>std_fit_time</th>\n",
       "      <th>mean_score_time</th>\n",
       "      <th>std_score_time</th>\n",
       "      <th>param_SLR__alpha</th>\n",
       "      <th>param_pca__n_components</th>\n",
       "      <th>params</th>\n",
       "      <th>split0_test_score</th>\n",
       "      <th>split1_test_score</th>\n",
       "      <th>split2_test_score</th>\n",
       "      <th>split3_test_score</th>\n",
       "      <th>split4_test_score</th>\n",
       "      <th>split5_test_score</th>\n",
       "      <th>split6_test_score</th>\n",
       "      <th>split7_test_score</th>\n",
       "      <th>split8_test_score</th>\n",
       "      <th>split9_test_score</th>\n",
       "      <th>mean_test_score</th>\n",
       "      <th>std_test_score</th>\n",
       "      <th>rank_test_score</th>\n",
       "    </tr>\n",
       "  </thead>\n",
       "  <tbody>\n",
       "    <tr>\n",
       "      <th>15</th>\n",
       "      <td>0.104662</td>\n",
       "      <td>0.010002</td>\n",
       "      <td>0.007810</td>\n",
       "      <td>0.007810</td>\n",
       "      <td>0.01</td>\n",
       "      <td>170</td>\n",
       "      <td>{'SLR__alpha': 0.01, 'pca__n_components': 170}</td>\n",
       "      <td>-0.531375</td>\n",
       "      <td>-0.567232</td>\n",
       "      <td>-2.060751</td>\n",
       "      <td>-0.661931</td>\n",
       "      <td>-0.714571</td>\n",
       "      <td>-0.535235</td>\n",
       "      <td>-0.555752</td>\n",
       "      <td>-0.571384</td>\n",
       "      <td>-0.648288</td>\n",
       "      <td>-0.615047</td>\n",
       "      <td>-0.746157</td>\n",
       "      <td>0.441865</td>\n",
       "      <td>1</td>\n",
       "    </tr>\n",
       "    <tr>\n",
       "      <th>14</th>\n",
       "      <td>0.104603</td>\n",
       "      <td>0.011679</td>\n",
       "      <td>0.009125</td>\n",
       "      <td>0.006973</td>\n",
       "      <td>0.01</td>\n",
       "      <td>150</td>\n",
       "      <td>{'SLR__alpha': 0.01, 'pca__n_components': 150}</td>\n",
       "      <td>-0.531375</td>\n",
       "      <td>-0.567232</td>\n",
       "      <td>-2.060751</td>\n",
       "      <td>-0.661931</td>\n",
       "      <td>-0.714571</td>\n",
       "      <td>-0.535235</td>\n",
       "      <td>-0.555752</td>\n",
       "      <td>-0.571384</td>\n",
       "      <td>-0.648288</td>\n",
       "      <td>-0.615047</td>\n",
       "      <td>-0.746157</td>\n",
       "      <td>0.441865</td>\n",
       "      <td>1</td>\n",
       "    </tr>\n",
       "    <tr>\n",
       "      <th>6</th>\n",
       "      <td>0.089778</td>\n",
       "      <td>0.015435</td>\n",
       "      <td>0.011025</td>\n",
       "      <td>0.007872</td>\n",
       "      <td>0.001</td>\n",
       "      <td>150</td>\n",
       "      <td>{'SLR__alpha': 0.001, 'pca__n_components': 150}</td>\n",
       "      <td>-0.509401</td>\n",
       "      <td>-0.553616</td>\n",
       "      <td>-2.264204</td>\n",
       "      <td>-0.618603</td>\n",
       "      <td>-0.689344</td>\n",
       "      <td>-0.544362</td>\n",
       "      <td>-0.566967</td>\n",
       "      <td>-0.560109</td>\n",
       "      <td>-0.639439</td>\n",
       "      <td>-0.607608</td>\n",
       "      <td>-0.755365</td>\n",
       "      <td>0.505398</td>\n",
       "      <td>3</td>\n",
       "    </tr>\n",
       "    <tr>\n",
       "      <th>7</th>\n",
       "      <td>0.084379</td>\n",
       "      <td>0.012116</td>\n",
       "      <td>0.009373</td>\n",
       "      <td>0.007653</td>\n",
       "      <td>0.001</td>\n",
       "      <td>170</td>\n",
       "      <td>{'SLR__alpha': 0.001, 'pca__n_components': 170}</td>\n",
       "      <td>-0.509401</td>\n",
       "      <td>-0.553616</td>\n",
       "      <td>-2.264204</td>\n",
       "      <td>-0.618603</td>\n",
       "      <td>-0.689344</td>\n",
       "      <td>-0.544362</td>\n",
       "      <td>-0.566967</td>\n",
       "      <td>-0.560109</td>\n",
       "      <td>-0.639439</td>\n",
       "      <td>-0.607608</td>\n",
       "      <td>-0.755365</td>\n",
       "      <td>0.505398</td>\n",
       "      <td>3</td>\n",
       "    </tr>\n",
       "    <tr>\n",
       "      <th>5</th>\n",
       "      <td>0.170487</td>\n",
       "      <td>0.017742</td>\n",
       "      <td>0.007811</td>\n",
       "      <td>0.007811</td>\n",
       "      <td>0.001</td>\n",
       "      <td>100</td>\n",
       "      <td>{'SLR__alpha': 0.001, 'pca__n_components': 100}</td>\n",
       "      <td>-0.724476</td>\n",
       "      <td>-0.708513</td>\n",
       "      <td>-0.872834</td>\n",
       "      <td>-0.824325</td>\n",
       "      <td>-0.944104</td>\n",
       "      <td>-0.712266</td>\n",
       "      <td>-0.682279</td>\n",
       "      <td>-0.767336</td>\n",
       "      <td>-0.834141</td>\n",
       "      <td>-0.800802</td>\n",
       "      <td>-0.787108</td>\n",
       "      <td>0.079286</td>\n",
       "      <td>5</td>\n",
       "    </tr>\n",
       "    <tr>\n",
       "      <th>...</th>\n",
       "      <td>...</td>\n",
       "      <td>...</td>\n",
       "      <td>...</td>\n",
       "      <td>...</td>\n",
       "      <td>...</td>\n",
       "      <td>...</td>\n",
       "      <td>...</td>\n",
       "      <td>...</td>\n",
       "      <td>...</td>\n",
       "      <td>...</td>\n",
       "      <td>...</td>\n",
       "      <td>...</td>\n",
       "      <td>...</td>\n",
       "      <td>...</td>\n",
       "      <td>...</td>\n",
       "      <td>...</td>\n",
       "      <td>...</td>\n",
       "      <td>...</td>\n",
       "      <td>...</td>\n",
       "      <td>...</td>\n",
       "    </tr>\n",
       "    <tr>\n",
       "      <th>70</th>\n",
       "      <td>0.106842</td>\n",
       "      <td>0.027265</td>\n",
       "      <td>0.015168</td>\n",
       "      <td>0.013720</td>\n",
       "      <td>8</td>\n",
       "      <td>150</td>\n",
       "      <td>{'SLR__alpha': 8, 'pca__n_components': 150}</td>\n",
       "      <td>-1.335629</td>\n",
       "      <td>-1.278040</td>\n",
       "      <td>-1.387610</td>\n",
       "      <td>-1.688652</td>\n",
       "      <td>-1.626386</td>\n",
       "      <td>-1.130144</td>\n",
       "      <td>-1.393647</td>\n",
       "      <td>-1.347467</td>\n",
       "      <td>-1.382383</td>\n",
       "      <td>-1.351740</td>\n",
       "      <td>-1.392170</td>\n",
       "      <td>0.152115</td>\n",
       "      <td>49</td>\n",
       "    </tr>\n",
       "    <tr>\n",
       "      <th>71</th>\n",
       "      <td>0.105224</td>\n",
       "      <td>0.026500</td>\n",
       "      <td>0.014546</td>\n",
       "      <td>0.009812</td>\n",
       "      <td>8</td>\n",
       "      <td>170</td>\n",
       "      <td>{'SLR__alpha': 8, 'pca__n_components': 170}</td>\n",
       "      <td>-1.335629</td>\n",
       "      <td>-1.278040</td>\n",
       "      <td>-1.387610</td>\n",
       "      <td>-1.688652</td>\n",
       "      <td>-1.626386</td>\n",
       "      <td>-1.130144</td>\n",
       "      <td>-1.393647</td>\n",
       "      <td>-1.347467</td>\n",
       "      <td>-1.382383</td>\n",
       "      <td>-1.351740</td>\n",
       "      <td>-1.392170</td>\n",
       "      <td>0.152115</td>\n",
       "      <td>49</td>\n",
       "    </tr>\n",
       "    <tr>\n",
       "      <th>72</th>\n",
       "      <td>0.079814</td>\n",
       "      <td>0.026591</td>\n",
       "      <td>0.013830</td>\n",
       "      <td>0.010070</td>\n",
       "      <td>10</td>\n",
       "      <td>5</td>\n",
       "      <td>{'SLR__alpha': 10, 'pca__n_components': 5}</td>\n",
       "      <td>-1.335629</td>\n",
       "      <td>-1.278040</td>\n",
       "      <td>-1.387610</td>\n",
       "      <td>-1.688652</td>\n",
       "      <td>-1.626386</td>\n",
       "      <td>-1.130144</td>\n",
       "      <td>-1.393647</td>\n",
       "      <td>-1.347467</td>\n",
       "      <td>-1.382383</td>\n",
       "      <td>-1.351740</td>\n",
       "      <td>-1.392170</td>\n",
       "      <td>0.152115</td>\n",
       "      <td>49</td>\n",
       "    </tr>\n",
       "    <tr>\n",
       "      <th>74</th>\n",
       "      <td>0.099617</td>\n",
       "      <td>0.022239</td>\n",
       "      <td>0.013907</td>\n",
       "      <td>0.014369</td>\n",
       "      <td>10</td>\n",
       "      <td>30</td>\n",
       "      <td>{'SLR__alpha': 10, 'pca__n_components': 30}</td>\n",
       "      <td>-1.335629</td>\n",
       "      <td>-1.278040</td>\n",
       "      <td>-1.387610</td>\n",
       "      <td>-1.688652</td>\n",
       "      <td>-1.626386</td>\n",
       "      <td>-1.130144</td>\n",
       "      <td>-1.393647</td>\n",
       "      <td>-1.347467</td>\n",
       "      <td>-1.382383</td>\n",
       "      <td>-1.351740</td>\n",
       "      <td>-1.392170</td>\n",
       "      <td>0.152115</td>\n",
       "      <td>49</td>\n",
       "    </tr>\n",
       "    <tr>\n",
       "      <th>103</th>\n",
       "      <td>0.115200</td>\n",
       "      <td>0.045371</td>\n",
       "      <td>0.008434</td>\n",
       "      <td>0.007226</td>\n",
       "      <td>10000</td>\n",
       "      <td>170</td>\n",
       "      <td>{'SLR__alpha': 10000, 'pca__n_components': 170}</td>\n",
       "      <td>-1.335629</td>\n",
       "      <td>-1.278040</td>\n",
       "      <td>-1.387610</td>\n",
       "      <td>-1.688652</td>\n",
       "      <td>-1.626386</td>\n",
       "      <td>-1.130144</td>\n",
       "      <td>-1.393647</td>\n",
       "      <td>-1.347467</td>\n",
       "      <td>-1.382383</td>\n",
       "      <td>-1.351740</td>\n",
       "      <td>-1.392170</td>\n",
       "      <td>0.152115</td>\n",
       "      <td>49</td>\n",
       "    </tr>\n",
       "  </tbody>\n",
       "</table>\n",
       "<p>104 rows × 20 columns</p>\n",
       "</div>"
      ],
      "text/plain": [
       "     mean_fit_time  std_fit_time  mean_score_time  std_score_time  \\\n",
       "15        0.104662      0.010002         0.007810        0.007810   \n",
       "14        0.104603      0.011679         0.009125        0.006973   \n",
       "6         0.089778      0.015435         0.011025        0.007872   \n",
       "7         0.084379      0.012116         0.009373        0.007653   \n",
       "5         0.170487      0.017742         0.007811        0.007811   \n",
       "..             ...           ...              ...             ...   \n",
       "70        0.106842      0.027265         0.015168        0.013720   \n",
       "71        0.105224      0.026500         0.014546        0.009812   \n",
       "72        0.079814      0.026591         0.013830        0.010070   \n",
       "74        0.099617      0.022239         0.013907        0.014369   \n",
       "103       0.115200      0.045371         0.008434        0.007226   \n",
       "\n",
       "    param_SLR__alpha param_pca__n_components  \\\n",
       "15              0.01                     170   \n",
       "14              0.01                     150   \n",
       "6              0.001                     150   \n",
       "7              0.001                     170   \n",
       "5              0.001                     100   \n",
       "..               ...                     ...   \n",
       "70                 8                     150   \n",
       "71                 8                     170   \n",
       "72                10                       5   \n",
       "74                10                      30   \n",
       "103            10000                     170   \n",
       "\n",
       "                                              params  split0_test_score  \\\n",
       "15    {'SLR__alpha': 0.01, 'pca__n_components': 170}          -0.531375   \n",
       "14    {'SLR__alpha': 0.01, 'pca__n_components': 150}          -0.531375   \n",
       "6    {'SLR__alpha': 0.001, 'pca__n_components': 150}          -0.509401   \n",
       "7    {'SLR__alpha': 0.001, 'pca__n_components': 170}          -0.509401   \n",
       "5    {'SLR__alpha': 0.001, 'pca__n_components': 100}          -0.724476   \n",
       "..                                               ...                ...   \n",
       "70       {'SLR__alpha': 8, 'pca__n_components': 150}          -1.335629   \n",
       "71       {'SLR__alpha': 8, 'pca__n_components': 170}          -1.335629   \n",
       "72        {'SLR__alpha': 10, 'pca__n_components': 5}          -1.335629   \n",
       "74       {'SLR__alpha': 10, 'pca__n_components': 30}          -1.335629   \n",
       "103  {'SLR__alpha': 10000, 'pca__n_components': 170}          -1.335629   \n",
       "\n",
       "     split1_test_score  split2_test_score  split3_test_score  \\\n",
       "15           -0.567232          -2.060751          -0.661931   \n",
       "14           -0.567232          -2.060751          -0.661931   \n",
       "6            -0.553616          -2.264204          -0.618603   \n",
       "7            -0.553616          -2.264204          -0.618603   \n",
       "5            -0.708513          -0.872834          -0.824325   \n",
       "..                 ...                ...                ...   \n",
       "70           -1.278040          -1.387610          -1.688652   \n",
       "71           -1.278040          -1.387610          -1.688652   \n",
       "72           -1.278040          -1.387610          -1.688652   \n",
       "74           -1.278040          -1.387610          -1.688652   \n",
       "103          -1.278040          -1.387610          -1.688652   \n",
       "\n",
       "     split4_test_score  split5_test_score  split6_test_score  \\\n",
       "15           -0.714571          -0.535235          -0.555752   \n",
       "14           -0.714571          -0.535235          -0.555752   \n",
       "6            -0.689344          -0.544362          -0.566967   \n",
       "7            -0.689344          -0.544362          -0.566967   \n",
       "5            -0.944104          -0.712266          -0.682279   \n",
       "..                 ...                ...                ...   \n",
       "70           -1.626386          -1.130144          -1.393647   \n",
       "71           -1.626386          -1.130144          -1.393647   \n",
       "72           -1.626386          -1.130144          -1.393647   \n",
       "74           -1.626386          -1.130144          -1.393647   \n",
       "103          -1.626386          -1.130144          -1.393647   \n",
       "\n",
       "     split7_test_score  split8_test_score  split9_test_score  mean_test_score  \\\n",
       "15           -0.571384          -0.648288          -0.615047        -0.746157   \n",
       "14           -0.571384          -0.648288          -0.615047        -0.746157   \n",
       "6            -0.560109          -0.639439          -0.607608        -0.755365   \n",
       "7            -0.560109          -0.639439          -0.607608        -0.755365   \n",
       "5            -0.767336          -0.834141          -0.800802        -0.787108   \n",
       "..                 ...                ...                ...              ...   \n",
       "70           -1.347467          -1.382383          -1.351740        -1.392170   \n",
       "71           -1.347467          -1.382383          -1.351740        -1.392170   \n",
       "72           -1.347467          -1.382383          -1.351740        -1.392170   \n",
       "74           -1.347467          -1.382383          -1.351740        -1.392170   \n",
       "103          -1.347467          -1.382383          -1.351740        -1.392170   \n",
       "\n",
       "     std_test_score  rank_test_score  \n",
       "15         0.441865                1  \n",
       "14         0.441865                1  \n",
       "6          0.505398                3  \n",
       "7          0.505398                3  \n",
       "5          0.079286                5  \n",
       "..              ...              ...  \n",
       "70         0.152115               49  \n",
       "71         0.152115               49  \n",
       "72         0.152115               49  \n",
       "74         0.152115               49  \n",
       "103        0.152115               49  \n",
       "\n",
       "[104 rows x 20 columns]"
      ]
     },
     "execution_count": 9,
     "metadata": {},
     "output_type": "execute_result"
    }
   ],
   "source": [
    "df = pd.DataFrame(search.cv_results_)\n",
    "df = df.sort_values(by=['rank_test_score'])\n",
    "df"
   ]
  },
  {
   "cell_type": "markdown",
   "metadata": {},
   "source": [
    "# Best Hyperparameter"
   ]
  },
  {
   "cell_type": "code",
   "execution_count": 10,
   "metadata": {},
   "outputs": [
    {
     "name": "stdout",
     "output_type": "stream",
     "text": [
      "{'SLR__alpha': 0.01, 'pca__n_components': 170}\n"
     ]
    }
   ],
   "source": [
    "parms = pd.DataFrame(df['params'])\n",
    "for i in parms.iloc[0]:\n",
    "    print(i)"
   ]
  },
  {
   "cell_type": "markdown",
   "metadata": {},
   "source": [
    "# Evaluate Model $log(Sales)$"
   ]
  },
  {
   "cell_type": "code",
   "execution_count": 11,
   "metadata": {},
   "outputs": [],
   "source": [
    "best_pca =parms.iloc[0][0]['pca__n_components']\n",
    "best_alpha=parms.iloc[0][0]['SLR__alpha']"
   ]
  },
  {
   "cell_type": "code",
   "execution_count": 12,
   "metadata": {},
   "outputs": [],
   "source": [
    "X_train1,X_test1,Y_train1,Y_test1 = train_test_split(X_train,Y_train,test_size=0.2,random_state=132)\n"
   ]
  },
  {
   "cell_type": "code",
   "execution_count": 13,
   "metadata": {},
   "outputs": [
    {
     "data": {
      "text/plain": [
       "Lasso(alpha=0.01)"
      ]
     },
     "execution_count": 13,
     "metadata": {},
     "output_type": "execute_result"
    }
   ],
   "source": [
    "pca1 = PCA(n_components=best_pca)\n",
    "pca1.fit(X_train1)\n",
    "PX_train1 = pca1.transform(X_train1)\n",
    "SLR1 = Lasso(alpha=best_alpha)\n",
    "SLR1.fit(PX_train1,Y_train1)"
   ]
  },
  {
   "cell_type": "code",
   "execution_count": 14,
   "metadata": {},
   "outputs": [],
   "source": [
    "pca2 = PCA(n_components=best_pca)\n",
    "pca2.fit(X_test1)\n",
    "PX_test1 = pca2.transform(X_test1)"
   ]
  },
  {
   "cell_type": "code",
   "execution_count": 15,
   "metadata": {},
   "outputs": [
    {
     "data": {
      "text/plain": [
       "2.0335255985132306"
      ]
     },
     "execution_count": 15,
     "metadata": {},
     "output_type": "execute_result"
    }
   ],
   "source": [
    "MSE(SLR1.predict(PX_test1),Y_test1)"
   ]
  },
  {
   "cell_type": "code",
   "execution_count": 16,
   "metadata": {},
   "outputs": [],
   "source": [
    "result = pd.DataFrame(np.exp(Y_test1))"
   ]
  },
  {
   "cell_type": "code",
   "execution_count": 17,
   "metadata": {},
   "outputs": [],
   "source": [
    "result[\"Predicted_sales\"] = np.exp(SLR1.predict(PX_test1))"
   ]
  },
  {
   "cell_type": "code",
   "execution_count": 18,
   "metadata": {},
   "outputs": [
    {
     "data": {
      "text/plain": [
       "1177.3910329111498"
      ]
     },
     "execution_count": 18,
     "metadata": {},
     "output_type": "execute_result"
    }
   ],
   "source": [
    "MSE(result[\"sales\"],result[\"Predicted_sales\"])"
   ]
  },
  {
   "cell_type": "markdown",
   "metadata": {},
   "source": [
    "# Model using original sales data"
   ]
  },
  {
   "cell_type": "code",
   "execution_count": 19,
   "metadata": {},
   "outputs": [],
   "source": [
    "OY_train = pd.read_csv(\"A_sales_train.csv\",index_col=0)"
   ]
  },
  {
   "cell_type": "code",
   "execution_count": 20,
   "metadata": {},
   "outputs": [],
   "source": [
    "X_train2,X_test2,Y_train2,Y_test2 = train_test_split(X_train,OY_train,test_size=0.2,random_state=132)"
   ]
  },
  {
   "cell_type": "code",
   "execution_count": 21,
   "metadata": {},
   "outputs": [
    {
     "data": {
      "text/plain": [
       "Lasso(alpha=0.01)"
      ]
     },
     "execution_count": 21,
     "metadata": {},
     "output_type": "execute_result"
    }
   ],
   "source": [
    "pca3 = PCA(n_components=100)\n",
    "pca3.fit(X_train2)\n",
    "PX_train2 = pca3.transform(X_train2)\n",
    "SLR2 = Lasso(alpha=best_alpha)\n",
    "SLR2.fit(PX_train2,Y_train2)"
   ]
  },
  {
   "cell_type": "code",
   "execution_count": 22,
   "metadata": {},
   "outputs": [],
   "source": [
    "pca4 = PCA(n_components=100)\n",
    "pca4.fit(X_test2)\n",
    "PX_test2 = pca4.transform(X_test2)"
   ]
  },
  {
   "cell_type": "code",
   "execution_count": 23,
   "metadata": {},
   "outputs": [
    {
     "data": {
      "text/plain": [
       "1898.2367839682736"
      ]
     },
     "execution_count": 23,
     "metadata": {},
     "output_type": "execute_result"
    }
   ],
   "source": [
    "MSE(SLR2.predict(PX_test2),Y_test2)"
   ]
  },
  {
   "cell_type": "markdown",
   "metadata": {},
   "source": [
    "#### Notably model trained on log(Sales) has lower out-of-sample MSE than model with unmodified Sales"
   ]
  },
  {
   "cell_type": "markdown",
   "metadata": {},
   "source": [
    "# Inventory Decision"
   ]
  },
  {
   "cell_type": "code",
   "execution_count": 24,
   "metadata": {},
   "outputs": [],
   "source": [
    "residue = result['sales']-result['Predicted_sales']"
   ]
  },
  {
   "cell_type": "code",
   "execution_count": 25,
   "metadata": {},
   "outputs": [
    {
     "data": {
      "image/png": "[encoded data removed]",
      "text/plain": [
       "<Figure size 432x288 with 1 Axes>"
      ]
     },
     "metadata": {
      "needs_background": "light"
     },
     "output_type": "display_data"
    }
   ],
   "source": [
    "import scipy\n",
    "scipy.stats.probplot(residue, dist=\"norm\", plot=plt)\n",
    "plt.show()"
   ]
  },
  {
   "cell_type": "code",
   "execution_count": 26,
   "metadata": {},
   "outputs": [
    {
     "data": {
      "image/png": "[encoded data removed]",
      "text/plain": [
       "<Figure size 432x288 with 1 Axes>"
      ]
     },
     "metadata": {
      "needs_background": "light"
     },
     "output_type": "display_data"
    }
   ],
   "source": [
    "scipy.stats.probplot(residue, dist=\"expon\", plot=plt)\n",
    "plt.show()"
   ]
  },
  {
   "cell_type": "code",
   "execution_count": 27,
   "metadata": {},
   "outputs": [],
   "source": [
    "import scipy.stats as sct"
   ]
  },
  {
   "cell_type": "code",
   "execution_count": 28,
   "metadata": {},
   "outputs": [
    {
     "data": {
      "text/plain": [
       "(4, 8)"
      ]
     },
     "execution_count": 28,
     "metadata": {},
     "output_type": "execute_result"
    }
   ],
   "source": [
    "Price=20\n",
    "Cost=12\n",
    "Salvage=8\n",
    "Over=Cost - Salvage\n",
    "Under=Price - Cost\n",
    "Over, Under"
   ]
  },
  {
   "cell_type": "code",
   "execution_count": 29,
   "metadata": {},
   "outputs": [],
   "source": [
    "s = residue.std()\n",
    "opt_dec_N=np.ceil(sct.norm.ppf(Under/(Under+Over))*s + result['Predicted_sales'])"
   ]
  },
  {
   "cell_type": "code",
   "execution_count": 30,
   "metadata": {},
   "outputs": [],
   "source": [
    "opt_dec_E=np.ceil((-result['Predicted_sales'])*np.log(1-(Under/(Under+Over))))"
   ]
  },
  {
   "cell_type": "markdown",
   "metadata": {},
   "source": [
    "# Out-of-samples Profit"
   ]
  },
  {
   "cell_type": "code",
   "execution_count": 31,
   "metadata": {},
   "outputs": [
    {
     "data": {
      "text/plain": [
       "82096.0"
      ]
     },
     "execution_count": 31,
     "metadata": {},
     "output_type": "execute_result"
    }
   ],
   "source": [
    "#max profit for test data set\n",
    "max_profit = result['sales'].sum()*(Price-Cost)\n",
    "max_profit"
   ]
  },
  {
   "cell_type": "code",
   "execution_count": 32,
   "metadata": {},
   "outputs": [],
   "source": [
    "def profit(demand,inv):\n",
    "    return (Price-Salvage)*np.minimum(demand,inv)-(Cost-Salvage)*inv"
   ]
  },
  {
   "cell_type": "code",
   "execution_count": 33,
   "metadata": {},
   "outputs": [
    {
     "data": {
      "text/plain": [
       "22524.0"
      ]
     },
     "execution_count": 33,
     "metadata": {},
     "output_type": "execute_result"
    }
   ],
   "source": [
    "profit_lst_N = profit(result['sales'],opt_dec_N)\n",
    "profit_lst_N.sum()"
   ]
  },
  {
   "cell_type": "code",
   "execution_count": 34,
   "metadata": {},
   "outputs": [
    {
     "data": {
      "text/plain": [
       "22460.0"
      ]
     },
     "execution_count": 34,
     "metadata": {},
     "output_type": "execute_result"
    }
   ],
   "source": [
    "profit_lst_E = profit(result['sales'],opt_dec_E)\n",
    "profit_lst_E.sum()"
   ]
  },
  {
   "cell_type": "code",
   "execution_count": null,
   "metadata": {},
   "outputs": [],
   "source": []
  },
  {
   "cell_type": "code",
   "execution_count": null,
   "metadata": {},
   "outputs": [],
   "source": []
  }
 ],
 "metadata": {
  "kernelspec": {
   "display_name": "Python 3",
   "language": "python",
   "name": "python3"
  },
  "language_info": {
   "codemirror_mode": {
    "name": "ipython",
    "version": 3
   },
   "file_extension": ".py",
   "mimetype": "text/x-python",
   "name": "python",
   "nbconvert_exporter": "python",
   "pygments_lexer": "ipython3",
   "version": "3.8.5"
  }
 },
 "nbformat": 4,
 "nbformat_minor": 4
}
