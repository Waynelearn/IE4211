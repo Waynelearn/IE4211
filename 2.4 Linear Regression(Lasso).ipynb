{
 "cells": [
  {
   "cell_type": "code",
   "execution_count": 1,
   "metadata": {},
   "outputs": [],
   "source": [
    "import pandas as pd\n",
    "import numpy as np\n",
    "import matplotlib.pyplot as plt\n",
    "from sklearn.pipeline import Pipeline\n",
    "from sklearn.model_selection import GridSearchCV\n",
    "from sklearn.decomposition import PCA\n",
    "from sklearn.metrics import mean_squared_error as MSE\n",
    "from sklearn.linear_model import LinearRegression\n",
    "from sklearn.preprocessing import PolynomialFeatures\n",
    "from sklearn.model_selection import train_test_split\n",
    "from sklearn.linear_model import Lasso"
   ]
  },
  {
   "cell_type": "code",
   "execution_count": 2,
   "metadata": {},
   "outputs": [],
   "source": [
    "np.random.seed(42)"
   ]
  },
  {
   "cell_type": "markdown",
   "metadata": {},
   "source": [
    "# 1. Import the train datasets"
   ]
  },
  {
   "cell_type": "code",
   "execution_count": 3,
   "metadata": {},
   "outputs": [],
   "source": [
    "X_train = pd.read_csv(\"A_Normalised_train_data.csv\",index_col=0)\n",
    "Y_train = pd.read_csv(\"A_Log_sales_train.csv\",index_col=0)"
   ]
  },
  {
   "cell_type": "code",
   "execution_count": 4,
   "metadata": {},
   "outputs": [],
   "source": [
    "Model_1 = Lasso()"
   ]
  },
  {
   "cell_type": "markdown",
   "metadata": {},
   "source": [
    "# 2. Setup Pipeline"
   ]
  },
  {
   "cell_type": "code",
   "execution_count": 5,
   "metadata": {},
   "outputs": [],
   "source": [
    "pca=PCA()\n",
    "SLR = Model_1"
   ]
  },
  {
   "cell_type": "code",
   "execution_count": 6,
   "metadata": {},
   "outputs": [],
   "source": [
    "# Step 1: PCA\n",
    "# Step 2: Model\n",
    "pipe = Pipeline(steps=[(\"pca\",pca),(\"SLR\",SLR)])"
   ]
  },
  {
   "cell_type": "code",
   "execution_count": 7,
   "metadata": {},
   "outputs": [],
   "source": [
    "param_grid = {\n",
    "    \"pca__n_components\": [5, 10, 30, 45, 60, 100 ,150 ,170],\n",
    "    \"SLR__alpha\":[0.05,0.1,0.2,0.5,1,2,8,10,100,1000,10000]\n",
    "}"
   ]
  },
  {
   "cell_type": "markdown",
   "metadata": {},
   "source": [
    "# 3. Setup GridSearch"
   ]
  },
  {
   "cell_type": "code",
   "execution_count": 8,
   "metadata": {},
   "outputs": [],
   "source": [
    "score_metric = 'neg_mean_squared_error'\n",
    "search = GridSearchCV(pipe,param_grid,\n",
    "                      n_jobs=-1,\n",
    "                      cv=10,\n",
    "                      scoring=score_metric)"
   ]
  },
  {
   "cell_type": "code",
   "execution_count": 9,
   "metadata": {},
   "outputs": [
    {
     "data": {
      "text/plain": [
       "GridSearchCV(cv=10,\n",
       "             estimator=Pipeline(steps=[('pca', PCA()), ('SLR', Lasso())]),\n",
       "             n_jobs=-1,\n",
       "             param_grid={'SLR__alpha': [0.05, 0.1, 0.2, 0.5, 1, 2, 8, 10, 100,\n",
       "                                        1000, 10000],\n",
       "                         'pca__n_components': [5, 10, 30, 45, 60, 100, 150,\n",
       "                                               170]},\n",
       "             scoring='neg_mean_squared_error')"
      ]
     },
     "execution_count": 9,
     "metadata": {},
     "output_type": "execute_result"
    }
   ],
   "source": [
    "search.fit(X_train,Y_train)"
   ]
  },
  {
   "cell_type": "code",
   "execution_count": 10,
   "metadata": {},
   "outputs": [
    {
     "name": "stdout",
     "output_type": "stream",
     "text": [
      "Best parameter (CV score=-0.854):\n",
      "{'SLR__alpha': 0.05, 'pca__n_components': 100}\n"
     ]
    }
   ],
   "source": [
    "print(\"Best parameter (CV score=%0.3f):\" % search.best_score_)\n",
    "print(search.best_params_)"
   ]
  },
  {
   "cell_type": "code",
   "execution_count": 11,
   "metadata": {},
   "outputs": [
    {
     "data": {
      "text/html": [
       "<div>\n",
       "<style scoped>\n",
       "    .dataframe tbody tr th:only-of-type {\n",
       "        vertical-align: middle;\n",
       "    }\n",
       "\n",
       "    .dataframe tbody tr th {\n",
       "        vertical-align: top;\n",
       "    }\n",
       "\n",
       "    .dataframe thead th {\n",
       "        text-align: right;\n",
       "    }\n",
       "</style>\n",
       "<table border=\"1\" class=\"dataframe\">\n",
       "  <thead>\n",
       "    <tr style=\"text-align: right;\">\n",
       "      <th></th>\n",
       "      <th>mean_fit_time</th>\n",
       "      <th>std_fit_time</th>\n",
       "      <th>mean_score_time</th>\n",
       "      <th>std_score_time</th>\n",
       "      <th>param_SLR__alpha</th>\n",
       "      <th>param_pca__n_components</th>\n",
       "      <th>params</th>\n",
       "      <th>split0_test_score</th>\n",
       "      <th>split1_test_score</th>\n",
       "      <th>split2_test_score</th>\n",
       "      <th>split3_test_score</th>\n",
       "      <th>split4_test_score</th>\n",
       "      <th>split5_test_score</th>\n",
       "      <th>split6_test_score</th>\n",
       "      <th>split7_test_score</th>\n",
       "      <th>split8_test_score</th>\n",
       "      <th>split9_test_score</th>\n",
       "      <th>mean_test_score</th>\n",
       "      <th>std_test_score</th>\n",
       "      <th>rank_test_score</th>\n",
       "    </tr>\n",
       "  </thead>\n",
       "  <tbody>\n",
       "    <tr>\n",
       "      <th>5</th>\n",
       "      <td>0.170620</td>\n",
       "      <td>0.018965</td>\n",
       "      <td>0.005925</td>\n",
       "      <td>0.006740</td>\n",
       "      <td>0.05</td>\n",
       "      <td>100</td>\n",
       "      <td>{'SLR__alpha': 0.05, 'pca__n_components': 100}</td>\n",
       "      <td>-0.785877</td>\n",
       "      <td>-0.796579</td>\n",
       "      <td>-0.955375</td>\n",
       "      <td>-0.935210</td>\n",
       "      <td>-1.009447</td>\n",
       "      <td>-0.713204</td>\n",
       "      <td>-0.743926</td>\n",
       "      <td>-0.843259</td>\n",
       "      <td>-0.877286</td>\n",
       "      <td>-0.884554</td>\n",
       "      <td>-0.854472</td>\n",
       "      <td>0.090831</td>\n",
       "      <td>1</td>\n",
       "    </tr>\n",
       "    <tr>\n",
       "      <th>6</th>\n",
       "      <td>0.095437</td>\n",
       "      <td>0.012651</td>\n",
       "      <td>0.012191</td>\n",
       "      <td>0.006392</td>\n",
       "      <td>0.05</td>\n",
       "      <td>150</td>\n",
       "      <td>{'SLR__alpha': 0.05, 'pca__n_components': 150}</td>\n",
       "      <td>-0.730444</td>\n",
       "      <td>-0.748982</td>\n",
       "      <td>-1.489613</td>\n",
       "      <td>-0.924766</td>\n",
       "      <td>-0.947118</td>\n",
       "      <td>-0.667845</td>\n",
       "      <td>-0.687494</td>\n",
       "      <td>-0.798476</td>\n",
       "      <td>-0.835862</td>\n",
       "      <td>-0.808362</td>\n",
       "      <td>-0.863896</td>\n",
       "      <td>0.226024</td>\n",
       "      <td>2</td>\n",
       "    </tr>\n",
       "    <tr>\n",
       "      <th>7</th>\n",
       "      <td>0.104364</td>\n",
       "      <td>0.015273</td>\n",
       "      <td>0.011725</td>\n",
       "      <td>0.004624</td>\n",
       "      <td>0.05</td>\n",
       "      <td>170</td>\n",
       "      <td>{'SLR__alpha': 0.05, 'pca__n_components': 170}</td>\n",
       "      <td>-0.730444</td>\n",
       "      <td>-0.748982</td>\n",
       "      <td>-1.489613</td>\n",
       "      <td>-0.924766</td>\n",
       "      <td>-0.947118</td>\n",
       "      <td>-0.667845</td>\n",
       "      <td>-0.687494</td>\n",
       "      <td>-0.798476</td>\n",
       "      <td>-0.835862</td>\n",
       "      <td>-0.808362</td>\n",
       "      <td>-0.863896</td>\n",
       "      <td>0.226024</td>\n",
       "      <td>2</td>\n",
       "    </tr>\n",
       "    <tr>\n",
       "      <th>4</th>\n",
       "      <td>0.109873</td>\n",
       "      <td>0.014604</td>\n",
       "      <td>0.011239</td>\n",
       "      <td>0.008046</td>\n",
       "      <td>0.05</td>\n",
       "      <td>60</td>\n",
       "      <td>{'SLR__alpha': 0.05, 'pca__n_components': 60}</td>\n",
       "      <td>-0.788921</td>\n",
       "      <td>-0.802672</td>\n",
       "      <td>-0.996372</td>\n",
       "      <td>-0.943503</td>\n",
       "      <td>-1.028498</td>\n",
       "      <td>-0.728141</td>\n",
       "      <td>-0.774549</td>\n",
       "      <td>-0.851798</td>\n",
       "      <td>-0.879780</td>\n",
       "      <td>-0.926341</td>\n",
       "      <td>-0.872058</td>\n",
       "      <td>0.095076</td>\n",
       "      <td>4</td>\n",
       "    </tr>\n",
       "    <tr>\n",
       "      <th>3</th>\n",
       "      <td>0.111119</td>\n",
       "      <td>0.009490</td>\n",
       "      <td>0.008576</td>\n",
       "      <td>0.006128</td>\n",
       "      <td>0.05</td>\n",
       "      <td>45</td>\n",
       "      <td>{'SLR__alpha': 0.05, 'pca__n_components': 45}</td>\n",
       "      <td>-0.805630</td>\n",
       "      <td>-0.848194</td>\n",
       "      <td>-0.980529</td>\n",
       "      <td>-0.977448</td>\n",
       "      <td>-1.080263</td>\n",
       "      <td>-0.737760</td>\n",
       "      <td>-0.775139</td>\n",
       "      <td>-0.857397</td>\n",
       "      <td>-0.882057</td>\n",
       "      <td>-0.923783</td>\n",
       "      <td>-0.886820</td>\n",
       "      <td>0.099722</td>\n",
       "      <td>5</td>\n",
       "    </tr>\n",
       "    <tr>\n",
       "      <th>...</th>\n",
       "      <td>...</td>\n",
       "      <td>...</td>\n",
       "      <td>...</td>\n",
       "      <td>...</td>\n",
       "      <td>...</td>\n",
       "      <td>...</td>\n",
       "      <td>...</td>\n",
       "      <td>...</td>\n",
       "      <td>...</td>\n",
       "      <td>...</td>\n",
       "      <td>...</td>\n",
       "      <td>...</td>\n",
       "      <td>...</td>\n",
       "      <td>...</td>\n",
       "      <td>...</td>\n",
       "      <td>...</td>\n",
       "      <td>...</td>\n",
       "      <td>...</td>\n",
       "      <td>...</td>\n",
       "      <td>...</td>\n",
       "    </tr>\n",
       "    <tr>\n",
       "      <th>54</th>\n",
       "      <td>0.111944</td>\n",
       "      <td>0.025215</td>\n",
       "      <td>0.010796</td>\n",
       "      <td>0.005081</td>\n",
       "      <td>8</td>\n",
       "      <td>150</td>\n",
       "      <td>{'SLR__alpha': 8, 'pca__n_components': 150}</td>\n",
       "      <td>-1.335629</td>\n",
       "      <td>-1.278040</td>\n",
       "      <td>-1.387610</td>\n",
       "      <td>-1.688652</td>\n",
       "      <td>-1.626386</td>\n",
       "      <td>-1.130144</td>\n",
       "      <td>-1.393647</td>\n",
       "      <td>-1.347467</td>\n",
       "      <td>-1.382383</td>\n",
       "      <td>-1.351740</td>\n",
       "      <td>-1.392170</td>\n",
       "      <td>0.152115</td>\n",
       "      <td>33</td>\n",
       "    </tr>\n",
       "    <tr>\n",
       "      <th>55</th>\n",
       "      <td>0.095830</td>\n",
       "      <td>0.010025</td>\n",
       "      <td>0.006581</td>\n",
       "      <td>0.004990</td>\n",
       "      <td>8</td>\n",
       "      <td>170</td>\n",
       "      <td>{'SLR__alpha': 8, 'pca__n_components': 170}</td>\n",
       "      <td>-1.335629</td>\n",
       "      <td>-1.278040</td>\n",
       "      <td>-1.387610</td>\n",
       "      <td>-1.688652</td>\n",
       "      <td>-1.626386</td>\n",
       "      <td>-1.130144</td>\n",
       "      <td>-1.393647</td>\n",
       "      <td>-1.347467</td>\n",
       "      <td>-1.382383</td>\n",
       "      <td>-1.351740</td>\n",
       "      <td>-1.392170</td>\n",
       "      <td>0.152115</td>\n",
       "      <td>33</td>\n",
       "    </tr>\n",
       "    <tr>\n",
       "      <th>56</th>\n",
       "      <td>0.064197</td>\n",
       "      <td>0.009190</td>\n",
       "      <td>0.008655</td>\n",
       "      <td>0.006741</td>\n",
       "      <td>10</td>\n",
       "      <td>5</td>\n",
       "      <td>{'SLR__alpha': 10, 'pca__n_components': 5}</td>\n",
       "      <td>-1.335629</td>\n",
       "      <td>-1.278040</td>\n",
       "      <td>-1.387610</td>\n",
       "      <td>-1.688652</td>\n",
       "      <td>-1.626386</td>\n",
       "      <td>-1.130144</td>\n",
       "      <td>-1.393647</td>\n",
       "      <td>-1.347467</td>\n",
       "      <td>-1.382383</td>\n",
       "      <td>-1.351740</td>\n",
       "      <td>-1.392170</td>\n",
       "      <td>0.152115</td>\n",
       "      <td>33</td>\n",
       "    </tr>\n",
       "    <tr>\n",
       "      <th>58</th>\n",
       "      <td>0.090909</td>\n",
       "      <td>0.033447</td>\n",
       "      <td>0.016991</td>\n",
       "      <td>0.019900</td>\n",
       "      <td>10</td>\n",
       "      <td>30</td>\n",
       "      <td>{'SLR__alpha': 10, 'pca__n_components': 30}</td>\n",
       "      <td>-1.335629</td>\n",
       "      <td>-1.278040</td>\n",
       "      <td>-1.387610</td>\n",
       "      <td>-1.688652</td>\n",
       "      <td>-1.626386</td>\n",
       "      <td>-1.130144</td>\n",
       "      <td>-1.393647</td>\n",
       "      <td>-1.347467</td>\n",
       "      <td>-1.382383</td>\n",
       "      <td>-1.351740</td>\n",
       "      <td>-1.392170</td>\n",
       "      <td>0.152115</td>\n",
       "      <td>33</td>\n",
       "    </tr>\n",
       "    <tr>\n",
       "      <th>87</th>\n",
       "      <td>0.102658</td>\n",
       "      <td>0.010763</td>\n",
       "      <td>0.010643</td>\n",
       "      <td>0.002155</td>\n",
       "      <td>10000</td>\n",
       "      <td>170</td>\n",
       "      <td>{'SLR__alpha': 10000, 'pca__n_components': 170}</td>\n",
       "      <td>-1.335629</td>\n",
       "      <td>-1.278040</td>\n",
       "      <td>-1.387610</td>\n",
       "      <td>-1.688652</td>\n",
       "      <td>-1.626386</td>\n",
       "      <td>-1.130144</td>\n",
       "      <td>-1.393647</td>\n",
       "      <td>-1.347467</td>\n",
       "      <td>-1.382383</td>\n",
       "      <td>-1.351740</td>\n",
       "      <td>-1.392170</td>\n",
       "      <td>0.152115</td>\n",
       "      <td>33</td>\n",
       "    </tr>\n",
       "  </tbody>\n",
       "</table>\n",
       "<p>88 rows × 20 columns</p>\n",
       "</div>"
      ],
      "text/plain": [
       "    mean_fit_time  std_fit_time  mean_score_time  std_score_time  \\\n",
       "5        0.170620      0.018965         0.005925        0.006740   \n",
       "6        0.095437      0.012651         0.012191        0.006392   \n",
       "7        0.104364      0.015273         0.011725        0.004624   \n",
       "4        0.109873      0.014604         0.011239        0.008046   \n",
       "3        0.111119      0.009490         0.008576        0.006128   \n",
       "..            ...           ...              ...             ...   \n",
       "54       0.111944      0.025215         0.010796        0.005081   \n",
       "55       0.095830      0.010025         0.006581        0.004990   \n",
       "56       0.064197      0.009190         0.008655        0.006741   \n",
       "58       0.090909      0.033447         0.016991        0.019900   \n",
       "87       0.102658      0.010763         0.010643        0.002155   \n",
       "\n",
       "   param_SLR__alpha param_pca__n_components  \\\n",
       "5              0.05                     100   \n",
       "6              0.05                     150   \n",
       "7              0.05                     170   \n",
       "4              0.05                      60   \n",
       "3              0.05                      45   \n",
       "..              ...                     ...   \n",
       "54                8                     150   \n",
       "55                8                     170   \n",
       "56               10                       5   \n",
       "58               10                      30   \n",
       "87            10000                     170   \n",
       "\n",
       "                                             params  split0_test_score  \\\n",
       "5    {'SLR__alpha': 0.05, 'pca__n_components': 100}          -0.785877   \n",
       "6    {'SLR__alpha': 0.05, 'pca__n_components': 150}          -0.730444   \n",
       "7    {'SLR__alpha': 0.05, 'pca__n_components': 170}          -0.730444   \n",
       "4     {'SLR__alpha': 0.05, 'pca__n_components': 60}          -0.788921   \n",
       "3     {'SLR__alpha': 0.05, 'pca__n_components': 45}          -0.805630   \n",
       "..                                              ...                ...   \n",
       "54      {'SLR__alpha': 8, 'pca__n_components': 150}          -1.335629   \n",
       "55      {'SLR__alpha': 8, 'pca__n_components': 170}          -1.335629   \n",
       "56       {'SLR__alpha': 10, 'pca__n_components': 5}          -1.335629   \n",
       "58      {'SLR__alpha': 10, 'pca__n_components': 30}          -1.335629   \n",
       "87  {'SLR__alpha': 10000, 'pca__n_components': 170}          -1.335629   \n",
       "\n",
       "    split1_test_score  split2_test_score  split3_test_score  \\\n",
       "5           -0.796579          -0.955375          -0.935210   \n",
       "6           -0.748982          -1.489613          -0.924766   \n",
       "7           -0.748982          -1.489613          -0.924766   \n",
       "4           -0.802672          -0.996372          -0.943503   \n",
       "3           -0.848194          -0.980529          -0.977448   \n",
       "..                ...                ...                ...   \n",
       "54          -1.278040          -1.387610          -1.688652   \n",
       "55          -1.278040          -1.387610          -1.688652   \n",
       "56          -1.278040          -1.387610          -1.688652   \n",
       "58          -1.278040          -1.387610          -1.688652   \n",
       "87          -1.278040          -1.387610          -1.688652   \n",
       "\n",
       "    split4_test_score  split5_test_score  split6_test_score  \\\n",
       "5           -1.009447          -0.713204          -0.743926   \n",
       "6           -0.947118          -0.667845          -0.687494   \n",
       "7           -0.947118          -0.667845          -0.687494   \n",
       "4           -1.028498          -0.728141          -0.774549   \n",
       "3           -1.080263          -0.737760          -0.775139   \n",
       "..                ...                ...                ...   \n",
       "54          -1.626386          -1.130144          -1.393647   \n",
       "55          -1.626386          -1.130144          -1.393647   \n",
       "56          -1.626386          -1.130144          -1.393647   \n",
       "58          -1.626386          -1.130144          -1.393647   \n",
       "87          -1.626386          -1.130144          -1.393647   \n",
       "\n",
       "    split7_test_score  split8_test_score  split9_test_score  mean_test_score  \\\n",
       "5           -0.843259          -0.877286          -0.884554        -0.854472   \n",
       "6           -0.798476          -0.835862          -0.808362        -0.863896   \n",
       "7           -0.798476          -0.835862          -0.808362        -0.863896   \n",
       "4           -0.851798          -0.879780          -0.926341        -0.872058   \n",
       "3           -0.857397          -0.882057          -0.923783        -0.886820   \n",
       "..                ...                ...                ...              ...   \n",
       "54          -1.347467          -1.382383          -1.351740        -1.392170   \n",
       "55          -1.347467          -1.382383          -1.351740        -1.392170   \n",
       "56          -1.347467          -1.382383          -1.351740        -1.392170   \n",
       "58          -1.347467          -1.382383          -1.351740        -1.392170   \n",
       "87          -1.347467          -1.382383          -1.351740        -1.392170   \n",
       "\n",
       "    std_test_score  rank_test_score  \n",
       "5         0.090831                1  \n",
       "6         0.226024                2  \n",
       "7         0.226024                2  \n",
       "4         0.095076                4  \n",
       "3         0.099722                5  \n",
       "..             ...              ...  \n",
       "54        0.152115               33  \n",
       "55        0.152115               33  \n",
       "56        0.152115               33  \n",
       "58        0.152115               33  \n",
       "87        0.152115               33  \n",
       "\n",
       "[88 rows x 20 columns]"
      ]
     },
     "execution_count": 11,
     "metadata": {},
     "output_type": "execute_result"
    }
   ],
   "source": [
    "df = pd.DataFrame(search.cv_results_)\n",
    "df = df.sort_values(by=['rank_test_score'])\n",
    "df"
   ]
  },
  {
   "cell_type": "markdown",
   "metadata": {},
   "source": [
    "# 4. Best Hyperparameter"
   ]
  },
  {
   "cell_type": "code",
   "execution_count": 12,
   "metadata": {},
   "outputs": [
    {
     "name": "stdout",
     "output_type": "stream",
     "text": [
      "{'SLR__alpha': 0.05, 'pca__n_components': 100}\n"
     ]
    }
   ],
   "source": [
    "parms = pd.DataFrame(df['params'])\n",
    "for i in parms.iloc[0]:\n",
    "    print(i)"
   ]
  },
  {
   "cell_type": "markdown",
   "metadata": {},
   "source": [
    "# 5. Evaluate Model $log(Sales)$"
   ]
  },
  {
   "cell_type": "code",
   "execution_count": 13,
   "metadata": {},
   "outputs": [],
   "source": [
    "best_pca =parms.iloc[0][0]['pca__n_components']\n",
    "best_alpha=parms.iloc[0][0]['SLR__alpha']"
   ]
  },
  {
   "cell_type": "code",
   "execution_count": 14,
   "metadata": {},
   "outputs": [],
   "source": [
    "Model_2 = Lasso(alpha=best_alpha)"
   ]
  },
  {
   "cell_type": "code",
   "execution_count": 15,
   "metadata": {},
   "outputs": [],
   "source": [
    "X_train1,X_test1,Y_train1,Y_test1 = train_test_split(X_train,Y_train,test_size=0.2,random_state=132)\n"
   ]
  },
  {
   "cell_type": "code",
   "execution_count": 16,
   "metadata": {},
   "outputs": [
    {
     "data": {
      "text/plain": [
       "Lasso(alpha=0.05)"
      ]
     },
     "execution_count": 16,
     "metadata": {},
     "output_type": "execute_result"
    }
   ],
   "source": [
    "pca1 = PCA(n_components=100)\n",
    "pca1.fit(X_train1)\n",
    "PX_train1 = pca1.transform(X_train1)\n",
    "SLR1 = Model_2\n",
    "SLR1.fit(PX_train1,Y_train1)"
   ]
  },
  {
   "cell_type": "code",
   "execution_count": 17,
   "metadata": {},
   "outputs": [],
   "source": [
    "pca2 = PCA(n_components=100)\n",
    "pca2.fit(X_test1)\n",
    "PX_test1 = pca2.transform(X_test1)"
   ]
  },
  {
   "cell_type": "code",
   "execution_count": 18,
   "metadata": {},
   "outputs": [
    {
     "data": {
      "text/plain": [
       "1.8629205553584958"
      ]
     },
     "execution_count": 18,
     "metadata": {},
     "output_type": "execute_result"
    }
   ],
   "source": [
    "MSE(SLR1.predict(PX_test1),Y_test1)"
   ]
  },
  {
   "cell_type": "code",
   "execution_count": 19,
   "metadata": {},
   "outputs": [],
   "source": [
    "result = pd.DataFrame(np.exp(Y_test1))"
   ]
  },
  {
   "cell_type": "code",
   "execution_count": 20,
   "metadata": {},
   "outputs": [],
   "source": [
    "result[\"Predicted_sales\"] = np.exp(SLR1.predict(PX_test1))"
   ]
  },
  {
   "cell_type": "code",
   "execution_count": 21,
   "metadata": {},
   "outputs": [
    {
     "data": {
      "text/plain": [
       "1086.5520500711366"
      ]
     },
     "execution_count": 21,
     "metadata": {},
     "output_type": "execute_result"
    }
   ],
   "source": [
    "MSE(result[\"sales\"],result[\"Predicted_sales\"])"
   ]
  },
  {
   "cell_type": "markdown",
   "metadata": {},
   "source": [
    "# 5.1 Model using original sales data"
   ]
  },
  {
   "cell_type": "code",
   "execution_count": 22,
   "metadata": {},
   "outputs": [],
   "source": [
    "Model_3 = Lasso(alpha=best_alpha)"
   ]
  },
  {
   "cell_type": "code",
   "execution_count": 23,
   "metadata": {},
   "outputs": [],
   "source": [
    "OY_train = pd.read_csv(\"A_sales_train.csv\",index_col=0)"
   ]
  },
  {
   "cell_type": "code",
   "execution_count": 24,
   "metadata": {},
   "outputs": [],
   "source": [
    "X_train2,X_test2,Y_train2,Y_test2 = train_test_split(X_train,OY_train,test_size=0.2,random_state=132)"
   ]
  },
  {
   "cell_type": "code",
   "execution_count": 25,
   "metadata": {},
   "outputs": [
    {
     "data": {
      "text/plain": [
       "Lasso(alpha=0.05)"
      ]
     },
     "execution_count": 25,
     "metadata": {},
     "output_type": "execute_result"
    }
   ],
   "source": [
    "pca3 = PCA(n_components=100)\n",
    "pca3.fit(X_train2)\n",
    "PX_train2 = pca3.transform(X_train2)\n",
    "SLR2 = Model_3\n",
    "SLR2.fit(PX_train2,Y_train2)"
   ]
  },
  {
   "cell_type": "code",
   "execution_count": 26,
   "metadata": {},
   "outputs": [],
   "source": [
    "pca4 = PCA(n_components=100)\n",
    "pca4.fit(X_test2)\n",
    "PX_test2 = pca4.transform(X_test2)"
   ]
  },
  {
   "cell_type": "code",
   "execution_count": 27,
   "metadata": {},
   "outputs": [
    {
     "data": {
      "text/plain": [
       "1903.8169987483031"
      ]
     },
     "execution_count": 27,
     "metadata": {},
     "output_type": "execute_result"
    }
   ],
   "source": [
    "MSE(SLR2.predict(PX_test2),Y_test2)"
   ]
  },
  {
   "cell_type": "markdown",
   "metadata": {},
   "source": [
    "#### Notably model trained on log(Sales) has lower out-of-sample MSE than model with unmodified Sales"
   ]
  },
  {
   "cell_type": "markdown",
   "metadata": {},
   "source": [
    "# 6. Inventory Decision"
   ]
  },
  {
   "cell_type": "code",
   "execution_count": 28,
   "metadata": {},
   "outputs": [],
   "source": [
    "residual = result['sales']-result['Predicted_sales']"
   ]
  },
  {
   "cell_type": "code",
   "execution_count": 29,
   "metadata": {},
   "outputs": [
    {
     "data": {
      "text/plain": [
       "(4, 8)"
      ]
     },
     "execution_count": 29,
     "metadata": {},
     "output_type": "execute_result"
    }
   ],
   "source": [
    "Price=20\n",
    "Cost=12\n",
    "Salvage=8\n",
    "Over=Cost - Salvage\n",
    "Under=Price - Cost\n",
    "Over, Under"
   ]
  },
  {
   "cell_type": "markdown",
   "metadata": {},
   "source": [
    "### QQ plot to explore the distribution of residual"
   ]
  },
  {
   "cell_type": "markdown",
   "metadata": {},
   "source": [
    "#### Normal Distribution"
   ]
  },
  {
   "cell_type": "code",
   "execution_count": 30,
   "metadata": {},
   "outputs": [],
   "source": [
    "import scipy.stats as sct"
   ]
  },
  {
   "cell_type": "code",
   "execution_count": 31,
   "metadata": {},
   "outputs": [
    {
     "data": {
      "image/png": "[encoded data removed]",
      "text/plain": [
       "<Figure size 432x288 with 1 Axes>"
      ]
     },
     "metadata": {
      "needs_background": "light"
     },
     "output_type": "display_data"
    }
   ],
   "source": [
    "import scipy\n",
    "scipy.stats.probplot(residual, dist=\"norm\", plot=plt)\n",
    "plt.show()"
   ]
  },
  {
   "cell_type": "code",
   "execution_count": 32,
   "metadata": {},
   "outputs": [],
   "source": [
    "s = residual.std()\n",
    "opt_dec_N=np.ceil(sct.norm.ppf(Under/(Under+Over))*s + result['Predicted_sales'])"
   ]
  },
  {
   "cell_type": "markdown",
   "metadata": {},
   "source": [
    "#### Exponential Distribution"
   ]
  },
  {
   "cell_type": "code",
   "execution_count": 33,
   "metadata": {},
   "outputs": [
    {
     "data": {
      "image/png": "[encoded data removed]",
      "text/plain": [
       "<Figure size 432x288 with 1 Axes>"
      ]
     },
     "metadata": {
      "needs_background": "light"
     },
     "output_type": "display_data"
    }
   ],
   "source": [
    "scipy.stats.probplot(residual, dist=\"expon\", plot=plt)\n",
    "plt.show()"
   ]
  },
  {
   "cell_type": "code",
   "execution_count": 34,
   "metadata": {},
   "outputs": [],
   "source": [
    "opt_dec_E=np.ceil((-result['Predicted_sales'])*np.log(1-(Under/(Under+Over))))"
   ]
  },
  {
   "cell_type": "markdown",
   "metadata": {},
   "source": [
    "#### Empirical Distribution"
   ]
  },
  {
   "cell_type": "code",
   "execution_count": 35,
   "metadata": {},
   "outputs": [
    {
     "data": {
      "text/plain": [
       "[<matplotlib.lines.Line2D at 0x23a13eb6cd0>]"
      ]
     },
     "execution_count": 35,
     "metadata": {},
     "output_type": "execute_result"
    },
    {
     "data": {
      "image/png": "[encoded data removed]",
      "text/plain": [
       "<Figure size 432x288 with 1 Axes>"
      ]
     },
     "metadata": {
      "needs_background": "light"
     },
     "output_type": "display_data"
    }
   ],
   "source": [
    "size = residual.shape[0]\n",
    "step=1/size\n",
    "jumps = [step*i for i in range(1,size+1)]\n",
    "Sample = sorted(residual)\n",
    "plt.plot(Sample,jumps)"
   ]
  },
  {
   "cell_type": "code",
   "execution_count": 36,
   "metadata": {},
   "outputs": [
    {
     "data": {
      "image/png": "[encoded data removed]",
      "text/plain": [
       "<Figure size 432x288 with 1 Axes>"
      ]
     },
     "metadata": {
      "needs_background": "light"
     },
     "output_type": "display_data"
    }
   ],
   "source": [
    "plt.hist(Sample)\n",
    "plt.show()"
   ]
  },
  {
   "cell_type": "code",
   "execution_count": 37,
   "metadata": {},
   "outputs": [],
   "source": [
    "def inv(sample,jump,area):\n",
    "    size = len(sample)\n",
    "    i=0\n",
    "    temp=jump[i]\n",
    "    while temp<area:\n",
    "        i+=1\n",
    "        temp=jump[i]\n",
    "        \n",
    "    return sample[i]"
   ]
  },
  {
   "cell_type": "code",
   "execution_count": 38,
   "metadata": {},
   "outputs": [
    {
     "data": {
      "text/plain": [
       "7.277282400775938"
      ]
     },
     "execution_count": 38,
     "metadata": {},
     "output_type": "execute_result"
    }
   ],
   "source": [
    "offset = inv(Sample,jumps,2/3)\n",
    "offset"
   ]
  },
  {
   "cell_type": "code",
   "execution_count": 39,
   "metadata": {},
   "outputs": [],
   "source": [
    "opt_dec_B = np.ceil(result['Predicted_sales']+offset)"
   ]
  },
  {
   "cell_type": "markdown",
   "metadata": {},
   "source": [
    "# 7. Out-of-samples Profit"
   ]
  },
  {
   "cell_type": "code",
   "execution_count": 40,
   "metadata": {},
   "outputs": [
    {
     "data": {
      "text/plain": [
       "82096.0"
      ]
     },
     "execution_count": 40,
     "metadata": {},
     "output_type": "execute_result"
    }
   ],
   "source": [
    "#max profit for test data set\n",
    "max_profit = result['sales'].sum()*(Price-Cost)\n",
    "max_profit"
   ]
  },
  {
   "cell_type": "code",
   "execution_count": 41,
   "metadata": {},
   "outputs": [],
   "source": [
    "def profit(demand,inv):\n",
    "    return (Price-Salvage)*np.minimum(demand,inv)-(Cost-Salvage)*inv"
   ]
  },
  {
   "cell_type": "code",
   "execution_count": 48,
   "metadata": {},
   "outputs": [
    {
     "data": {
      "text/plain": [
       "23508.0"
      ]
     },
     "execution_count": 48,
     "metadata": {},
     "output_type": "execute_result"
    }
   ],
   "source": [
    "#Profit (None)\n",
    "profit_lst = profit(round(result['sales']),round(result['Predicted_sales']))\n",
    "profit_lst.sum()"
   ]
  },
  {
   "cell_type": "code",
   "execution_count": 42,
   "metadata": {},
   "outputs": [
    {
     "data": {
      "text/plain": [
       "24720.0"
      ]
     },
     "execution_count": 42,
     "metadata": {},
     "output_type": "execute_result"
    }
   ],
   "source": [
    "#Profit (Normal)\n",
    "profit_lst_N = profit(result['sales'],opt_dec_N)\n",
    "profit_lst_N.sum()"
   ]
  },
  {
   "cell_type": "code",
   "execution_count": 43,
   "metadata": {},
   "outputs": [
    {
     "data": {
      "text/plain": [
       "24032.0"
      ]
     },
     "execution_count": 43,
     "metadata": {},
     "output_type": "execute_result"
    }
   ],
   "source": [
    "#Profit (Exponential)\n",
    "profit_lst_E = profit(result['sales'],opt_dec_E)\n",
    "profit_lst_E.sum()"
   ]
  },
  {
   "cell_type": "code",
   "execution_count": 44,
   "metadata": {},
   "outputs": [
    {
     "data": {
      "text/plain": [
       "26552.0"
      ]
     },
     "execution_count": 44,
     "metadata": {},
     "output_type": "execute_result"
    }
   ],
   "source": [
    "#Profit (Empirical)\n",
    "profit_lst_B = profit(result['sales'],opt_dec_B)\n",
    "profit_lst_B.sum()"
   ]
  },
  {
   "cell_type": "markdown",
   "metadata": {},
   "source": [
    "# 8. K-Fold Cross Validation"
   ]
  },
  {
   "cell_type": "markdown",
   "metadata": {},
   "source": [
    "### Repeat steps 5,6,7 with 10-fold cross validation"
   ]
  },
  {
   "cell_type": "code",
   "execution_count": 45,
   "metadata": {},
   "outputs": [],
   "source": [
    "Model_4=Lasso(alpha=best_alpha)"
   ]
  },
  {
   "cell_type": "code",
   "execution_count": 46,
   "metadata": {},
   "outputs": [
    {
     "data": {
      "text/html": [
       "<div>\n",
       "<style scoped>\n",
       "    .dataframe tbody tr th:only-of-type {\n",
       "        vertical-align: middle;\n",
       "    }\n",
       "\n",
       "    .dataframe tbody tr th {\n",
       "        vertical-align: top;\n",
       "    }\n",
       "\n",
       "    .dataframe thead th {\n",
       "        text-align: right;\n",
       "    }\n",
       "</style>\n",
       "<table border=\"1\" class=\"dataframe\">\n",
       "  <thead>\n",
       "    <tr style=\"text-align: right;\">\n",
       "      <th></th>\n",
       "      <th>Cross Validation MSE</th>\n",
       "    </tr>\n",
       "  </thead>\n",
       "  <tbody>\n",
       "    <tr>\n",
       "      <th>Dataset_1</th>\n",
       "      <td>3831.748612</td>\n",
       "    </tr>\n",
       "    <tr>\n",
       "      <th>Dataset_2</th>\n",
       "      <td>1653.739551</td>\n",
       "    </tr>\n",
       "    <tr>\n",
       "      <th>Dataset_3</th>\n",
       "      <td>7427.746609</td>\n",
       "    </tr>\n",
       "    <tr>\n",
       "      <th>Dataset_4</th>\n",
       "      <td>2700.809937</td>\n",
       "    </tr>\n",
       "    <tr>\n",
       "      <th>Dataset_5</th>\n",
       "      <td>5173.834045</td>\n",
       "    </tr>\n",
       "    <tr>\n",
       "      <th>Dataset_6</th>\n",
       "      <td>1980.981491</td>\n",
       "    </tr>\n",
       "    <tr>\n",
       "      <th>Dataset_7</th>\n",
       "      <td>8688.805068</td>\n",
       "    </tr>\n",
       "    <tr>\n",
       "      <th>Dataset_8</th>\n",
       "      <td>1339.381052</td>\n",
       "    </tr>\n",
       "    <tr>\n",
       "      <th>Dataset_9</th>\n",
       "      <td>1698.046203</td>\n",
       "    </tr>\n",
       "    <tr>\n",
       "      <th>Dataset_10</th>\n",
       "      <td>5285.486025</td>\n",
       "    </tr>\n",
       "  </tbody>\n",
       "</table>\n",
       "</div>"
      ],
      "text/plain": [
       "            Cross Validation MSE\n",
       "Dataset_1            3831.748612\n",
       "Dataset_2            1653.739551\n",
       "Dataset_3            7427.746609\n",
       "Dataset_4            2700.809937\n",
       "Dataset_5            5173.834045\n",
       "Dataset_6            1980.981491\n",
       "Dataset_7            8688.805068\n",
       "Dataset_8            1339.381052\n",
       "Dataset_9            1698.046203\n",
       "Dataset_10           5285.486025"
      ]
     },
     "execution_count": 46,
     "metadata": {},
     "output_type": "execute_result"
    }
   ],
   "source": [
    "from sklearn.model_selection import KFold\n",
    "k=10\n",
    "kf = KFold(n_splits=k)\n",
    "X_train_t=X_train.to_numpy()\n",
    "Y_train_t=Y_train.to_numpy()\n",
    "model = []\n",
    "mse_lst = []\n",
    "max_profit_lst = []\n",
    "profit_N_lst = []\n",
    "profit_E_lst = []\n",
    "profit_B_lst = []\n",
    "\n",
    "for train_index,test_index in kf.split(X_train_t):\n",
    "    X_train_K,X_test_K=X_train_t[train_index],X_train_t[test_index]\n",
    "    Y_train_K,Y_test_K=Y_train_t[train_index],Y_train_t[test_index]\n",
    "    \n",
    "    #PCA to transform train data\n",
    "    pca_K1 = PCA(n_components=best_pca,random_state=42)\n",
    "    pca_K1.fit(X_train_K)\n",
    "    PX_train_K = pca_K1.transform(X_train_K)\n",
    "    \n",
    "    #Model\n",
    "    SLR_K = Model_4\n",
    "    SLR_K.fit(PX_train_K,Y_train_K)\n",
    "    \n",
    "    #pca to transform test data\n",
    "    pca_K2 = PCA(n_components=best_pca,random_state=42)\n",
    "    pca_K2.fit(X_test_K)\n",
    "    PX_test_K = pca_K2.transform(X_test_K)\n",
    "    \n",
    "    #MSE\n",
    "    mse_lst.append(MSE(np.exp(SLR_K.predict(PX_test_K)),np.exp(Y_test_K)))\n",
    "    \n",
    "    #Transform log(sale) back to sale\n",
    "    result_K = pd.DataFrame(np.exp(Y_test_K))\n",
    "    result_K[\"Predicted_sales\"] = np.exp(SLR_K.predict(PX_test_K))\n",
    "    \n",
    "    #Obtain residual\n",
    "    residual_K = result_K[0]-result_K['Predicted_sales']\n",
    "    \n",
    "    #Get std for Normal distribution\n",
    "    s_K = residual_K.std()\n",
    "    \n",
    "    #Inventory Decision (Normal)\n",
    "    opt_dec_N_K=np.ceil(sct.norm.ppf(Under/(Under+Over))*s_K + result_K['Predicted_sales'])\n",
    "    #Inventory Decision (Exponential)\n",
    "    opt_dec_E_K=np.ceil((-result_K['Predicted_sales'])*np.log(1-(Under/(Under+Over))))\n",
    "    \n",
    "    #Inventory Decision (Empirical Distribution)\n",
    "    size_K = residual_K.shape[0]\n",
    "    step_K=1/size_K\n",
    "    jumps_K = [step_K*i for i in range(1,size_K+1)]\n",
    "    Sample_K = sorted(residual_K)\n",
    "    offset_K = inv(Sample_K,jumps_K,2/3)\n",
    "    opt_dec_B_K = np.ceil(result_K['Predicted_sales']+offset_K)\n",
    "    \n",
    "    #Out-of_sample profit\n",
    "    profit_lst_B_K = profit(result_K[0],opt_dec_B_K)\n",
    "    profit_B_lst.append(profit_lst_B_K.sum())\n",
    "    \n",
    "    profit_lst_N_K = profit(result_K[0],opt_dec_N_K)\n",
    "    profit_N_lst.append(profit_lst_N_K.sum())\n",
    "    \n",
    "    profit_lst_E_K = profit(result_K[0],opt_dec_E_K)\n",
    "    profit_E_lst.append(profit_lst_E_K.sum())\n",
    "    \n",
    "    max_profit_K = result_K[0].sum()*(Price-Cost)\n",
    "    max_profit_lst.append(max_profit_K)\n",
    "    \n",
    "max_profit_lst = np.array(max_profit_lst)\n",
    "profit_N_lst = np.array(profit_N_lst)\n",
    "profit_E_lst = np.array(profit_E_lst)\n",
    "profit_B_lst = np.array(profit_B_lst)\n",
    "\n",
    "fraction_of_max_N = profit_N_lst/max_profit_lst\n",
    "fraction_of_max_E = profit_E_lst/max_profit_lst\n",
    "fraction_of_max_B = profit_B_lst/max_profit_lst\n",
    "\n",
    "dist_profit = [\"Normal\",\"Exponential\",\"Empirical\",\"Max\"]\n",
    "dist_frac = [\"Normal\",\"Exponential\",\"Empirical\"]\n",
    "col_name = [\"Dataset_\"+str(i) for i in range(1,k+1)]\n",
    "\n",
    "profit_lst = [profit_N_lst,profit_E_lst,profit_B_lst,max_profit_lst]\n",
    "profit_table = pd.DataFrame(profit_lst,index=dist_profit,columns=col_name)\n",
    "profit_table[\"mean_profit\"]=profit_table.mean(axis=1)\n",
    "profit_table[\"std_profit\"]=profit_table.std(ddof=1,axis=1)\n",
    "\n",
    "fraction_lst = [fraction_of_max_N,fraction_of_max_E,fraction_of_max_B]\n",
    "fraction_table = pd.DataFrame(fraction_lst,index=dist_frac,columns=col_name)\n",
    "fraction_table[\"mean_fraction\"]=fraction_table.mean(axis=1)\n",
    "\n",
    "\n",
    "\n",
    "\n",
    "mse_table = pd.DataFrame(mse_lst,index=col_name,columns=['Cross Validation MSE'])\n",
    "mse_table"
   ]
  },
  {
   "cell_type": "code",
   "execution_count": 50,
   "metadata": {},
   "outputs": [
    {
     "data": {
      "text/html": [
       "<div>\n",
       "<style scoped>\n",
       "    .dataframe tbody tr th:only-of-type {\n",
       "        vertical-align: middle;\n",
       "    }\n",
       "\n",
       "    .dataframe tbody tr th {\n",
       "        vertical-align: top;\n",
       "    }\n",
       "\n",
       "    .dataframe thead th {\n",
       "        text-align: right;\n",
       "    }\n",
       "</style>\n",
       "<table border=\"1\" class=\"dataframe\">\n",
       "  <thead>\n",
       "    <tr style=\"text-align: right;\">\n",
       "      <th></th>\n",
       "      <th>Dataset_1</th>\n",
       "      <th>Dataset_2</th>\n",
       "      <th>Dataset_3</th>\n",
       "      <th>Dataset_4</th>\n",
       "      <th>Dataset_5</th>\n",
       "      <th>Dataset_6</th>\n",
       "      <th>Dataset_7</th>\n",
       "      <th>Dataset_8</th>\n",
       "      <th>Dataset_9</th>\n",
       "      <th>Dataset_10</th>\n",
       "      <th>mean_fraction</th>\n",
       "    </tr>\n",
       "  </thead>\n",
       "  <tbody>\n",
       "    <tr>\n",
       "      <th>Normal</th>\n",
       "      <td>0.131065</td>\n",
       "      <td>0.284515</td>\n",
       "      <td>-0.145758</td>\n",
       "      <td>0.220343</td>\n",
       "      <td>0.005077</td>\n",
       "      <td>0.222803</td>\n",
       "      <td>-0.074906</td>\n",
       "      <td>0.281960</td>\n",
       "      <td>0.271922</td>\n",
       "      <td>-0.029677</td>\n",
       "      <td>0.116734</td>\n",
       "    </tr>\n",
       "    <tr>\n",
       "      <th>Exponential</th>\n",
       "      <td>0.226271</td>\n",
       "      <td>0.260651</td>\n",
       "      <td>0.003110</td>\n",
       "      <td>0.258197</td>\n",
       "      <td>0.137792</td>\n",
       "      <td>0.235505</td>\n",
       "      <td>0.163617</td>\n",
       "      <td>0.246401</td>\n",
       "      <td>0.267806</td>\n",
       "      <td>0.168267</td>\n",
       "      <td>0.196762</td>\n",
       "    </tr>\n",
       "    <tr>\n",
       "      <th>Empirical</th>\n",
       "      <td>0.263000</td>\n",
       "      <td>0.310412</td>\n",
       "      <td>0.074564</td>\n",
       "      <td>0.293391</td>\n",
       "      <td>0.163981</td>\n",
       "      <td>0.287953</td>\n",
       "      <td>0.205114</td>\n",
       "      <td>0.293235</td>\n",
       "      <td>0.301181</td>\n",
       "      <td>0.202171</td>\n",
       "      <td>0.239500</td>\n",
       "    </tr>\n",
       "  </tbody>\n",
       "</table>\n",
       "</div>"
      ],
      "text/plain": [
       "             Dataset_1  Dataset_2  Dataset_3  Dataset_4  Dataset_5  Dataset_6  \\\n",
       "Normal        0.131065   0.284515  -0.145758   0.220343   0.005077   0.222803   \n",
       "Exponential   0.226271   0.260651   0.003110   0.258197   0.137792   0.235505   \n",
       "Empirical     0.263000   0.310412   0.074564   0.293391   0.163981   0.287953   \n",
       "\n",
       "             Dataset_7  Dataset_8  Dataset_9  Dataset_10  mean_fraction  \n",
       "Normal       -0.074906   0.281960   0.271922   -0.029677       0.116734  \n",
       "Exponential   0.163617   0.246401   0.267806    0.168267       0.196762  \n",
       "Empirical     0.205114   0.293235   0.301181    0.202171       0.239500  "
      ]
     },
     "execution_count": 50,
     "metadata": {},
     "output_type": "execute_result"
    }
   ],
   "source": [
    "fraction_table"
   ]
  },
  {
   "cell_type": "code",
   "execution_count": 51,
   "metadata": {},
   "outputs": [
    {
     "data": {
      "text/html": [
       "<div>\n",
       "<style scoped>\n",
       "    .dataframe tbody tr th:only-of-type {\n",
       "        vertical-align: middle;\n",
       "    }\n",
       "\n",
       "    .dataframe tbody tr th {\n",
       "        vertical-align: top;\n",
       "    }\n",
       "\n",
       "    .dataframe thead th {\n",
       "        text-align: right;\n",
       "    }\n",
       "</style>\n",
       "<table border=\"1\" class=\"dataframe\">\n",
       "  <thead>\n",
       "    <tr style=\"text-align: right;\">\n",
       "      <th></th>\n",
       "      <th>Dataset_1</th>\n",
       "      <th>Dataset_2</th>\n",
       "      <th>Dataset_3</th>\n",
       "      <th>Dataset_4</th>\n",
       "      <th>Dataset_5</th>\n",
       "      <th>Dataset_6</th>\n",
       "      <th>Dataset_7</th>\n",
       "      <th>Dataset_8</th>\n",
       "      <th>Dataset_9</th>\n",
       "      <th>Dataset_10</th>\n",
       "      <th>mean_profit</th>\n",
       "      <th>std_profit</th>\n",
       "    </tr>\n",
       "  </thead>\n",
       "  <tbody>\n",
       "    <tr>\n",
       "      <th>Normal</th>\n",
       "      <td>5424.0</td>\n",
       "      <td>12876.0</td>\n",
       "      <td>-6748.0</td>\n",
       "      <td>10268.0</td>\n",
       "      <td>252.0</td>\n",
       "      <td>8700.0</td>\n",
       "      <td>-3668.0</td>\n",
       "      <td>13004.0</td>\n",
       "      <td>12156.0</td>\n",
       "      <td>-1236.0</td>\n",
       "      <td>5102.8</td>\n",
       "      <td>7024.247843</td>\n",
       "    </tr>\n",
       "    <tr>\n",
       "      <th>Exponential</th>\n",
       "      <td>9364.0</td>\n",
       "      <td>11796.0</td>\n",
       "      <td>144.0</td>\n",
       "      <td>12032.0</td>\n",
       "      <td>6840.0</td>\n",
       "      <td>9196.0</td>\n",
       "      <td>8012.0</td>\n",
       "      <td>11364.0</td>\n",
       "      <td>11972.0</td>\n",
       "      <td>7008.0</td>\n",
       "      <td>8772.8</td>\n",
       "      <td>3451.451544</td>\n",
       "    </tr>\n",
       "    <tr>\n",
       "      <th>Empirical</th>\n",
       "      <td>10884.0</td>\n",
       "      <td>14048.0</td>\n",
       "      <td>3452.0</td>\n",
       "      <td>13672.0</td>\n",
       "      <td>8140.0</td>\n",
       "      <td>11244.0</td>\n",
       "      <td>10044.0</td>\n",
       "      <td>13524.0</td>\n",
       "      <td>13464.0</td>\n",
       "      <td>8420.0</td>\n",
       "      <td>10689.2</td>\n",
       "      <td>3173.342490</td>\n",
       "    </tr>\n",
       "    <tr>\n",
       "      <th>Max</th>\n",
       "      <td>41384.0</td>\n",
       "      <td>45256.0</td>\n",
       "      <td>46296.0</td>\n",
       "      <td>46600.0</td>\n",
       "      <td>49640.0</td>\n",
       "      <td>39048.0</td>\n",
       "      <td>48968.0</td>\n",
       "      <td>46120.0</td>\n",
       "      <td>44704.0</td>\n",
       "      <td>41648.0</td>\n",
       "      <td>44966.4</td>\n",
       "      <td>3203.875254</td>\n",
       "    </tr>\n",
       "  </tbody>\n",
       "</table>\n",
       "</div>"
      ],
      "text/plain": [
       "             Dataset_1  Dataset_2  Dataset_3  Dataset_4  Dataset_5  Dataset_6  \\\n",
       "Normal          5424.0    12876.0    -6748.0    10268.0      252.0     8700.0   \n",
       "Exponential     9364.0    11796.0      144.0    12032.0     6840.0     9196.0   \n",
       "Empirical      10884.0    14048.0     3452.0    13672.0     8140.0    11244.0   \n",
       "Max            41384.0    45256.0    46296.0    46600.0    49640.0    39048.0   \n",
       "\n",
       "             Dataset_7  Dataset_8  Dataset_9  Dataset_10  mean_profit  \\\n",
       "Normal         -3668.0    13004.0    12156.0     -1236.0       5102.8   \n",
       "Exponential     8012.0    11364.0    11972.0      7008.0       8772.8   \n",
       "Empirical      10044.0    13524.0    13464.0      8420.0      10689.2   \n",
       "Max            48968.0    46120.0    44704.0     41648.0      44966.4   \n",
       "\n",
       "              std_profit  \n",
       "Normal       7024.247843  \n",
       "Exponential  3451.451544  \n",
       "Empirical    3173.342490  \n",
       "Max          3203.875254  "
      ]
     },
     "execution_count": 51,
     "metadata": {},
     "output_type": "execute_result"
    }
   ],
   "source": [
    "profit_table"
   ]
  },
  {
   "cell_type": "code",
   "execution_count": 49,
   "metadata": {},
   "outputs": [
    {
     "name": "stdout",
     "output_type": "stream",
     "text": [
      "Average 10 fold CV MSE:  3978.057859266337\n"
     ]
    }
   ],
   "source": [
    "print(f\"Average 10 fold CV MSE:  {float(mse_table.mean())}\")"
   ]
  },
  {
   "cell_type": "code",
   "execution_count": 47,
   "metadata": {},
   "outputs": [],
   "source": [
    "profit_table.to_csv(\".\\\\Model_Selection_Result\\\\2.4_Lin_reg_lasso.csv\")"
   ]
  },
  {
   "cell_type": "code",
   "execution_count": 52,
   "metadata": {},
   "outputs": [],
   "source": [
    "name = \"2.4_Lin_reg_lasso.csv\"\n",
    "mse_table.to_csv(f\".\\\\Model_CV_Result_MSE\\\\{name}\")"
   ]
  },
  {
   "cell_type": "code",
   "execution_count": 53,
   "metadata": {},
   "outputs": [],
   "source": [
    "f = pd.DataFrame(fraction_table['mean_fraction'])\n",
    "f = f.transpose().reset_index()\n",
    "f.to_csv(f\".\\\\Model_CV_Result_Efficiency\\\\{name}\")"
   ]
  },
  {
   "cell_type": "code",
   "execution_count": null,
   "metadata": {},
   "outputs": [],
   "source": []
  }
 ],
 "metadata": {
  "kernelspec": {
   "display_name": "Python 3",
   "language": "python",
   "name": "python3"
  },
  "language_info": {
   "codemirror_mode": {
    "name": "ipython",
    "version": 3
   },
   "file_extension": ".py",
   "mimetype": "text/x-python",
   "name": "python",
   "nbconvert_exporter": "python",
   "pygments_lexer": "ipython3",
   "version": "3.8.5"
  }
 },
 "nbformat": 4,
 "nbformat_minor": 4
}
