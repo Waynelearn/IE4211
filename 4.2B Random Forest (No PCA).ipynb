{
 "cells": [
  {
   "cell_type": "code",
   "execution_count": 1,
   "metadata": {},
   "outputs": [],
   "source": [
    "import pandas as pd\n",
    "import numpy as np\n",
    "import matplotlib.pyplot as plt\n",
    "from sklearn.pipeline import Pipeline\n",
    "from sklearn.model_selection import GridSearchCV\n",
    "from sklearn.decomposition import PCA\n",
    "from sklearn.metrics import mean_squared_error as MSE\n",
    "from sklearn.linear_model import LinearRegression\n",
    "from sklearn.preprocessing import PolynomialFeatures\n",
    "from sklearn.model_selection import train_test_split\n",
    "from sklearn.linear_model import Lasso\n",
    "from sklearn.neighbors import KNeighborsRegressor\n",
    "from sklearn.tree import DecisionTreeRegressor\n",
    "from sklearn.ensemble import RandomForestRegressor\n",
    "from sklearn.ensemble import GradientBoostingRegressor"
   ]
  },
  {
   "cell_type": "markdown",
   "metadata": {},
   "source": [
    "# 1. Import the train datasets"
   ]
  },
  {
   "cell_type": "code",
   "execution_count": 2,
   "metadata": {},
   "outputs": [],
   "source": [
    "X_train = pd.read_csv(\"data-train.csv\",index_col=0)\n",
    "X_train.drop(['sales'],axis=1)\n",
    "Y_train = X_train.sales"
   ]
  },
  {
   "cell_type": "code",
   "execution_count": 3,
   "metadata": {},
   "outputs": [],
   "source": [
    "#X_train = pd.read_csv(\"B_encoded_train_data.csv\",index_col=0)\n",
    "#Y_train = pd.read_csv(\"A_sales_train.csv\",index_col=0)"
   ]
  },
  {
   "cell_type": "code",
   "execution_count": 4,
   "metadata": {},
   "outputs": [],
   "source": [
    "Model_1 = RandomForestRegressor()"
   ]
  },
  {
   "cell_type": "markdown",
   "metadata": {},
   "source": [
    "# 2. Setup Pipeline"
   ]
  },
  {
   "cell_type": "code",
   "execution_count": 5,
   "metadata": {},
   "outputs": [],
   "source": [
    "\n",
    "RG = Model_1"
   ]
  },
  {
   "cell_type": "code",
   "execution_count": 6,
   "metadata": {},
   "outputs": [],
   "source": [
    "\n",
    "pipe = Pipeline(steps=[(\"RG\",RG)])"
   ]
  },
  {
   "cell_type": "code",
   "execution_count": 7,
   "metadata": {},
   "outputs": [],
   "source": [
    "param_grid = {\n",
    "    \"RG__ccp_alpha\":[0.005,0.1,0.5,10],\n",
    "    \"RG__n_estimators\":[10,100,1000]\n",
    "}"
   ]
  },
  {
   "cell_type": "markdown",
   "metadata": {},
   "source": [
    "# 3. Setup GridSearch"
   ]
  },
  {
   "cell_type": "code",
   "execution_count": 8,
   "metadata": {},
   "outputs": [],
   "source": [
    "score_metric = 'neg_mean_squared_error'\n",
    "search = GridSearchCV(pipe,param_grid,\n",
    "                      n_jobs=-1,\n",
    "                      cv=10,\n",
    "                      scoring=score_metric)"
   ]
  },
  {
   "cell_type": "code",
   "execution_count": 9,
   "metadata": {},
   "outputs": [
    {
     "data": {
      "text/plain": [
       "GridSearchCV(cv=10, estimator=Pipeline(steps=[('RG', RandomForestRegressor())]),\n",
       "             n_jobs=-1,\n",
       "             param_grid={'RG__ccp_alpha': [0.005, 0.1, 0.5, 10],\n",
       "                         'RG__n_estimators': [10, 100, 1000]},\n",
       "             scoring='neg_mean_squared_error')"
      ]
     },
     "execution_count": 9,
     "metadata": {},
     "output_type": "execute_result"
    }
   ],
   "source": [
    "search.fit(X_train,Y_train.values.ravel())"
   ]
  },
  {
   "cell_type": "code",
   "execution_count": 10,
   "metadata": {},
   "outputs": [
    {
     "name": "stdout",
     "output_type": "stream",
     "text": [
      "Best parameter (CV score=-58.999):\n",
      "{'RG__ccp_alpha': 0.005, 'RG__n_estimators': 1000}\n"
     ]
    }
   ],
   "source": [
    "print(\"Best parameter (CV score=%0.3f):\" % search.best_score_)\n",
    "print(search.best_params_)"
   ]
  },
  {
   "cell_type": "code",
   "execution_count": 11,
   "metadata": {},
   "outputs": [
    {
     "data": {
      "text/html": [
       "<div>\n",
       "<style scoped>\n",
       "    .dataframe tbody tr th:only-of-type {\n",
       "        vertical-align: middle;\n",
       "    }\n",
       "\n",
       "    .dataframe tbody tr th {\n",
       "        vertical-align: top;\n",
       "    }\n",
       "\n",
       "    .dataframe thead th {\n",
       "        text-align: right;\n",
       "    }\n",
       "</style>\n",
       "<table border=\"1\" class=\"dataframe\">\n",
       "  <thead>\n",
       "    <tr style=\"text-align: right;\">\n",
       "      <th></th>\n",
       "      <th>mean_fit_time</th>\n",
       "      <th>std_fit_time</th>\n",
       "      <th>mean_score_time</th>\n",
       "      <th>std_score_time</th>\n",
       "      <th>param_RG__ccp_alpha</th>\n",
       "      <th>param_RG__n_estimators</th>\n",
       "      <th>params</th>\n",
       "      <th>split0_test_score</th>\n",
       "      <th>split1_test_score</th>\n",
       "      <th>split2_test_score</th>\n",
       "      <th>split3_test_score</th>\n",
       "      <th>split4_test_score</th>\n",
       "      <th>split5_test_score</th>\n",
       "      <th>split6_test_score</th>\n",
       "      <th>split7_test_score</th>\n",
       "      <th>split8_test_score</th>\n",
       "      <th>split9_test_score</th>\n",
       "      <th>mean_test_score</th>\n",
       "      <th>std_test_score</th>\n",
       "      <th>rank_test_score</th>\n",
       "    </tr>\n",
       "  </thead>\n",
       "  <tbody>\n",
       "    <tr>\n",
       "      <th>2</th>\n",
       "      <td>73.564683</td>\n",
       "      <td>12.830345</td>\n",
       "      <td>0.436658</td>\n",
       "      <td>0.393950</td>\n",
       "      <td>0.005</td>\n",
       "      <td>1000</td>\n",
       "      <td>{'RG__ccp_alpha': 0.005, 'RG__n_estimators': 1...</td>\n",
       "      <td>-0.163148</td>\n",
       "      <td>-0.331036</td>\n",
       "      <td>-2.393719</td>\n",
       "      <td>-24.345716</td>\n",
       "      <td>-550.240444</td>\n",
       "      <td>-0.026586</td>\n",
       "      <td>-3.625375</td>\n",
       "      <td>-0.195787</td>\n",
       "      <td>-4.213022</td>\n",
       "      <td>-4.452217</td>\n",
       "      <td>-58.998705</td>\n",
       "      <td>163.891857</td>\n",
       "      <td>1</td>\n",
       "    </tr>\n",
       "    <tr>\n",
       "      <th>5</th>\n",
       "      <td>64.718781</td>\n",
       "      <td>30.713451</td>\n",
       "      <td>0.680501</td>\n",
       "      <td>0.473178</td>\n",
       "      <td>0.1</td>\n",
       "      <td>1000</td>\n",
       "      <td>{'RG__ccp_alpha': 0.1, 'RG__n_estimators': 1000}</td>\n",
       "      <td>-0.324342</td>\n",
       "      <td>-0.555905</td>\n",
       "      <td>-4.018020</td>\n",
       "      <td>-29.424406</td>\n",
       "      <td>-550.723636</td>\n",
       "      <td>-0.115325</td>\n",
       "      <td>-3.390682</td>\n",
       "      <td>-0.451633</td>\n",
       "      <td>-7.029101</td>\n",
       "      <td>-3.570368</td>\n",
       "      <td>-59.960342</td>\n",
       "      <td>163.798755</td>\n",
       "      <td>2</td>\n",
       "    </tr>\n",
       "    <tr>\n",
       "      <th>4</th>\n",
       "      <td>10.292100</td>\n",
       "      <td>0.732535</td>\n",
       "      <td>0.141056</td>\n",
       "      <td>0.124143</td>\n",
       "      <td>0.1</td>\n",
       "      <td>100</td>\n",
       "      <td>{'RG__ccp_alpha': 0.1, 'RG__n_estimators': 100}</td>\n",
       "      <td>-0.343808</td>\n",
       "      <td>-0.545405</td>\n",
       "      <td>-3.274685</td>\n",
       "      <td>-37.033023</td>\n",
       "      <td>-542.240614</td>\n",
       "      <td>-0.300945</td>\n",
       "      <td>-13.159918</td>\n",
       "      <td>-0.460090</td>\n",
       "      <td>-4.026434</td>\n",
       "      <td>-3.236846</td>\n",
       "      <td>-60.462177</td>\n",
       "      <td>160.950581</td>\n",
       "      <td>3</td>\n",
       "    </tr>\n",
       "    <tr>\n",
       "      <th>8</th>\n",
       "      <td>51.509039</td>\n",
       "      <td>33.773051</td>\n",
       "      <td>0.482189</td>\n",
       "      <td>0.471831</td>\n",
       "      <td>0.5</td>\n",
       "      <td>1000</td>\n",
       "      <td>{'RG__ccp_alpha': 0.5, 'RG__n_estimators': 1000}</td>\n",
       "      <td>-0.388643</td>\n",
       "      <td>-0.856312</td>\n",
       "      <td>-1.890991</td>\n",
       "      <td>-27.773484</td>\n",
       "      <td>-562.681770</td>\n",
       "      <td>-0.281973</td>\n",
       "      <td>-3.801314</td>\n",
       "      <td>-0.516310</td>\n",
       "      <td>-5.253351</td>\n",
       "      <td>-3.405329</td>\n",
       "      <td>-60.684948</td>\n",
       "      <td>167.515361</td>\n",
       "      <td>4</td>\n",
       "    </tr>\n",
       "    <tr>\n",
       "      <th>1</th>\n",
       "      <td>6.366120</td>\n",
       "      <td>0.834118</td>\n",
       "      <td>0.054932</td>\n",
       "      <td>0.055551</td>\n",
       "      <td>0.005</td>\n",
       "      <td>100</td>\n",
       "      <td>{'RG__ccp_alpha': 0.005, 'RG__n_estimators': 100}</td>\n",
       "      <td>-0.196705</td>\n",
       "      <td>-0.349719</td>\n",
       "      <td>-7.063626</td>\n",
       "      <td>-23.389427</td>\n",
       "      <td>-579.607458</td>\n",
       "      <td>-0.477068</td>\n",
       "      <td>-5.445168</td>\n",
       "      <td>-0.951777</td>\n",
       "      <td>-11.712068</td>\n",
       "      <td>-1.981878</td>\n",
       "      <td>-63.117489</td>\n",
       "      <td>172.300794</td>\n",
       "      <td>5</td>\n",
       "    </tr>\n",
       "    <tr>\n",
       "      <th>7</th>\n",
       "      <td>2.757035</td>\n",
       "      <td>3.204606</td>\n",
       "      <td>0.013596</td>\n",
       "      <td>0.004648</td>\n",
       "      <td>0.5</td>\n",
       "      <td>100</td>\n",
       "      <td>{'RG__ccp_alpha': 0.5, 'RG__n_estimators': 100}</td>\n",
       "      <td>-0.422145</td>\n",
       "      <td>-0.843626</td>\n",
       "      <td>-7.177574</td>\n",
       "      <td>-30.493103</td>\n",
       "      <td>-595.632391</td>\n",
       "      <td>-0.395242</td>\n",
       "      <td>-3.626507</td>\n",
       "      <td>-0.670982</td>\n",
       "      <td>-5.825014</td>\n",
       "      <td>-3.065234</td>\n",
       "      <td>-64.815182</td>\n",
       "      <td>177.146038</td>\n",
       "      <td>6</td>\n",
       "    </tr>\n",
       "    <tr>\n",
       "      <th>6</th>\n",
       "      <td>1.044146</td>\n",
       "      <td>0.137294</td>\n",
       "      <td>0.018815</td>\n",
       "      <td>0.043506</td>\n",
       "      <td>0.5</td>\n",
       "      <td>10</td>\n",
       "      <td>{'RG__ccp_alpha': 0.5, 'RG__n_estimators': 10}</td>\n",
       "      <td>-0.709842</td>\n",
       "      <td>-1.662172</td>\n",
       "      <td>-2.410029</td>\n",
       "      <td>-25.257787</td>\n",
       "      <td>-562.283645</td>\n",
       "      <td>-0.551566</td>\n",
       "      <td>-57.878230</td>\n",
       "      <td>-0.659841</td>\n",
       "      <td>-3.599568</td>\n",
       "      <td>-34.340168</td>\n",
       "      <td>-68.935285</td>\n",
       "      <td>165.478707</td>\n",
       "      <td>7</td>\n",
       "    </tr>\n",
       "    <tr>\n",
       "      <th>0</th>\n",
       "      <td>0.553820</td>\n",
       "      <td>0.127648</td>\n",
       "      <td>0.030120</td>\n",
       "      <td>0.028485</td>\n",
       "      <td>0.005</td>\n",
       "      <td>10</td>\n",
       "      <td>{'RG__ccp_alpha': 0.005, 'RG__n_estimators': 10}</td>\n",
       "      <td>-0.266081</td>\n",
       "      <td>-0.452767</td>\n",
       "      <td>-4.028773</td>\n",
       "      <td>-122.053070</td>\n",
       "      <td>-522.705752</td>\n",
       "      <td>-0.018683</td>\n",
       "      <td>-19.312313</td>\n",
       "      <td>-0.155460</td>\n",
       "      <td>-0.326760</td>\n",
       "      <td>-22.875423</td>\n",
       "      <td>-69.219508</td>\n",
       "      <td>155.279664</td>\n",
       "      <td>8</td>\n",
       "    </tr>\n",
       "    <tr>\n",
       "      <th>11</th>\n",
       "      <td>44.889569</td>\n",
       "      <td>23.012119</td>\n",
       "      <td>0.530194</td>\n",
       "      <td>0.447028</td>\n",
       "      <td>10</td>\n",
       "      <td>1000</td>\n",
       "      <td>{'RG__ccp_alpha': 10, 'RG__n_estimators': 1000}</td>\n",
       "      <td>-7.360508</td>\n",
       "      <td>-10.910549</td>\n",
       "      <td>-8.852647</td>\n",
       "      <td>-32.764771</td>\n",
       "      <td>-588.748462</td>\n",
       "      <td>-6.896019</td>\n",
       "      <td>-6.744569</td>\n",
       "      <td>-6.645303</td>\n",
       "      <td>-16.583710</td>\n",
       "      <td>-6.724235</td>\n",
       "      <td>-69.223077</td>\n",
       "      <td>173.346175</td>\n",
       "      <td>9</td>\n",
       "    </tr>\n",
       "    <tr>\n",
       "      <th>9</th>\n",
       "      <td>0.307461</td>\n",
       "      <td>0.478728</td>\n",
       "      <td>0.004953</td>\n",
       "      <td>0.003606</td>\n",
       "      <td>10</td>\n",
       "      <td>10</td>\n",
       "      <td>{'RG__ccp_alpha': 10, 'RG__n_estimators': 10}</td>\n",
       "      <td>-11.740464</td>\n",
       "      <td>-15.949192</td>\n",
       "      <td>-19.369362</td>\n",
       "      <td>-51.053840</td>\n",
       "      <td>-558.060130</td>\n",
       "      <td>-6.338603</td>\n",
       "      <td>-9.249267</td>\n",
       "      <td>-8.411717</td>\n",
       "      <td>-22.561797</td>\n",
       "      <td>-7.188896</td>\n",
       "      <td>-70.992327</td>\n",
       "      <td>162.838289</td>\n",
       "      <td>10</td>\n",
       "    </tr>\n",
       "    <tr>\n",
       "      <th>10</th>\n",
       "      <td>7.681525</td>\n",
       "      <td>5.644055</td>\n",
       "      <td>0.040059</td>\n",
       "      <td>0.086145</td>\n",
       "      <td>10</td>\n",
       "      <td>100</td>\n",
       "      <td>{'RG__ccp_alpha': 10, 'RG__n_estimators': 100}</td>\n",
       "      <td>-7.672920</td>\n",
       "      <td>-10.761804</td>\n",
       "      <td>-8.376561</td>\n",
       "      <td>-38.239675</td>\n",
       "      <td>-606.826239</td>\n",
       "      <td>-7.054548</td>\n",
       "      <td>-6.836126</td>\n",
       "      <td>-7.523705</td>\n",
       "      <td>-19.842469</td>\n",
       "      <td>-6.983972</td>\n",
       "      <td>-72.011802</td>\n",
       "      <td>178.517176</td>\n",
       "      <td>11</td>\n",
       "    </tr>\n",
       "    <tr>\n",
       "      <th>3</th>\n",
       "      <td>0.756624</td>\n",
       "      <td>0.084283</td>\n",
       "      <td>0.015359</td>\n",
       "      <td>0.034552</td>\n",
       "      <td>0.1</td>\n",
       "      <td>10</td>\n",
       "      <td>{'RG__ccp_alpha': 0.1, 'RG__n_estimators': 10}</td>\n",
       "      <td>-0.612362</td>\n",
       "      <td>-1.032193</td>\n",
       "      <td>-1.261608</td>\n",
       "      <td>-92.503579</td>\n",
       "      <td>-639.200496</td>\n",
       "      <td>-0.907382</td>\n",
       "      <td>-8.649141</td>\n",
       "      <td>-0.654587</td>\n",
       "      <td>-26.773284</td>\n",
       "      <td>-4.431699</td>\n",
       "      <td>-77.602633</td>\n",
       "      <td>189.136998</td>\n",
       "      <td>12</td>\n",
       "    </tr>\n",
       "  </tbody>\n",
       "</table>\n",
       "</div>"
      ],
      "text/plain": [
       "    mean_fit_time  std_fit_time  mean_score_time  std_score_time  \\\n",
       "2       73.564683     12.830345         0.436658        0.393950   \n",
       "5       64.718781     30.713451         0.680501        0.473178   \n",
       "4       10.292100      0.732535         0.141056        0.124143   \n",
       "8       51.509039     33.773051         0.482189        0.471831   \n",
       "1        6.366120      0.834118         0.054932        0.055551   \n",
       "7        2.757035      3.204606         0.013596        0.004648   \n",
       "6        1.044146      0.137294         0.018815        0.043506   \n",
       "0        0.553820      0.127648         0.030120        0.028485   \n",
       "11      44.889569     23.012119         0.530194        0.447028   \n",
       "9        0.307461      0.478728         0.004953        0.003606   \n",
       "10       7.681525      5.644055         0.040059        0.086145   \n",
       "3        0.756624      0.084283         0.015359        0.034552   \n",
       "\n",
       "   param_RG__ccp_alpha param_RG__n_estimators  \\\n",
       "2                0.005                   1000   \n",
       "5                  0.1                   1000   \n",
       "4                  0.1                    100   \n",
       "8                  0.5                   1000   \n",
       "1                0.005                    100   \n",
       "7                  0.5                    100   \n",
       "6                  0.5                     10   \n",
       "0                0.005                     10   \n",
       "11                  10                   1000   \n",
       "9                   10                     10   \n",
       "10                  10                    100   \n",
       "3                  0.1                     10   \n",
       "\n",
       "                                               params  split0_test_score  \\\n",
       "2   {'RG__ccp_alpha': 0.005, 'RG__n_estimators': 1...          -0.163148   \n",
       "5    {'RG__ccp_alpha': 0.1, 'RG__n_estimators': 1000}          -0.324342   \n",
       "4     {'RG__ccp_alpha': 0.1, 'RG__n_estimators': 100}          -0.343808   \n",
       "8    {'RG__ccp_alpha': 0.5, 'RG__n_estimators': 1000}          -0.388643   \n",
       "1   {'RG__ccp_alpha': 0.005, 'RG__n_estimators': 100}          -0.196705   \n",
       "7     {'RG__ccp_alpha': 0.5, 'RG__n_estimators': 100}          -0.422145   \n",
       "6      {'RG__ccp_alpha': 0.5, 'RG__n_estimators': 10}          -0.709842   \n",
       "0    {'RG__ccp_alpha': 0.005, 'RG__n_estimators': 10}          -0.266081   \n",
       "11    {'RG__ccp_alpha': 10, 'RG__n_estimators': 1000}          -7.360508   \n",
       "9       {'RG__ccp_alpha': 10, 'RG__n_estimators': 10}         -11.740464   \n",
       "10     {'RG__ccp_alpha': 10, 'RG__n_estimators': 100}          -7.672920   \n",
       "3      {'RG__ccp_alpha': 0.1, 'RG__n_estimators': 10}          -0.612362   \n",
       "\n",
       "    split1_test_score  split2_test_score  split3_test_score  \\\n",
       "2           -0.331036          -2.393719         -24.345716   \n",
       "5           -0.555905          -4.018020         -29.424406   \n",
       "4           -0.545405          -3.274685         -37.033023   \n",
       "8           -0.856312          -1.890991         -27.773484   \n",
       "1           -0.349719          -7.063626         -23.389427   \n",
       "7           -0.843626          -7.177574         -30.493103   \n",
       "6           -1.662172          -2.410029         -25.257787   \n",
       "0           -0.452767          -4.028773        -122.053070   \n",
       "11         -10.910549          -8.852647         -32.764771   \n",
       "9          -15.949192         -19.369362         -51.053840   \n",
       "10         -10.761804          -8.376561         -38.239675   \n",
       "3           -1.032193          -1.261608         -92.503579   \n",
       "\n",
       "    split4_test_score  split5_test_score  split6_test_score  \\\n",
       "2         -550.240444          -0.026586          -3.625375   \n",
       "5         -550.723636          -0.115325          -3.390682   \n",
       "4         -542.240614          -0.300945         -13.159918   \n",
       "8         -562.681770          -0.281973          -3.801314   \n",
       "1         -579.607458          -0.477068          -5.445168   \n",
       "7         -595.632391          -0.395242          -3.626507   \n",
       "6         -562.283645          -0.551566         -57.878230   \n",
       "0         -522.705752          -0.018683         -19.312313   \n",
       "11        -588.748462          -6.896019          -6.744569   \n",
       "9         -558.060130          -6.338603          -9.249267   \n",
       "10        -606.826239          -7.054548          -6.836126   \n",
       "3         -639.200496          -0.907382          -8.649141   \n",
       "\n",
       "    split7_test_score  split8_test_score  split9_test_score  mean_test_score  \\\n",
       "2           -0.195787          -4.213022          -4.452217       -58.998705   \n",
       "5           -0.451633          -7.029101          -3.570368       -59.960342   \n",
       "4           -0.460090          -4.026434          -3.236846       -60.462177   \n",
       "8           -0.516310          -5.253351          -3.405329       -60.684948   \n",
       "1           -0.951777         -11.712068          -1.981878       -63.117489   \n",
       "7           -0.670982          -5.825014          -3.065234       -64.815182   \n",
       "6           -0.659841          -3.599568         -34.340168       -68.935285   \n",
       "0           -0.155460          -0.326760         -22.875423       -69.219508   \n",
       "11          -6.645303         -16.583710          -6.724235       -69.223077   \n",
       "9           -8.411717         -22.561797          -7.188896       -70.992327   \n",
       "10          -7.523705         -19.842469          -6.983972       -72.011802   \n",
       "3           -0.654587         -26.773284          -4.431699       -77.602633   \n",
       "\n",
       "    std_test_score  rank_test_score  \n",
       "2       163.891857                1  \n",
       "5       163.798755                2  \n",
       "4       160.950581                3  \n",
       "8       167.515361                4  \n",
       "1       172.300794                5  \n",
       "7       177.146038                6  \n",
       "6       165.478707                7  \n",
       "0       155.279664                8  \n",
       "11      173.346175                9  \n",
       "9       162.838289               10  \n",
       "10      178.517176               11  \n",
       "3       189.136998               12  "
      ]
     },
     "execution_count": 11,
     "metadata": {},
     "output_type": "execute_result"
    }
   ],
   "source": [
    "df = pd.DataFrame(search.cv_results_)\n",
    "df = df.sort_values(by=['rank_test_score'])\n",
    "df"
   ]
  },
  {
   "cell_type": "markdown",
   "metadata": {},
   "source": [
    "# 4. Best Hyperparameter"
   ]
  },
  {
   "cell_type": "code",
   "execution_count": 12,
   "metadata": {},
   "outputs": [
    {
     "name": "stdout",
     "output_type": "stream",
     "text": [
      "{'RG__ccp_alpha': 0.005, 'RG__n_estimators': 1000}\n"
     ]
    }
   ],
   "source": [
    "parms = pd.DataFrame(df['params'])\n",
    "for i in parms.iloc[0]:\n",
    "    print(i)"
   ]
  },
  {
   "cell_type": "markdown",
   "metadata": {},
   "source": [
    "# 5. Evaluate Model $log(Sales)$"
   ]
  },
  {
   "cell_type": "code",
   "execution_count": 13,
   "metadata": {},
   "outputs": [],
   "source": [
    "best_ccp_alpha = parms.iloc[0][0]['RG__ccp_alpha']\n",
    "best_n_est = parms.iloc[0][0]['RG__n_estimators']"
   ]
  },
  {
   "cell_type": "code",
   "execution_count": null,
   "metadata": {},
   "outputs": [],
   "source": []
  },
  {
   "cell_type": "code",
   "execution_count": 14,
   "metadata": {},
   "outputs": [],
   "source": [
    "Model_2 = RandomForestRegressor(ccp_alpha=best_ccp_alpha,n_estimators=best_n_est)"
   ]
  },
  {
   "cell_type": "code",
   "execution_count": 15,
   "metadata": {},
   "outputs": [],
   "source": [
    "X_train1,X_test1,Y_train1,Y_test1 = train_test_split(X_train,Y_train,test_size=0.2,random_state=132)\n"
   ]
  },
  {
   "cell_type": "code",
   "execution_count": 16,
   "metadata": {},
   "outputs": [
    {
     "data": {
      "text/plain": [
       "RandomForestRegressor(ccp_alpha=0.005, n_estimators=1000)"
      ]
     },
     "execution_count": 16,
     "metadata": {},
     "output_type": "execute_result"
    }
   ],
   "source": [
    "\n",
    "RG1 = Model_2\n",
    "RG1.fit(X_train1,Y_train1.values.ravel())"
   ]
  },
  {
   "cell_type": "code",
   "execution_count": null,
   "metadata": {},
   "outputs": [],
   "source": []
  },
  {
   "cell_type": "code",
   "execution_count": 17,
   "metadata": {},
   "outputs": [
    {
     "data": {
      "text/plain": [
       "0.37491772122567135"
      ]
     },
     "execution_count": 17,
     "metadata": {},
     "output_type": "execute_result"
    }
   ],
   "source": [
    "MSE(RG1.predict(X_test1),Y_test1)"
   ]
  },
  {
   "cell_type": "code",
   "execution_count": 18,
   "metadata": {},
   "outputs": [],
   "source": [
    "result = pd.DataFrame(Y_test1)"
   ]
  },
  {
   "cell_type": "code",
   "execution_count": 19,
   "metadata": {},
   "outputs": [],
   "source": [
    "result[\"Predicted_sales\"] = RG1.predict(X_test1)"
   ]
  },
  {
   "cell_type": "code",
   "execution_count": 20,
   "metadata": {},
   "outputs": [
    {
     "data": {
      "text/plain": [
       "0.37491772122567135"
      ]
     },
     "execution_count": 20,
     "metadata": {},
     "output_type": "execute_result"
    }
   ],
   "source": [
    "MSE(result[\"sales\"],result[\"Predicted_sales\"])"
   ]
  },
  {
   "cell_type": "markdown",
   "metadata": {},
   "source": [
    "# 6. Inventory Decision"
   ]
  },
  {
   "cell_type": "code",
   "execution_count": 21,
   "metadata": {},
   "outputs": [],
   "source": [
    "residual = result['sales']-result['Predicted_sales']"
   ]
  },
  {
   "cell_type": "code",
   "execution_count": 22,
   "metadata": {},
   "outputs": [
    {
     "data": {
      "text/plain": [
       "(4, 8)"
      ]
     },
     "execution_count": 22,
     "metadata": {},
     "output_type": "execute_result"
    }
   ],
   "source": [
    "Price=20\n",
    "Cost=12\n",
    "Salvage=8\n",
    "Over=Cost - Salvage\n",
    "Under=Price - Cost\n",
    "Over, Under"
   ]
  },
  {
   "cell_type": "markdown",
   "metadata": {},
   "source": [
    "### QQ plot to explore the distribution of residual"
   ]
  },
  {
   "cell_type": "markdown",
   "metadata": {},
   "source": [
    "#### Normal Distribution"
   ]
  },
  {
   "cell_type": "code",
   "execution_count": 23,
   "metadata": {},
   "outputs": [],
   "source": [
    "import scipy.stats as sct"
   ]
  },
  {
   "cell_type": "code",
   "execution_count": 24,
   "metadata": {},
   "outputs": [
    {
     "data": {
      "image/png": "[encoded data removed]",
      "text/plain": [
       "<Figure size 432x288 with 1 Axes>"
      ]
     },
     "metadata": {
      "needs_background": "light"
     },
     "output_type": "display_data"
    }
   ],
   "source": [
    "import scipy\n",
    "scipy.stats.probplot(residual, dist=\"norm\", plot=plt)\n",
    "plt.show()"
   ]
  },
  {
   "cell_type": "code",
   "execution_count": 25,
   "metadata": {},
   "outputs": [],
   "source": [
    "s = residual.std()\n",
    "opt_dec_N=round(sct.norm.ppf(Under/(Under+Over))*s + result['Predicted_sales'])"
   ]
  },
  {
   "cell_type": "markdown",
   "metadata": {},
   "source": [
    "#### Exponential Distribution"
   ]
  },
  {
   "cell_type": "code",
   "execution_count": 26,
   "metadata": {},
   "outputs": [
    {
     "data": {
      "image/png": "[encoded data removed]",
      "text/plain": [
       "<Figure size 432x288 with 1 Axes>"
      ]
     },
     "metadata": {
      "needs_background": "light"
     },
     "output_type": "display_data"
    }
   ],
   "source": [
    "scipy.stats.probplot(residual, dist=\"expon\", plot=plt)\n",
    "plt.show()"
   ]
  },
  {
   "cell_type": "code",
   "execution_count": 27,
   "metadata": {},
   "outputs": [],
   "source": [
    "opt_dec_E=round((-result['Predicted_sales'])*np.log(1-(Under/(Under+Over))))"
   ]
  },
  {
   "cell_type": "markdown",
   "metadata": {},
   "source": [
    "#### Empirical Distribution"
   ]
  },
  {
   "cell_type": "code",
   "execution_count": 28,
   "metadata": {},
   "outputs": [
    {
     "data": {
      "text/plain": [
       "[<matplotlib.lines.Line2D at 0x1d56c55c0a0>]"
      ]
     },
     "execution_count": 28,
     "metadata": {},
     "output_type": "execute_result"
    },
    {
     "data": {
      "image/png": "[encoded data removed]",
      "text/plain": [
       "<Figure size 432x288 with 1 Axes>"
      ]
     },
     "metadata": {
      "needs_background": "light"
     },
     "output_type": "display_data"
    }
   ],
   "source": [
    "size = residual.shape[0]\n",
    "step=1/size\n",
    "jumps = [step*i for i in range(1,size+1)]\n",
    "Sample = sorted(residual)\n",
    "plt.plot(Sample,jumps)"
   ]
  },
  {
   "cell_type": "code",
   "execution_count": 29,
   "metadata": {},
   "outputs": [
    {
     "data": {
      "image/png": "[encoded data removed]",
      "text/plain": [
       "<Figure size 432x288 with 1 Axes>"
      ]
     },
     "metadata": {
      "needs_background": "light"
     },
     "output_type": "display_data"
    }
   ],
   "source": [
    "plt.hist(Sample)\n",
    "plt.show()"
   ]
  },
  {
   "cell_type": "code",
   "execution_count": 30,
   "metadata": {},
   "outputs": [],
   "source": [
    "def inv(sample,jump,area):\n",
    "    size = len(sample)\n",
    "    i=0\n",
    "    temp=jump[i]\n",
    "    while temp<area:\n",
    "        i+=1\n",
    "        temp=jump[i]\n",
    "        \n",
    "    return sample[i]"
   ]
  },
  {
   "cell_type": "code",
   "execution_count": 31,
   "metadata": {},
   "outputs": [
    {
     "data": {
      "text/plain": [
       "0.0"
      ]
     },
     "execution_count": 31,
     "metadata": {},
     "output_type": "execute_result"
    }
   ],
   "source": [
    "offset = inv(Sample,jumps,2/3)\n",
    "offset"
   ]
  },
  {
   "cell_type": "code",
   "execution_count": 32,
   "metadata": {},
   "outputs": [],
   "source": [
    "opt_dec_B = round(result['Predicted_sales']+offset)"
   ]
  },
  {
   "cell_type": "markdown",
   "metadata": {},
   "source": [
    "# 7. Out-of-samples Profit"
   ]
  },
  {
   "cell_type": "code",
   "execution_count": 33,
   "metadata": {},
   "outputs": [
    {
     "data": {
      "text/plain": [
       "82096"
      ]
     },
     "execution_count": 33,
     "metadata": {},
     "output_type": "execute_result"
    }
   ],
   "source": [
    "#max profit for test data set\n",
    "max_profit = result['sales'].sum()*(Price-Cost)\n",
    "max_profit"
   ]
  },
  {
   "cell_type": "code",
   "execution_count": 34,
   "metadata": {},
   "outputs": [],
   "source": [
    "def profit(demand,inv):\n",
    "    return (Price-Salvage)*np.minimum(demand,inv)-(Cost-Salvage)*inv"
   ]
  },
  {
   "cell_type": "code",
   "execution_count": 35,
   "metadata": {},
   "outputs": [
    {
     "data": {
      "text/plain": [
       "81856.0"
      ]
     },
     "execution_count": 35,
     "metadata": {},
     "output_type": "execute_result"
    }
   ],
   "source": [
    "#Profit (Normal)\n",
    "profit_lst_N = profit(result['sales'],opt_dec_N)\n",
    "profit_lst_N.sum()"
   ]
  },
  {
   "cell_type": "code",
   "execution_count": 36,
   "metadata": {},
   "outputs": [
    {
     "data": {
      "text/plain": [
       "78096.0"
      ]
     },
     "execution_count": 36,
     "metadata": {},
     "output_type": "execute_result"
    }
   ],
   "source": [
    "#Profit (Exponential)\n",
    "profit_lst_E = profit(result['sales'],opt_dec_E)\n",
    "profit_lst_E.sum()"
   ]
  },
  {
   "cell_type": "code",
   "execution_count": 37,
   "metadata": {},
   "outputs": [
    {
     "data": {
      "text/plain": [
       "81872.0"
      ]
     },
     "execution_count": 37,
     "metadata": {},
     "output_type": "execute_result"
    }
   ],
   "source": [
    "#Profit (Empirical)\n",
    "profit_lst_B = profit(result['sales'],opt_dec_B)\n",
    "profit_lst_B.sum()"
   ]
  },
  {
   "cell_type": "markdown",
   "metadata": {},
   "source": [
    "# 8. K-Fold Cross Validation"
   ]
  },
  {
   "cell_type": "markdown",
   "metadata": {},
   "source": [
    "### Repeat steps 5,6,7 with 10-fold cross validation"
   ]
  },
  {
   "cell_type": "code",
   "execution_count": 38,
   "metadata": {},
   "outputs": [],
   "source": [
    "Model_4= RandomForestRegressor(ccp_alpha=best_ccp_alpha,n_estimators=best_n_est)"
   ]
  },
  {
   "cell_type": "code",
   "execution_count": 39,
   "metadata": {},
   "outputs": [],
   "source": [
    "from sklearn.model_selection import KFold\n",
    "k=10\n",
    "kf = KFold(n_splits=k)\n",
    "X_train_t=X_train.to_numpy()\n",
    "Y_train_t=Y_train.to_numpy()\n",
    "model = []\n",
    "mse_lst = []\n",
    "max_profit_lst = []\n",
    "profit_N_lst = []\n",
    "profit_E_lst = []\n",
    "profit_B_lst = []\n",
    "\n",
    "for train_index,test_index in kf.split(X_train_t):\n",
    "    X_train_K,X_test_K=X_train_t[train_index],X_train_t[test_index]\n",
    "    Y_train_K,Y_test_K=Y_train_t[train_index],Y_train_t[test_index]\n",
    "    \n",
    "    #PCA to transform train data\n",
    "    \n",
    "    #Model\n",
    "    RG_K = Model_4\n",
    "    RG_K.fit(X_train_K,Y_train_K.ravel())\n",
    "    \n",
    "    #pca to transform test data\n",
    "    \n",
    "    #MSE\n",
    "    mse_lst.append(MSE(RG_K.predict(X_test_K),Y_test_K))\n",
    "    \n",
    "    #Transform log(sale) back to sale\n",
    "    result_K = pd.DataFrame(Y_test_K)\n",
    "    result_K[\"Predicted_sales\"] = RG_K.predict(X_test_K)\n",
    "    \n",
    "    #Obtain residual\n",
    "    residual_K = result_K[0]-result_K['Predicted_sales']\n",
    "    \n",
    "    #Get std for Normal distribution\n",
    "    s_K = residual.std()\n",
    "    \n",
    "    #Inventory Decision (Normal)\n",
    "    opt_dec_N_K=np.ceil(sct.norm.ppf(Under/(Under+Over))*s_K + result_K['Predicted_sales'])\n",
    "    #Inventory Decision (Exponential)\n",
    "    opt_dec_E_K=np.ceil((-result_K['Predicted_sales'])*np.log(1-(Under/(Under+Over))))\n",
    "    \n",
    "    #Inventory Decision (Empirical Distribution)\n",
    "    size_K = residual_K.shape[0]\n",
    "    step_K=1/size_K\n",
    "    jumps_K = [step_K*i for i in range(1,size+1)]\n",
    "    Sample_K = sorted(residual_K)\n",
    "    offset_K = inv(Sample_K,jumps_K,2/3)\n",
    "    opt_dec_B_K = np.ceil(result_K['Predicted_sales']+offset_K)\n",
    "    \n",
    "    #Out-of_sample profit\n",
    "    profit_lst_B_K = profit(result_K[0],opt_dec_B_K)\n",
    "    profit_B_lst.append(profit_lst_B_K.sum())\n",
    "    \n",
    "    profit_lst_N_K = profit(result_K[0],opt_dec_N_K)\n",
    "    profit_N_lst.append(profit_lst_N_K.sum())\n",
    "    \n",
    "    profit_lst_E_K = profit(result_K[0],opt_dec_E_K)\n",
    "    profit_E_lst.append(profit_lst_E_K.sum())\n",
    "    \n",
    "    max_profit_K = result_K[0].sum()*(Price-Cost)\n",
    "    max_profit_lst.append(max_profit_K)\n",
    "    \n",
    "max_profit_lst = np.array(max_profit_lst)\n",
    "profit_N_lst = np.array(profit_N_lst)\n",
    "profit_E_lst = np.array(profit_E_lst)\n",
    "profit_B_lst = np.array(profit_B_lst)\n",
    "\n",
    "fraction_of_max_N = profit_N_lst/max_profit_lst\n",
    "fraction_of_max_E = profit_E_lst/max_profit_lst\n",
    "fraction_of_max_B = profit_B_lst/max_profit_lst\n",
    "\n",
    "dist_profit = [\"Normal\",\"Exponential\",\"Empirical\",\"Max\"]\n",
    "dist_frac = [\"Normal\",\"Exponential\",\"Empirical\"]\n",
    "col_name = [\"Dataset_\"+str(i) for i in range(1,k+1)]\n",
    "\n",
    "profit_lst = [profit_N_lst,profit_E_lst,profit_B_lst,max_profit_lst]\n",
    "profit_table = pd.DataFrame(profit_lst,index=dist_profit,columns=col_name)\n",
    "profit_table[\"mean_profit\"]=profit_table.mean(axis=1)\n",
    "profit_table[\"std_profit\"]=profit_table.std(ddof=1,axis=1)\n",
    "\n",
    "fraction_lst = [fraction_of_max_N,fraction_of_max_E,fraction_of_max_B]\n",
    "fraction_table = pd.DataFrame(fraction_lst,index=dist_frac,columns=col_name)\n",
    "fraction_table[\"mean_fraction\"]=fraction_table.mean(axis=1)"
   ]
  },
  {
   "cell_type": "code",
   "execution_count": 40,
   "metadata": {},
   "outputs": [
    {
     "data": {
      "text/html": [
       "<div>\n",
       "<style scoped>\n",
       "    .dataframe tbody tr th:only-of-type {\n",
       "        vertical-align: middle;\n",
       "    }\n",
       "\n",
       "    .dataframe tbody tr th {\n",
       "        vertical-align: top;\n",
       "    }\n",
       "\n",
       "    .dataframe thead th {\n",
       "        text-align: right;\n",
       "    }\n",
       "</style>\n",
       "<table border=\"1\" class=\"dataframe\">\n",
       "  <thead>\n",
       "    <tr style=\"text-align: right;\">\n",
       "      <th></th>\n",
       "      <th>Dataset_1</th>\n",
       "      <th>Dataset_2</th>\n",
       "      <th>Dataset_3</th>\n",
       "      <th>Dataset_4</th>\n",
       "      <th>Dataset_5</th>\n",
       "      <th>Dataset_6</th>\n",
       "      <th>Dataset_7</th>\n",
       "      <th>Dataset_8</th>\n",
       "      <th>Dataset_9</th>\n",
       "      <th>Dataset_10</th>\n",
       "      <th>mean_fraction</th>\n",
       "    </tr>\n",
       "  </thead>\n",
       "  <tbody>\n",
       "    <tr>\n",
       "      <th>Normal</th>\n",
       "      <td>0.976996</td>\n",
       "      <td>0.978611</td>\n",
       "      <td>0.976153</td>\n",
       "      <td>0.964893</td>\n",
       "      <td>0.919017</td>\n",
       "      <td>0.976439</td>\n",
       "      <td>0.976229</td>\n",
       "      <td>0.980139</td>\n",
       "      <td>0.975125</td>\n",
       "      <td>0.974645</td>\n",
       "      <td>0.969825</td>\n",
       "    </tr>\n",
       "    <tr>\n",
       "      <th>Exponential</th>\n",
       "      <td>0.937657</td>\n",
       "      <td>0.940516</td>\n",
       "      <td>0.936668</td>\n",
       "      <td>0.936652</td>\n",
       "      <td>0.890894</td>\n",
       "      <td>0.939664</td>\n",
       "      <td>0.937837</td>\n",
       "      <td>0.939202</td>\n",
       "      <td>0.935308</td>\n",
       "      <td>0.935843</td>\n",
       "      <td>0.933024</td>\n",
       "    </tr>\n",
       "    <tr>\n",
       "      <th>Empirical</th>\n",
       "      <td>0.994877</td>\n",
       "      <td>0.993018</td>\n",
       "      <td>0.990237</td>\n",
       "      <td>0.981116</td>\n",
       "      <td>0.933521</td>\n",
       "      <td>0.994776</td>\n",
       "      <td>0.990688</td>\n",
       "      <td>0.994623</td>\n",
       "      <td>0.990426</td>\n",
       "      <td>0.992797</td>\n",
       "      <td>0.985608</td>\n",
       "    </tr>\n",
       "  </tbody>\n",
       "</table>\n",
       "</div>"
      ],
      "text/plain": [
       "             Dataset_1  Dataset_2  Dataset_3  Dataset_4  Dataset_5  Dataset_6  \\\n",
       "Normal        0.976996   0.978611   0.976153   0.964893   0.919017   0.976439   \n",
       "Exponential   0.937657   0.940516   0.936668   0.936652   0.890894   0.939664   \n",
       "Empirical     0.994877   0.993018   0.990237   0.981116   0.933521   0.994776   \n",
       "\n",
       "             Dataset_7  Dataset_8  Dataset_9  Dataset_10  mean_fraction  \n",
       "Normal        0.976229   0.980139   0.975125    0.974645       0.969825  \n",
       "Exponential   0.937837   0.939202   0.935308    0.935843       0.933024  \n",
       "Empirical     0.990688   0.994623   0.990426    0.992797       0.985608  "
      ]
     },
     "execution_count": 40,
     "metadata": {},
     "output_type": "execute_result"
    }
   ],
   "source": [
    "fraction_table"
   ]
  },
  {
   "cell_type": "code",
   "execution_count": 41,
   "metadata": {
    "scrolled": true
   },
   "outputs": [
    {
     "data": {
      "text/html": [
       "<div>\n",
       "<style scoped>\n",
       "    .dataframe tbody tr th:only-of-type {\n",
       "        vertical-align: middle;\n",
       "    }\n",
       "\n",
       "    .dataframe tbody tr th {\n",
       "        vertical-align: top;\n",
       "    }\n",
       "\n",
       "    .dataframe thead th {\n",
       "        text-align: right;\n",
       "    }\n",
       "</style>\n",
       "<table border=\"1\" class=\"dataframe\">\n",
       "  <thead>\n",
       "    <tr style=\"text-align: right;\">\n",
       "      <th></th>\n",
       "      <th>Dataset_1</th>\n",
       "      <th>Dataset_2</th>\n",
       "      <th>Dataset_3</th>\n",
       "      <th>Dataset_4</th>\n",
       "      <th>Dataset_5</th>\n",
       "      <th>Dataset_6</th>\n",
       "      <th>Dataset_7</th>\n",
       "      <th>Dataset_8</th>\n",
       "      <th>Dataset_9</th>\n",
       "      <th>Dataset_10</th>\n",
       "      <th>mean_profit</th>\n",
       "      <th>std_profit</th>\n",
       "    </tr>\n",
       "  </thead>\n",
       "  <tbody>\n",
       "    <tr>\n",
       "      <th>Normal</th>\n",
       "      <td>40432.0</td>\n",
       "      <td>44288.0</td>\n",
       "      <td>45192.0</td>\n",
       "      <td>44964.0</td>\n",
       "      <td>45620.0</td>\n",
       "      <td>38128.0</td>\n",
       "      <td>47804.0</td>\n",
       "      <td>45204.0</td>\n",
       "      <td>43592.0</td>\n",
       "      <td>40592.0</td>\n",
       "      <td>43581.6</td>\n",
       "      <td>2796.763959</td>\n",
       "    </tr>\n",
       "    <tr>\n",
       "      <th>Exponential</th>\n",
       "      <td>38804.0</td>\n",
       "      <td>42564.0</td>\n",
       "      <td>43364.0</td>\n",
       "      <td>43648.0</td>\n",
       "      <td>44224.0</td>\n",
       "      <td>36692.0</td>\n",
       "      <td>45924.0</td>\n",
       "      <td>43316.0</td>\n",
       "      <td>41812.0</td>\n",
       "      <td>38976.0</td>\n",
       "      <td>41932.4</td>\n",
       "      <td>2729.355352</td>\n",
       "    </tr>\n",
       "    <tr>\n",
       "      <th>Empirical</th>\n",
       "      <td>41172.0</td>\n",
       "      <td>44940.0</td>\n",
       "      <td>45844.0</td>\n",
       "      <td>45720.0</td>\n",
       "      <td>46340.0</td>\n",
       "      <td>38844.0</td>\n",
       "      <td>48512.0</td>\n",
       "      <td>45872.0</td>\n",
       "      <td>44276.0</td>\n",
       "      <td>41348.0</td>\n",
       "      <td>44286.8</td>\n",
       "      <td>2782.968228</td>\n",
       "    </tr>\n",
       "    <tr>\n",
       "      <th>Max</th>\n",
       "      <td>41384.0</td>\n",
       "      <td>45256.0</td>\n",
       "      <td>46296.0</td>\n",
       "      <td>46600.0</td>\n",
       "      <td>49640.0</td>\n",
       "      <td>39048.0</td>\n",
       "      <td>48968.0</td>\n",
       "      <td>46120.0</td>\n",
       "      <td>44704.0</td>\n",
       "      <td>41648.0</td>\n",
       "      <td>44966.4</td>\n",
       "      <td>3203.875254</td>\n",
       "    </tr>\n",
       "  </tbody>\n",
       "</table>\n",
       "</div>"
      ],
      "text/plain": [
       "             Dataset_1  Dataset_2  Dataset_3  Dataset_4  Dataset_5  Dataset_6  \\\n",
       "Normal         40432.0    44288.0    45192.0    44964.0    45620.0    38128.0   \n",
       "Exponential    38804.0    42564.0    43364.0    43648.0    44224.0    36692.0   \n",
       "Empirical      41172.0    44940.0    45844.0    45720.0    46340.0    38844.0   \n",
       "Max            41384.0    45256.0    46296.0    46600.0    49640.0    39048.0   \n",
       "\n",
       "             Dataset_7  Dataset_8  Dataset_9  Dataset_10  mean_profit  \\\n",
       "Normal         47804.0    45204.0    43592.0     40592.0      43581.6   \n",
       "Exponential    45924.0    43316.0    41812.0     38976.0      41932.4   \n",
       "Empirical      48512.0    45872.0    44276.0     41348.0      44286.8   \n",
       "Max            48968.0    46120.0    44704.0     41648.0      44966.4   \n",
       "\n",
       "              std_profit  \n",
       "Normal       2796.763959  \n",
       "Exponential  2729.355352  \n",
       "Empirical    2782.968228  \n",
       "Max          3203.875254  "
      ]
     },
     "execution_count": 41,
     "metadata": {},
     "output_type": "execute_result"
    }
   ],
   "source": [
    "profit_table"
   ]
  },
  {
   "cell_type": "code",
   "execution_count": 42,
   "metadata": {},
   "outputs": [],
   "source": [
    "profit_table.to_csv(\".\\\\Model_Selection_Result\\\\4.2B_Random_forest(No_PCA).csv\")"
   ]
  },
  {
   "cell_type": "code",
   "execution_count": 43,
   "metadata": {},
   "outputs": [
    {
     "data": {
      "text/plain": [
       "[<matplotlib.lines.Line2D at 0x1d56c5a9b50>]"
      ]
     },
     "execution_count": 43,
     "metadata": {},
     "output_type": "execute_result"
    },
    {
     "data": {
      "image/png": "[encoded data removed]",
      "text/plain": [
       "<Figure size 432x288 with 1 Axes>"
      ]
     },
     "metadata": {
      "needs_background": "light"
     },
     "output_type": "display_data"
    }
   ],
   "source": [
    "plt.xlabel(\"sales\")\n",
    "plt.ylabel(\"Residual\")\n",
    "plt.plot(result['sales'],residual,\".\")"
   ]
  },
  {
   "cell_type": "code",
   "execution_count": null,
   "metadata": {},
   "outputs": [],
   "source": []
  }
 ],
 "metadata": {
  "kernelspec": {
   "display_name": "Python 3",
   "language": "python",
   "name": "python3"
  },
  "language_info": {
   "codemirror_mode": {
    "name": "ipython",
    "version": 3
   },
   "file_extension": ".py",
   "mimetype": "text/x-python",
   "name": "python",
   "nbconvert_exporter": "python",
   "pygments_lexer": "ipython3",
   "version": "3.8.5"
  }
 },
 "nbformat": 4,
 "nbformat_minor": 4
}
