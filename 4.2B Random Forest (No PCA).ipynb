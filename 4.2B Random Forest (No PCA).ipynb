{
 "cells": [
  {
   "cell_type": "code",
   "execution_count": 1,
   "metadata": {},
   "outputs": [],
   "source": [
    "import pandas as pd\n",
    "import numpy as np\n",
    "import matplotlib.pyplot as plt\n",
    "from sklearn.pipeline import Pipeline\n",
    "from sklearn.model_selection import GridSearchCV\n",
    "from sklearn.decomposition import PCA\n",
    "from sklearn.metrics import mean_squared_error as MSE\n",
    "from sklearn.linear_model import LinearRegression\n",
    "from sklearn.preprocessing import PolynomialFeatures\n",
    "from sklearn.model_selection import train_test_split\n",
    "from sklearn.linear_model import Lasso\n",
    "from sklearn.neighbors import KNeighborsRegressor\n",
    "from sklearn.tree import DecisionTreeRegressor\n",
    "from sklearn.ensemble import RandomForestRegressor\n",
    "from sklearn.ensemble import GradientBoostingRegressor"
   ]
  },
  {
   "cell_type": "code",
   "execution_count": 2,
   "metadata": {},
   "outputs": [],
   "source": [
    "np.random.seed(42)"
   ]
  },
  {
   "cell_type": "markdown",
   "metadata": {},
   "source": [
    "# 1. Import the train datasets"
   ]
  },
  {
   "cell_type": "code",
   "execution_count": 3,
   "metadata": {},
   "outputs": [],
   "source": [
    "X_train = pd.read_csv(\"data-train.csv\",index_col=0)\n",
    "Y_train = X_train.sales\n",
    "X_train = X_train.drop(['sales'],axis=1)"
   ]
  },
  {
   "cell_type": "code",
   "execution_count": 4,
   "metadata": {},
   "outputs": [],
   "source": [
    "#X_train = pd.read_csv(\"B_encoded_train_data.csv\",index_col=0)\n",
    "#Y_train = pd.read_csv(\"A_sales_train.csv\",index_col=0)"
   ]
  },
  {
   "cell_type": "code",
   "execution_count": 5,
   "metadata": {},
   "outputs": [],
   "source": [
    "Model_1 = RandomForestRegressor(random_state=42)"
   ]
  },
  {
   "cell_type": "markdown",
   "metadata": {},
   "source": [
    "# 2. Setup Pipeline"
   ]
  },
  {
   "cell_type": "code",
   "execution_count": 6,
   "metadata": {},
   "outputs": [],
   "source": [
    "\n",
    "RG = Model_1"
   ]
  },
  {
   "cell_type": "code",
   "execution_count": 7,
   "metadata": {},
   "outputs": [],
   "source": [
    "\n",
    "pipe = Pipeline(steps=[(\"RG\",RG)])"
   ]
  },
  {
   "cell_type": "code",
   "execution_count": 8,
   "metadata": {},
   "outputs": [],
   "source": [
    "param_grid = {\n",
    "    \"RG__ccp_alpha\":[0.005,0.1,0.5,10],\n",
    "    \"RG__n_estimators\":[10,100,1000]\n",
    "}"
   ]
  },
  {
   "cell_type": "markdown",
   "metadata": {},
   "source": [
    "# 3. Setup GridSearch"
   ]
  },
  {
   "cell_type": "code",
   "execution_count": 9,
   "metadata": {},
   "outputs": [],
   "source": [
    "score_metric = 'neg_mean_squared_error'\n",
    "search = GridSearchCV(pipe,param_grid,\n",
    "                      n_jobs=-1,\n",
    "                      cv=10,\n",
    "                      scoring=score_metric)"
   ]
  },
  {
   "cell_type": "code",
   "execution_count": 10,
   "metadata": {},
   "outputs": [
    {
     "data": {
      "text/plain": [
       "GridSearchCV(cv=10,\n",
       "             estimator=Pipeline(steps=[('RG',\n",
       "                                        RandomForestRegressor(random_state=42))]),\n",
       "             n_jobs=-1,\n",
       "             param_grid={'RG__ccp_alpha': [0.005, 0.1, 0.5, 10],\n",
       "                         'RG__n_estimators': [10, 100, 1000]},\n",
       "             scoring='neg_mean_squared_error')"
      ]
     },
     "execution_count": 10,
     "metadata": {},
     "output_type": "execute_result"
    }
   ],
   "source": [
    "search.fit(X_train,Y_train.values.ravel())"
   ]
  },
  {
   "cell_type": "code",
   "execution_count": 11,
   "metadata": {},
   "outputs": [
    {
     "name": "stdout",
     "output_type": "stream",
     "text": [
      "Best parameter (CV score=-479.561):\n",
      "{'RG__ccp_alpha': 0.005, 'RG__n_estimators': 1000}\n"
     ]
    }
   ],
   "source": [
    "print(\"Best parameter (CV score=%0.3f):\" % search.best_score_)\n",
    "print(search.best_params_)"
   ]
  },
  {
   "cell_type": "code",
   "execution_count": 12,
   "metadata": {},
   "outputs": [
    {
     "data": {
      "text/html": [
       "<div>\n",
       "<style scoped>\n",
       "    .dataframe tbody tr th:only-of-type {\n",
       "        vertical-align: middle;\n",
       "    }\n",
       "\n",
       "    .dataframe tbody tr th {\n",
       "        vertical-align: top;\n",
       "    }\n",
       "\n",
       "    .dataframe thead th {\n",
       "        text-align: right;\n",
       "    }\n",
       "</style>\n",
       "<table border=\"1\" class=\"dataframe\">\n",
       "  <thead>\n",
       "    <tr style=\"text-align: right;\">\n",
       "      <th></th>\n",
       "      <th>mean_fit_time</th>\n",
       "      <th>std_fit_time</th>\n",
       "      <th>mean_score_time</th>\n",
       "      <th>std_score_time</th>\n",
       "      <th>param_RG__ccp_alpha</th>\n",
       "      <th>param_RG__n_estimators</th>\n",
       "      <th>params</th>\n",
       "      <th>split0_test_score</th>\n",
       "      <th>split1_test_score</th>\n",
       "      <th>split2_test_score</th>\n",
       "      <th>split3_test_score</th>\n",
       "      <th>split4_test_score</th>\n",
       "      <th>split5_test_score</th>\n",
       "      <th>split6_test_score</th>\n",
       "      <th>split7_test_score</th>\n",
       "      <th>split8_test_score</th>\n",
       "      <th>split9_test_score</th>\n",
       "      <th>mean_test_score</th>\n",
       "      <th>std_test_score</th>\n",
       "      <th>rank_test_score</th>\n",
       "    </tr>\n",
       "  </thead>\n",
       "  <tbody>\n",
       "    <tr>\n",
       "      <th>2</th>\n",
       "      <td>31.747604</td>\n",
       "      <td>0.714534</td>\n",
       "      <td>0.168884</td>\n",
       "      <td>0.015328</td>\n",
       "      <td>0.005</td>\n",
       "      <td>1000</td>\n",
       "      <td>{'RG__ccp_alpha': 0.005, 'RG__n_estimators': 1...</td>\n",
       "      <td>-150.277857</td>\n",
       "      <td>-263.869634</td>\n",
       "      <td>-799.708608</td>\n",
       "      <td>-634.474235</td>\n",
       "      <td>-1170.281726</td>\n",
       "      <td>-158.037660</td>\n",
       "      <td>-367.270103</td>\n",
       "      <td>-406.052224</td>\n",
       "      <td>-577.999190</td>\n",
       "      <td>-267.634258</td>\n",
       "      <td>-479.560550</td>\n",
       "      <td>305.700988</td>\n",
       "      <td>1</td>\n",
       "    </tr>\n",
       "    <tr>\n",
       "      <th>5</th>\n",
       "      <td>33.611029</td>\n",
       "      <td>1.786415</td>\n",
       "      <td>0.141785</td>\n",
       "      <td>0.008774</td>\n",
       "      <td>0.1</td>\n",
       "      <td>1000</td>\n",
       "      <td>{'RG__ccp_alpha': 0.1, 'RG__n_estimators': 1000}</td>\n",
       "      <td>-150.951681</td>\n",
       "      <td>-264.423875</td>\n",
       "      <td>-801.030266</td>\n",
       "      <td>-634.328609</td>\n",
       "      <td>-1170.873440</td>\n",
       "      <td>-157.703030</td>\n",
       "      <td>-368.308332</td>\n",
       "      <td>-407.876585</td>\n",
       "      <td>-576.569647</td>\n",
       "      <td>-268.076515</td>\n",
       "      <td>-480.014198</td>\n",
       "      <td>305.731767</td>\n",
       "      <td>2</td>\n",
       "    </tr>\n",
       "    <tr>\n",
       "      <th>8</th>\n",
       "      <td>32.526006</td>\n",
       "      <td>0.935369</td>\n",
       "      <td>0.138399</td>\n",
       "      <td>0.009276</td>\n",
       "      <td>0.5</td>\n",
       "      <td>1000</td>\n",
       "      <td>{'RG__ccp_alpha': 0.5, 'RG__n_estimators': 1000}</td>\n",
       "      <td>-152.515444</td>\n",
       "      <td>-267.328498</td>\n",
       "      <td>-803.819248</td>\n",
       "      <td>-639.045747</td>\n",
       "      <td>-1174.323979</td>\n",
       "      <td>-160.787482</td>\n",
       "      <td>-373.483673</td>\n",
       "      <td>-414.992568</td>\n",
       "      <td>-577.853697</td>\n",
       "      <td>-271.723962</td>\n",
       "      <td>-483.587430</td>\n",
       "      <td>305.779239</td>\n",
       "      <td>3</td>\n",
       "    </tr>\n",
       "    <tr>\n",
       "      <th>1</th>\n",
       "      <td>2.936946</td>\n",
       "      <td>0.146384</td>\n",
       "      <td>0.021870</td>\n",
       "      <td>0.007653</td>\n",
       "      <td>0.005</td>\n",
       "      <td>100</td>\n",
       "      <td>{'RG__ccp_alpha': 0.005, 'RG__n_estimators': 100}</td>\n",
       "      <td>-147.103460</td>\n",
       "      <td>-269.230536</td>\n",
       "      <td>-981.459513</td>\n",
       "      <td>-625.506711</td>\n",
       "      <td>-1223.378375</td>\n",
       "      <td>-149.054775</td>\n",
       "      <td>-390.771035</td>\n",
       "      <td>-408.163409</td>\n",
       "      <td>-594.428001</td>\n",
       "      <td>-310.692976</td>\n",
       "      <td>-509.978879</td>\n",
       "      <td>337.032265</td>\n",
       "      <td>4</td>\n",
       "    </tr>\n",
       "    <tr>\n",
       "      <th>4</th>\n",
       "      <td>3.371604</td>\n",
       "      <td>0.213912</td>\n",
       "      <td>0.021081</td>\n",
       "      <td>0.008605</td>\n",
       "      <td>0.1</td>\n",
       "      <td>100</td>\n",
       "      <td>{'RG__ccp_alpha': 0.1, 'RG__n_estimators': 100}</td>\n",
       "      <td>-148.519902</td>\n",
       "      <td>-269.706248</td>\n",
       "      <td>-982.830500</td>\n",
       "      <td>-624.916832</td>\n",
       "      <td>-1222.872597</td>\n",
       "      <td>-150.282542</td>\n",
       "      <td>-392.419332</td>\n",
       "      <td>-410.974025</td>\n",
       "      <td>-593.173175</td>\n",
       "      <td>-310.823714</td>\n",
       "      <td>-510.651887</td>\n",
       "      <td>336.598214</td>\n",
       "      <td>5</td>\n",
       "    </tr>\n",
       "    <tr>\n",
       "      <th>7</th>\n",
       "      <td>3.507558</td>\n",
       "      <td>0.287291</td>\n",
       "      <td>0.022412</td>\n",
       "      <td>0.006349</td>\n",
       "      <td>0.5</td>\n",
       "      <td>100</td>\n",
       "      <td>{'RG__ccp_alpha': 0.5, 'RG__n_estimators': 100}</td>\n",
       "      <td>-151.923714</td>\n",
       "      <td>-273.004737</td>\n",
       "      <td>-984.660859</td>\n",
       "      <td>-628.235213</td>\n",
       "      <td>-1217.543196</td>\n",
       "      <td>-151.470143</td>\n",
       "      <td>-398.317182</td>\n",
       "      <td>-414.823445</td>\n",
       "      <td>-592.991525</td>\n",
       "      <td>-313.957259</td>\n",
       "      <td>-512.692727</td>\n",
       "      <td>334.605496</td>\n",
       "      <td>6</td>\n",
       "    </tr>\n",
       "    <tr>\n",
       "      <th>11</th>\n",
       "      <td>27.693177</td>\n",
       "      <td>2.328996</td>\n",
       "      <td>0.070386</td>\n",
       "      <td>0.014641</td>\n",
       "      <td>10</td>\n",
       "      <td>1000</td>\n",
       "      <td>{'RG__ccp_alpha': 10, 'RG__n_estimators': 1000}</td>\n",
       "      <td>-171.909735</td>\n",
       "      <td>-312.715918</td>\n",
       "      <td>-868.545716</td>\n",
       "      <td>-691.960678</td>\n",
       "      <td>-1231.695457</td>\n",
       "      <td>-182.527715</td>\n",
       "      <td>-456.328219</td>\n",
       "      <td>-442.805938</td>\n",
       "      <td>-640.005813</td>\n",
       "      <td>-305.965359</td>\n",
       "      <td>-530.446055</td>\n",
       "      <td>316.973204</td>\n",
       "      <td>7</td>\n",
       "    </tr>\n",
       "    <tr>\n",
       "      <th>10</th>\n",
       "      <td>3.190902</td>\n",
       "      <td>0.189468</td>\n",
       "      <td>0.018581</td>\n",
       "      <td>0.009590</td>\n",
       "      <td>10</td>\n",
       "      <td>100</td>\n",
       "      <td>{'RG__ccp_alpha': 10, 'RG__n_estimators': 100}</td>\n",
       "      <td>-172.491749</td>\n",
       "      <td>-319.959951</td>\n",
       "      <td>-1038.767410</td>\n",
       "      <td>-695.187341</td>\n",
       "      <td>-1264.265629</td>\n",
       "      <td>-173.943435</td>\n",
       "      <td>-486.051647</td>\n",
       "      <td>-445.655095</td>\n",
       "      <td>-652.416887</td>\n",
       "      <td>-330.382884</td>\n",
       "      <td>-557.912203</td>\n",
       "      <td>343.521454</td>\n",
       "      <td>8</td>\n",
       "    </tr>\n",
       "    <tr>\n",
       "      <th>6</th>\n",
       "      <td>0.343850</td>\n",
       "      <td>0.031762</td>\n",
       "      <td>0.003292</td>\n",
       "      <td>0.002320</td>\n",
       "      <td>0.5</td>\n",
       "      <td>10</td>\n",
       "      <td>{'RG__ccp_alpha': 0.5, 'RG__n_estimators': 10}</td>\n",
       "      <td>-217.934159</td>\n",
       "      <td>-390.151611</td>\n",
       "      <td>-1202.949676</td>\n",
       "      <td>-592.399408</td>\n",
       "      <td>-1541.877699</td>\n",
       "      <td>-200.918940</td>\n",
       "      <td>-444.957744</td>\n",
       "      <td>-471.486028</td>\n",
       "      <td>-640.759346</td>\n",
       "      <td>-313.091085</td>\n",
       "      <td>-601.652570</td>\n",
       "      <td>415.273489</td>\n",
       "      <td>9</td>\n",
       "    </tr>\n",
       "    <tr>\n",
       "      <th>0</th>\n",
       "      <td>0.291446</td>\n",
       "      <td>0.014556</td>\n",
       "      <td>0.001562</td>\n",
       "      <td>0.004686</td>\n",
       "      <td>0.005</td>\n",
       "      <td>10</td>\n",
       "      <td>{'RG__ccp_alpha': 0.005, 'RG__n_estimators': 10}</td>\n",
       "      <td>-214.367106</td>\n",
       "      <td>-397.180418</td>\n",
       "      <td>-1202.504136</td>\n",
       "      <td>-603.852610</td>\n",
       "      <td>-1552.333654</td>\n",
       "      <td>-197.970926</td>\n",
       "      <td>-449.260113</td>\n",
       "      <td>-449.905357</td>\n",
       "      <td>-640.329220</td>\n",
       "      <td>-320.503250</td>\n",
       "      <td>-602.820679</td>\n",
       "      <td>417.894435</td>\n",
       "      <td>10</td>\n",
       "    </tr>\n",
       "    <tr>\n",
       "      <th>3</th>\n",
       "      <td>0.337849</td>\n",
       "      <td>0.027690</td>\n",
       "      <td>0.004289</td>\n",
       "      <td>0.002320</td>\n",
       "      <td>0.1</td>\n",
       "      <td>10</td>\n",
       "      <td>{'RG__ccp_alpha': 0.1, 'RG__n_estimators': 10}</td>\n",
       "      <td>-215.617385</td>\n",
       "      <td>-392.938021</td>\n",
       "      <td>-1196.917236</td>\n",
       "      <td>-598.649211</td>\n",
       "      <td>-1557.456309</td>\n",
       "      <td>-202.300625</td>\n",
       "      <td>-448.600449</td>\n",
       "      <td>-458.853423</td>\n",
       "      <td>-641.576979</td>\n",
       "      <td>-318.914304</td>\n",
       "      <td>-603.182394</td>\n",
       "      <td>417.768448</td>\n",
       "      <td>11</td>\n",
       "    </tr>\n",
       "    <tr>\n",
       "      <th>9</th>\n",
       "      <td>0.317183</td>\n",
       "      <td>0.017091</td>\n",
       "      <td>0.003523</td>\n",
       "      <td>0.006163</td>\n",
       "      <td>10</td>\n",
       "      <td>10</td>\n",
       "      <td>{'RG__ccp_alpha': 10, 'RG__n_estimators': 10}</td>\n",
       "      <td>-230.521809</td>\n",
       "      <td>-393.886328</td>\n",
       "      <td>-1271.045857</td>\n",
       "      <td>-618.575596</td>\n",
       "      <td>-1528.807921</td>\n",
       "      <td>-211.133100</td>\n",
       "      <td>-546.781063</td>\n",
       "      <td>-494.551351</td>\n",
       "      <td>-698.345689</td>\n",
       "      <td>-327.592334</td>\n",
       "      <td>-632.124105</td>\n",
       "      <td>416.059623</td>\n",
       "      <td>12</td>\n",
       "    </tr>\n",
       "  </tbody>\n",
       "</table>\n",
       "</div>"
      ],
      "text/plain": [
       "    mean_fit_time  std_fit_time  mean_score_time  std_score_time  \\\n",
       "2       31.747604      0.714534         0.168884        0.015328   \n",
       "5       33.611029      1.786415         0.141785        0.008774   \n",
       "8       32.526006      0.935369         0.138399        0.009276   \n",
       "1        2.936946      0.146384         0.021870        0.007653   \n",
       "4        3.371604      0.213912         0.021081        0.008605   \n",
       "7        3.507558      0.287291         0.022412        0.006349   \n",
       "11      27.693177      2.328996         0.070386        0.014641   \n",
       "10       3.190902      0.189468         0.018581        0.009590   \n",
       "6        0.343850      0.031762         0.003292        0.002320   \n",
       "0        0.291446      0.014556         0.001562        0.004686   \n",
       "3        0.337849      0.027690         0.004289        0.002320   \n",
       "9        0.317183      0.017091         0.003523        0.006163   \n",
       "\n",
       "   param_RG__ccp_alpha param_RG__n_estimators  \\\n",
       "2                0.005                   1000   \n",
       "5                  0.1                   1000   \n",
       "8                  0.5                   1000   \n",
       "1                0.005                    100   \n",
       "4                  0.1                    100   \n",
       "7                  0.5                    100   \n",
       "11                  10                   1000   \n",
       "10                  10                    100   \n",
       "6                  0.5                     10   \n",
       "0                0.005                     10   \n",
       "3                  0.1                     10   \n",
       "9                   10                     10   \n",
       "\n",
       "                                               params  split0_test_score  \\\n",
       "2   {'RG__ccp_alpha': 0.005, 'RG__n_estimators': 1...        -150.277857   \n",
       "5    {'RG__ccp_alpha': 0.1, 'RG__n_estimators': 1000}        -150.951681   \n",
       "8    {'RG__ccp_alpha': 0.5, 'RG__n_estimators': 1000}        -152.515444   \n",
       "1   {'RG__ccp_alpha': 0.005, 'RG__n_estimators': 100}        -147.103460   \n",
       "4     {'RG__ccp_alpha': 0.1, 'RG__n_estimators': 100}        -148.519902   \n",
       "7     {'RG__ccp_alpha': 0.5, 'RG__n_estimators': 100}        -151.923714   \n",
       "11    {'RG__ccp_alpha': 10, 'RG__n_estimators': 1000}        -171.909735   \n",
       "10     {'RG__ccp_alpha': 10, 'RG__n_estimators': 100}        -172.491749   \n",
       "6      {'RG__ccp_alpha': 0.5, 'RG__n_estimators': 10}        -217.934159   \n",
       "0    {'RG__ccp_alpha': 0.005, 'RG__n_estimators': 10}        -214.367106   \n",
       "3      {'RG__ccp_alpha': 0.1, 'RG__n_estimators': 10}        -215.617385   \n",
       "9       {'RG__ccp_alpha': 10, 'RG__n_estimators': 10}        -230.521809   \n",
       "\n",
       "    split1_test_score  split2_test_score  split3_test_score  \\\n",
       "2         -263.869634        -799.708608        -634.474235   \n",
       "5         -264.423875        -801.030266        -634.328609   \n",
       "8         -267.328498        -803.819248        -639.045747   \n",
       "1         -269.230536        -981.459513        -625.506711   \n",
       "4         -269.706248        -982.830500        -624.916832   \n",
       "7         -273.004737        -984.660859        -628.235213   \n",
       "11        -312.715918        -868.545716        -691.960678   \n",
       "10        -319.959951       -1038.767410        -695.187341   \n",
       "6         -390.151611       -1202.949676        -592.399408   \n",
       "0         -397.180418       -1202.504136        -603.852610   \n",
       "3         -392.938021       -1196.917236        -598.649211   \n",
       "9         -393.886328       -1271.045857        -618.575596   \n",
       "\n",
       "    split4_test_score  split5_test_score  split6_test_score  \\\n",
       "2        -1170.281726        -158.037660        -367.270103   \n",
       "5        -1170.873440        -157.703030        -368.308332   \n",
       "8        -1174.323979        -160.787482        -373.483673   \n",
       "1        -1223.378375        -149.054775        -390.771035   \n",
       "4        -1222.872597        -150.282542        -392.419332   \n",
       "7        -1217.543196        -151.470143        -398.317182   \n",
       "11       -1231.695457        -182.527715        -456.328219   \n",
       "10       -1264.265629        -173.943435        -486.051647   \n",
       "6        -1541.877699        -200.918940        -444.957744   \n",
       "0        -1552.333654        -197.970926        -449.260113   \n",
       "3        -1557.456309        -202.300625        -448.600449   \n",
       "9        -1528.807921        -211.133100        -546.781063   \n",
       "\n",
       "    split7_test_score  split8_test_score  split9_test_score  mean_test_score  \\\n",
       "2         -406.052224        -577.999190        -267.634258      -479.560550   \n",
       "5         -407.876585        -576.569647        -268.076515      -480.014198   \n",
       "8         -414.992568        -577.853697        -271.723962      -483.587430   \n",
       "1         -408.163409        -594.428001        -310.692976      -509.978879   \n",
       "4         -410.974025        -593.173175        -310.823714      -510.651887   \n",
       "7         -414.823445        -592.991525        -313.957259      -512.692727   \n",
       "11        -442.805938        -640.005813        -305.965359      -530.446055   \n",
       "10        -445.655095        -652.416887        -330.382884      -557.912203   \n",
       "6         -471.486028        -640.759346        -313.091085      -601.652570   \n",
       "0         -449.905357        -640.329220        -320.503250      -602.820679   \n",
       "3         -458.853423        -641.576979        -318.914304      -603.182394   \n",
       "9         -494.551351        -698.345689        -327.592334      -632.124105   \n",
       "\n",
       "    std_test_score  rank_test_score  \n",
       "2       305.700988                1  \n",
       "5       305.731767                2  \n",
       "8       305.779239                3  \n",
       "1       337.032265                4  \n",
       "4       336.598214                5  \n",
       "7       334.605496                6  \n",
       "11      316.973204                7  \n",
       "10      343.521454                8  \n",
       "6       415.273489                9  \n",
       "0       417.894435               10  \n",
       "3       417.768448               11  \n",
       "9       416.059623               12  "
      ]
     },
     "execution_count": 12,
     "metadata": {},
     "output_type": "execute_result"
    }
   ],
   "source": [
    "df = pd.DataFrame(search.cv_results_)\n",
    "df = df.sort_values(by=['rank_test_score'])\n",
    "df"
   ]
  },
  {
   "cell_type": "markdown",
   "metadata": {},
   "source": [
    "# 4. Best Hyperparameter"
   ]
  },
  {
   "cell_type": "code",
   "execution_count": 13,
   "metadata": {},
   "outputs": [
    {
     "name": "stdout",
     "output_type": "stream",
     "text": [
      "{'RG__ccp_alpha': 0.005, 'RG__n_estimators': 1000}\n"
     ]
    }
   ],
   "source": [
    "parms = pd.DataFrame(df['params'])\n",
    "for i in parms.iloc[0]:\n",
    "    print(i)"
   ]
  },
  {
   "cell_type": "markdown",
   "metadata": {},
   "source": [
    "# 5. Evaluate Model"
   ]
  },
  {
   "cell_type": "code",
   "execution_count": 14,
   "metadata": {},
   "outputs": [],
   "source": [
    "best_ccp_alpha = parms.iloc[0][0]['RG__ccp_alpha']\n",
    "best_n_est = parms.iloc[0][0]['RG__n_estimators']"
   ]
  },
  {
   "cell_type": "code",
   "execution_count": null,
   "metadata": {},
   "outputs": [],
   "source": []
  },
  {
   "cell_type": "code",
   "execution_count": 15,
   "metadata": {},
   "outputs": [],
   "source": [
    "Model_2 = RandomForestRegressor(ccp_alpha=best_ccp_alpha,n_estimators=best_n_est)"
   ]
  },
  {
   "cell_type": "code",
   "execution_count": 16,
   "metadata": {},
   "outputs": [],
   "source": [
    "X_train1,X_test1,Y_train1,Y_test1 = train_test_split(X_train,Y_train,test_size=0.2,random_state=132)\n"
   ]
  },
  {
   "cell_type": "code",
   "execution_count": 17,
   "metadata": {},
   "outputs": [
    {
     "data": {
      "text/plain": [
       "RandomForestRegressor(ccp_alpha=0.005, n_estimators=1000)"
      ]
     },
     "execution_count": 17,
     "metadata": {},
     "output_type": "execute_result"
    }
   ],
   "source": [
    "\n",
    "RG1 = Model_2\n",
    "RG1.fit(X_train1,Y_train1.values.ravel())"
   ]
  },
  {
   "cell_type": "code",
   "execution_count": null,
   "metadata": {},
   "outputs": [],
   "source": []
  },
  {
   "cell_type": "code",
   "execution_count": 18,
   "metadata": {},
   "outputs": [
    {
     "data": {
      "text/plain": [
       "311.91074114625115"
      ]
     },
     "execution_count": 18,
     "metadata": {},
     "output_type": "execute_result"
    }
   ],
   "source": [
    "MSE(RG1.predict(X_test1),Y_test1)"
   ]
  },
  {
   "cell_type": "code",
   "execution_count": 19,
   "metadata": {},
   "outputs": [],
   "source": [
    "result = pd.DataFrame(Y_test1)"
   ]
  },
  {
   "cell_type": "code",
   "execution_count": 20,
   "metadata": {},
   "outputs": [],
   "source": [
    "result[\"Predicted_sales\"] = RG1.predict(X_test1)"
   ]
  },
  {
   "cell_type": "code",
   "execution_count": 21,
   "metadata": {},
   "outputs": [
    {
     "data": {
      "text/plain": [
       "311.91074114625115"
      ]
     },
     "execution_count": 21,
     "metadata": {},
     "output_type": "execute_result"
    }
   ],
   "source": [
    "MSE(result[\"sales\"],result[\"Predicted_sales\"])"
   ]
  },
  {
   "cell_type": "markdown",
   "metadata": {},
   "source": [
    "# 5.1 Model using $log(Sales)$"
   ]
  },
  {
   "cell_type": "code",
   "execution_count": 22,
   "metadata": {},
   "outputs": [],
   "source": [
    "Model_3 = RandomForestRegressor(ccp_alpha=best_ccp_alpha,n_estimators=best_n_est)"
   ]
  },
  {
   "cell_type": "code",
   "execution_count": 23,
   "metadata": {},
   "outputs": [],
   "source": [
    "OY_train = pd.read_csv(\"A_log_sales_train.csv\",index_col=0)"
   ]
  },
  {
   "cell_type": "code",
   "execution_count": 24,
   "metadata": {},
   "outputs": [],
   "source": [
    "X_train2,X_test2,Y_train2,Y_test2 = train_test_split(X_train,OY_train,test_size=0.2,random_state=132)"
   ]
  },
  {
   "cell_type": "code",
   "execution_count": 25,
   "metadata": {},
   "outputs": [
    {
     "data": {
      "text/plain": [
       "RandomForestRegressor(ccp_alpha=0.005, n_estimators=1000)"
      ]
     },
     "execution_count": 25,
     "metadata": {},
     "output_type": "execute_result"
    }
   ],
   "source": [
    "RG2 = Model_3\n",
    "RG2.fit(X_train2,Y_train2.values.ravel())"
   ]
  },
  {
   "cell_type": "code",
   "execution_count": 26,
   "metadata": {},
   "outputs": [
    {
     "data": {
      "text/plain": [
       "377.49539617758353"
      ]
     },
     "execution_count": 26,
     "metadata": {},
     "output_type": "execute_result"
    }
   ],
   "source": [
    "MSE(np.exp(RG2.predict(X_test2)),np.exp(Y_test2))"
   ]
  },
  {
   "cell_type": "markdown",
   "metadata": {},
   "source": [
    "Interestingly, for decision tree models that do not use PCA, using the unmodified sales as response yields better result"
   ]
  },
  {
   "cell_type": "code",
   "execution_count": null,
   "metadata": {},
   "outputs": [],
   "source": []
  },
  {
   "cell_type": "markdown",
   "metadata": {},
   "source": [
    "# 6. Inventory Decision"
   ]
  },
  {
   "cell_type": "code",
   "execution_count": 27,
   "metadata": {},
   "outputs": [],
   "source": [
    "residual = result['sales']-result['Predicted_sales']"
   ]
  },
  {
   "cell_type": "code",
   "execution_count": 28,
   "metadata": {},
   "outputs": [
    {
     "data": {
      "text/plain": [
       "(4, 8)"
      ]
     },
     "execution_count": 28,
     "metadata": {},
     "output_type": "execute_result"
    }
   ],
   "source": [
    "Price=20\n",
    "Cost=12\n",
    "Salvage=8\n",
    "Over=Cost - Salvage\n",
    "Under=Price - Cost\n",
    "Over, Under"
   ]
  },
  {
   "cell_type": "markdown",
   "metadata": {},
   "source": [
    "### QQ plot to explore the distribution of residual"
   ]
  },
  {
   "cell_type": "markdown",
   "metadata": {},
   "source": [
    "#### Normal Distribution"
   ]
  },
  {
   "cell_type": "code",
   "execution_count": 29,
   "metadata": {},
   "outputs": [],
   "source": [
    "import scipy.stats as sct"
   ]
  },
  {
   "cell_type": "code",
   "execution_count": 30,
   "metadata": {},
   "outputs": [
    {
     "data": {
      "image/png": "[encoded data removed]",
      "text/plain": [
       "<Figure size 432x288 with 1 Axes>"
      ]
     },
     "metadata": {
      "needs_background": "light"
     },
     "output_type": "display_data"
    }
   ],
   "source": [
    "import scipy\n",
    "scipy.stats.probplot(residual, dist=\"norm\", plot=plt)\n",
    "plt.show()"
   ]
  },
  {
   "cell_type": "code",
   "execution_count": 31,
   "metadata": {},
   "outputs": [],
   "source": [
    "s = residual.std()\n",
    "opt_dec_N=round(sct.norm.ppf(Under/(Under+Over))*s + result['Predicted_sales'])"
   ]
  },
  {
   "cell_type": "markdown",
   "metadata": {},
   "source": [
    "#### Exponential Distribution"
   ]
  },
  {
   "cell_type": "code",
   "execution_count": 32,
   "metadata": {},
   "outputs": [
    {
     "data": {
      "image/png": "[encoded data removed]",
      "text/plain": [
       "<Figure size 432x288 with 1 Axes>"
      ]
     },
     "metadata": {
      "needs_background": "light"
     },
     "output_type": "display_data"
    }
   ],
   "source": [
    "scipy.stats.probplot(residual, dist=\"expon\", plot=plt)\n",
    "plt.show()"
   ]
  },
  {
   "cell_type": "code",
   "execution_count": 33,
   "metadata": {},
   "outputs": [],
   "source": [
    "opt_dec_E=round((-result['Predicted_sales'])*np.log(1-(Under/(Under+Over))))"
   ]
  },
  {
   "cell_type": "markdown",
   "metadata": {},
   "source": [
    "#### Empirical Distribution"
   ]
  },
  {
   "cell_type": "code",
   "execution_count": 34,
   "metadata": {},
   "outputs": [
    {
     "data": {
      "text/plain": [
       "[<matplotlib.lines.Line2D at 0x274b2b180d0>]"
      ]
     },
     "execution_count": 34,
     "metadata": {},
     "output_type": "execute_result"
    },
    {
     "data": {
      "image/png": "[encoded data removed]",
      "text/plain": [
       "<Figure size 432x288 with 1 Axes>"
      ]
     },
     "metadata": {
      "needs_background": "light"
     },
     "output_type": "display_data"
    }
   ],
   "source": [
    "size = residual.shape[0]\n",
    "step=1/size\n",
    "jumps = [step*i for i in range(1,size+1)]\n",
    "Sample = sorted(residual)\n",
    "plt.plot(Sample,jumps)"
   ]
  },
  {
   "cell_type": "code",
   "execution_count": 35,
   "metadata": {},
   "outputs": [
    {
     "data": {
      "image/png": "[encoded data removed]",
      "text/plain": [
       "<Figure size 432x288 with 1 Axes>"
      ]
     },
     "metadata": {
      "needs_background": "light"
     },
     "output_type": "display_data"
    }
   ],
   "source": [
    "plt.hist(Sample)\n",
    "plt.show()"
   ]
  },
  {
   "cell_type": "code",
   "execution_count": 36,
   "metadata": {},
   "outputs": [],
   "source": [
    "def inv(sample,jump,area):\n",
    "    size = len(sample)\n",
    "    i=0\n",
    "    temp=jump[i]\n",
    "    while temp<area:\n",
    "        i+=1\n",
    "        temp=jump[i]\n",
    "        \n",
    "    return sample[i]"
   ]
  },
  {
   "cell_type": "code",
   "execution_count": 37,
   "metadata": {},
   "outputs": [
    {
     "data": {
      "text/plain": [
       "0.11203385494365037"
      ]
     },
     "execution_count": 37,
     "metadata": {},
     "output_type": "execute_result"
    }
   ],
   "source": [
    "offset = inv(Sample,jumps,2/3)\n",
    "offset"
   ]
  },
  {
   "cell_type": "code",
   "execution_count": 38,
   "metadata": {},
   "outputs": [],
   "source": [
    "opt_dec_B = round(result['Predicted_sales']+offset)"
   ]
  },
  {
   "cell_type": "markdown",
   "metadata": {},
   "source": [
    "# 7. Out-of-samples Profit"
   ]
  },
  {
   "cell_type": "code",
   "execution_count": 39,
   "metadata": {},
   "outputs": [
    {
     "data": {
      "text/plain": [
       "82096"
      ]
     },
     "execution_count": 39,
     "metadata": {},
     "output_type": "execute_result"
    }
   ],
   "source": [
    "#max profit for test data set\n",
    "max_profit = result['sales'].sum()*(Price-Cost)\n",
    "max_profit"
   ]
  },
  {
   "cell_type": "code",
   "execution_count": 40,
   "metadata": {},
   "outputs": [],
   "source": [
    "def profit(demand,inv):\n",
    "    return (Price-Salvage)*np.minimum(demand,inv)-(Cost-Salvage)*inv"
   ]
  },
  {
   "cell_type": "code",
   "execution_count": 41,
   "metadata": {},
   "outputs": [
    {
     "data": {
      "text/plain": [
       "60024.0"
      ]
     },
     "execution_count": 41,
     "metadata": {},
     "output_type": "execute_result"
    }
   ],
   "source": [
    "#Profit (None)\n",
    "profit_lst = profit(round(result['sales']),round(result['Predicted_sales']))\n",
    "profit_lst.sum()"
   ]
  },
  {
   "cell_type": "code",
   "execution_count": 42,
   "metadata": {},
   "outputs": [
    {
     "data": {
      "text/plain": [
       "53644.0"
      ]
     },
     "execution_count": 42,
     "metadata": {},
     "output_type": "execute_result"
    }
   ],
   "source": [
    "#Profit (Normal)\n",
    "profit_lst_N = profit(result['sales'],opt_dec_N)\n",
    "profit_lst_N.sum()"
   ]
  },
  {
   "cell_type": "code",
   "execution_count": 43,
   "metadata": {},
   "outputs": [
    {
     "data": {
      "text/plain": [
       "59856.0"
      ]
     },
     "execution_count": 43,
     "metadata": {},
     "output_type": "execute_result"
    }
   ],
   "source": [
    "#Profit (Exponential)\n",
    "profit_lst_E = profit(result['sales'],opt_dec_E)\n",
    "profit_lst_E.sum()"
   ]
  },
  {
   "cell_type": "code",
   "execution_count": 44,
   "metadata": {},
   "outputs": [
    {
     "data": {
      "text/plain": [
       "59972.0"
      ]
     },
     "execution_count": 44,
     "metadata": {},
     "output_type": "execute_result"
    }
   ],
   "source": [
    "#Profit (Empirical)\n",
    "profit_lst_B = profit(result['sales'],opt_dec_B)\n",
    "profit_lst_B.sum()"
   ]
  },
  {
   "cell_type": "markdown",
   "metadata": {},
   "source": [
    "# 8. K-Fold Cross Validation"
   ]
  },
  {
   "cell_type": "markdown",
   "metadata": {},
   "source": [
    "### Repeat steps 5,6,7 with 10-fold cross validation"
   ]
  },
  {
   "cell_type": "code",
   "execution_count": 45,
   "metadata": {},
   "outputs": [],
   "source": [
    "Model_4= RandomForestRegressor(ccp_alpha=best_ccp_alpha,n_estimators=best_n_est)"
   ]
  },
  {
   "cell_type": "code",
   "execution_count": 46,
   "metadata": {},
   "outputs": [],
   "source": [
    "from sklearn.model_selection import KFold\n",
    "k=10\n",
    "kf = KFold(n_splits=k)\n",
    "X_train_t=X_train.to_numpy()\n",
    "Y_train_t=Y_train.to_numpy()\n",
    "model = []\n",
    "mse_lst = []\n",
    "max_profit_lst = []\n",
    "profit_N_lst = []\n",
    "profit_E_lst = []\n",
    "profit_B_lst = []\n",
    "\n",
    "for train_index,test_index in kf.split(X_train_t):\n",
    "    X_train_K,X_test_K=X_train_t[train_index],X_train_t[test_index]\n",
    "    Y_train_K,Y_test_K=Y_train_t[train_index],Y_train_t[test_index]\n",
    "    \n",
    "    \n",
    "    #Model\n",
    "    RG_K = Model_4\n",
    "    RG_K.fit(X_train_K,Y_train_K.ravel())\n",
    "    \n",
    "    \n",
    "    #MSE\n",
    "    mse_lst.append(MSE(RG_K.predict(X_test_K),Y_test_K))\n",
    "    \n",
    "    result_K = pd.DataFrame(Y_test_K)\n",
    "    result_K[\"Predicted_sales\"] = RG_K.predict(X_test_K)\n",
    "    \n",
    "    #Obtain residual\n",
    "    residual_K = result_K[0]-result_K['Predicted_sales']\n",
    "    \n",
    "    #Get std for Normal distribution\n",
    "    s_K = residual_K.std()\n",
    "    \n",
    "    #Inventory Decision (Normal)\n",
    "    opt_dec_N_K=np.ceil(sct.norm.ppf(Under/(Under+Over))*s_K + result_K['Predicted_sales'])\n",
    "    #Inventory Decision (Exponential)\n",
    "    opt_dec_E_K=np.ceil((-result_K['Predicted_sales'])*np.log(1-(Under/(Under+Over))))\n",
    "    \n",
    "    #Inventory Decision (Empirical Distribution)\n",
    "    size_K = residual_K.shape[0]\n",
    "    step_K=1/size_K\n",
    "    jumps_K = [step_K*i for i in range(1,size_K+1)]\n",
    "    Sample_K = sorted(residual_K)\n",
    "    offset_K = inv(Sample_K,jumps_K,2/3)\n",
    "    opt_dec_B_K = np.ceil(result_K['Predicted_sales']+offset_K)\n",
    "    \n",
    "    #Out-of_sample profit\n",
    "    profit_lst_B_K = profit(result_K[0],opt_dec_B_K)\n",
    "    profit_B_lst.append(profit_lst_B_K.sum())\n",
    "    \n",
    "    profit_lst_N_K = profit(result_K[0],opt_dec_N_K)\n",
    "    profit_N_lst.append(profit_lst_N_K.sum())\n",
    "    \n",
    "    profit_lst_E_K = profit(result_K[0],opt_dec_E_K)\n",
    "    profit_E_lst.append(profit_lst_E_K.sum())\n",
    "    \n",
    "    max_profit_K = result_K[0].sum()*(Price-Cost)\n",
    "    max_profit_lst.append(max_profit_K)\n",
    "    \n",
    "max_profit_lst = np.array(max_profit_lst)\n",
    "profit_N_lst = np.array(profit_N_lst)\n",
    "profit_E_lst = np.array(profit_E_lst)\n",
    "profit_B_lst = np.array(profit_B_lst)\n",
    "\n",
    "fraction_of_max_N = profit_N_lst/max_profit_lst\n",
    "fraction_of_max_E = profit_E_lst/max_profit_lst\n",
    "fraction_of_max_B = profit_B_lst/max_profit_lst\n",
    "\n",
    "dist_profit = [\"Normal\",\"Exponential\",\"Empirical\",\"Max\"]\n",
    "dist_frac = [\"Normal\",\"Exponential\",\"Empirical\"]\n",
    "col_name = [\"Dataset_\"+str(i) for i in range(1,k+1)]\n",
    "\n",
    "profit_lst = [profit_N_lst,profit_E_lst,profit_B_lst,max_profit_lst]\n",
    "profit_table = pd.DataFrame(profit_lst,index=dist_profit,columns=col_name)\n",
    "profit_table[\"mean_profit\"]=profit_table.mean(axis=1)\n",
    "profit_table[\"std_profit\"]=profit_table.std(ddof=1,axis=1)\n",
    "\n",
    "fraction_lst = [fraction_of_max_N,fraction_of_max_E,fraction_of_max_B]\n",
    "fraction_table = pd.DataFrame(fraction_lst,index=dist_frac,columns=col_name)\n",
    "fraction_table[\"mean_fraction\"]=fraction_table.mean(axis=1)"
   ]
  },
  {
   "cell_type": "code",
   "execution_count": 47,
   "metadata": {
    "scrolled": false
   },
   "outputs": [
    {
     "data": {
      "text/html": [
       "<div>\n",
       "<style scoped>\n",
       "    .dataframe tbody tr th:only-of-type {\n",
       "        vertical-align: middle;\n",
       "    }\n",
       "\n",
       "    .dataframe tbody tr th {\n",
       "        vertical-align: top;\n",
       "    }\n",
       "\n",
       "    .dataframe thead th {\n",
       "        text-align: right;\n",
       "    }\n",
       "</style>\n",
       "<table border=\"1\" class=\"dataframe\">\n",
       "  <thead>\n",
       "    <tr style=\"text-align: right;\">\n",
       "      <th></th>\n",
       "      <th>Dataset_1</th>\n",
       "      <th>Dataset_2</th>\n",
       "      <th>Dataset_3</th>\n",
       "      <th>Dataset_4</th>\n",
       "      <th>Dataset_5</th>\n",
       "      <th>Dataset_6</th>\n",
       "      <th>Dataset_7</th>\n",
       "      <th>Dataset_8</th>\n",
       "      <th>Dataset_9</th>\n",
       "      <th>Dataset_10</th>\n",
       "      <th>mean_fraction</th>\n",
       "    </tr>\n",
       "  </thead>\n",
       "  <tbody>\n",
       "    <tr>\n",
       "      <th>Normal</th>\n",
       "      <td>0.729944</td>\n",
       "      <td>0.708768</td>\n",
       "      <td>0.586833</td>\n",
       "      <td>0.622489</td>\n",
       "      <td>0.554956</td>\n",
       "      <td>0.719730</td>\n",
       "      <td>0.692616</td>\n",
       "      <td>0.660798</td>\n",
       "      <td>0.597351</td>\n",
       "      <td>0.663369</td>\n",
       "      <td>0.653685</td>\n",
       "    </tr>\n",
       "    <tr>\n",
       "      <th>Exponential</th>\n",
       "      <td>0.777112</td>\n",
       "      <td>0.754729</td>\n",
       "      <td>0.721185</td>\n",
       "      <td>0.744635</td>\n",
       "      <td>0.725705</td>\n",
       "      <td>0.770027</td>\n",
       "      <td>0.760660</td>\n",
       "      <td>0.725585</td>\n",
       "      <td>0.706693</td>\n",
       "      <td>0.739819</td>\n",
       "      <td>0.742615</td>\n",
       "    </tr>\n",
       "    <tr>\n",
       "      <th>Empirical</th>\n",
       "      <td>0.785038</td>\n",
       "      <td>0.750840</td>\n",
       "      <td>0.721531</td>\n",
       "      <td>0.737425</td>\n",
       "      <td>0.710073</td>\n",
       "      <td>0.772690</td>\n",
       "      <td>0.746692</td>\n",
       "      <td>0.725152</td>\n",
       "      <td>0.712330</td>\n",
       "      <td>0.736746</td>\n",
       "      <td>0.739852</td>\n",
       "    </tr>\n",
       "  </tbody>\n",
       "</table>\n",
       "</div>"
      ],
      "text/plain": [
       "             Dataset_1  Dataset_2  Dataset_3  Dataset_4  Dataset_5  Dataset_6  \\\n",
       "Normal        0.729944   0.708768   0.586833   0.622489   0.554956   0.719730   \n",
       "Exponential   0.777112   0.754729   0.721185   0.744635   0.725705   0.770027   \n",
       "Empirical     0.785038   0.750840   0.721531   0.737425   0.710073   0.772690   \n",
       "\n",
       "             Dataset_7  Dataset_8  Dataset_9  Dataset_10  mean_fraction  \n",
       "Normal        0.692616   0.660798   0.597351    0.663369       0.653685  \n",
       "Exponential   0.760660   0.725585   0.706693    0.739819       0.742615  \n",
       "Empirical     0.746692   0.725152   0.712330    0.736746       0.739852  "
      ]
     },
     "execution_count": 47,
     "metadata": {},
     "output_type": "execute_result"
    }
   ],
   "source": [
    "fraction_table"
   ]
  },
  {
   "cell_type": "code",
   "execution_count": 48,
   "metadata": {
    "scrolled": false
   },
   "outputs": [
    {
     "data": {
      "text/html": [
       "<div>\n",
       "<style scoped>\n",
       "    .dataframe tbody tr th:only-of-type {\n",
       "        vertical-align: middle;\n",
       "    }\n",
       "\n",
       "    .dataframe tbody tr th {\n",
       "        vertical-align: top;\n",
       "    }\n",
       "\n",
       "    .dataframe thead th {\n",
       "        text-align: right;\n",
       "    }\n",
       "</style>\n",
       "<table border=\"1\" class=\"dataframe\">\n",
       "  <thead>\n",
       "    <tr style=\"text-align: right;\">\n",
       "      <th></th>\n",
       "      <th>Dataset_1</th>\n",
       "      <th>Dataset_2</th>\n",
       "      <th>Dataset_3</th>\n",
       "      <th>Dataset_4</th>\n",
       "      <th>Dataset_5</th>\n",
       "      <th>Dataset_6</th>\n",
       "      <th>Dataset_7</th>\n",
       "      <th>Dataset_8</th>\n",
       "      <th>Dataset_9</th>\n",
       "      <th>Dataset_10</th>\n",
       "      <th>mean_profit</th>\n",
       "      <th>std_profit</th>\n",
       "    </tr>\n",
       "  </thead>\n",
       "  <tbody>\n",
       "    <tr>\n",
       "      <th>Normal</th>\n",
       "      <td>30208.0</td>\n",
       "      <td>32076.0</td>\n",
       "      <td>27168.0</td>\n",
       "      <td>29008.0</td>\n",
       "      <td>27548.0</td>\n",
       "      <td>28104.0</td>\n",
       "      <td>33916.0</td>\n",
       "      <td>30476.0</td>\n",
       "      <td>26704.0</td>\n",
       "      <td>27628.0</td>\n",
       "      <td>29283.6</td>\n",
       "      <td>2233.467940</td>\n",
       "    </tr>\n",
       "    <tr>\n",
       "      <th>Exponential</th>\n",
       "      <td>32160.0</td>\n",
       "      <td>34156.0</td>\n",
       "      <td>33388.0</td>\n",
       "      <td>34700.0</td>\n",
       "      <td>36024.0</td>\n",
       "      <td>30068.0</td>\n",
       "      <td>37248.0</td>\n",
       "      <td>33464.0</td>\n",
       "      <td>31592.0</td>\n",
       "      <td>30812.0</td>\n",
       "      <td>33361.2</td>\n",
       "      <td>2157.536410</td>\n",
       "    </tr>\n",
       "    <tr>\n",
       "      <th>Empirical</th>\n",
       "      <td>32488.0</td>\n",
       "      <td>33980.0</td>\n",
       "      <td>33404.0</td>\n",
       "      <td>34364.0</td>\n",
       "      <td>35248.0</td>\n",
       "      <td>30172.0</td>\n",
       "      <td>36564.0</td>\n",
       "      <td>33444.0</td>\n",
       "      <td>31844.0</td>\n",
       "      <td>30684.0</td>\n",
       "      <td>33219.2</td>\n",
       "      <td>1881.921401</td>\n",
       "    </tr>\n",
       "    <tr>\n",
       "      <th>Max</th>\n",
       "      <td>41384.0</td>\n",
       "      <td>45256.0</td>\n",
       "      <td>46296.0</td>\n",
       "      <td>46600.0</td>\n",
       "      <td>49640.0</td>\n",
       "      <td>39048.0</td>\n",
       "      <td>48968.0</td>\n",
       "      <td>46120.0</td>\n",
       "      <td>44704.0</td>\n",
       "      <td>41648.0</td>\n",
       "      <td>44966.4</td>\n",
       "      <td>3203.875254</td>\n",
       "    </tr>\n",
       "  </tbody>\n",
       "</table>\n",
       "</div>"
      ],
      "text/plain": [
       "             Dataset_1  Dataset_2  Dataset_3  Dataset_4  Dataset_5  Dataset_6  \\\n",
       "Normal         30208.0    32076.0    27168.0    29008.0    27548.0    28104.0   \n",
       "Exponential    32160.0    34156.0    33388.0    34700.0    36024.0    30068.0   \n",
       "Empirical      32488.0    33980.0    33404.0    34364.0    35248.0    30172.0   \n",
       "Max            41384.0    45256.0    46296.0    46600.0    49640.0    39048.0   \n",
       "\n",
       "             Dataset_7  Dataset_8  Dataset_9  Dataset_10  mean_profit  \\\n",
       "Normal         33916.0    30476.0    26704.0     27628.0      29283.6   \n",
       "Exponential    37248.0    33464.0    31592.0     30812.0      33361.2   \n",
       "Empirical      36564.0    33444.0    31844.0     30684.0      33219.2   \n",
       "Max            48968.0    46120.0    44704.0     41648.0      44966.4   \n",
       "\n",
       "              std_profit  \n",
       "Normal       2233.467940  \n",
       "Exponential  2157.536410  \n",
       "Empirical    1881.921401  \n",
       "Max          3203.875254  "
      ]
     },
     "execution_count": 48,
     "metadata": {},
     "output_type": "execute_result"
    }
   ],
   "source": [
    "profit_table"
   ]
  },
  {
   "cell_type": "code",
   "execution_count": 49,
   "metadata": {
    "scrolled": true
   },
   "outputs": [
    {
     "data": {
      "text/html": [
       "<div>\n",
       "<style scoped>\n",
       "    .dataframe tbody tr th:only-of-type {\n",
       "        vertical-align: middle;\n",
       "    }\n",
       "\n",
       "    .dataframe tbody tr th {\n",
       "        vertical-align: top;\n",
       "    }\n",
       "\n",
       "    .dataframe thead th {\n",
       "        text-align: right;\n",
       "    }\n",
       "</style>\n",
       "<table border=\"1\" class=\"dataframe\">\n",
       "  <thead>\n",
       "    <tr style=\"text-align: right;\">\n",
       "      <th></th>\n",
       "      <th>Cross Validation MSE</th>\n",
       "    </tr>\n",
       "  </thead>\n",
       "  <tbody>\n",
       "    <tr>\n",
       "      <th>Dataset_1</th>\n",
       "      <td>153.008980</td>\n",
       "    </tr>\n",
       "    <tr>\n",
       "      <th>Dataset_2</th>\n",
       "      <td>260.436204</td>\n",
       "    </tr>\n",
       "    <tr>\n",
       "      <th>Dataset_3</th>\n",
       "      <td>791.928451</td>\n",
       "    </tr>\n",
       "    <tr>\n",
       "      <th>Dataset_4</th>\n",
       "      <td>678.379313</td>\n",
       "    </tr>\n",
       "    <tr>\n",
       "      <th>Dataset_5</th>\n",
       "      <td>1206.318468</td>\n",
       "    </tr>\n",
       "    <tr>\n",
       "      <th>Dataset_6</th>\n",
       "      <td>154.742907</td>\n",
       "    </tr>\n",
       "    <tr>\n",
       "      <th>Dataset_7</th>\n",
       "      <td>380.363905</td>\n",
       "    </tr>\n",
       "    <tr>\n",
       "      <th>Dataset_8</th>\n",
       "      <td>406.711814</td>\n",
       "    </tr>\n",
       "    <tr>\n",
       "      <th>Dataset_9</th>\n",
       "      <td>592.133126</td>\n",
       "    </tr>\n",
       "    <tr>\n",
       "      <th>Dataset_10</th>\n",
       "      <td>272.603410</td>\n",
       "    </tr>\n",
       "  </tbody>\n",
       "</table>\n",
       "</div>"
      ],
      "text/plain": [
       "            Cross Validation MSE\n",
       "Dataset_1             153.008980\n",
       "Dataset_2             260.436204\n",
       "Dataset_3             791.928451\n",
       "Dataset_4             678.379313\n",
       "Dataset_5            1206.318468\n",
       "Dataset_6             154.742907\n",
       "Dataset_7             380.363905\n",
       "Dataset_8             406.711814\n",
       "Dataset_9             592.133126\n",
       "Dataset_10            272.603410"
      ]
     },
     "execution_count": 49,
     "metadata": {},
     "output_type": "execute_result"
    }
   ],
   "source": [
    "mse_table = pd.DataFrame(mse_lst,index=col_name,columns=['Cross Validation MSE'])\n",
    "mse_table"
   ]
  },
  {
   "cell_type": "code",
   "execution_count": 50,
   "metadata": {
    "scrolled": true
   },
   "outputs": [
    {
     "name": "stdout",
     "output_type": "stream",
     "text": [
      "Average 10 fold CV MSE:  489.66265771723886\n"
     ]
    }
   ],
   "source": [
    "print(f\"Average 10 fold CV MSE:  {float(mse_table.mean())}\")"
   ]
  },
  {
   "cell_type": "code",
   "execution_count": null,
   "metadata": {},
   "outputs": [],
   "source": []
  },
  {
   "cell_type": "code",
   "execution_count": 51,
   "metadata": {},
   "outputs": [],
   "source": [
    "profit_table.to_csv(\".\\\\Model_Selection_Result\\\\4.2B_Random_forest(No_PCA).csv\")"
   ]
  },
  {
   "cell_type": "code",
   "execution_count": 52,
   "metadata": {},
   "outputs": [
    {
     "data": {
      "text/plain": [
       "[<matplotlib.lines.Line2D at 0x274b3b8f250>]"
      ]
     },
     "execution_count": 52,
     "metadata": {},
     "output_type": "execute_result"
    },
    {
     "data": {
      "image/png": "[encoded data removed]",
      "text/plain": [
       "<Figure size 432x288 with 1 Axes>"
      ]
     },
     "metadata": {
      "needs_background": "light"
     },
     "output_type": "display_data"
    }
   ],
   "source": [
    "plt.xlabel(\"sales\")\n",
    "plt.ylabel(\"Residual\")\n",
    "plt.plot(result['sales'],residual,\".\")"
   ]
  },
  {
   "cell_type": "code",
   "execution_count": 53,
   "metadata": {},
   "outputs": [],
   "source": [
    "name = \"4.2B_Random_forest(No_PCA).csv\"\n",
    "mse_table.to_csv(f\".\\\\Model_CV_Result_MSE\\\\{name}\")"
   ]
  },
  {
   "cell_type": "code",
   "execution_count": 54,
   "metadata": {},
   "outputs": [],
   "source": [
    "f = pd.DataFrame(fraction_table['mean_fraction'])\n",
    "f = f.transpose().reset_index()\n",
    "f.to_csv(f\".\\\\Model_CV_Result_Efficiency\\\\{name}\")"
   ]
  },
  {
   "cell_type": "code",
   "execution_count": null,
   "metadata": {},
   "outputs": [],
   "source": []
  }
 ],
 "metadata": {
  "kernelspec": {
   "display_name": "Python 3",
   "language": "python",
   "name": "python3"
  },
  "language_info": {
   "codemirror_mode": {
    "name": "ipython",
    "version": 3
   },
   "file_extension": ".py",
   "mimetype": "text/x-python",
   "name": "python",
   "nbconvert_exporter": "python",
   "pygments_lexer": "ipython3",
   "version": "3.8.5"
  }
 },
 "nbformat": 4,
 "nbformat_minor": 4
}
