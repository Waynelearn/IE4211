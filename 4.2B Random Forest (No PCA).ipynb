{
 "cells": [
  {
   "cell_type": "code",
   "execution_count": 1,
   "metadata": {},
   "outputs": [],
   "source": [
    "import pandas as pd\n",
    "import numpy as np\n",
    "import matplotlib.pyplot as plt\n",
    "from sklearn.pipeline import Pipeline\n",
    "from sklearn.model_selection import GridSearchCV\n",
    "from sklearn.decomposition import PCA\n",
    "from sklearn.metrics import mean_squared_error as MSE\n",
    "from sklearn.linear_model import LinearRegression\n",
    "from sklearn.preprocessing import PolynomialFeatures\n",
    "from sklearn.model_selection import train_test_split\n",
    "from sklearn.linear_model import Lasso\n",
    "from sklearn.neighbors import KNeighborsRegressor\n",
    "from sklearn.tree import DecisionTreeRegressor\n",
    "from sklearn.ensemble import RandomForestRegressor\n",
    "from sklearn.ensemble import GradientBoostingRegressor"
   ]
  },
  {
   "cell_type": "markdown",
   "metadata": {},
   "source": [
    "# 1. Import the train datasets"
   ]
  },
  {
   "cell_type": "code",
   "execution_count": 2,
   "metadata": {},
   "outputs": [],
   "source": [
    "X_train = pd.read_csv(\"data-train.csv\",index_col=0)\n",
    "Y_train = X_train.sales\n",
    "X_train = X_train.drop(['sales'],axis=1)"
   ]
  },
  {
   "cell_type": "code",
   "execution_count": 3,
   "metadata": {},
   "outputs": [],
   "source": [
    "#X_train = pd.read_csv(\"B_encoded_train_data.csv\",index_col=0)\n",
    "#Y_train = pd.read_csv(\"A_sales_train.csv\",index_col=0)"
   ]
  },
  {
   "cell_type": "code",
   "execution_count": 4,
   "metadata": {},
   "outputs": [],
   "source": [
    "Model_1 = RandomForestRegressor()"
   ]
  },
  {
   "cell_type": "markdown",
   "metadata": {},
   "source": [
    "# 2. Setup Pipeline"
   ]
  },
  {
   "cell_type": "code",
   "execution_count": 5,
   "metadata": {},
   "outputs": [],
   "source": [
    "\n",
    "RG = Model_1"
   ]
  },
  {
   "cell_type": "code",
   "execution_count": 6,
   "metadata": {},
   "outputs": [],
   "source": [
    "\n",
    "pipe = Pipeline(steps=[(\"RG\",RG)])"
   ]
  },
  {
   "cell_type": "code",
   "execution_count": 7,
   "metadata": {},
   "outputs": [],
   "source": [
    "param_grid = {\n",
    "    \"RG__ccp_alpha\":[0.005,0.1,0.5,10],\n",
    "    \"RG__n_estimators\":[10,100,1000]\n",
    "}"
   ]
  },
  {
   "cell_type": "markdown",
   "metadata": {},
   "source": [
    "# 3. Setup GridSearch"
   ]
  },
  {
   "cell_type": "code",
   "execution_count": 8,
   "metadata": {},
   "outputs": [],
   "source": [
    "score_metric = 'neg_mean_squared_error'\n",
    "search = GridSearchCV(pipe,param_grid,\n",
    "                      n_jobs=-1,\n",
    "                      cv=10,\n",
    "                      scoring=score_metric)"
   ]
  },
  {
   "cell_type": "code",
   "execution_count": 9,
   "metadata": {},
   "outputs": [
    {
     "data": {
      "text/plain": [
       "GridSearchCV(cv=10, estimator=Pipeline(steps=[('RG', RandomForestRegressor())]),\n",
       "             n_jobs=-1,\n",
       "             param_grid={'RG__ccp_alpha': [0.005, 0.1, 0.5, 10],\n",
       "                         'RG__n_estimators': [10, 100, 1000]},\n",
       "             scoring='neg_mean_squared_error')"
      ]
     },
     "execution_count": 9,
     "metadata": {},
     "output_type": "execute_result"
    }
   ],
   "source": [
    "search.fit(X_train,Y_train.values.ravel())"
   ]
  },
  {
   "cell_type": "code",
   "execution_count": 10,
   "metadata": {},
   "outputs": [
    {
     "name": "stdout",
     "output_type": "stream",
     "text": [
      "Best parameter (CV score=-480.144):\n",
      "{'RG__ccp_alpha': 0.1, 'RG__n_estimators': 1000}\n"
     ]
    }
   ],
   "source": [
    "print(\"Best parameter (CV score=%0.3f):\" % search.best_score_)\n",
    "print(search.best_params_)"
   ]
  },
  {
   "cell_type": "code",
   "execution_count": 11,
   "metadata": {},
   "outputs": [
    {
     "data": {
      "text/html": [
       "<div>\n",
       "<style scoped>\n",
       "    .dataframe tbody tr th:only-of-type {\n",
       "        vertical-align: middle;\n",
       "    }\n",
       "\n",
       "    .dataframe tbody tr th {\n",
       "        vertical-align: top;\n",
       "    }\n",
       "\n",
       "    .dataframe thead th {\n",
       "        text-align: right;\n",
       "    }\n",
       "</style>\n",
       "<table border=\"1\" class=\"dataframe\">\n",
       "  <thead>\n",
       "    <tr style=\"text-align: right;\">\n",
       "      <th></th>\n",
       "      <th>mean_fit_time</th>\n",
       "      <th>std_fit_time</th>\n",
       "      <th>mean_score_time</th>\n",
       "      <th>std_score_time</th>\n",
       "      <th>param_RG__ccp_alpha</th>\n",
       "      <th>param_RG__n_estimators</th>\n",
       "      <th>params</th>\n",
       "      <th>split0_test_score</th>\n",
       "      <th>split1_test_score</th>\n",
       "      <th>split2_test_score</th>\n",
       "      <th>split3_test_score</th>\n",
       "      <th>split4_test_score</th>\n",
       "      <th>split5_test_score</th>\n",
       "      <th>split6_test_score</th>\n",
       "      <th>split7_test_score</th>\n",
       "      <th>split8_test_score</th>\n",
       "      <th>split9_test_score</th>\n",
       "      <th>mean_test_score</th>\n",
       "      <th>std_test_score</th>\n",
       "      <th>rank_test_score</th>\n",
       "    </tr>\n",
       "  </thead>\n",
       "  <tbody>\n",
       "    <tr>\n",
       "      <th>5</th>\n",
       "      <td>33.456804</td>\n",
       "      <td>1.350445</td>\n",
       "      <td>0.155123</td>\n",
       "      <td>0.015011</td>\n",
       "      <td>0.1</td>\n",
       "      <td>1000</td>\n",
       "      <td>{'RG__ccp_alpha': 0.1, 'RG__n_estimators': 1000}</td>\n",
       "      <td>-155.249673</td>\n",
       "      <td>-264.496158</td>\n",
       "      <td>-797.615848</td>\n",
       "      <td>-622.402361</td>\n",
       "      <td>-1175.941194</td>\n",
       "      <td>-156.328765</td>\n",
       "      <td>-384.376191</td>\n",
       "      <td>-403.126769</td>\n",
       "      <td>-576.283879</td>\n",
       "      <td>-265.619779</td>\n",
       "      <td>-480.144062</td>\n",
       "      <td>305.359267</td>\n",
       "      <td>1</td>\n",
       "    </tr>\n",
       "    <tr>\n",
       "      <th>4</th>\n",
       "      <td>3.365432</td>\n",
       "      <td>0.328798</td>\n",
       "      <td>0.023478</td>\n",
       "      <td>0.016222</td>\n",
       "      <td>0.1</td>\n",
       "      <td>100</td>\n",
       "      <td>{'RG__ccp_alpha': 0.1, 'RG__n_estimators': 100}</td>\n",
       "      <td>-160.255549</td>\n",
       "      <td>-257.779320</td>\n",
       "      <td>-701.768215</td>\n",
       "      <td>-676.136235</td>\n",
       "      <td>-1246.970558</td>\n",
       "      <td>-139.251080</td>\n",
       "      <td>-382.560940</td>\n",
       "      <td>-406.829530</td>\n",
       "      <td>-592.632672</td>\n",
       "      <td>-299.312053</td>\n",
       "      <td>-486.349615</td>\n",
       "      <td>316.765234</td>\n",
       "      <td>2</td>\n",
       "    </tr>\n",
       "    <tr>\n",
       "      <th>2</th>\n",
       "      <td>31.753332</td>\n",
       "      <td>1.199907</td>\n",
       "      <td>0.164046</td>\n",
       "      <td>0.020323</td>\n",
       "      <td>0.005</td>\n",
       "      <td>1000</td>\n",
       "      <td>{'RG__ccp_alpha': 0.005, 'RG__n_estimators': 1...</td>\n",
       "      <td>-146.761398</td>\n",
       "      <td>-258.848111</td>\n",
       "      <td>-803.786128</td>\n",
       "      <td>-679.236901</td>\n",
       "      <td>-1198.856600</td>\n",
       "      <td>-154.459216</td>\n",
       "      <td>-386.119133</td>\n",
       "      <td>-409.936423</td>\n",
       "      <td>-570.799980</td>\n",
       "      <td>-264.257272</td>\n",
       "      <td>-487.306116</td>\n",
       "      <td>315.467720</td>\n",
       "      <td>3</td>\n",
       "    </tr>\n",
       "    <tr>\n",
       "      <th>8</th>\n",
       "      <td>32.669257</td>\n",
       "      <td>1.231214</td>\n",
       "      <td>0.141744</td>\n",
       "      <td>0.015312</td>\n",
       "      <td>0.5</td>\n",
       "      <td>1000</td>\n",
       "      <td>{'RG__ccp_alpha': 0.5, 'RG__n_estimators': 1000}</td>\n",
       "      <td>-152.353697</td>\n",
       "      <td>-266.560175</td>\n",
       "      <td>-770.734899</td>\n",
       "      <td>-660.210254</td>\n",
       "      <td>-1241.670110</td>\n",
       "      <td>-157.219208</td>\n",
       "      <td>-377.729530</td>\n",
       "      <td>-419.130884</td>\n",
       "      <td>-574.318801</td>\n",
       "      <td>-274.926234</td>\n",
       "      <td>-489.485379</td>\n",
       "      <td>319.132548</td>\n",
       "      <td>4</td>\n",
       "    </tr>\n",
       "    <tr>\n",
       "      <th>1</th>\n",
       "      <td>3.814859</td>\n",
       "      <td>0.266397</td>\n",
       "      <td>0.020871</td>\n",
       "      <td>0.009732</td>\n",
       "      <td>0.005</td>\n",
       "      <td>100</td>\n",
       "      <td>{'RG__ccp_alpha': 0.005, 'RG__n_estimators': 100}</td>\n",
       "      <td>-156.616287</td>\n",
       "      <td>-265.423416</td>\n",
       "      <td>-764.102032</td>\n",
       "      <td>-655.359373</td>\n",
       "      <td>-1253.790965</td>\n",
       "      <td>-145.986109</td>\n",
       "      <td>-396.264210</td>\n",
       "      <td>-408.047777</td>\n",
       "      <td>-595.873893</td>\n",
       "      <td>-292.497096</td>\n",
       "      <td>-493.396116</td>\n",
       "      <td>321.151225</td>\n",
       "      <td>5</td>\n",
       "    </tr>\n",
       "    <tr>\n",
       "      <th>7</th>\n",
       "      <td>3.618654</td>\n",
       "      <td>0.432315</td>\n",
       "      <td>0.013986</td>\n",
       "      <td>0.005941</td>\n",
       "      <td>0.5</td>\n",
       "      <td>100</td>\n",
       "      <td>{'RG__ccp_alpha': 0.5, 'RG__n_estimators': 100}</td>\n",
       "      <td>-159.973098</td>\n",
       "      <td>-266.252447</td>\n",
       "      <td>-832.918778</td>\n",
       "      <td>-618.454012</td>\n",
       "      <td>-1288.290352</td>\n",
       "      <td>-153.518610</td>\n",
       "      <td>-391.237909</td>\n",
       "      <td>-413.826774</td>\n",
       "      <td>-576.023145</td>\n",
       "      <td>-284.450218</td>\n",
       "      <td>-498.494534</td>\n",
       "      <td>332.873413</td>\n",
       "      <td>6</td>\n",
       "    </tr>\n",
       "    <tr>\n",
       "      <th>6</th>\n",
       "      <td>0.394371</td>\n",
       "      <td>0.074616</td>\n",
       "      <td>0.003491</td>\n",
       "      <td>0.001853</td>\n",
       "      <td>0.5</td>\n",
       "      <td>10</td>\n",
       "      <td>{'RG__ccp_alpha': 0.5, 'RG__n_estimators': 10}</td>\n",
       "      <td>-241.474925</td>\n",
       "      <td>-240.159811</td>\n",
       "      <td>-865.390806</td>\n",
       "      <td>-700.849888</td>\n",
       "      <td>-1015.017013</td>\n",
       "      <td>-172.382408</td>\n",
       "      <td>-470.447871</td>\n",
       "      <td>-425.529126</td>\n",
       "      <td>-508.625528</td>\n",
       "      <td>-364.350555</td>\n",
       "      <td>-500.422793</td>\n",
       "      <td>265.644818</td>\n",
       "      <td>7</td>\n",
       "    </tr>\n",
       "    <tr>\n",
       "      <th>9</th>\n",
       "      <td>0.324333</td>\n",
       "      <td>0.013825</td>\n",
       "      <td>0.004793</td>\n",
       "      <td>0.000591</td>\n",
       "      <td>10</td>\n",
       "      <td>10</td>\n",
       "      <td>{'RG__ccp_alpha': 10, 'RG__n_estimators': 10}</td>\n",
       "      <td>-164.088954</td>\n",
       "      <td>-297.217476</td>\n",
       "      <td>-700.981273</td>\n",
       "      <td>-709.128723</td>\n",
       "      <td>-1071.737761</td>\n",
       "      <td>-221.383836</td>\n",
       "      <td>-469.655496</td>\n",
       "      <td>-481.591809</td>\n",
       "      <td>-665.166175</td>\n",
       "      <td>-387.123729</td>\n",
       "      <td>-516.807523</td>\n",
       "      <td>260.969721</td>\n",
       "      <td>8</td>\n",
       "    </tr>\n",
       "    <tr>\n",
       "      <th>11</th>\n",
       "      <td>28.359974</td>\n",
       "      <td>1.880940</td>\n",
       "      <td>0.075658</td>\n",
       "      <td>0.023582</td>\n",
       "      <td>10</td>\n",
       "      <td>1000</td>\n",
       "      <td>{'RG__ccp_alpha': 10, 'RG__n_estimators': 1000}</td>\n",
       "      <td>-173.654990</td>\n",
       "      <td>-305.277884</td>\n",
       "      <td>-882.313218</td>\n",
       "      <td>-715.163650</td>\n",
       "      <td>-1218.273331</td>\n",
       "      <td>-177.831669</td>\n",
       "      <td>-466.942136</td>\n",
       "      <td>-444.989614</td>\n",
       "      <td>-648.011144</td>\n",
       "      <td>-309.438167</td>\n",
       "      <td>-534.189580</td>\n",
       "      <td>317.369875</td>\n",
       "      <td>9</td>\n",
       "    </tr>\n",
       "    <tr>\n",
       "      <th>10</th>\n",
       "      <td>3.307136</td>\n",
       "      <td>0.331389</td>\n",
       "      <td>0.016628</td>\n",
       "      <td>0.007363</td>\n",
       "      <td>10</td>\n",
       "      <td>100</td>\n",
       "      <td>{'RG__ccp_alpha': 10, 'RG__n_estimators': 100}</td>\n",
       "      <td>-181.889761</td>\n",
       "      <td>-299.557476</td>\n",
       "      <td>-1001.579624</td>\n",
       "      <td>-717.347608</td>\n",
       "      <td>-1252.129438</td>\n",
       "      <td>-180.008396</td>\n",
       "      <td>-529.334052</td>\n",
       "      <td>-452.465070</td>\n",
       "      <td>-658.353049</td>\n",
       "      <td>-306.696757</td>\n",
       "      <td>-557.936123</td>\n",
       "      <td>337.680721</td>\n",
       "      <td>10</td>\n",
       "    </tr>\n",
       "    <tr>\n",
       "      <th>0</th>\n",
       "      <td>0.380455</td>\n",
       "      <td>0.014723</td>\n",
       "      <td>0.006050</td>\n",
       "      <td>0.009661</td>\n",
       "      <td>0.005</td>\n",
       "      <td>10</td>\n",
       "      <td>{'RG__ccp_alpha': 0.005, 'RG__n_estimators': 10}</td>\n",
       "      <td>-201.232766</td>\n",
       "      <td>-434.707582</td>\n",
       "      <td>-1394.633851</td>\n",
       "      <td>-577.200390</td>\n",
       "      <td>-1183.534214</td>\n",
       "      <td>-206.604130</td>\n",
       "      <td>-440.608928</td>\n",
       "      <td>-371.705072</td>\n",
       "      <td>-755.260444</td>\n",
       "      <td>-344.958521</td>\n",
       "      <td>-591.044590</td>\n",
       "      <td>384.635700</td>\n",
       "      <td>11</td>\n",
       "    </tr>\n",
       "    <tr>\n",
       "      <th>3</th>\n",
       "      <td>0.309473</td>\n",
       "      <td>0.035698</td>\n",
       "      <td>0.008252</td>\n",
       "      <td>0.006426</td>\n",
       "      <td>0.1</td>\n",
       "      <td>10</td>\n",
       "      <td>{'RG__ccp_alpha': 0.1, 'RG__n_estimators': 10}</td>\n",
       "      <td>-203.352173</td>\n",
       "      <td>-382.753567</td>\n",
       "      <td>-912.069165</td>\n",
       "      <td>-978.223781</td>\n",
       "      <td>-1408.234834</td>\n",
       "      <td>-171.895199</td>\n",
       "      <td>-616.715863</td>\n",
       "      <td>-396.346624</td>\n",
       "      <td>-647.190575</td>\n",
       "      <td>-331.428452</td>\n",
       "      <td>-604.821023</td>\n",
       "      <td>373.813121</td>\n",
       "      <td>12</td>\n",
       "    </tr>\n",
       "  </tbody>\n",
       "</table>\n",
       "</div>"
      ],
      "text/plain": [
       "    mean_fit_time  std_fit_time  mean_score_time  std_score_time  \\\n",
       "5       33.456804      1.350445         0.155123        0.015011   \n",
       "4        3.365432      0.328798         0.023478        0.016222   \n",
       "2       31.753332      1.199907         0.164046        0.020323   \n",
       "8       32.669257      1.231214         0.141744        0.015312   \n",
       "1        3.814859      0.266397         0.020871        0.009732   \n",
       "7        3.618654      0.432315         0.013986        0.005941   \n",
       "6        0.394371      0.074616         0.003491        0.001853   \n",
       "9        0.324333      0.013825         0.004793        0.000591   \n",
       "11      28.359974      1.880940         0.075658        0.023582   \n",
       "10       3.307136      0.331389         0.016628        0.007363   \n",
       "0        0.380455      0.014723         0.006050        0.009661   \n",
       "3        0.309473      0.035698         0.008252        0.006426   \n",
       "\n",
       "   param_RG__ccp_alpha param_RG__n_estimators  \\\n",
       "5                  0.1                   1000   \n",
       "4                  0.1                    100   \n",
       "2                0.005                   1000   \n",
       "8                  0.5                   1000   \n",
       "1                0.005                    100   \n",
       "7                  0.5                    100   \n",
       "6                  0.5                     10   \n",
       "9                   10                     10   \n",
       "11                  10                   1000   \n",
       "10                  10                    100   \n",
       "0                0.005                     10   \n",
       "3                  0.1                     10   \n",
       "\n",
       "                                               params  split0_test_score  \\\n",
       "5    {'RG__ccp_alpha': 0.1, 'RG__n_estimators': 1000}        -155.249673   \n",
       "4     {'RG__ccp_alpha': 0.1, 'RG__n_estimators': 100}        -160.255549   \n",
       "2   {'RG__ccp_alpha': 0.005, 'RG__n_estimators': 1...        -146.761398   \n",
       "8    {'RG__ccp_alpha': 0.5, 'RG__n_estimators': 1000}        -152.353697   \n",
       "1   {'RG__ccp_alpha': 0.005, 'RG__n_estimators': 100}        -156.616287   \n",
       "7     {'RG__ccp_alpha': 0.5, 'RG__n_estimators': 100}        -159.973098   \n",
       "6      {'RG__ccp_alpha': 0.5, 'RG__n_estimators': 10}        -241.474925   \n",
       "9       {'RG__ccp_alpha': 10, 'RG__n_estimators': 10}        -164.088954   \n",
       "11    {'RG__ccp_alpha': 10, 'RG__n_estimators': 1000}        -173.654990   \n",
       "10     {'RG__ccp_alpha': 10, 'RG__n_estimators': 100}        -181.889761   \n",
       "0    {'RG__ccp_alpha': 0.005, 'RG__n_estimators': 10}        -201.232766   \n",
       "3      {'RG__ccp_alpha': 0.1, 'RG__n_estimators': 10}        -203.352173   \n",
       "\n",
       "    split1_test_score  split2_test_score  split3_test_score  \\\n",
       "5         -264.496158        -797.615848        -622.402361   \n",
       "4         -257.779320        -701.768215        -676.136235   \n",
       "2         -258.848111        -803.786128        -679.236901   \n",
       "8         -266.560175        -770.734899        -660.210254   \n",
       "1         -265.423416        -764.102032        -655.359373   \n",
       "7         -266.252447        -832.918778        -618.454012   \n",
       "6         -240.159811        -865.390806        -700.849888   \n",
       "9         -297.217476        -700.981273        -709.128723   \n",
       "11        -305.277884        -882.313218        -715.163650   \n",
       "10        -299.557476       -1001.579624        -717.347608   \n",
       "0         -434.707582       -1394.633851        -577.200390   \n",
       "3         -382.753567        -912.069165        -978.223781   \n",
       "\n",
       "    split4_test_score  split5_test_score  split6_test_score  \\\n",
       "5        -1175.941194        -156.328765        -384.376191   \n",
       "4        -1246.970558        -139.251080        -382.560940   \n",
       "2        -1198.856600        -154.459216        -386.119133   \n",
       "8        -1241.670110        -157.219208        -377.729530   \n",
       "1        -1253.790965        -145.986109        -396.264210   \n",
       "7        -1288.290352        -153.518610        -391.237909   \n",
       "6        -1015.017013        -172.382408        -470.447871   \n",
       "9        -1071.737761        -221.383836        -469.655496   \n",
       "11       -1218.273331        -177.831669        -466.942136   \n",
       "10       -1252.129438        -180.008396        -529.334052   \n",
       "0        -1183.534214        -206.604130        -440.608928   \n",
       "3        -1408.234834        -171.895199        -616.715863   \n",
       "\n",
       "    split7_test_score  split8_test_score  split9_test_score  mean_test_score  \\\n",
       "5         -403.126769        -576.283879        -265.619779      -480.144062   \n",
       "4         -406.829530        -592.632672        -299.312053      -486.349615   \n",
       "2         -409.936423        -570.799980        -264.257272      -487.306116   \n",
       "8         -419.130884        -574.318801        -274.926234      -489.485379   \n",
       "1         -408.047777        -595.873893        -292.497096      -493.396116   \n",
       "7         -413.826774        -576.023145        -284.450218      -498.494534   \n",
       "6         -425.529126        -508.625528        -364.350555      -500.422793   \n",
       "9         -481.591809        -665.166175        -387.123729      -516.807523   \n",
       "11        -444.989614        -648.011144        -309.438167      -534.189580   \n",
       "10        -452.465070        -658.353049        -306.696757      -557.936123   \n",
       "0         -371.705072        -755.260444        -344.958521      -591.044590   \n",
       "3         -396.346624        -647.190575        -331.428452      -604.821023   \n",
       "\n",
       "    std_test_score  rank_test_score  \n",
       "5       305.359267                1  \n",
       "4       316.765234                2  \n",
       "2       315.467720                3  \n",
       "8       319.132548                4  \n",
       "1       321.151225                5  \n",
       "7       332.873413                6  \n",
       "6       265.644818                7  \n",
       "9       260.969721                8  \n",
       "11      317.369875                9  \n",
       "10      337.680721               10  \n",
       "0       384.635700               11  \n",
       "3       373.813121               12  "
      ]
     },
     "execution_count": 11,
     "metadata": {},
     "output_type": "execute_result"
    }
   ],
   "source": [
    "df = pd.DataFrame(search.cv_results_)\n",
    "df = df.sort_values(by=['rank_test_score'])\n",
    "df"
   ]
  },
  {
   "cell_type": "markdown",
   "metadata": {},
   "source": [
    "# 4. Best Hyperparameter"
   ]
  },
  {
   "cell_type": "code",
   "execution_count": 12,
   "metadata": {},
   "outputs": [
    {
     "name": "stdout",
     "output_type": "stream",
     "text": [
      "{'RG__ccp_alpha': 0.1, 'RG__n_estimators': 1000}\n"
     ]
    }
   ],
   "source": [
    "parms = pd.DataFrame(df['params'])\n",
    "for i in parms.iloc[0]:\n",
    "    print(i)"
   ]
  },
  {
   "cell_type": "markdown",
   "metadata": {},
   "source": [
    "# 5. Evaluate Model"
   ]
  },
  {
   "cell_type": "code",
   "execution_count": 13,
   "metadata": {},
   "outputs": [],
   "source": [
    "best_ccp_alpha = parms.iloc[0][0]['RG__ccp_alpha']\n",
    "best_n_est = parms.iloc[0][0]['RG__n_estimators']"
   ]
  },
  {
   "cell_type": "code",
   "execution_count": null,
   "metadata": {},
   "outputs": [],
   "source": []
  },
  {
   "cell_type": "code",
   "execution_count": 14,
   "metadata": {},
   "outputs": [],
   "source": [
    "Model_2 = RandomForestRegressor(ccp_alpha=best_ccp_alpha,n_estimators=best_n_est)"
   ]
  },
  {
   "cell_type": "code",
   "execution_count": 15,
   "metadata": {},
   "outputs": [],
   "source": [
    "X_train1,X_test1,Y_train1,Y_test1 = train_test_split(X_train,Y_train,test_size=0.2,random_state=132)\n"
   ]
  },
  {
   "cell_type": "code",
   "execution_count": 16,
   "metadata": {},
   "outputs": [
    {
     "data": {
      "text/plain": [
       "RandomForestRegressor(ccp_alpha=0.1, n_estimators=1000)"
      ]
     },
     "execution_count": 16,
     "metadata": {},
     "output_type": "execute_result"
    }
   ],
   "source": [
    "\n",
    "RG1 = Model_2\n",
    "RG1.fit(X_train1,Y_train1.values.ravel())"
   ]
  },
  {
   "cell_type": "code",
   "execution_count": null,
   "metadata": {},
   "outputs": [],
   "source": []
  },
  {
   "cell_type": "code",
   "execution_count": 17,
   "metadata": {},
   "outputs": [
    {
     "data": {
      "text/plain": [
       "311.29950053245113"
      ]
     },
     "execution_count": 17,
     "metadata": {},
     "output_type": "execute_result"
    }
   ],
   "source": [
    "MSE(RG1.predict(X_test1),Y_test1)"
   ]
  },
  {
   "cell_type": "code",
   "execution_count": 18,
   "metadata": {},
   "outputs": [],
   "source": [
    "result = pd.DataFrame(Y_test1)"
   ]
  },
  {
   "cell_type": "code",
   "execution_count": 19,
   "metadata": {},
   "outputs": [],
   "source": [
    "result[\"Predicted_sales\"] = RG1.predict(X_test1)"
   ]
  },
  {
   "cell_type": "code",
   "execution_count": 20,
   "metadata": {},
   "outputs": [
    {
     "data": {
      "text/plain": [
       "311.29950053245113"
      ]
     },
     "execution_count": 20,
     "metadata": {},
     "output_type": "execute_result"
    }
   ],
   "source": [
    "MSE(result[\"sales\"],result[\"Predicted_sales\"])"
   ]
  },
  {
   "cell_type": "markdown",
   "metadata": {},
   "source": [
    "# 6. Inventory Decision"
   ]
  },
  {
   "cell_type": "code",
   "execution_count": 21,
   "metadata": {},
   "outputs": [],
   "source": [
    "residual = result['sales']-result['Predicted_sales']"
   ]
  },
  {
   "cell_type": "code",
   "execution_count": 22,
   "metadata": {},
   "outputs": [
    {
     "data": {
      "text/plain": [
       "(4, 8)"
      ]
     },
     "execution_count": 22,
     "metadata": {},
     "output_type": "execute_result"
    }
   ],
   "source": [
    "Price=20\n",
    "Cost=12\n",
    "Salvage=8\n",
    "Over=Cost - Salvage\n",
    "Under=Price - Cost\n",
    "Over, Under"
   ]
  },
  {
   "cell_type": "markdown",
   "metadata": {},
   "source": [
    "### QQ plot to explore the distribution of residual"
   ]
  },
  {
   "cell_type": "markdown",
   "metadata": {},
   "source": [
    "#### Normal Distribution"
   ]
  },
  {
   "cell_type": "code",
   "execution_count": 23,
   "metadata": {},
   "outputs": [],
   "source": [
    "import scipy.stats as sct"
   ]
  },
  {
   "cell_type": "code",
   "execution_count": 24,
   "metadata": {},
   "outputs": [
    {
     "data": {
      "image/png": "[encoded data removed]",
      "text/plain": [
       "<Figure size 432x288 with 1 Axes>"
      ]
     },
     "metadata": {
      "needs_background": "light"
     },
     "output_type": "display_data"
    }
   ],
   "source": [
    "import scipy\n",
    "scipy.stats.probplot(residual, dist=\"norm\", plot=plt)\n",
    "plt.show()"
   ]
  },
  {
   "cell_type": "code",
   "execution_count": 25,
   "metadata": {},
   "outputs": [],
   "source": [
    "s = residual.std()\n",
    "opt_dec_N=round(sct.norm.ppf(Under/(Under+Over))*s + result['Predicted_sales'])"
   ]
  },
  {
   "cell_type": "markdown",
   "metadata": {},
   "source": [
    "#### Exponential Distribution"
   ]
  },
  {
   "cell_type": "code",
   "execution_count": 26,
   "metadata": {},
   "outputs": [
    {
     "data": {
      "image/png": "[encoded data removed]",
      "text/plain": [
       "<Figure size 432x288 with 1 Axes>"
      ]
     },
     "metadata": {
      "needs_background": "light"
     },
     "output_type": "display_data"
    }
   ],
   "source": [
    "scipy.stats.probplot(residual, dist=\"expon\", plot=plt)\n",
    "plt.show()"
   ]
  },
  {
   "cell_type": "code",
   "execution_count": 27,
   "metadata": {},
   "outputs": [],
   "source": [
    "opt_dec_E=round((-result['Predicted_sales'])*np.log(1-(Under/(Under+Over))))"
   ]
  },
  {
   "cell_type": "markdown",
   "metadata": {},
   "source": [
    "#### Empirical Distribution"
   ]
  },
  {
   "cell_type": "code",
   "execution_count": 28,
   "metadata": {},
   "outputs": [
    {
     "data": {
      "text/plain": [
       "[<matplotlib.lines.Line2D at 0x1c85921ab20>]"
      ]
     },
     "execution_count": 28,
     "metadata": {},
     "output_type": "execute_result"
    },
    {
     "data": {
      "image/png": "[encoded data removed]",
      "text/plain": [
       "<Figure size 432x288 with 1 Axes>"
      ]
     },
     "metadata": {
      "needs_background": "light"
     },
     "output_type": "display_data"
    }
   ],
   "source": [
    "size = residual.shape[0]\n",
    "step=1/size\n",
    "jumps = [step*i for i in range(1,size+1)]\n",
    "Sample = sorted(residual)\n",
    "plt.plot(Sample,jumps)"
   ]
  },
  {
   "cell_type": "code",
   "execution_count": 29,
   "metadata": {},
   "outputs": [
    {
     "data": {
      "image/png": "[encoded data removed]",
      "text/plain": [
       "<Figure size 432x288 with 1 Axes>"
      ]
     },
     "metadata": {
      "needs_background": "light"
     },
     "output_type": "display_data"
    }
   ],
   "source": [
    "plt.hist(Sample)\n",
    "plt.show()"
   ]
  },
  {
   "cell_type": "code",
   "execution_count": 30,
   "metadata": {},
   "outputs": [],
   "source": [
    "def inv(sample,jump,area):\n",
    "    size = len(sample)\n",
    "    i=0\n",
    "    temp=jump[i]\n",
    "    while temp<area:\n",
    "        i+=1\n",
    "        temp=jump[i]\n",
    "        \n",
    "    return sample[i]"
   ]
  },
  {
   "cell_type": "code",
   "execution_count": 31,
   "metadata": {},
   "outputs": [
    {
     "data": {
      "text/plain": [
       "0.4042695805993972"
      ]
     },
     "execution_count": 31,
     "metadata": {},
     "output_type": "execute_result"
    }
   ],
   "source": [
    "offset = inv(Sample,jumps,2/3)\n",
    "offset"
   ]
  },
  {
   "cell_type": "code",
   "execution_count": 32,
   "metadata": {},
   "outputs": [],
   "source": [
    "opt_dec_B = round(result['Predicted_sales']+offset)"
   ]
  },
  {
   "cell_type": "markdown",
   "metadata": {},
   "source": [
    "# 7. Out-of-samples Profit"
   ]
  },
  {
   "cell_type": "code",
   "execution_count": 33,
   "metadata": {},
   "outputs": [
    {
     "data": {
      "text/plain": [
       "82096"
      ]
     },
     "execution_count": 33,
     "metadata": {},
     "output_type": "execute_result"
    }
   ],
   "source": [
    "#max profit for test data set\n",
    "max_profit = result['sales'].sum()*(Price-Cost)\n",
    "max_profit"
   ]
  },
  {
   "cell_type": "code",
   "execution_count": 34,
   "metadata": {},
   "outputs": [],
   "source": [
    "def profit(demand,inv):\n",
    "    return (Price-Salvage)*np.minimum(demand,inv)-(Cost-Salvage)*inv"
   ]
  },
  {
   "cell_type": "code",
   "execution_count": 35,
   "metadata": {},
   "outputs": [
    {
     "data": {
      "text/plain": [
       "53824.0"
      ]
     },
     "execution_count": 35,
     "metadata": {},
     "output_type": "execute_result"
    }
   ],
   "source": [
    "#Profit (Normal)\n",
    "profit_lst_N = profit(result['sales'],opt_dec_N)\n",
    "profit_lst_N.sum()"
   ]
  },
  {
   "cell_type": "code",
   "execution_count": 36,
   "metadata": {},
   "outputs": [
    {
     "data": {
      "text/plain": [
       "59792.0"
      ]
     },
     "execution_count": 36,
     "metadata": {},
     "output_type": "execute_result"
    }
   ],
   "source": [
    "#Profit (Exponential)\n",
    "profit_lst_E = profit(result['sales'],opt_dec_E)\n",
    "profit_lst_E.sum()"
   ]
  },
  {
   "cell_type": "code",
   "execution_count": 37,
   "metadata": {},
   "outputs": [
    {
     "data": {
      "text/plain": [
       "59888.0"
      ]
     },
     "execution_count": 37,
     "metadata": {},
     "output_type": "execute_result"
    }
   ],
   "source": [
    "#Profit (Empirical)\n",
    "profit_lst_B = profit(result['sales'],opt_dec_B)\n",
    "profit_lst_B.sum()"
   ]
  },
  {
   "cell_type": "markdown",
   "metadata": {},
   "source": [
    "# 8. K-Fold Cross Validation"
   ]
  },
  {
   "cell_type": "markdown",
   "metadata": {},
   "source": [
    "### Repeat steps 5,6,7 with 10-fold cross validation"
   ]
  },
  {
   "cell_type": "code",
   "execution_count": 38,
   "metadata": {},
   "outputs": [],
   "source": [
    "Model_4= RandomForestRegressor(ccp_alpha=best_ccp_alpha,n_estimators=best_n_est)"
   ]
  },
  {
   "cell_type": "code",
   "execution_count": 39,
   "metadata": {},
   "outputs": [],
   "source": [
    "from sklearn.model_selection import KFold\n",
    "k=10\n",
    "kf = KFold(n_splits=k)\n",
    "X_train_t=X_train.to_numpy()\n",
    "Y_train_t=Y_train.to_numpy()\n",
    "model = []\n",
    "mse_lst = []\n",
    "max_profit_lst = []\n",
    "profit_N_lst = []\n",
    "profit_E_lst = []\n",
    "profit_B_lst = []\n",
    "\n",
    "for train_index,test_index in kf.split(X_train_t):\n",
    "    X_train_K,X_test_K=X_train_t[train_index],X_train_t[test_index]\n",
    "    Y_train_K,Y_test_K=Y_train_t[train_index],Y_train_t[test_index]\n",
    "    \n",
    "    #PCA to transform train data\n",
    "    \n",
    "    #Model\n",
    "    RG_K = Model_4\n",
    "    RG_K.fit(X_train_K,Y_train_K.ravel())\n",
    "    \n",
    "    #pca to transform test data\n",
    "    \n",
    "    #MSE\n",
    "    mse_lst.append(MSE(RG_K.predict(X_test_K),Y_test_K))\n",
    "    \n",
    "    #Transform log(sale) back to sale\n",
    "    result_K = pd.DataFrame(Y_test_K)\n",
    "    result_K[\"Predicted_sales\"] = RG_K.predict(X_test_K)\n",
    "    \n",
    "    #Obtain residual\n",
    "    residual_K = result_K[0]-result_K['Predicted_sales']\n",
    "    \n",
    "    #Get std for Normal distribution\n",
    "    s_K = residual.std()\n",
    "    \n",
    "    #Inventory Decision (Normal)\n",
    "    opt_dec_N_K=np.ceil(sct.norm.ppf(Under/(Under+Over))*s_K + result_K['Predicted_sales'])\n",
    "    #Inventory Decision (Exponential)\n",
    "    opt_dec_E_K=np.ceil((-result_K['Predicted_sales'])*np.log(1-(Under/(Under+Over))))\n",
    "    \n",
    "    #Inventory Decision (Empirical Distribution)\n",
    "    size_K = residual_K.shape[0]\n",
    "    step_K=1/size_K\n",
    "    jumps_K = [step_K*i for i in range(1,size+1)]\n",
    "    Sample_K = sorted(residual_K)\n",
    "    offset_K = inv(Sample_K,jumps_K,2/3)\n",
    "    opt_dec_B_K = np.ceil(result_K['Predicted_sales']+offset_K)\n",
    "    \n",
    "    #Out-of_sample profit\n",
    "    profit_lst_B_K = profit(result_K[0],opt_dec_B_K)\n",
    "    profit_B_lst.append(profit_lst_B_K.sum())\n",
    "    \n",
    "    profit_lst_N_K = profit(result_K[0],opt_dec_N_K)\n",
    "    profit_N_lst.append(profit_lst_N_K.sum())\n",
    "    \n",
    "    profit_lst_E_K = profit(result_K[0],opt_dec_E_K)\n",
    "    profit_E_lst.append(profit_lst_E_K.sum())\n",
    "    \n",
    "    max_profit_K = result_K[0].sum()*(Price-Cost)\n",
    "    max_profit_lst.append(max_profit_K)\n",
    "    \n",
    "max_profit_lst = np.array(max_profit_lst)\n",
    "profit_N_lst = np.array(profit_N_lst)\n",
    "profit_E_lst = np.array(profit_E_lst)\n",
    "profit_B_lst = np.array(profit_B_lst)\n",
    "\n",
    "fraction_of_max_N = profit_N_lst/max_profit_lst\n",
    "fraction_of_max_E = profit_E_lst/max_profit_lst\n",
    "fraction_of_max_B = profit_B_lst/max_profit_lst\n",
    "\n",
    "dist_profit = [\"Normal\",\"Exponential\",\"Empirical\",\"Max\"]\n",
    "dist_frac = [\"Normal\",\"Exponential\",\"Empirical\"]\n",
    "col_name = [\"Dataset_\"+str(i) for i in range(1,k+1)]\n",
    "\n",
    "profit_lst = [profit_N_lst,profit_E_lst,profit_B_lst,max_profit_lst]\n",
    "profit_table = pd.DataFrame(profit_lst,index=dist_profit,columns=col_name)\n",
    "profit_table[\"mean_profit\"]=profit_table.mean(axis=1)\n",
    "profit_table[\"std_profit\"]=profit_table.std(ddof=1,axis=1)\n",
    "\n",
    "fraction_lst = [fraction_of_max_N,fraction_of_max_E,fraction_of_max_B]\n",
    "fraction_table = pd.DataFrame(fraction_lst,index=dist_frac,columns=col_name)\n",
    "fraction_table[\"mean_fraction\"]=fraction_table.mean(axis=1)"
   ]
  },
  {
   "cell_type": "code",
   "execution_count": 40,
   "metadata": {},
   "outputs": [
    {
     "data": {
      "text/html": [
       "<div>\n",
       "<style scoped>\n",
       "    .dataframe tbody tr th:only-of-type {\n",
       "        vertical-align: middle;\n",
       "    }\n",
       "\n",
       "    .dataframe tbody tr th {\n",
       "        vertical-align: top;\n",
       "    }\n",
       "\n",
       "    .dataframe thead th {\n",
       "        text-align: right;\n",
       "    }\n",
       "</style>\n",
       "<table border=\"1\" class=\"dataframe\">\n",
       "  <thead>\n",
       "    <tr style=\"text-align: right;\">\n",
       "      <th></th>\n",
       "      <th>Dataset_1</th>\n",
       "      <th>Dataset_2</th>\n",
       "      <th>Dataset_3</th>\n",
       "      <th>Dataset_4</th>\n",
       "      <th>Dataset_5</th>\n",
       "      <th>Dataset_6</th>\n",
       "      <th>Dataset_7</th>\n",
       "      <th>Dataset_8</th>\n",
       "      <th>Dataset_9</th>\n",
       "      <th>Dataset_10</th>\n",
       "      <th>mean_fraction</th>\n",
       "    </tr>\n",
       "  </thead>\n",
       "  <tbody>\n",
       "    <tr>\n",
       "      <th>Normal</th>\n",
       "      <td>0.699111</td>\n",
       "      <td>0.704791</td>\n",
       "      <td>0.650164</td>\n",
       "      <td>0.679914</td>\n",
       "      <td>0.651007</td>\n",
       "      <td>0.688076</td>\n",
       "      <td>0.706094</td>\n",
       "      <td>0.677103</td>\n",
       "      <td>0.647280</td>\n",
       "      <td>0.656166</td>\n",
       "      <td>0.675971</td>\n",
       "    </tr>\n",
       "    <tr>\n",
       "      <th>Exponential</th>\n",
       "      <td>0.777885</td>\n",
       "      <td>0.752873</td>\n",
       "      <td>0.717125</td>\n",
       "      <td>0.743348</td>\n",
       "      <td>0.722885</td>\n",
       "      <td>0.770232</td>\n",
       "      <td>0.758209</td>\n",
       "      <td>0.723157</td>\n",
       "      <td>0.707677</td>\n",
       "      <td>0.738475</td>\n",
       "      <td>0.741186</td>\n",
       "    </tr>\n",
       "    <tr>\n",
       "      <th>Empirical</th>\n",
       "      <td>0.783781</td>\n",
       "      <td>0.747746</td>\n",
       "      <td>0.715656</td>\n",
       "      <td>0.732189</td>\n",
       "      <td>0.706124</td>\n",
       "      <td>0.771358</td>\n",
       "      <td>0.746365</td>\n",
       "      <td>0.721683</td>\n",
       "      <td>0.710898</td>\n",
       "      <td>0.737226</td>\n",
       "      <td>0.737303</td>\n",
       "    </tr>\n",
       "  </tbody>\n",
       "</table>\n",
       "</div>"
      ],
      "text/plain": [
       "             Dataset_1  Dataset_2  Dataset_3  Dataset_4  Dataset_5  Dataset_6  \\\n",
       "Normal        0.699111   0.704791   0.650164   0.679914   0.651007   0.688076   \n",
       "Exponential   0.777885   0.752873   0.717125   0.743348   0.722885   0.770232   \n",
       "Empirical     0.783781   0.747746   0.715656   0.732189   0.706124   0.771358   \n",
       "\n",
       "             Dataset_7  Dataset_8  Dataset_9  Dataset_10  mean_fraction  \n",
       "Normal        0.706094   0.677103   0.647280    0.656166       0.675971  \n",
       "Exponential   0.758209   0.723157   0.707677    0.738475       0.741186  \n",
       "Empirical     0.746365   0.721683   0.710898    0.737226       0.737303  "
      ]
     },
     "execution_count": 40,
     "metadata": {},
     "output_type": "execute_result"
    }
   ],
   "source": [
    "fraction_table"
   ]
  },
  {
   "cell_type": "code",
   "execution_count": 41,
   "metadata": {
    "scrolled": true
   },
   "outputs": [
    {
     "data": {
      "text/html": [
       "<div>\n",
       "<style scoped>\n",
       "    .dataframe tbody tr th:only-of-type {\n",
       "        vertical-align: middle;\n",
       "    }\n",
       "\n",
       "    .dataframe tbody tr th {\n",
       "        vertical-align: top;\n",
       "    }\n",
       "\n",
       "    .dataframe thead th {\n",
       "        text-align: right;\n",
       "    }\n",
       "</style>\n",
       "<table border=\"1\" class=\"dataframe\">\n",
       "  <thead>\n",
       "    <tr style=\"text-align: right;\">\n",
       "      <th></th>\n",
       "      <th>Dataset_1</th>\n",
       "      <th>Dataset_2</th>\n",
       "      <th>Dataset_3</th>\n",
       "      <th>Dataset_4</th>\n",
       "      <th>Dataset_5</th>\n",
       "      <th>Dataset_6</th>\n",
       "      <th>Dataset_7</th>\n",
       "      <th>Dataset_8</th>\n",
       "      <th>Dataset_9</th>\n",
       "      <th>Dataset_10</th>\n",
       "      <th>mean_profit</th>\n",
       "      <th>std_profit</th>\n",
       "    </tr>\n",
       "  </thead>\n",
       "  <tbody>\n",
       "    <tr>\n",
       "      <th>Normal</th>\n",
       "      <td>28932.0</td>\n",
       "      <td>31896.0</td>\n",
       "      <td>30100.0</td>\n",
       "      <td>31684.0</td>\n",
       "      <td>32316.0</td>\n",
       "      <td>26868.0</td>\n",
       "      <td>34576.0</td>\n",
       "      <td>31228.0</td>\n",
       "      <td>28936.0</td>\n",
       "      <td>27328.0</td>\n",
       "      <td>30386.4</td>\n",
       "      <td>2279.933473</td>\n",
       "    </tr>\n",
       "    <tr>\n",
       "      <th>Exponential</th>\n",
       "      <td>32192.0</td>\n",
       "      <td>34072.0</td>\n",
       "      <td>33200.0</td>\n",
       "      <td>34640.0</td>\n",
       "      <td>35884.0</td>\n",
       "      <td>30076.0</td>\n",
       "      <td>37128.0</td>\n",
       "      <td>33352.0</td>\n",
       "      <td>31636.0</td>\n",
       "      <td>30756.0</td>\n",
       "      <td>33293.6</td>\n",
       "      <td>2111.804688</td>\n",
       "    </tr>\n",
       "    <tr>\n",
       "      <th>Empirical</th>\n",
       "      <td>32436.0</td>\n",
       "      <td>33840.0</td>\n",
       "      <td>33132.0</td>\n",
       "      <td>34120.0</td>\n",
       "      <td>35052.0</td>\n",
       "      <td>30120.0</td>\n",
       "      <td>36548.0</td>\n",
       "      <td>33284.0</td>\n",
       "      <td>31780.0</td>\n",
       "      <td>30704.0</td>\n",
       "      <td>33101.6</td>\n",
       "      <td>1847.332520</td>\n",
       "    </tr>\n",
       "    <tr>\n",
       "      <th>Max</th>\n",
       "      <td>41384.0</td>\n",
       "      <td>45256.0</td>\n",
       "      <td>46296.0</td>\n",
       "      <td>46600.0</td>\n",
       "      <td>49640.0</td>\n",
       "      <td>39048.0</td>\n",
       "      <td>48968.0</td>\n",
       "      <td>46120.0</td>\n",
       "      <td>44704.0</td>\n",
       "      <td>41648.0</td>\n",
       "      <td>44966.4</td>\n",
       "      <td>3203.875254</td>\n",
       "    </tr>\n",
       "  </tbody>\n",
       "</table>\n",
       "</div>"
      ],
      "text/plain": [
       "             Dataset_1  Dataset_2  Dataset_3  Dataset_4  Dataset_5  Dataset_6  \\\n",
       "Normal         28932.0    31896.0    30100.0    31684.0    32316.0    26868.0   \n",
       "Exponential    32192.0    34072.0    33200.0    34640.0    35884.0    30076.0   \n",
       "Empirical      32436.0    33840.0    33132.0    34120.0    35052.0    30120.0   \n",
       "Max            41384.0    45256.0    46296.0    46600.0    49640.0    39048.0   \n",
       "\n",
       "             Dataset_7  Dataset_8  Dataset_9  Dataset_10  mean_profit  \\\n",
       "Normal         34576.0    31228.0    28936.0     27328.0      30386.4   \n",
       "Exponential    37128.0    33352.0    31636.0     30756.0      33293.6   \n",
       "Empirical      36548.0    33284.0    31780.0     30704.0      33101.6   \n",
       "Max            48968.0    46120.0    44704.0     41648.0      44966.4   \n",
       "\n",
       "              std_profit  \n",
       "Normal       2279.933473  \n",
       "Exponential  2111.804688  \n",
       "Empirical    1847.332520  \n",
       "Max          3203.875254  "
      ]
     },
     "execution_count": 41,
     "metadata": {},
     "output_type": "execute_result"
    }
   ],
   "source": [
    "profit_table"
   ]
  },
  {
   "cell_type": "code",
   "execution_count": 42,
   "metadata": {},
   "outputs": [],
   "source": [
    "profit_table.to_csv(\".\\\\Model_Selection_Result\\\\4.2B_Random_forest(No_PCA).csv\")"
   ]
  },
  {
   "cell_type": "code",
   "execution_count": 43,
   "metadata": {},
   "outputs": [
    {
     "data": {
      "text/plain": [
       "[<matplotlib.lines.Line2D at 0x1c859254e50>]"
      ]
     },
     "execution_count": 43,
     "metadata": {},
     "output_type": "execute_result"
    },
    {
     "data": {
      "image/png": "[encoded data removed]",
      "text/plain": [
       "<Figure size 432x288 with 1 Axes>"
      ]
     },
     "metadata": {
      "needs_background": "light"
     },
     "output_type": "display_data"
    }
   ],
   "source": [
    "plt.xlabel(\"sales\")\n",
    "plt.ylabel(\"Residual\")\n",
    "plt.plot(result['sales'],residual,\".\")"
   ]
  },
  {
   "cell_type": "code",
   "execution_count": null,
   "metadata": {},
   "outputs": [],
   "source": []
  }
 ],
 "metadata": {
  "kernelspec": {
   "display_name": "Python 3",
   "language": "python",
   "name": "python3"
  },
  "language_info": {
   "codemirror_mode": {
    "name": "ipython",
    "version": 3
   },
   "file_extension": ".py",
   "mimetype": "text/x-python",
   "name": "python",
   "nbconvert_exporter": "python",
   "pygments_lexer": "ipython3",
   "version": "3.8.5"
  }
 },
 "nbformat": 4,
 "nbformat_minor": 4
}
