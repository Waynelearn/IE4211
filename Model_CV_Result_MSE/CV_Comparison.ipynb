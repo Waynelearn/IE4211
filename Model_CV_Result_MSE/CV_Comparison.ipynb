{
 "cells": [
  {
   "cell_type": "code",
   "execution_count": 1,
   "metadata": {},
   "outputs": [],
   "source": [
    "import pandas as pd\n",
    "import numpy as np\n",
    "import os\n",
    "import re"
   ]
  },
  {
   "cell_type": "code",
   "execution_count": 2,
   "metadata": {},
   "outputs": [
    {
     "data": {
      "text/plain": [
       "['.ipynb_checkpoints',\n",
       " '2.1A_Lin_reg.csv',\n",
       " '2.1B_Lin_reg(No_PCA).csv',\n",
       " '2.2A_Poly_reg.csv',\n",
       " '2.2B_Poly_reg(No PCA).csv',\n",
       " '2.3_Lin_reg_ridge.csv',\n",
       " '2.4_Lin_reg_lasso.csv',\n",
       " '2.5_Poly_reg_ridge.csv',\n",
       " '2.6_Poly_reg_lasso.csv',\n",
       " '3.1A_KNN.csv',\n",
       " '3.1B_KNN(No_PCA).csv',\n",
       " '4.1A_Decision_tree.csv',\n",
       " '4.2A_Random_forest.csv',\n",
       " '4.2B_Decision_tree(No_PCA).csv',\n",
       " '4.2B_Random_forest(No_PCA).csv',\n",
       " '4.3A_Gradient_boosting.csv',\n",
       " '4.3B_Gradient_boosting(No_PCA).csv',\n",
       " '4.4B_Bagging(No_PCA).csv',\n",
       " '5.1_Quantile_regression_forest(No_PCA).csv',\n",
       " 'CV_Comparison.ipynb']"
      ]
     },
     "execution_count": 2,
     "metadata": {},
     "output_type": "execute_result"
    }
   ],
   "source": [
    "os.listdir()"
   ]
  },
  {
   "cell_type": "code",
   "execution_count": 3,
   "metadata": {},
   "outputs": [],
   "source": [
    "pattern = \"csv$\""
   ]
  },
  {
   "cell_type": "code",
   "execution_count": 4,
   "metadata": {},
   "outputs": [
    {
     "name": "stdout",
     "output_type": "stream",
     "text": [
      "2.1A_Lin_reg.csv\n"
     ]
    }
   ],
   "source": [
    "print(re.search(pattern,os.listdir()[1]).string)"
   ]
  },
  {
   "cell_type": "code",
   "execution_count": 5,
   "metadata": {},
   "outputs": [],
   "source": [
    "\n",
    "name = []\n",
    "avg = []"
   ]
  },
  {
   "cell_type": "code",
   "execution_count": 6,
   "metadata": {},
   "outputs": [],
   "source": [
    "for d in os.listdir():\n",
    "    if re.search(pattern,d)!=None:\n",
    "        temp = pd.read_csv(d,index_col=0)\n",
    "        avg.append(temp.mean())\n",
    "        name.append(d[0:-4])"
   ]
  },
  {
   "cell_type": "code",
   "execution_count": 7,
   "metadata": {},
   "outputs": [
    {
     "data": {
      "text/html": [
       "<div>\n",
       "<style scoped>\n",
       "    .dataframe tbody tr th:only-of-type {\n",
       "        vertical-align: middle;\n",
       "    }\n",
       "\n",
       "    .dataframe tbody tr th {\n",
       "        vertical-align: top;\n",
       "    }\n",
       "\n",
       "    .dataframe thead th {\n",
       "        text-align: right;\n",
       "    }\n",
       "</style>\n",
       "<table border=\"1\" class=\"dataframe\">\n",
       "  <thead>\n",
       "    <tr style=\"text-align: right;\">\n",
       "      <th></th>\n",
       "      <th>Cross Validation MSE</th>\n",
       "    </tr>\n",
       "  </thead>\n",
       "  <tbody>\n",
       "    <tr>\n",
       "      <th>4.4B_Bagging(No_PCA)</th>\n",
       "      <td>478.68</td>\n",
       "    </tr>\n",
       "    <tr>\n",
       "      <th>5.1_Quantile_regression_forest(No_PCA)</th>\n",
       "      <td>484.88</td>\n",
       "    </tr>\n",
       "    <tr>\n",
       "      <th>4.2B_Random_forest(No_PCA)</th>\n",
       "      <td>489.66</td>\n",
       "    </tr>\n",
       "    <tr>\n",
       "      <th>4.3B_Gradient_boosting(No_PCA)</th>\n",
       "      <td>519.09</td>\n",
       "    </tr>\n",
       "    <tr>\n",
       "      <th>3.1B_KNN(No_PCA)</th>\n",
       "      <td>759.19</td>\n",
       "    </tr>\n",
       "    <tr>\n",
       "      <th>4.2B_Decision_tree(No_PCA)</th>\n",
       "      <td>1007.49</td>\n",
       "    </tr>\n",
       "    <tr>\n",
       "      <th>4.3A_Gradient_boosting</th>\n",
       "      <td>1680.36</td>\n",
       "    </tr>\n",
       "    <tr>\n",
       "      <th>4.2A_Random_forest</th>\n",
       "      <td>1714.13</td>\n",
       "    </tr>\n",
       "    <tr>\n",
       "      <th>4.1A_Decision_tree</th>\n",
       "      <td>1839.94</td>\n",
       "    </tr>\n",
       "    <tr>\n",
       "      <th>2.6_Poly_reg_lasso</th>\n",
       "      <td>1958.82</td>\n",
       "    </tr>\n",
       "    <tr>\n",
       "      <th>3.1A_KNN</th>\n",
       "      <td>1959.39</td>\n",
       "    </tr>\n",
       "    <tr>\n",
       "      <th>2.4_Lin_reg_lasso</th>\n",
       "      <td>3978.06</td>\n",
       "    </tr>\n",
       "    <tr>\n",
       "      <th>2.5_Poly_reg_ridge</th>\n",
       "      <td>4632.62</td>\n",
       "    </tr>\n",
       "    <tr>\n",
       "      <th>2.3_Lin_reg_ridge</th>\n",
       "      <td>4632.62</td>\n",
       "    </tr>\n",
       "    <tr>\n",
       "      <th>2.1A_Lin_reg</th>\n",
       "      <td>9838.15</td>\n",
       "    </tr>\n",
       "    <tr>\n",
       "      <th>2.2A_Poly_reg</th>\n",
       "      <td>11294.97</td>\n",
       "    </tr>\n",
       "    <tr>\n",
       "      <th>2.2B_Poly_reg(No PCA)</th>\n",
       "      <td>6346356292976052224.00</td>\n",
       "    </tr>\n",
       "    <tr>\n",
       "      <th>2.1B_Lin_reg(No_PCA)</th>\n",
       "      <td>6346356292976052224.00</td>\n",
       "    </tr>\n",
       "  </tbody>\n",
       "</table>\n",
       "</div>"
      ],
      "text/plain": [
       "                                         Cross Validation MSE\n",
       "4.4B_Bagging(No_PCA)                                   478.68\n",
       "5.1_Quantile_regression_forest(No_PCA)                 484.88\n",
       "4.2B_Random_forest(No_PCA)                             489.66\n",
       "4.3B_Gradient_boosting(No_PCA)                         519.09\n",
       "3.1B_KNN(No_PCA)                                       759.19\n",
       "4.2B_Decision_tree(No_PCA)                            1007.49\n",
       "4.3A_Gradient_boosting                                1680.36\n",
       "4.2A_Random_forest                                    1714.13\n",
       "4.1A_Decision_tree                                    1839.94\n",
       "2.6_Poly_reg_lasso                                    1958.82\n",
       "3.1A_KNN                                              1959.39\n",
       "2.4_Lin_reg_lasso                                     3978.06\n",
       "2.5_Poly_reg_ridge                                    4632.62\n",
       "2.3_Lin_reg_ridge                                     4632.62\n",
       "2.1A_Lin_reg                                          9838.15\n",
       "2.2A_Poly_reg                                        11294.97\n",
       "2.2B_Poly_reg(No PCA)                  6346356292976052224.00\n",
       "2.1B_Lin_reg(No_PCA)                   6346356292976052224.00"
      ]
     },
     "execution_count": 7,
     "metadata": {},
     "output_type": "execute_result"
    }
   ],
   "source": [
    "pd.options.display.float_format = '{:.2f}'.format\n",
    "df = pd.DataFrame(avg,index=name)\n",
    "df = df.sort_values(by=['Cross Validation MSE'])\n",
    "df"
   ]
  },
  {
   "cell_type": "code",
   "execution_count": 8,
   "metadata": {},
   "outputs": [],
   "source": [
    "df.to_csv(\"MSE_all.csv\")"
   ]
  },
  {
   "cell_type": "code",
   "execution_count": null,
   "metadata": {},
   "outputs": [],
   "source": []
  }
 ],
 "metadata": {
  "kernelspec": {
   "display_name": "Python 3",
   "language": "python",
   "name": "python3"
  },
  "language_info": {
   "codemirror_mode": {
    "name": "ipython",
    "version": 3
   },
   "file_extension": ".py",
   "mimetype": "text/x-python",
   "name": "python",
   "nbconvert_exporter": "python",
   "pygments_lexer": "ipython3",
   "version": "3.8.5"
  }
 },
 "nbformat": 4,
 "nbformat_minor": 4
}
