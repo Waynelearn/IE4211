{
 "cells": [
  {
   "cell_type": "code",
   "execution_count": 1,
   "metadata": {},
   "outputs": [],
   "source": [
    "import pandas as pd\n",
    "import numpy as np\n",
    "import matplotlib.pyplot as plt\n",
    "from sklearn.model_selection import GridSearchCV\n",
    "from sklearn.metrics import mean_squared_error as MSE\n",
    "from sklearn.model_selection import train_test_split\n",
    "from sklearn.tree import DecisionTreeRegressor\n",
    "from sklearn.ensemble import RandomForestRegressor"
   ]
  },
  {
   "cell_type": "code",
   "execution_count": 2,
   "metadata": {},
   "outputs": [],
   "source": [
    "name=\"RandomForest\""
   ]
  },
  {
   "cell_type": "code",
   "execution_count": 3,
   "metadata": {},
   "outputs": [],
   "source": [
    "X_train = pd.read_csv(\"data-train.csv\",index_col=0)\n",
    "Y_train = X_train.sales\n",
    "X_train = X_train.drop(['sales'],axis=1)\n"
   ]
  },
  {
   "cell_type": "markdown",
   "metadata": {},
   "source": [
    "## Hyperparameter"
   ]
  },
  {
   "cell_type": "code",
   "execution_count": 4,
   "metadata": {},
   "outputs": [],
   "source": [
    "best_ccp_alpha = 0.1\n",
    "best_n_est = 1000"
   ]
  },
  {
   "cell_type": "code",
   "execution_count": 5,
   "metadata": {},
   "outputs": [],
   "source": [
    "np.random.seed(42)"
   ]
  },
  {
   "cell_type": "code",
   "execution_count": 6,
   "metadata": {},
   "outputs": [],
   "source": [
    "Model_1 = RandomForestRegressor(ccp_alpha=best_ccp_alpha,n_estimators=best_n_est)"
   ]
  },
  {
   "cell_type": "markdown",
   "metadata": {},
   "source": [
    "# 1. Get Residual Distribution"
   ]
  },
  {
   "cell_type": "code",
   "execution_count": 7,
   "metadata": {},
   "outputs": [],
   "source": [
    "#Split into train and test data\n",
    "X_train1,X_test1,Y_train1,Y_test1 = train_test_split(X_train,Y_train,test_size=0.2,random_state=1)"
   ]
  },
  {
   "cell_type": "code",
   "execution_count": 8,
   "metadata": {},
   "outputs": [
    {
     "data": {
      "text/plain": [
       "RandomForestRegressor(ccp_alpha=0.1, n_estimators=1000)"
      ]
     },
     "execution_count": 8,
     "metadata": {},
     "output_type": "execute_result"
    }
   ],
   "source": [
    "RG1 = Model_1\n",
    "RG1.fit(X_train1,Y_train1.values.ravel())"
   ]
  },
  {
   "cell_type": "markdown",
   "metadata": {},
   "source": [
    "## Out of Sample MSE"
   ]
  },
  {
   "cell_type": "code",
   "execution_count": 9,
   "metadata": {},
   "outputs": [
    {
     "data": {
      "text/plain": [
       "318.5419237837539"
      ]
     },
     "execution_count": 9,
     "metadata": {},
     "output_type": "execute_result"
    }
   ],
   "source": [
    "\n",
    "MSE(RG1.predict(X_test1),Y_test1)"
   ]
  },
  {
   "cell_type": "code",
   "execution_count": 10,
   "metadata": {},
   "outputs": [],
   "source": [
    "result = pd.DataFrame(Y_test1)"
   ]
  },
  {
   "cell_type": "code",
   "execution_count": 11,
   "metadata": {},
   "outputs": [],
   "source": [
    "result[\"Predicted_sales\"] = RG1.predict(X_test1)"
   ]
  },
  {
   "cell_type": "code",
   "execution_count": 12,
   "metadata": {},
   "outputs": [
    {
     "data": {
      "text/plain": [
       "318.5419237837539"
      ]
     },
     "execution_count": 12,
     "metadata": {},
     "output_type": "execute_result"
    }
   ],
   "source": [
    "outSampleMSE = MSE(result[\"sales\"],result[\"Predicted_sales\"])\n",
    "outSampleMSE"
   ]
  },
  {
   "cell_type": "markdown",
   "metadata": {},
   "source": [
    "## Get Residual"
   ]
  },
  {
   "cell_type": "code",
   "execution_count": 13,
   "metadata": {},
   "outputs": [],
   "source": [
    "residual = result['sales']-result['Predicted_sales']"
   ]
  },
  {
   "cell_type": "markdown",
   "metadata": {},
   "source": [
    "# Get Critical factor"
   ]
  },
  {
   "cell_type": "code",
   "execution_count": 14,
   "metadata": {},
   "outputs": [
    {
     "data": {
      "text/plain": [
       "0.6666666666666666"
      ]
     },
     "execution_count": 14,
     "metadata": {},
     "output_type": "execute_result"
    }
   ],
   "source": [
    "Price=20\n",
    "Cost=12\n",
    "Salvage=8\n",
    "Over=Cost - Salvage\n",
    "Under=Price - Cost\n",
    "Under/(Under+Over)"
   ]
  },
  {
   "cell_type": "markdown",
   "metadata": {},
   "source": [
    "## CDF of Empirical Distribution"
   ]
  },
  {
   "cell_type": "code",
   "execution_count": 15,
   "metadata": {},
   "outputs": [
    {
     "data": {
      "text/plain": [
       "[<matplotlib.lines.Line2D at 0x294f6a52e80>]"
      ]
     },
     "execution_count": 15,
     "metadata": {},
     "output_type": "execute_result"
    },
    {
     "data": {
      "image/png": "[encoded data removed]",
      "text/plain": [
       "<Figure size 432x288 with 1 Axes>"
      ]
     },
     "metadata": {
      "needs_background": "light"
     },
     "output_type": "display_data"
    }
   ],
   "source": [
    "size = residual.shape[0]\n",
    "step=1/size\n",
    "jumps = [step*i for i in range(1,size+1)]\n",
    "Sample = sorted(residual)\n",
    "plt.plot(Sample,jumps)"
   ]
  },
  {
   "cell_type": "markdown",
   "metadata": {},
   "source": [
    "## PDF of Empirical Distribution"
   ]
  },
  {
   "cell_type": "code",
   "execution_count": 16,
   "metadata": {},
   "outputs": [
    {
     "data": {
      "image/png": "[encoded data removed]",
      "text/plain": [
       "<Figure size 432x288 with 1 Axes>"
      ]
     },
     "metadata": {
      "needs_background": "light"
     },
     "output_type": "display_data"
    }
   ],
   "source": [
    "plt.hist(Sample)\n",
    "plt.show()"
   ]
  },
  {
   "cell_type": "code",
   "execution_count": 17,
   "metadata": {},
   "outputs": [],
   "source": [
    "def inv(sample,jump,area):\n",
    "    size = len(sample)\n",
    "    i=0\n",
    "    temp=jump[i]\n",
    "    while temp<area:\n",
    "        i+=1\n",
    "        temp=jump[i]\n",
    "        \n",
    "    return sample[i]"
   ]
  },
  {
   "cell_type": "markdown",
   "metadata": {},
   "source": [
    "## Offset from sales to get Inventory decision"
   ]
  },
  {
   "cell_type": "code",
   "execution_count": 18,
   "metadata": {},
   "outputs": [
    {
     "data": {
      "text/plain": [
       "1.040420208257153"
      ]
     },
     "execution_count": 18,
     "metadata": {},
     "output_type": "execute_result"
    }
   ],
   "source": [
    "offset = inv(Sample,jumps,2/3)\n",
    "offset"
   ]
  },
  {
   "cell_type": "markdown",
   "metadata": {},
   "source": [
    "# 2. Train Model using all available data"
   ]
  },
  {
   "cell_type": "code",
   "execution_count": 19,
   "metadata": {},
   "outputs": [],
   "source": [
    "Model_f = RandomForestRegressor(ccp_alpha=best_ccp_alpha,n_estimators=best_n_est)"
   ]
  },
  {
   "cell_type": "code",
   "execution_count": 20,
   "metadata": {},
   "outputs": [
    {
     "data": {
      "text/plain": [
       "RandomForestRegressor(ccp_alpha=0.1, n_estimators=1000)"
      ]
     },
     "execution_count": 20,
     "metadata": {},
     "output_type": "execute_result"
    }
   ],
   "source": [
    "RGf = Model_f\n",
    "RGf.fit(X_train,Y_train.values.ravel())"
   ]
  },
  {
   "cell_type": "markdown",
   "metadata": {},
   "source": [
    "# 3. Predict sales"
   ]
  },
  {
   "cell_type": "code",
   "execution_count": 21,
   "metadata": {},
   "outputs": [],
   "source": [
    "X_test = pd.read_csv(\"data-test.csv\",index_col=0)"
   ]
  },
  {
   "cell_type": "code",
   "execution_count": 22,
   "metadata": {},
   "outputs": [],
   "source": [
    "final = pd.DataFrame(RGf.predict(X_test))"
   ]
  },
  {
   "cell_type": "code",
   "execution_count": 23,
   "metadata": {},
   "outputs": [
    {
     "data": {
      "text/html": [
       "<div>\n",
       "<style scoped>\n",
       "    .dataframe tbody tr th:only-of-type {\n",
       "        vertical-align: middle;\n",
       "    }\n",
       "\n",
       "    .dataframe tbody tr th {\n",
       "        vertical-align: top;\n",
       "    }\n",
       "\n",
       "    .dataframe thead th {\n",
       "        text-align: right;\n",
       "    }\n",
       "</style>\n",
       "<table border=\"1\" class=\"dataframe\">\n",
       "  <thead>\n",
       "    <tr style=\"text-align: right;\">\n",
       "      <th></th>\n",
       "      <th>0</th>\n",
       "    </tr>\n",
       "  </thead>\n",
       "  <tbody>\n",
       "    <tr>\n",
       "      <th>0</th>\n",
       "      <td>11.825315</td>\n",
       "    </tr>\n",
       "    <tr>\n",
       "      <th>1</th>\n",
       "      <td>3.465066</td>\n",
       "    </tr>\n",
       "    <tr>\n",
       "      <th>2</th>\n",
       "      <td>19.046110</td>\n",
       "    </tr>\n",
       "    <tr>\n",
       "      <th>3</th>\n",
       "      <td>30.137212</td>\n",
       "    </tr>\n",
       "    <tr>\n",
       "      <th>4</th>\n",
       "      <td>30.105911</td>\n",
       "    </tr>\n",
       "    <tr>\n",
       "      <th>...</th>\n",
       "      <td>...</td>\n",
       "    </tr>\n",
       "    <tr>\n",
       "      <th>1538</th>\n",
       "      <td>5.377480</td>\n",
       "    </tr>\n",
       "    <tr>\n",
       "      <th>1539</th>\n",
       "      <td>26.849598</td>\n",
       "    </tr>\n",
       "    <tr>\n",
       "      <th>1540</th>\n",
       "      <td>19.315033</td>\n",
       "    </tr>\n",
       "    <tr>\n",
       "      <th>1541</th>\n",
       "      <td>4.705481</td>\n",
       "    </tr>\n",
       "    <tr>\n",
       "      <th>1542</th>\n",
       "      <td>3.988865</td>\n",
       "    </tr>\n",
       "  </tbody>\n",
       "</table>\n",
       "<p>1543 rows × 1 columns</p>\n",
       "</div>"
      ],
      "text/plain": [
       "              0\n",
       "0     11.825315\n",
       "1      3.465066\n",
       "2     19.046110\n",
       "3     30.137212\n",
       "4     30.105911\n",
       "...         ...\n",
       "1538   5.377480\n",
       "1539  26.849598\n",
       "1540  19.315033\n",
       "1541   4.705481\n",
       "1542   3.988865\n",
       "\n",
       "[1543 rows x 1 columns]"
      ]
     },
     "execution_count": 23,
     "metadata": {},
     "output_type": "execute_result"
    }
   ],
   "source": [
    "final"
   ]
  },
  {
   "cell_type": "code",
   "execution_count": 24,
   "metadata": {},
   "outputs": [
    {
     "data": {
      "text/plain": [
       "74.32926091482507"
      ]
     },
     "execution_count": 24,
     "metadata": {},
     "output_type": "execute_result"
    }
   ],
   "source": [
    "#In sample MSE\n",
    "MSE(RGf.predict(X_train),Y_train)"
   ]
  },
  {
   "cell_type": "markdown",
   "metadata": {},
   "source": [
    "# 4. Inventory Decision"
   ]
  },
  {
   "cell_type": "code",
   "execution_count": 25,
   "metadata": {},
   "outputs": [
    {
     "data": {
      "text/plain": [
       "0       13.0\n",
       "1        5.0\n",
       "2       20.0\n",
       "3       31.0\n",
       "4       31.0\n",
       "        ... \n",
       "1538     6.0\n",
       "1539    28.0\n",
       "1540    20.0\n",
       "1541     6.0\n",
       "1542     5.0\n",
       "Name: 0, Length: 1543, dtype: float64"
      ]
     },
     "execution_count": 25,
     "metadata": {},
     "output_type": "execute_result"
    }
   ],
   "source": [
    "inventory = round(final[0]+offset)\n",
    "inventory"
   ]
  },
  {
   "cell_type": "markdown",
   "metadata": {},
   "source": [
    "## In sample MSE"
   ]
  },
  {
   "cell_type": "code",
   "execution_count": 26,
   "metadata": {},
   "outputs": [],
   "source": [
    "train_pred = RGf.predict(X_train)\n",
    "train_pred = pd.DataFrame(train_pred)\n",
    "train_inv = round(train_pred+offset)"
   ]
  },
  {
   "cell_type": "code",
   "execution_count": 27,
   "metadata": {},
   "outputs": [],
   "source": [
    "x = train_pred[0]-Y_train"
   ]
  },
  {
   "cell_type": "code",
   "execution_count": 28,
   "metadata": {},
   "outputs": [],
   "source": [
    "train_table = pd.DataFrame(Y_train)"
   ]
  },
  {
   "cell_type": "code",
   "execution_count": 29,
   "metadata": {},
   "outputs": [],
   "source": [
    "train_table[\"pred\"] = train_pred"
   ]
  },
  {
   "cell_type": "code",
   "execution_count": 30,
   "metadata": {},
   "outputs": [
    {
     "data": {
      "text/plain": [
       "74.32926091482507"
      ]
     },
     "execution_count": 30,
     "metadata": {},
     "output_type": "execute_result"
    }
   ],
   "source": [
    "inSample_MSE = MSE(train_table['sales'],train_table['pred'])\n",
    "inSample_MSE"
   ]
  },
  {
   "cell_type": "markdown",
   "metadata": {},
   "source": [
    "## Profit Formula"
   ]
  },
  {
   "cell_type": "code",
   "execution_count": 31,
   "metadata": {},
   "outputs": [],
   "source": [
    "def profit(demand,inv):\n",
    "    return (Price-Salvage)*np.minimum(demand,inv)-(Cost-Salvage)*inv"
   ]
  },
  {
   "cell_type": "code",
   "execution_count": 32,
   "metadata": {},
   "outputs": [
    {
     "data": {
      "text/plain": [
       "392628.0"
      ]
     },
     "execution_count": 32,
     "metadata": {},
     "output_type": "execute_result"
    }
   ],
   "source": [
    "train_profit = profit(train_table['sales'],round(train_table['pred']+offset))\n",
    "train_profit.sum()"
   ]
  },
  {
   "cell_type": "code",
   "execution_count": 33,
   "metadata": {},
   "outputs": [
    {
     "data": {
      "text/plain": [
       "449664"
      ]
     },
     "execution_count": 33,
     "metadata": {},
     "output_type": "execute_result"
    }
   ],
   "source": [
    "train_max_profit = Y_train.sum()*(Price-Cost)\n",
    "train_max_profit"
   ]
  },
  {
   "cell_type": "code",
   "execution_count": 34,
   "metadata": {},
   "outputs": [
    {
     "data": {
      "text/plain": [
       "0.8731586251067464"
      ]
     },
     "execution_count": 34,
     "metadata": {},
     "output_type": "execute_result"
    }
   ],
   "source": [
    "# Fraction of max profit\n",
    "inSample_frac = train_profit.sum()/train_max_profit\n",
    "inSample_frac"
   ]
  },
  {
   "cell_type": "code",
   "execution_count": 35,
   "metadata": {},
   "outputs": [],
   "source": [
    "insample_MSE_lst = pd.DataFrame({\"In-Sample-MSE\":[inSample_MSE]},index=[name])\n",
    "insample_MSE_lst\n",
    "m = pd.read_csv(\".//Model_Prediction//In-Sample-MSE.csv\",index_col=0)\n",
    "m=m.append(insample_MSE_lst)\n",
    "m.to_csv(\".//Model_Prediction//In-Sample-MSE.csv\")\n",
    "\n",
    "insample_frac_lst = pd.DataFrame({\"In-Sample-Efficiency\":[inSample_frac]},index=[name])\n",
    "insample_frac_lst\n",
    "f = pd.read_csv(\".//Model_Prediction//In-Sample-Efficiency.csv\",index_col=0)\n",
    "f=f.append(insample_frac_lst)\n",
    "f.to_csv(\".//Model_Prediction//In-Sample-Efficiency.csv\")\n",
    "\n",
    "outsample_mse_lst = pd.DataFrame({\"Out-Sample-MSE\":[outSampleMSE]},index=[name])\n",
    "om = pd.read_csv(\".//Model_Prediction//Out-Sample-MSE.csv\",index_col=0)\n",
    "om=om.append(outsample_mse_lst)\n",
    "om.to_csv(\".//Model_Prediction//Out-Sample-MSE.csv\")"
   ]
  },
  {
   "cell_type": "markdown",
   "metadata": {},
   "source": [
    "# Export Prediction for Test dataset"
   ]
  },
  {
   "cell_type": "code",
   "execution_count": 36,
   "metadata": {},
   "outputs": [],
   "source": [
    "final_table = X_test"
   ]
  },
  {
   "cell_type": "code",
   "execution_count": 37,
   "metadata": {},
   "outputs": [],
   "source": [
    "final_table[\"sales\"]=round(final[0])"
   ]
  },
  {
   "cell_type": "code",
   "execution_count": 38,
   "metadata": {},
   "outputs": [],
   "source": [
    "final_table[\"inventory\"]=inventory"
   ]
  },
  {
   "cell_type": "code",
   "execution_count": 39,
   "metadata": {},
   "outputs": [
    {
     "data": {
      "text/html": [
       "<div>\n",
       "<style scoped>\n",
       "    .dataframe tbody tr th:only-of-type {\n",
       "        vertical-align: middle;\n",
       "    }\n",
       "\n",
       "    .dataframe tbody tr th {\n",
       "        vertical-align: top;\n",
       "    }\n",
       "\n",
       "    .dataframe thead th {\n",
       "        text-align: right;\n",
       "    }\n",
       "</style>\n",
       "<table border=\"1\" class=\"dataframe\">\n",
       "  <thead>\n",
       "    <tr style=\"text-align: right;\">\n",
       "      <th></th>\n",
       "      <th>productID</th>\n",
       "      <th>brandID</th>\n",
       "      <th>attribute1</th>\n",
       "      <th>attribute2</th>\n",
       "      <th>attribute3</th>\n",
       "      <th>attribute4</th>\n",
       "      <th>clickVolume</th>\n",
       "      <th>avgOriginalUnitPrice</th>\n",
       "      <th>avgFinalUnitPrice</th>\n",
       "      <th>ma14SalesVolume</th>\n",
       "      <th>...</th>\n",
       "      <th>meanAge</th>\n",
       "      <th>gender</th>\n",
       "      <th>meanEducation</th>\n",
       "      <th>maritalStatus</th>\n",
       "      <th>plus</th>\n",
       "      <th>meanPurchasePower</th>\n",
       "      <th>meanUserLevel</th>\n",
       "      <th>meanCityLevel</th>\n",
       "      <th>sales</th>\n",
       "      <th>inventory</th>\n",
       "    </tr>\n",
       "  </thead>\n",
       "  <tbody>\n",
       "    <tr>\n",
       "      <th>0</th>\n",
       "      <td>0</td>\n",
       "      <td>4</td>\n",
       "      <td>3.0</td>\n",
       "      <td>90.0</td>\n",
       "      <td>2</td>\n",
       "      <td>15.410308</td>\n",
       "      <td>644.0</td>\n",
       "      <td>129.0</td>\n",
       "      <td>127.428571</td>\n",
       "      <td>7.571429</td>\n",
       "      <td>...</td>\n",
       "      <td>36.000000</td>\n",
       "      <td>0.142857</td>\n",
       "      <td>3.333333</td>\n",
       "      <td>0.666667</td>\n",
       "      <td>0.285714</td>\n",
       "      <td>2.000000</td>\n",
       "      <td>2.571429</td>\n",
       "      <td>2.833333</td>\n",
       "      <td>12.0</td>\n",
       "      <td>13.0</td>\n",
       "    </tr>\n",
       "    <tr>\n",
       "      <th>1</th>\n",
       "      <td>88</td>\n",
       "      <td>36</td>\n",
       "      <td>4.0</td>\n",
       "      <td>100.0</td>\n",
       "      <td>1</td>\n",
       "      <td>4.415871</td>\n",
       "      <td>198.0</td>\n",
       "      <td>249.9</td>\n",
       "      <td>135.666667</td>\n",
       "      <td>3.285714</td>\n",
       "      <td>...</td>\n",
       "      <td>40.666667</td>\n",
       "      <td>0.333333</td>\n",
       "      <td>2.500000</td>\n",
       "      <td>0.333333</td>\n",
       "      <td>0.000000</td>\n",
       "      <td>2.000000</td>\n",
       "      <td>2.000000</td>\n",
       "      <td>3.333333</td>\n",
       "      <td>3.0</td>\n",
       "      <td>5.0</td>\n",
       "    </tr>\n",
       "    <tr>\n",
       "      <th>2</th>\n",
       "      <td>82</td>\n",
       "      <td>11</td>\n",
       "      <td>3.0</td>\n",
       "      <td>100.0</td>\n",
       "      <td>2</td>\n",
       "      <td>9.012597</td>\n",
       "      <td>552.0</td>\n",
       "      <td>99.0</td>\n",
       "      <td>49.000000</td>\n",
       "      <td>222.285714</td>\n",
       "      <td>...</td>\n",
       "      <td>20.000000</td>\n",
       "      <td>0.000000</td>\n",
       "      <td>3.000000</td>\n",
       "      <td>0.000000</td>\n",
       "      <td>0.000000</td>\n",
       "      <td>2.000000</td>\n",
       "      <td>2.000000</td>\n",
       "      <td>3.000000</td>\n",
       "      <td>19.0</td>\n",
       "      <td>20.0</td>\n",
       "    </tr>\n",
       "    <tr>\n",
       "      <th>3</th>\n",
       "      <td>38</td>\n",
       "      <td>14</td>\n",
       "      <td>3.0</td>\n",
       "      <td>80.0</td>\n",
       "      <td>3</td>\n",
       "      <td>17.763691</td>\n",
       "      <td>1319.0</td>\n",
       "      <td>79.0</td>\n",
       "      <td>68.454545</td>\n",
       "      <td>18.642857</td>\n",
       "      <td>...</td>\n",
       "      <td>28.666667</td>\n",
       "      <td>0.600000</td>\n",
       "      <td>2.571429</td>\n",
       "      <td>0.533333</td>\n",
       "      <td>0.142857</td>\n",
       "      <td>2.666667</td>\n",
       "      <td>2.047619</td>\n",
       "      <td>3.000000</td>\n",
       "      <td>30.0</td>\n",
       "      <td>31.0</td>\n",
       "    </tr>\n",
       "    <tr>\n",
       "      <th>4</th>\n",
       "      <td>21</td>\n",
       "      <td>26</td>\n",
       "      <td>2.0</td>\n",
       "      <td>50.0</td>\n",
       "      <td>5</td>\n",
       "      <td>2.248642</td>\n",
       "      <td>851.0</td>\n",
       "      <td>69.9</td>\n",
       "      <td>55.733333</td>\n",
       "      <td>5.357143</td>\n",
       "      <td>...</td>\n",
       "      <td>32.105263</td>\n",
       "      <td>0.421053</td>\n",
       "      <td>2.894737</td>\n",
       "      <td>0.421053</td>\n",
       "      <td>0.095238</td>\n",
       "      <td>2.210526</td>\n",
       "      <td>2.761905</td>\n",
       "      <td>1.947368</td>\n",
       "      <td>30.0</td>\n",
       "      <td>31.0</td>\n",
       "    </tr>\n",
       "    <tr>\n",
       "      <th>...</th>\n",
       "      <td>...</td>\n",
       "      <td>...</td>\n",
       "      <td>...</td>\n",
       "      <td>...</td>\n",
       "      <td>...</td>\n",
       "      <td>...</td>\n",
       "      <td>...</td>\n",
       "      <td>...</td>\n",
       "      <td>...</td>\n",
       "      <td>...</td>\n",
       "      <td>...</td>\n",
       "      <td>...</td>\n",
       "      <td>...</td>\n",
       "      <td>...</td>\n",
       "      <td>...</td>\n",
       "      <td>...</td>\n",
       "      <td>...</td>\n",
       "      <td>...</td>\n",
       "      <td>...</td>\n",
       "      <td>...</td>\n",
       "      <td>...</td>\n",
       "    </tr>\n",
       "    <tr>\n",
       "      <th>1538</th>\n",
       "      <td>43</td>\n",
       "      <td>12</td>\n",
       "      <td>3.0</td>\n",
       "      <td>60.0</td>\n",
       "      <td>1</td>\n",
       "      <td>8.618363</td>\n",
       "      <td>277.0</td>\n",
       "      <td>139.0</td>\n",
       "      <td>66.657143</td>\n",
       "      <td>13.428571</td>\n",
       "      <td>...</td>\n",
       "      <td>33.333333</td>\n",
       "      <td>0.333333</td>\n",
       "      <td>3.000000</td>\n",
       "      <td>0.600000</td>\n",
       "      <td>0.285714</td>\n",
       "      <td>2.000000</td>\n",
       "      <td>3.000000</td>\n",
       "      <td>2.166667</td>\n",
       "      <td>5.0</td>\n",
       "      <td>6.0</td>\n",
       "    </tr>\n",
       "    <tr>\n",
       "      <th>1539</th>\n",
       "      <td>36</td>\n",
       "      <td>19</td>\n",
       "      <td>3.0</td>\n",
       "      <td>60.0</td>\n",
       "      <td>5</td>\n",
       "      <td>2.729973</td>\n",
       "      <td>694.0</td>\n",
       "      <td>119.0</td>\n",
       "      <td>60.321951</td>\n",
       "      <td>23.071429</td>\n",
       "      <td>...</td>\n",
       "      <td>30.387097</td>\n",
       "      <td>0.225806</td>\n",
       "      <td>3.071429</td>\n",
       "      <td>0.607143</td>\n",
       "      <td>0.303030</td>\n",
       "      <td>2.214286</td>\n",
       "      <td>2.666667</td>\n",
       "      <td>2.032258</td>\n",
       "      <td>27.0</td>\n",
       "      <td>28.0</td>\n",
       "    </tr>\n",
       "    <tr>\n",
       "      <th>1540</th>\n",
       "      <td>24</td>\n",
       "      <td>26</td>\n",
       "      <td>2.0</td>\n",
       "      <td>50.0</td>\n",
       "      <td>2</td>\n",
       "      <td>2.342957</td>\n",
       "      <td>941.0</td>\n",
       "      <td>94.9</td>\n",
       "      <td>94.900000</td>\n",
       "      <td>14.500000</td>\n",
       "      <td>...</td>\n",
       "      <td>32.500000</td>\n",
       "      <td>0.500000</td>\n",
       "      <td>2.750000</td>\n",
       "      <td>0.500000</td>\n",
       "      <td>0.250000</td>\n",
       "      <td>2.000000</td>\n",
       "      <td>2.250000</td>\n",
       "      <td>2.250000</td>\n",
       "      <td>19.0</td>\n",
       "      <td>20.0</td>\n",
       "    </tr>\n",
       "    <tr>\n",
       "      <th>1541</th>\n",
       "      <td>36</td>\n",
       "      <td>19</td>\n",
       "      <td>3.0</td>\n",
       "      <td>60.0</td>\n",
       "      <td>2</td>\n",
       "      <td>23.102118</td>\n",
       "      <td>188.0</td>\n",
       "      <td>119.0</td>\n",
       "      <td>71.900000</td>\n",
       "      <td>6.714286</td>\n",
       "      <td>...</td>\n",
       "      <td>27.500000</td>\n",
       "      <td>0.125000</td>\n",
       "      <td>3.125000</td>\n",
       "      <td>0.625000</td>\n",
       "      <td>0.000000</td>\n",
       "      <td>2.375000</td>\n",
       "      <td>1.666667</td>\n",
       "      <td>2.714286</td>\n",
       "      <td>5.0</td>\n",
       "      <td>6.0</td>\n",
       "    </tr>\n",
       "    <tr>\n",
       "      <th>1542</th>\n",
       "      <td>90</td>\n",
       "      <td>35</td>\n",
       "      <td>4.0</td>\n",
       "      <td>100.0</td>\n",
       "      <td>1</td>\n",
       "      <td>13.045102</td>\n",
       "      <td>237.0</td>\n",
       "      <td>230.0</td>\n",
       "      <td>163.571429</td>\n",
       "      <td>4.285714</td>\n",
       "      <td>...</td>\n",
       "      <td>30.000000</td>\n",
       "      <td>0.200000</td>\n",
       "      <td>3.400000</td>\n",
       "      <td>0.200000</td>\n",
       "      <td>0.500000</td>\n",
       "      <td>2.000000</td>\n",
       "      <td>3.000000</td>\n",
       "      <td>1.800000</td>\n",
       "      <td>4.0</td>\n",
       "      <td>5.0</td>\n",
       "    </tr>\n",
       "  </tbody>\n",
       "</table>\n",
       "<p>1543 rows × 21 columns</p>\n",
       "</div>"
      ],
      "text/plain": [
       "      productID  brandID  attribute1  attribute2  attribute3  attribute4  \\\n",
       "0             0        4         3.0        90.0           2   15.410308   \n",
       "1            88       36         4.0       100.0           1    4.415871   \n",
       "2            82       11         3.0       100.0           2    9.012597   \n",
       "3            38       14         3.0        80.0           3   17.763691   \n",
       "4            21       26         2.0        50.0           5    2.248642   \n",
       "...         ...      ...         ...         ...         ...         ...   \n",
       "1538         43       12         3.0        60.0           1    8.618363   \n",
       "1539         36       19         3.0        60.0           5    2.729973   \n",
       "1540         24       26         2.0        50.0           2    2.342957   \n",
       "1541         36       19         3.0        60.0           2   23.102118   \n",
       "1542         90       35         4.0       100.0           1   13.045102   \n",
       "\n",
       "      clickVolume  avgOriginalUnitPrice  avgFinalUnitPrice  ma14SalesVolume  \\\n",
       "0           644.0                 129.0         127.428571         7.571429   \n",
       "1           198.0                 249.9         135.666667         3.285714   \n",
       "2           552.0                  99.0          49.000000       222.285714   \n",
       "3          1319.0                  79.0          68.454545        18.642857   \n",
       "4           851.0                  69.9          55.733333         5.357143   \n",
       "...           ...                   ...                ...              ...   \n",
       "1538        277.0                 139.0          66.657143        13.428571   \n",
       "1539        694.0                 119.0          60.321951        23.071429   \n",
       "1540        941.0                  94.9          94.900000        14.500000   \n",
       "1541        188.0                 119.0          71.900000         6.714286   \n",
       "1542        237.0                 230.0         163.571429         4.285714   \n",
       "\n",
       "      ...    meanAge    gender  meanEducation  maritalStatus      plus  \\\n",
       "0     ...  36.000000  0.142857       3.333333       0.666667  0.285714   \n",
       "1     ...  40.666667  0.333333       2.500000       0.333333  0.000000   \n",
       "2     ...  20.000000  0.000000       3.000000       0.000000  0.000000   \n",
       "3     ...  28.666667  0.600000       2.571429       0.533333  0.142857   \n",
       "4     ...  32.105263  0.421053       2.894737       0.421053  0.095238   \n",
       "...   ...        ...       ...            ...            ...       ...   \n",
       "1538  ...  33.333333  0.333333       3.000000       0.600000  0.285714   \n",
       "1539  ...  30.387097  0.225806       3.071429       0.607143  0.303030   \n",
       "1540  ...  32.500000  0.500000       2.750000       0.500000  0.250000   \n",
       "1541  ...  27.500000  0.125000       3.125000       0.625000  0.000000   \n",
       "1542  ...  30.000000  0.200000       3.400000       0.200000  0.500000   \n",
       "\n",
       "      meanPurchasePower  meanUserLevel  meanCityLevel  sales  inventory  \n",
       "0              2.000000       2.571429       2.833333   12.0       13.0  \n",
       "1              2.000000       2.000000       3.333333    3.0        5.0  \n",
       "2              2.000000       2.000000       3.000000   19.0       20.0  \n",
       "3              2.666667       2.047619       3.000000   30.0       31.0  \n",
       "4              2.210526       2.761905       1.947368   30.0       31.0  \n",
       "...                 ...            ...            ...    ...        ...  \n",
       "1538           2.000000       3.000000       2.166667    5.0        6.0  \n",
       "1539           2.214286       2.666667       2.032258   27.0       28.0  \n",
       "1540           2.000000       2.250000       2.250000   19.0       20.0  \n",
       "1541           2.375000       1.666667       2.714286    5.0        6.0  \n",
       "1542           2.000000       3.000000       1.800000    4.0        5.0  \n",
       "\n",
       "[1543 rows x 21 columns]"
      ]
     },
     "execution_count": 39,
     "metadata": {},
     "output_type": "execute_result"
    }
   ],
   "source": [
    "final_table"
   ]
  },
  {
   "cell_type": "code",
   "execution_count": 40,
   "metadata": {},
   "outputs": [],
   "source": [
    "final_table.to_csv(f\".\\\\Model_Prediction\\\\{name}.csv\")"
   ]
  },
  {
   "cell_type": "code",
   "execution_count": null,
   "metadata": {},
   "outputs": [],
   "source": []
  }
 ],
 "metadata": {
  "kernelspec": {
   "display_name": "Python 3",
   "language": "python",
   "name": "python3"
  },
  "language_info": {
   "codemirror_mode": {
    "name": "ipython",
    "version": 3
   },
   "file_extension": ".py",
   "mimetype": "text/x-python",
   "name": "python",
   "nbconvert_exporter": "python",
   "pygments_lexer": "ipython3",
   "version": "3.8.5"
  }
 },
 "nbformat": 4,
 "nbformat_minor": 4
}
