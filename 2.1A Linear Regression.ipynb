{
 "cells": [
  {
   "cell_type": "code",
   "execution_count": 1,
   "metadata": {},
   "outputs": [],
   "source": [
    "import pandas as pd\n",
    "import numpy as np\n",
    "import matplotlib.pyplot as plt\n",
    "from sklearn.pipeline import Pipeline\n",
    "from sklearn.model_selection import GridSearchCV\n",
    "from sklearn.decomposition import PCA\n",
    "from sklearn.metrics import mean_squared_error as MSE\n",
    "from sklearn.linear_model import LinearRegression\n",
    "from sklearn.preprocessing import PolynomialFeatures\n",
    "from sklearn.model_selection import train_test_split\n",
    "from sklearn.linear_model import Lasso"
   ]
  },
  {
   "cell_type": "code",
   "execution_count": 2,
   "metadata": {},
   "outputs": [],
   "source": [
    "np.random.seed(42)"
   ]
  },
  {
   "cell_type": "markdown",
   "metadata": {},
   "source": [
    "# 1. Import the train datasets"
   ]
  },
  {
   "cell_type": "code",
   "execution_count": 3,
   "metadata": {},
   "outputs": [],
   "source": [
    "X_train = pd.read_csv(\"A_Normalised_train_data.csv\",index_col=0)\n",
    "Y_train = pd.read_csv(\"A_Log_sales_train.csv\",index_col=0)"
   ]
  },
  {
   "cell_type": "code",
   "execution_count": 4,
   "metadata": {},
   "outputs": [],
   "source": [
    "Model_1 = LinearRegression()"
   ]
  },
  {
   "cell_type": "markdown",
   "metadata": {},
   "source": [
    "# 2. Setup Pipeline"
   ]
  },
  {
   "cell_type": "code",
   "execution_count": 5,
   "metadata": {},
   "outputs": [],
   "source": [
    "pca=PCA()\n",
    "SLR = Model_1"
   ]
  },
  {
   "cell_type": "code",
   "execution_count": 6,
   "metadata": {},
   "outputs": [],
   "source": [
    "# Step 1: PCA\n",
    "# Step 2: Model\n",
    "pipe = Pipeline(steps=[(\"pca\",pca),(\"SLR\",SLR)])"
   ]
  },
  {
   "cell_type": "code",
   "execution_count": 7,
   "metadata": {},
   "outputs": [],
   "source": [
    "param_grid = {\n",
    "    \"pca__n_components\": [5, 10, 30, 45, 60, 100 ,150 ,170]\n",
    "}"
   ]
  },
  {
   "cell_type": "markdown",
   "metadata": {},
   "source": [
    "# 3. Setup GridSearch"
   ]
  },
  {
   "cell_type": "code",
   "execution_count": 8,
   "metadata": {},
   "outputs": [],
   "source": [
    "score_metric = 'neg_mean_squared_error'\n",
    "search = GridSearchCV(pipe,param_grid,\n",
    "                      n_jobs=-1,\n",
    "                      cv=10,\n",
    "                      scoring=score_metric)"
   ]
  },
  {
   "cell_type": "code",
   "execution_count": 9,
   "metadata": {},
   "outputs": [
    {
     "data": {
      "text/plain": [
       "GridSearchCV(cv=10,\n",
       "             estimator=Pipeline(steps=[('pca', PCA()),\n",
       "                                       ('SLR', LinearRegression())]),\n",
       "             n_jobs=-1,\n",
       "             param_grid={'pca__n_components': [5, 10, 30, 45, 60, 100, 150,\n",
       "                                               170]},\n",
       "             scoring='neg_mean_squared_error')"
      ]
     },
     "execution_count": 9,
     "metadata": {},
     "output_type": "execute_result"
    }
   ],
   "source": [
    "search.fit(X_train,Y_train)"
   ]
  },
  {
   "cell_type": "code",
   "execution_count": 10,
   "metadata": {},
   "outputs": [
    {
     "name": "stdout",
     "output_type": "stream",
     "text": [
      "Best parameter (CV score=-0.785):\n",
      "{'pca__n_components': 100}\n"
     ]
    }
   ],
   "source": [
    "print(\"Best parameter (CV score=%0.3f):\" % search.best_score_)\n",
    "print(search.best_params_)"
   ]
  },
  {
   "cell_type": "code",
   "execution_count": 11,
   "metadata": {},
   "outputs": [
    {
     "data": {
      "text/html": [
       "<div>\n",
       "<style scoped>\n",
       "    .dataframe tbody tr th:only-of-type {\n",
       "        vertical-align: middle;\n",
       "    }\n",
       "\n",
       "    .dataframe tbody tr th {\n",
       "        vertical-align: top;\n",
       "    }\n",
       "\n",
       "    .dataframe thead th {\n",
       "        text-align: right;\n",
       "    }\n",
       "</style>\n",
       "<table border=\"1\" class=\"dataframe\">\n",
       "  <thead>\n",
       "    <tr style=\"text-align: right;\">\n",
       "      <th></th>\n",
       "      <th>mean_fit_time</th>\n",
       "      <th>std_fit_time</th>\n",
       "      <th>mean_score_time</th>\n",
       "      <th>std_score_time</th>\n",
       "      <th>param_pca__n_components</th>\n",
       "      <th>params</th>\n",
       "      <th>split0_test_score</th>\n",
       "      <th>split1_test_score</th>\n",
       "      <th>split2_test_score</th>\n",
       "      <th>split3_test_score</th>\n",
       "      <th>split4_test_score</th>\n",
       "      <th>split5_test_score</th>\n",
       "      <th>split6_test_score</th>\n",
       "      <th>split7_test_score</th>\n",
       "      <th>split8_test_score</th>\n",
       "      <th>split9_test_score</th>\n",
       "      <th>mean_test_score</th>\n",
       "      <th>std_test_score</th>\n",
       "      <th>rank_test_score</th>\n",
       "    </tr>\n",
       "  </thead>\n",
       "  <tbody>\n",
       "    <tr>\n",
       "      <th>5</th>\n",
       "      <td>0.189664</td>\n",
       "      <td>0.016309</td>\n",
       "      <td>0.004687</td>\n",
       "      <td>0.007159</td>\n",
       "      <td>100</td>\n",
       "      <td>{'pca__n_components': 100}</td>\n",
       "      <td>-0.718749</td>\n",
       "      <td>-0.708395</td>\n",
       "      <td>-8.750041e-01</td>\n",
       "      <td>-0.821833</td>\n",
       "      <td>-9.528700e-01</td>\n",
       "      <td>-7.132295e-01</td>\n",
       "      <td>-0.672443</td>\n",
       "      <td>-7.656789e-01</td>\n",
       "      <td>-0.820723</td>\n",
       "      <td>-7.968433e-01</td>\n",
       "      <td>-7.845770e-01</td>\n",
       "      <td>8.216040e-02</td>\n",
       "      <td>1</td>\n",
       "    </tr>\n",
       "    <tr>\n",
       "      <th>4</th>\n",
       "      <td>0.126919</td>\n",
       "      <td>0.022654</td>\n",
       "      <td>0.010073</td>\n",
       "      <td>0.007485</td>\n",
       "      <td>60</td>\n",
       "      <td>{'pca__n_components': 60}</td>\n",
       "      <td>-0.791160</td>\n",
       "      <td>-0.745125</td>\n",
       "      <td>-9.325102e-01</td>\n",
       "      <td>-0.882818</td>\n",
       "      <td>-9.499815e-01</td>\n",
       "      <td>-7.322001e-01</td>\n",
       "      <td>-0.689314</td>\n",
       "      <td>-8.081880e-01</td>\n",
       "      <td>-0.853769</td>\n",
       "      <td>-8.632401e-01</td>\n",
       "      <td>-8.248306e-01</td>\n",
       "      <td>8.224458e-02</td>\n",
       "      <td>2</td>\n",
       "    </tr>\n",
       "    <tr>\n",
       "      <th>3</th>\n",
       "      <td>0.105137</td>\n",
       "      <td>0.010900</td>\n",
       "      <td>0.010934</td>\n",
       "      <td>0.010002</td>\n",
       "      <td>45</td>\n",
       "      <td>{'pca__n_components': 45}</td>\n",
       "      <td>-0.785701</td>\n",
       "      <td>-0.793520</td>\n",
       "      <td>-9.662854e-01</td>\n",
       "      <td>-0.865765</td>\n",
       "      <td>-9.829528e-01</td>\n",
       "      <td>-7.154240e-01</td>\n",
       "      <td>-0.737010</td>\n",
       "      <td>-8.593617e-01</td>\n",
       "      <td>-0.889151</td>\n",
       "      <td>-9.473838e-01</td>\n",
       "      <td>-8.542555e-01</td>\n",
       "      <td>8.976187e-02</td>\n",
       "      <td>3</td>\n",
       "    </tr>\n",
       "    <tr>\n",
       "      <th>2</th>\n",
       "      <td>0.083023</td>\n",
       "      <td>0.017496</td>\n",
       "      <td>0.008336</td>\n",
       "      <td>0.006086</td>\n",
       "      <td>30</td>\n",
       "      <td>{'pca__n_components': 30}</td>\n",
       "      <td>-0.926602</td>\n",
       "      <td>-0.922209</td>\n",
       "      <td>-1.082196e+00</td>\n",
       "      <td>-1.004431</td>\n",
       "      <td>-1.117373e+00</td>\n",
       "      <td>-8.216081e-01</td>\n",
       "      <td>-0.824177</td>\n",
       "      <td>-9.189268e-01</td>\n",
       "      <td>-0.948418</td>\n",
       "      <td>-1.012335e+00</td>\n",
       "      <td>-9.578278e-01</td>\n",
       "      <td>9.291346e-02</td>\n",
       "      <td>4</td>\n",
       "    </tr>\n",
       "    <tr>\n",
       "      <th>1</th>\n",
       "      <td>0.070485</td>\n",
       "      <td>0.012117</td>\n",
       "      <td>0.008499</td>\n",
       "      <td>0.000667</td>\n",
       "      <td>10</td>\n",
       "      <td>{'pca__n_components': 10}</td>\n",
       "      <td>-0.952788</td>\n",
       "      <td>-1.001800</td>\n",
       "      <td>-1.141198e+00</td>\n",
       "      <td>-1.039560</td>\n",
       "      <td>-1.166522e+00</td>\n",
       "      <td>-8.025550e-01</td>\n",
       "      <td>-0.834607</td>\n",
       "      <td>-9.167599e-01</td>\n",
       "      <td>-0.988892</td>\n",
       "      <td>-9.984751e-01</td>\n",
       "      <td>-9.843156e-01</td>\n",
       "      <td>1.106335e-01</td>\n",
       "      <td>5</td>\n",
       "    </tr>\n",
       "    <tr>\n",
       "      <th>0</th>\n",
       "      <td>0.073295</td>\n",
       "      <td>0.017977</td>\n",
       "      <td>0.011215</td>\n",
       "      <td>0.014975</td>\n",
       "      <td>5</td>\n",
       "      <td>{'pca__n_components': 5}</td>\n",
       "      <td>-1.168469</td>\n",
       "      <td>-1.126443</td>\n",
       "      <td>-1.247708e+00</td>\n",
       "      <td>-1.477420</td>\n",
       "      <td>-1.459309e+00</td>\n",
       "      <td>-9.865976e-01</td>\n",
       "      <td>-1.191451</td>\n",
       "      <td>-1.121716e+00</td>\n",
       "      <td>-1.188178</td>\n",
       "      <td>-1.117152e+00</td>\n",
       "      <td>-1.208444e+00</td>\n",
       "      <td>1.452297e-01</td>\n",
       "      <td>6</td>\n",
       "    </tr>\n",
       "    <tr>\n",
       "      <th>6</th>\n",
       "      <td>0.115090</td>\n",
       "      <td>0.017187</td>\n",
       "      <td>0.012206</td>\n",
       "      <td>0.006277</td>\n",
       "      <td>150</td>\n",
       "      <td>{'pca__n_components': 150}</td>\n",
       "      <td>-0.535833</td>\n",
       "      <td>-0.554218</td>\n",
       "      <td>-1.481674e+22</td>\n",
       "      <td>-0.631670</td>\n",
       "      <td>-1.037960e+23</td>\n",
       "      <td>-5.823736e+23</td>\n",
       "      <td>-0.566493</td>\n",
       "      <td>-3.467720e+23</td>\n",
       "      <td>-0.666246</td>\n",
       "      <td>-4.128813e+23</td>\n",
       "      <td>-1.460640e+23</td>\n",
       "      <td>2.067673e+23</td>\n",
       "      <td>7</td>\n",
       "    </tr>\n",
       "    <tr>\n",
       "      <th>7</th>\n",
       "      <td>0.110601</td>\n",
       "      <td>0.015743</td>\n",
       "      <td>0.010320</td>\n",
       "      <td>0.006369</td>\n",
       "      <td>170</td>\n",
       "      <td>{'pca__n_components': 170}</td>\n",
       "      <td>-0.525045</td>\n",
       "      <td>-0.566361</td>\n",
       "      <td>-3.021293e+24</td>\n",
       "      <td>-0.649931</td>\n",
       "      <td>-5.397617e+22</td>\n",
       "      <td>-7.668862e+24</td>\n",
       "      <td>-0.575569</td>\n",
       "      <td>-1.778556e+25</td>\n",
       "      <td>-0.678793</td>\n",
       "      <td>-6.527168e+25</td>\n",
       "      <td>-9.380137e+24</td>\n",
       "      <td>1.940307e+25</td>\n",
       "      <td>8</td>\n",
       "    </tr>\n",
       "  </tbody>\n",
       "</table>\n",
       "</div>"
      ],
      "text/plain": [
       "   mean_fit_time  std_fit_time  mean_score_time  std_score_time  \\\n",
       "5       0.189664      0.016309         0.004687        0.007159   \n",
       "4       0.126919      0.022654         0.010073        0.007485   \n",
       "3       0.105137      0.010900         0.010934        0.010002   \n",
       "2       0.083023      0.017496         0.008336        0.006086   \n",
       "1       0.070485      0.012117         0.008499        0.000667   \n",
       "0       0.073295      0.017977         0.011215        0.014975   \n",
       "6       0.115090      0.017187         0.012206        0.006277   \n",
       "7       0.110601      0.015743         0.010320        0.006369   \n",
       "\n",
       "  param_pca__n_components                      params  split0_test_score  \\\n",
       "5                     100  {'pca__n_components': 100}          -0.718749   \n",
       "4                      60   {'pca__n_components': 60}          -0.791160   \n",
       "3                      45   {'pca__n_components': 45}          -0.785701   \n",
       "2                      30   {'pca__n_components': 30}          -0.926602   \n",
       "1                      10   {'pca__n_components': 10}          -0.952788   \n",
       "0                       5    {'pca__n_components': 5}          -1.168469   \n",
       "6                     150  {'pca__n_components': 150}          -0.535833   \n",
       "7                     170  {'pca__n_components': 170}          -0.525045   \n",
       "\n",
       "   split1_test_score  split2_test_score  split3_test_score  split4_test_score  \\\n",
       "5          -0.708395      -8.750041e-01          -0.821833      -9.528700e-01   \n",
       "4          -0.745125      -9.325102e-01          -0.882818      -9.499815e-01   \n",
       "3          -0.793520      -9.662854e-01          -0.865765      -9.829528e-01   \n",
       "2          -0.922209      -1.082196e+00          -1.004431      -1.117373e+00   \n",
       "1          -1.001800      -1.141198e+00          -1.039560      -1.166522e+00   \n",
       "0          -1.126443      -1.247708e+00          -1.477420      -1.459309e+00   \n",
       "6          -0.554218      -1.481674e+22          -0.631670      -1.037960e+23   \n",
       "7          -0.566361      -3.021293e+24          -0.649931      -5.397617e+22   \n",
       "\n",
       "   split5_test_score  split6_test_score  split7_test_score  split8_test_score  \\\n",
       "5      -7.132295e-01          -0.672443      -7.656789e-01          -0.820723   \n",
       "4      -7.322001e-01          -0.689314      -8.081880e-01          -0.853769   \n",
       "3      -7.154240e-01          -0.737010      -8.593617e-01          -0.889151   \n",
       "2      -8.216081e-01          -0.824177      -9.189268e-01          -0.948418   \n",
       "1      -8.025550e-01          -0.834607      -9.167599e-01          -0.988892   \n",
       "0      -9.865976e-01          -1.191451      -1.121716e+00          -1.188178   \n",
       "6      -5.823736e+23          -0.566493      -3.467720e+23          -0.666246   \n",
       "7      -7.668862e+24          -0.575569      -1.778556e+25          -0.678793   \n",
       "\n",
       "   split9_test_score  mean_test_score  std_test_score  rank_test_score  \n",
       "5      -7.968433e-01    -7.845770e-01    8.216040e-02                1  \n",
       "4      -8.632401e-01    -8.248306e-01    8.224458e-02                2  \n",
       "3      -9.473838e-01    -8.542555e-01    8.976187e-02                3  \n",
       "2      -1.012335e+00    -9.578278e-01    9.291346e-02                4  \n",
       "1      -9.984751e-01    -9.843156e-01    1.106335e-01                5  \n",
       "0      -1.117152e+00    -1.208444e+00    1.452297e-01                6  \n",
       "6      -4.128813e+23    -1.460640e+23    2.067673e+23                7  \n",
       "7      -6.527168e+25    -9.380137e+24    1.940307e+25                8  "
      ]
     },
     "execution_count": 11,
     "metadata": {},
     "output_type": "execute_result"
    }
   ],
   "source": [
    "df = pd.DataFrame(search.cv_results_)\n",
    "df = df.sort_values(by=['rank_test_score'])\n",
    "df"
   ]
  },
  {
   "cell_type": "markdown",
   "metadata": {},
   "source": [
    "# 4. Best Hyperparameter"
   ]
  },
  {
   "cell_type": "code",
   "execution_count": 12,
   "metadata": {},
   "outputs": [
    {
     "name": "stdout",
     "output_type": "stream",
     "text": [
      "{'pca__n_components': 100}\n"
     ]
    }
   ],
   "source": [
    "parms = pd.DataFrame(df['params'])\n",
    "for i in parms.iloc[0]:\n",
    "    print(i)"
   ]
  },
  {
   "cell_type": "markdown",
   "metadata": {},
   "source": [
    "# 5. Evaluate Model $log(Sales)$"
   ]
  },
  {
   "cell_type": "code",
   "execution_count": 13,
   "metadata": {},
   "outputs": [],
   "source": [
    "best_pca =parms.iloc[0][0]['pca__n_components']"
   ]
  },
  {
   "cell_type": "code",
   "execution_count": 14,
   "metadata": {},
   "outputs": [],
   "source": [
    "Model_2 = LinearRegression()"
   ]
  },
  {
   "cell_type": "code",
   "execution_count": 15,
   "metadata": {},
   "outputs": [],
   "source": [
    "X_train1,X_test1,Y_train1,Y_test1 = train_test_split(X_train,Y_train,test_size=0.2,random_state=132)\n"
   ]
  },
  {
   "cell_type": "code",
   "execution_count": 16,
   "metadata": {},
   "outputs": [
    {
     "data": {
      "text/plain": [
       "LinearRegression()"
      ]
     },
     "execution_count": 16,
     "metadata": {},
     "output_type": "execute_result"
    }
   ],
   "source": [
    "pca1 = PCA(n_components=best_pca)\n",
    "pca1.fit(X_train1)\n",
    "PX_train1 = pca1.transform(X_train1)\n",
    "SLR1 = Model_2\n",
    "SLR1.fit(PX_train1,Y_train1)"
   ]
  },
  {
   "cell_type": "code",
   "execution_count": 17,
   "metadata": {},
   "outputs": [],
   "source": [
    "pca2 = PCA(n_components=best_pca)\n",
    "pca2.fit(X_test1)\n",
    "PX_test1 = pca2.transform(X_test1)"
   ]
  },
  {
   "cell_type": "code",
   "execution_count": 18,
   "metadata": {},
   "outputs": [
    {
     "data": {
      "text/plain": [
       "2.143925081627798"
      ]
     },
     "execution_count": 18,
     "metadata": {},
     "output_type": "execute_result"
    }
   ],
   "source": [
    "MSE(SLR1.predict(PX_test1),Y_test1)"
   ]
  },
  {
   "cell_type": "code",
   "execution_count": 19,
   "metadata": {},
   "outputs": [],
   "source": [
    "result = pd.DataFrame(np.exp(Y_test1))"
   ]
  },
  {
   "cell_type": "code",
   "execution_count": 20,
   "metadata": {},
   "outputs": [],
   "source": [
    "result[\"Predicted_sales\"] = np.exp(SLR1.predict(PX_test1))"
   ]
  },
  {
   "cell_type": "code",
   "execution_count": 21,
   "metadata": {},
   "outputs": [
    {
     "data": {
      "text/plain": [
       "1258.1719923865066"
      ]
     },
     "execution_count": 21,
     "metadata": {},
     "output_type": "execute_result"
    }
   ],
   "source": [
    "MSE(result[\"sales\"],result[\"Predicted_sales\"])"
   ]
  },
  {
   "cell_type": "markdown",
   "metadata": {},
   "source": [
    "# 5.1 Model using original sales data"
   ]
  },
  {
   "cell_type": "code",
   "execution_count": 22,
   "metadata": {},
   "outputs": [],
   "source": [
    "Model_3 = LinearRegression()"
   ]
  },
  {
   "cell_type": "code",
   "execution_count": 23,
   "metadata": {},
   "outputs": [],
   "source": [
    "OY_train = pd.read_csv(\"A_sales_train.csv\",index_col=0)"
   ]
  },
  {
   "cell_type": "code",
   "execution_count": 24,
   "metadata": {},
   "outputs": [],
   "source": [
    "X_train2,X_test2,Y_train2,Y_test2 = train_test_split(X_train,OY_train,test_size=0.2,random_state=132)"
   ]
  },
  {
   "cell_type": "code",
   "execution_count": 25,
   "metadata": {},
   "outputs": [
    {
     "data": {
      "text/plain": [
       "LinearRegression()"
      ]
     },
     "execution_count": 25,
     "metadata": {},
     "output_type": "execute_result"
    }
   ],
   "source": [
    "pca3 = PCA(n_components=best_pca)\n",
    "pca3.fit(X_train2)\n",
    "PX_train2 = pca3.transform(X_train2)\n",
    "SLR2 = Model_3\n",
    "SLR2.fit(PX_train2,Y_train2)"
   ]
  },
  {
   "cell_type": "code",
   "execution_count": 26,
   "metadata": {},
   "outputs": [],
   "source": [
    "pca4 = PCA(n_components=best_pca)\n",
    "pca4.fit(X_test2)\n",
    "PX_test2 = pca4.transform(X_test2)"
   ]
  },
  {
   "cell_type": "code",
   "execution_count": 27,
   "metadata": {},
   "outputs": [
    {
     "data": {
      "text/plain": [
       "1879.5181086710902"
      ]
     },
     "execution_count": 27,
     "metadata": {},
     "output_type": "execute_result"
    }
   ],
   "source": [
    "MSE(SLR2.predict(PX_test2),Y_test2)"
   ]
  },
  {
   "cell_type": "markdown",
   "metadata": {},
   "source": [
    "#### Notably model trained on log(Sales) has lower out-of-sample MSE than model with unmodified Sales"
   ]
  },
  {
   "cell_type": "markdown",
   "metadata": {},
   "source": [
    "# 6. Inventory Decision"
   ]
  },
  {
   "cell_type": "code",
   "execution_count": 28,
   "metadata": {},
   "outputs": [],
   "source": [
    "residual = result['sales']-result['Predicted_sales']"
   ]
  },
  {
   "cell_type": "code",
   "execution_count": 29,
   "metadata": {},
   "outputs": [
    {
     "data": {
      "text/plain": [
       "(4, 8)"
      ]
     },
     "execution_count": 29,
     "metadata": {},
     "output_type": "execute_result"
    }
   ],
   "source": [
    "Price=20\n",
    "Cost=12\n",
    "Salvage=8\n",
    "Over=Cost - Salvage\n",
    "Under=Price - Cost\n",
    "Over, Under"
   ]
  },
  {
   "cell_type": "markdown",
   "metadata": {},
   "source": [
    "### QQ plot to explore the distribution of residual"
   ]
  },
  {
   "cell_type": "markdown",
   "metadata": {},
   "source": [
    "#### Normal Distribution"
   ]
  },
  {
   "cell_type": "code",
   "execution_count": 30,
   "metadata": {},
   "outputs": [],
   "source": [
    "import scipy.stats as sct"
   ]
  },
  {
   "cell_type": "code",
   "execution_count": 31,
   "metadata": {},
   "outputs": [
    {
     "data": {
      "image/png": "[encoded data removed]",
      "text/plain": [
       "<Figure size 432x288 with 1 Axes>"
      ]
     },
     "metadata": {
      "needs_background": "light"
     },
     "output_type": "display_data"
    }
   ],
   "source": [
    "import scipy\n",
    "scipy.stats.probplot(residual, dist=\"norm\", plot=plt)\n",
    "plt.show()"
   ]
  },
  {
   "cell_type": "code",
   "execution_count": 32,
   "metadata": {},
   "outputs": [],
   "source": [
    "s = residual.std()\n",
    "opt_dec_N=np.ceil(sct.norm.ppf(Under/(Under+Over))*s + result['Predicted_sales'])"
   ]
  },
  {
   "cell_type": "markdown",
   "metadata": {},
   "source": [
    "#### Exponential Distribution"
   ]
  },
  {
   "cell_type": "code",
   "execution_count": 33,
   "metadata": {},
   "outputs": [
    {
     "data": {
      "image/png": "[encoded data removed]",
      "text/plain": [
       "<Figure size 432x288 with 1 Axes>"
      ]
     },
     "metadata": {
      "needs_background": "light"
     },
     "output_type": "display_data"
    }
   ],
   "source": [
    "scipy.stats.probplot(residual, dist=\"expon\", plot=plt)\n",
    "plt.show()"
   ]
  },
  {
   "cell_type": "code",
   "execution_count": 34,
   "metadata": {},
   "outputs": [],
   "source": [
    "opt_dec_E=np.ceil((-result['Predicted_sales'])*np.log(1-(Under/(Under+Over))))"
   ]
  },
  {
   "cell_type": "markdown",
   "metadata": {},
   "source": [
    "#### Empirical Distribution"
   ]
  },
  {
   "cell_type": "code",
   "execution_count": 35,
   "metadata": {},
   "outputs": [
    {
     "data": {
      "text/plain": [
       "[<matplotlib.lines.Line2D at 0x22c916309d0>]"
      ]
     },
     "execution_count": 35,
     "metadata": {},
     "output_type": "execute_result"
    },
    {
     "data": {
      "image/png": "[encoded data removed]",
      "text/plain": [
       "<Figure size 432x288 with 1 Axes>"
      ]
     },
     "metadata": {
      "needs_background": "light"
     },
     "output_type": "display_data"
    }
   ],
   "source": [
    "size = residual.shape[0]\n",
    "step=1/size\n",
    "jumps = [step*i for i in range(1,size+1)]\n",
    "Sample = sorted(residual)\n",
    "plt.plot(Sample,jumps)"
   ]
  },
  {
   "cell_type": "code",
   "execution_count": 36,
   "metadata": {},
   "outputs": [
    {
     "data": {
      "image/png": "[encoded data removed]",
      "text/plain": [
       "<Figure size 432x288 with 1 Axes>"
      ]
     },
     "metadata": {
      "needs_background": "light"
     },
     "output_type": "display_data"
    }
   ],
   "source": [
    "plt.hist(Sample)\n",
    "plt.show()"
   ]
  },
  {
   "cell_type": "code",
   "execution_count": 37,
   "metadata": {},
   "outputs": [],
   "source": [
    "def inv(sample,jump,area):\n",
    "    size = len(sample)\n",
    "    i=0\n",
    "    temp=jump[i]\n",
    "    while temp<area:\n",
    "        i+=1\n",
    "        temp=jump[i]\n",
    "        \n",
    "    return sample[i]"
   ]
  },
  {
   "cell_type": "code",
   "execution_count": 38,
   "metadata": {},
   "outputs": [
    {
     "data": {
      "text/plain": [
       "7.027433561335325"
      ]
     },
     "execution_count": 38,
     "metadata": {},
     "output_type": "execute_result"
    }
   ],
   "source": [
    "offset = inv(Sample,jumps,2/3)\n",
    "offset"
   ]
  },
  {
   "cell_type": "code",
   "execution_count": 39,
   "metadata": {},
   "outputs": [],
   "source": [
    "opt_dec_B = np.ceil(result['Predicted_sales']+offset)"
   ]
  },
  {
   "cell_type": "markdown",
   "metadata": {},
   "source": [
    "# 7. Out-of-samples Profit"
   ]
  },
  {
   "cell_type": "code",
   "execution_count": 40,
   "metadata": {},
   "outputs": [
    {
     "data": {
      "text/plain": [
       "82096.0"
      ]
     },
     "execution_count": 40,
     "metadata": {},
     "output_type": "execute_result"
    }
   ],
   "source": [
    "#max profit for test data set\n",
    "max_profit = result['sales'].sum()*(Price-Cost)\n",
    "max_profit"
   ]
  },
  {
   "cell_type": "code",
   "execution_count": 41,
   "metadata": {},
   "outputs": [],
   "source": [
    "def profit(demand,inv):\n",
    "    return (Price-Salvage)*np.minimum(demand,inv)-(Cost-Salvage)*inv"
   ]
  },
  {
   "cell_type": "code",
   "execution_count": 52,
   "metadata": {},
   "outputs": [
    {
     "data": {
      "text/plain": [
       "20388.0"
      ]
     },
     "execution_count": 52,
     "metadata": {},
     "output_type": "execute_result"
    }
   ],
   "source": [
    "#Profit (None)\n",
    "profit_lst = profit(round(result['sales']),round(result['Predicted_sales']))\n",
    "profit_lst.sum()"
   ]
  },
  {
   "cell_type": "code",
   "execution_count": 42,
   "metadata": {},
   "outputs": [
    {
     "data": {
      "text/plain": [
       "20652.0"
      ]
     },
     "execution_count": 42,
     "metadata": {},
     "output_type": "execute_result"
    }
   ],
   "source": [
    "#Profit (Normal)\n",
    "profit_lst_N = profit(result['sales'],opt_dec_N)\n",
    "profit_lst_N.sum()"
   ]
  },
  {
   "cell_type": "code",
   "execution_count": 43,
   "metadata": {},
   "outputs": [
    {
     "data": {
      "text/plain": [
       "20368.0"
      ]
     },
     "execution_count": 43,
     "metadata": {},
     "output_type": "execute_result"
    }
   ],
   "source": [
    "#Profit (Exponential)\n",
    "profit_lst_E = profit(result['sales'],opt_dec_E)\n",
    "profit_lst_E.sum()"
   ]
  },
  {
   "cell_type": "code",
   "execution_count": 44,
   "metadata": {},
   "outputs": [
    {
     "data": {
      "text/plain": [
       "23380.0"
      ]
     },
     "execution_count": 44,
     "metadata": {},
     "output_type": "execute_result"
    }
   ],
   "source": [
    "#Profit (Empirical)\n",
    "profit_lst_B = profit(result['sales'],opt_dec_B)\n",
    "profit_lst_B.sum()"
   ]
  },
  {
   "cell_type": "markdown",
   "metadata": {},
   "source": [
    "# 8. K-Fold Cross Validation"
   ]
  },
  {
   "cell_type": "markdown",
   "metadata": {},
   "source": [
    "### Repeat steps 5,6,7 with 10-fold cross validation"
   ]
  },
  {
   "cell_type": "code",
   "execution_count": 45,
   "metadata": {},
   "outputs": [],
   "source": [
    "Model_4=LinearRegression()"
   ]
  },
  {
   "cell_type": "code",
   "execution_count": 46,
   "metadata": {},
   "outputs": [],
   "source": [
    "from sklearn.model_selection import KFold\n",
    "k=10\n",
    "kf = KFold(n_splits=k)\n",
    "X_train_t=X_train.to_numpy()\n",
    "Y_train_t=Y_train.to_numpy()\n",
    "model = []\n",
    "mse_lst = []\n",
    "max_profit_lst = []\n",
    "profit_N_lst = []\n",
    "profit_E_lst = []\n",
    "profit_B_lst = []\n",
    "\n",
    "for train_index,test_index in kf.split(X_train_t):\n",
    "    X_train_K,X_test_K=X_train_t[train_index],X_train_t[test_index]\n",
    "    Y_train_K,Y_test_K=Y_train_t[train_index],Y_train_t[test_index]\n",
    "    \n",
    "    #PCA to transform train data\n",
    "    pca_K1 = PCA(n_components=best_pca,random_state=42)\n",
    "    pca_K1.fit(X_train_K)\n",
    "    PX_train_K = pca_K1.transform(X_train_K)\n",
    "    \n",
    "    #Model\n",
    "    SLR_K = Model_4\n",
    "    SLR_K.fit(PX_train_K,Y_train_K)\n",
    "    \n",
    "    #pca to transform test data\n",
    "    pca_K2 = PCA(n_components=best_pca,random_state=42)\n",
    "    pca_K2.fit(X_test_K)\n",
    "    PX_test_K = pca_K2.transform(X_test_K)\n",
    "    \n",
    "    #MSE\n",
    "    mse_lst.append(MSE(np.exp(SLR_K.predict(PX_test_K)),np.exp(Y_test_K)))\n",
    "    \n",
    "    #Transform log(sale) back to sale\n",
    "    result_K = pd.DataFrame(np.exp(Y_test_K))\n",
    "    result_K[\"Predicted_sales\"] = np.exp(SLR_K.predict(PX_test_K))\n",
    "    \n",
    "    #Obtain residual\n",
    "    residual_K = result_K[0]-result_K['Predicted_sales']\n",
    "    \n",
    "    #Get std for Normal distribution\n",
    "    s_K = residual_K.std()\n",
    "    \n",
    "    #Inventory Decision (Normal)\n",
    "    opt_dec_N_K=np.ceil(sct.norm.ppf(Under/(Under+Over))*s_K + result_K['Predicted_sales'])\n",
    "    #Inventory Decision (Exponential)\n",
    "    opt_dec_E_K=np.ceil((-result_K['Predicted_sales'])*np.log(1-(Under/(Under+Over))))\n",
    "    \n",
    "    #Inventory Decision (Empirical Distribution)\n",
    "    size_K = residual_K.shape[0]\n",
    "    step_K=1/size_K\n",
    "    jumps_K = [step_K*i for i in range(1,size_K+1)]\n",
    "    Sample_K = sorted(residual_K)\n",
    "    offset_K = inv(Sample_K,jumps_K,2/3)\n",
    "    opt_dec_B_K = np.ceil(result_K['Predicted_sales']+offset_K)\n",
    "    \n",
    "    #Out-of_sample profit\n",
    "    profit_lst_B_K = profit(result_K[0],opt_dec_B_K)\n",
    "    profit_B_lst.append(profit_lst_B_K.sum())\n",
    "    \n",
    "    profit_lst_N_K = profit(result_K[0],opt_dec_N_K)\n",
    "    profit_N_lst.append(profit_lst_N_K.sum())\n",
    "    \n",
    "    profit_lst_E_K = profit(result_K[0],opt_dec_E_K)\n",
    "    profit_E_lst.append(profit_lst_E_K.sum())\n",
    "    \n",
    "    max_profit_K = result_K[0].sum()*(Price-Cost)\n",
    "    max_profit_lst.append(max_profit_K)\n",
    "    \n",
    "max_profit_lst = np.array(max_profit_lst)\n",
    "profit_N_lst = np.array(profit_N_lst)\n",
    "profit_E_lst = np.array(profit_E_lst)\n",
    "profit_B_lst = np.array(profit_B_lst)\n",
    "\n",
    "fraction_of_max_N = profit_N_lst/max_profit_lst\n",
    "fraction_of_max_E = profit_E_lst/max_profit_lst\n",
    "fraction_of_max_B = profit_B_lst/max_profit_lst\n",
    "\n",
    "dist_profit = [\"Normal\",\"Exponential\",\"Empirical\",\"Max\"]\n",
    "dist_frac = [\"Normal\",\"Exponential\",\"Empirical\"]\n",
    "col_name = [\"Dataset_\"+str(i) for i in range(1,k+1)]\n",
    "\n",
    "profit_lst = [profit_N_lst,profit_E_lst,profit_B_lst,max_profit_lst]\n",
    "profit_table = pd.DataFrame(profit_lst,index=dist_profit,columns=col_name)\n",
    "profit_table[\"mean_profit\"]=profit_table.mean(axis=1)\n",
    "profit_table[\"std_profit\"]=profit_table.std(ddof=1,axis=1)\n",
    "\n",
    "fraction_lst = [fraction_of_max_N,fraction_of_max_E,fraction_of_max_B]\n",
    "fraction_table = pd.DataFrame(fraction_lst,index=dist_frac,columns=col_name)\n",
    "fraction_table[\"mean_fraction\"]=fraction_table.mean(axis=1)"
   ]
  },
  {
   "cell_type": "code",
   "execution_count": 47,
   "metadata": {
    "scrolled": true
   },
   "outputs": [
    {
     "data": {
      "text/html": [
       "<div>\n",
       "<style scoped>\n",
       "    .dataframe tbody tr th:only-of-type {\n",
       "        vertical-align: middle;\n",
       "    }\n",
       "\n",
       "    .dataframe tbody tr th {\n",
       "        vertical-align: top;\n",
       "    }\n",
       "\n",
       "    .dataframe thead th {\n",
       "        text-align: right;\n",
       "    }\n",
       "</style>\n",
       "<table border=\"1\" class=\"dataframe\">\n",
       "  <thead>\n",
       "    <tr style=\"text-align: right;\">\n",
       "      <th></th>\n",
       "      <th>Dataset_1</th>\n",
       "      <th>Dataset_2</th>\n",
       "      <th>Dataset_3</th>\n",
       "      <th>Dataset_4</th>\n",
       "      <th>Dataset_5</th>\n",
       "      <th>Dataset_6</th>\n",
       "      <th>Dataset_7</th>\n",
       "      <th>Dataset_8</th>\n",
       "      <th>Dataset_9</th>\n",
       "      <th>Dataset_10</th>\n",
       "      <th>mean_fraction</th>\n",
       "    </tr>\n",
       "  </thead>\n",
       "  <tbody>\n",
       "    <tr>\n",
       "      <th>Normal</th>\n",
       "      <td>-0.604485</td>\n",
       "      <td>0.192328</td>\n",
       "      <td>-0.614222</td>\n",
       "      <td>0.151073</td>\n",
       "      <td>-0.084126</td>\n",
       "      <td>0.014034</td>\n",
       "      <td>-0.688531</td>\n",
       "      <td>0.197572</td>\n",
       "      <td>0.216535</td>\n",
       "      <td>-0.435939</td>\n",
       "      <td>-0.165576</td>\n",
       "    </tr>\n",
       "    <tr>\n",
       "      <th>Exponential</th>\n",
       "      <td>0.045042</td>\n",
       "      <td>0.197013</td>\n",
       "      <td>-0.177640</td>\n",
       "      <td>0.201631</td>\n",
       "      <td>0.067204</td>\n",
       "      <td>0.118726</td>\n",
       "      <td>0.034717</td>\n",
       "      <td>0.171379</td>\n",
       "      <td>0.212241</td>\n",
       "      <td>0.011717</td>\n",
       "      <td>0.088203</td>\n",
       "    </tr>\n",
       "    <tr>\n",
       "      <th>Empirical</th>\n",
       "      <td>0.106515</td>\n",
       "      <td>0.257999</td>\n",
       "      <td>-0.088474</td>\n",
       "      <td>0.244893</td>\n",
       "      <td>0.106205</td>\n",
       "      <td>0.188793</td>\n",
       "      <td>0.089283</td>\n",
       "      <td>0.224024</td>\n",
       "      <td>0.254384</td>\n",
       "      <td>0.063677</td>\n",
       "      <td>0.144730</td>\n",
       "    </tr>\n",
       "  </tbody>\n",
       "</table>\n",
       "</div>"
      ],
      "text/plain": [
       "             Dataset_1  Dataset_2  Dataset_3  Dataset_4  Dataset_5  Dataset_6  \\\n",
       "Normal       -0.604485   0.192328  -0.614222   0.151073  -0.084126   0.014034   \n",
       "Exponential   0.045042   0.197013  -0.177640   0.201631   0.067204   0.118726   \n",
       "Empirical     0.106515   0.257999  -0.088474   0.244893   0.106205   0.188793   \n",
       "\n",
       "             Dataset_7  Dataset_8  Dataset_9  Dataset_10  mean_fraction  \n",
       "Normal       -0.688531   0.197572   0.216535   -0.435939      -0.165576  \n",
       "Exponential   0.034717   0.171379   0.212241    0.011717       0.088203  \n",
       "Empirical     0.089283   0.224024   0.254384    0.063677       0.144730  "
      ]
     },
     "execution_count": 47,
     "metadata": {},
     "output_type": "execute_result"
    }
   ],
   "source": [
    "fraction_table"
   ]
  },
  {
   "cell_type": "code",
   "execution_count": 48,
   "metadata": {
    "scrolled": true
   },
   "outputs": [
    {
     "data": {
      "text/html": [
       "<div>\n",
       "<style scoped>\n",
       "    .dataframe tbody tr th:only-of-type {\n",
       "        vertical-align: middle;\n",
       "    }\n",
       "\n",
       "    .dataframe tbody tr th {\n",
       "        vertical-align: top;\n",
       "    }\n",
       "\n",
       "    .dataframe thead th {\n",
       "        text-align: right;\n",
       "    }\n",
       "</style>\n",
       "<table border=\"1\" class=\"dataframe\">\n",
       "  <thead>\n",
       "    <tr style=\"text-align: right;\">\n",
       "      <th></th>\n",
       "      <th>Dataset_1</th>\n",
       "      <th>Dataset_2</th>\n",
       "      <th>Dataset_3</th>\n",
       "      <th>Dataset_4</th>\n",
       "      <th>Dataset_5</th>\n",
       "      <th>Dataset_6</th>\n",
       "      <th>Dataset_7</th>\n",
       "      <th>Dataset_8</th>\n",
       "      <th>Dataset_9</th>\n",
       "      <th>Dataset_10</th>\n",
       "      <th>mean_profit</th>\n",
       "      <th>std_profit</th>\n",
       "    </tr>\n",
       "  </thead>\n",
       "  <tbody>\n",
       "    <tr>\n",
       "      <th>Normal</th>\n",
       "      <td>-25016.0</td>\n",
       "      <td>8704.0</td>\n",
       "      <td>-28436.0</td>\n",
       "      <td>7040.0</td>\n",
       "      <td>-4176.0</td>\n",
       "      <td>548.0</td>\n",
       "      <td>-33716.0</td>\n",
       "      <td>9112.0</td>\n",
       "      <td>9680.0</td>\n",
       "      <td>-18156.0</td>\n",
       "      <td>-7441.6</td>\n",
       "      <td>16330.439916</td>\n",
       "    </tr>\n",
       "    <tr>\n",
       "      <th>Exponential</th>\n",
       "      <td>1864.0</td>\n",
       "      <td>8916.0</td>\n",
       "      <td>-8224.0</td>\n",
       "      <td>9396.0</td>\n",
       "      <td>3336.0</td>\n",
       "      <td>4636.0</td>\n",
       "      <td>1700.0</td>\n",
       "      <td>7904.0</td>\n",
       "      <td>9488.0</td>\n",
       "      <td>488.0</td>\n",
       "      <td>3950.4</td>\n",
       "      <td>5206.503994</td>\n",
       "    </tr>\n",
       "    <tr>\n",
       "      <th>Empirical</th>\n",
       "      <td>4408.0</td>\n",
       "      <td>11676.0</td>\n",
       "      <td>-4096.0</td>\n",
       "      <td>11412.0</td>\n",
       "      <td>5272.0</td>\n",
       "      <td>7372.0</td>\n",
       "      <td>4372.0</td>\n",
       "      <td>10332.0</td>\n",
       "      <td>11372.0</td>\n",
       "      <td>2652.0</td>\n",
       "      <td>6477.2</td>\n",
       "      <td>4770.635865</td>\n",
       "    </tr>\n",
       "    <tr>\n",
       "      <th>Max</th>\n",
       "      <td>41384.0</td>\n",
       "      <td>45256.0</td>\n",
       "      <td>46296.0</td>\n",
       "      <td>46600.0</td>\n",
       "      <td>49640.0</td>\n",
       "      <td>39048.0</td>\n",
       "      <td>48968.0</td>\n",
       "      <td>46120.0</td>\n",
       "      <td>44704.0</td>\n",
       "      <td>41648.0</td>\n",
       "      <td>44966.4</td>\n",
       "      <td>3203.875254</td>\n",
       "    </tr>\n",
       "  </tbody>\n",
       "</table>\n",
       "</div>"
      ],
      "text/plain": [
       "             Dataset_1  Dataset_2  Dataset_3  Dataset_4  Dataset_5  Dataset_6  \\\n",
       "Normal        -25016.0     8704.0   -28436.0     7040.0    -4176.0      548.0   \n",
       "Exponential     1864.0     8916.0    -8224.0     9396.0     3336.0     4636.0   \n",
       "Empirical       4408.0    11676.0    -4096.0    11412.0     5272.0     7372.0   \n",
       "Max            41384.0    45256.0    46296.0    46600.0    49640.0    39048.0   \n",
       "\n",
       "             Dataset_7  Dataset_8  Dataset_9  Dataset_10  mean_profit  \\\n",
       "Normal        -33716.0     9112.0     9680.0    -18156.0      -7441.6   \n",
       "Exponential     1700.0     7904.0     9488.0       488.0       3950.4   \n",
       "Empirical       4372.0    10332.0    11372.0      2652.0       6477.2   \n",
       "Max            48968.0    46120.0    44704.0     41648.0      44966.4   \n",
       "\n",
       "               std_profit  \n",
       "Normal       16330.439916  \n",
       "Exponential   5206.503994  \n",
       "Empirical     4770.635865  \n",
       "Max           3203.875254  "
      ]
     },
     "execution_count": 48,
     "metadata": {},
     "output_type": "execute_result"
    }
   ],
   "source": [
    "profit_table"
   ]
  },
  {
   "cell_type": "code",
   "execution_count": 51,
   "metadata": {
    "scrolled": true
   },
   "outputs": [
    {
     "data": {
      "text/html": [
       "<div>\n",
       "<style scoped>\n",
       "    .dataframe tbody tr th:only-of-type {\n",
       "        vertical-align: middle;\n",
       "    }\n",
       "\n",
       "    .dataframe tbody tr th {\n",
       "        vertical-align: top;\n",
       "    }\n",
       "\n",
       "    .dataframe thead th {\n",
       "        text-align: right;\n",
       "    }\n",
       "</style>\n",
       "<table border=\"1\" class=\"dataframe\">\n",
       "  <thead>\n",
       "    <tr style=\"text-align: right;\">\n",
       "      <th></th>\n",
       "      <th>Cross Validation MSE</th>\n",
       "    </tr>\n",
       "  </thead>\n",
       "  <tbody>\n",
       "    <tr>\n",
       "      <th>Dataset_1</th>\n",
       "      <td>19497.175665</td>\n",
       "    </tr>\n",
       "    <tr>\n",
       "      <th>Dataset_2</th>\n",
       "      <td>2466.614727</td>\n",
       "    </tr>\n",
       "    <tr>\n",
       "      <th>Dataset_3</th>\n",
       "      <td>18262.314375</td>\n",
       "    </tr>\n",
       "    <tr>\n",
       "      <th>Dataset_4</th>\n",
       "      <td>3207.463862</td>\n",
       "    </tr>\n",
       "    <tr>\n",
       "      <th>Dataset_5</th>\n",
       "      <td>6151.844733</td>\n",
       "    </tr>\n",
       "    <tr>\n",
       "      <th>Dataset_6</th>\n",
       "      <td>4191.602406</td>\n",
       "    </tr>\n",
       "    <tr>\n",
       "      <th>Dataset_7</th>\n",
       "      <td>27932.305432</td>\n",
       "    </tr>\n",
       "    <tr>\n",
       "      <th>Dataset_8</th>\n",
       "      <td>1963.040425</td>\n",
       "    </tr>\n",
       "    <tr>\n",
       "      <th>Dataset_9</th>\n",
       "      <td>1916.151941</td>\n",
       "    </tr>\n",
       "    <tr>\n",
       "      <th>Dataset_10</th>\n",
       "      <td>12792.989801</td>\n",
       "    </tr>\n",
       "  </tbody>\n",
       "</table>\n",
       "</div>"
      ],
      "text/plain": [
       "            Cross Validation MSE\n",
       "Dataset_1           19497.175665\n",
       "Dataset_2            2466.614727\n",
       "Dataset_3           18262.314375\n",
       "Dataset_4            3207.463862\n",
       "Dataset_5            6151.844733\n",
       "Dataset_6            4191.602406\n",
       "Dataset_7           27932.305432\n",
       "Dataset_8            1963.040425\n",
       "Dataset_9            1916.151941\n",
       "Dataset_10          12792.989801"
      ]
     },
     "execution_count": 51,
     "metadata": {},
     "output_type": "execute_result"
    }
   ],
   "source": [
    "mse_table = pd.DataFrame(mse_lst,index=col_name,columns=['Cross Validation MSE'])\n",
    "mse_table"
   ]
  },
  {
   "cell_type": "code",
   "execution_count": 53,
   "metadata": {},
   "outputs": [
    {
     "name": "stdout",
     "output_type": "stream",
     "text": [
      "Average 10 fold CV MSE:  9838.150336638324\n"
     ]
    }
   ],
   "source": [
    "print(f\"Average 10 fold CV MSE:  {float(mse_table.mean())}\")"
   ]
  },
  {
   "cell_type": "code",
   "execution_count": 50,
   "metadata": {},
   "outputs": [],
   "source": [
    "profit_table.to_csv(\".\\\\Model_Selection_Result\\\\2.1A_Lin_reg.csv\")"
   ]
  },
  {
   "cell_type": "code",
   "execution_count": 63,
   "metadata": {},
   "outputs": [],
   "source": [
    "name = \"2.1A_Lin_reg.csv\"\n",
    "mse_table.to_csv(f\".\\\\Model_CV_Result_MSE\\\\{name}\")"
   ]
  },
  {
   "cell_type": "code",
   "execution_count": 64,
   "metadata": {},
   "outputs": [],
   "source": [
    "f = pd.DataFrame(fraction_table['mean_fraction'])\n",
    "f = f.transpose().reset_index()\n",
    "f.to_csv(f\".\\\\Model_CV_Result_Efficiency\\\\{name}\")"
   ]
  },
  {
   "cell_type": "code",
   "execution_count": null,
   "metadata": {},
   "outputs": [],
   "source": []
  }
 ],
 "metadata": {
  "kernelspec": {
   "display_name": "Python 3",
   "language": "python",
   "name": "python3"
  },
  "language_info": {
   "codemirror_mode": {
    "name": "ipython",
    "version": 3
   },
   "file_extension": ".py",
   "mimetype": "text/x-python",
   "name": "python",
   "nbconvert_exporter": "python",
   "pygments_lexer": "ipython3",
   "version": "3.8.5"
  }
 },
 "nbformat": 4,
 "nbformat_minor": 4
}
