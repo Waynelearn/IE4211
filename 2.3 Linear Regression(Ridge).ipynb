{
 "cells": [
  {
   "cell_type": "code",
   "execution_count": 1,
   "metadata": {},
   "outputs": [],
   "source": [
    "import pandas as pd\n",
    "import numpy as np\n",
    "import matplotlib.pyplot as plt\n",
    "from sklearn.pipeline import Pipeline\n",
    "from sklearn.model_selection import GridSearchCV\n",
    "from sklearn.decomposition import PCA\n",
    "from sklearn.metrics import mean_squared_error as MSE\n",
    "from sklearn.linear_model import LinearRegression\n",
    "from sklearn.preprocessing import PolynomialFeatures\n",
    "from sklearn.model_selection import train_test_split\n",
    "from sklearn.linear_model import Ridge"
   ]
  },
  {
   "cell_type": "markdown",
   "metadata": {},
   "source": [
    "# Import the train datasets"
   ]
  },
  {
   "cell_type": "code",
   "execution_count": 2,
   "metadata": {},
   "outputs": [],
   "source": [
    "X_train = pd.read_csv(\"A_Normalised_train_data.csv\",index_col=0)\n",
    "Y_train = pd.read_csv(\"A_Log_sales_train.csv\",index_col=0)"
   ]
  },
  {
   "cell_type": "markdown",
   "metadata": {},
   "source": [
    "# Setup Pipeline"
   ]
  },
  {
   "cell_type": "code",
   "execution_count": 3,
   "metadata": {},
   "outputs": [],
   "source": [
    "pca=PCA()\n",
    "SLR = Ridge()"
   ]
  },
  {
   "cell_type": "code",
   "execution_count": 4,
   "metadata": {},
   "outputs": [],
   "source": [
    "# Step 1: PCA\n",
    "# Step 2: Model\n",
    "pipe = Pipeline(steps=[(\"pca\",pca),(\"SLR\",SLR)])"
   ]
  },
  {
   "cell_type": "code",
   "execution_count": 5,
   "metadata": {},
   "outputs": [],
   "source": [
    "param_grid = {\n",
    "    \"pca__n_components\": [5, 10, 30, 45, 60, 100 ,150 ,170],\n",
    "    \"SLR__alpha\":[0.05,0.1,0.2,0.5,1,2,8,10,100,1000,10000]\n",
    "}"
   ]
  },
  {
   "cell_type": "markdown",
   "metadata": {},
   "source": [
    "# Setup GridSearch"
   ]
  },
  {
   "cell_type": "code",
   "execution_count": 6,
   "metadata": {},
   "outputs": [],
   "source": [
    "score_metric = 'neg_mean_squared_error'\n",
    "search = GridSearchCV(pipe,param_grid,\n",
    "                      n_jobs=-1,\n",
    "                      cv=10,\n",
    "                      scoring=score_metric)"
   ]
  },
  {
   "cell_type": "code",
   "execution_count": 7,
   "metadata": {},
   "outputs": [
    {
     "data": {
      "text/plain": [
       "GridSearchCV(cv=10,\n",
       "             estimator=Pipeline(steps=[('pca', PCA()), ('SLR', Ridge())]),\n",
       "             n_jobs=-1,\n",
       "             param_grid={'SLR__alpha': [0.05, 0.1, 0.2, 0.5, 1, 2, 8, 10, 100,\n",
       "                                        1000, 10000],\n",
       "                         'pca__n_components': [5, 10, 30, 45, 60, 100, 150,\n",
       "                                               170]},\n",
       "             scoring='neg_mean_squared_error')"
      ]
     },
     "execution_count": 7,
     "metadata": {},
     "output_type": "execute_result"
    }
   ],
   "source": [
    "search.fit(X_train,Y_train)"
   ]
  },
  {
   "cell_type": "code",
   "execution_count": 8,
   "metadata": {},
   "outputs": [
    {
     "name": "stdout",
     "output_type": "stream",
     "text": [
      "Best parameter (CV score=-0.734):\n",
      "{'SLR__alpha': 1000, 'pca__n_components': 150}\n"
     ]
    }
   ],
   "source": [
    "print(\"Best parameter (CV score=%0.3f):\" % search.best_score_)\n",
    "print(search.best_params_)"
   ]
  },
  {
   "cell_type": "code",
   "execution_count": 9,
   "metadata": {},
   "outputs": [
    {
     "data": {
      "text/html": [
       "<div>\n",
       "<style scoped>\n",
       "    .dataframe tbody tr th:only-of-type {\n",
       "        vertical-align: middle;\n",
       "    }\n",
       "\n",
       "    .dataframe tbody tr th {\n",
       "        vertical-align: top;\n",
       "    }\n",
       "\n",
       "    .dataframe thead th {\n",
       "        text-align: right;\n",
       "    }\n",
       "</style>\n",
       "<table border=\"1\" class=\"dataframe\">\n",
       "  <thead>\n",
       "    <tr style=\"text-align: right;\">\n",
       "      <th></th>\n",
       "      <th>mean_fit_time</th>\n",
       "      <th>std_fit_time</th>\n",
       "      <th>mean_score_time</th>\n",
       "      <th>std_score_time</th>\n",
       "      <th>param_SLR__alpha</th>\n",
       "      <th>param_pca__n_components</th>\n",
       "      <th>params</th>\n",
       "      <th>split0_test_score</th>\n",
       "      <th>split1_test_score</th>\n",
       "      <th>split2_test_score</th>\n",
       "      <th>split3_test_score</th>\n",
       "      <th>split4_test_score</th>\n",
       "      <th>split5_test_score</th>\n",
       "      <th>split6_test_score</th>\n",
       "      <th>split7_test_score</th>\n",
       "      <th>split8_test_score</th>\n",
       "      <th>split9_test_score</th>\n",
       "      <th>mean_test_score</th>\n",
       "      <th>std_test_score</th>\n",
       "      <th>rank_test_score</th>\n",
       "    </tr>\n",
       "  </thead>\n",
       "  <tbody>\n",
       "    <tr>\n",
       "      <th>79</th>\n",
       "      <td>0.091564</td>\n",
       "      <td>0.012859</td>\n",
       "      <td>0.011605</td>\n",
       "      <td>0.006182</td>\n",
       "      <td>1000</td>\n",
       "      <td>170</td>\n",
       "      <td>{'SLR__alpha': 1000, 'pca__n_components': 170}</td>\n",
       "      <td>-0.652320</td>\n",
       "      <td>-0.629464</td>\n",
       "      <td>-1.019701</td>\n",
       "      <td>-0.796638</td>\n",
       "      <td>-0.838327</td>\n",
       "      <td>-0.623856</td>\n",
       "      <td>-0.605852</td>\n",
       "      <td>-0.705903</td>\n",
       "      <td>-0.751369</td>\n",
       "      <td>-0.717822</td>\n",
       "      <td>-0.734125</td>\n",
       "      <td>0.119974</td>\n",
       "      <td>1</td>\n",
       "    </tr>\n",
       "    <tr>\n",
       "      <th>78</th>\n",
       "      <td>0.096596</td>\n",
       "      <td>0.010703</td>\n",
       "      <td>0.008327</td>\n",
       "      <td>0.005042</td>\n",
       "      <td>1000</td>\n",
       "      <td>150</td>\n",
       "      <td>{'SLR__alpha': 1000, 'pca__n_components': 150}</td>\n",
       "      <td>-0.652320</td>\n",
       "      <td>-0.629464</td>\n",
       "      <td>-1.019701</td>\n",
       "      <td>-0.796638</td>\n",
       "      <td>-0.838327</td>\n",
       "      <td>-0.623856</td>\n",
       "      <td>-0.605852</td>\n",
       "      <td>-0.705903</td>\n",
       "      <td>-0.751369</td>\n",
       "      <td>-0.717822</td>\n",
       "      <td>-0.734125</td>\n",
       "      <td>0.119974</td>\n",
       "      <td>1</td>\n",
       "    </tr>\n",
       "    <tr>\n",
       "      <th>70</th>\n",
       "      <td>0.107375</td>\n",
       "      <td>0.017457</td>\n",
       "      <td>0.008849</td>\n",
       "      <td>0.007913</td>\n",
       "      <td>100</td>\n",
       "      <td>150</td>\n",
       "      <td>{'SLR__alpha': 100, 'pca__n_components': 150}</td>\n",
       "      <td>-0.557192</td>\n",
       "      <td>-0.551972</td>\n",
       "      <td>-2.032064</td>\n",
       "      <td>-0.668318</td>\n",
       "      <td>-0.719911</td>\n",
       "      <td>-0.566579</td>\n",
       "      <td>-0.569639</td>\n",
       "      <td>-0.613083</td>\n",
       "      <td>-0.671898</td>\n",
       "      <td>-0.616025</td>\n",
       "      <td>-0.756668</td>\n",
       "      <td>0.428507</td>\n",
       "      <td>3</td>\n",
       "    </tr>\n",
       "    <tr>\n",
       "      <th>71</th>\n",
       "      <td>0.093832</td>\n",
       "      <td>0.010243</td>\n",
       "      <td>0.009734</td>\n",
       "      <td>0.011150</td>\n",
       "      <td>100</td>\n",
       "      <td>170</td>\n",
       "      <td>{'SLR__alpha': 100, 'pca__n_components': 170}</td>\n",
       "      <td>-0.557192</td>\n",
       "      <td>-0.551972</td>\n",
       "      <td>-2.032064</td>\n",
       "      <td>-0.668318</td>\n",
       "      <td>-0.719911</td>\n",
       "      <td>-0.566579</td>\n",
       "      <td>-0.569639</td>\n",
       "      <td>-0.613083</td>\n",
       "      <td>-0.671898</td>\n",
       "      <td>-0.616025</td>\n",
       "      <td>-0.756668</td>\n",
       "      <td>0.428507</td>\n",
       "      <td>3</td>\n",
       "    </tr>\n",
       "    <tr>\n",
       "      <th>54</th>\n",
       "      <td>0.092203</td>\n",
       "      <td>0.007739</td>\n",
       "      <td>0.012830</td>\n",
       "      <td>0.004921</td>\n",
       "      <td>8</td>\n",
       "      <td>150</td>\n",
       "      <td>{'SLR__alpha': 8, 'pca__n_components': 150}</td>\n",
       "      <td>-0.513021</td>\n",
       "      <td>-0.547673</td>\n",
       "      <td>-2.281377</td>\n",
       "      <td>-0.619544</td>\n",
       "      <td>-0.686219</td>\n",
       "      <td>-0.546546</td>\n",
       "      <td>-0.564497</td>\n",
       "      <td>-0.565643</td>\n",
       "      <td>-0.640100</td>\n",
       "      <td>-0.603677</td>\n",
       "      <td>-0.756829</td>\n",
       "      <td>0.510501</td>\n",
       "      <td>5</td>\n",
       "    </tr>\n",
       "    <tr>\n",
       "      <th>...</th>\n",
       "      <td>...</td>\n",
       "      <td>...</td>\n",
       "      <td>...</td>\n",
       "      <td>...</td>\n",
       "      <td>...</td>\n",
       "      <td>...</td>\n",
       "      <td>...</td>\n",
       "      <td>...</td>\n",
       "      <td>...</td>\n",
       "      <td>...</td>\n",
       "      <td>...</td>\n",
       "      <td>...</td>\n",
       "      <td>...</td>\n",
       "      <td>...</td>\n",
       "      <td>...</td>\n",
       "      <td>...</td>\n",
       "      <td>...</td>\n",
       "      <td>...</td>\n",
       "      <td>...</td>\n",
       "      <td>...</td>\n",
       "    </tr>\n",
       "    <tr>\n",
       "      <th>24</th>\n",
       "      <td>0.064050</td>\n",
       "      <td>0.008413</td>\n",
       "      <td>0.009370</td>\n",
       "      <td>0.007651</td>\n",
       "      <td>0.5</td>\n",
       "      <td>5</td>\n",
       "      <td>{'SLR__alpha': 0.5, 'pca__n_components': 5}</td>\n",
       "      <td>-1.161543</td>\n",
       "      <td>-1.114810</td>\n",
       "      <td>-1.232183</td>\n",
       "      <td>-1.477232</td>\n",
       "      <td>-1.449594</td>\n",
       "      <td>-0.983558</td>\n",
       "      <td>-1.185709</td>\n",
       "      <td>-1.098959</td>\n",
       "      <td>-1.197826</td>\n",
       "      <td>-1.130510</td>\n",
       "      <td>-1.203192</td>\n",
       "      <td>0.145230</td>\n",
       "      <td>84</td>\n",
       "    </tr>\n",
       "    <tr>\n",
       "      <th>72</th>\n",
       "      <td>0.060346</td>\n",
       "      <td>0.011389</td>\n",
       "      <td>0.009373</td>\n",
       "      <td>0.007653</td>\n",
       "      <td>1000</td>\n",
       "      <td>5</td>\n",
       "      <td>{'SLR__alpha': 1000, 'pca__n_components': 5}</td>\n",
       "      <td>-1.170584</td>\n",
       "      <td>-1.123410</td>\n",
       "      <td>-1.242899</td>\n",
       "      <td>-1.450182</td>\n",
       "      <td>-1.458660</td>\n",
       "      <td>-0.971295</td>\n",
       "      <td>-1.182508</td>\n",
       "      <td>-1.147232</td>\n",
       "      <td>-1.197431</td>\n",
       "      <td>-1.120466</td>\n",
       "      <td>-1.206467</td>\n",
       "      <td>0.141201</td>\n",
       "      <td>85</td>\n",
       "    </tr>\n",
       "    <tr>\n",
       "      <th>48</th>\n",
       "      <td>0.060376</td>\n",
       "      <td>0.007415</td>\n",
       "      <td>0.010752</td>\n",
       "      <td>0.006753</td>\n",
       "      <td>8</td>\n",
       "      <td>5</td>\n",
       "      <td>{'SLR__alpha': 8, 'pca__n_components': 5}</td>\n",
       "      <td>-1.159347</td>\n",
       "      <td>-1.154423</td>\n",
       "      <td>-1.248561</td>\n",
       "      <td>-1.482756</td>\n",
       "      <td>-1.449514</td>\n",
       "      <td>-0.955235</td>\n",
       "      <td>-1.206189</td>\n",
       "      <td>-1.124596</td>\n",
       "      <td>-1.184476</td>\n",
       "      <td>-1.117423</td>\n",
       "      <td>-1.208252</td>\n",
       "      <td>0.148428</td>\n",
       "      <td>86</td>\n",
       "    </tr>\n",
       "    <tr>\n",
       "      <th>0</th>\n",
       "      <td>0.067689</td>\n",
       "      <td>0.009140</td>\n",
       "      <td>0.010457</td>\n",
       "      <td>0.007440</td>\n",
       "      <td>0.05</td>\n",
       "      <td>5</td>\n",
       "      <td>{'SLR__alpha': 0.05, 'pca__n_components': 5}</td>\n",
       "      <td>-1.163654</td>\n",
       "      <td>-1.113793</td>\n",
       "      <td>-1.264376</td>\n",
       "      <td>-1.477198</td>\n",
       "      <td>-1.450150</td>\n",
       "      <td>-0.965443</td>\n",
       "      <td>-1.179650</td>\n",
       "      <td>-1.148303</td>\n",
       "      <td>-1.198559</td>\n",
       "      <td>-1.122100</td>\n",
       "      <td>-1.208323</td>\n",
       "      <td>0.146899</td>\n",
       "      <td>87</td>\n",
       "    </tr>\n",
       "    <tr>\n",
       "      <th>80</th>\n",
       "      <td>0.060101</td>\n",
       "      <td>0.010266</td>\n",
       "      <td>0.007180</td>\n",
       "      <td>0.006515</td>\n",
       "      <td>10000</td>\n",
       "      <td>5</td>\n",
       "      <td>{'SLR__alpha': 10000, 'pca__n_components': 5}</td>\n",
       "      <td>-1.227766</td>\n",
       "      <td>-1.172071</td>\n",
       "      <td>-1.300810</td>\n",
       "      <td>-1.542133</td>\n",
       "      <td>-1.510220</td>\n",
       "      <td>-1.000086</td>\n",
       "      <td>-1.242077</td>\n",
       "      <td>-1.217604</td>\n",
       "      <td>-1.253004</td>\n",
       "      <td>-1.198938</td>\n",
       "      <td>-1.266471</td>\n",
       "      <td>0.150226</td>\n",
       "      <td>88</td>\n",
       "    </tr>\n",
       "  </tbody>\n",
       "</table>\n",
       "<p>88 rows × 20 columns</p>\n",
       "</div>"
      ],
      "text/plain": [
       "    mean_fit_time  std_fit_time  mean_score_time  std_score_time  \\\n",
       "79       0.091564      0.012859         0.011605        0.006182   \n",
       "78       0.096596      0.010703         0.008327        0.005042   \n",
       "70       0.107375      0.017457         0.008849        0.007913   \n",
       "71       0.093832      0.010243         0.009734        0.011150   \n",
       "54       0.092203      0.007739         0.012830        0.004921   \n",
       "..            ...           ...              ...             ...   \n",
       "24       0.064050      0.008413         0.009370        0.007651   \n",
       "72       0.060346      0.011389         0.009373        0.007653   \n",
       "48       0.060376      0.007415         0.010752        0.006753   \n",
       "0        0.067689      0.009140         0.010457        0.007440   \n",
       "80       0.060101      0.010266         0.007180        0.006515   \n",
       "\n",
       "   param_SLR__alpha param_pca__n_components  \\\n",
       "79             1000                     170   \n",
       "78             1000                     150   \n",
       "70              100                     150   \n",
       "71              100                     170   \n",
       "54                8                     150   \n",
       "..              ...                     ...   \n",
       "24              0.5                       5   \n",
       "72             1000                       5   \n",
       "48                8                       5   \n",
       "0              0.05                       5   \n",
       "80            10000                       5   \n",
       "\n",
       "                                            params  split0_test_score  \\\n",
       "79  {'SLR__alpha': 1000, 'pca__n_components': 170}          -0.652320   \n",
       "78  {'SLR__alpha': 1000, 'pca__n_components': 150}          -0.652320   \n",
       "70   {'SLR__alpha': 100, 'pca__n_components': 150}          -0.557192   \n",
       "71   {'SLR__alpha': 100, 'pca__n_components': 170}          -0.557192   \n",
       "54     {'SLR__alpha': 8, 'pca__n_components': 150}          -0.513021   \n",
       "..                                             ...                ...   \n",
       "24     {'SLR__alpha': 0.5, 'pca__n_components': 5}          -1.161543   \n",
       "72    {'SLR__alpha': 1000, 'pca__n_components': 5}          -1.170584   \n",
       "48       {'SLR__alpha': 8, 'pca__n_components': 5}          -1.159347   \n",
       "0     {'SLR__alpha': 0.05, 'pca__n_components': 5}          -1.163654   \n",
       "80   {'SLR__alpha': 10000, 'pca__n_components': 5}          -1.227766   \n",
       "\n",
       "    split1_test_score  split2_test_score  split3_test_score  \\\n",
       "79          -0.629464          -1.019701          -0.796638   \n",
       "78          -0.629464          -1.019701          -0.796638   \n",
       "70          -0.551972          -2.032064          -0.668318   \n",
       "71          -0.551972          -2.032064          -0.668318   \n",
       "54          -0.547673          -2.281377          -0.619544   \n",
       "..                ...                ...                ...   \n",
       "24          -1.114810          -1.232183          -1.477232   \n",
       "72          -1.123410          -1.242899          -1.450182   \n",
       "48          -1.154423          -1.248561          -1.482756   \n",
       "0           -1.113793          -1.264376          -1.477198   \n",
       "80          -1.172071          -1.300810          -1.542133   \n",
       "\n",
       "    split4_test_score  split5_test_score  split6_test_score  \\\n",
       "79          -0.838327          -0.623856          -0.605852   \n",
       "78          -0.838327          -0.623856          -0.605852   \n",
       "70          -0.719911          -0.566579          -0.569639   \n",
       "71          -0.719911          -0.566579          -0.569639   \n",
       "54          -0.686219          -0.546546          -0.564497   \n",
       "..                ...                ...                ...   \n",
       "24          -1.449594          -0.983558          -1.185709   \n",
       "72          -1.458660          -0.971295          -1.182508   \n",
       "48          -1.449514          -0.955235          -1.206189   \n",
       "0           -1.450150          -0.965443          -1.179650   \n",
       "80          -1.510220          -1.000086          -1.242077   \n",
       "\n",
       "    split7_test_score  split8_test_score  split9_test_score  mean_test_score  \\\n",
       "79          -0.705903          -0.751369          -0.717822        -0.734125   \n",
       "78          -0.705903          -0.751369          -0.717822        -0.734125   \n",
       "70          -0.613083          -0.671898          -0.616025        -0.756668   \n",
       "71          -0.613083          -0.671898          -0.616025        -0.756668   \n",
       "54          -0.565643          -0.640100          -0.603677        -0.756829   \n",
       "..                ...                ...                ...              ...   \n",
       "24          -1.098959          -1.197826          -1.130510        -1.203192   \n",
       "72          -1.147232          -1.197431          -1.120466        -1.206467   \n",
       "48          -1.124596          -1.184476          -1.117423        -1.208252   \n",
       "0           -1.148303          -1.198559          -1.122100        -1.208323   \n",
       "80          -1.217604          -1.253004          -1.198938        -1.266471   \n",
       "\n",
       "    std_test_score  rank_test_score  \n",
       "79        0.119974                1  \n",
       "78        0.119974                1  \n",
       "70        0.428507                3  \n",
       "71        0.428507                3  \n",
       "54        0.510501                5  \n",
       "..             ...              ...  \n",
       "24        0.145230               84  \n",
       "72        0.141201               85  \n",
       "48        0.148428               86  \n",
       "0         0.146899               87  \n",
       "80        0.150226               88  \n",
       "\n",
       "[88 rows x 20 columns]"
      ]
     },
     "execution_count": 9,
     "metadata": {},
     "output_type": "execute_result"
    }
   ],
   "source": [
    "df = pd.DataFrame(search.cv_results_)\n",
    "df = df.sort_values(by=['rank_test_score'])\n",
    "df"
   ]
  },
  {
   "cell_type": "markdown",
   "metadata": {},
   "source": [
    "# Best Hyperparameter"
   ]
  },
  {
   "cell_type": "code",
   "execution_count": 10,
   "metadata": {},
   "outputs": [
    {
     "name": "stdout",
     "output_type": "stream",
     "text": [
      "{'SLR__alpha': 1000, 'pca__n_components': 170}\n"
     ]
    }
   ],
   "source": [
    "parms = pd.DataFrame(df['params'])\n",
    "for i in parms.iloc[0]:\n",
    "    print(i)"
   ]
  },
  {
   "cell_type": "code",
   "execution_count": 11,
   "metadata": {},
   "outputs": [
    {
     "data": {
      "text/plain": [
       "pandas.core.series.Series"
      ]
     },
     "execution_count": 11,
     "metadata": {},
     "output_type": "execute_result"
    }
   ],
   "source": [
    "type(parms.iloc[0])"
   ]
  },
  {
   "cell_type": "markdown",
   "metadata": {},
   "source": [
    "# Evaluate Model $log(Sales)$"
   ]
  },
  {
   "cell_type": "code",
   "execution_count": 12,
   "metadata": {},
   "outputs": [],
   "source": [
    "best_pca =parms.iloc[0][0]['pca__n_components']\n",
    "best_alpha=parms.iloc[0][0]['SLR__alpha']"
   ]
  },
  {
   "cell_type": "code",
   "execution_count": 13,
   "metadata": {},
   "outputs": [],
   "source": [
    "X_train1,X_test1,Y_train1,Y_test1 = train_test_split(X_train,Y_train,test_size=0.2,random_state=132)\n"
   ]
  },
  {
   "cell_type": "code",
   "execution_count": 14,
   "metadata": {},
   "outputs": [
    {
     "data": {
      "text/plain": [
       "Ridge(alpha=1000)"
      ]
     },
     "execution_count": 14,
     "metadata": {},
     "output_type": "execute_result"
    }
   ],
   "source": [
    "pca1 = PCA(n_components=100)\n",
    "pca1.fit(X_train1)\n",
    "PX_train1 = pca1.transform(X_train1)\n",
    "SLR1 = Ridge(alpha=best_alpha)\n",
    "SLR1.fit(PX_train1,Y_train1)"
   ]
  },
  {
   "cell_type": "code",
   "execution_count": 15,
   "metadata": {},
   "outputs": [],
   "source": [
    "pca2 = PCA(n_components=100)\n",
    "pca2.fit(X_test1)\n",
    "PX_test1 = pca2.transform(X_test1)"
   ]
  },
  {
   "cell_type": "code",
   "execution_count": 16,
   "metadata": {},
   "outputs": [
    {
     "data": {
      "text/plain": [
       "1.8926610318077868"
      ]
     },
     "execution_count": 16,
     "metadata": {},
     "output_type": "execute_result"
    }
   ],
   "source": [
    "MSE(SLR1.predict(PX_test1),Y_test1)"
   ]
  },
  {
   "cell_type": "code",
   "execution_count": 17,
   "metadata": {},
   "outputs": [],
   "source": [
    "result = pd.DataFrame(np.exp(Y_test1))"
   ]
  },
  {
   "cell_type": "code",
   "execution_count": 18,
   "metadata": {},
   "outputs": [],
   "source": [
    "result[\"Predicted_sales\"] = np.exp(SLR1.predict(PX_test1))"
   ]
  },
  {
   "cell_type": "code",
   "execution_count": 19,
   "metadata": {},
   "outputs": [
    {
     "data": {
      "text/plain": [
       "1106.2602662186152"
      ]
     },
     "execution_count": 19,
     "metadata": {},
     "output_type": "execute_result"
    }
   ],
   "source": [
    "MSE(result[\"sales\"],result[\"Predicted_sales\"])"
   ]
  },
  {
   "cell_type": "markdown",
   "metadata": {},
   "source": [
    "# Model using original sales data"
   ]
  },
  {
   "cell_type": "code",
   "execution_count": 20,
   "metadata": {},
   "outputs": [],
   "source": [
    "OY_train = pd.read_csv(\"A_sales_train.csv\",index_col=0)"
   ]
  },
  {
   "cell_type": "code",
   "execution_count": 21,
   "metadata": {},
   "outputs": [],
   "source": [
    "X_train2,X_test2,Y_train2,Y_test2 = train_test_split(X_train,OY_train,test_size=0.2,random_state=132)"
   ]
  },
  {
   "cell_type": "code",
   "execution_count": 22,
   "metadata": {},
   "outputs": [
    {
     "data": {
      "text/plain": [
       "Ridge(alpha=1000)"
      ]
     },
     "execution_count": 22,
     "metadata": {},
     "output_type": "execute_result"
    }
   ],
   "source": [
    "pca3 = PCA(n_components=100)\n",
    "pca3.fit(X_train2)\n",
    "PX_train2 = pca3.transform(X_train2)\n",
    "SLR2 = Ridge(alpha=best_alpha)\n",
    "SLR2.fit(PX_train2,Y_train2)"
   ]
  },
  {
   "cell_type": "code",
   "execution_count": 23,
   "metadata": {},
   "outputs": [],
   "source": [
    "pca4 = PCA(n_components=100)\n",
    "pca4.fit(X_test2)\n",
    "PX_test2 = pca4.transform(X_test2)"
   ]
  },
  {
   "cell_type": "code",
   "execution_count": 24,
   "metadata": {},
   "outputs": [
    {
     "data": {
      "text/plain": [
       "1566.420702691855"
      ]
     },
     "execution_count": 24,
     "metadata": {},
     "output_type": "execute_result"
    }
   ],
   "source": [
    "MSE(SLR2.predict(PX_test2),Y_test2)"
   ]
  },
  {
   "cell_type": "markdown",
   "metadata": {},
   "source": [
    "#### Notably model trained on log(Sales) has lower out-of-sample MSE than model with unmodified Sales"
   ]
  },
  {
   "cell_type": "markdown",
   "metadata": {},
   "source": [
    "# Inventory Decision"
   ]
  },
  {
   "cell_type": "code",
   "execution_count": 25,
   "metadata": {},
   "outputs": [],
   "source": [
    "residue = result['sales']-result['Predicted_sales']"
   ]
  },
  {
   "cell_type": "code",
   "execution_count": 26,
   "metadata": {},
   "outputs": [
    {
     "data": {
      "image/png": "[encoded data removed]",
      "text/plain": [
       "<Figure size 432x288 with 1 Axes>"
      ]
     },
     "metadata": {
      "needs_background": "light"
     },
     "output_type": "display_data"
    }
   ],
   "source": [
    "import scipy\n",
    "scipy.stats.probplot(residue, dist=\"norm\", plot=plt)\n",
    "plt.show()"
   ]
  },
  {
   "cell_type": "code",
   "execution_count": 27,
   "metadata": {},
   "outputs": [
    {
     "data": {
      "image/png": "[encoded data removed]",
      "text/plain": [
       "<Figure size 432x288 with 1 Axes>"
      ]
     },
     "metadata": {
      "needs_background": "light"
     },
     "output_type": "display_data"
    }
   ],
   "source": [
    "scipy.stats.probplot(residue, dist=\"expon\", plot=plt)\n",
    "plt.show()"
   ]
  },
  {
   "cell_type": "code",
   "execution_count": 28,
   "metadata": {},
   "outputs": [],
   "source": [
    "import scipy.stats as sct"
   ]
  },
  {
   "cell_type": "code",
   "execution_count": 29,
   "metadata": {},
   "outputs": [
    {
     "data": {
      "text/plain": [
       "(4, 8)"
      ]
     },
     "execution_count": 29,
     "metadata": {},
     "output_type": "execute_result"
    }
   ],
   "source": [
    "Price=20\n",
    "Cost=12\n",
    "Salvage=8\n",
    "Over=Cost - Salvage\n",
    "Under=Price - Cost\n",
    "Over, Under"
   ]
  },
  {
   "cell_type": "code",
   "execution_count": 30,
   "metadata": {},
   "outputs": [],
   "source": [
    "s = residue.std()\n",
    "opt_dec_N=np.ceil(sct.norm.ppf(Under/(Under+Over))*s + result['Predicted_sales'])"
   ]
  },
  {
   "cell_type": "code",
   "execution_count": 31,
   "metadata": {},
   "outputs": [],
   "source": [
    "opt_dec_E=np.ceil((-result['Predicted_sales'])*np.log(1-(Under/(Under+Over))))"
   ]
  },
  {
   "cell_type": "markdown",
   "metadata": {},
   "source": [
    "# Out-of-samples Profit"
   ]
  },
  {
   "cell_type": "code",
   "execution_count": 32,
   "metadata": {},
   "outputs": [
    {
     "data": {
      "text/plain": [
       "82096.0"
      ]
     },
     "execution_count": 32,
     "metadata": {},
     "output_type": "execute_result"
    }
   ],
   "source": [
    "#max profit for test data set\n",
    "max_profit = result['sales'].sum()*(Price-Cost)\n",
    "max_profit"
   ]
  },
  {
   "cell_type": "code",
   "execution_count": 33,
   "metadata": {},
   "outputs": [],
   "source": [
    "def profit(demand,inv):\n",
    "    return (Price-Salvage)*np.minimum(demand,inv)-(Cost-Salvage)*inv"
   ]
  },
  {
   "cell_type": "code",
   "execution_count": 34,
   "metadata": {},
   "outputs": [
    {
     "data": {
      "text/plain": [
       "24384.0"
      ]
     },
     "execution_count": 34,
     "metadata": {},
     "output_type": "execute_result"
    }
   ],
   "source": [
    "profit_lst_N = profit(result['sales'],opt_dec_N)\n",
    "profit_lst_N.sum()"
   ]
  },
  {
   "cell_type": "code",
   "execution_count": 35,
   "metadata": {},
   "outputs": [
    {
     "data": {
      "text/plain": [
       "23880.0"
      ]
     },
     "execution_count": 35,
     "metadata": {},
     "output_type": "execute_result"
    }
   ],
   "source": [
    "profit_lst_E = profit(result['sales'],opt_dec_E)\n",
    "profit_lst_E.sum()"
   ]
  },
  {
   "cell_type": "code",
   "execution_count": null,
   "metadata": {},
   "outputs": [],
   "source": []
  },
  {
   "cell_type": "code",
   "execution_count": null,
   "metadata": {},
   "outputs": [],
   "source": []
  }
 ],
 "metadata": {
  "kernelspec": {
   "display_name": "Python 3",
   "language": "python",
   "name": "python3"
  },
  "language_info": {
   "codemirror_mode": {
    "name": "ipython",
    "version": 3
   },
   "file_extension": ".py",
   "mimetype": "text/x-python",
   "name": "python",
   "nbconvert_exporter": "python",
   "pygments_lexer": "ipython3",
   "version": "3.8.5"
  }
 },
 "nbformat": 4,
 "nbformat_minor": 4
}
