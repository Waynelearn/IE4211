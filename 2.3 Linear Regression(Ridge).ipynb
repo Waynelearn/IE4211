{
 "cells": [
  {
   "cell_type": "code",
   "execution_count": 1,
   "metadata": {},
   "outputs": [],
   "source": [
    "import pandas as pd\n",
    "import numpy as np\n",
    "import matplotlib.pyplot as plt\n",
    "from sklearn.pipeline import Pipeline\n",
    "from sklearn.model_selection import GridSearchCV\n",
    "from sklearn.decomposition import PCA\n",
    "from sklearn.metrics import mean_squared_error as MSE\n",
    "from sklearn.linear_model import LinearRegression\n",
    "from sklearn.preprocessing import PolynomialFeatures\n",
    "from sklearn.model_selection import train_test_split\n",
    "from sklearn.linear_model import Ridge"
   ]
  },
  {
   "cell_type": "code",
   "execution_count": 2,
   "metadata": {},
   "outputs": [],
   "source": [
    "np.random.seed(42)"
   ]
  },
  {
   "cell_type": "markdown",
   "metadata": {},
   "source": [
    "# 1. Import the train datasets"
   ]
  },
  {
   "cell_type": "code",
   "execution_count": 3,
   "metadata": {},
   "outputs": [],
   "source": [
    "X_train = pd.read_csv(\"A_Normalised_train_data.csv\",index_col=0)\n",
    "Y_train = pd.read_csv(\"A_Log_sales_train.csv\",index_col=0)"
   ]
  },
  {
   "cell_type": "code",
   "execution_count": 4,
   "metadata": {},
   "outputs": [],
   "source": [
    "Model_1 = Ridge()"
   ]
  },
  {
   "cell_type": "markdown",
   "metadata": {},
   "source": [
    "# 2. Setup Pipeline"
   ]
  },
  {
   "cell_type": "code",
   "execution_count": 5,
   "metadata": {},
   "outputs": [],
   "source": [
    "pca=PCA()\n",
    "SLR = Model_1"
   ]
  },
  {
   "cell_type": "code",
   "execution_count": 6,
   "metadata": {},
   "outputs": [],
   "source": [
    "# Step 1: PCA\n",
    "# Step 2: Model\n",
    "pipe = Pipeline(steps=[(\"pca\",pca),(\"SLR\",SLR)])"
   ]
  },
  {
   "cell_type": "code",
   "execution_count": 7,
   "metadata": {},
   "outputs": [],
   "source": [
    "param_grid = {\n",
    "    \"pca__n_components\": [5, 10, 30, 45, 60, 100 ,150 ,170],\n",
    "    \"SLR__alpha\":[0.05,0.1,0.2,0.5,1,2,8,10,100,1000,10000]\n",
    "}"
   ]
  },
  {
   "cell_type": "markdown",
   "metadata": {},
   "source": [
    "# 3. Setup GridSearch"
   ]
  },
  {
   "cell_type": "code",
   "execution_count": 8,
   "metadata": {},
   "outputs": [],
   "source": [
    "score_metric = 'neg_mean_squared_error'\n",
    "search = GridSearchCV(pipe,param_grid,\n",
    "                      n_jobs=-1,\n",
    "                      cv=10,\n",
    "                      scoring=score_metric)"
   ]
  },
  {
   "cell_type": "code",
   "execution_count": 9,
   "metadata": {},
   "outputs": [
    {
     "data": {
      "text/plain": [
       "GridSearchCV(cv=10,\n",
       "             estimator=Pipeline(steps=[('pca', PCA()), ('SLR', Ridge())]),\n",
       "             n_jobs=-1,\n",
       "             param_grid={'SLR__alpha': [0.05, 0.1, 0.2, 0.5, 1, 2, 8, 10, 100,\n",
       "                                        1000, 10000],\n",
       "                         'pca__n_components': [5, 10, 30, 45, 60, 100, 150,\n",
       "                                               170]},\n",
       "             scoring='neg_mean_squared_error')"
      ]
     },
     "execution_count": 9,
     "metadata": {},
     "output_type": "execute_result"
    }
   ],
   "source": [
    "search.fit(X_train,Y_train)"
   ]
  },
  {
   "cell_type": "code",
   "execution_count": 10,
   "metadata": {},
   "outputs": [
    {
     "name": "stdout",
     "output_type": "stream",
     "text": [
      "Best parameter (CV score=-0.734):\n",
      "{'SLR__alpha': 1000, 'pca__n_components': 150}\n"
     ]
    }
   ],
   "source": [
    "print(\"Best parameter (CV score=%0.3f):\" % search.best_score_)\n",
    "print(search.best_params_)"
   ]
  },
  {
   "cell_type": "code",
   "execution_count": 11,
   "metadata": {},
   "outputs": [
    {
     "data": {
      "text/html": [
       "<div>\n",
       "<style scoped>\n",
       "    .dataframe tbody tr th:only-of-type {\n",
       "        vertical-align: middle;\n",
       "    }\n",
       "\n",
       "    .dataframe tbody tr th {\n",
       "        vertical-align: top;\n",
       "    }\n",
       "\n",
       "    .dataframe thead th {\n",
       "        text-align: right;\n",
       "    }\n",
       "</style>\n",
       "<table border=\"1\" class=\"dataframe\">\n",
       "  <thead>\n",
       "    <tr style=\"text-align: right;\">\n",
       "      <th></th>\n",
       "      <th>mean_fit_time</th>\n",
       "      <th>std_fit_time</th>\n",
       "      <th>mean_score_time</th>\n",
       "      <th>std_score_time</th>\n",
       "      <th>param_SLR__alpha</th>\n",
       "      <th>param_pca__n_components</th>\n",
       "      <th>params</th>\n",
       "      <th>split0_test_score</th>\n",
       "      <th>split1_test_score</th>\n",
       "      <th>split2_test_score</th>\n",
       "      <th>split3_test_score</th>\n",
       "      <th>split4_test_score</th>\n",
       "      <th>split5_test_score</th>\n",
       "      <th>split6_test_score</th>\n",
       "      <th>split7_test_score</th>\n",
       "      <th>split8_test_score</th>\n",
       "      <th>split9_test_score</th>\n",
       "      <th>mean_test_score</th>\n",
       "      <th>std_test_score</th>\n",
       "      <th>rank_test_score</th>\n",
       "    </tr>\n",
       "  </thead>\n",
       "  <tbody>\n",
       "    <tr>\n",
       "      <th>79</th>\n",
       "      <td>0.124068</td>\n",
       "      <td>0.058890</td>\n",
       "      <td>0.008677</td>\n",
       "      <td>0.002188</td>\n",
       "      <td>1000</td>\n",
       "      <td>170</td>\n",
       "      <td>{'SLR__alpha': 1000, 'pca__n_components': 170}</td>\n",
       "      <td>-0.652320</td>\n",
       "      <td>-0.629464</td>\n",
       "      <td>-1.019701</td>\n",
       "      <td>-0.796638</td>\n",
       "      <td>-0.838327</td>\n",
       "      <td>-0.623856</td>\n",
       "      <td>-0.605852</td>\n",
       "      <td>-0.705903</td>\n",
       "      <td>-0.751369</td>\n",
       "      <td>-0.717822</td>\n",
       "      <td>-0.734125</td>\n",
       "      <td>0.119974</td>\n",
       "      <td>1</td>\n",
       "    </tr>\n",
       "    <tr>\n",
       "      <th>78</th>\n",
       "      <td>0.118084</td>\n",
       "      <td>0.044986</td>\n",
       "      <td>0.008776</td>\n",
       "      <td>0.000598</td>\n",
       "      <td>1000</td>\n",
       "      <td>150</td>\n",
       "      <td>{'SLR__alpha': 1000, 'pca__n_components': 150}</td>\n",
       "      <td>-0.652320</td>\n",
       "      <td>-0.629464</td>\n",
       "      <td>-1.019701</td>\n",
       "      <td>-0.796638</td>\n",
       "      <td>-0.838327</td>\n",
       "      <td>-0.623856</td>\n",
       "      <td>-0.605852</td>\n",
       "      <td>-0.705903</td>\n",
       "      <td>-0.751369</td>\n",
       "      <td>-0.717822</td>\n",
       "      <td>-0.734125</td>\n",
       "      <td>0.119974</td>\n",
       "      <td>1</td>\n",
       "    </tr>\n",
       "    <tr>\n",
       "      <th>70</th>\n",
       "      <td>0.112203</td>\n",
       "      <td>0.041218</td>\n",
       "      <td>0.016154</td>\n",
       "      <td>0.025272</td>\n",
       "      <td>100</td>\n",
       "      <td>150</td>\n",
       "      <td>{'SLR__alpha': 100, 'pca__n_components': 150}</td>\n",
       "      <td>-0.557192</td>\n",
       "      <td>-0.551972</td>\n",
       "      <td>-2.032064</td>\n",
       "      <td>-0.668318</td>\n",
       "      <td>-0.719911</td>\n",
       "      <td>-0.566579</td>\n",
       "      <td>-0.569639</td>\n",
       "      <td>-0.613083</td>\n",
       "      <td>-0.671898</td>\n",
       "      <td>-0.616025</td>\n",
       "      <td>-0.756668</td>\n",
       "      <td>0.428507</td>\n",
       "      <td>3</td>\n",
       "    </tr>\n",
       "    <tr>\n",
       "      <th>71</th>\n",
       "      <td>0.110953</td>\n",
       "      <td>0.057263</td>\n",
       "      <td>0.014148</td>\n",
       "      <td>0.014515</td>\n",
       "      <td>100</td>\n",
       "      <td>170</td>\n",
       "      <td>{'SLR__alpha': 100, 'pca__n_components': 170}</td>\n",
       "      <td>-0.557192</td>\n",
       "      <td>-0.551972</td>\n",
       "      <td>-2.032064</td>\n",
       "      <td>-0.668318</td>\n",
       "      <td>-0.719911</td>\n",
       "      <td>-0.566579</td>\n",
       "      <td>-0.569639</td>\n",
       "      <td>-0.613083</td>\n",
       "      <td>-0.671898</td>\n",
       "      <td>-0.616025</td>\n",
       "      <td>-0.756668</td>\n",
       "      <td>0.428507</td>\n",
       "      <td>3</td>\n",
       "    </tr>\n",
       "    <tr>\n",
       "      <th>55</th>\n",
       "      <td>0.091777</td>\n",
       "      <td>0.034584</td>\n",
       "      <td>0.015352</td>\n",
       "      <td>0.024544</td>\n",
       "      <td>8</td>\n",
       "      <td>170</td>\n",
       "      <td>{'SLR__alpha': 8, 'pca__n_components': 170}</td>\n",
       "      <td>-0.513021</td>\n",
       "      <td>-0.547673</td>\n",
       "      <td>-2.281377</td>\n",
       "      <td>-0.619544</td>\n",
       "      <td>-0.686219</td>\n",
       "      <td>-0.546546</td>\n",
       "      <td>-0.564497</td>\n",
       "      <td>-0.565643</td>\n",
       "      <td>-0.640100</td>\n",
       "      <td>-0.603677</td>\n",
       "      <td>-0.756829</td>\n",
       "      <td>0.510501</td>\n",
       "      <td>5</td>\n",
       "    </tr>\n",
       "    <tr>\n",
       "      <th>...</th>\n",
       "      <td>...</td>\n",
       "      <td>...</td>\n",
       "      <td>...</td>\n",
       "      <td>...</td>\n",
       "      <td>...</td>\n",
       "      <td>...</td>\n",
       "      <td>...</td>\n",
       "      <td>...</td>\n",
       "      <td>...</td>\n",
       "      <td>...</td>\n",
       "      <td>...</td>\n",
       "      <td>...</td>\n",
       "      <td>...</td>\n",
       "      <td>...</td>\n",
       "      <td>...</td>\n",
       "      <td>...</td>\n",
       "      <td>...</td>\n",
       "      <td>...</td>\n",
       "      <td>...</td>\n",
       "      <td>...</td>\n",
       "    </tr>\n",
       "    <tr>\n",
       "      <th>40</th>\n",
       "      <td>0.055261</td>\n",
       "      <td>0.023787</td>\n",
       "      <td>0.012175</td>\n",
       "      <td>0.014927</td>\n",
       "      <td>2</td>\n",
       "      <td>5</td>\n",
       "      <td>{'SLR__alpha': 2, 'pca__n_components': 5}</td>\n",
       "      <td>-1.161695</td>\n",
       "      <td>-1.116267</td>\n",
       "      <td>-1.238554</td>\n",
       "      <td>-1.418916</td>\n",
       "      <td>-1.446468</td>\n",
       "      <td>-0.989459</td>\n",
       "      <td>-1.198625</td>\n",
       "      <td>-1.113181</td>\n",
       "      <td>-1.209927</td>\n",
       "      <td>-1.140543</td>\n",
       "      <td>-1.203363</td>\n",
       "      <td>0.131918</td>\n",
       "      <td>84</td>\n",
       "    </tr>\n",
       "    <tr>\n",
       "      <th>72</th>\n",
       "      <td>0.066765</td>\n",
       "      <td>0.045978</td>\n",
       "      <td>0.008676</td>\n",
       "      <td>0.002445</td>\n",
       "      <td>1000</td>\n",
       "      <td>5</td>\n",
       "      <td>{'SLR__alpha': 1000, 'pca__n_components': 5}</td>\n",
       "      <td>-1.166392</td>\n",
       "      <td>-1.123954</td>\n",
       "      <td>-1.245485</td>\n",
       "      <td>-1.463512</td>\n",
       "      <td>-1.462689</td>\n",
       "      <td>-0.957126</td>\n",
       "      <td>-1.221284</td>\n",
       "      <td>-1.135011</td>\n",
       "      <td>-1.205588</td>\n",
       "      <td>-1.103236</td>\n",
       "      <td>-1.208428</td>\n",
       "      <td>0.148248</td>\n",
       "      <td>85</td>\n",
       "    </tr>\n",
       "    <tr>\n",
       "      <th>16</th>\n",
       "      <td>0.106340</td>\n",
       "      <td>0.078735</td>\n",
       "      <td>0.008899</td>\n",
       "      <td>0.006183</td>\n",
       "      <td>0.2</td>\n",
       "      <td>5</td>\n",
       "      <td>{'SLR__alpha': 0.2, 'pca__n_components': 5}</td>\n",
       "      <td>-1.158059</td>\n",
       "      <td>-1.156359</td>\n",
       "      <td>-1.242838</td>\n",
       "      <td>-1.443128</td>\n",
       "      <td>-1.495036</td>\n",
       "      <td>-0.967760</td>\n",
       "      <td>-1.197293</td>\n",
       "      <td>-1.118142</td>\n",
       "      <td>-1.215360</td>\n",
       "      <td>-1.121794</td>\n",
       "      <td>-1.211577</td>\n",
       "      <td>0.147415</td>\n",
       "      <td>86</td>\n",
       "    </tr>\n",
       "    <tr>\n",
       "      <th>64</th>\n",
       "      <td>0.059631</td>\n",
       "      <td>0.038004</td>\n",
       "      <td>0.006714</td>\n",
       "      <td>0.005439</td>\n",
       "      <td>100</td>\n",
       "      <td>5</td>\n",
       "      <td>{'SLR__alpha': 100, 'pca__n_components': 5}</td>\n",
       "      <td>-1.151131</td>\n",
       "      <td>-1.122683</td>\n",
       "      <td>-1.267143</td>\n",
       "      <td>-1.496602</td>\n",
       "      <td>-1.454035</td>\n",
       "      <td>-0.964005</td>\n",
       "      <td>-1.211928</td>\n",
       "      <td>-1.127250</td>\n",
       "      <td>-1.203642</td>\n",
       "      <td>-1.131491</td>\n",
       "      <td>-1.212991</td>\n",
       "      <td>0.151502</td>\n",
       "      <td>87</td>\n",
       "    </tr>\n",
       "    <tr>\n",
       "      <th>80</th>\n",
       "      <td>0.082180</td>\n",
       "      <td>0.056864</td>\n",
       "      <td>0.008378</td>\n",
       "      <td>0.002005</td>\n",
       "      <td>10000</td>\n",
       "      <td>5</td>\n",
       "      <td>{'SLR__alpha': 10000, 'pca__n_components': 5}</td>\n",
       "      <td>-1.234991</td>\n",
       "      <td>-1.165046</td>\n",
       "      <td>-1.305148</td>\n",
       "      <td>-1.542654</td>\n",
       "      <td>-1.518192</td>\n",
       "      <td>-1.011814</td>\n",
       "      <td>-1.248541</td>\n",
       "      <td>-1.216080</td>\n",
       "      <td>-1.238929</td>\n",
       "      <td>-1.202227</td>\n",
       "      <td>-1.268362</td>\n",
       "      <td>0.149992</td>\n",
       "      <td>88</td>\n",
       "    </tr>\n",
       "  </tbody>\n",
       "</table>\n",
       "<p>88 rows × 20 columns</p>\n",
       "</div>"
      ],
      "text/plain": [
       "    mean_fit_time  std_fit_time  mean_score_time  std_score_time  \\\n",
       "79       0.124068      0.058890         0.008677        0.002188   \n",
       "78       0.118084      0.044986         0.008776        0.000598   \n",
       "70       0.112203      0.041218         0.016154        0.025272   \n",
       "71       0.110953      0.057263         0.014148        0.014515   \n",
       "55       0.091777      0.034584         0.015352        0.024544   \n",
       "..            ...           ...              ...             ...   \n",
       "40       0.055261      0.023787         0.012175        0.014927   \n",
       "72       0.066765      0.045978         0.008676        0.002445   \n",
       "16       0.106340      0.078735         0.008899        0.006183   \n",
       "64       0.059631      0.038004         0.006714        0.005439   \n",
       "80       0.082180      0.056864         0.008378        0.002005   \n",
       "\n",
       "   param_SLR__alpha param_pca__n_components  \\\n",
       "79             1000                     170   \n",
       "78             1000                     150   \n",
       "70              100                     150   \n",
       "71              100                     170   \n",
       "55                8                     170   \n",
       "..              ...                     ...   \n",
       "40                2                       5   \n",
       "72             1000                       5   \n",
       "16              0.2                       5   \n",
       "64              100                       5   \n",
       "80            10000                       5   \n",
       "\n",
       "                                            params  split0_test_score  \\\n",
       "79  {'SLR__alpha': 1000, 'pca__n_components': 170}          -0.652320   \n",
       "78  {'SLR__alpha': 1000, 'pca__n_components': 150}          -0.652320   \n",
       "70   {'SLR__alpha': 100, 'pca__n_components': 150}          -0.557192   \n",
       "71   {'SLR__alpha': 100, 'pca__n_components': 170}          -0.557192   \n",
       "55     {'SLR__alpha': 8, 'pca__n_components': 170}          -0.513021   \n",
       "..                                             ...                ...   \n",
       "40       {'SLR__alpha': 2, 'pca__n_components': 5}          -1.161695   \n",
       "72    {'SLR__alpha': 1000, 'pca__n_components': 5}          -1.166392   \n",
       "16     {'SLR__alpha': 0.2, 'pca__n_components': 5}          -1.158059   \n",
       "64     {'SLR__alpha': 100, 'pca__n_components': 5}          -1.151131   \n",
       "80   {'SLR__alpha': 10000, 'pca__n_components': 5}          -1.234991   \n",
       "\n",
       "    split1_test_score  split2_test_score  split3_test_score  \\\n",
       "79          -0.629464          -1.019701          -0.796638   \n",
       "78          -0.629464          -1.019701          -0.796638   \n",
       "70          -0.551972          -2.032064          -0.668318   \n",
       "71          -0.551972          -2.032064          -0.668318   \n",
       "55          -0.547673          -2.281377          -0.619544   \n",
       "..                ...                ...                ...   \n",
       "40          -1.116267          -1.238554          -1.418916   \n",
       "72          -1.123954          -1.245485          -1.463512   \n",
       "16          -1.156359          -1.242838          -1.443128   \n",
       "64          -1.122683          -1.267143          -1.496602   \n",
       "80          -1.165046          -1.305148          -1.542654   \n",
       "\n",
       "    split4_test_score  split5_test_score  split6_test_score  \\\n",
       "79          -0.838327          -0.623856          -0.605852   \n",
       "78          -0.838327          -0.623856          -0.605852   \n",
       "70          -0.719911          -0.566579          -0.569639   \n",
       "71          -0.719911          -0.566579          -0.569639   \n",
       "55          -0.686219          -0.546546          -0.564497   \n",
       "..                ...                ...                ...   \n",
       "40          -1.446468          -0.989459          -1.198625   \n",
       "72          -1.462689          -0.957126          -1.221284   \n",
       "16          -1.495036          -0.967760          -1.197293   \n",
       "64          -1.454035          -0.964005          -1.211928   \n",
       "80          -1.518192          -1.011814          -1.248541   \n",
       "\n",
       "    split7_test_score  split8_test_score  split9_test_score  mean_test_score  \\\n",
       "79          -0.705903          -0.751369          -0.717822        -0.734125   \n",
       "78          -0.705903          -0.751369          -0.717822        -0.734125   \n",
       "70          -0.613083          -0.671898          -0.616025        -0.756668   \n",
       "71          -0.613083          -0.671898          -0.616025        -0.756668   \n",
       "55          -0.565643          -0.640100          -0.603677        -0.756829   \n",
       "..                ...                ...                ...              ...   \n",
       "40          -1.113181          -1.209927          -1.140543        -1.203363   \n",
       "72          -1.135011          -1.205588          -1.103236        -1.208428   \n",
       "16          -1.118142          -1.215360          -1.121794        -1.211577   \n",
       "64          -1.127250          -1.203642          -1.131491        -1.212991   \n",
       "80          -1.216080          -1.238929          -1.202227        -1.268362   \n",
       "\n",
       "    std_test_score  rank_test_score  \n",
       "79        0.119974                1  \n",
       "78        0.119974                1  \n",
       "70        0.428507                3  \n",
       "71        0.428507                3  \n",
       "55        0.510501                5  \n",
       "..             ...              ...  \n",
       "40        0.131918               84  \n",
       "72        0.148248               85  \n",
       "16        0.147415               86  \n",
       "64        0.151502               87  \n",
       "80        0.149992               88  \n",
       "\n",
       "[88 rows x 20 columns]"
      ]
     },
     "execution_count": 11,
     "metadata": {},
     "output_type": "execute_result"
    }
   ],
   "source": [
    "df = pd.DataFrame(search.cv_results_)\n",
    "df = df.sort_values(by=['rank_test_score'])\n",
    "df"
   ]
  },
  {
   "cell_type": "markdown",
   "metadata": {},
   "source": [
    "# 4. Best Hyperparameter"
   ]
  },
  {
   "cell_type": "code",
   "execution_count": 12,
   "metadata": {},
   "outputs": [
    {
     "name": "stdout",
     "output_type": "stream",
     "text": [
      "{'SLR__alpha': 1000, 'pca__n_components': 170}\n"
     ]
    }
   ],
   "source": [
    "parms = pd.DataFrame(df['params'])\n",
    "for i in parms.iloc[0]:\n",
    "    print(i)"
   ]
  },
  {
   "cell_type": "markdown",
   "metadata": {},
   "source": [
    "# 5. Evaluate Model $log(Sales)$"
   ]
  },
  {
   "cell_type": "code",
   "execution_count": 13,
   "metadata": {},
   "outputs": [],
   "source": [
    "best_pca =parms.iloc[0][0]['pca__n_components']\n",
    "best_alpha=parms.iloc[0][0]['SLR__alpha']"
   ]
  },
  {
   "cell_type": "code",
   "execution_count": 14,
   "metadata": {},
   "outputs": [],
   "source": [
    "Model_2 = Ridge(alpha=best_alpha)"
   ]
  },
  {
   "cell_type": "code",
   "execution_count": 15,
   "metadata": {},
   "outputs": [],
   "source": [
    "X_train1,X_test1,Y_train1,Y_test1 = train_test_split(X_train,Y_train,test_size=0.2,random_state=132)\n"
   ]
  },
  {
   "cell_type": "code",
   "execution_count": 16,
   "metadata": {},
   "outputs": [
    {
     "data": {
      "text/plain": [
       "Ridge(alpha=1000)"
      ]
     },
     "execution_count": 16,
     "metadata": {},
     "output_type": "execute_result"
    }
   ],
   "source": [
    "pca1 = PCA(n_components=100)\n",
    "pca1.fit(X_train1)\n",
    "PX_train1 = pca1.transform(X_train1)\n",
    "SLR1 = Model_2\n",
    "SLR1.fit(PX_train1,Y_train1)"
   ]
  },
  {
   "cell_type": "code",
   "execution_count": 17,
   "metadata": {},
   "outputs": [],
   "source": [
    "pca2 = PCA(n_components=100)\n",
    "pca2.fit(X_test1)\n",
    "PX_test1 = pca2.transform(X_test1)"
   ]
  },
  {
   "cell_type": "code",
   "execution_count": 18,
   "metadata": {},
   "outputs": [
    {
     "data": {
      "text/plain": [
       "1.8962775047717084"
      ]
     },
     "execution_count": 18,
     "metadata": {},
     "output_type": "execute_result"
    }
   ],
   "source": [
    "MSE(SLR1.predict(PX_test1),Y_test1)"
   ]
  },
  {
   "cell_type": "code",
   "execution_count": 19,
   "metadata": {},
   "outputs": [],
   "source": [
    "result = pd.DataFrame(np.exp(Y_test1))"
   ]
  },
  {
   "cell_type": "code",
   "execution_count": 20,
   "metadata": {},
   "outputs": [],
   "source": [
    "result[\"Predicted_sales\"] = np.exp(SLR1.predict(PX_test1))"
   ]
  },
  {
   "cell_type": "code",
   "execution_count": 21,
   "metadata": {},
   "outputs": [
    {
     "data": {
      "text/plain": [
       "1105.7870989462353"
      ]
     },
     "execution_count": 21,
     "metadata": {},
     "output_type": "execute_result"
    }
   ],
   "source": [
    "MSE(result[\"sales\"],result[\"Predicted_sales\"])"
   ]
  },
  {
   "cell_type": "markdown",
   "metadata": {},
   "source": [
    "# 5.1 Model using original sales data"
   ]
  },
  {
   "cell_type": "code",
   "execution_count": 22,
   "metadata": {},
   "outputs": [],
   "source": [
    "Model_3 = Ridge(alpha=best_alpha)"
   ]
  },
  {
   "cell_type": "code",
   "execution_count": 23,
   "metadata": {},
   "outputs": [],
   "source": [
    "OY_train = pd.read_csv(\"A_sales_train.csv\",index_col=0)"
   ]
  },
  {
   "cell_type": "code",
   "execution_count": 24,
   "metadata": {},
   "outputs": [],
   "source": [
    "X_train2,X_test2,Y_train2,Y_test2 = train_test_split(X_train,OY_train,test_size=0.2,random_state=132)"
   ]
  },
  {
   "cell_type": "code",
   "execution_count": 25,
   "metadata": {},
   "outputs": [
    {
     "data": {
      "text/plain": [
       "Ridge(alpha=1000)"
      ]
     },
     "execution_count": 25,
     "metadata": {},
     "output_type": "execute_result"
    }
   ],
   "source": [
    "pca3 = PCA(n_components=100)\n",
    "pca3.fit(X_train2)\n",
    "PX_train2 = pca3.transform(X_train2)\n",
    "SLR2 = Model_3\n",
    "SLR2.fit(PX_train2,Y_train2)"
   ]
  },
  {
   "cell_type": "code",
   "execution_count": 26,
   "metadata": {},
   "outputs": [],
   "source": [
    "pca4 = PCA(n_components=100)\n",
    "pca4.fit(X_test2)\n",
    "PX_test2 = pca4.transform(X_test2)"
   ]
  },
  {
   "cell_type": "code",
   "execution_count": 27,
   "metadata": {},
   "outputs": [
    {
     "data": {
      "text/plain": [
       "1566.1555942663022"
      ]
     },
     "execution_count": 27,
     "metadata": {},
     "output_type": "execute_result"
    }
   ],
   "source": [
    "MSE(SLR2.predict(PX_test2),Y_test2)"
   ]
  },
  {
   "cell_type": "markdown",
   "metadata": {},
   "source": [
    "#### Notably model trained on log(Sales) has lower out-of-sample MSE than model with unmodified Sales"
   ]
  },
  {
   "cell_type": "markdown",
   "metadata": {},
   "source": [
    "# 6. Inventory Decision"
   ]
  },
  {
   "cell_type": "code",
   "execution_count": 28,
   "metadata": {},
   "outputs": [],
   "source": [
    "residual = result['sales']-result['Predicted_sales']"
   ]
  },
  {
   "cell_type": "code",
   "execution_count": 29,
   "metadata": {},
   "outputs": [
    {
     "data": {
      "text/plain": [
       "(4, 8)"
      ]
     },
     "execution_count": 29,
     "metadata": {},
     "output_type": "execute_result"
    }
   ],
   "source": [
    "Price=20\n",
    "Cost=12\n",
    "Salvage=8\n",
    "Over=Cost - Salvage\n",
    "Under=Price - Cost\n",
    "Over, Under"
   ]
  },
  {
   "cell_type": "markdown",
   "metadata": {},
   "source": [
    "### QQ plot to explore the distribution of residual"
   ]
  },
  {
   "cell_type": "markdown",
   "metadata": {},
   "source": [
    "#### Normal Distribution"
   ]
  },
  {
   "cell_type": "code",
   "execution_count": 30,
   "metadata": {},
   "outputs": [],
   "source": [
    "import scipy.stats as sct"
   ]
  },
  {
   "cell_type": "code",
   "execution_count": 31,
   "metadata": {},
   "outputs": [
    {
     "data": {
      "image/png": "[encoded data removed]",
      "text/plain": [
       "<Figure size 432x288 with 1 Axes>"
      ]
     },
     "metadata": {
      "needs_background": "light"
     },
     "output_type": "display_data"
    }
   ],
   "source": [
    "import scipy\n",
    "scipy.stats.probplot(residual, dist=\"norm\", plot=plt)\n",
    "plt.show()"
   ]
  },
  {
   "cell_type": "code",
   "execution_count": 32,
   "metadata": {},
   "outputs": [],
   "source": [
    "s = residual.std()\n",
    "opt_dec_N=np.ceil(sct.norm.ppf(Under/(Under+Over))*s + result['Predicted_sales'])"
   ]
  },
  {
   "cell_type": "markdown",
   "metadata": {},
   "source": [
    "#### Exponential Distribution"
   ]
  },
  {
   "cell_type": "code",
   "execution_count": 33,
   "metadata": {},
   "outputs": [
    {
     "data": {
      "image/png": "[encoded data removed]",
      "text/plain": [
       "<Figure size 432x288 with 1 Axes>"
      ]
     },
     "metadata": {
      "needs_background": "light"
     },
     "output_type": "display_data"
    }
   ],
   "source": [
    "scipy.stats.probplot(residual, dist=\"expon\", plot=plt)\n",
    "plt.show()"
   ]
  },
  {
   "cell_type": "code",
   "execution_count": 34,
   "metadata": {},
   "outputs": [],
   "source": [
    "opt_dec_E=np.ceil((-result['Predicted_sales'])*np.log(1-(Under/(Under+Over))))"
   ]
  },
  {
   "cell_type": "markdown",
   "metadata": {},
   "source": [
    "#### Empirical Distribution"
   ]
  },
  {
   "cell_type": "code",
   "execution_count": 35,
   "metadata": {},
   "outputs": [
    {
     "data": {
      "text/plain": [
       "[<matplotlib.lines.Line2D at 0x25ec4517c70>]"
      ]
     },
     "execution_count": 35,
     "metadata": {},
     "output_type": "execute_result"
    },
    {
     "data": {
      "image/png": "[encoded data removed]",
      "text/plain": [
       "<Figure size 432x288 with 1 Axes>"
      ]
     },
     "metadata": {
      "needs_background": "light"
     },
     "output_type": "display_data"
    }
   ],
   "source": [
    "size = residual.shape[0]\n",
    "step=1/size\n",
    "jumps = [step*i for i in range(1,size+1)]\n",
    "Sample = sorted(residual)\n",
    "plt.plot(Sample,jumps)"
   ]
  },
  {
   "cell_type": "code",
   "execution_count": 36,
   "metadata": {},
   "outputs": [
    {
     "data": {
      "image/png": "[encoded data removed]",
      "text/plain": [
       "<Figure size 432x288 with 1 Axes>"
      ]
     },
     "metadata": {
      "needs_background": "light"
     },
     "output_type": "display_data"
    }
   ],
   "source": [
    "plt.hist(Sample)\n",
    "plt.show()"
   ]
  },
  {
   "cell_type": "code",
   "execution_count": 37,
   "metadata": {},
   "outputs": [],
   "source": [
    "def inv(sample,jump,area):\n",
    "    size = len(sample)\n",
    "    i=0\n",
    "    temp=jump[i]\n",
    "    while temp<area:\n",
    "        i+=1\n",
    "        temp=jump[i]\n",
    "        \n",
    "    return sample[i]"
   ]
  },
  {
   "cell_type": "code",
   "execution_count": 38,
   "metadata": {},
   "outputs": [
    {
     "data": {
      "text/plain": [
       "7.534651591997104"
      ]
     },
     "execution_count": 38,
     "metadata": {},
     "output_type": "execute_result"
    }
   ],
   "source": [
    "offset = inv(Sample,jumps,2/3)\n",
    "offset"
   ]
  },
  {
   "cell_type": "code",
   "execution_count": 39,
   "metadata": {},
   "outputs": [],
   "source": [
    "opt_dec_B = np.ceil(result['Predicted_sales']+offset)"
   ]
  },
  {
   "cell_type": "markdown",
   "metadata": {},
   "source": [
    "# 7. Out-of-samples Profit"
   ]
  },
  {
   "cell_type": "code",
   "execution_count": 40,
   "metadata": {},
   "outputs": [
    {
     "data": {
      "text/plain": [
       "82096.0"
      ]
     },
     "execution_count": 40,
     "metadata": {},
     "output_type": "execute_result"
    }
   ],
   "source": [
    "#max profit for test data set\n",
    "max_profit = result['sales'].sum()*(Price-Cost)\n",
    "max_profit"
   ]
  },
  {
   "cell_type": "code",
   "execution_count": 41,
   "metadata": {},
   "outputs": [],
   "source": [
    "def profit(demand,inv):\n",
    "    return (Price-Salvage)*np.minimum(demand,inv)-(Cost-Salvage)*inv"
   ]
  },
  {
   "cell_type": "code",
   "execution_count": 51,
   "metadata": {},
   "outputs": [
    {
     "data": {
      "text/plain": [
       "23512.0"
      ]
     },
     "execution_count": 51,
     "metadata": {},
     "output_type": "execute_result"
    }
   ],
   "source": [
    "#Profit (None)\n",
    "profit_lst = profit(round(result['sales']),round(result['Predicted_sales']))\n",
    "profit_lst.sum()"
   ]
  },
  {
   "cell_type": "code",
   "execution_count": 42,
   "metadata": {},
   "outputs": [
    {
     "data": {
      "text/plain": [
       "24404.0"
      ]
     },
     "execution_count": 42,
     "metadata": {},
     "output_type": "execute_result"
    }
   ],
   "source": [
    "#Profit (Normal)\n",
    "profit_lst_N = profit(result['sales'],opt_dec_N)\n",
    "profit_lst_N.sum()"
   ]
  },
  {
   "cell_type": "code",
   "execution_count": 43,
   "metadata": {},
   "outputs": [
    {
     "data": {
      "text/plain": [
       "23872.0"
      ]
     },
     "execution_count": 43,
     "metadata": {},
     "output_type": "execute_result"
    }
   ],
   "source": [
    "#Profit (Exponential)\n",
    "profit_lst_E = profit(result['sales'],opt_dec_E)\n",
    "profit_lst_E.sum()"
   ]
  },
  {
   "cell_type": "code",
   "execution_count": 44,
   "metadata": {},
   "outputs": [
    {
     "data": {
      "text/plain": [
       "26360.0"
      ]
     },
     "execution_count": 44,
     "metadata": {},
     "output_type": "execute_result"
    }
   ],
   "source": [
    "#Profit (Empirical)\n",
    "profit_lst_B = profit(result['sales'],opt_dec_B)\n",
    "profit_lst_B.sum()"
   ]
  },
  {
   "cell_type": "markdown",
   "metadata": {},
   "source": [
    "# 8. K-Fold Cross Validation"
   ]
  },
  {
   "cell_type": "markdown",
   "metadata": {},
   "source": [
    "### Repeat steps 5,6,7 with 10-fold cross validation"
   ]
  },
  {
   "cell_type": "code",
   "execution_count": 45,
   "metadata": {},
   "outputs": [],
   "source": [
    "Model_4=Ridge(alpha=best_alpha)"
   ]
  },
  {
   "cell_type": "code",
   "execution_count": 53,
   "metadata": {},
   "outputs": [],
   "source": [
    "from sklearn.model_selection import KFold\n",
    "k=10\n",
    "kf = KFold(n_splits=k)\n",
    "X_train_t=X_train.to_numpy()\n",
    "Y_train_t=Y_train.to_numpy()\n",
    "model = []\n",
    "mse_lst = []\n",
    "max_profit_lst = []\n",
    "profit_N_lst = []\n",
    "profit_E_lst = []\n",
    "profit_B_lst = []\n",
    "\n",
    "for train_index,test_index in kf.split(X_train_t):\n",
    "    X_train_K,X_test_K=X_train_t[train_index],X_train_t[test_index]\n",
    "    Y_train_K,Y_test_K=Y_train_t[train_index],Y_train_t[test_index]\n",
    "    \n",
    "    #PCA to transform train data\n",
    "    pca_K1 = PCA(n_components=best_pca,random_state=42)\n",
    "    pca_K1.fit(X_train_K)\n",
    "    PX_train_K = pca_K1.transform(X_train_K)\n",
    "    \n",
    "    #Model\n",
    "    SLR_K = Model_4\n",
    "    SLR_K.fit(PX_train_K,Y_train_K)\n",
    "    \n",
    "    #pca to transform test data\n",
    "    pca_K2 = PCA(n_components=best_pca,random_state=42)\n",
    "    pca_K2.fit(X_test_K)\n",
    "    PX_test_K = pca_K2.transform(X_test_K)\n",
    "    \n",
    "    #MSE\n",
    "    mse_lst.append(MSE(np.exp(SLR_K.predict(PX_test_K)),np.exp(Y_test_K)))\n",
    "    \n",
    "    #Transform log(sale) back to sale\n",
    "    result_K = pd.DataFrame(np.exp(Y_test_K))\n",
    "    result_K[\"Predicted_sales\"] = np.exp(SLR_K.predict(PX_test_K))\n",
    "    \n",
    "    #Obtain residual\n",
    "    residual_K = result_K[0]-result_K['Predicted_sales']\n",
    "    \n",
    "    #Get std for Normal distribution\n",
    "    s_K = residual_K.std()\n",
    "    \n",
    "    #Inventory Decision (Normal)\n",
    "    opt_dec_N_K=np.ceil(sct.norm.ppf(Under/(Under+Over))*s_K + result_K['Predicted_sales'])\n",
    "    #Inventory Decision (Exponential)\n",
    "    opt_dec_E_K=np.ceil((-result_K['Predicted_sales'])*np.log(1-(Under/(Under+Over))))\n",
    "    \n",
    "    #Inventory Decision (Empirical Distribution)\n",
    "    size_K = residual_K.shape[0]\n",
    "    step_K=1/size_K\n",
    "    jumps_K = [step_K*i for i in range(1,size_K+1)]\n",
    "    Sample_K = sorted(residual_K)\n",
    "    offset_K = inv(Sample_K,jumps_K,2/3)\n",
    "    opt_dec_B_K = np.ceil(result_K['Predicted_sales']+offset_K)\n",
    "    \n",
    "    #Out-of_sample profit\n",
    "    profit_lst_B_K = profit(result_K[0],opt_dec_B_K)\n",
    "    profit_B_lst.append(profit_lst_B_K.sum())\n",
    "    \n",
    "    profit_lst_N_K = profit(result_K[0],opt_dec_N_K)\n",
    "    profit_N_lst.append(profit_lst_N_K.sum())\n",
    "    \n",
    "    profit_lst_E_K = profit(result_K[0],opt_dec_E_K)\n",
    "    profit_E_lst.append(profit_lst_E_K.sum())\n",
    "    \n",
    "    max_profit_K = result_K[0].sum()*(Price-Cost)\n",
    "    max_profit_lst.append(max_profit_K)\n",
    "    \n",
    "max_profit_lst = np.array(max_profit_lst)\n",
    "profit_N_lst = np.array(profit_N_lst)\n",
    "profit_E_lst = np.array(profit_E_lst)\n",
    "profit_B_lst = np.array(profit_B_lst)\n",
    "\n",
    "fraction_of_max_N = profit_N_lst/max_profit_lst\n",
    "fraction_of_max_E = profit_E_lst/max_profit_lst\n",
    "fraction_of_max_B = profit_B_lst/max_profit_lst\n",
    "\n",
    "dist_profit = [\"Normal\",\"Exponential\",\"Empirical\",\"Max\"]\n",
    "dist_frac = [\"Normal\",\"Exponential\",\"Empirical\"]\n",
    "col_name = [\"Dataset_\"+str(i) for i in range(1,k+1)]\n",
    "\n",
    "profit_lst = [profit_N_lst,profit_E_lst,profit_B_lst,max_profit_lst]\n",
    "profit_table = pd.DataFrame(profit_lst,index=dist_profit,columns=col_name)\n",
    "profit_table[\"mean_profit\"]=profit_table.mean(axis=1)\n",
    "profit_table[\"std_profit\"]=profit_table.std(ddof=1,axis=1)\n",
    "\n",
    "fraction_lst = [fraction_of_max_N,fraction_of_max_E,fraction_of_max_B]\n",
    "fraction_table = pd.DataFrame(fraction_lst,index=dist_frac,columns=col_name)\n",
    "fraction_table[\"mean_fraction\"]=fraction_table.mean(axis=1)"
   ]
  },
  {
   "cell_type": "code",
   "execution_count": 54,
   "metadata": {
    "scrolled": true
   },
   "outputs": [
    {
     "data": {
      "text/html": [
       "<div>\n",
       "<style scoped>\n",
       "    .dataframe tbody tr th:only-of-type {\n",
       "        vertical-align: middle;\n",
       "    }\n",
       "\n",
       "    .dataframe tbody tr th {\n",
       "        vertical-align: top;\n",
       "    }\n",
       "\n",
       "    .dataframe thead th {\n",
       "        text-align: right;\n",
       "    }\n",
       "</style>\n",
       "<table border=\"1\" class=\"dataframe\">\n",
       "  <thead>\n",
       "    <tr style=\"text-align: right;\">\n",
       "      <th></th>\n",
       "      <th>Dataset_1</th>\n",
       "      <th>Dataset_2</th>\n",
       "      <th>Dataset_3</th>\n",
       "      <th>Dataset_4</th>\n",
       "      <th>Dataset_5</th>\n",
       "      <th>Dataset_6</th>\n",
       "      <th>Dataset_7</th>\n",
       "      <th>Dataset_8</th>\n",
       "      <th>Dataset_9</th>\n",
       "      <th>Dataset_10</th>\n",
       "      <th>mean_fraction</th>\n",
       "    </tr>\n",
       "  </thead>\n",
       "  <tbody>\n",
       "    <tr>\n",
       "      <th>Normal</th>\n",
       "      <td>0.065436</td>\n",
       "      <td>0.277532</td>\n",
       "      <td>-0.153275</td>\n",
       "      <td>0.214764</td>\n",
       "      <td>0.023046</td>\n",
       "      <td>0.184388</td>\n",
       "      <td>-0.246283</td>\n",
       "      <td>0.265568</td>\n",
       "      <td>0.260379</td>\n",
       "      <td>-0.036208</td>\n",
       "      <td>0.085535</td>\n",
       "    </tr>\n",
       "    <tr>\n",
       "      <th>Exponential</th>\n",
       "      <td>0.207230</td>\n",
       "      <td>0.275234</td>\n",
       "      <td>0.010368</td>\n",
       "      <td>0.252275</td>\n",
       "      <td>0.150685</td>\n",
       "      <td>0.217578</td>\n",
       "      <td>0.124898</td>\n",
       "      <td>0.228968</td>\n",
       "      <td>0.253848</td>\n",
       "      <td>0.144353</td>\n",
       "      <td>0.186544</td>\n",
       "    </tr>\n",
       "    <tr>\n",
       "      <th>Empirical</th>\n",
       "      <td>0.245892</td>\n",
       "      <td>0.315627</td>\n",
       "      <td>0.078452</td>\n",
       "      <td>0.286266</td>\n",
       "      <td>0.179210</td>\n",
       "      <td>0.276890</td>\n",
       "      <td>0.169172</td>\n",
       "      <td>0.277797</td>\n",
       "      <td>0.292949</td>\n",
       "      <td>0.184595</td>\n",
       "      <td>0.230685</td>\n",
       "    </tr>\n",
       "  </tbody>\n",
       "</table>\n",
       "</div>"
      ],
      "text/plain": [
       "             Dataset_1  Dataset_2  Dataset_3  Dataset_4  Dataset_5  Dataset_6  \\\n",
       "Normal        0.065436   0.277532  -0.153275   0.214764   0.023046   0.184388   \n",
       "Exponential   0.207230   0.275234   0.010368   0.252275   0.150685   0.217578   \n",
       "Empirical     0.245892   0.315627   0.078452   0.286266   0.179210   0.276890   \n",
       "\n",
       "             Dataset_7  Dataset_8  Dataset_9  Dataset_10  mean_fraction  \n",
       "Normal       -0.246283   0.265568   0.260379   -0.036208       0.085535  \n",
       "Exponential   0.124898   0.228968   0.253848    0.144353       0.186544  \n",
       "Empirical     0.169172   0.277797   0.292949    0.184595       0.230685  "
      ]
     },
     "execution_count": 54,
     "metadata": {},
     "output_type": "execute_result"
    }
   ],
   "source": [
    "fraction_table"
   ]
  },
  {
   "cell_type": "code",
   "execution_count": 55,
   "metadata": {
    "scrolled": true
   },
   "outputs": [
    {
     "data": {
      "text/html": [
       "<div>\n",
       "<style scoped>\n",
       "    .dataframe tbody tr th:only-of-type {\n",
       "        vertical-align: middle;\n",
       "    }\n",
       "\n",
       "    .dataframe tbody tr th {\n",
       "        vertical-align: top;\n",
       "    }\n",
       "\n",
       "    .dataframe thead th {\n",
       "        text-align: right;\n",
       "    }\n",
       "</style>\n",
       "<table border=\"1\" class=\"dataframe\">\n",
       "  <thead>\n",
       "    <tr style=\"text-align: right;\">\n",
       "      <th></th>\n",
       "      <th>Dataset_1</th>\n",
       "      <th>Dataset_2</th>\n",
       "      <th>Dataset_3</th>\n",
       "      <th>Dataset_4</th>\n",
       "      <th>Dataset_5</th>\n",
       "      <th>Dataset_6</th>\n",
       "      <th>Dataset_7</th>\n",
       "      <th>Dataset_8</th>\n",
       "      <th>Dataset_9</th>\n",
       "      <th>Dataset_10</th>\n",
       "      <th>mean_profit</th>\n",
       "      <th>std_profit</th>\n",
       "    </tr>\n",
       "  </thead>\n",
       "  <tbody>\n",
       "    <tr>\n",
       "      <th>Normal</th>\n",
       "      <td>2708.0</td>\n",
       "      <td>12560.0</td>\n",
       "      <td>-7096.0</td>\n",
       "      <td>10008.0</td>\n",
       "      <td>1144.0</td>\n",
       "      <td>7200.0</td>\n",
       "      <td>-12060.0</td>\n",
       "      <td>12248.0</td>\n",
       "      <td>11640.0</td>\n",
       "      <td>-1508.0</td>\n",
       "      <td>3684.4</td>\n",
       "      <td>8162.239977</td>\n",
       "    </tr>\n",
       "    <tr>\n",
       "      <th>Exponential</th>\n",
       "      <td>8576.0</td>\n",
       "      <td>12456.0</td>\n",
       "      <td>480.0</td>\n",
       "      <td>11756.0</td>\n",
       "      <td>7480.0</td>\n",
       "      <td>8496.0</td>\n",
       "      <td>6116.0</td>\n",
       "      <td>10560.0</td>\n",
       "      <td>11348.0</td>\n",
       "      <td>6012.0</td>\n",
       "      <td>8328.0</td>\n",
       "      <td>3399.272393</td>\n",
       "    </tr>\n",
       "    <tr>\n",
       "      <th>Empirical</th>\n",
       "      <td>10176.0</td>\n",
       "      <td>14284.0</td>\n",
       "      <td>3632.0</td>\n",
       "      <td>13340.0</td>\n",
       "      <td>8896.0</td>\n",
       "      <td>10812.0</td>\n",
       "      <td>8284.0</td>\n",
       "      <td>12812.0</td>\n",
       "      <td>13096.0</td>\n",
       "      <td>7688.0</td>\n",
       "      <td>10302.0</td>\n",
       "      <td>3111.901926</td>\n",
       "    </tr>\n",
       "    <tr>\n",
       "      <th>Max</th>\n",
       "      <td>41384.0</td>\n",
       "      <td>45256.0</td>\n",
       "      <td>46296.0</td>\n",
       "      <td>46600.0</td>\n",
       "      <td>49640.0</td>\n",
       "      <td>39048.0</td>\n",
       "      <td>48968.0</td>\n",
       "      <td>46120.0</td>\n",
       "      <td>44704.0</td>\n",
       "      <td>41648.0</td>\n",
       "      <td>44966.4</td>\n",
       "      <td>3203.875254</td>\n",
       "    </tr>\n",
       "  </tbody>\n",
       "</table>\n",
       "</div>"
      ],
      "text/plain": [
       "             Dataset_1  Dataset_2  Dataset_3  Dataset_4  Dataset_5  Dataset_6  \\\n",
       "Normal          2708.0    12560.0    -7096.0    10008.0     1144.0     7200.0   \n",
       "Exponential     8576.0    12456.0      480.0    11756.0     7480.0     8496.0   \n",
       "Empirical      10176.0    14284.0     3632.0    13340.0     8896.0    10812.0   \n",
       "Max            41384.0    45256.0    46296.0    46600.0    49640.0    39048.0   \n",
       "\n",
       "             Dataset_7  Dataset_8  Dataset_9  Dataset_10  mean_profit  \\\n",
       "Normal        -12060.0    12248.0    11640.0     -1508.0       3684.4   \n",
       "Exponential     6116.0    10560.0    11348.0      6012.0       8328.0   \n",
       "Empirical       8284.0    12812.0    13096.0      7688.0      10302.0   \n",
       "Max            48968.0    46120.0    44704.0     41648.0      44966.4   \n",
       "\n",
       "              std_profit  \n",
       "Normal       8162.239977  \n",
       "Exponential  3399.272393  \n",
       "Empirical    3111.901926  \n",
       "Max          3203.875254  "
      ]
     },
     "execution_count": 55,
     "metadata": {},
     "output_type": "execute_result"
    }
   ],
   "source": [
    "profit_table"
   ]
  },
  {
   "cell_type": "code",
   "execution_count": 56,
   "metadata": {
    "scrolled": true
   },
   "outputs": [
    {
     "data": {
      "text/html": [
       "<div>\n",
       "<style scoped>\n",
       "    .dataframe tbody tr th:only-of-type {\n",
       "        vertical-align: middle;\n",
       "    }\n",
       "\n",
       "    .dataframe tbody tr th {\n",
       "        vertical-align: top;\n",
       "    }\n",
       "\n",
       "    .dataframe thead th {\n",
       "        text-align: right;\n",
       "    }\n",
       "</style>\n",
       "<table border=\"1\" class=\"dataframe\">\n",
       "  <thead>\n",
       "    <tr style=\"text-align: right;\">\n",
       "      <th></th>\n",
       "      <th>Cross Validation MSE</th>\n",
       "    </tr>\n",
       "  </thead>\n",
       "  <tbody>\n",
       "    <tr>\n",
       "      <th>Dataset_1</th>\n",
       "      <td>4979.859240</td>\n",
       "    </tr>\n",
       "    <tr>\n",
       "      <th>Dataset_2</th>\n",
       "      <td>1604.725400</td>\n",
       "    </tr>\n",
       "    <tr>\n",
       "      <th>Dataset_3</th>\n",
       "      <td>7872.775062</td>\n",
       "    </tr>\n",
       "    <tr>\n",
       "      <th>Dataset_4</th>\n",
       "      <td>2752.592892</td>\n",
       "    </tr>\n",
       "    <tr>\n",
       "      <th>Dataset_5</th>\n",
       "      <td>4889.767666</td>\n",
       "    </tr>\n",
       "    <tr>\n",
       "      <th>Dataset_6</th>\n",
       "      <td>2475.997624</td>\n",
       "    </tr>\n",
       "    <tr>\n",
       "      <th>Dataset_7</th>\n",
       "      <td>13327.934491</td>\n",
       "    </tr>\n",
       "    <tr>\n",
       "      <th>Dataset_8</th>\n",
       "      <td>1479.917374</td>\n",
       "    </tr>\n",
       "    <tr>\n",
       "      <th>Dataset_9</th>\n",
       "      <td>1755.713457</td>\n",
       "    </tr>\n",
       "    <tr>\n",
       "      <th>Dataset_10</th>\n",
       "      <td>5186.958477</td>\n",
       "    </tr>\n",
       "  </tbody>\n",
       "</table>\n",
       "</div>"
      ],
      "text/plain": [
       "            Cross Validation MSE\n",
       "Dataset_1            4979.859240\n",
       "Dataset_2            1604.725400\n",
       "Dataset_3            7872.775062\n",
       "Dataset_4            2752.592892\n",
       "Dataset_5            4889.767666\n",
       "Dataset_6            2475.997624\n",
       "Dataset_7           13327.934491\n",
       "Dataset_8            1479.917374\n",
       "Dataset_9            1755.713457\n",
       "Dataset_10           5186.958477"
      ]
     },
     "execution_count": 56,
     "metadata": {},
     "output_type": "execute_result"
    }
   ],
   "source": [
    "mse_table = pd.DataFrame(mse_lst,index=col_name,columns=['Cross Validation MSE'])\n",
    "mse_table"
   ]
  },
  {
   "cell_type": "code",
   "execution_count": 57,
   "metadata": {},
   "outputs": [
    {
     "name": "stdout",
     "output_type": "stream",
     "text": [
      "Average 10 fold CV MSE:  4632.6241682192685\n"
     ]
    }
   ],
   "source": [
    "print(f\"Average 10 fold CV MSE:  {float(mse_table.mean())}\")"
   ]
  },
  {
   "cell_type": "code",
   "execution_count": 58,
   "metadata": {},
   "outputs": [],
   "source": [
    "name = \"2.3_Lin_reg_ridge.csv\"\n",
    "mse_table.to_csv(f\".\\\\Model_CV_Result_MSE\\\\{name}\")"
   ]
  },
  {
   "cell_type": "code",
   "execution_count": 59,
   "metadata": {},
   "outputs": [],
   "source": [
    "f = pd.DataFrame(fraction_table['mean_fraction'])\n",
    "f = f.transpose().reset_index()\n",
    "f.to_csv(f\".\\\\Model_CV_Result_Efficiency\\\\{name}\")"
   ]
  },
  {
   "cell_type": "code",
   "execution_count": null,
   "metadata": {},
   "outputs": [],
   "source": []
  }
 ],
 "metadata": {
  "kernelspec": {
   "display_name": "Python 3",
   "language": "python",
   "name": "python3"
  },
  "language_info": {
   "codemirror_mode": {
    "name": "ipython",
    "version": 3
   },
   "file_extension": ".py",
   "mimetype": "text/x-python",
   "name": "python",
   "nbconvert_exporter": "python",
   "pygments_lexer": "ipython3",
   "version": "3.8.5"
  }
 },
 "nbformat": 4,
 "nbformat_minor": 4
}
