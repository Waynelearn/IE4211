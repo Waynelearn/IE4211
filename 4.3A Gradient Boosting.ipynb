{
 "cells": [
  {
   "cell_type": "code",
   "execution_count": 1,
   "metadata": {},
   "outputs": [],
   "source": [
    "import pandas as pd\n",
    "import numpy as np\n",
    "import matplotlib.pyplot as plt\n",
    "from sklearn.pipeline import Pipeline\n",
    "from sklearn.model_selection import GridSearchCV\n",
    "from sklearn.decomposition import PCA\n",
    "from sklearn.metrics import mean_squared_error as MSE\n",
    "from sklearn.linear_model import LinearRegression\n",
    "from sklearn.preprocessing import PolynomialFeatures\n",
    "from sklearn.model_selection import train_test_split\n",
    "from sklearn.linear_model import Lasso\n",
    "from sklearn.neighbors import KNeighborsRegressor\n",
    "from sklearn.tree import DecisionTreeRegressor\n",
    "from sklearn.ensemble import RandomForestRegressor\n",
    "from sklearn.ensemble import GradientBoostingRegressor"
   ]
  },
  {
   "cell_type": "markdown",
   "metadata": {},
   "source": [
    "# 1. Import the train datasets"
   ]
  },
  {
   "cell_type": "code",
   "execution_count": 2,
   "metadata": {},
   "outputs": [],
   "source": [
    "X_train = pd.read_csv(\"A_Normalised_train_data.csv\",index_col=0)\n",
    "Y_train = pd.read_csv(\"A_Log_sales_train.csv\",index_col=0)"
   ]
  },
  {
   "cell_type": "code",
   "execution_count": 3,
   "metadata": {},
   "outputs": [],
   "source": [
    "Model_1 = GradientBoostingRegressor()"
   ]
  },
  {
   "cell_type": "markdown",
   "metadata": {},
   "source": [
    "# 2. Setup Pipeline"
   ]
  },
  {
   "cell_type": "code",
   "execution_count": 4,
   "metadata": {},
   "outputs": [],
   "source": [
    "pca=PCA()\n",
    "RG = Model_1"
   ]
  },
  {
   "cell_type": "code",
   "execution_count": 5,
   "metadata": {},
   "outputs": [],
   "source": [
    "# Step 1: PCA\n",
    "# Step 2: Model\n",
    "pipe = Pipeline(steps=[(\"pca\",pca),(\"RG\",RG)])"
   ]
  },
  {
   "cell_type": "code",
   "execution_count": 6,
   "metadata": {},
   "outputs": [],
   "source": [
    "param_grid = {\n",
    "    \"pca__n_components\": [50, 100,170],\n",
    "    \"RG__learning_rate\":[0.005,0.1,0.5,1,10],\n",
    "    \"RG__n_estimators\":[10,100],\n",
    "    \"RG__min_samples_split\":[0.01*i for i in range(1,3)],\n",
    "    \"RG__ccp_alpha\":[0.005,0.1,0.5,10]\n",
    "    \n",
    "}"
   ]
  },
  {
   "cell_type": "markdown",
   "metadata": {},
   "source": [
    "# 3. Setup GridSearch"
   ]
  },
  {
   "cell_type": "code",
   "execution_count": 7,
   "metadata": {},
   "outputs": [],
   "source": [
    "score_metric = 'neg_mean_squared_error'\n",
    "search = GridSearchCV(pipe,param_grid,\n",
    "                      n_jobs=-1,\n",
    "                      cv=10,\n",
    "                      scoring=score_metric)"
   ]
  },
  {
   "cell_type": "code",
   "execution_count": 8,
   "metadata": {},
   "outputs": [
    {
     "name": "stderr",
     "output_type": "stream",
     "text": [
      "C:\\Users\\Wayne Linn\\anaconda3\\lib\\site-packages\\sklearn\\model_selection\\_search.py:813: RuntimeWarning: overflow encountered in square\n",
      "  array_stds = np.sqrt(np.average((array -\n"
     ]
    },
    {
     "data": {
      "text/plain": [
       "GridSearchCV(cv=10,\n",
       "             estimator=Pipeline(steps=[('pca', PCA()),\n",
       "                                       ('RG', GradientBoostingRegressor())]),\n",
       "             n_jobs=-1,\n",
       "             param_grid={'RG__ccp_alpha': [0.005, 0.1, 0.5, 10],\n",
       "                         'RG__learning_rate': [0.005, 0.1, 0.5, 1, 10],\n",
       "                         'RG__min_samples_split': [0.01, 0.02],\n",
       "                         'RG__n_estimators': [10, 100],\n",
       "                         'pca__n_components': [50, 100, 170]},\n",
       "             scoring='neg_mean_squared_error')"
      ]
     },
     "execution_count": 8,
     "metadata": {},
     "output_type": "execute_result"
    }
   ],
   "source": [
    "search.fit(X_train,Y_train.values.ravel())"
   ]
  },
  {
   "cell_type": "code",
   "execution_count": 9,
   "metadata": {},
   "outputs": [
    {
     "name": "stdout",
     "output_type": "stream",
     "text": [
      "Best parameter (CV score=-0.578):\n",
      "{'RG__ccp_alpha': 0.005, 'RG__learning_rate': 0.1, 'RG__min_samples_split': 0.02, 'RG__n_estimators': 100, 'pca__n_components': 170}\n"
     ]
    }
   ],
   "source": [
    "print(\"Best parameter (CV score=%0.3f):\" % search.best_score_)\n",
    "print(search.best_params_)"
   ]
  },
  {
   "cell_type": "code",
   "execution_count": 10,
   "metadata": {},
   "outputs": [
    {
     "data": {
      "text/html": [
       "<div>\n",
       "<style scoped>\n",
       "    .dataframe tbody tr th:only-of-type {\n",
       "        vertical-align: middle;\n",
       "    }\n",
       "\n",
       "    .dataframe tbody tr th {\n",
       "        vertical-align: top;\n",
       "    }\n",
       "\n",
       "    .dataframe thead th {\n",
       "        text-align: right;\n",
       "    }\n",
       "</style>\n",
       "<table border=\"1\" class=\"dataframe\">\n",
       "  <thead>\n",
       "    <tr style=\"text-align: right;\">\n",
       "      <th></th>\n",
       "      <th>mean_fit_time</th>\n",
       "      <th>std_fit_time</th>\n",
       "      <th>mean_score_time</th>\n",
       "      <th>std_score_time</th>\n",
       "      <th>param_RG__ccp_alpha</th>\n",
       "      <th>param_RG__learning_rate</th>\n",
       "      <th>param_RG__min_samples_split</th>\n",
       "      <th>param_RG__n_estimators</th>\n",
       "      <th>param_pca__n_components</th>\n",
       "      <th>params</th>\n",
       "      <th>...</th>\n",
       "      <th>split3_test_score</th>\n",
       "      <th>split4_test_score</th>\n",
       "      <th>split5_test_score</th>\n",
       "      <th>split6_test_score</th>\n",
       "      <th>split7_test_score</th>\n",
       "      <th>split8_test_score</th>\n",
       "      <th>split9_test_score</th>\n",
       "      <th>mean_test_score</th>\n",
       "      <th>std_test_score</th>\n",
       "      <th>rank_test_score</th>\n",
       "    </tr>\n",
       "  </thead>\n",
       "  <tbody>\n",
       "    <tr>\n",
       "      <th>23</th>\n",
       "      <td>32.838930</td>\n",
       "      <td>11.272086</td>\n",
       "      <td>0.004055</td>\n",
       "      <td>0.004916</td>\n",
       "      <td>0.005</td>\n",
       "      <td>0.1</td>\n",
       "      <td>0.02</td>\n",
       "      <td>100</td>\n",
       "      <td>170</td>\n",
       "      <td>{'RG__ccp_alpha': 0.005, 'RG__learning_rate': ...</td>\n",
       "      <td>...</td>\n",
       "      <td>-6.442861e-01</td>\n",
       "      <td>-7.253619e-01</td>\n",
       "      <td>-5.258316e-01</td>\n",
       "      <td>-5.466793e-01</td>\n",
       "      <td>-5.884618e-01</td>\n",
       "      <td>-6.182906e-01</td>\n",
       "      <td>-5.587304e-01</td>\n",
       "      <td>-5.781264e-01</td>\n",
       "      <td>0.064420</td>\n",
       "      <td>1</td>\n",
       "    </tr>\n",
       "    <tr>\n",
       "      <th>17</th>\n",
       "      <td>20.248411</td>\n",
       "      <td>9.825623</td>\n",
       "      <td>0.005094</td>\n",
       "      <td>0.001112</td>\n",
       "      <td>0.005</td>\n",
       "      <td>0.1</td>\n",
       "      <td>0.01</td>\n",
       "      <td>100</td>\n",
       "      <td>170</td>\n",
       "      <td>{'RG__ccp_alpha': 0.005, 'RG__learning_rate': ...</td>\n",
       "      <td>...</td>\n",
       "      <td>-6.265085e-01</td>\n",
       "      <td>-7.023806e-01</td>\n",
       "      <td>-5.299855e-01</td>\n",
       "      <td>-5.711054e-01</td>\n",
       "      <td>-5.915841e-01</td>\n",
       "      <td>-6.306886e-01</td>\n",
       "      <td>-5.587304e-01</td>\n",
       "      <td>-5.784606e-01</td>\n",
       "      <td>0.057523</td>\n",
       "      <td>2</td>\n",
       "    </tr>\n",
       "    <tr>\n",
       "      <th>35</th>\n",
       "      <td>31.518975</td>\n",
       "      <td>13.782922</td>\n",
       "      <td>0.017815</td>\n",
       "      <td>0.036823</td>\n",
       "      <td>0.005</td>\n",
       "      <td>0.5</td>\n",
       "      <td>0.02</td>\n",
       "      <td>100</td>\n",
       "      <td>170</td>\n",
       "      <td>{'RG__ccp_alpha': 0.005, 'RG__learning_rate': ...</td>\n",
       "      <td>...</td>\n",
       "      <td>-6.570530e-01</td>\n",
       "      <td>-6.780748e-01</td>\n",
       "      <td>-6.151243e-01</td>\n",
       "      <td>-6.176926e-01</td>\n",
       "      <td>-5.868158e-01</td>\n",
       "      <td>-6.337365e-01</td>\n",
       "      <td>-5.738809e-01</td>\n",
       "      <td>-6.037991e-01</td>\n",
       "      <td>0.047858</td>\n",
       "      <td>3</td>\n",
       "    </tr>\n",
       "    <tr>\n",
       "      <th>29</th>\n",
       "      <td>30.912638</td>\n",
       "      <td>13.819619</td>\n",
       "      <td>0.005255</td>\n",
       "      <td>0.004478</td>\n",
       "      <td>0.005</td>\n",
       "      <td>0.5</td>\n",
       "      <td>0.01</td>\n",
       "      <td>100</td>\n",
       "      <td>170</td>\n",
       "      <td>{'RG__ccp_alpha': 0.005, 'RG__learning_rate': ...</td>\n",
       "      <td>...</td>\n",
       "      <td>-6.647896e-01</td>\n",
       "      <td>-6.895471e-01</td>\n",
       "      <td>-6.151243e-01</td>\n",
       "      <td>-6.359851e-01</td>\n",
       "      <td>-5.868158e-01</td>\n",
       "      <td>-6.075515e-01</td>\n",
       "      <td>-5.738809e-01</td>\n",
       "      <td>-6.066983e-01</td>\n",
       "      <td>0.048673</td>\n",
       "      <td>4</td>\n",
       "    </tr>\n",
       "    <tr>\n",
       "      <th>32</th>\n",
       "      <td>3.171074</td>\n",
       "      <td>2.461424</td>\n",
       "      <td>0.025389</td>\n",
       "      <td>0.053478</td>\n",
       "      <td>0.005</td>\n",
       "      <td>0.5</td>\n",
       "      <td>0.02</td>\n",
       "      <td>10</td>\n",
       "      <td>170</td>\n",
       "      <td>{'RG__ccp_alpha': 0.005, 'RG__learning_rate': ...</td>\n",
       "      <td>...</td>\n",
       "      <td>-6.805843e-01</td>\n",
       "      <td>-7.186526e-01</td>\n",
       "      <td>-6.256506e-01</td>\n",
       "      <td>-6.582441e-01</td>\n",
       "      <td>-6.295800e-01</td>\n",
       "      <td>-6.856727e-01</td>\n",
       "      <td>-6.041580e-01</td>\n",
       "      <td>-6.408706e-01</td>\n",
       "      <td>0.047858</td>\n",
       "      <td>5</td>\n",
       "    </tr>\n",
       "    <tr>\n",
       "      <th>...</th>\n",
       "      <td>...</td>\n",
       "      <td>...</td>\n",
       "      <td>...</td>\n",
       "      <td>...</td>\n",
       "      <td>...</td>\n",
       "      <td>...</td>\n",
       "      <td>...</td>\n",
       "      <td>...</td>\n",
       "      <td>...</td>\n",
       "      <td>...</td>\n",
       "      <td>...</td>\n",
       "      <td>...</td>\n",
       "      <td>...</td>\n",
       "      <td>...</td>\n",
       "      <td>...</td>\n",
       "      <td>...</td>\n",
       "      <td>...</td>\n",
       "      <td>...</td>\n",
       "      <td>...</td>\n",
       "      <td>...</td>\n",
       "      <td>...</td>\n",
       "    </tr>\n",
       "    <tr>\n",
       "      <th>58</th>\n",
       "      <td>23.957444</td>\n",
       "      <td>8.310355</td>\n",
       "      <td>0.005784</td>\n",
       "      <td>0.006770</td>\n",
       "      <td>0.005</td>\n",
       "      <td>10</td>\n",
       "      <td>0.02</td>\n",
       "      <td>100</td>\n",
       "      <td>100</td>\n",
       "      <td>{'RG__ccp_alpha': 0.005, 'RG__learning_rate': ...</td>\n",
       "      <td>...</td>\n",
       "      <td>-2.460717e+190</td>\n",
       "      <td>-2.574029e+190</td>\n",
       "      <td>-2.379689e+190</td>\n",
       "      <td>-2.295930e+190</td>\n",
       "      <td>-3.001299e+190</td>\n",
       "      <td>-2.638572e+190</td>\n",
       "      <td>-2.657070e+190</td>\n",
       "      <td>-2.588669e+190</td>\n",
       "      <td>inf</td>\n",
       "      <td>236</td>\n",
       "    </tr>\n",
       "    <tr>\n",
       "      <th>51</th>\n",
       "      <td>6.890482</td>\n",
       "      <td>2.322624</td>\n",
       "      <td>0.005286</td>\n",
       "      <td>0.000457</td>\n",
       "      <td>0.005</td>\n",
       "      <td>10</td>\n",
       "      <td>0.01</td>\n",
       "      <td>100</td>\n",
       "      <td>50</td>\n",
       "      <td>{'RG__ccp_alpha': 0.005, 'RG__learning_rate': ...</td>\n",
       "      <td>...</td>\n",
       "      <td>-2.638797e+190</td>\n",
       "      <td>-2.430456e+190</td>\n",
       "      <td>-2.432697e+190</td>\n",
       "      <td>-2.477434e+190</td>\n",
       "      <td>-2.995719e+190</td>\n",
       "      <td>-2.443834e+190</td>\n",
       "      <td>-2.718110e+190</td>\n",
       "      <td>-2.601041e+190</td>\n",
       "      <td>inf</td>\n",
       "      <td>237</td>\n",
       "    </tr>\n",
       "    <tr>\n",
       "      <th>52</th>\n",
       "      <td>20.690993</td>\n",
       "      <td>7.185734</td>\n",
       "      <td>0.016756</td>\n",
       "      <td>0.033646</td>\n",
       "      <td>0.005</td>\n",
       "      <td>10</td>\n",
       "      <td>0.01</td>\n",
       "      <td>100</td>\n",
       "      <td>100</td>\n",
       "      <td>{'RG__ccp_alpha': 0.005, 'RG__learning_rate': ...</td>\n",
       "      <td>...</td>\n",
       "      <td>-2.395819e+190</td>\n",
       "      <td>-2.805146e+190</td>\n",
       "      <td>-2.694835e+190</td>\n",
       "      <td>-2.319135e+190</td>\n",
       "      <td>-3.020694e+190</td>\n",
       "      <td>-2.663425e+190</td>\n",
       "      <td>-2.635336e+190</td>\n",
       "      <td>-2.643484e+190</td>\n",
       "      <td>inf</td>\n",
       "      <td>238</td>\n",
       "    </tr>\n",
       "    <tr>\n",
       "      <th>53</th>\n",
       "      <td>24.551361</td>\n",
       "      <td>8.242736</td>\n",
       "      <td>0.017852</td>\n",
       "      <td>0.034497</td>\n",
       "      <td>0.005</td>\n",
       "      <td>10</td>\n",
       "      <td>0.01</td>\n",
       "      <td>100</td>\n",
       "      <td>170</td>\n",
       "      <td>{'RG__ccp_alpha': 0.005, 'RG__learning_rate': ...</td>\n",
       "      <td>...</td>\n",
       "      <td>-3.184582e+190</td>\n",
       "      <td>-2.775623e+190</td>\n",
       "      <td>-2.843295e+190</td>\n",
       "      <td>-2.911023e+190</td>\n",
       "      <td>-3.102960e+190</td>\n",
       "      <td>-2.755597e+190</td>\n",
       "      <td>-2.975939e+190</td>\n",
       "      <td>-2.855767e+190</td>\n",
       "      <td>inf</td>\n",
       "      <td>239</td>\n",
       "    </tr>\n",
       "    <tr>\n",
       "      <th>59</th>\n",
       "      <td>18.417373</td>\n",
       "      <td>6.539792</td>\n",
       "      <td>0.021096</td>\n",
       "      <td>0.051567</td>\n",
       "      <td>0.005</td>\n",
       "      <td>10</td>\n",
       "      <td>0.02</td>\n",
       "      <td>100</td>\n",
       "      <td>170</td>\n",
       "      <td>{'RG__ccp_alpha': 0.005, 'RG__learning_rate': ...</td>\n",
       "      <td>...</td>\n",
       "      <td>-3.184582e+190</td>\n",
       "      <td>-2.775623e+190</td>\n",
       "      <td>-2.843295e+190</td>\n",
       "      <td>-2.911023e+190</td>\n",
       "      <td>-3.102960e+190</td>\n",
       "      <td>-2.755597e+190</td>\n",
       "      <td>-2.975939e+190</td>\n",
       "      <td>-2.855767e+190</td>\n",
       "      <td>inf</td>\n",
       "      <td>240</td>\n",
       "    </tr>\n",
       "  </tbody>\n",
       "</table>\n",
       "<p>240 rows × 23 columns</p>\n",
       "</div>"
      ],
      "text/plain": [
       "    mean_fit_time  std_fit_time  mean_score_time  std_score_time  \\\n",
       "23      32.838930     11.272086         0.004055        0.004916   \n",
       "17      20.248411      9.825623         0.005094        0.001112   \n",
       "35      31.518975     13.782922         0.017815        0.036823   \n",
       "29      30.912638     13.819619         0.005255        0.004478   \n",
       "32       3.171074      2.461424         0.025389        0.053478   \n",
       "..            ...           ...              ...             ...   \n",
       "58      23.957444      8.310355         0.005784        0.006770   \n",
       "51       6.890482      2.322624         0.005286        0.000457   \n",
       "52      20.690993      7.185734         0.016756        0.033646   \n",
       "53      24.551361      8.242736         0.017852        0.034497   \n",
       "59      18.417373      6.539792         0.021096        0.051567   \n",
       "\n",
       "   param_RG__ccp_alpha param_RG__learning_rate param_RG__min_samples_split  \\\n",
       "23               0.005                     0.1                        0.02   \n",
       "17               0.005                     0.1                        0.01   \n",
       "35               0.005                     0.5                        0.02   \n",
       "29               0.005                     0.5                        0.01   \n",
       "32               0.005                     0.5                        0.02   \n",
       "..                 ...                     ...                         ...   \n",
       "58               0.005                      10                        0.02   \n",
       "51               0.005                      10                        0.01   \n",
       "52               0.005                      10                        0.01   \n",
       "53               0.005                      10                        0.01   \n",
       "59               0.005                      10                        0.02   \n",
       "\n",
       "   param_RG__n_estimators param_pca__n_components  \\\n",
       "23                    100                     170   \n",
       "17                    100                     170   \n",
       "35                    100                     170   \n",
       "29                    100                     170   \n",
       "32                     10                     170   \n",
       "..                    ...                     ...   \n",
       "58                    100                     100   \n",
       "51                    100                      50   \n",
       "52                    100                     100   \n",
       "53                    100                     170   \n",
       "59                    100                     170   \n",
       "\n",
       "                                               params  ...  split3_test_score  \\\n",
       "23  {'RG__ccp_alpha': 0.005, 'RG__learning_rate': ...  ...      -6.442861e-01   \n",
       "17  {'RG__ccp_alpha': 0.005, 'RG__learning_rate': ...  ...      -6.265085e-01   \n",
       "35  {'RG__ccp_alpha': 0.005, 'RG__learning_rate': ...  ...      -6.570530e-01   \n",
       "29  {'RG__ccp_alpha': 0.005, 'RG__learning_rate': ...  ...      -6.647896e-01   \n",
       "32  {'RG__ccp_alpha': 0.005, 'RG__learning_rate': ...  ...      -6.805843e-01   \n",
       "..                                                ...  ...                ...   \n",
       "58  {'RG__ccp_alpha': 0.005, 'RG__learning_rate': ...  ...     -2.460717e+190   \n",
       "51  {'RG__ccp_alpha': 0.005, 'RG__learning_rate': ...  ...     -2.638797e+190   \n",
       "52  {'RG__ccp_alpha': 0.005, 'RG__learning_rate': ...  ...     -2.395819e+190   \n",
       "53  {'RG__ccp_alpha': 0.005, 'RG__learning_rate': ...  ...     -3.184582e+190   \n",
       "59  {'RG__ccp_alpha': 0.005, 'RG__learning_rate': ...  ...     -3.184582e+190   \n",
       "\n",
       "    split4_test_score  split5_test_score  split6_test_score  \\\n",
       "23      -7.253619e-01      -5.258316e-01      -5.466793e-01   \n",
       "17      -7.023806e-01      -5.299855e-01      -5.711054e-01   \n",
       "35      -6.780748e-01      -6.151243e-01      -6.176926e-01   \n",
       "29      -6.895471e-01      -6.151243e-01      -6.359851e-01   \n",
       "32      -7.186526e-01      -6.256506e-01      -6.582441e-01   \n",
       "..                ...                ...                ...   \n",
       "58     -2.574029e+190     -2.379689e+190     -2.295930e+190   \n",
       "51     -2.430456e+190     -2.432697e+190     -2.477434e+190   \n",
       "52     -2.805146e+190     -2.694835e+190     -2.319135e+190   \n",
       "53     -2.775623e+190     -2.843295e+190     -2.911023e+190   \n",
       "59     -2.775623e+190     -2.843295e+190     -2.911023e+190   \n",
       "\n",
       "    split7_test_score  split8_test_score  split9_test_score  mean_test_score  \\\n",
       "23      -5.884618e-01      -6.182906e-01      -5.587304e-01    -5.781264e-01   \n",
       "17      -5.915841e-01      -6.306886e-01      -5.587304e-01    -5.784606e-01   \n",
       "35      -5.868158e-01      -6.337365e-01      -5.738809e-01    -6.037991e-01   \n",
       "29      -5.868158e-01      -6.075515e-01      -5.738809e-01    -6.066983e-01   \n",
       "32      -6.295800e-01      -6.856727e-01      -6.041580e-01    -6.408706e-01   \n",
       "..                ...                ...                ...              ...   \n",
       "58     -3.001299e+190     -2.638572e+190     -2.657070e+190   -2.588669e+190   \n",
       "51     -2.995719e+190     -2.443834e+190     -2.718110e+190   -2.601041e+190   \n",
       "52     -3.020694e+190     -2.663425e+190     -2.635336e+190   -2.643484e+190   \n",
       "53     -3.102960e+190     -2.755597e+190     -2.975939e+190   -2.855767e+190   \n",
       "59     -3.102960e+190     -2.755597e+190     -2.975939e+190   -2.855767e+190   \n",
       "\n",
       "    std_test_score  rank_test_score  \n",
       "23        0.064420                1  \n",
       "17        0.057523                2  \n",
       "35        0.047858                3  \n",
       "29        0.048673                4  \n",
       "32        0.047858                5  \n",
       "..             ...              ...  \n",
       "58             inf              236  \n",
       "51             inf              237  \n",
       "52             inf              238  \n",
       "53             inf              239  \n",
       "59             inf              240  \n",
       "\n",
       "[240 rows x 23 columns]"
      ]
     },
     "execution_count": 10,
     "metadata": {},
     "output_type": "execute_result"
    }
   ],
   "source": [
    "df = pd.DataFrame(search.cv_results_)\n",
    "df = df.sort_values(by=['rank_test_score'])\n",
    "df"
   ]
  },
  {
   "cell_type": "markdown",
   "metadata": {},
   "source": [
    "# 4. Best Hyperparameter"
   ]
  },
  {
   "cell_type": "code",
   "execution_count": 11,
   "metadata": {},
   "outputs": [
    {
     "name": "stdout",
     "output_type": "stream",
     "text": [
      "{'RG__ccp_alpha': 0.005, 'RG__learning_rate': 0.1, 'RG__min_samples_split': 0.02, 'RG__n_estimators': 100, 'pca__n_components': 170}\n"
     ]
    }
   ],
   "source": [
    "parms = pd.DataFrame(df['params'])\n",
    "for i in parms.iloc[0]:\n",
    "    print(i)"
   ]
  },
  {
   "cell_type": "markdown",
   "metadata": {},
   "source": [
    "# 5. Evaluate Model $log(Sales)$"
   ]
  },
  {
   "cell_type": "code",
   "execution_count": 12,
   "metadata": {},
   "outputs": [],
   "source": [
    "best_pca =parms.iloc[0][0]['pca__n_components']\n",
    "best_lr = parms.iloc[0][0]['RG__learning_rate']\n",
    "best_n_est = parms.iloc[0][0]['RG__n_estimators']\n",
    "best_min_ss=parms.iloc[0][0]['RG__min_samples_split']\n",
    "best_ccp_alpha=parms.iloc[0][0]['RG__ccp_alpha']\n",
    "#best_pca=170\n",
    "#best_lr=0.1\n",
    "#best_n_est=100"
   ]
  },
  {
   "cell_type": "code",
   "execution_count": 13,
   "metadata": {},
   "outputs": [],
   "source": [
    "Model_2 = GradientBoostingRegressor(learning_rate=best_lr,n_estimators=best_n_est,min_samples_split=best_min_ss,ccp_alpha=best_ccp_alpha)"
   ]
  },
  {
   "cell_type": "code",
   "execution_count": 14,
   "metadata": {},
   "outputs": [],
   "source": [
    "X_train1,X_test1,Y_train1,Y_test1 = train_test_split(X_train,Y_train,test_size=0.2,random_state=132)\n"
   ]
  },
  {
   "cell_type": "code",
   "execution_count": 15,
   "metadata": {},
   "outputs": [
    {
     "data": {
      "text/plain": [
       "GradientBoostingRegressor(ccp_alpha=0.005, min_samples_split=0.02)"
      ]
     },
     "execution_count": 15,
     "metadata": {},
     "output_type": "execute_result"
    }
   ],
   "source": [
    "pca1 = PCA(n_components=best_pca)\n",
    "pca1.fit(X_train1)\n",
    "PX_train1 = pca1.transform(X_train1)\n",
    "RG1 = Model_2\n",
    "RG1.fit(PX_train1,Y_train1.values.ravel())"
   ]
  },
  {
   "cell_type": "code",
   "execution_count": 16,
   "metadata": {},
   "outputs": [],
   "source": [
    "pca2 = PCA(n_components=best_pca)\n",
    "pca2.fit(X_test1)\n",
    "PX_test1 = pca2.transform(X_test1)"
   ]
  },
  {
   "cell_type": "code",
   "execution_count": 17,
   "metadata": {},
   "outputs": [
    {
     "data": {
      "text/plain": [
       "1.5602075164818732"
      ]
     },
     "execution_count": 17,
     "metadata": {},
     "output_type": "execute_result"
    }
   ],
   "source": [
    "MSE(RG1.predict(PX_test1),Y_test1)"
   ]
  },
  {
   "cell_type": "code",
   "execution_count": 18,
   "metadata": {},
   "outputs": [],
   "source": [
    "result = pd.DataFrame(np.exp(Y_test1))"
   ]
  },
  {
   "cell_type": "code",
   "execution_count": 19,
   "metadata": {},
   "outputs": [],
   "source": [
    "result[\"Predicted_sales\"] = np.exp(RG1.predict(PX_test1))"
   ]
  },
  {
   "cell_type": "code",
   "execution_count": 20,
   "metadata": {},
   "outputs": [
    {
     "data": {
      "text/plain": [
       "929.6231004884527"
      ]
     },
     "execution_count": 20,
     "metadata": {},
     "output_type": "execute_result"
    }
   ],
   "source": [
    "MSE(result[\"sales\"],result[\"Predicted_sales\"])"
   ]
  },
  {
   "cell_type": "markdown",
   "metadata": {},
   "source": [
    "# 5.1 Model using original sales data"
   ]
  },
  {
   "cell_type": "code",
   "execution_count": 21,
   "metadata": {},
   "outputs": [],
   "source": [
    "Model_3 = GradientBoostingRegressor(learning_rate=best_lr,n_estimators=best_n_est,min_samples_split=best_min_ss,ccp_alpha=best_ccp_alpha)"
   ]
  },
  {
   "cell_type": "code",
   "execution_count": 22,
   "metadata": {},
   "outputs": [],
   "source": [
    "OY_train = pd.read_csv(\"A_sales_train.csv\",index_col=0)"
   ]
  },
  {
   "cell_type": "code",
   "execution_count": 23,
   "metadata": {},
   "outputs": [],
   "source": [
    "X_train2,X_test2,Y_train2,Y_test2 = train_test_split(X_train,OY_train,test_size=0.2,random_state=132)"
   ]
  },
  {
   "cell_type": "code",
   "execution_count": 24,
   "metadata": {},
   "outputs": [
    {
     "data": {
      "text/plain": [
       "GradientBoostingRegressor(ccp_alpha=0.005, min_samples_split=0.02)"
      ]
     },
     "execution_count": 24,
     "metadata": {},
     "output_type": "execute_result"
    }
   ],
   "source": [
    "pca3 = PCA(n_components=best_pca)\n",
    "pca3.fit(X_train2)\n",
    "PX_train2 = pca3.transform(X_train2)\n",
    "RG2 = Model_3\n",
    "RG2.fit(PX_train2,Y_train2.values.ravel())"
   ]
  },
  {
   "cell_type": "code",
   "execution_count": 25,
   "metadata": {},
   "outputs": [],
   "source": [
    "pca4 = PCA(n_components=best_pca)\n",
    "pca4.fit(X_test2)\n",
    "PX_test2 = pca4.transform(X_test2)"
   ]
  },
  {
   "cell_type": "code",
   "execution_count": 26,
   "metadata": {},
   "outputs": [
    {
     "data": {
      "text/plain": [
       "2795.522088204886"
      ]
     },
     "execution_count": 26,
     "metadata": {},
     "output_type": "execute_result"
    }
   ],
   "source": [
    "MSE(RG2.predict(PX_test2),Y_test2)"
   ]
  },
  {
   "cell_type": "markdown",
   "metadata": {},
   "source": [
    "#### Notably model trained on log(Sales) has lower out-of-sample MSE than model with unmodified Sales"
   ]
  },
  {
   "cell_type": "markdown",
   "metadata": {},
   "source": [
    "# 6. Inventory Decision"
   ]
  },
  {
   "cell_type": "code",
   "execution_count": 27,
   "metadata": {},
   "outputs": [],
   "source": [
    "residual = result['sales']-result['Predicted_sales']"
   ]
  },
  {
   "cell_type": "code",
   "execution_count": 28,
   "metadata": {},
   "outputs": [
    {
     "data": {
      "text/plain": [
       "(4, 8)"
      ]
     },
     "execution_count": 28,
     "metadata": {},
     "output_type": "execute_result"
    }
   ],
   "source": [
    "Price=20\n",
    "Cost=12\n",
    "Salvage=8\n",
    "Over=Cost - Salvage\n",
    "Under=Price - Cost\n",
    "Over, Under"
   ]
  },
  {
   "cell_type": "markdown",
   "metadata": {},
   "source": [
    "### QQ plot to explore the distribution of residual"
   ]
  },
  {
   "cell_type": "markdown",
   "metadata": {},
   "source": [
    "#### Normal Distribution"
   ]
  },
  {
   "cell_type": "code",
   "execution_count": 29,
   "metadata": {},
   "outputs": [],
   "source": [
    "import scipy.stats as sct"
   ]
  },
  {
   "cell_type": "code",
   "execution_count": 30,
   "metadata": {},
   "outputs": [
    {
     "data": {
      "image/png": "[encoded data removed]",
      "text/plain": [
       "<Figure size 432x288 with 1 Axes>"
      ]
     },
     "metadata": {
      "needs_background": "light"
     },
     "output_type": "display_data"
    }
   ],
   "source": [
    "import scipy\n",
    "scipy.stats.probplot(residual, dist=\"norm\", plot=plt)\n",
    "plt.show()"
   ]
  },
  {
   "cell_type": "code",
   "execution_count": 31,
   "metadata": {},
   "outputs": [],
   "source": [
    "s = residual.std()\n",
    "opt_dec_N=np.ceil(sct.norm.ppf(Under/(Under+Over))*s + result['Predicted_sales'])"
   ]
  },
  {
   "cell_type": "markdown",
   "metadata": {},
   "source": [
    "#### Exponential Distribution"
   ]
  },
  {
   "cell_type": "code",
   "execution_count": 32,
   "metadata": {},
   "outputs": [
    {
     "data": {
      "image/png": "[encoded data removed]",
      "text/plain": [
       "<Figure size 432x288 with 1 Axes>"
      ]
     },
     "metadata": {
      "needs_background": "light"
     },
     "output_type": "display_data"
    }
   ],
   "source": [
    "scipy.stats.probplot(residual, dist=\"expon\", plot=plt)\n",
    "plt.show()"
   ]
  },
  {
   "cell_type": "code",
   "execution_count": 33,
   "metadata": {},
   "outputs": [],
   "source": [
    "opt_dec_E=np.ceil((-result['Predicted_sales'])*np.log(1-(Under/(Under+Over))))"
   ]
  },
  {
   "cell_type": "markdown",
   "metadata": {},
   "source": [
    "#### Empirical Distribution"
   ]
  },
  {
   "cell_type": "code",
   "execution_count": 34,
   "metadata": {},
   "outputs": [
    {
     "data": {
      "text/plain": [
       "[<matplotlib.lines.Line2D at 0x2188a543700>]"
      ]
     },
     "execution_count": 34,
     "metadata": {},
     "output_type": "execute_result"
    },
    {
     "data": {
      "image/png": "[encoded data removed]",
      "text/plain": [
       "<Figure size 432x288 with 1 Axes>"
      ]
     },
     "metadata": {
      "needs_background": "light"
     },
     "output_type": "display_data"
    }
   ],
   "source": [
    "size = residual.shape[0]\n",
    "step=1/size\n",
    "jumps = [step*i for i in range(1,size+1)]\n",
    "Sample = sorted(residual)\n",
    "plt.plot(Sample,jumps)"
   ]
  },
  {
   "cell_type": "code",
   "execution_count": 35,
   "metadata": {},
   "outputs": [
    {
     "data": {
      "image/png": "[encoded data removed]",
      "text/plain": [
       "<Figure size 432x288 with 1 Axes>"
      ]
     },
     "metadata": {
      "needs_background": "light"
     },
     "output_type": "display_data"
    }
   ],
   "source": [
    "plt.hist(Sample)\n",
    "plt.show()"
   ]
  },
  {
   "cell_type": "code",
   "execution_count": 36,
   "metadata": {},
   "outputs": [],
   "source": [
    "def inv(sample,jump,area):\n",
    "    size = len(sample)\n",
    "    i=0\n",
    "    temp=jump[i]\n",
    "    while temp<area:\n",
    "        i+=1\n",
    "        temp=jump[i]\n",
    "        \n",
    "    return sample[i]"
   ]
  },
  {
   "cell_type": "code",
   "execution_count": 37,
   "metadata": {},
   "outputs": [
    {
     "data": {
      "text/plain": [
       "2.212368516346384"
      ]
     },
     "execution_count": 37,
     "metadata": {},
     "output_type": "execute_result"
    }
   ],
   "source": [
    "offset = inv(Sample,jumps,2/3)\n",
    "offset"
   ]
  },
  {
   "cell_type": "code",
   "execution_count": 38,
   "metadata": {},
   "outputs": [],
   "source": [
    "opt_dec_B = np.ceil(result['Predicted_sales']+offset)"
   ]
  },
  {
   "cell_type": "markdown",
   "metadata": {},
   "source": [
    "# 7. Out-of-samples Profit"
   ]
  },
  {
   "cell_type": "code",
   "execution_count": 39,
   "metadata": {},
   "outputs": [
    {
     "data": {
      "text/plain": [
       "82096.0"
      ]
     },
     "execution_count": 39,
     "metadata": {},
     "output_type": "execute_result"
    }
   ],
   "source": [
    "#max profit for test data set\n",
    "max_profit = result['sales'].sum()*(Price-Cost)\n",
    "max_profit"
   ]
  },
  {
   "cell_type": "code",
   "execution_count": 40,
   "metadata": {},
   "outputs": [],
   "source": [
    "def profit(demand,inv):\n",
    "    return (Price-Salvage)*np.minimum(demand,inv)-(Cost-Salvage)*inv"
   ]
  },
  {
   "cell_type": "code",
   "execution_count": 41,
   "metadata": {},
   "outputs": [
    {
     "data": {
      "text/plain": [
       "24820.0"
      ]
     },
     "execution_count": 41,
     "metadata": {},
     "output_type": "execute_result"
    }
   ],
   "source": [
    "#Profit (Normal)\n",
    "profit_lst_N = profit(result['sales'],opt_dec_N)\n",
    "profit_lst_N.sum()"
   ]
  },
  {
   "cell_type": "code",
   "execution_count": 42,
   "metadata": {},
   "outputs": [
    {
     "data": {
      "text/plain": [
       "29936.0"
      ]
     },
     "execution_count": 42,
     "metadata": {},
     "output_type": "execute_result"
    }
   ],
   "source": [
    "#Profit (Exponential)\n",
    "profit_lst_E = profit(result['sales'],opt_dec_E)\n",
    "profit_lst_E.sum()"
   ]
  },
  {
   "cell_type": "code",
   "execution_count": 43,
   "metadata": {},
   "outputs": [
    {
     "data": {
      "text/plain": [
       "30300.0"
      ]
     },
     "execution_count": 43,
     "metadata": {},
     "output_type": "execute_result"
    }
   ],
   "source": [
    "#Profit (Empirical)\n",
    "profit_lst_B = profit(result['sales'],opt_dec_B)\n",
    "profit_lst_B.sum()"
   ]
  },
  {
   "cell_type": "markdown",
   "metadata": {},
   "source": [
    "# 8. K-Fold Cross Validation"
   ]
  },
  {
   "cell_type": "markdown",
   "metadata": {},
   "source": [
    "### Repeat steps 5,6,7 with 10-fold cross validation"
   ]
  },
  {
   "cell_type": "code",
   "execution_count": 44,
   "metadata": {},
   "outputs": [],
   "source": [
    "Model_4= GradientBoostingRegressor(learning_rate=best_lr,n_estimators=best_n_est,min_samples_split=best_min_ss,ccp_alpha=best_ccp_alpha)"
   ]
  },
  {
   "cell_type": "code",
   "execution_count": 45,
   "metadata": {},
   "outputs": [],
   "source": [
    "from sklearn.model_selection import KFold\n",
    "k=10\n",
    "kf = KFold(n_splits=k)\n",
    "X_train_t=X_train.to_numpy()\n",
    "Y_train_t=Y_train.to_numpy()\n",
    "model = []\n",
    "mse_lst = []\n",
    "max_profit_lst = []\n",
    "profit_N_lst = []\n",
    "profit_E_lst = []\n",
    "profit_B_lst = []\n",
    "\n",
    "for train_index,test_index in kf.split(X_train_t):\n",
    "    X_train_K,X_test_K=X_train_t[train_index],X_train_t[test_index]\n",
    "    Y_train_K,Y_test_K=Y_train_t[train_index],Y_train_t[test_index]\n",
    "    \n",
    "    #PCA to transform train data\n",
    "    pca_K1 = PCA(n_components=best_pca)\n",
    "    pca_K1.fit(X_train_K)\n",
    "    PX_train_K = pca_K1.transform(X_train_K)\n",
    "    \n",
    "    #Model\n",
    "    RG_K = Model_4\n",
    "    RG_K.fit(PX_train_K,Y_train_K.ravel())\n",
    "    \n",
    "    #pca to transform test data\n",
    "    pca_K2 = PCA(n_components=best_pca)\n",
    "    pca_K2.fit(X_test_K)\n",
    "    PX_test_K = pca_K2.transform(X_test_K)\n",
    "    \n",
    "    #MSE\n",
    "    mse_lst.append(MSE(RG_K.predict(PX_test_K),Y_test_K))\n",
    "    \n",
    "    #Transform log(sale) back to sale\n",
    "    result_K = pd.DataFrame(np.exp(Y_test_K))\n",
    "    result_K[\"Predicted_sales\"] = np.exp(RG_K.predict(PX_test_K))\n",
    "    \n",
    "    #Obtain residual\n",
    "    residual_K = result_K[0]-result_K['Predicted_sales']\n",
    "    \n",
    "    #Get std for Normal distribution\n",
    "    s_K = residual.std()\n",
    "    \n",
    "    #Inventory Decision (Normal)\n",
    "    opt_dec_N_K=np.ceil(sct.norm.ppf(Under/(Under+Over))*s_K + result_K['Predicted_sales'])\n",
    "    #Inventory Decision (Exponential)\n",
    "    opt_dec_E_K=np.ceil((-result_K['Predicted_sales'])*np.log(1-(Under/(Under+Over))))\n",
    "    \n",
    "    #Inventory Decision (Empirical Distribution)\n",
    "    size_K = residual_K.shape[0]\n",
    "    step_K=1/size_K\n",
    "    jumps_K = [step_K*i for i in range(1,size+1)]\n",
    "    Sample_K = sorted(residual_K)\n",
    "    offset_K = inv(Sample_K,jumps_K,2/3)\n",
    "    opt_dec_B_K = np.ceil(result_K['Predicted_sales']+offset_K)\n",
    "    \n",
    "    #Out-of_sample profit\n",
    "    profit_lst_B_K = profit(result_K[0],opt_dec_B_K)\n",
    "    profit_B_lst.append(profit_lst_B_K.sum())\n",
    "    \n",
    "    profit_lst_N_K = profit(result_K[0],opt_dec_N_K)\n",
    "    profit_N_lst.append(profit_lst_N_K.sum())\n",
    "    \n",
    "    profit_lst_E_K = profit(result_K[0],opt_dec_E_K)\n",
    "    profit_E_lst.append(profit_lst_E_K.sum())\n",
    "    \n",
    "    max_profit_K = result_K[0].sum()*(Price-Cost)\n",
    "    max_profit_lst.append(max_profit_K)\n",
    "    \n",
    "max_profit_lst = np.array(max_profit_lst)\n",
    "profit_N_lst = np.array(profit_N_lst)\n",
    "profit_E_lst = np.array(profit_E_lst)\n",
    "profit_B_lst = np.array(profit_B_lst)\n",
    "\n",
    "fraction_of_max_N = profit_N_lst/max_profit_lst\n",
    "fraction_of_max_E = profit_E_lst/max_profit_lst\n",
    "fraction_of_max_B = profit_B_lst/max_profit_lst\n",
    "\n",
    "dist_profit = [\"Normal\",\"Exponential\",\"Empirical\",\"Max\"]\n",
    "dist_frac = [\"Normal\",\"Exponential\",\"Empirical\"]\n",
    "col_name = [\"Dataset_\"+str(i) for i in range(1,k+1)]\n",
    "\n",
    "profit_lst = [profit_N_lst,profit_E_lst,profit_B_lst,max_profit_lst]\n",
    "profit_table = pd.DataFrame(profit_lst,index=dist_profit,columns=col_name)\n",
    "profit_table[\"mean_profit\"]=profit_table.mean(axis=1)\n",
    "profit_table[\"std_profit\"]=profit_table.std(ddof=1,axis=1)\n",
    "\n",
    "fraction_lst = [fraction_of_max_N,fraction_of_max_E,fraction_of_max_B]\n",
    "fraction_table = pd.DataFrame(fraction_lst,index=dist_frac,columns=col_name)\n",
    "fraction_table[\"mean_fraction\"]=fraction_table.mean(axis=1)"
   ]
  },
  {
   "cell_type": "code",
   "execution_count": 46,
   "metadata": {},
   "outputs": [
    {
     "data": {
      "text/html": [
       "<div>\n",
       "<style scoped>\n",
       "    .dataframe tbody tr th:only-of-type {\n",
       "        vertical-align: middle;\n",
       "    }\n",
       "\n",
       "    .dataframe tbody tr th {\n",
       "        vertical-align: top;\n",
       "    }\n",
       "\n",
       "    .dataframe thead th {\n",
       "        text-align: right;\n",
       "    }\n",
       "</style>\n",
       "<table border=\"1\" class=\"dataframe\">\n",
       "  <thead>\n",
       "    <tr style=\"text-align: right;\">\n",
       "      <th></th>\n",
       "      <th>Dataset_1</th>\n",
       "      <th>Dataset_2</th>\n",
       "      <th>Dataset_3</th>\n",
       "      <th>Dataset_4</th>\n",
       "      <th>Dataset_5</th>\n",
       "      <th>Dataset_6</th>\n",
       "      <th>Dataset_7</th>\n",
       "      <th>Dataset_8</th>\n",
       "      <th>Dataset_9</th>\n",
       "      <th>Dataset_10</th>\n",
       "      <th>mean_fraction</th>\n",
       "    </tr>\n",
       "  </thead>\n",
       "  <tbody>\n",
       "    <tr>\n",
       "      <th>Normal</th>\n",
       "      <td>0.259231</td>\n",
       "      <td>0.323581</td>\n",
       "      <td>0.286418</td>\n",
       "      <td>0.241974</td>\n",
       "      <td>0.218372</td>\n",
       "      <td>0.321451</td>\n",
       "      <td>0.190083</td>\n",
       "      <td>0.317086</td>\n",
       "      <td>0.321403</td>\n",
       "      <td>0.234441</td>\n",
       "      <td>0.271404</td>\n",
       "    </tr>\n",
       "    <tr>\n",
       "      <th>Exponential</th>\n",
       "      <td>0.331916</td>\n",
       "      <td>0.371663</td>\n",
       "      <td>0.287455</td>\n",
       "      <td>0.284378</td>\n",
       "      <td>0.275907</td>\n",
       "      <td>0.392645</td>\n",
       "      <td>0.235256</td>\n",
       "      <td>0.349003</td>\n",
       "      <td>0.360684</td>\n",
       "      <td>0.304552</td>\n",
       "      <td>0.319346</td>\n",
       "    </tr>\n",
       "    <tr>\n",
       "      <th>Empirical</th>\n",
       "      <td>0.346897</td>\n",
       "      <td>0.377585</td>\n",
       "      <td>0.307500</td>\n",
       "      <td>0.287725</td>\n",
       "      <td>0.278969</td>\n",
       "      <td>0.400430</td>\n",
       "      <td>0.245957</td>\n",
       "      <td>0.356895</td>\n",
       "      <td>0.363010</td>\n",
       "      <td>0.320303</td>\n",
       "      <td>0.328527</td>\n",
       "    </tr>\n",
       "  </tbody>\n",
       "</table>\n",
       "</div>"
      ],
      "text/plain": [
       "             Dataset_1  Dataset_2  Dataset_3  Dataset_4  Dataset_5  Dataset_6  \\\n",
       "Normal        0.259231   0.323581   0.286418   0.241974   0.218372   0.321451   \n",
       "Exponential   0.331916   0.371663   0.287455   0.284378   0.275907   0.392645   \n",
       "Empirical     0.346897   0.377585   0.307500   0.287725   0.278969   0.400430   \n",
       "\n",
       "             Dataset_7  Dataset_8  Dataset_9  Dataset_10  mean_fraction  \n",
       "Normal        0.190083   0.317086   0.321403    0.234441       0.271404  \n",
       "Exponential   0.235256   0.349003   0.360684    0.304552       0.319346  \n",
       "Empirical     0.245957   0.356895   0.363010    0.320303       0.328527  "
      ]
     },
     "execution_count": 46,
     "metadata": {},
     "output_type": "execute_result"
    }
   ],
   "source": [
    "fraction_table"
   ]
  },
  {
   "cell_type": "code",
   "execution_count": 47,
   "metadata": {},
   "outputs": [
    {
     "data": {
      "text/html": [
       "<div>\n",
       "<style scoped>\n",
       "    .dataframe tbody tr th:only-of-type {\n",
       "        vertical-align: middle;\n",
       "    }\n",
       "\n",
       "    .dataframe tbody tr th {\n",
       "        vertical-align: top;\n",
       "    }\n",
       "\n",
       "    .dataframe thead th {\n",
       "        text-align: right;\n",
       "    }\n",
       "</style>\n",
       "<table border=\"1\" class=\"dataframe\">\n",
       "  <thead>\n",
       "    <tr style=\"text-align: right;\">\n",
       "      <th></th>\n",
       "      <th>Dataset_1</th>\n",
       "      <th>Dataset_2</th>\n",
       "      <th>Dataset_3</th>\n",
       "      <th>Dataset_4</th>\n",
       "      <th>Dataset_5</th>\n",
       "      <th>Dataset_6</th>\n",
       "      <th>Dataset_7</th>\n",
       "      <th>Dataset_8</th>\n",
       "      <th>Dataset_9</th>\n",
       "      <th>Dataset_10</th>\n",
       "      <th>mean_profit</th>\n",
       "      <th>std_profit</th>\n",
       "    </tr>\n",
       "  </thead>\n",
       "  <tbody>\n",
       "    <tr>\n",
       "      <th>Normal</th>\n",
       "      <td>10728.0</td>\n",
       "      <td>14644.0</td>\n",
       "      <td>13260.0</td>\n",
       "      <td>11276.0</td>\n",
       "      <td>10840.0</td>\n",
       "      <td>12552.0</td>\n",
       "      <td>9308.0</td>\n",
       "      <td>14624.0</td>\n",
       "      <td>14368.0</td>\n",
       "      <td>9764.0</td>\n",
       "      <td>12136.4</td>\n",
       "      <td>1921.564737</td>\n",
       "    </tr>\n",
       "    <tr>\n",
       "      <th>Exponential</th>\n",
       "      <td>13736.0</td>\n",
       "      <td>16820.0</td>\n",
       "      <td>13308.0</td>\n",
       "      <td>13252.0</td>\n",
       "      <td>13696.0</td>\n",
       "      <td>15332.0</td>\n",
       "      <td>11520.0</td>\n",
       "      <td>16096.0</td>\n",
       "      <td>16124.0</td>\n",
       "      <td>12684.0</td>\n",
       "      <td>14256.8</td>\n",
       "      <td>1644.824903</td>\n",
       "    </tr>\n",
       "    <tr>\n",
       "      <th>Empirical</th>\n",
       "      <td>14356.0</td>\n",
       "      <td>17088.0</td>\n",
       "      <td>14236.0</td>\n",
       "      <td>13408.0</td>\n",
       "      <td>13848.0</td>\n",
       "      <td>15636.0</td>\n",
       "      <td>12044.0</td>\n",
       "      <td>16460.0</td>\n",
       "      <td>16228.0</td>\n",
       "      <td>13340.0</td>\n",
       "      <td>14664.4</td>\n",
       "      <td>1537.240593</td>\n",
       "    </tr>\n",
       "    <tr>\n",
       "      <th>Max</th>\n",
       "      <td>41384.0</td>\n",
       "      <td>45256.0</td>\n",
       "      <td>46296.0</td>\n",
       "      <td>46600.0</td>\n",
       "      <td>49640.0</td>\n",
       "      <td>39048.0</td>\n",
       "      <td>48968.0</td>\n",
       "      <td>46120.0</td>\n",
       "      <td>44704.0</td>\n",
       "      <td>41648.0</td>\n",
       "      <td>44966.4</td>\n",
       "      <td>3203.875254</td>\n",
       "    </tr>\n",
       "  </tbody>\n",
       "</table>\n",
       "</div>"
      ],
      "text/plain": [
       "             Dataset_1  Dataset_2  Dataset_3  Dataset_4  Dataset_5  Dataset_6  \\\n",
       "Normal         10728.0    14644.0    13260.0    11276.0    10840.0    12552.0   \n",
       "Exponential    13736.0    16820.0    13308.0    13252.0    13696.0    15332.0   \n",
       "Empirical      14356.0    17088.0    14236.0    13408.0    13848.0    15636.0   \n",
       "Max            41384.0    45256.0    46296.0    46600.0    49640.0    39048.0   \n",
       "\n",
       "             Dataset_7  Dataset_8  Dataset_9  Dataset_10  mean_profit  \\\n",
       "Normal          9308.0    14624.0    14368.0      9764.0      12136.4   \n",
       "Exponential    11520.0    16096.0    16124.0     12684.0      14256.8   \n",
       "Empirical      12044.0    16460.0    16228.0     13340.0      14664.4   \n",
       "Max            48968.0    46120.0    44704.0     41648.0      44966.4   \n",
       "\n",
       "              std_profit  \n",
       "Normal       1921.564737  \n",
       "Exponential  1644.824903  \n",
       "Empirical    1537.240593  \n",
       "Max          3203.875254  "
      ]
     },
     "execution_count": 47,
     "metadata": {},
     "output_type": "execute_result"
    }
   ],
   "source": [
    "profit_table"
   ]
  },
  {
   "cell_type": "code",
   "execution_count": 48,
   "metadata": {},
   "outputs": [],
   "source": [
    "profit_table.to_csv(\".\\\\Model_Selection_Result\\\\4.3A_Gradient_boosting.csv\")"
   ]
  },
  {
   "cell_type": "code",
   "execution_count": null,
   "metadata": {},
   "outputs": [],
   "source": []
  }
 ],
 "metadata": {
  "kernelspec": {
   "display_name": "Python 3",
   "language": "python",
   "name": "python3"
  },
  "language_info": {
   "codemirror_mode": {
    "name": "ipython",
    "version": 3
   },
   "file_extension": ".py",
   "mimetype": "text/x-python",
   "name": "python",
   "nbconvert_exporter": "python",
   "pygments_lexer": "ipython3",
   "version": "3.8.5"
  }
 },
 "nbformat": 4,
 "nbformat_minor": 4
}
