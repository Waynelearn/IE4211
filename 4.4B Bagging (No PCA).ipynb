{
 "cells": [
  {
   "cell_type": "code",
   "execution_count": 1,
   "metadata": {},
   "outputs": [],
   "source": [
    "import pandas as pd\n",
    "import numpy as np\n",
    "import matplotlib.pyplot as plt\n",
    "from sklearn.pipeline import Pipeline\n",
    "from sklearn.model_selection import GridSearchCV\n",
    "from sklearn.decomposition import PCA\n",
    "from sklearn.metrics import mean_squared_error as MSE\n",
    "from sklearn.linear_model import LinearRegression\n",
    "from sklearn.preprocessing import PolynomialFeatures\n",
    "from sklearn.model_selection import train_test_split\n",
    "from sklearn.linear_model import Lassom\n",
    "from sklearn.neighbors import KNeighborsRegressor\n",
    "from sklearn.tree import DecisionTreeRegressor\n",
    "from sklearn.ensemble import RandomForestRegressor\n",
    "from sklearn.ensemble import GradientBoostingRegressor\n",
    "from sklearn.ensemble import BaggingRegressor"
   ]
  },
  {
   "cell_type": "markdown",
   "metadata": {},
   "source": [
    "# 1. Import the train datasets"
   ]
  },
  {
   "cell_type": "code",
   "execution_count": 2,
   "metadata": {},
   "outputs": [],
   "source": [
    "X_train = pd.read_csv(\"data-train.csv\",index_col=0)\n",
    "Y_train = X_train.sales\n",
    "X_train = X_train.drop(['sales'],axis=1)"
   ]
  },
  {
   "cell_type": "code",
   "execution_count": 3,
   "metadata": {},
   "outputs": [],
   "source": [
    "#X_train = pd.read_csv(\"B_encoded_train_data.csv\",index_col=0)\n",
    "#Y_train = pd.read_csv(\"A_sales_train.csv\",index_col=0)"
   ]
  },
  {
   "cell_type": "code",
   "execution_count": 4,
   "metadata": {},
   "outputs": [],
   "source": [
    "Model_1 = BaggingRegressor()"
   ]
  },
  {
   "cell_type": "markdown",
   "metadata": {},
   "source": [
    "# 2. Setup Pipeline"
   ]
  },
  {
   "cell_type": "code",
   "execution_count": 5,
   "metadata": {},
   "outputs": [],
   "source": [
    "\n",
    "RG = Model_1"
   ]
  },
  {
   "cell_type": "code",
   "execution_count": 6,
   "metadata": {},
   "outputs": [],
   "source": [
    "\n",
    "pipe = Pipeline(steps=[(\"RG\",RG)])"
   ]
  },
  {
   "cell_type": "code",
   "execution_count": 7,
   "metadata": {},
   "outputs": [],
   "source": [
    "param_grid = {\n",
    "    \"RG__bootstrap\":[True,False],\n",
    "    \"RG__bootstrap_features\":[True,False],\n",
    "    \"RG__n_estimators\":[10,100,1000]\n",
    "}"
   ]
  },
  {
   "cell_type": "markdown",
   "metadata": {},
   "source": [
    "# 3. Setup GridSearch"
   ]
  },
  {
   "cell_type": "code",
   "execution_count": 8,
   "metadata": {},
   "outputs": [],
   "source": [
    "score_metric = 'neg_mean_squared_error'\n",
    "search = GridSearchCV(pipe,param_grid,\n",
    "                      n_jobs=-1,\n",
    "                      cv=10,\n",
    "                      scoring=score_metric)"
   ]
  },
  {
   "cell_type": "code",
   "execution_count": 9,
   "metadata": {},
   "outputs": [
    {
     "data": {
      "text/plain": [
       "GridSearchCV(cv=10, estimator=Pipeline(steps=[('RG', BaggingRegressor())]),\n",
       "             n_jobs=-1,\n",
       "             param_grid={'RG__bootstrap': [True, False],\n",
       "                         'RG__bootstrap_features': [True, False],\n",
       "                         'RG__n_estimators': [10, 100, 1000]},\n",
       "             scoring='neg_mean_squared_error')"
      ]
     },
     "execution_count": 9,
     "metadata": {},
     "output_type": "execute_result"
    }
   ],
   "source": [
    "search.fit(X_train,Y_train.values.ravel())"
   ]
  },
  {
   "cell_type": "code",
   "execution_count": 10,
   "metadata": {},
   "outputs": [
    {
     "name": "stdout",
     "output_type": "stream",
     "text": [
      "Best parameter (CV score=-472.547):\n",
      "{'RG__bootstrap': True, 'RG__bootstrap_features': False, 'RG__n_estimators': 1000}\n"
     ]
    }
   ],
   "source": [
    "print(\"Best parameter (CV score=%0.3f):\" % search.best_score_)\n",
    "print(search.best_params_)"
   ]
  },
  {
   "cell_type": "code",
   "execution_count": 11,
   "metadata": {},
   "outputs": [
    {
     "data": {
      "text/html": [
       "<div>\n",
       "<style scoped>\n",
       "    .dataframe tbody tr th:only-of-type {\n",
       "        vertical-align: middle;\n",
       "    }\n",
       "\n",
       "    .dataframe tbody tr th {\n",
       "        vertical-align: top;\n",
       "    }\n",
       "\n",
       "    .dataframe thead th {\n",
       "        text-align: right;\n",
       "    }\n",
       "</style>\n",
       "<table border=\"1\" class=\"dataframe\">\n",
       "  <thead>\n",
       "    <tr style=\"text-align: right;\">\n",
       "      <th></th>\n",
       "      <th>mean_fit_time</th>\n",
       "      <th>std_fit_time</th>\n",
       "      <th>mean_score_time</th>\n",
       "      <th>std_score_time</th>\n",
       "      <th>param_RG__bootstrap</th>\n",
       "      <th>param_RG__bootstrap_features</th>\n",
       "      <th>param_RG__n_estimators</th>\n",
       "      <th>params</th>\n",
       "      <th>split0_test_score</th>\n",
       "      <th>split1_test_score</th>\n",
       "      <th>...</th>\n",
       "      <th>split3_test_score</th>\n",
       "      <th>split4_test_score</th>\n",
       "      <th>split5_test_score</th>\n",
       "      <th>split6_test_score</th>\n",
       "      <th>split7_test_score</th>\n",
       "      <th>split8_test_score</th>\n",
       "      <th>split9_test_score</th>\n",
       "      <th>mean_test_score</th>\n",
       "      <th>std_test_score</th>\n",
       "      <th>rank_test_score</th>\n",
       "    </tr>\n",
       "  </thead>\n",
       "  <tbody>\n",
       "    <tr>\n",
       "      <th>5</th>\n",
       "      <td>27.232633</td>\n",
       "      <td>0.947042</td>\n",
       "      <td>0.211279</td>\n",
       "      <td>0.010959</td>\n",
       "      <td>True</td>\n",
       "      <td>False</td>\n",
       "      <td>1000</td>\n",
       "      <td>{'RG__bootstrap': True, 'RG__bootstrap_feature...</td>\n",
       "      <td>-148.918940</td>\n",
       "      <td>-254.342148</td>\n",
       "      <td>...</td>\n",
       "      <td>-625.510420</td>\n",
       "      <td>-1180.997742</td>\n",
       "      <td>-146.986019</td>\n",
       "      <td>-379.604905</td>\n",
       "      <td>-404.369087</td>\n",
       "      <td>-574.936578</td>\n",
       "      <td>-274.054507</td>\n",
       "      <td>-472.547490</td>\n",
       "      <td>302.669170</td>\n",
       "      <td>1</td>\n",
       "    </tr>\n",
       "    <tr>\n",
       "      <th>4</th>\n",
       "      <td>3.021466</td>\n",
       "      <td>0.443338</td>\n",
       "      <td>0.025455</td>\n",
       "      <td>0.004423</td>\n",
       "      <td>True</td>\n",
       "      <td>False</td>\n",
       "      <td>100</td>\n",
       "      <td>{'RG__bootstrap': True, 'RG__bootstrap_feature...</td>\n",
       "      <td>-150.835419</td>\n",
       "      <td>-279.482062</td>\n",
       "      <td>...</td>\n",
       "      <td>-601.558354</td>\n",
       "      <td>-1282.710573</td>\n",
       "      <td>-145.961242</td>\n",
       "      <td>-375.204465</td>\n",
       "      <td>-408.685654</td>\n",
       "      <td>-579.942186</td>\n",
       "      <td>-286.165941</td>\n",
       "      <td>-487.163595</td>\n",
       "      <td>325.789153</td>\n",
       "      <td>2</td>\n",
       "    </tr>\n",
       "    <tr>\n",
       "      <th>3</th>\n",
       "      <td>0.273968</td>\n",
       "      <td>0.010394</td>\n",
       "      <td>0.005286</td>\n",
       "      <td>0.000639</td>\n",
       "      <td>True</td>\n",
       "      <td>False</td>\n",
       "      <td>10</td>\n",
       "      <td>{'RG__bootstrap': True, 'RG__bootstrap_feature...</td>\n",
       "      <td>-186.279698</td>\n",
       "      <td>-364.282888</td>\n",
       "      <td>...</td>\n",
       "      <td>-695.153966</td>\n",
       "      <td>-1066.747143</td>\n",
       "      <td>-250.742987</td>\n",
       "      <td>-391.703680</td>\n",
       "      <td>-428.479307</td>\n",
       "      <td>-579.059048</td>\n",
       "      <td>-293.250043</td>\n",
       "      <td>-497.153221</td>\n",
       "      <td>255.068271</td>\n",
       "      <td>3</td>\n",
       "    </tr>\n",
       "    <tr>\n",
       "      <th>2</th>\n",
       "      <td>30.043485</td>\n",
       "      <td>0.705150</td>\n",
       "      <td>0.216322</td>\n",
       "      <td>0.022445</td>\n",
       "      <td>True</td>\n",
       "      <td>True</td>\n",
       "      <td>1000</td>\n",
       "      <td>{'RG__bootstrap': True, 'RG__bootstrap_feature...</td>\n",
       "      <td>-196.658093</td>\n",
       "      <td>-259.017141</td>\n",
       "      <td>...</td>\n",
       "      <td>-756.712879</td>\n",
       "      <td>-1504.707138</td>\n",
       "      <td>-215.451033</td>\n",
       "      <td>-508.792798</td>\n",
       "      <td>-357.015132</td>\n",
       "      <td>-634.440344</td>\n",
       "      <td>-269.117778</td>\n",
       "      <td>-526.187325</td>\n",
       "      <td>373.501733</td>\n",
       "      <td>4</td>\n",
       "    </tr>\n",
       "    <tr>\n",
       "      <th>8</th>\n",
       "      <td>48.669369</td>\n",
       "      <td>1.336933</td>\n",
       "      <td>0.288651</td>\n",
       "      <td>0.053997</td>\n",
       "      <td>False</td>\n",
       "      <td>True</td>\n",
       "      <td>1000</td>\n",
       "      <td>{'RG__bootstrap': False, 'RG__bootstrap_featur...</td>\n",
       "      <td>-170.658737</td>\n",
       "      <td>-265.042758</td>\n",
       "      <td>...</td>\n",
       "      <td>-413.063240</td>\n",
       "      <td>-1717.001493</td>\n",
       "      <td>-235.630057</td>\n",
       "      <td>-455.494123</td>\n",
       "      <td>-384.050405</td>\n",
       "      <td>-592.030256</td>\n",
       "      <td>-345.273509</td>\n",
       "      <td>-529.657396</td>\n",
       "      <td>425.313969</td>\n",
       "      <td>5</td>\n",
       "    </tr>\n",
       "    <tr>\n",
       "      <th>7</th>\n",
       "      <td>4.438134</td>\n",
       "      <td>0.189049</td>\n",
       "      <td>0.026837</td>\n",
       "      <td>0.012262</td>\n",
       "      <td>False</td>\n",
       "      <td>True</td>\n",
       "      <td>100</td>\n",
       "      <td>{'RG__bootstrap': False, 'RG__bootstrap_featur...</td>\n",
       "      <td>-164.326977</td>\n",
       "      <td>-260.066094</td>\n",
       "      <td>...</td>\n",
       "      <td>-403.754575</td>\n",
       "      <td>-1764.338124</td>\n",
       "      <td>-242.596651</td>\n",
       "      <td>-479.714071</td>\n",
       "      <td>-379.380021</td>\n",
       "      <td>-556.100425</td>\n",
       "      <td>-384.342768</td>\n",
       "      <td>-542.717092</td>\n",
       "      <td>440.810445</td>\n",
       "      <td>6</td>\n",
       "    </tr>\n",
       "    <tr>\n",
       "      <th>0</th>\n",
       "      <td>0.317654</td>\n",
       "      <td>0.029736</td>\n",
       "      <td>0.003990</td>\n",
       "      <td>0.002676</td>\n",
       "      <td>True</td>\n",
       "      <td>True</td>\n",
       "      <td>10</td>\n",
       "      <td>{'RG__bootstrap': True, 'RG__bootstrap_feature...</td>\n",
       "      <td>-239.588405</td>\n",
       "      <td>-332.764397</td>\n",
       "      <td>...</td>\n",
       "      <td>-870.267931</td>\n",
       "      <td>-1264.883290</td>\n",
       "      <td>-224.775065</td>\n",
       "      <td>-701.955281</td>\n",
       "      <td>-435.358355</td>\n",
       "      <td>-654.469870</td>\n",
       "      <td>-321.259221</td>\n",
       "      <td>-572.127927</td>\n",
       "      <td>311.991319</td>\n",
       "      <td>7</td>\n",
       "    </tr>\n",
       "    <tr>\n",
       "      <th>1</th>\n",
       "      <td>3.130712</td>\n",
       "      <td>0.357267</td>\n",
       "      <td>0.029201</td>\n",
       "      <td>0.009297</td>\n",
       "      <td>True</td>\n",
       "      <td>True</td>\n",
       "      <td>100</td>\n",
       "      <td>{'RG__bootstrap': True, 'RG__bootstrap_feature...</td>\n",
       "      <td>-184.335888</td>\n",
       "      <td>-295.381793</td>\n",
       "      <td>...</td>\n",
       "      <td>-908.700920</td>\n",
       "      <td>-1658.157175</td>\n",
       "      <td>-276.223087</td>\n",
       "      <td>-495.792898</td>\n",
       "      <td>-352.248877</td>\n",
       "      <td>-636.705910</td>\n",
       "      <td>-252.639620</td>\n",
       "      <td>-574.004837</td>\n",
       "      <td>421.812760</td>\n",
       "      <td>8</td>\n",
       "    </tr>\n",
       "    <tr>\n",
       "      <th>6</th>\n",
       "      <td>0.449091</td>\n",
       "      <td>0.027120</td>\n",
       "      <td>0.004189</td>\n",
       "      <td>0.002130</td>\n",
       "      <td>False</td>\n",
       "      <td>True</td>\n",
       "      <td>10</td>\n",
       "      <td>{'RG__bootstrap': False, 'RG__bootstrap_featur...</td>\n",
       "      <td>-217.403879</td>\n",
       "      <td>-224.541681</td>\n",
       "      <td>...</td>\n",
       "      <td>-557.082198</td>\n",
       "      <td>-1559.243117</td>\n",
       "      <td>-341.420866</td>\n",
       "      <td>-642.832251</td>\n",
       "      <td>-378.361905</td>\n",
       "      <td>-733.218571</td>\n",
       "      <td>-334.343074</td>\n",
       "      <td>-574.827496</td>\n",
       "      <td>378.772794</td>\n",
       "      <td>9</td>\n",
       "    </tr>\n",
       "    <tr>\n",
       "      <th>9</th>\n",
       "      <td>0.522370</td>\n",
       "      <td>0.163874</td>\n",
       "      <td>0.006282</td>\n",
       "      <td>0.001267</td>\n",
       "      <td>False</td>\n",
       "      <td>False</td>\n",
       "      <td>10</td>\n",
       "      <td>{'RG__bootstrap': False, 'RG__bootstrap_featur...</td>\n",
       "      <td>-335.985862</td>\n",
       "      <td>-337.917802</td>\n",
       "      <td>...</td>\n",
       "      <td>-657.636724</td>\n",
       "      <td>-1970.420087</td>\n",
       "      <td>-364.814589</td>\n",
       "      <td>-724.435195</td>\n",
       "      <td>-486.836710</td>\n",
       "      <td>-653.606017</td>\n",
       "      <td>-790.129784</td>\n",
       "      <td>-754.742212</td>\n",
       "      <td>478.994989</td>\n",
       "      <td>10</td>\n",
       "    </tr>\n",
       "    <tr>\n",
       "      <th>10</th>\n",
       "      <td>4.627491</td>\n",
       "      <td>0.375037</td>\n",
       "      <td>0.028205</td>\n",
       "      <td>0.009457</td>\n",
       "      <td>False</td>\n",
       "      <td>False</td>\n",
       "      <td>100</td>\n",
       "      <td>{'RG__bootstrap': False, 'RG__bootstrap_featur...</td>\n",
       "      <td>-386.468821</td>\n",
       "      <td>-339.156918</td>\n",
       "      <td>...</td>\n",
       "      <td>-782.545955</td>\n",
       "      <td>-1964.548163</td>\n",
       "      <td>-360.732652</td>\n",
       "      <td>-657.265648</td>\n",
       "      <td>-487.576381</td>\n",
       "      <td>-672.057512</td>\n",
       "      <td>-762.586622</td>\n",
       "      <td>-782.856019</td>\n",
       "      <td>494.430845</td>\n",
       "      <td>11</td>\n",
       "    </tr>\n",
       "    <tr>\n",
       "      <th>11</th>\n",
       "      <td>38.678159</td>\n",
       "      <td>2.360252</td>\n",
       "      <td>0.175789</td>\n",
       "      <td>0.044698</td>\n",
       "      <td>False</td>\n",
       "      <td>False</td>\n",
       "      <td>1000</td>\n",
       "      <td>{'RG__bootstrap': False, 'RG__bootstrap_featur...</td>\n",
       "      <td>-369.269929</td>\n",
       "      <td>-337.321993</td>\n",
       "      <td>...</td>\n",
       "      <td>-814.268474</td>\n",
       "      <td>-1955.275114</td>\n",
       "      <td>-360.699788</td>\n",
       "      <td>-680.931216</td>\n",
       "      <td>-486.725984</td>\n",
       "      <td>-652.915818</td>\n",
       "      <td>-772.177435</td>\n",
       "      <td>-787.758663</td>\n",
       "      <td>498.054280</td>\n",
       "      <td>12</td>\n",
       "    </tr>\n",
       "  </tbody>\n",
       "</table>\n",
       "<p>12 rows × 21 columns</p>\n",
       "</div>"
      ],
      "text/plain": [
       "    mean_fit_time  std_fit_time  mean_score_time  std_score_time  \\\n",
       "5       27.232633      0.947042         0.211279        0.010959   \n",
       "4        3.021466      0.443338         0.025455        0.004423   \n",
       "3        0.273968      0.010394         0.005286        0.000639   \n",
       "2       30.043485      0.705150         0.216322        0.022445   \n",
       "8       48.669369      1.336933         0.288651        0.053997   \n",
       "7        4.438134      0.189049         0.026837        0.012262   \n",
       "0        0.317654      0.029736         0.003990        0.002676   \n",
       "1        3.130712      0.357267         0.029201        0.009297   \n",
       "6        0.449091      0.027120         0.004189        0.002130   \n",
       "9        0.522370      0.163874         0.006282        0.001267   \n",
       "10       4.627491      0.375037         0.028205        0.009457   \n",
       "11      38.678159      2.360252         0.175789        0.044698   \n",
       "\n",
       "   param_RG__bootstrap param_RG__bootstrap_features param_RG__n_estimators  \\\n",
       "5                 True                        False                   1000   \n",
       "4                 True                        False                    100   \n",
       "3                 True                        False                     10   \n",
       "2                 True                         True                   1000   \n",
       "8                False                         True                   1000   \n",
       "7                False                         True                    100   \n",
       "0                 True                         True                     10   \n",
       "1                 True                         True                    100   \n",
       "6                False                         True                     10   \n",
       "9                False                        False                     10   \n",
       "10               False                        False                    100   \n",
       "11               False                        False                   1000   \n",
       "\n",
       "                                               params  split0_test_score  \\\n",
       "5   {'RG__bootstrap': True, 'RG__bootstrap_feature...        -148.918940   \n",
       "4   {'RG__bootstrap': True, 'RG__bootstrap_feature...        -150.835419   \n",
       "3   {'RG__bootstrap': True, 'RG__bootstrap_feature...        -186.279698   \n",
       "2   {'RG__bootstrap': True, 'RG__bootstrap_feature...        -196.658093   \n",
       "8   {'RG__bootstrap': False, 'RG__bootstrap_featur...        -170.658737   \n",
       "7   {'RG__bootstrap': False, 'RG__bootstrap_featur...        -164.326977   \n",
       "0   {'RG__bootstrap': True, 'RG__bootstrap_feature...        -239.588405   \n",
       "1   {'RG__bootstrap': True, 'RG__bootstrap_feature...        -184.335888   \n",
       "6   {'RG__bootstrap': False, 'RG__bootstrap_featur...        -217.403879   \n",
       "9   {'RG__bootstrap': False, 'RG__bootstrap_featur...        -335.985862   \n",
       "10  {'RG__bootstrap': False, 'RG__bootstrap_featur...        -386.468821   \n",
       "11  {'RG__bootstrap': False, 'RG__bootstrap_featur...        -369.269929   \n",
       "\n",
       "    split1_test_score  ...  split3_test_score  split4_test_score  \\\n",
       "5         -254.342148  ...        -625.510420       -1180.997742   \n",
       "4         -279.482062  ...        -601.558354       -1282.710573   \n",
       "3         -364.282888  ...        -695.153966       -1066.747143   \n",
       "2         -259.017141  ...        -756.712879       -1504.707138   \n",
       "8         -265.042758  ...        -413.063240       -1717.001493   \n",
       "7         -260.066094  ...        -403.754575       -1764.338124   \n",
       "0         -332.764397  ...        -870.267931       -1264.883290   \n",
       "1         -295.381793  ...        -908.700920       -1658.157175   \n",
       "6         -224.541681  ...        -557.082198       -1559.243117   \n",
       "9         -337.917802  ...        -657.636724       -1970.420087   \n",
       "10        -339.156918  ...        -782.545955       -1964.548163   \n",
       "11        -337.321993  ...        -814.268474       -1955.275114   \n",
       "\n",
       "    split5_test_score  split6_test_score  split7_test_score  \\\n",
       "5         -146.986019        -379.604905        -404.369087   \n",
       "4         -145.961242        -375.204465        -408.685654   \n",
       "3         -250.742987        -391.703680        -428.479307   \n",
       "2         -215.451033        -508.792798        -357.015132   \n",
       "8         -235.630057        -455.494123        -384.050405   \n",
       "7         -242.596651        -479.714071        -379.380021   \n",
       "0         -224.775065        -701.955281        -435.358355   \n",
       "1         -276.223087        -495.792898        -352.248877   \n",
       "6         -341.420866        -642.832251        -378.361905   \n",
       "9         -364.814589        -724.435195        -486.836710   \n",
       "10        -360.732652        -657.265648        -487.576381   \n",
       "11        -360.699788        -680.931216        -486.725984   \n",
       "\n",
       "    split8_test_score  split9_test_score  mean_test_score  std_test_score  \\\n",
       "5         -574.936578        -274.054507      -472.547490      302.669170   \n",
       "4         -579.942186        -286.165941      -487.163595      325.789153   \n",
       "3         -579.059048        -293.250043      -497.153221      255.068271   \n",
       "2         -634.440344        -269.117778      -526.187325      373.501733   \n",
       "8         -592.030256        -345.273509      -529.657396      425.313969   \n",
       "7         -556.100425        -384.342768      -542.717092      440.810445   \n",
       "0         -654.469870        -321.259221      -572.127927      311.991319   \n",
       "1         -636.705910        -252.639620      -574.004837      421.812760   \n",
       "6         -733.218571        -334.343074      -574.827496      378.772794   \n",
       "9         -653.606017        -790.129784      -754.742212      478.994989   \n",
       "10        -672.057512        -762.586622      -782.856019      494.430845   \n",
       "11        -652.915818        -772.177435      -787.758663      498.054280   \n",
       "\n",
       "    rank_test_score  \n",
       "5                 1  \n",
       "4                 2  \n",
       "3                 3  \n",
       "2                 4  \n",
       "8                 5  \n",
       "7                 6  \n",
       "0                 7  \n",
       "1                 8  \n",
       "6                 9  \n",
       "9                10  \n",
       "10               11  \n",
       "11               12  \n",
       "\n",
       "[12 rows x 21 columns]"
      ]
     },
     "execution_count": 11,
     "metadata": {},
     "output_type": "execute_result"
    }
   ],
   "source": [
    "df = pd.DataFrame(search.cv_results_)\n",
    "df = df.sort_values(by=['rank_test_score'])\n",
    "df"
   ]
  },
  {
   "cell_type": "markdown",
   "metadata": {},
   "source": [
    "# 4. Best Hyperparameter"
   ]
  },
  {
   "cell_type": "code",
   "execution_count": 12,
   "metadata": {},
   "outputs": [
    {
     "name": "stdout",
     "output_type": "stream",
     "text": [
      "{'RG__bootstrap': True, 'RG__bootstrap_features': False, 'RG__n_estimators': 1000}\n"
     ]
    }
   ],
   "source": [
    "parms = pd.DataFrame(df['params'])\n",
    "for i in parms.iloc[0]:\n",
    "    print(i)"
   ]
  },
  {
   "cell_type": "markdown",
   "metadata": {},
   "source": [
    "# 5. Evaluate Model $log(Sales)$"
   ]
  },
  {
   "cell_type": "code",
   "execution_count": 13,
   "metadata": {},
   "outputs": [],
   "source": [
    "best_boot = parms.iloc[0][0]['RG__bootstrap']\n",
    "best_boot_feat = parms.iloc[0][0]['RG__bootstrap_features']\n",
    "best_n_est = parms.iloc[0][0]['RG__n_estimators']"
   ]
  },
  {
   "cell_type": "code",
   "execution_count": null,
   "metadata": {},
   "outputs": [],
   "source": []
  },
  {
   "cell_type": "code",
   "execution_count": 14,
   "metadata": {},
   "outputs": [],
   "source": [
    "Model_2 = BaggingRegressor(bootstrap=best_boot,bootstrap_features=best_boot_feat,n_estimators=best_n_est)"
   ]
  },
  {
   "cell_type": "code",
   "execution_count": 15,
   "metadata": {},
   "outputs": [],
   "source": [
    "X_train1,X_test1,Y_train1,Y_test1 = train_test_split(X_train,Y_train,test_size=0.2,random_state=132)\n"
   ]
  },
  {
   "cell_type": "code",
   "execution_count": 16,
   "metadata": {},
   "outputs": [
    {
     "data": {
      "text/plain": [
       "BaggingRegressor(n_estimators=1000)"
      ]
     },
     "execution_count": 16,
     "metadata": {},
     "output_type": "execute_result"
    }
   ],
   "source": [
    "\n",
    "RG1 = Model_2\n",
    "RG1.fit(X_train1,Y_train1.values.ravel())"
   ]
  },
  {
   "cell_type": "code",
   "execution_count": null,
   "metadata": {},
   "outputs": [],
   "source": []
  },
  {
   "cell_type": "code",
   "execution_count": 17,
   "metadata": {},
   "outputs": [
    {
     "data": {
      "text/plain": [
       "314.8155816004319"
      ]
     },
     "execution_count": 17,
     "metadata": {},
     "output_type": "execute_result"
    }
   ],
   "source": [
    "MSE(RG1.predict(X_test1),Y_test1)"
   ]
  },
  {
   "cell_type": "code",
   "execution_count": 18,
   "metadata": {},
   "outputs": [],
   "source": [
    "result = pd.DataFrame(Y_test1)"
   ]
  },
  {
   "cell_type": "code",
   "execution_count": 19,
   "metadata": {},
   "outputs": [],
   "source": [
    "result[\"Predicted_sales\"] = RG1.predict(X_test1)"
   ]
  },
  {
   "cell_type": "code",
   "execution_count": 20,
   "metadata": {},
   "outputs": [
    {
     "data": {
      "text/plain": [
       "314.8155816004319"
      ]
     },
     "execution_count": 20,
     "metadata": {},
     "output_type": "execute_result"
    }
   ],
   "source": [
    "MSE(result[\"sales\"],result[\"Predicted_sales\"])"
   ]
  },
  {
   "cell_type": "markdown",
   "metadata": {},
   "source": [
    "# 6. Inventory Decision"
   ]
  },
  {
   "cell_type": "code",
   "execution_count": 21,
   "metadata": {},
   "outputs": [],
   "source": [
    "residual = result['sales']-result['Predicted_sales']"
   ]
  },
  {
   "cell_type": "code",
   "execution_count": 22,
   "metadata": {},
   "outputs": [
    {
     "data": {
      "text/plain": [
       "(4, 8)"
      ]
     },
     "execution_count": 22,
     "metadata": {},
     "output_type": "execute_result"
    }
   ],
   "source": [
    "Price=20\n",
    "Cost=12\n",
    "Salvage=8\n",
    "Over=Cost - Salvage\n",
    "Under=Price - Cost\n",
    "Over, Under"
   ]
  },
  {
   "cell_type": "markdown",
   "metadata": {},
   "source": [
    "### QQ plot to explore the distribution of residual"
   ]
  },
  {
   "cell_type": "markdown",
   "metadata": {},
   "source": [
    "#### Normal Distribution"
   ]
  },
  {
   "cell_type": "code",
   "execution_count": 23,
   "metadata": {},
   "outputs": [],
   "source": [
    "import scipy.stats as sct"
   ]
  },
  {
   "cell_type": "code",
   "execution_count": 24,
   "metadata": {},
   "outputs": [
    {
     "data": {
      "image/png": "[encoded data removed]",
      "text/plain": [
       "<Figure size 432x288 with 1 Axes>"
      ]
     },
     "metadata": {
      "needs_background": "light"
     },
     "output_type": "display_data"
    }
   ],
   "source": [
    "import scipy\n",
    "scipy.stats.probplot(residual, dist=\"norm\", plot=plt)\n",
    "plt.show()"
   ]
  },
  {
   "cell_type": "code",
   "execution_count": 25,
   "metadata": {},
   "outputs": [],
   "source": [
    "s = residual.std()\n",
    "opt_dec_N=round(sct.norm.ppf(Under/(Under+Over))*s + result['Predicted_sales'])"
   ]
  },
  {
   "cell_type": "markdown",
   "metadata": {},
   "source": [
    "#### Exponential Distribution"
   ]
  },
  {
   "cell_type": "code",
   "execution_count": 26,
   "metadata": {},
   "outputs": [
    {
     "data": {
      "image/png": "[encoded data removed]",
      "text/plain": [
       "<Figure size 432x288 with 1 Axes>"
      ]
     },
     "metadata": {
      "needs_background": "light"
     },
     "output_type": "display_data"
    }
   ],
   "source": [
    "scipy.stats.probplot(residual, dist=\"expon\", plot=plt)\n",
    "plt.show()"
   ]
  },
  {
   "cell_type": "code",
   "execution_count": 27,
   "metadata": {},
   "outputs": [],
   "source": [
    "opt_dec_E=round((-result['Predicted_sales'])*np.log(1-(Under/(Under+Over))))"
   ]
  },
  {
   "cell_type": "markdown",
   "metadata": {},
   "source": [
    "#### Empirical Distribution"
   ]
  },
  {
   "cell_type": "code",
   "execution_count": 28,
   "metadata": {},
   "outputs": [
    {
     "data": {
      "text/plain": [
       "[<matplotlib.lines.Line2D at 0x1edf7959bb0>]"
      ]
     },
     "execution_count": 28,
     "metadata": {},
     "output_type": "execute_result"
    },
    {
     "data": {
      "image/png": "[encoded data removed]",
      "text/plain": [
       "<Figure size 432x288 with 1 Axes>"
      ]
     },
     "metadata": {
      "needs_background": "light"
     },
     "output_type": "display_data"
    }
   ],
   "source": [
    "size = residual.shape[0]\n",
    "step=1/size\n",
    "jumps = [step*i for i in range(1,size+1)]\n",
    "Sample = sorted(residual)\n",
    "plt.plot(Sample,jumps)"
   ]
  },
  {
   "cell_type": "code",
   "execution_count": 29,
   "metadata": {},
   "outputs": [
    {
     "data": {
      "image/png": "[encoded data removed]",
      "text/plain": [
       "<Figure size 432x288 with 1 Axes>"
      ]
     },
     "metadata": {
      "needs_background": "light"
     },
     "output_type": "display_data"
    }
   ],
   "source": [
    "plt.hist(Sample)\n",
    "plt.show()"
   ]
  },
  {
   "cell_type": "code",
   "execution_count": 30,
   "metadata": {},
   "outputs": [],
   "source": [
    "def inv(sample,jump,area):\n",
    "    size = len(sample)\n",
    "    i=0\n",
    "    temp=jump[i]\n",
    "    while temp<area:\n",
    "        i+=1\n",
    "        temp=jump[i]\n",
    "        \n",
    "    return sample[i]"
   ]
  },
  {
   "cell_type": "code",
   "execution_count": 31,
   "metadata": {},
   "outputs": [
    {
     "data": {
      "text/plain": [
       "0.21499999999999986"
      ]
     },
     "execution_count": 31,
     "metadata": {},
     "output_type": "execute_result"
    }
   ],
   "source": [
    "offset = inv(Sample,jumps,2/3)\n",
    "offset"
   ]
  },
  {
   "cell_type": "code",
   "execution_count": 32,
   "metadata": {},
   "outputs": [],
   "source": [
    "opt_dec_B = round(result['Predicted_sales']+offset)"
   ]
  },
  {
   "cell_type": "markdown",
   "metadata": {},
   "source": [
    "# 7. Out-of-samples Profit"
   ]
  },
  {
   "cell_type": "code",
   "execution_count": 33,
   "metadata": {},
   "outputs": [
    {
     "data": {
      "text/plain": [
       "82096"
      ]
     },
     "execution_count": 33,
     "metadata": {},
     "output_type": "execute_result"
    }
   ],
   "source": [
    "#max profit for test data set\n",
    "max_profit = result['sales'].sum()*(Price-Cost)\n",
    "max_profit"
   ]
  },
  {
   "cell_type": "code",
   "execution_count": 34,
   "metadata": {},
   "outputs": [],
   "source": [
    "def profit(demand,inv):\n",
    "    return (Price-Salvage)*np.minimum(demand,inv)-(Cost-Salvage)*inv"
   ]
  },
  {
   "cell_type": "code",
   "execution_count": 35,
   "metadata": {},
   "outputs": [
    {
     "data": {
      "text/plain": [
       "53616.0"
      ]
     },
     "execution_count": 35,
     "metadata": {},
     "output_type": "execute_result"
    }
   ],
   "source": [
    "#Profit (Normal)\n",
    "profit_lst_N = profit(result['sales'],opt_dec_N)\n",
    "profit_lst_N.sum()"
   ]
  },
  {
   "cell_type": "code",
   "execution_count": 36,
   "metadata": {},
   "outputs": [
    {
     "data": {
      "text/plain": [
       "60020.0"
      ]
     },
     "execution_count": 36,
     "metadata": {},
     "output_type": "execute_result"
    }
   ],
   "source": [
    "#Profit (Exponential)\n",
    "profit_lst_E = profit(result['sales'],opt_dec_E)\n",
    "profit_lst_E.sum()"
   ]
  },
  {
   "cell_type": "code",
   "execution_count": 37,
   "metadata": {},
   "outputs": [
    {
     "data": {
      "text/plain": [
       "60096.0"
      ]
     },
     "execution_count": 37,
     "metadata": {},
     "output_type": "execute_result"
    }
   ],
   "source": [
    "#Profit (Empirical)\n",
    "profit_lst_B = profit(result['sales'],opt_dec_B)\n",
    "profit_lst_B.sum()"
   ]
  },
  {
   "cell_type": "markdown",
   "metadata": {},
   "source": [
    "# 8. K-Fold Cross Validation"
   ]
  },
  {
   "cell_type": "markdown",
   "metadata": {},
   "source": [
    "### Repeat steps 5,6,7 with 10-fold cross validation"
   ]
  },
  {
   "cell_type": "code",
   "execution_count": 38,
   "metadata": {},
   "outputs": [],
   "source": [
    "Model_4= Model_2 = BaggingRegressor(bootstrap=best_boot,bootstrap_features=best_boot_feat,n_estimators=best_n_est)"
   ]
  },
  {
   "cell_type": "code",
   "execution_count": 39,
   "metadata": {},
   "outputs": [],
   "source": [
    "from sklearn.model_selection import KFold\n",
    "k=10\n",
    "kf = KFold(n_splits=k)\n",
    "X_train_t=X_train.to_numpy()\n",
    "Y_train_t=Y_train.to_numpy()\n",
    "model = []\n",
    "mse_lst = []\n",
    "max_profit_lst = []\n",
    "profit_N_lst = []\n",
    "profit_E_lst = []\n",
    "profit_B_lst = []\n",
    "\n",
    "for train_index,test_index in kf.split(X_train_t):\n",
    "    X_train_K,X_test_K=X_train_t[train_index],X_train_t[test_index]\n",
    "    Y_train_K,Y_test_K=Y_train_t[train_index],Y_train_t[test_index]\n",
    "    \n",
    "    #PCA to transform train data\n",
    "    \n",
    "    #Model\n",
    "    RG_K = Model_4\n",
    "    RG_K.fit(X_train_K,Y_train_K.ravel())\n",
    "    \n",
    "    #pca to transform test data\n",
    "    \n",
    "    #MSE\n",
    "    mse_lst.append(MSE(RG_K.predict(X_test_K),Y_test_K))\n",
    "    \n",
    "    #Transform log(sale) back to sale\n",
    "    result_K = pd.DataFrame(Y_test_K)\n",
    "    result_K[\"Predicted_sales\"] = RG_K.predict(X_test_K)\n",
    "    \n",
    "    #Obtain residual\n",
    "    residual_K = result_K[0]-result_K['Predicted_sales']\n",
    "    \n",
    "    #Get std for Normal distribution\n",
    "    s_K = residual.std()\n",
    "    \n",
    "    #Inventory Decision (Normal)\n",
    "    opt_dec_N_K=np.ceil(sct.norm.ppf(Under/(Under+Over))*s_K + result_K['Predicted_sales'])\n",
    "    #Inventory Decision (Exponential)\n",
    "    opt_dec_E_K=np.ceil((-result_K['Predicted_sales'])*np.log(1-(Under/(Under+Over))))\n",
    "    \n",
    "    #Inventory Decision (Empirical Distribution)\n",
    "    size_K = residual_K.shape[0]\n",
    "    step_K=1/size_K\n",
    "    jumps_K = [step_K*i for i in range(1,size+1)]\n",
    "    Sample_K = sorted(residual_K)\n",
    "    offset_K = inv(Sample_K,jumps_K,2/3)\n",
    "    opt_dec_B_K = np.ceil(result_K['Predicted_sales']+offset_K)\n",
    "    \n",
    "    #Out-of_sample profit\n",
    "    profit_lst_B_K = profit(result_K[0],opt_dec_B_K)\n",
    "    profit_B_lst.append(profit_lst_B_K.sum())\n",
    "    \n",
    "    profit_lst_N_K = profit(result_K[0],opt_dec_N_K)\n",
    "    profit_N_lst.append(profit_lst_N_K.sum())\n",
    "    \n",
    "    profit_lst_E_K = profit(result_K[0],opt_dec_E_K)\n",
    "    profit_E_lst.append(profit_lst_E_K.sum())\n",
    "    \n",
    "    max_profit_K = result_K[0].sum()*(Price-Cost)\n",
    "    max_profit_lst.append(max_profit_K)\n",
    "    \n",
    "max_profit_lst = np.array(max_profit_lst)\n",
    "profit_N_lst = np.array(profit_N_lst)\n",
    "profit_E_lst = np.array(profit_E_lst)\n",
    "profit_B_lst = np.array(profit_B_lst)\n",
    "\n",
    "fraction_of_max_N = profit_N_lst/max_profit_lst\n",
    "fraction_of_max_E = profit_E_lst/max_profit_lst\n",
    "fraction_of_max_B = profit_B_lst/max_profit_lst\n",
    "\n",
    "dist_profit = [\"Normal\",\"Exponential\",\"Empirical\",\"Max\"]\n",
    "dist_frac = [\"Normal\",\"Exponential\",\"Empirical\"]\n",
    "col_name = [\"Dataset_\"+str(i) for i in range(1,k+1)]\n",
    "\n",
    "profit_lst = [profit_N_lst,profit_E_lst,profit_B_lst,max_profit_lst]\n",
    "profit_table = pd.DataFrame(profit_lst,index=dist_profit,columns=col_name)\n",
    "profit_table[\"mean_profit\"]=profit_table.mean(axis=1)\n",
    "profit_table[\"std_profit\"]=profit_table.std(ddof=1,axis=1)\n",
    "\n",
    "fraction_lst = [fraction_of_max_N,fraction_of_max_E,fraction_of_max_B]\n",
    "fraction_table = pd.DataFrame(fraction_lst,index=dist_frac,columns=col_name)\n",
    "fraction_table[\"mean_fraction\"]=fraction_table.mean(axis=1)"
   ]
  },
  {
   "cell_type": "code",
   "execution_count": 40,
   "metadata": {},
   "outputs": [
    {
     "data": {
      "text/html": [
       "<div>\n",
       "<style scoped>\n",
       "    .dataframe tbody tr th:only-of-type {\n",
       "        vertical-align: middle;\n",
       "    }\n",
       "\n",
       "    .dataframe tbody tr th {\n",
       "        vertical-align: top;\n",
       "    }\n",
       "\n",
       "    .dataframe thead th {\n",
       "        text-align: right;\n",
       "    }\n",
       "</style>\n",
       "<table border=\"1\" class=\"dataframe\">\n",
       "  <thead>\n",
       "    <tr style=\"text-align: right;\">\n",
       "      <th></th>\n",
       "      <th>Dataset_1</th>\n",
       "      <th>Dataset_2</th>\n",
       "      <th>Dataset_3</th>\n",
       "      <th>Dataset_4</th>\n",
       "      <th>Dataset_5</th>\n",
       "      <th>Dataset_6</th>\n",
       "      <th>Dataset_7</th>\n",
       "      <th>Dataset_8</th>\n",
       "      <th>Dataset_9</th>\n",
       "      <th>Dataset_10</th>\n",
       "      <th>mean_fraction</th>\n",
       "    </tr>\n",
       "  </thead>\n",
       "  <tbody>\n",
       "    <tr>\n",
       "      <th>Normal</th>\n",
       "      <td>0.691282</td>\n",
       "      <td>0.700636</td>\n",
       "      <td>0.647227</td>\n",
       "      <td>0.681373</td>\n",
       "      <td>0.651330</td>\n",
       "      <td>0.684798</td>\n",
       "      <td>0.703562</td>\n",
       "      <td>0.675455</td>\n",
       "      <td>0.642985</td>\n",
       "      <td>0.655590</td>\n",
       "      <td>0.673424</td>\n",
       "    </tr>\n",
       "    <tr>\n",
       "      <th>Exponential</th>\n",
       "      <td>0.777595</td>\n",
       "      <td>0.753756</td>\n",
       "      <td>0.717384</td>\n",
       "      <td>0.751416</td>\n",
       "      <td>0.726350</td>\n",
       "      <td>0.771768</td>\n",
       "      <td>0.762784</td>\n",
       "      <td>0.725759</td>\n",
       "      <td>0.708035</td>\n",
       "      <td>0.740396</td>\n",
       "      <td>0.743524</td>\n",
       "    </tr>\n",
       "    <tr>\n",
       "      <th>Empirical</th>\n",
       "      <td>0.786777</td>\n",
       "      <td>0.751016</td>\n",
       "      <td>0.718421</td>\n",
       "      <td>0.741888</td>\n",
       "      <td>0.710878</td>\n",
       "      <td>0.775149</td>\n",
       "      <td>0.747509</td>\n",
       "      <td>0.725152</td>\n",
       "      <td>0.713404</td>\n",
       "      <td>0.741932</td>\n",
       "      <td>0.741213</td>\n",
       "    </tr>\n",
       "  </tbody>\n",
       "</table>\n",
       "</div>"
      ],
      "text/plain": [
       "             Dataset_1  Dataset_2  Dataset_3  Dataset_4  Dataset_5  Dataset_6  \\\n",
       "Normal        0.691282   0.700636   0.647227   0.681373   0.651330   0.684798   \n",
       "Exponential   0.777595   0.753756   0.717384   0.751416   0.726350   0.771768   \n",
       "Empirical     0.786777   0.751016   0.718421   0.741888   0.710878   0.775149   \n",
       "\n",
       "             Dataset_7  Dataset_8  Dataset_9  Dataset_10  mean_fraction  \n",
       "Normal        0.703562   0.675455   0.642985    0.655590       0.673424  \n",
       "Exponential   0.762784   0.725759   0.708035    0.740396       0.743524  \n",
       "Empirical     0.747509   0.725152   0.713404    0.741932       0.741213  "
      ]
     },
     "execution_count": 40,
     "metadata": {},
     "output_type": "execute_result"
    }
   ],
   "source": [
    "fraction_table"
   ]
  },
  {
   "cell_type": "code",
   "execution_count": 41,
   "metadata": {
    "scrolled": true
   },
   "outputs": [
    {
     "data": {
      "text/html": [
       "<div>\n",
       "<style scoped>\n",
       "    .dataframe tbody tr th:only-of-type {\n",
       "        vertical-align: middle;\n",
       "    }\n",
       "\n",
       "    .dataframe tbody tr th {\n",
       "        vertical-align: top;\n",
       "    }\n",
       "\n",
       "    .dataframe thead th {\n",
       "        text-align: right;\n",
       "    }\n",
       "</style>\n",
       "<table border=\"1\" class=\"dataframe\">\n",
       "  <thead>\n",
       "    <tr style=\"text-align: right;\">\n",
       "      <th></th>\n",
       "      <th>Dataset_1</th>\n",
       "      <th>Dataset_2</th>\n",
       "      <th>Dataset_3</th>\n",
       "      <th>Dataset_4</th>\n",
       "      <th>Dataset_5</th>\n",
       "      <th>Dataset_6</th>\n",
       "      <th>Dataset_7</th>\n",
       "      <th>Dataset_8</th>\n",
       "      <th>Dataset_9</th>\n",
       "      <th>Dataset_10</th>\n",
       "      <th>mean_profit</th>\n",
       "      <th>std_profit</th>\n",
       "    </tr>\n",
       "  </thead>\n",
       "  <tbody>\n",
       "    <tr>\n",
       "      <th>Normal</th>\n",
       "      <td>28608.0</td>\n",
       "      <td>31708.0</td>\n",
       "      <td>29964.0</td>\n",
       "      <td>31752.0</td>\n",
       "      <td>32332.0</td>\n",
       "      <td>26740.0</td>\n",
       "      <td>34452.0</td>\n",
       "      <td>31152.0</td>\n",
       "      <td>28744.0</td>\n",
       "      <td>27304.0</td>\n",
       "      <td>30275.6</td>\n",
       "      <td>2307.062166</td>\n",
       "    </tr>\n",
       "    <tr>\n",
       "      <th>Exponential</th>\n",
       "      <td>32180.0</td>\n",
       "      <td>34112.0</td>\n",
       "      <td>33212.0</td>\n",
       "      <td>35016.0</td>\n",
       "      <td>36056.0</td>\n",
       "      <td>30136.0</td>\n",
       "      <td>37352.0</td>\n",
       "      <td>33472.0</td>\n",
       "      <td>31652.0</td>\n",
       "      <td>30836.0</td>\n",
       "      <td>33402.4</td>\n",
       "      <td>2181.815904</td>\n",
       "    </tr>\n",
       "    <tr>\n",
       "      <th>Empirical</th>\n",
       "      <td>32560.0</td>\n",
       "      <td>33988.0</td>\n",
       "      <td>33260.0</td>\n",
       "      <td>34572.0</td>\n",
       "      <td>35288.0</td>\n",
       "      <td>30268.0</td>\n",
       "      <td>36604.0</td>\n",
       "      <td>33444.0</td>\n",
       "      <td>31892.0</td>\n",
       "      <td>30900.0</td>\n",
       "      <td>33277.6</td>\n",
       "      <td>1856.348416</td>\n",
       "    </tr>\n",
       "    <tr>\n",
       "      <th>Max</th>\n",
       "      <td>41384.0</td>\n",
       "      <td>45256.0</td>\n",
       "      <td>46296.0</td>\n",
       "      <td>46600.0</td>\n",
       "      <td>49640.0</td>\n",
       "      <td>39048.0</td>\n",
       "      <td>48968.0</td>\n",
       "      <td>46120.0</td>\n",
       "      <td>44704.0</td>\n",
       "      <td>41648.0</td>\n",
       "      <td>44966.4</td>\n",
       "      <td>3203.875254</td>\n",
       "    </tr>\n",
       "  </tbody>\n",
       "</table>\n",
       "</div>"
      ],
      "text/plain": [
       "             Dataset_1  Dataset_2  Dataset_3  Dataset_4  Dataset_5  Dataset_6  \\\n",
       "Normal         28608.0    31708.0    29964.0    31752.0    32332.0    26740.0   \n",
       "Exponential    32180.0    34112.0    33212.0    35016.0    36056.0    30136.0   \n",
       "Empirical      32560.0    33988.0    33260.0    34572.0    35288.0    30268.0   \n",
       "Max            41384.0    45256.0    46296.0    46600.0    49640.0    39048.0   \n",
       "\n",
       "             Dataset_7  Dataset_8  Dataset_9  Dataset_10  mean_profit  \\\n",
       "Normal         34452.0    31152.0    28744.0     27304.0      30275.6   \n",
       "Exponential    37352.0    33472.0    31652.0     30836.0      33402.4   \n",
       "Empirical      36604.0    33444.0    31892.0     30900.0      33277.6   \n",
       "Max            48968.0    46120.0    44704.0     41648.0      44966.4   \n",
       "\n",
       "              std_profit  \n",
       "Normal       2307.062166  \n",
       "Exponential  2181.815904  \n",
       "Empirical    1856.348416  \n",
       "Max          3203.875254  "
      ]
     },
     "execution_count": 41,
     "metadata": {},
     "output_type": "execute_result"
    }
   ],
   "source": [
    "profit_table"
   ]
  },
  {
   "cell_type": "code",
   "execution_count": 42,
   "metadata": {},
   "outputs": [],
   "source": [
    "profit_table.to_csv(\".\\\\Model_Selection_Result\\\\4.4B_Bagging(No_PCA).csv\")"
   ]
  },
  {
   "cell_type": "code",
   "execution_count": 43,
   "metadata": {},
   "outputs": [
    {
     "data": {
      "text/plain": [
       "[<matplotlib.lines.Line2D at 0x1edf78fa400>]"
      ]
     },
     "execution_count": 43,
     "metadata": {},
     "output_type": "execute_result"
    },
    {
     "data": {
      "image/png": "[encoded data removed]",
      "text/plain": [
       "<Figure size 432x288 with 1 Axes>"
      ]
     },
     "metadata": {
      "needs_background": "light"
     },
     "output_type": "display_data"
    }
   ],
   "source": [
    "plt.xlabel(\"sales\")\n",
    "plt.ylabel(\"Residual\")\n",
    "plt.plot(result['sales'],residual,\".\")"
   ]
  },
  {
   "cell_type": "code",
   "execution_count": null,
   "metadata": {},
   "outputs": [],
   "source": []
  }
 ],
 "metadata": {
  "kernelspec": {
   "display_name": "Python 3",
   "language": "python",
   "name": "python3"
  },
  "language_info": {
   "codemirror_mode": {
    "name": "ipython",
    "version": 3
   },
   "file_extension": ".py",
   "mimetype": "text/x-python",
   "name": "python",
   "nbconvert_exporter": "python",
   "pygments_lexer": "ipython3",
   "version": "3.8.5"
  }
 },
 "nbformat": 4,
 "nbformat_minor": 4
}
