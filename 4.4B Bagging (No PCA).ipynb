{
 "cells": [
  {
   "cell_type": "code",
   "execution_count": 1,
   "metadata": {},
   "outputs": [],
   "source": [
    "import pandas as pd\n",
    "import numpy as np\n",
    "import matplotlib.pyplot as plt\n",
    "from sklearn.pipeline import Pipeline\n",
    "from sklearn.model_selection import GridSearchCV\n",
    "from sklearn.decomposition import PCA\n",
    "from sklearn.metrics import mean_squared_error as MSE\n",
    "from sklearn.linear_model import LinearRegression\n",
    "from sklearn.preprocessing import PolynomialFeatures\n",
    "from sklearn.model_selection import train_test_split\n",
    "from sklearn.linear_model import Lasso\n",
    "from sklearn.neighbors import KNeighborsRegressor\n",
    "from sklearn.tree import DecisionTreeRegressor\n",
    "from sklearn.ensemble import RandomForestRegressor\n",
    "from sklearn.ensemble import GradientBoostingRegressor\n",
    "from sklearn.ensemble import BaggingRegressor"
   ]
  },
  {
   "cell_type": "code",
   "execution_count": 2,
   "metadata": {},
   "outputs": [],
   "source": [
    "np.random.seed(42)"
   ]
  },
  {
   "cell_type": "markdown",
   "metadata": {},
   "source": [
    "# 1. Import the train datasets"
   ]
  },
  {
   "cell_type": "code",
   "execution_count": 3,
   "metadata": {},
   "outputs": [],
   "source": [
    "X_train = pd.read_csv(\"data-train.csv\",index_col=0)\n",
    "Y_train = X_train.sales\n",
    "X_train = X_train.drop(['sales'],axis=1)"
   ]
  },
  {
   "cell_type": "code",
   "execution_count": 4,
   "metadata": {},
   "outputs": [],
   "source": [
    "#X_train = pd.read_csv(\"B_encoded_train_data.csv\",index_col=0)\n",
    "#Y_train = pd.read_csv(\"A_sales_train.csv\",index_col=0)"
   ]
  },
  {
   "cell_type": "code",
   "execution_count": 5,
   "metadata": {},
   "outputs": [],
   "source": [
    "Model_1 = BaggingRegressor()"
   ]
  },
  {
   "cell_type": "markdown",
   "metadata": {},
   "source": [
    "# 2. Setup Pipeline"
   ]
  },
  {
   "cell_type": "code",
   "execution_count": 6,
   "metadata": {},
   "outputs": [],
   "source": [
    "\n",
    "RG = Model_1"
   ]
  },
  {
   "cell_type": "code",
   "execution_count": 7,
   "metadata": {},
   "outputs": [],
   "source": [
    "\n",
    "pipe = Pipeline(steps=[(\"RG\",RG)])"
   ]
  },
  {
   "cell_type": "code",
   "execution_count": 8,
   "metadata": {},
   "outputs": [],
   "source": [
    "param_grid = {\n",
    "    \"RG__bootstrap\":[True,False],\n",
    "    \"RG__bootstrap_features\":[True,False],\n",
    "    \"RG__n_estimators\":[10,100,1000]\n",
    "}"
   ]
  },
  {
   "cell_type": "markdown",
   "metadata": {},
   "source": [
    "# 3. Setup GridSearch"
   ]
  },
  {
   "cell_type": "code",
   "execution_count": 9,
   "metadata": {},
   "outputs": [],
   "source": [
    "score_metric = 'neg_mean_squared_error'\n",
    "search = GridSearchCV(pipe,param_grid,\n",
    "                      n_jobs=-1,\n",
    "                      cv=10,\n",
    "                      scoring=score_metric)"
   ]
  },
  {
   "cell_type": "code",
   "execution_count": 10,
   "metadata": {},
   "outputs": [
    {
     "data": {
      "text/plain": [
       "GridSearchCV(cv=10, estimator=Pipeline(steps=[('RG', BaggingRegressor())]),\n",
       "             n_jobs=-1,\n",
       "             param_grid={'RG__bootstrap': [True, False],\n",
       "                         'RG__bootstrap_features': [True, False],\n",
       "                         'RG__n_estimators': [10, 100, 1000]},\n",
       "             scoring='neg_mean_squared_error')"
      ]
     },
     "execution_count": 10,
     "metadata": {},
     "output_type": "execute_result"
    }
   ],
   "source": [
    "search.fit(X_train,Y_train.values.ravel())"
   ]
  },
  {
   "cell_type": "code",
   "execution_count": 11,
   "metadata": {},
   "outputs": [
    {
     "name": "stdout",
     "output_type": "stream",
     "text": [
      "Best parameter (CV score=-481.093):\n",
      "{'RG__bootstrap': True, 'RG__bootstrap_features': False, 'RG__n_estimators': 1000}\n"
     ]
    }
   ],
   "source": [
    "print(\"Best parameter (CV score=%0.3f):\" % search.best_score_)\n",
    "print(search.best_params_)"
   ]
  },
  {
   "cell_type": "code",
   "execution_count": 12,
   "metadata": {},
   "outputs": [
    {
     "data": {
      "text/html": [
       "<div>\n",
       "<style scoped>\n",
       "    .dataframe tbody tr th:only-of-type {\n",
       "        vertical-align: middle;\n",
       "    }\n",
       "\n",
       "    .dataframe tbody tr th {\n",
       "        vertical-align: top;\n",
       "    }\n",
       "\n",
       "    .dataframe thead th {\n",
       "        text-align: right;\n",
       "    }\n",
       "</style>\n",
       "<table border=\"1\" class=\"dataframe\">\n",
       "  <thead>\n",
       "    <tr style=\"text-align: right;\">\n",
       "      <th></th>\n",
       "      <th>mean_fit_time</th>\n",
       "      <th>std_fit_time</th>\n",
       "      <th>mean_score_time</th>\n",
       "      <th>std_score_time</th>\n",
       "      <th>param_RG__bootstrap</th>\n",
       "      <th>param_RG__bootstrap_features</th>\n",
       "      <th>param_RG__n_estimators</th>\n",
       "      <th>params</th>\n",
       "      <th>split0_test_score</th>\n",
       "      <th>split1_test_score</th>\n",
       "      <th>...</th>\n",
       "      <th>split3_test_score</th>\n",
       "      <th>split4_test_score</th>\n",
       "      <th>split5_test_score</th>\n",
       "      <th>split6_test_score</th>\n",
       "      <th>split7_test_score</th>\n",
       "      <th>split8_test_score</th>\n",
       "      <th>split9_test_score</th>\n",
       "      <th>mean_test_score</th>\n",
       "      <th>std_test_score</th>\n",
       "      <th>rank_test_score</th>\n",
       "    </tr>\n",
       "  </thead>\n",
       "  <tbody>\n",
       "    <tr>\n",
       "      <th>5</th>\n",
       "      <td>28.859204</td>\n",
       "      <td>1.229884</td>\n",
       "      <td>0.209538</td>\n",
       "      <td>0.008938</td>\n",
       "      <td>True</td>\n",
       "      <td>False</td>\n",
       "      <td>1000</td>\n",
       "      <td>{'RG__bootstrap': True, 'RG__bootstrap_feature...</td>\n",
       "      <td>-152.549298</td>\n",
       "      <td>-267.282827</td>\n",
       "      <td>...</td>\n",
       "      <td>-639.611242</td>\n",
       "      <td>-1162.874789</td>\n",
       "      <td>-151.121683</td>\n",
       "      <td>-379.218314</td>\n",
       "      <td>-407.107166</td>\n",
       "      <td>-574.722670</td>\n",
       "      <td>-271.946604</td>\n",
       "      <td>-481.092610</td>\n",
       "      <td>304.210280</td>\n",
       "      <td>1</td>\n",
       "    </tr>\n",
       "    <tr>\n",
       "      <th>3</th>\n",
       "      <td>0.288479</td>\n",
       "      <td>0.028484</td>\n",
       "      <td>0.006255</td>\n",
       "      <td>0.002519</td>\n",
       "      <td>True</td>\n",
       "      <td>False</td>\n",
       "      <td>10</td>\n",
       "      <td>{'RG__bootstrap': True, 'RG__bootstrap_feature...</td>\n",
       "      <td>-171.038664</td>\n",
       "      <td>-329.525862</td>\n",
       "      <td>...</td>\n",
       "      <td>-515.588233</td>\n",
       "      <td>-937.982078</td>\n",
       "      <td>-178.949264</td>\n",
       "      <td>-522.684156</td>\n",
       "      <td>-465.436104</td>\n",
       "      <td>-553.904242</td>\n",
       "      <td>-279.184026</td>\n",
       "      <td>-481.443401</td>\n",
       "      <td>247.397412</td>\n",
       "      <td>2</td>\n",
       "    </tr>\n",
       "    <tr>\n",
       "      <th>4</th>\n",
       "      <td>3.048149</td>\n",
       "      <td>0.515739</td>\n",
       "      <td>0.027826</td>\n",
       "      <td>0.006902</td>\n",
       "      <td>True</td>\n",
       "      <td>False</td>\n",
       "      <td>100</td>\n",
       "      <td>{'RG__bootstrap': True, 'RG__bootstrap_feature...</td>\n",
       "      <td>-149.083238</td>\n",
       "      <td>-277.877438</td>\n",
       "      <td>...</td>\n",
       "      <td>-631.558134</td>\n",
       "      <td>-1154.208220</td>\n",
       "      <td>-153.517583</td>\n",
       "      <td>-390.988433</td>\n",
       "      <td>-403.554445</td>\n",
       "      <td>-571.634118</td>\n",
       "      <td>-271.422534</td>\n",
       "      <td>-484.596874</td>\n",
       "      <td>305.134079</td>\n",
       "      <td>3</td>\n",
       "    </tr>\n",
       "    <tr>\n",
       "      <th>2</th>\n",
       "      <td>31.953388</td>\n",
       "      <td>0.909777</td>\n",
       "      <td>0.271474</td>\n",
       "      <td>0.059793</td>\n",
       "      <td>True</td>\n",
       "      <td>True</td>\n",
       "      <td>1000</td>\n",
       "      <td>{'RG__bootstrap': True, 'RG__bootstrap_feature...</td>\n",
       "      <td>-180.224355</td>\n",
       "      <td>-249.594944</td>\n",
       "      <td>...</td>\n",
       "      <td>-773.886299</td>\n",
       "      <td>-1467.183015</td>\n",
       "      <td>-224.327795</td>\n",
       "      <td>-490.663597</td>\n",
       "      <td>-353.047073</td>\n",
       "      <td>-651.789580</td>\n",
       "      <td>-268.518951</td>\n",
       "      <td>-523.403929</td>\n",
       "      <td>367.401013</td>\n",
       "      <td>4</td>\n",
       "    </tr>\n",
       "    <tr>\n",
       "      <th>8</th>\n",
       "      <td>46.686362</td>\n",
       "      <td>1.561564</td>\n",
       "      <td>0.258225</td>\n",
       "      <td>0.027440</td>\n",
       "      <td>False</td>\n",
       "      <td>True</td>\n",
       "      <td>1000</td>\n",
       "      <td>{'RG__bootstrap': False, 'RG__bootstrap_featur...</td>\n",
       "      <td>-168.786379</td>\n",
       "      <td>-248.852799</td>\n",
       "      <td>...</td>\n",
       "      <td>-409.513367</td>\n",
       "      <td>-1744.169109</td>\n",
       "      <td>-240.045952</td>\n",
       "      <td>-445.948821</td>\n",
       "      <td>-395.436178</td>\n",
       "      <td>-600.155290</td>\n",
       "      <td>-347.341001</td>\n",
       "      <td>-529.016712</td>\n",
       "      <td>432.589679</td>\n",
       "      <td>5</td>\n",
       "    </tr>\n",
       "    <tr>\n",
       "      <th>7</th>\n",
       "      <td>4.681234</td>\n",
       "      <td>0.279739</td>\n",
       "      <td>0.026170</td>\n",
       "      <td>0.008432</td>\n",
       "      <td>False</td>\n",
       "      <td>True</td>\n",
       "      <td>100</td>\n",
       "      <td>{'RG__bootstrap': False, 'RG__bootstrap_featur...</td>\n",
       "      <td>-159.128174</td>\n",
       "      <td>-256.529768</td>\n",
       "      <td>...</td>\n",
       "      <td>-365.684016</td>\n",
       "      <td>-1709.342815</td>\n",
       "      <td>-268.441690</td>\n",
       "      <td>-459.267679</td>\n",
       "      <td>-386.013802</td>\n",
       "      <td>-617.971354</td>\n",
       "      <td>-395.642360</td>\n",
       "      <td>-534.544387</td>\n",
       "      <td>422.952584</td>\n",
       "      <td>6</td>\n",
       "    </tr>\n",
       "    <tr>\n",
       "      <th>1</th>\n",
       "      <td>3.961128</td>\n",
       "      <td>0.904156</td>\n",
       "      <td>0.029497</td>\n",
       "      <td>0.018997</td>\n",
       "      <td>True</td>\n",
       "      <td>True</td>\n",
       "      <td>100</td>\n",
       "      <td>{'RG__bootstrap': True, 'RG__bootstrap_feature...</td>\n",
       "      <td>-175.690776</td>\n",
       "      <td>-284.228055</td>\n",
       "      <td>...</td>\n",
       "      <td>-805.873052</td>\n",
       "      <td>-1453.578470</td>\n",
       "      <td>-203.844348</td>\n",
       "      <td>-722.492570</td>\n",
       "      <td>-378.304313</td>\n",
       "      <td>-688.109274</td>\n",
       "      <td>-280.663689</td>\n",
       "      <td>-550.095547</td>\n",
       "      <td>369.471220</td>\n",
       "      <td>7</td>\n",
       "    </tr>\n",
       "    <tr>\n",
       "      <th>0</th>\n",
       "      <td>0.656956</td>\n",
       "      <td>0.085724</td>\n",
       "      <td>0.009096</td>\n",
       "      <td>0.006675</td>\n",
       "      <td>True</td>\n",
       "      <td>True</td>\n",
       "      <td>10</td>\n",
       "      <td>{'RG__bootstrap': True, 'RG__bootstrap_feature...</td>\n",
       "      <td>-182.248922</td>\n",
       "      <td>-382.596681</td>\n",
       "      <td>...</td>\n",
       "      <td>-736.026422</td>\n",
       "      <td>-1345.257143</td>\n",
       "      <td>-310.228312</td>\n",
       "      <td>-596.781255</td>\n",
       "      <td>-417.797446</td>\n",
       "      <td>-686.154978</td>\n",
       "      <td>-358.358485</td>\n",
       "      <td>-585.386822</td>\n",
       "      <td>321.463621</td>\n",
       "      <td>8</td>\n",
       "    </tr>\n",
       "    <tr>\n",
       "      <th>6</th>\n",
       "      <td>0.475387</td>\n",
       "      <td>0.035308</td>\n",
       "      <td>0.006515</td>\n",
       "      <td>0.005085</td>\n",
       "      <td>False</td>\n",
       "      <td>True</td>\n",
       "      <td>10</td>\n",
       "      <td>{'RG__bootstrap': False, 'RG__bootstrap_featur...</td>\n",
       "      <td>-192.198018</td>\n",
       "      <td>-328.831638</td>\n",
       "      <td>...</td>\n",
       "      <td>-764.883578</td>\n",
       "      <td>-1673.753074</td>\n",
       "      <td>-397.182727</td>\n",
       "      <td>-707.493680</td>\n",
       "      <td>-443.119654</td>\n",
       "      <td>-592.425368</td>\n",
       "      <td>-534.117186</td>\n",
       "      <td>-649.295515</td>\n",
       "      <td>392.991200</td>\n",
       "      <td>9</td>\n",
       "    </tr>\n",
       "    <tr>\n",
       "      <th>10</th>\n",
       "      <td>4.514515</td>\n",
       "      <td>0.430216</td>\n",
       "      <td>0.022004</td>\n",
       "      <td>0.006595</td>\n",
       "      <td>False</td>\n",
       "      <td>False</td>\n",
       "      <td>100</td>\n",
       "      <td>{'RG__bootstrap': False, 'RG__bootstrap_featur...</td>\n",
       "      <td>-375.006722</td>\n",
       "      <td>-334.300472</td>\n",
       "      <td>...</td>\n",
       "      <td>-790.423486</td>\n",
       "      <td>-1965.114605</td>\n",
       "      <td>-357.476331</td>\n",
       "      <td>-665.839925</td>\n",
       "      <td>-485.394536</td>\n",
       "      <td>-630.830939</td>\n",
       "      <td>-783.268770</td>\n",
       "      <td>-778.386331</td>\n",
       "      <td>494.729403</td>\n",
       "      <td>10</td>\n",
       "    </tr>\n",
       "    <tr>\n",
       "      <th>11</th>\n",
       "      <td>40.252175</td>\n",
       "      <td>1.679016</td>\n",
       "      <td>0.178850</td>\n",
       "      <td>0.044479</td>\n",
       "      <td>False</td>\n",
       "      <td>False</td>\n",
       "      <td>1000</td>\n",
       "      <td>{'RG__bootstrap': False, 'RG__bootstrap_featur...</td>\n",
       "      <td>-373.203838</td>\n",
       "      <td>-337.874155</td>\n",
       "      <td>...</td>\n",
       "      <td>-788.955680</td>\n",
       "      <td>-1963.300394</td>\n",
       "      <td>-361.883943</td>\n",
       "      <td>-716.038331</td>\n",
       "      <td>-486.888059</td>\n",
       "      <td>-658.601865</td>\n",
       "      <td>-757.846938</td>\n",
       "      <td>-793.001598</td>\n",
       "      <td>503.708675</td>\n",
       "      <td>11</td>\n",
       "    </tr>\n",
       "    <tr>\n",
       "      <th>9</th>\n",
       "      <td>0.457577</td>\n",
       "      <td>0.044826</td>\n",
       "      <td>0.007081</td>\n",
       "      <td>0.004218</td>\n",
       "      <td>False</td>\n",
       "      <td>False</td>\n",
       "      <td>10</td>\n",
       "      <td>{'RG__bootstrap': False, 'RG__bootstrap_featur...</td>\n",
       "      <td>-344.601983</td>\n",
       "      <td>-341.953578</td>\n",
       "      <td>...</td>\n",
       "      <td>-652.819569</td>\n",
       "      <td>-1988.062381</td>\n",
       "      <td>-363.186580</td>\n",
       "      <td>-896.148701</td>\n",
       "      <td>-491.877403</td>\n",
       "      <td>-685.980519</td>\n",
       "      <td>-898.701255</td>\n",
       "      <td>-812.256503</td>\n",
       "      <td>510.016337</td>\n",
       "      <td>12</td>\n",
       "    </tr>\n",
       "  </tbody>\n",
       "</table>\n",
       "<p>12 rows × 21 columns</p>\n",
       "</div>"
      ],
      "text/plain": [
       "    mean_fit_time  std_fit_time  mean_score_time  std_score_time  \\\n",
       "5       28.859204      1.229884         0.209538        0.008938   \n",
       "3        0.288479      0.028484         0.006255        0.002519   \n",
       "4        3.048149      0.515739         0.027826        0.006902   \n",
       "2       31.953388      0.909777         0.271474        0.059793   \n",
       "8       46.686362      1.561564         0.258225        0.027440   \n",
       "7        4.681234      0.279739         0.026170        0.008432   \n",
       "1        3.961128      0.904156         0.029497        0.018997   \n",
       "0        0.656956      0.085724         0.009096        0.006675   \n",
       "6        0.475387      0.035308         0.006515        0.005085   \n",
       "10       4.514515      0.430216         0.022004        0.006595   \n",
       "11      40.252175      1.679016         0.178850        0.044479   \n",
       "9        0.457577      0.044826         0.007081        0.004218   \n",
       "\n",
       "   param_RG__bootstrap param_RG__bootstrap_features param_RG__n_estimators  \\\n",
       "5                 True                        False                   1000   \n",
       "3                 True                        False                     10   \n",
       "4                 True                        False                    100   \n",
       "2                 True                         True                   1000   \n",
       "8                False                         True                   1000   \n",
       "7                False                         True                    100   \n",
       "1                 True                         True                    100   \n",
       "0                 True                         True                     10   \n",
       "6                False                         True                     10   \n",
       "10               False                        False                    100   \n",
       "11               False                        False                   1000   \n",
       "9                False                        False                     10   \n",
       "\n",
       "                                               params  split0_test_score  \\\n",
       "5   {'RG__bootstrap': True, 'RG__bootstrap_feature...        -152.549298   \n",
       "3   {'RG__bootstrap': True, 'RG__bootstrap_feature...        -171.038664   \n",
       "4   {'RG__bootstrap': True, 'RG__bootstrap_feature...        -149.083238   \n",
       "2   {'RG__bootstrap': True, 'RG__bootstrap_feature...        -180.224355   \n",
       "8   {'RG__bootstrap': False, 'RG__bootstrap_featur...        -168.786379   \n",
       "7   {'RG__bootstrap': False, 'RG__bootstrap_featur...        -159.128174   \n",
       "1   {'RG__bootstrap': True, 'RG__bootstrap_feature...        -175.690776   \n",
       "0   {'RG__bootstrap': True, 'RG__bootstrap_feature...        -182.248922   \n",
       "6   {'RG__bootstrap': False, 'RG__bootstrap_featur...        -192.198018   \n",
       "10  {'RG__bootstrap': False, 'RG__bootstrap_featur...        -375.006722   \n",
       "11  {'RG__bootstrap': False, 'RG__bootstrap_featur...        -373.203838   \n",
       "9   {'RG__bootstrap': False, 'RG__bootstrap_featur...        -344.601983   \n",
       "\n",
       "    split1_test_score  ...  split3_test_score  split4_test_score  \\\n",
       "5         -267.282827  ...        -639.611242       -1162.874789   \n",
       "3         -329.525862  ...        -515.588233        -937.982078   \n",
       "4         -277.877438  ...        -631.558134       -1154.208220   \n",
       "2         -249.594944  ...        -773.886299       -1467.183015   \n",
       "8         -248.852799  ...        -409.513367       -1744.169109   \n",
       "7         -256.529768  ...        -365.684016       -1709.342815   \n",
       "1         -284.228055  ...        -805.873052       -1453.578470   \n",
       "0         -382.596681  ...        -736.026422       -1345.257143   \n",
       "6         -328.831638  ...        -764.883578       -1673.753074   \n",
       "10        -334.300472  ...        -790.423486       -1965.114605   \n",
       "11        -337.874155  ...        -788.955680       -1963.300394   \n",
       "9         -341.953578  ...        -652.819569       -1988.062381   \n",
       "\n",
       "    split5_test_score  split6_test_score  split7_test_score  \\\n",
       "5         -151.121683        -379.218314        -407.107166   \n",
       "3         -178.949264        -522.684156        -465.436104   \n",
       "4         -153.517583        -390.988433        -403.554445   \n",
       "2         -224.327795        -490.663597        -353.047073   \n",
       "8         -240.045952        -445.948821        -395.436178   \n",
       "7         -268.441690        -459.267679        -386.013802   \n",
       "1         -203.844348        -722.492570        -378.304313   \n",
       "0         -310.228312        -596.781255        -417.797446   \n",
       "6         -397.182727        -707.493680        -443.119654   \n",
       "10        -357.476331        -665.839925        -485.394536   \n",
       "11        -361.883943        -716.038331        -486.888059   \n",
       "9         -363.186580        -896.148701        -491.877403   \n",
       "\n",
       "    split8_test_score  split9_test_score  mean_test_score  std_test_score  \\\n",
       "5         -574.722670        -271.946604      -481.092610      304.210280   \n",
       "3         -553.904242        -279.184026      -481.443401      247.397412   \n",
       "4         -571.634118        -271.422534      -484.596874      305.134079   \n",
       "2         -651.789580        -268.518951      -523.403929      367.401013   \n",
       "8         -600.155290        -347.341001      -529.016712      432.589679   \n",
       "7         -617.971354        -395.642360      -534.544387      422.952584   \n",
       "1         -688.109274        -280.663689      -550.095547      369.471220   \n",
       "0         -686.154978        -358.358485      -585.386822      321.463621   \n",
       "6         -592.425368        -534.117186      -649.295515      392.991200   \n",
       "10        -630.830939        -783.268770      -778.386331      494.729403   \n",
       "11        -658.601865        -757.846938      -793.001598      503.708675   \n",
       "9         -685.980519        -898.701255      -812.256503      510.016337   \n",
       "\n",
       "    rank_test_score  \n",
       "5                 1  \n",
       "3                 2  \n",
       "4                 3  \n",
       "2                 4  \n",
       "8                 5  \n",
       "7                 6  \n",
       "1                 7  \n",
       "0                 8  \n",
       "6                 9  \n",
       "10               10  \n",
       "11               11  \n",
       "9                12  \n",
       "\n",
       "[12 rows x 21 columns]"
      ]
     },
     "execution_count": 12,
     "metadata": {},
     "output_type": "execute_result"
    }
   ],
   "source": [
    "df = pd.DataFrame(search.cv_results_)\n",
    "df = df.sort_values(by=['rank_test_score'])\n",
    "df"
   ]
  },
  {
   "cell_type": "markdown",
   "metadata": {},
   "source": [
    "# 4. Best Hyperparameter"
   ]
  },
  {
   "cell_type": "code",
   "execution_count": 13,
   "metadata": {},
   "outputs": [
    {
     "name": "stdout",
     "output_type": "stream",
     "text": [
      "{'RG__bootstrap': True, 'RG__bootstrap_features': False, 'RG__n_estimators': 1000}\n"
     ]
    }
   ],
   "source": [
    "parms = pd.DataFrame(df['params'])\n",
    "for i in parms.iloc[0]:\n",
    "    print(i)"
   ]
  },
  {
   "cell_type": "markdown",
   "metadata": {},
   "source": [
    "# 5. Evaluate Model"
   ]
  },
  {
   "cell_type": "code",
   "execution_count": 14,
   "metadata": {},
   "outputs": [],
   "source": [
    "best_boot = parms.iloc[0][0]['RG__bootstrap']\n",
    "best_boot_feat = parms.iloc[0][0]['RG__bootstrap_features']\n",
    "best_n_est = parms.iloc[0][0]['RG__n_estimators']"
   ]
  },
  {
   "cell_type": "code",
   "execution_count": null,
   "metadata": {},
   "outputs": [],
   "source": []
  },
  {
   "cell_type": "code",
   "execution_count": 15,
   "metadata": {},
   "outputs": [],
   "source": [
    "Model_2 = BaggingRegressor(bootstrap=best_boot,bootstrap_features=best_boot_feat,n_estimators=best_n_est)"
   ]
  },
  {
   "cell_type": "code",
   "execution_count": 16,
   "metadata": {},
   "outputs": [],
   "source": [
    "X_train1,X_test1,Y_train1,Y_test1 = train_test_split(X_train,Y_train,test_size=0.2,random_state=132)\n"
   ]
  },
  {
   "cell_type": "code",
   "execution_count": 17,
   "metadata": {},
   "outputs": [
    {
     "data": {
      "text/plain": [
       "BaggingRegressor(n_estimators=1000)"
      ]
     },
     "execution_count": 17,
     "metadata": {},
     "output_type": "execute_result"
    }
   ],
   "source": [
    "\n",
    "RG1 = Model_2\n",
    "RG1.fit(X_train1,Y_train1.values.ravel())"
   ]
  },
  {
   "cell_type": "code",
   "execution_count": null,
   "metadata": {},
   "outputs": [],
   "source": []
  },
  {
   "cell_type": "code",
   "execution_count": 18,
   "metadata": {},
   "outputs": [
    {
     "data": {
      "text/plain": [
       "316.7954317300216"
      ]
     },
     "execution_count": 18,
     "metadata": {},
     "output_type": "execute_result"
    }
   ],
   "source": [
    "MSE(RG1.predict(X_test1),Y_test1)"
   ]
  },
  {
   "cell_type": "code",
   "execution_count": 19,
   "metadata": {},
   "outputs": [],
   "source": [
    "result = pd.DataFrame(Y_test1)"
   ]
  },
  {
   "cell_type": "code",
   "execution_count": 20,
   "metadata": {},
   "outputs": [],
   "source": [
    "result[\"Predicted_sales\"] = RG1.predict(X_test1)"
   ]
  },
  {
   "cell_type": "code",
   "execution_count": 21,
   "metadata": {},
   "outputs": [
    {
     "data": {
      "text/plain": [
       "316.7954317300216"
      ]
     },
     "execution_count": 21,
     "metadata": {},
     "output_type": "execute_result"
    }
   ],
   "source": [
    "MSE(result[\"sales\"],result[\"Predicted_sales\"])"
   ]
  },
  {
   "cell_type": "markdown",
   "metadata": {},
   "source": [
    "# 5.1 Model using $log(Sales)$"
   ]
  },
  {
   "cell_type": "code",
   "execution_count": 60,
   "metadata": {},
   "outputs": [],
   "source": [
    "Model_3 = BaggingRegressor(bootstrap=best_boot,bootstrap_features=best_boot_feat,n_estimators=best_n_est)"
   ]
  },
  {
   "cell_type": "code",
   "execution_count": 61,
   "metadata": {},
   "outputs": [],
   "source": [
    "OY_train = pd.read_csv(\"A_log_sales_train.csv\",index_col=0)"
   ]
  },
  {
   "cell_type": "code",
   "execution_count": 62,
   "metadata": {},
   "outputs": [],
   "source": [
    "X_train2,X_test2,Y_train2,Y_test2 = train_test_split(X_train,OY_train,test_size=0.2,random_state=132)"
   ]
  },
  {
   "cell_type": "code",
   "execution_count": 63,
   "metadata": {},
   "outputs": [
    {
     "data": {
      "text/plain": [
       "BaggingRegressor(n_estimators=1000)"
      ]
     },
     "execution_count": 63,
     "metadata": {},
     "output_type": "execute_result"
    }
   ],
   "source": [
    "RG2 = Model_3\n",
    "RG2.fit(X_train2,Y_train2.values.ravel())"
   ]
  },
  {
   "cell_type": "code",
   "execution_count": 64,
   "metadata": {},
   "outputs": [
    {
     "data": {
      "text/plain": [
       "288.80310943577155"
      ]
     },
     "execution_count": 64,
     "metadata": {},
     "output_type": "execute_result"
    }
   ],
   "source": [
    "MSE(np.exp(RG2.predict(X_test2)),np.exp(Y_test2))"
   ]
  },
  {
   "cell_type": "markdown",
   "metadata": {},
   "source": [
    "Interestingly, for Gradient boosting models that do not use PCA, using the unmodified sales as response yields better result"
   ]
  },
  {
   "cell_type": "code",
   "execution_count": null,
   "metadata": {},
   "outputs": [],
   "source": []
  },
  {
   "cell_type": "markdown",
   "metadata": {},
   "source": [
    "# 6. Inventory Decision"
   ]
  },
  {
   "cell_type": "code",
   "execution_count": 22,
   "metadata": {},
   "outputs": [],
   "source": [
    "residual = result['sales']-result['Predicted_sales']"
   ]
  },
  {
   "cell_type": "code",
   "execution_count": 23,
   "metadata": {},
   "outputs": [
    {
     "data": {
      "text/plain": [
       "(4, 8)"
      ]
     },
     "execution_count": 23,
     "metadata": {},
     "output_type": "execute_result"
    }
   ],
   "source": [
    "Price=20\n",
    "Cost=12\n",
    "Salvage=8\n",
    "Over=Cost - Salvage\n",
    "Under=Price - Cost\n",
    "Over, Under"
   ]
  },
  {
   "cell_type": "markdown",
   "metadata": {},
   "source": [
    "### QQ plot to explore the distribution of residual"
   ]
  },
  {
   "cell_type": "markdown",
   "metadata": {},
   "source": [
    "#### Normal Distribution"
   ]
  },
  {
   "cell_type": "code",
   "execution_count": 24,
   "metadata": {},
   "outputs": [],
   "source": [
    "import scipy.stats as sct"
   ]
  },
  {
   "cell_type": "code",
   "execution_count": 25,
   "metadata": {},
   "outputs": [
    {
     "data": {
      "image/png": "[encoded data removed]",
      "text/plain": [
       "<Figure size 432x288 with 1 Axes>"
      ]
     },
     "metadata": {
      "needs_background": "light"
     },
     "output_type": "display_data"
    }
   ],
   "source": [
    "import scipy\n",
    "scipy.stats.probplot(residual, dist=\"norm\", plot=plt)\n",
    "plt.show()"
   ]
  },
  {
   "cell_type": "code",
   "execution_count": 26,
   "metadata": {},
   "outputs": [],
   "source": [
    "s = residual.std()\n",
    "opt_dec_N=round(sct.norm.ppf(Under/(Under+Over))*s + result['Predicted_sales'])"
   ]
  },
  {
   "cell_type": "markdown",
   "metadata": {},
   "source": [
    "#### Exponential Distribution"
   ]
  },
  {
   "cell_type": "code",
   "execution_count": 27,
   "metadata": {},
   "outputs": [
    {
     "data": {
      "image/png": "[encoded data removed]",
      "text/plain": [
       "<Figure size 432x288 with 1 Axes>"
      ]
     },
     "metadata": {
      "needs_background": "light"
     },
     "output_type": "display_data"
    }
   ],
   "source": [
    "scipy.stats.probplot(residual, dist=\"expon\", plot=plt)\n",
    "plt.show()"
   ]
  },
  {
   "cell_type": "code",
   "execution_count": 28,
   "metadata": {},
   "outputs": [],
   "source": [
    "opt_dec_E=round((-result['Predicted_sales'])*np.log(1-(Under/(Under+Over))))"
   ]
  },
  {
   "cell_type": "markdown",
   "metadata": {},
   "source": [
    "#### Empirical Distribution"
   ]
  },
  {
   "cell_type": "code",
   "execution_count": 29,
   "metadata": {},
   "outputs": [
    {
     "data": {
      "text/plain": [
       "[<matplotlib.lines.Line2D at 0x2597f5cba30>]"
      ]
     },
     "execution_count": 29,
     "metadata": {},
     "output_type": "execute_result"
    },
    {
     "data": {
      "image/png": "[encoded data removed]",
      "text/plain": [
       "<Figure size 432x288 with 1 Axes>"
      ]
     },
     "metadata": {
      "needs_background": "light"
     },
     "output_type": "display_data"
    }
   ],
   "source": [
    "size = residual.shape[0]\n",
    "step=1/size\n",
    "jumps = [step*i for i in range(1,size+1)]\n",
    "Sample = sorted(residual)\n",
    "plt.plot(Sample,jumps)"
   ]
  },
  {
   "cell_type": "code",
   "execution_count": 30,
   "metadata": {},
   "outputs": [
    {
     "data": {
      "image/png": "[encoded data removed]",
      "text/plain": [
       "<Figure size 432x288 with 1 Axes>"
      ]
     },
     "metadata": {
      "needs_background": "light"
     },
     "output_type": "display_data"
    }
   ],
   "source": [
    "plt.hist(Sample)\n",
    "plt.show()"
   ]
  },
  {
   "cell_type": "code",
   "execution_count": 31,
   "metadata": {},
   "outputs": [],
   "source": [
    "def inv(sample,jump,area):\n",
    "    size = len(sample)\n",
    "    i=0\n",
    "    temp=jump[i]\n",
    "    while temp<area:\n",
    "        i+=1\n",
    "        temp=jump[i]\n",
    "        \n",
    "    return sample[i]"
   ]
  },
  {
   "cell_type": "code",
   "execution_count": 32,
   "metadata": {},
   "outputs": [
    {
     "data": {
      "text/plain": [
       "0.22799999999999998"
      ]
     },
     "execution_count": 32,
     "metadata": {},
     "output_type": "execute_result"
    }
   ],
   "source": [
    "offset = inv(Sample,jumps,2/3)\n",
    "offset"
   ]
  },
  {
   "cell_type": "code",
   "execution_count": 33,
   "metadata": {},
   "outputs": [],
   "source": [
    "opt_dec_B = round(result['Predicted_sales']+offset)"
   ]
  },
  {
   "cell_type": "markdown",
   "metadata": {},
   "source": [
    "# 7. Out-of-samples Profit"
   ]
  },
  {
   "cell_type": "code",
   "execution_count": 34,
   "metadata": {},
   "outputs": [
    {
     "data": {
      "text/plain": [
       "82096"
      ]
     },
     "execution_count": 34,
     "metadata": {},
     "output_type": "execute_result"
    }
   ],
   "source": [
    "#max profit for test data set\n",
    "max_profit = result['sales'].sum()*(Price-Cost)\n",
    "max_profit"
   ]
  },
  {
   "cell_type": "code",
   "execution_count": 56,
   "metadata": {},
   "outputs": [
    {
     "data": {
      "text/plain": [
       "59968.0"
      ]
     },
     "execution_count": 56,
     "metadata": {},
     "output_type": "execute_result"
    }
   ],
   "source": [
    "#Profit (None)\n",
    "profit_lst = profit(round(result['sales']),round(result['Predicted_sales']))\n",
    "profit_lst.sum()"
   ]
  },
  {
   "cell_type": "code",
   "execution_count": 35,
   "metadata": {},
   "outputs": [],
   "source": [
    "def profit(demand,inv):\n",
    "    return (Price-Salvage)*np.minimum(demand,inv)-(Cost-Salvage)*inv"
   ]
  },
  {
   "cell_type": "code",
   "execution_count": 57,
   "metadata": {},
   "outputs": [
    {
     "data": {
      "text/plain": [
       "59968.0"
      ]
     },
     "execution_count": 57,
     "metadata": {},
     "output_type": "execute_result"
    }
   ],
   "source": [
    "#Profit (None)\n",
    "profit_lst = profit(round(result['sales']),round(result['Predicted_sales']))\n",
    "profit_lst.sum()"
   ]
  },
  {
   "cell_type": "code",
   "execution_count": 36,
   "metadata": {},
   "outputs": [
    {
     "data": {
      "text/plain": [
       "53484.0"
      ]
     },
     "execution_count": 36,
     "metadata": {},
     "output_type": "execute_result"
    }
   ],
   "source": [
    "#Profit (Normal)\n",
    "profit_lst_N = profit(result['sales'],opt_dec_N)\n",
    "profit_lst_N.sum()"
   ]
  },
  {
   "cell_type": "code",
   "execution_count": 37,
   "metadata": {},
   "outputs": [
    {
     "data": {
      "text/plain": [
       "59964.0"
      ]
     },
     "execution_count": 37,
     "metadata": {},
     "output_type": "execute_result"
    }
   ],
   "source": [
    "#Profit (Exponential)\n",
    "profit_lst_E = profit(result['sales'],opt_dec_E)\n",
    "profit_lst_E.sum()"
   ]
  },
  {
   "cell_type": "code",
   "execution_count": 38,
   "metadata": {},
   "outputs": [
    {
     "data": {
      "text/plain": [
       "60020.0"
      ]
     },
     "execution_count": 38,
     "metadata": {},
     "output_type": "execute_result"
    }
   ],
   "source": [
    "#Profit (Empirical)\n",
    "profit_lst_B = profit(result['sales'],opt_dec_B)\n",
    "profit_lst_B.sum()"
   ]
  },
  {
   "cell_type": "markdown",
   "metadata": {},
   "source": [
    "# 8. K-Fold Cross Validation"
   ]
  },
  {
   "cell_type": "markdown",
   "metadata": {},
   "source": [
    "### Repeat steps 5,6,7 with 10-fold cross validation"
   ]
  },
  {
   "cell_type": "code",
   "execution_count": 48,
   "metadata": {},
   "outputs": [],
   "source": [
    "Model_4 = BaggingRegressor(bootstrap=best_boot,bootstrap_features=best_boot_feat,n_estimators=best_n_est)"
   ]
  },
  {
   "cell_type": "code",
   "execution_count": 49,
   "metadata": {},
   "outputs": [],
   "source": [
    "from sklearn.model_selection import KFold\n",
    "k=10\n",
    "kf = KFold(n_splits=k)\n",
    "X_train_t=X_train.to_numpy()\n",
    "Y_train_t=Y_train.to_numpy()\n",
    "model = []\n",
    "mse_lst = []\n",
    "max_profit_lst = []\n",
    "profit_N_lst = []\n",
    "profit_E_lst = []\n",
    "profit_B_lst = []\n",
    "\n",
    "for train_index,test_index in kf.split(X_train_t):\n",
    "    X_train_K,X_test_K=X_train_t[train_index],X_train_t[test_index]\n",
    "    Y_train_K,Y_test_K=Y_train_t[train_index],Y_train_t[test_index]\n",
    "    \n",
    "    \n",
    "    #Model\n",
    "    RG_K = Model_4\n",
    "    RG_K.fit(X_train_K,Y_train_K.ravel())\n",
    "    \n",
    "    \n",
    "    #MSE\n",
    "    mse_lst.append(MSE(RG_K.predict(X_test_K),Y_test_K))\n",
    "    \n",
    "    result_K = pd.DataFrame(Y_test_K)\n",
    "    result_K[\"Predicted_sales\"] = RG_K.predict(X_test_K)\n",
    "    \n",
    "    #Obtain residual\n",
    "    residual_K = result_K[0]-result_K['Predicted_sales']\n",
    "    \n",
    "    #Get std for Normal distribution\n",
    "    s_K = residual_K.std()\n",
    "    \n",
    "    #Inventory Decision (Normal)\n",
    "    opt_dec_N_K=np.ceil(sct.norm.ppf(Under/(Under+Over))*s_K + result_K['Predicted_sales'])\n",
    "    #Inventory Decision (Exponential)\n",
    "    opt_dec_E_K=np.ceil((-result_K['Predicted_sales'])*np.log(1-(Under/(Under+Over))))\n",
    "    \n",
    "    #Inventory Decision (Empirical Distribution)\n",
    "    size_K = residual_K.shape[0]\n",
    "    step_K=1/size_K\n",
    "    jumps_K = [step_K*i for i in range(1,size_K+1)]\n",
    "    Sample_K = sorted(residual_K)\n",
    "    offset_K = inv(Sample_K,jumps_K,2/3)\n",
    "    opt_dec_B_K = np.ceil(result_K['Predicted_sales']+offset_K)\n",
    "    \n",
    "    #Out-of_sample profit\n",
    "    profit_lst_B_K = profit(result_K[0],opt_dec_B_K)\n",
    "    profit_B_lst.append(profit_lst_B_K.sum())\n",
    "    \n",
    "    profit_lst_N_K = profit(result_K[0],opt_dec_N_K)\n",
    "    profit_N_lst.append(profit_lst_N_K.sum())\n",
    "    \n",
    "    profit_lst_E_K = profit(result_K[0],opt_dec_E_K)\n",
    "    profit_E_lst.append(profit_lst_E_K.sum())\n",
    "    \n",
    "    max_profit_K = result_K[0].sum()*(Price-Cost)\n",
    "    max_profit_lst.append(max_profit_K)\n",
    "    \n",
    "max_profit_lst = np.array(max_profit_lst)\n",
    "profit_N_lst = np.array(profit_N_lst)\n",
    "profit_E_lst = np.array(profit_E_lst)\n",
    "profit_B_lst = np.array(profit_B_lst)\n",
    "\n",
    "fraction_of_max_N = profit_N_lst/max_profit_lst\n",
    "fraction_of_max_E = profit_E_lst/max_profit_lst\n",
    "fraction_of_max_B = profit_B_lst/max_profit_lst\n",
    "\n",
    "dist_profit = [\"Normal\",\"Exponential\",\"Empirical\",\"Max\"]\n",
    "dist_frac = [\"Normal\",\"Exponential\",\"Empirical\"]\n",
    "col_name = [\"Dataset_\"+str(i) for i in range(1,k+1)]\n",
    "\n",
    "profit_lst = [profit_N_lst,profit_E_lst,profit_B_lst,max_profit_lst]\n",
    "profit_table = pd.DataFrame(profit_lst,index=dist_profit,columns=col_name)\n",
    "profit_table[\"mean_profit\"]=profit_table.mean(axis=1)\n",
    "profit_table[\"std_profit\"]=profit_table.std(ddof=1,axis=1)\n",
    "\n",
    "fraction_lst = [fraction_of_max_N,fraction_of_max_E,fraction_of_max_B]\n",
    "fraction_table = pd.DataFrame(fraction_lst,index=dist_frac,columns=col_name)\n",
    "fraction_table[\"mean_fraction\"]=fraction_table.mean(axis=1)"
   ]
  },
  {
   "cell_type": "code",
   "execution_count": 50,
   "metadata": {
    "scrolled": false
   },
   "outputs": [
    {
     "data": {
      "text/html": [
       "<div>\n",
       "<style scoped>\n",
       "    .dataframe tbody tr th:only-of-type {\n",
       "        vertical-align: middle;\n",
       "    }\n",
       "\n",
       "    .dataframe tbody tr th {\n",
       "        vertical-align: top;\n",
       "    }\n",
       "\n",
       "    .dataframe thead th {\n",
       "        text-align: right;\n",
       "    }\n",
       "</style>\n",
       "<table border=\"1\" class=\"dataframe\">\n",
       "  <thead>\n",
       "    <tr style=\"text-align: right;\">\n",
       "      <th></th>\n",
       "      <th>Dataset_1</th>\n",
       "      <th>Dataset_2</th>\n",
       "      <th>Dataset_3</th>\n",
       "      <th>Dataset_4</th>\n",
       "      <th>Dataset_5</th>\n",
       "      <th>Dataset_6</th>\n",
       "      <th>Dataset_7</th>\n",
       "      <th>Dataset_8</th>\n",
       "      <th>Dataset_9</th>\n",
       "      <th>Dataset_10</th>\n",
       "      <th>mean_fraction</th>\n",
       "    </tr>\n",
       "  </thead>\n",
       "  <tbody>\n",
       "    <tr>\n",
       "      <th>Normal</th>\n",
       "      <td>0.732940</td>\n",
       "      <td>0.708149</td>\n",
       "      <td>0.583722</td>\n",
       "      <td>0.629442</td>\n",
       "      <td>0.560032</td>\n",
       "      <td>0.720959</td>\n",
       "      <td>0.690410</td>\n",
       "      <td>0.662099</td>\n",
       "      <td>0.605762</td>\n",
       "      <td>0.664234</td>\n",
       "      <td>0.655775</td>\n",
       "    </tr>\n",
       "    <tr>\n",
       "      <th>Exponential</th>\n",
       "      <td>0.780302</td>\n",
       "      <td>0.753933</td>\n",
       "      <td>0.717470</td>\n",
       "      <td>0.747897</td>\n",
       "      <td>0.729654</td>\n",
       "      <td>0.771358</td>\n",
       "      <td>0.757393</td>\n",
       "      <td>0.726106</td>\n",
       "      <td>0.712330</td>\n",
       "      <td>0.739435</td>\n",
       "      <td>0.743588</td>\n",
       "    </tr>\n",
       "    <tr>\n",
       "      <th>Empirical</th>\n",
       "      <td>0.786584</td>\n",
       "      <td>0.750221</td>\n",
       "      <td>0.719457</td>\n",
       "      <td>0.740086</td>\n",
       "      <td>0.712651</td>\n",
       "      <td>0.772588</td>\n",
       "      <td>0.745466</td>\n",
       "      <td>0.725239</td>\n",
       "      <td>0.716267</td>\n",
       "      <td>0.740012</td>\n",
       "      <td>0.740857</td>\n",
       "    </tr>\n",
       "  </tbody>\n",
       "</table>\n",
       "</div>"
      ],
      "text/plain": [
       "             Dataset_1  Dataset_2  Dataset_3  Dataset_4  Dataset_5  Dataset_6  \\\n",
       "Normal        0.732940   0.708149   0.583722   0.629442   0.560032   0.720959   \n",
       "Exponential   0.780302   0.753933   0.717470   0.747897   0.729654   0.771358   \n",
       "Empirical     0.786584   0.750221   0.719457   0.740086   0.712651   0.772588   \n",
       "\n",
       "             Dataset_7  Dataset_8  Dataset_9  Dataset_10  mean_fraction  \n",
       "Normal        0.690410   0.662099   0.605762    0.664234       0.655775  \n",
       "Exponential   0.757393   0.726106   0.712330    0.739435       0.743588  \n",
       "Empirical     0.745466   0.725239   0.716267    0.740012       0.740857  "
      ]
     },
     "execution_count": 50,
     "metadata": {},
     "output_type": "execute_result"
    }
   ],
   "source": [
    "fraction_table"
   ]
  },
  {
   "cell_type": "code",
   "execution_count": 51,
   "metadata": {
    "scrolled": false
   },
   "outputs": [
    {
     "data": {
      "text/html": [
       "<div>\n",
       "<style scoped>\n",
       "    .dataframe tbody tr th:only-of-type {\n",
       "        vertical-align: middle;\n",
       "    }\n",
       "\n",
       "    .dataframe tbody tr th {\n",
       "        vertical-align: top;\n",
       "    }\n",
       "\n",
       "    .dataframe thead th {\n",
       "        text-align: right;\n",
       "    }\n",
       "</style>\n",
       "<table border=\"1\" class=\"dataframe\">\n",
       "  <thead>\n",
       "    <tr style=\"text-align: right;\">\n",
       "      <th></th>\n",
       "      <th>Dataset_1</th>\n",
       "      <th>Dataset_2</th>\n",
       "      <th>Dataset_3</th>\n",
       "      <th>Dataset_4</th>\n",
       "      <th>Dataset_5</th>\n",
       "      <th>Dataset_6</th>\n",
       "      <th>Dataset_7</th>\n",
       "      <th>Dataset_8</th>\n",
       "      <th>Dataset_9</th>\n",
       "      <th>Dataset_10</th>\n",
       "      <th>mean_profit</th>\n",
       "      <th>std_profit</th>\n",
       "    </tr>\n",
       "  </thead>\n",
       "  <tbody>\n",
       "    <tr>\n",
       "      <th>Normal</th>\n",
       "      <td>30332.0</td>\n",
       "      <td>32048.0</td>\n",
       "      <td>27024.0</td>\n",
       "      <td>29332.0</td>\n",
       "      <td>27800.0</td>\n",
       "      <td>28152.0</td>\n",
       "      <td>33808.0</td>\n",
       "      <td>30536.0</td>\n",
       "      <td>27080.0</td>\n",
       "      <td>27664.0</td>\n",
       "      <td>29377.6</td>\n",
       "      <td>2162.407695</td>\n",
       "    </tr>\n",
       "    <tr>\n",
       "      <th>Exponential</th>\n",
       "      <td>32292.0</td>\n",
       "      <td>34120.0</td>\n",
       "      <td>33216.0</td>\n",
       "      <td>34852.0</td>\n",
       "      <td>36220.0</td>\n",
       "      <td>30120.0</td>\n",
       "      <td>37088.0</td>\n",
       "      <td>33488.0</td>\n",
       "      <td>31844.0</td>\n",
       "      <td>30796.0</td>\n",
       "      <td>33403.6</td>\n",
       "      <td>2130.960685</td>\n",
       "    </tr>\n",
       "    <tr>\n",
       "      <th>Empirical</th>\n",
       "      <td>32552.0</td>\n",
       "      <td>33952.0</td>\n",
       "      <td>33308.0</td>\n",
       "      <td>34488.0</td>\n",
       "      <td>35376.0</td>\n",
       "      <td>30168.0</td>\n",
       "      <td>36504.0</td>\n",
       "      <td>33448.0</td>\n",
       "      <td>32020.0</td>\n",
       "      <td>30820.0</td>\n",
       "      <td>33263.6</td>\n",
       "      <td>1859.523767</td>\n",
       "    </tr>\n",
       "    <tr>\n",
       "      <th>Max</th>\n",
       "      <td>41384.0</td>\n",
       "      <td>45256.0</td>\n",
       "      <td>46296.0</td>\n",
       "      <td>46600.0</td>\n",
       "      <td>49640.0</td>\n",
       "      <td>39048.0</td>\n",
       "      <td>48968.0</td>\n",
       "      <td>46120.0</td>\n",
       "      <td>44704.0</td>\n",
       "      <td>41648.0</td>\n",
       "      <td>44966.4</td>\n",
       "      <td>3203.875254</td>\n",
       "    </tr>\n",
       "  </tbody>\n",
       "</table>\n",
       "</div>"
      ],
      "text/plain": [
       "             Dataset_1  Dataset_2  Dataset_3  Dataset_4  Dataset_5  Dataset_6  \\\n",
       "Normal         30332.0    32048.0    27024.0    29332.0    27800.0    28152.0   \n",
       "Exponential    32292.0    34120.0    33216.0    34852.0    36220.0    30120.0   \n",
       "Empirical      32552.0    33952.0    33308.0    34488.0    35376.0    30168.0   \n",
       "Max            41384.0    45256.0    46296.0    46600.0    49640.0    39048.0   \n",
       "\n",
       "             Dataset_7  Dataset_8  Dataset_9  Dataset_10  mean_profit  \\\n",
       "Normal         33808.0    30536.0    27080.0     27664.0      29377.6   \n",
       "Exponential    37088.0    33488.0    31844.0     30796.0      33403.6   \n",
       "Empirical      36504.0    33448.0    32020.0     30820.0      33263.6   \n",
       "Max            48968.0    46120.0    44704.0     41648.0      44966.4   \n",
       "\n",
       "              std_profit  \n",
       "Normal       2162.407695  \n",
       "Exponential  2130.960685  \n",
       "Empirical    1859.523767  \n",
       "Max          3203.875254  "
      ]
     },
     "execution_count": 51,
     "metadata": {},
     "output_type": "execute_result"
    }
   ],
   "source": [
    "profit_table"
   ]
  },
  {
   "cell_type": "code",
   "execution_count": 52,
   "metadata": {
    "scrolled": true
   },
   "outputs": [
    {
     "data": {
      "text/html": [
       "<div>\n",
       "<style scoped>\n",
       "    .dataframe tbody tr th:only-of-type {\n",
       "        vertical-align: middle;\n",
       "    }\n",
       "\n",
       "    .dataframe tbody tr th {\n",
       "        vertical-align: top;\n",
       "    }\n",
       "\n",
       "    .dataframe thead th {\n",
       "        text-align: right;\n",
       "    }\n",
       "</style>\n",
       "<table border=\"1\" class=\"dataframe\">\n",
       "  <thead>\n",
       "    <tr style=\"text-align: right;\">\n",
       "      <th></th>\n",
       "      <th>Cross Validation MSE</th>\n",
       "    </tr>\n",
       "  </thead>\n",
       "  <tbody>\n",
       "    <tr>\n",
       "      <th>Dataset_1</th>\n",
       "      <td>150.123332</td>\n",
       "    </tr>\n",
       "    <tr>\n",
       "      <th>Dataset_2</th>\n",
       "      <td>262.217544</td>\n",
       "    </tr>\n",
       "    <tr>\n",
       "      <th>Dataset_3</th>\n",
       "      <td>782.378600</td>\n",
       "    </tr>\n",
       "    <tr>\n",
       "      <th>Dataset_4</th>\n",
       "      <td>649.703023</td>\n",
       "    </tr>\n",
       "    <tr>\n",
       "      <th>Dataset_5</th>\n",
       "      <td>1171.525546</td>\n",
       "    </tr>\n",
       "    <tr>\n",
       "      <th>Dataset_6</th>\n",
       "      <td>153.471427</td>\n",
       "    </tr>\n",
       "    <tr>\n",
       "      <th>Dataset_7</th>\n",
       "      <td>375.632206</td>\n",
       "    </tr>\n",
       "    <tr>\n",
       "      <th>Dataset_8</th>\n",
       "      <td>404.716438</td>\n",
       "    </tr>\n",
       "    <tr>\n",
       "      <th>Dataset_9</th>\n",
       "      <td>564.749194</td>\n",
       "    </tr>\n",
       "    <tr>\n",
       "      <th>Dataset_10</th>\n",
       "      <td>272.309605</td>\n",
       "    </tr>\n",
       "  </tbody>\n",
       "</table>\n",
       "</div>"
      ],
      "text/plain": [
       "            Cross Validation MSE\n",
       "Dataset_1             150.123332\n",
       "Dataset_2             262.217544\n",
       "Dataset_3             782.378600\n",
       "Dataset_4             649.703023\n",
       "Dataset_5            1171.525546\n",
       "Dataset_6             153.471427\n",
       "Dataset_7             375.632206\n",
       "Dataset_8             404.716438\n",
       "Dataset_9             564.749194\n",
       "Dataset_10            272.309605"
      ]
     },
     "execution_count": 52,
     "metadata": {},
     "output_type": "execute_result"
    }
   ],
   "source": [
    "mse_table = pd.DataFrame(mse_lst,index=col_name,columns=['Cross Validation MSE'])\n",
    "mse_table"
   ]
  },
  {
   "cell_type": "code",
   "execution_count": 53,
   "metadata": {
    "scrolled": true
   },
   "outputs": [
    {
     "name": "stdout",
     "output_type": "stream",
     "text": [
      "Average 10 fold CV MSE:  478.6826913657075\n"
     ]
    }
   ],
   "source": [
    "print(f\"Average 10 fold CV MSE:  {float(mse_table.mean())}\")"
   ]
  },
  {
   "cell_type": "code",
   "execution_count": 54,
   "metadata": {},
   "outputs": [],
   "source": [
    "profit_table.to_csv(\".\\\\Model_Selection_Result\\\\4.4B_Bagging(No_PCA).csv\")"
   ]
  },
  {
   "cell_type": "code",
   "execution_count": 55,
   "metadata": {},
   "outputs": [
    {
     "data": {
      "text/plain": [
       "[<matplotlib.lines.Line2D at 0x2597f923190>]"
      ]
     },
     "execution_count": 55,
     "metadata": {},
     "output_type": "execute_result"
    },
    {
     "data": {
      "image/png": "[encoded data removed]",
      "text/plain": [
       "<Figure size 432x288 with 1 Axes>"
      ]
     },
     "metadata": {
      "needs_background": "light"
     },
     "output_type": "display_data"
    }
   ],
   "source": [
    "plt.xlabel(\"sales\")\n",
    "plt.ylabel(\"Residual\")\n",
    "plt.plot(result['sales'],residual,\".\")"
   ]
  },
  {
   "cell_type": "code",
   "execution_count": 58,
   "metadata": {},
   "outputs": [],
   "source": [
    "name = \"4.4B_Bagging(No_PCA).csv\"\n",
    "mse_table.to_csv(f\".\\\\Model_CV_Result_MSE\\\\{name}\")"
   ]
  },
  {
   "cell_type": "code",
   "execution_count": 59,
   "metadata": {},
   "outputs": [],
   "source": [
    "f = pd.DataFrame(fraction_table['mean_fraction'])\n",
    "f = f.transpose().reset_index()\n",
    "f.to_csv(f\".\\\\Model_CV_Result_Efficiency\\\\{name}\")"
   ]
  },
  {
   "cell_type": "code",
   "execution_count": null,
   "metadata": {},
   "outputs": [],
   "source": []
  }
 ],
 "metadata": {
  "kernelspec": {
   "display_name": "Python 3",
   "language": "python",
   "name": "python3"
  },
  "language_info": {
   "codemirror_mode": {
    "name": "ipython",
    "version": 3
   },
   "file_extension": ".py",
   "mimetype": "text/x-python",
   "name": "python",
   "nbconvert_exporter": "python",
   "pygments_lexer": "ipython3",
   "version": "3.8.5"
  }
 },
 "nbformat": 4,
 "nbformat_minor": 4
}
