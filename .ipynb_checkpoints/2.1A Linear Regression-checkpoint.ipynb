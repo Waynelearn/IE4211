{
 "cells": [
  {
   "cell_type": "code",
   "execution_count": 1,
   "metadata": {},
   "outputs": [],
   "source": [
    "import pandas as pd\n",
    "import numpy as np\n",
    "import matplotlib.pyplot as plt\n",
    "from sklearn.pipeline import Pipeline\n",
    "from sklearn.model_selection import GridSearchCV\n",
    "from sklearn.decomposition import PCA\n",
    "from sklearn.metrics import mean_squared_error as MSE\n",
    "from sklearn.linear_model import LinearRegression\n",
    "from sklearn.preprocessing import PolynomialFeatures\n",
    "from sklearn.model_selection import train_test_split\n",
    "from sklearn.linear_model import Lasso"
   ]
  },
  {
   "cell_type": "markdown",
   "metadata": {},
   "source": [
    "# 1. Import the train datasets"
   ]
  },
  {
   "cell_type": "code",
   "execution_count": 2,
   "metadata": {},
   "outputs": [],
   "source": [
    "X_train = pd.read_csv(\"A_Normalised_train_data.csv\",index_col=0)\n",
    "Y_train = pd.read_csv(\"A_Log_sales_train.csv\",index_col=0)"
   ]
  },
  {
   "cell_type": "code",
   "execution_count": 3,
   "metadata": {},
   "outputs": [],
   "source": [
    "Model_1 = LinearRegression()"
   ]
  },
  {
   "cell_type": "markdown",
   "metadata": {},
   "source": [
    "# 2. Setup Pipeline"
   ]
  },
  {
   "cell_type": "code",
   "execution_count": 4,
   "metadata": {},
   "outputs": [],
   "source": [
    "pca=PCA()\n",
    "SLR = Model_1"
   ]
  },
  {
   "cell_type": "code",
   "execution_count": 5,
   "metadata": {},
   "outputs": [],
   "source": [
    "# Step 1: PCA\n",
    "# Step 2: Model\n",
    "pipe = Pipeline(steps=[(\"pca\",pca),(\"SLR\",SLR)])"
   ]
  },
  {
   "cell_type": "code",
   "execution_count": 6,
   "metadata": {},
   "outputs": [],
   "source": [
    "param_grid = {\n",
    "    \"pca__n_components\": [5, 10, 30, 45, 60, 100 ,150 ,170]\n",
    "}"
   ]
  },
  {
   "cell_type": "markdown",
   "metadata": {},
   "source": [
    "# 3. Setup GridSearch"
   ]
  },
  {
   "cell_type": "code",
   "execution_count": 7,
   "metadata": {},
   "outputs": [],
   "source": [
    "score_metric = 'neg_mean_squared_error'\n",
    "search = GridSearchCV(pipe,param_grid,\n",
    "                      n_jobs=-1,\n",
    "                      cv=10,\n",
    "                      scoring=score_metric)"
   ]
  },
  {
   "cell_type": "code",
   "execution_count": 8,
   "metadata": {},
   "outputs": [
    {
     "data": {
      "text/plain": [
       "GridSearchCV(cv=10,\n",
       "             estimator=Pipeline(steps=[('pca', PCA()),\n",
       "                                       ('SLR', LinearRegression())]),\n",
       "             n_jobs=-1,\n",
       "             param_grid={'pca__n_components': [5, 10, 30, 45, 60, 100, 150,\n",
       "                                               170]},\n",
       "             scoring='neg_mean_squared_error')"
      ]
     },
     "execution_count": 8,
     "metadata": {},
     "output_type": "execute_result"
    }
   ],
   "source": [
    "search.fit(X_train,Y_train)"
   ]
  },
  {
   "cell_type": "code",
   "execution_count": 9,
   "metadata": {},
   "outputs": [
    {
     "name": "stdout",
     "output_type": "stream",
     "text": [
      "Best parameter (CV score=-0.789):\n",
      "{'pca__n_components': 100}\n"
     ]
    }
   ],
   "source": [
    "print(\"Best parameter (CV score=%0.3f):\" % search.best_score_)\n",
    "print(search.best_params_)"
   ]
  },
  {
   "cell_type": "code",
   "execution_count": 10,
   "metadata": {},
   "outputs": [
    {
     "data": {
      "text/html": [
       "<div>\n",
       "<style scoped>\n",
       "    .dataframe tbody tr th:only-of-type {\n",
       "        vertical-align: middle;\n",
       "    }\n",
       "\n",
       "    .dataframe tbody tr th {\n",
       "        vertical-align: top;\n",
       "    }\n",
       "\n",
       "    .dataframe thead th {\n",
       "        text-align: right;\n",
       "    }\n",
       "</style>\n",
       "<table border=\"1\" class=\"dataframe\">\n",
       "  <thead>\n",
       "    <tr style=\"text-align: right;\">\n",
       "      <th></th>\n",
       "      <th>mean_fit_time</th>\n",
       "      <th>std_fit_time</th>\n",
       "      <th>mean_score_time</th>\n",
       "      <th>std_score_time</th>\n",
       "      <th>param_pca__n_components</th>\n",
       "      <th>params</th>\n",
       "      <th>split0_test_score</th>\n",
       "      <th>split1_test_score</th>\n",
       "      <th>split2_test_score</th>\n",
       "      <th>split3_test_score</th>\n",
       "      <th>split4_test_score</th>\n",
       "      <th>split5_test_score</th>\n",
       "      <th>split6_test_score</th>\n",
       "      <th>split7_test_score</th>\n",
       "      <th>split8_test_score</th>\n",
       "      <th>split9_test_score</th>\n",
       "      <th>mean_test_score</th>\n",
       "      <th>std_test_score</th>\n",
       "      <th>rank_test_score</th>\n",
       "    </tr>\n",
       "  </thead>\n",
       "  <tbody>\n",
       "    <tr>\n",
       "      <th>5</th>\n",
       "      <td>0.194181</td>\n",
       "      <td>0.020878</td>\n",
       "      <td>0.013464</td>\n",
       "      <td>0.005734</td>\n",
       "      <td>100</td>\n",
       "      <td>{'pca__n_components': 100}</td>\n",
       "      <td>-0.738891</td>\n",
       "      <td>-0.706904</td>\n",
       "      <td>-8.834674e-01</td>\n",
       "      <td>-0.819075</td>\n",
       "      <td>-9.532032e-01</td>\n",
       "      <td>-7.220567e-01</td>\n",
       "      <td>-0.668960</td>\n",
       "      <td>-7.914592e-01</td>\n",
       "      <td>-0.815803</td>\n",
       "      <td>-7.884582e-01</td>\n",
       "      <td>-7.888277e-01</td>\n",
       "      <td>8.102933e-02</td>\n",
       "      <td>1</td>\n",
       "    </tr>\n",
       "    <tr>\n",
       "      <th>4</th>\n",
       "      <td>0.129254</td>\n",
       "      <td>0.019509</td>\n",
       "      <td>0.012068</td>\n",
       "      <td>0.002337</td>\n",
       "      <td>60</td>\n",
       "      <td>{'pca__n_components': 60}</td>\n",
       "      <td>-0.769067</td>\n",
       "      <td>-0.757217</td>\n",
       "      <td>-9.292324e-01</td>\n",
       "      <td>-0.859060</td>\n",
       "      <td>-9.585411e-01</td>\n",
       "      <td>-7.198799e-01</td>\n",
       "      <td>-0.696740</td>\n",
       "      <td>-8.016910e-01</td>\n",
       "      <td>-0.841310</td>\n",
       "      <td>-8.850217e-01</td>\n",
       "      <td>-8.217759e-01</td>\n",
       "      <td>8.330042e-02</td>\n",
       "      <td>2</td>\n",
       "    </tr>\n",
       "    <tr>\n",
       "      <th>3</th>\n",
       "      <td>0.124069</td>\n",
       "      <td>0.024774</td>\n",
       "      <td>0.012366</td>\n",
       "      <td>0.003919</td>\n",
       "      <td>45</td>\n",
       "      <td>{'pca__n_components': 45}</td>\n",
       "      <td>-0.802159</td>\n",
       "      <td>-0.808639</td>\n",
       "      <td>-9.808078e-01</td>\n",
       "      <td>-0.861769</td>\n",
       "      <td>-1.006252e+00</td>\n",
       "      <td>-7.242315e-01</td>\n",
       "      <td>-0.760565</td>\n",
       "      <td>-8.515680e-01</td>\n",
       "      <td>-0.866918</td>\n",
       "      <td>-9.330456e-01</td>\n",
       "      <td>-8.595955e-01</td>\n",
       "      <td>8.703118e-02</td>\n",
       "      <td>3</td>\n",
       "    </tr>\n",
       "    <tr>\n",
       "      <th>2</th>\n",
       "      <td>0.093649</td>\n",
       "      <td>0.016226</td>\n",
       "      <td>0.012866</td>\n",
       "      <td>0.004312</td>\n",
       "      <td>30</td>\n",
       "      <td>{'pca__n_components': 30}</td>\n",
       "      <td>-0.953367</td>\n",
       "      <td>-0.910272</td>\n",
       "      <td>-1.090571e+00</td>\n",
       "      <td>-1.002435</td>\n",
       "      <td>-1.098416e+00</td>\n",
       "      <td>-8.365069e-01</td>\n",
       "      <td>-0.846692</td>\n",
       "      <td>-9.490315e-01</td>\n",
       "      <td>-0.963434</td>\n",
       "      <td>-9.952252e-01</td>\n",
       "      <td>-9.645951e-01</td>\n",
       "      <td>8.353211e-02</td>\n",
       "      <td>4</td>\n",
       "    </tr>\n",
       "    <tr>\n",
       "      <th>1</th>\n",
       "      <td>0.070212</td>\n",
       "      <td>0.006955</td>\n",
       "      <td>0.011370</td>\n",
       "      <td>0.002239</td>\n",
       "      <td>10</td>\n",
       "      <td>{'pca__n_components': 10}</td>\n",
       "      <td>-0.968108</td>\n",
       "      <td>-0.970121</td>\n",
       "      <td>-1.126358e+00</td>\n",
       "      <td>-1.073741</td>\n",
       "      <td>-1.162183e+00</td>\n",
       "      <td>-7.919016e-01</td>\n",
       "      <td>-0.851684</td>\n",
       "      <td>-9.217525e-01</td>\n",
       "      <td>-0.980517</td>\n",
       "      <td>-9.894555e-01</td>\n",
       "      <td>-9.835821e-01</td>\n",
       "      <td>1.090128e-01</td>\n",
       "      <td>5</td>\n",
       "    </tr>\n",
       "    <tr>\n",
       "      <th>0</th>\n",
       "      <td>0.076595</td>\n",
       "      <td>0.011220</td>\n",
       "      <td>0.010572</td>\n",
       "      <td>0.000798</td>\n",
       "      <td>5</td>\n",
       "      <td>{'pca__n_components': 5}</td>\n",
       "      <td>-1.151392</td>\n",
       "      <td>-1.107068</td>\n",
       "      <td>-1.255146e+00</td>\n",
       "      <td>-1.416556</td>\n",
       "      <td>-1.398334e+00</td>\n",
       "      <td>-9.715255e-01</td>\n",
       "      <td>-1.199443</td>\n",
       "      <td>-1.107317e+00</td>\n",
       "      <td>-1.197017</td>\n",
       "      <td>-1.113187e+00</td>\n",
       "      <td>-1.191698e+00</td>\n",
       "      <td>1.295841e-01</td>\n",
       "      <td>6</td>\n",
       "    </tr>\n",
       "    <tr>\n",
       "      <th>6</th>\n",
       "      <td>0.131150</td>\n",
       "      <td>0.021195</td>\n",
       "      <td>0.011968</td>\n",
       "      <td>0.000997</td>\n",
       "      <td>150</td>\n",
       "      <td>{'pca__n_components': 150}</td>\n",
       "      <td>-0.535833</td>\n",
       "      <td>-0.554218</td>\n",
       "      <td>-1.481674e+22</td>\n",
       "      <td>-0.631670</td>\n",
       "      <td>-1.037960e+23</td>\n",
       "      <td>-5.823736e+23</td>\n",
       "      <td>-0.566493</td>\n",
       "      <td>-3.467720e+23</td>\n",
       "      <td>-0.666246</td>\n",
       "      <td>-4.128813e+23</td>\n",
       "      <td>-1.460640e+23</td>\n",
       "      <td>2.067673e+23</td>\n",
       "      <td>7</td>\n",
       "    </tr>\n",
       "    <tr>\n",
       "      <th>7</th>\n",
       "      <td>0.115091</td>\n",
       "      <td>0.019993</td>\n",
       "      <td>0.010373</td>\n",
       "      <td>0.002492</td>\n",
       "      <td>170</td>\n",
       "      <td>{'pca__n_components': 170}</td>\n",
       "      <td>-0.525045</td>\n",
       "      <td>-0.566361</td>\n",
       "      <td>-3.021293e+24</td>\n",
       "      <td>-0.649931</td>\n",
       "      <td>-5.397617e+22</td>\n",
       "      <td>-7.668862e+24</td>\n",
       "      <td>-0.575569</td>\n",
       "      <td>-1.778556e+25</td>\n",
       "      <td>-0.678793</td>\n",
       "      <td>-6.527168e+25</td>\n",
       "      <td>-9.380137e+24</td>\n",
       "      <td>1.940307e+25</td>\n",
       "      <td>8</td>\n",
       "    </tr>\n",
       "  </tbody>\n",
       "</table>\n",
       "</div>"
      ],
      "text/plain": [
       "   mean_fit_time  std_fit_time  mean_score_time  std_score_time  \\\n",
       "5       0.194181      0.020878         0.013464        0.005734   \n",
       "4       0.129254      0.019509         0.012068        0.002337   \n",
       "3       0.124069      0.024774         0.012366        0.003919   \n",
       "2       0.093649      0.016226         0.012866        0.004312   \n",
       "1       0.070212      0.006955         0.011370        0.002239   \n",
       "0       0.076595      0.011220         0.010572        0.000798   \n",
       "6       0.131150      0.021195         0.011968        0.000997   \n",
       "7       0.115091      0.019993         0.010373        0.002492   \n",
       "\n",
       "  param_pca__n_components                      params  split0_test_score  \\\n",
       "5                     100  {'pca__n_components': 100}          -0.738891   \n",
       "4                      60   {'pca__n_components': 60}          -0.769067   \n",
       "3                      45   {'pca__n_components': 45}          -0.802159   \n",
       "2                      30   {'pca__n_components': 30}          -0.953367   \n",
       "1                      10   {'pca__n_components': 10}          -0.968108   \n",
       "0                       5    {'pca__n_components': 5}          -1.151392   \n",
       "6                     150  {'pca__n_components': 150}          -0.535833   \n",
       "7                     170  {'pca__n_components': 170}          -0.525045   \n",
       "\n",
       "   split1_test_score  split2_test_score  split3_test_score  split4_test_score  \\\n",
       "5          -0.706904      -8.834674e-01          -0.819075      -9.532032e-01   \n",
       "4          -0.757217      -9.292324e-01          -0.859060      -9.585411e-01   \n",
       "3          -0.808639      -9.808078e-01          -0.861769      -1.006252e+00   \n",
       "2          -0.910272      -1.090571e+00          -1.002435      -1.098416e+00   \n",
       "1          -0.970121      -1.126358e+00          -1.073741      -1.162183e+00   \n",
       "0          -1.107068      -1.255146e+00          -1.416556      -1.398334e+00   \n",
       "6          -0.554218      -1.481674e+22          -0.631670      -1.037960e+23   \n",
       "7          -0.566361      -3.021293e+24          -0.649931      -5.397617e+22   \n",
       "\n",
       "   split5_test_score  split6_test_score  split7_test_score  split8_test_score  \\\n",
       "5      -7.220567e-01          -0.668960      -7.914592e-01          -0.815803   \n",
       "4      -7.198799e-01          -0.696740      -8.016910e-01          -0.841310   \n",
       "3      -7.242315e-01          -0.760565      -8.515680e-01          -0.866918   \n",
       "2      -8.365069e-01          -0.846692      -9.490315e-01          -0.963434   \n",
       "1      -7.919016e-01          -0.851684      -9.217525e-01          -0.980517   \n",
       "0      -9.715255e-01          -1.199443      -1.107317e+00          -1.197017   \n",
       "6      -5.823736e+23          -0.566493      -3.467720e+23          -0.666246   \n",
       "7      -7.668862e+24          -0.575569      -1.778556e+25          -0.678793   \n",
       "\n",
       "   split9_test_score  mean_test_score  std_test_score  rank_test_score  \n",
       "5      -7.884582e-01    -7.888277e-01    8.102933e-02                1  \n",
       "4      -8.850217e-01    -8.217759e-01    8.330042e-02                2  \n",
       "3      -9.330456e-01    -8.595955e-01    8.703118e-02                3  \n",
       "2      -9.952252e-01    -9.645951e-01    8.353211e-02                4  \n",
       "1      -9.894555e-01    -9.835821e-01    1.090128e-01                5  \n",
       "0      -1.113187e+00    -1.191698e+00    1.295841e-01                6  \n",
       "6      -4.128813e+23    -1.460640e+23    2.067673e+23                7  \n",
       "7      -6.527168e+25    -9.380137e+24    1.940307e+25                8  "
      ]
     },
     "execution_count": 10,
     "metadata": {},
     "output_type": "execute_result"
    }
   ],
   "source": [
    "df = pd.DataFrame(search.cv_results_)\n",
    "df = df.sort_values(by=['rank_test_score'])\n",
    "df"
   ]
  },
  {
   "cell_type": "markdown",
   "metadata": {},
   "source": [
    "# 4. Best Hyperparameter"
   ]
  },
  {
   "cell_type": "code",
   "execution_count": 11,
   "metadata": {},
   "outputs": [
    {
     "name": "stdout",
     "output_type": "stream",
     "text": [
      "{'pca__n_components': 100}\n"
     ]
    }
   ],
   "source": [
    "parms = pd.DataFrame(df['params'])\n",
    "for i in parms.iloc[0]:\n",
    "    print(i)"
   ]
  },
  {
   "cell_type": "markdown",
   "metadata": {},
   "source": [
    "# 5. Evaluate Model $log(Sales)$"
   ]
  },
  {
   "cell_type": "code",
   "execution_count": 12,
   "metadata": {},
   "outputs": [],
   "source": [
    "best_pca =parms.iloc[0][0]['pca__n_components']"
   ]
  },
  {
   "cell_type": "code",
   "execution_count": 13,
   "metadata": {},
   "outputs": [],
   "source": [
    "Model_2 = LinearRegression()"
   ]
  },
  {
   "cell_type": "code",
   "execution_count": 14,
   "metadata": {},
   "outputs": [],
   "source": [
    "X_train1,X_test1,Y_train1,Y_test1 = train_test_split(X_train,Y_train,test_size=0.2,random_state=132)\n"
   ]
  },
  {
   "cell_type": "code",
   "execution_count": 15,
   "metadata": {},
   "outputs": [
    {
     "data": {
      "text/plain": [
       "LinearRegression()"
      ]
     },
     "execution_count": 15,
     "metadata": {},
     "output_type": "execute_result"
    }
   ],
   "source": [
    "pca1 = PCA(n_components=best_pca)\n",
    "pca1.fit(X_train1)\n",
    "PX_train1 = pca1.transform(X_train1)\n",
    "SLR1 = Model_2\n",
    "SLR1.fit(PX_train1,Y_train1)"
   ]
  },
  {
   "cell_type": "code",
   "execution_count": 16,
   "metadata": {},
   "outputs": [],
   "source": [
    "pca2 = PCA(n_components=best_pca)\n",
    "pca2.fit(X_test1)\n",
    "PX_test1 = pca2.transform(X_test1)"
   ]
  },
  {
   "cell_type": "code",
   "execution_count": 17,
   "metadata": {},
   "outputs": [
    {
     "data": {
      "text/plain": [
       "2.1280187969901783"
      ]
     },
     "execution_count": 17,
     "metadata": {},
     "output_type": "execute_result"
    }
   ],
   "source": [
    "MSE(SLR1.predict(PX_test1),Y_test1)"
   ]
  },
  {
   "cell_type": "code",
   "execution_count": 18,
   "metadata": {},
   "outputs": [],
   "source": [
    "result = pd.DataFrame(np.exp(Y_test1))"
   ]
  },
  {
   "cell_type": "code",
   "execution_count": 19,
   "metadata": {},
   "outputs": [],
   "source": [
    "result[\"Predicted_sales\"] = np.exp(SLR1.predict(PX_test1))"
   ]
  },
  {
   "cell_type": "code",
   "execution_count": 20,
   "metadata": {},
   "outputs": [
    {
     "data": {
      "text/plain": [
       "1253.7919801149928"
      ]
     },
     "execution_count": 20,
     "metadata": {},
     "output_type": "execute_result"
    }
   ],
   "source": [
    "MSE(result[\"sales\"],result[\"Predicted_sales\"])"
   ]
  },
  {
   "cell_type": "markdown",
   "metadata": {},
   "source": [
    "# 5.1 Model using original sales data"
   ]
  },
  {
   "cell_type": "code",
   "execution_count": 21,
   "metadata": {},
   "outputs": [],
   "source": [
    "Model_3 = LinearRegression()"
   ]
  },
  {
   "cell_type": "code",
   "execution_count": 22,
   "metadata": {},
   "outputs": [],
   "source": [
    "OY_train = pd.read_csv(\"A_sales_train.csv\",index_col=0)"
   ]
  },
  {
   "cell_type": "code",
   "execution_count": 23,
   "metadata": {},
   "outputs": [],
   "source": [
    "X_train2,X_test2,Y_train2,Y_test2 = train_test_split(X_train,OY_train,test_size=0.2,random_state=132)"
   ]
  },
  {
   "cell_type": "code",
   "execution_count": 24,
   "metadata": {},
   "outputs": [
    {
     "data": {
      "text/plain": [
       "LinearRegression()"
      ]
     },
     "execution_count": 24,
     "metadata": {},
     "output_type": "execute_result"
    }
   ],
   "source": [
    "pca3 = PCA(n_components=best_pca)\n",
    "pca3.fit(X_train2)\n",
    "PX_train2 = pca3.transform(X_train2)\n",
    "SLR2 = Model_3\n",
    "SLR2.fit(PX_train2,Y_train2)"
   ]
  },
  {
   "cell_type": "code",
   "execution_count": 25,
   "metadata": {},
   "outputs": [],
   "source": [
    "pca4 = PCA(n_components=best_pca)\n",
    "pca4.fit(X_test2)\n",
    "PX_test2 = pca4.transform(X_test2)"
   ]
  },
  {
   "cell_type": "code",
   "execution_count": 26,
   "metadata": {},
   "outputs": [
    {
     "data": {
      "text/plain": [
       "1931.0931603233544"
      ]
     },
     "execution_count": 26,
     "metadata": {},
     "output_type": "execute_result"
    }
   ],
   "source": [
    "MSE(SLR2.predict(PX_test2),Y_test2)"
   ]
  },
  {
   "cell_type": "markdown",
   "metadata": {},
   "source": [
    "#### Notably model trained on log(Sales) has lower out-of-sample MSE than model with unmodified Sales"
   ]
  },
  {
   "cell_type": "markdown",
   "metadata": {},
   "source": [
    "# 6. Inventory Decision"
   ]
  },
  {
   "cell_type": "code",
   "execution_count": 27,
   "metadata": {},
   "outputs": [],
   "source": [
    "residual = result['sales']-result['Predicted_sales']"
   ]
  },
  {
   "cell_type": "code",
   "execution_count": 28,
   "metadata": {},
   "outputs": [
    {
     "data": {
      "text/plain": [
       "(4, 8)"
      ]
     },
     "execution_count": 28,
     "metadata": {},
     "output_type": "execute_result"
    }
   ],
   "source": [
    "Price=20\n",
    "Cost=12\n",
    "Salvage=8\n",
    "Over=Cost - Salvage\n",
    "Under=Price - Cost\n",
    "Over, Under"
   ]
  },
  {
   "cell_type": "markdown",
   "metadata": {},
   "source": [
    "### QQ plot to explore the distribution of residual"
   ]
  },
  {
   "cell_type": "markdown",
   "metadata": {},
   "source": [
    "#### Normal Distribution"
   ]
  },
  {
   "cell_type": "code",
   "execution_count": 29,
   "metadata": {},
   "outputs": [],
   "source": [
    "import scipy.stats as sct"
   ]
  },
  {
   "cell_type": "code",
   "execution_count": 30,
   "metadata": {},
   "outputs": [
    {
     "data": {
      "image/png": "[encoded data removed]",
      "text/plain": [
       "<Figure size 432x288 with 1 Axes>"
      ]
     },
     "metadata": {
      "needs_background": "light"
     },
     "output_type": "display_data"
    }
   ],
   "source": [
    "import scipy\n",
    "scipy.stats.probplot(residual, dist=\"norm\", plot=plt)\n",
    "plt.show()"
   ]
  },
  {
   "cell_type": "code",
   "execution_count": 31,
   "metadata": {},
   "outputs": [],
   "source": [
    "s = residual.std()\n",
    "opt_dec_N=np.ceil(sct.norm.ppf(Under/(Under+Over))*s + result['Predicted_sales'])"
   ]
  },
  {
   "cell_type": "markdown",
   "metadata": {},
   "source": [
    "#### Exponential Distribution"
   ]
  },
  {
   "cell_type": "code",
   "execution_count": 32,
   "metadata": {},
   "outputs": [
    {
     "data": {
      "image/png": "[encoded data removed]",
      "text/plain": [
       "<Figure size 432x288 with 1 Axes>"
      ]
     },
     "metadata": {
      "needs_background": "light"
     },
     "output_type": "display_data"
    }
   ],
   "source": [
    "scipy.stats.probplot(residual, dist=\"expon\", plot=plt)\n",
    "plt.show()"
   ]
  },
  {
   "cell_type": "code",
   "execution_count": 33,
   "metadata": {},
   "outputs": [],
   "source": [
    "opt_dec_E=np.ceil((-result['Predicted_sales'])*np.log(1-(Under/(Under+Over))))"
   ]
  },
  {
   "cell_type": "markdown",
   "metadata": {},
   "source": [
    "#### Empirical Distribution"
   ]
  },
  {
   "cell_type": "code",
   "execution_count": 34,
   "metadata": {},
   "outputs": [
    {
     "data": {
      "text/plain": [
       "[<matplotlib.lines.Line2D at 0x27ebd210790>]"
      ]
     },
     "execution_count": 34,
     "metadata": {},
     "output_type": "execute_result"
    },
    {
     "data": {
      "image/png": "[encoded data removed]",
      "text/plain": [
       "<Figure size 432x288 with 1 Axes>"
      ]
     },
     "metadata": {
      "needs_background": "light"
     },
     "output_type": "display_data"
    }
   ],
   "source": [
    "size = residual.shape[0]\n",
    "step=1/size\n",
    "jumps = [step*i for i in range(1,size+1)]\n",
    "Sample = sorted(residual)\n",
    "plt.plot(Sample,jumps)"
   ]
  },
  {
   "cell_type": "code",
   "execution_count": 35,
   "metadata": {},
   "outputs": [
    {
     "data": {
      "image/png": "[encoded data removed]",
      "text/plain": [
       "<Figure size 432x288 with 1 Axes>"
      ]
     },
     "metadata": {
      "needs_background": "light"
     },
     "output_type": "display_data"
    }
   ],
   "source": [
    "plt.hist(Sample)\n",
    "plt.show()"
   ]
  },
  {
   "cell_type": "code",
   "execution_count": 36,
   "metadata": {},
   "outputs": [],
   "source": [
    "def inv(sample,jump,area):\n",
    "    size = len(sample)\n",
    "    i=0\n",
    "    temp=jump[i]\n",
    "    while temp<area:\n",
    "        i+=1\n",
    "        temp=jump[i]\n",
    "        \n",
    "    return sample[i]"
   ]
  },
  {
   "cell_type": "code",
   "execution_count": 37,
   "metadata": {},
   "outputs": [
    {
     "data": {
      "text/plain": [
       "6.514554710368987"
      ]
     },
     "execution_count": 37,
     "metadata": {},
     "output_type": "execute_result"
    }
   ],
   "source": [
    "offset = inv(Sample,jumps,2/3)\n",
    "offset"
   ]
  },
  {
   "cell_type": "code",
   "execution_count": 38,
   "metadata": {},
   "outputs": [],
   "source": [
    "opt_dec_B = np.ceil(result['Predicted_sales']+offset)"
   ]
  },
  {
   "cell_type": "markdown",
   "metadata": {},
   "source": [
    "# 7. Out-of-samples Profit"
   ]
  },
  {
   "cell_type": "code",
   "execution_count": 39,
   "metadata": {},
   "outputs": [
    {
     "data": {
      "text/plain": [
       "82096.0"
      ]
     },
     "execution_count": 39,
     "metadata": {},
     "output_type": "execute_result"
    }
   ],
   "source": [
    "#max profit for test data set\n",
    "max_profit = result['sales'].sum()*(Price-Cost)\n",
    "max_profit"
   ]
  },
  {
   "cell_type": "code",
   "execution_count": 40,
   "metadata": {},
   "outputs": [],
   "source": [
    "def profit(demand,inv):\n",
    "    return (Price-Salvage)*np.minimum(demand,inv)-(Cost-Salvage)*inv"
   ]
  },
  {
   "cell_type": "code",
   "execution_count": 41,
   "metadata": {},
   "outputs": [
    {
     "data": {
      "text/plain": [
       "20784.0"
      ]
     },
     "execution_count": 41,
     "metadata": {},
     "output_type": "execute_result"
    }
   ],
   "source": [
    "#Profit (Normal)\n",
    "profit_lst_N = profit(result['sales'],opt_dec_N)\n",
    "profit_lst_N.sum()"
   ]
  },
  {
   "cell_type": "code",
   "execution_count": 42,
   "metadata": {},
   "outputs": [
    {
     "data": {
      "text/plain": [
       "20708.0"
      ]
     },
     "execution_count": 42,
     "metadata": {},
     "output_type": "execute_result"
    }
   ],
   "source": [
    "#Profit (Exponential)\n",
    "profit_lst_E = profit(result['sales'],opt_dec_E)\n",
    "profit_lst_E.sum()"
   ]
  },
  {
   "cell_type": "code",
   "execution_count": 43,
   "metadata": {},
   "outputs": [
    {
     "data": {
      "text/plain": [
       "23256.0"
      ]
     },
     "execution_count": 43,
     "metadata": {},
     "output_type": "execute_result"
    }
   ],
   "source": [
    "#Profit (Empirical)\n",
    "profit_lst_B = profit(result['sales'],opt_dec_B)\n",
    "profit_lst_B.sum()"
   ]
  },
  {
   "cell_type": "markdown",
   "metadata": {},
   "source": [
    "# 8. K-Fold Cross Validation"
   ]
  },
  {
   "cell_type": "markdown",
   "metadata": {},
   "source": [
    "### Repeat steps 5,6,7 with 10-fold cross validation"
   ]
  },
  {
   "cell_type": "code",
   "execution_count": 44,
   "metadata": {},
   "outputs": [],
   "source": [
    "Model_4=LinearRegression()"
   ]
  },
  {
   "cell_type": "code",
   "execution_count": 45,
   "metadata": {},
   "outputs": [],
   "source": [
    "from sklearn.model_selection import KFold\n",
    "k=10\n",
    "kf = KFold(n_splits=k)\n",
    "X_train_t=X_train.to_numpy()\n",
    "Y_train_t=Y_train.to_numpy()\n",
    "model = []\n",
    "mse_lst = []\n",
    "max_profit_lst = []\n",
    "profit_N_lst = []\n",
    "profit_E_lst = []\n",
    "profit_B_lst = []\n",
    "\n",
    "for train_index,test_index in kf.split(X_train_t):\n",
    "    X_train_K,X_test_K=X_train_t[train_index],X_train_t[test_index]\n",
    "    Y_train_K,Y_test_K=Y_train_t[train_index],Y_train_t[test_index]\n",
    "    \n",
    "    #PCA to transform train data\n",
    "    pca_K1 = PCA(n_components=best_pca)\n",
    "    pca_K1.fit(X_train_K)\n",
    "    PX_train_K = pca_K1.transform(X_train_K)\n",
    "    \n",
    "    #Model\n",
    "    SLR_K = Model_4\n",
    "    SLR_K.fit(PX_train_K,Y_train_K)\n",
    "    \n",
    "    #pca to transform test data\n",
    "    pca_K2 = PCA(n_components=best_pca)\n",
    "    pca_K2.fit(X_test_K)\n",
    "    PX_test_K = pca_K2.transform(X_test_K)\n",
    "    \n",
    "    #MSE\n",
    "    mse_lst.append(MSE(SLR_K.predict(PX_test_K),Y_test_K))\n",
    "    \n",
    "    #Transform log(sale) back to sale\n",
    "    result_K = pd.DataFrame(np.exp(Y_test_K))\n",
    "    result_K[\"Predicted_sales\"] = np.exp(SLR_K.predict(PX_test_K))\n",
    "    \n",
    "    #Obtain residual\n",
    "    residual_K = result_K[0]-result_K['Predicted_sales']\n",
    "    \n",
    "    #Get std for Normal distribution\n",
    "    s_K = residual.std()\n",
    "    \n",
    "    #Inventory Decision (Normal)\n",
    "    opt_dec_N_K=np.ceil(sct.norm.ppf(Under/(Under+Over))*s_K + result_K['Predicted_sales'])\n",
    "    #Inventory Decision (Exponential)\n",
    "    opt_dec_E_K=np.ceil((-result_K['Predicted_sales'])*np.log(1-(Under/(Under+Over))))\n",
    "    \n",
    "    #Inventory Decision (Empirical Distribution)\n",
    "    size_K = residual_K.shape[0]\n",
    "    step_K=1/size_K\n",
    "    jumps_K = [step_K*i for i in range(1,size+1)]\n",
    "    Sample_K = sorted(residual_K)\n",
    "    offset_K = inv(Sample_K,jumps_K,2/3)\n",
    "    opt_dec_B_K = np.ceil(result_K['Predicted_sales']+offset_K)\n",
    "    \n",
    "    #Out-of_sample profit\n",
    "    profit_lst_B_K = profit(result_K[0],opt_dec_B_K)\n",
    "    profit_B_lst.append(profit_lst_B_K.sum())\n",
    "    \n",
    "    profit_lst_N_K = profit(result_K[0],opt_dec_N_K)\n",
    "    profit_N_lst.append(profit_lst_N_K.sum())\n",
    "    \n",
    "    profit_lst_E_K = profit(result_K[0],opt_dec_E_K)\n",
    "    profit_E_lst.append(profit_lst_E_K.sum())\n",
    "    \n",
    "    max_profit_K = result_K[0].sum()*(Price-Cost)\n",
    "    max_profit_lst.append(max_profit_K)\n",
    "    \n",
    "max_profit_lst = np.array(max_profit_lst)\n",
    "profit_N_lst = np.array(profit_N_lst)\n",
    "profit_E_lst = np.array(profit_E_lst)\n",
    "profit_B_lst = np.array(profit_B_lst)\n",
    "\n",
    "fraction_of_max_N = profit_N_lst/max_profit_lst\n",
    "fraction_of_max_E = profit_E_lst/max_profit_lst\n",
    "fraction_of_max_B = profit_B_lst/max_profit_lst\n",
    "\n",
    "dist_profit = [\"Normal\",\"Exponential\",\"Empirical\",\"Max\"]\n",
    "dist_frac = [\"Normal\",\"Exponential\",\"Empirical\"]\n",
    "col_name = [\"Dataset_\"+str(i) for i in range(1,k+1)]\n",
    "\n",
    "profit_lst = [profit_N_lst,profit_E_lst,profit_B_lst,max_profit_lst]\n",
    "profit_table = pd.DataFrame(profit_lst,index=dist_profit,columns=col_name)\n",
    "profit_table[\"mean_profit\"]=profit_table.mean(axis=1)\n",
    "profit_table[\"std_profit\"]=profit_table.std(ddof=1,axis=1)\n",
    "\n",
    "fraction_lst = [fraction_of_max_N,fraction_of_max_E,fraction_of_max_B]\n",
    "fraction_table = pd.DataFrame(fraction_lst,index=dist_frac,columns=col_name)\n",
    "fraction_table[\"mean_fraction\"]=fraction_table.mean(axis=1)"
   ]
  },
  {
   "cell_type": "code",
   "execution_count": 46,
   "metadata": {},
   "outputs": [
    {
     "data": {
      "text/html": [
       "<div>\n",
       "<style scoped>\n",
       "    .dataframe tbody tr th:only-of-type {\n",
       "        vertical-align: middle;\n",
       "    }\n",
       "\n",
       "    .dataframe tbody tr th {\n",
       "        vertical-align: top;\n",
       "    }\n",
       "\n",
       "    .dataframe thead th {\n",
       "        text-align: right;\n",
       "    }\n",
       "</style>\n",
       "<table border=\"1\" class=\"dataframe\">\n",
       "  <thead>\n",
       "    <tr style=\"text-align: right;\">\n",
       "      <th></th>\n",
       "      <th>Dataset_1</th>\n",
       "      <th>Dataset_2</th>\n",
       "      <th>Dataset_3</th>\n",
       "      <th>Dataset_4</th>\n",
       "      <th>Dataset_5</th>\n",
       "      <th>Dataset_6</th>\n",
       "      <th>Dataset_7</th>\n",
       "      <th>Dataset_8</th>\n",
       "      <th>Dataset_9</th>\n",
       "      <th>Dataset_10</th>\n",
       "      <th>mean_fraction</th>\n",
       "    </tr>\n",
       "  </thead>\n",
       "  <tbody>\n",
       "    <tr>\n",
       "      <th>Normal</th>\n",
       "      <td>0.115407</td>\n",
       "      <td>0.230334</td>\n",
       "      <td>-0.096682</td>\n",
       "      <td>0.216567</td>\n",
       "      <td>0.093312</td>\n",
       "      <td>0.147613</td>\n",
       "      <td>-0.039863</td>\n",
       "      <td>0.210755</td>\n",
       "      <td>0.228525</td>\n",
       "      <td>0.044180</td>\n",
       "      <td>0.115015</td>\n",
       "    </tr>\n",
       "    <tr>\n",
       "      <th>Exponential</th>\n",
       "      <td>0.082351</td>\n",
       "      <td>0.204702</td>\n",
       "      <td>-0.170123</td>\n",
       "      <td>0.193219</td>\n",
       "      <td>0.083159</td>\n",
       "      <td>0.109609</td>\n",
       "      <td>-0.078827</td>\n",
       "      <td>0.165134</td>\n",
       "      <td>0.208214</td>\n",
       "      <td>0.022186</td>\n",
       "      <td>0.081962</td>\n",
       "    </tr>\n",
       "    <tr>\n",
       "      <th>Empirical</th>\n",
       "      <td>0.139184</td>\n",
       "      <td>0.259148</td>\n",
       "      <td>-0.088561</td>\n",
       "      <td>0.235365</td>\n",
       "      <td>0.120790</td>\n",
       "      <td>0.176398</td>\n",
       "      <td>-0.016827</td>\n",
       "      <td>0.220382</td>\n",
       "      <td>0.251611</td>\n",
       "      <td>0.078851</td>\n",
       "      <td>0.137634</td>\n",
       "    </tr>\n",
       "  </tbody>\n",
       "</table>\n",
       "</div>"
      ],
      "text/plain": [
       "             Dataset_1  Dataset_2  Dataset_3  Dataset_4  Dataset_5  Dataset_6  \\\n",
       "Normal        0.115407   0.230334  -0.096682   0.216567   0.093312   0.147613   \n",
       "Exponential   0.082351   0.204702  -0.170123   0.193219   0.083159   0.109609   \n",
       "Empirical     0.139184   0.259148  -0.088561   0.235365   0.120790   0.176398   \n",
       "\n",
       "             Dataset_7  Dataset_8  Dataset_9  Dataset_10  mean_fraction  \n",
       "Normal       -0.039863   0.210755   0.228525    0.044180       0.115015  \n",
       "Exponential  -0.078827   0.165134   0.208214    0.022186       0.081962  \n",
       "Empirical    -0.016827   0.220382   0.251611    0.078851       0.137634  "
      ]
     },
     "execution_count": 46,
     "metadata": {},
     "output_type": "execute_result"
    }
   ],
   "source": [
    "fraction_table"
   ]
  },
  {
   "cell_type": "code",
   "execution_count": 47,
   "metadata": {},
   "outputs": [
    {
     "data": {
      "text/html": [
       "<div>\n",
       "<style scoped>\n",
       "    .dataframe tbody tr th:only-of-type {\n",
       "        vertical-align: middle;\n",
       "    }\n",
       "\n",
       "    .dataframe tbody tr th {\n",
       "        vertical-align: top;\n",
       "    }\n",
       "\n",
       "    .dataframe thead th {\n",
       "        text-align: right;\n",
       "    }\n",
       "</style>\n",
       "<table border=\"1\" class=\"dataframe\">\n",
       "  <thead>\n",
       "    <tr style=\"text-align: right;\">\n",
       "      <th></th>\n",
       "      <th>Dataset_1</th>\n",
       "      <th>Dataset_2</th>\n",
       "      <th>Dataset_3</th>\n",
       "      <th>Dataset_4</th>\n",
       "      <th>Dataset_5</th>\n",
       "      <th>Dataset_6</th>\n",
       "      <th>Dataset_7</th>\n",
       "      <th>Dataset_8</th>\n",
       "      <th>Dataset_9</th>\n",
       "      <th>Dataset_10</th>\n",
       "      <th>mean_profit</th>\n",
       "      <th>std_profit</th>\n",
       "    </tr>\n",
       "  </thead>\n",
       "  <tbody>\n",
       "    <tr>\n",
       "      <th>Normal</th>\n",
       "      <td>4776.0</td>\n",
       "      <td>10424.0</td>\n",
       "      <td>-4476.0</td>\n",
       "      <td>10092.0</td>\n",
       "      <td>4632.0</td>\n",
       "      <td>5764.0</td>\n",
       "      <td>-1952.0</td>\n",
       "      <td>9720.0</td>\n",
       "      <td>10216.0</td>\n",
       "      <td>1840.0</td>\n",
       "      <td>5103.6</td>\n",
       "      <td>5035.928339</td>\n",
       "    </tr>\n",
       "    <tr>\n",
       "      <th>Exponential</th>\n",
       "      <td>3408.0</td>\n",
       "      <td>9264.0</td>\n",
       "      <td>-7876.0</td>\n",
       "      <td>9004.0</td>\n",
       "      <td>4128.0</td>\n",
       "      <td>4280.0</td>\n",
       "      <td>-3860.0</td>\n",
       "      <td>7616.0</td>\n",
       "      <td>9308.0</td>\n",
       "      <td>924.0</td>\n",
       "      <td>3619.6</td>\n",
       "      <td>5525.205792</td>\n",
       "    </tr>\n",
       "    <tr>\n",
       "      <th>Empirical</th>\n",
       "      <td>5760.0</td>\n",
       "      <td>11728.0</td>\n",
       "      <td>-4100.0</td>\n",
       "      <td>10968.0</td>\n",
       "      <td>5996.0</td>\n",
       "      <td>6888.0</td>\n",
       "      <td>-824.0</td>\n",
       "      <td>10164.0</td>\n",
       "      <td>11248.0</td>\n",
       "      <td>3284.0</td>\n",
       "      <td>6111.2</td>\n",
       "      <td>5089.671361</td>\n",
       "    </tr>\n",
       "    <tr>\n",
       "      <th>Max</th>\n",
       "      <td>41384.0</td>\n",
       "      <td>45256.0</td>\n",
       "      <td>46296.0</td>\n",
       "      <td>46600.0</td>\n",
       "      <td>49640.0</td>\n",
       "      <td>39048.0</td>\n",
       "      <td>48968.0</td>\n",
       "      <td>46120.0</td>\n",
       "      <td>44704.0</td>\n",
       "      <td>41648.0</td>\n",
       "      <td>44966.4</td>\n",
       "      <td>3203.875254</td>\n",
       "    </tr>\n",
       "  </tbody>\n",
       "</table>\n",
       "</div>"
      ],
      "text/plain": [
       "             Dataset_1  Dataset_2  Dataset_3  Dataset_4  Dataset_5  Dataset_6  \\\n",
       "Normal          4776.0    10424.0    -4476.0    10092.0     4632.0     5764.0   \n",
       "Exponential     3408.0     9264.0    -7876.0     9004.0     4128.0     4280.0   \n",
       "Empirical       5760.0    11728.0    -4100.0    10968.0     5996.0     6888.0   \n",
       "Max            41384.0    45256.0    46296.0    46600.0    49640.0    39048.0   \n",
       "\n",
       "             Dataset_7  Dataset_8  Dataset_9  Dataset_10  mean_profit  \\\n",
       "Normal         -1952.0     9720.0    10216.0      1840.0       5103.6   \n",
       "Exponential    -3860.0     7616.0     9308.0       924.0       3619.6   \n",
       "Empirical       -824.0    10164.0    11248.0      3284.0       6111.2   \n",
       "Max            48968.0    46120.0    44704.0     41648.0      44966.4   \n",
       "\n",
       "              std_profit  \n",
       "Normal       5035.928339  \n",
       "Exponential  5525.205792  \n",
       "Empirical    5089.671361  \n",
       "Max          3203.875254  "
      ]
     },
     "execution_count": 47,
     "metadata": {},
     "output_type": "execute_result"
    }
   ],
   "source": [
    "profit_table"
   ]
  },
  {
   "cell_type": "code",
   "execution_count": 48,
   "metadata": {},
   "outputs": [],
   "source": [
    "profit_table.to_csv(\".\\\\Model_Selection_Result\\\\2.1A_Lin_reg.csv\")"
   ]
  },
  {
   "cell_type": "code",
   "execution_count": null,
   "metadata": {},
   "outputs": [],
   "source": []
  }
 ],
 "metadata": {
  "kernelspec": {
   "display_name": "Python 3",
   "language": "python",
   "name": "python3"
  },
  "language_info": {
   "codemirror_mode": {
    "name": "ipython",
    "version": 3
   },
   "file_extension": ".py",
   "mimetype": "text/x-python",
   "name": "python",
   "nbconvert_exporter": "python",
   "pygments_lexer": "ipython3",
   "version": "3.8.5"
  }
 },
 "nbformat": 4,
 "nbformat_minor": 4
}
