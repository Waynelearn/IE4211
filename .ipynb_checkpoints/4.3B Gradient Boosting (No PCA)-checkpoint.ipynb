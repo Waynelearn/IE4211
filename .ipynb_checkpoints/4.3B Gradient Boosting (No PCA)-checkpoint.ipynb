{
 "cells": [
  {
   "cell_type": "code",
   "execution_count": 1,
   "metadata": {},
   "outputs": [],
   "source": [
    "import pandas as pd\n",
    "import numpy as np\n",
    "import matplotlib.pyplot as plt\n",
    "from sklearn.pipeline import Pipeline\n",
    "from sklearn.model_selection import GridSearchCV\n",
    "from sklearn.decomposition import PCA\n",
    "from sklearn.metrics import mean_squared_error as MSE\n",
    "from sklearn.linear_model import LinearRegression\n",
    "from sklearn.preprocessing import PolynomialFeatures\n",
    "from sklearn.model_selection import train_test_split\n",
    "from sklearn.linear_model import Lasso\n",
    "from sklearn.neighbors import KNeighborsRegressor\n",
    "from sklearn.tree import DecisionTreeRegressor\n",
    "from sklearn.ensemble import RandomForestRegressor\n",
    "from sklearn.ensemble import GradientBoostingRegressor"
   ]
  },
  {
   "cell_type": "markdown",
   "metadata": {},
   "source": [
    "# 1. Import the train datasets"
   ]
  },
  {
   "cell_type": "code",
   "execution_count": 2,
   "metadata": {},
   "outputs": [],
   "source": [
    "X_train = pd.read_csv(\"data-train.csv\",index_col=0)\n",
    "X_train.drop(['sales'],axis=1)\n",
    "Y_train = X_train.sales"
   ]
  },
  {
   "cell_type": "code",
   "execution_count": 3,
   "metadata": {},
   "outputs": [],
   "source": [
    "#X_train = pd.read_csv(\"B_encoded_train_data.csv\",index_col=0)\n",
    "#Y_train = pd.read_csv(\"A_sales_train.csv\",index_col=0)"
   ]
  },
  {
   "cell_type": "code",
   "execution_count": 4,
   "metadata": {},
   "outputs": [],
   "source": [
    "Model_1 = GradientBoostingRegressor()"
   ]
  },
  {
   "cell_type": "markdown",
   "metadata": {},
   "source": [
    "# 2. Setup Pipeline"
   ]
  },
  {
   "cell_type": "code",
   "execution_count": 5,
   "metadata": {},
   "outputs": [],
   "source": [
    "\n",
    "RG = Model_1"
   ]
  },
  {
   "cell_type": "code",
   "execution_count": 6,
   "metadata": {},
   "outputs": [],
   "source": [
    "\n",
    "pipe = Pipeline(steps=[(\"RG\",RG)])"
   ]
  },
  {
   "cell_type": "code",
   "execution_count": 7,
   "metadata": {},
   "outputs": [],
   "source": [
    "param_grid = {\n",
    "    \"RG__learning_rate\":[0.005,0.1,0.5,1,10],\n",
    "    \"RG__n_estimators\":[10,100],\n",
    "    \"RG__min_samples_split\":[0.01*i for i in range(1,3)],\n",
    "    \"RG__ccp_alpha\":[0.005,0.1,0.5,10]\n",
    "    \n",
    "}"
   ]
  },
  {
   "cell_type": "markdown",
   "metadata": {},
   "source": [
    "# 3. Setup GridSearch"
   ]
  },
  {
   "cell_type": "code",
   "execution_count": 8,
   "metadata": {},
   "outputs": [],
   "source": [
    "score_metric = 'neg_mean_squared_error'\n",
    "search = GridSearchCV(pipe,param_grid,\n",
    "                      n_jobs=-1,\n",
    "                      cv=10,\n",
    "                      scoring=score_metric)"
   ]
  },
  {
   "cell_type": "code",
   "execution_count": 9,
   "metadata": {},
   "outputs": [
    {
     "name": "stderr",
     "output_type": "stream",
     "text": [
      "C:\\Users\\Wayne Linn\\anaconda3\\lib\\site-packages\\sklearn\\model_selection\\_search.py:813: RuntimeWarning: overflow encountered in square\n",
      "  array_stds = np.sqrt(np.average((array -\n"
     ]
    },
    {
     "data": {
      "text/plain": [
       "GridSearchCV(cv=10,\n",
       "             estimator=Pipeline(steps=[('RG', GradientBoostingRegressor())]),\n",
       "             n_jobs=-1,\n",
       "             param_grid={'RG__ccp_alpha': [0.005, 0.1, 0.5, 10],\n",
       "                         'RG__learning_rate': [0.005, 0.1, 0.5, 1, 10],\n",
       "                         'RG__min_samples_split': [0.01, 0.02],\n",
       "                         'RG__n_estimators': [10, 100]},\n",
       "             scoring='neg_mean_squared_error')"
      ]
     },
     "execution_count": 9,
     "metadata": {},
     "output_type": "execute_result"
    }
   ],
   "source": [
    "search.fit(X_train,Y_train.values.ravel())"
   ]
  },
  {
   "cell_type": "code",
   "execution_count": 10,
   "metadata": {},
   "outputs": [
    {
     "name": "stdout",
     "output_type": "stream",
     "text": [
      "Best parameter (CV score=-37.831):\n",
      "{'RG__ccp_alpha': 0.005, 'RG__learning_rate': 0.1, 'RG__min_samples_split': 0.02, 'RG__n_estimators': 100}\n"
     ]
    }
   ],
   "source": [
    "print(\"Best parameter (CV score=%0.3f):\" % search.best_score_)\n",
    "print(search.best_params_)"
   ]
  },
  {
   "cell_type": "code",
   "execution_count": 11,
   "metadata": {},
   "outputs": [
    {
     "data": {
      "text/html": [
       "<div>\n",
       "<style scoped>\n",
       "    .dataframe tbody tr th:only-of-type {\n",
       "        vertical-align: middle;\n",
       "    }\n",
       "\n",
       "    .dataframe tbody tr th {\n",
       "        vertical-align: top;\n",
       "    }\n",
       "\n",
       "    .dataframe thead th {\n",
       "        text-align: right;\n",
       "    }\n",
       "</style>\n",
       "<table border=\"1\" class=\"dataframe\">\n",
       "  <thead>\n",
       "    <tr style=\"text-align: right;\">\n",
       "      <th></th>\n",
       "      <th>mean_fit_time</th>\n",
       "      <th>std_fit_time</th>\n",
       "      <th>mean_score_time</th>\n",
       "      <th>std_score_time</th>\n",
       "      <th>param_RG__ccp_alpha</th>\n",
       "      <th>param_RG__learning_rate</th>\n",
       "      <th>param_RG__min_samples_split</th>\n",
       "      <th>param_RG__n_estimators</th>\n",
       "      <th>params</th>\n",
       "      <th>split0_test_score</th>\n",
       "      <th>...</th>\n",
       "      <th>split3_test_score</th>\n",
       "      <th>split4_test_score</th>\n",
       "      <th>split5_test_score</th>\n",
       "      <th>split6_test_score</th>\n",
       "      <th>split7_test_score</th>\n",
       "      <th>split8_test_score</th>\n",
       "      <th>split9_test_score</th>\n",
       "      <th>mean_test_score</th>\n",
       "      <th>std_test_score</th>\n",
       "      <th>rank_test_score</th>\n",
       "    </tr>\n",
       "  </thead>\n",
       "  <tbody>\n",
       "    <tr>\n",
       "      <th>7</th>\n",
       "      <td>8.838957</td>\n",
       "      <td>0.355539</td>\n",
       "      <td>0.003391</td>\n",
       "      <td>0.000489</td>\n",
       "      <td>0.005</td>\n",
       "      <td>0.1</td>\n",
       "      <td>0.02</td>\n",
       "      <td>100</td>\n",
       "      <td>{'RG__ccp_alpha': 0.005, 'RG__learning_rate': ...</td>\n",
       "      <td>-1.329910e-01</td>\n",
       "      <td>...</td>\n",
       "      <td>-2.842945e+01</td>\n",
       "      <td>-3.376094e+02</td>\n",
       "      <td>-1.509217e-01</td>\n",
       "      <td>-6.756949e+00</td>\n",
       "      <td>-1.606124e-01</td>\n",
       "      <td>-3.664048e+00</td>\n",
       "      <td>-8.419343e-01</td>\n",
       "      <td>-3.783110e+01</td>\n",
       "      <td>100.267850</td>\n",
       "      <td>1</td>\n",
       "    </tr>\n",
       "    <tr>\n",
       "      <th>15</th>\n",
       "      <td>3.718921</td>\n",
       "      <td>3.215373</td>\n",
       "      <td>0.005884</td>\n",
       "      <td>0.007212</td>\n",
       "      <td>0.005</td>\n",
       "      <td>1</td>\n",
       "      <td>0.02</td>\n",
       "      <td>100</td>\n",
       "      <td>{'RG__ccp_alpha': 0.005, 'RG__learning_rate': ...</td>\n",
       "      <td>-1.341322e+00</td>\n",
       "      <td>...</td>\n",
       "      <td>-6.060986e+01</td>\n",
       "      <td>-2.988227e+02</td>\n",
       "      <td>-1.165537e+00</td>\n",
       "      <td>-1.340031e+01</td>\n",
       "      <td>-7.639306e-01</td>\n",
       "      <td>-6.859630e+00</td>\n",
       "      <td>-2.222980e+00</td>\n",
       "      <td>-3.914430e+01</td>\n",
       "      <td>88.265337</td>\n",
       "      <td>2</td>\n",
       "    </tr>\n",
       "    <tr>\n",
       "      <th>13</th>\n",
       "      <td>6.768499</td>\n",
       "      <td>3.087733</td>\n",
       "      <td>0.002593</td>\n",
       "      <td>0.001353</td>\n",
       "      <td>0.005</td>\n",
       "      <td>1</td>\n",
       "      <td>0.01</td>\n",
       "      <td>100</td>\n",
       "      <td>{'RG__ccp_alpha': 0.005, 'RG__learning_rate': ...</td>\n",
       "      <td>-1.239941e+00</td>\n",
       "      <td>...</td>\n",
       "      <td>-4.110953e+01</td>\n",
       "      <td>-2.907544e+02</td>\n",
       "      <td>-1.153818e+00</td>\n",
       "      <td>-1.333107e+01</td>\n",
       "      <td>-4.487431e+01</td>\n",
       "      <td>-4.880462e+00</td>\n",
       "      <td>-2.475339e+00</td>\n",
       "      <td>-4.081153e+01</td>\n",
       "      <td>84.758168</td>\n",
       "      <td>3</td>\n",
       "    </tr>\n",
       "    <tr>\n",
       "      <th>33</th>\n",
       "      <td>3.588793</td>\n",
       "      <td>3.362848</td>\n",
       "      <td>0.005717</td>\n",
       "      <td>0.004967</td>\n",
       "      <td>0.1</td>\n",
       "      <td>1</td>\n",
       "      <td>0.01</td>\n",
       "      <td>100</td>\n",
       "      <td>{'RG__ccp_alpha': 0.1, 'RG__learning_rate': 1,...</td>\n",
       "      <td>-3.642935e+00</td>\n",
       "      <td>...</td>\n",
       "      <td>-3.161515e+01</td>\n",
       "      <td>-2.996038e+02</td>\n",
       "      <td>-2.793851e+00</td>\n",
       "      <td>-1.028082e+01</td>\n",
       "      <td>-4.308202e+01</td>\n",
       "      <td>-6.127995e+00</td>\n",
       "      <td>-3.343476e+00</td>\n",
       "      <td>-4.096170e+01</td>\n",
       "      <td>87.213107</td>\n",
       "      <td>4</td>\n",
       "    </tr>\n",
       "    <tr>\n",
       "      <th>12</th>\n",
       "      <td>0.265226</td>\n",
       "      <td>0.346812</td>\n",
       "      <td>0.002992</td>\n",
       "      <td>0.000773</td>\n",
       "      <td>0.005</td>\n",
       "      <td>1</td>\n",
       "      <td>0.01</td>\n",
       "      <td>10</td>\n",
       "      <td>{'RG__ccp_alpha': 0.005, 'RG__learning_rate': ...</td>\n",
       "      <td>-2.115352e+00</td>\n",
       "      <td>...</td>\n",
       "      <td>-3.270342e+01</td>\n",
       "      <td>-2.976547e+02</td>\n",
       "      <td>-1.465231e+00</td>\n",
       "      <td>-1.015522e+01</td>\n",
       "      <td>-4.616610e+01</td>\n",
       "      <td>-5.872924e+00</td>\n",
       "      <td>-3.034398e+00</td>\n",
       "      <td>-4.099116e+01</td>\n",
       "      <td>86.728852</td>\n",
       "      <td>5</td>\n",
       "    </tr>\n",
       "    <tr>\n",
       "      <th>...</th>\n",
       "      <td>...</td>\n",
       "      <td>...</td>\n",
       "      <td>...</td>\n",
       "      <td>...</td>\n",
       "      <td>...</td>\n",
       "      <td>...</td>\n",
       "      <td>...</td>\n",
       "      <td>...</td>\n",
       "      <td>...</td>\n",
       "      <td>...</td>\n",
       "      <td>...</td>\n",
       "      <td>...</td>\n",
       "      <td>...</td>\n",
       "      <td>...</td>\n",
       "      <td>...</td>\n",
       "      <td>...</td>\n",
       "      <td>...</td>\n",
       "      <td>...</td>\n",
       "      <td>...</td>\n",
       "      <td>...</td>\n",
       "      <td>...</td>\n",
       "    </tr>\n",
       "    <tr>\n",
       "      <th>19</th>\n",
       "      <td>3.151017</td>\n",
       "      <td>3.468470</td>\n",
       "      <td>0.003191</td>\n",
       "      <td>0.001246</td>\n",
       "      <td>0.005</td>\n",
       "      <td>10</td>\n",
       "      <td>0.02</td>\n",
       "      <td>100</td>\n",
       "      <td>{'RG__ccp_alpha': 0.005, 'RG__learning_rate': ...</td>\n",
       "      <td>-5.175192e+193</td>\n",
       "      <td>...</td>\n",
       "      <td>-2.233008e+194</td>\n",
       "      <td>-1.341250e+194</td>\n",
       "      <td>-3.729433e+193</td>\n",
       "      <td>-1.824806e+194</td>\n",
       "      <td>-7.389604e+193</td>\n",
       "      <td>-1.322238e+194</td>\n",
       "      <td>-5.964785e+193</td>\n",
       "      <td>-1.040493e+194</td>\n",
       "      <td>inf</td>\n",
       "      <td>73</td>\n",
       "    </tr>\n",
       "    <tr>\n",
       "      <th>17</th>\n",
       "      <td>6.841576</td>\n",
       "      <td>2.985782</td>\n",
       "      <td>0.029920</td>\n",
       "      <td>0.080120</td>\n",
       "      <td>0.005</td>\n",
       "      <td>10</td>\n",
       "      <td>0.01</td>\n",
       "      <td>100</td>\n",
       "      <td>{'RG__ccp_alpha': 0.005, 'RG__learning_rate': ...</td>\n",
       "      <td>-5.175192e+193</td>\n",
       "      <td>...</td>\n",
       "      <td>-2.233008e+194</td>\n",
       "      <td>-1.341250e+194</td>\n",
       "      <td>-3.729433e+193</td>\n",
       "      <td>-1.824806e+194</td>\n",
       "      <td>-7.389604e+193</td>\n",
       "      <td>-1.322238e+194</td>\n",
       "      <td>-5.964785e+193</td>\n",
       "      <td>-1.040493e+194</td>\n",
       "      <td>inf</td>\n",
       "      <td>73</td>\n",
       "    </tr>\n",
       "    <tr>\n",
       "      <th>59</th>\n",
       "      <td>1.913356</td>\n",
       "      <td>2.138666</td>\n",
       "      <td>0.002659</td>\n",
       "      <td>0.001386</td>\n",
       "      <td>0.5</td>\n",
       "      <td>10</td>\n",
       "      <td>0.02</td>\n",
       "      <td>100</td>\n",
       "      <td>{'RG__ccp_alpha': 0.5, 'RG__learning_rate': 10...</td>\n",
       "      <td>-5.175192e+193</td>\n",
       "      <td>...</td>\n",
       "      <td>-2.233008e+194</td>\n",
       "      <td>-1.341250e+194</td>\n",
       "      <td>-3.729433e+193</td>\n",
       "      <td>-1.824806e+194</td>\n",
       "      <td>-7.389604e+193</td>\n",
       "      <td>-1.322238e+194</td>\n",
       "      <td>-5.964785e+193</td>\n",
       "      <td>-1.040493e+194</td>\n",
       "      <td>inf</td>\n",
       "      <td>73</td>\n",
       "    </tr>\n",
       "    <tr>\n",
       "      <th>79</th>\n",
       "      <td>2.136057</td>\n",
       "      <td>1.561148</td>\n",
       "      <td>0.013733</td>\n",
       "      <td>0.032970</td>\n",
       "      <td>10</td>\n",
       "      <td>10</td>\n",
       "      <td>0.02</td>\n",
       "      <td>100</td>\n",
       "      <td>{'RG__ccp_alpha': 10, 'RG__learning_rate': 10,...</td>\n",
       "      <td>-5.175192e+193</td>\n",
       "      <td>...</td>\n",
       "      <td>-2.233008e+194</td>\n",
       "      <td>-1.341250e+194</td>\n",
       "      <td>-3.729433e+193</td>\n",
       "      <td>-1.824806e+194</td>\n",
       "      <td>-7.389604e+193</td>\n",
       "      <td>-1.322238e+194</td>\n",
       "      <td>-5.964785e+193</td>\n",
       "      <td>-1.040493e+194</td>\n",
       "      <td>inf</td>\n",
       "      <td>73</td>\n",
       "    </tr>\n",
       "    <tr>\n",
       "      <th>57</th>\n",
       "      <td>4.253904</td>\n",
       "      <td>2.366324</td>\n",
       "      <td>0.003391</td>\n",
       "      <td>0.000661</td>\n",
       "      <td>0.5</td>\n",
       "      <td>10</td>\n",
       "      <td>0.01</td>\n",
       "      <td>100</td>\n",
       "      <td>{'RG__ccp_alpha': 0.5, 'RG__learning_rate': 10...</td>\n",
       "      <td>-5.175192e+193</td>\n",
       "      <td>...</td>\n",
       "      <td>-2.233008e+194</td>\n",
       "      <td>-1.341250e+194</td>\n",
       "      <td>-3.729433e+193</td>\n",
       "      <td>-1.824806e+194</td>\n",
       "      <td>-7.389604e+193</td>\n",
       "      <td>-1.322238e+194</td>\n",
       "      <td>-5.964785e+193</td>\n",
       "      <td>-1.040493e+194</td>\n",
       "      <td>inf</td>\n",
       "      <td>80</td>\n",
       "    </tr>\n",
       "  </tbody>\n",
       "</table>\n",
       "<p>80 rows × 22 columns</p>\n",
       "</div>"
      ],
      "text/plain": [
       "    mean_fit_time  std_fit_time  mean_score_time  std_score_time  \\\n",
       "7        8.838957      0.355539         0.003391        0.000489   \n",
       "15       3.718921      3.215373         0.005884        0.007212   \n",
       "13       6.768499      3.087733         0.002593        0.001353   \n",
       "33       3.588793      3.362848         0.005717        0.004967   \n",
       "12       0.265226      0.346812         0.002992        0.000773   \n",
       "..            ...           ...              ...             ...   \n",
       "19       3.151017      3.468470         0.003191        0.001246   \n",
       "17       6.841576      2.985782         0.029920        0.080120   \n",
       "59       1.913356      2.138666         0.002659        0.001386   \n",
       "79       2.136057      1.561148         0.013733        0.032970   \n",
       "57       4.253904      2.366324         0.003391        0.000661   \n",
       "\n",
       "   param_RG__ccp_alpha param_RG__learning_rate param_RG__min_samples_split  \\\n",
       "7                0.005                     0.1                        0.02   \n",
       "15               0.005                       1                        0.02   \n",
       "13               0.005                       1                        0.01   \n",
       "33                 0.1                       1                        0.01   \n",
       "12               0.005                       1                        0.01   \n",
       "..                 ...                     ...                         ...   \n",
       "19               0.005                      10                        0.02   \n",
       "17               0.005                      10                        0.01   \n",
       "59                 0.5                      10                        0.02   \n",
       "79                  10                      10                        0.02   \n",
       "57                 0.5                      10                        0.01   \n",
       "\n",
       "   param_RG__n_estimators                                             params  \\\n",
       "7                     100  {'RG__ccp_alpha': 0.005, 'RG__learning_rate': ...   \n",
       "15                    100  {'RG__ccp_alpha': 0.005, 'RG__learning_rate': ...   \n",
       "13                    100  {'RG__ccp_alpha': 0.005, 'RG__learning_rate': ...   \n",
       "33                    100  {'RG__ccp_alpha': 0.1, 'RG__learning_rate': 1,...   \n",
       "12                     10  {'RG__ccp_alpha': 0.005, 'RG__learning_rate': ...   \n",
       "..                    ...                                                ...   \n",
       "19                    100  {'RG__ccp_alpha': 0.005, 'RG__learning_rate': ...   \n",
       "17                    100  {'RG__ccp_alpha': 0.005, 'RG__learning_rate': ...   \n",
       "59                    100  {'RG__ccp_alpha': 0.5, 'RG__learning_rate': 10...   \n",
       "79                    100  {'RG__ccp_alpha': 10, 'RG__learning_rate': 10,...   \n",
       "57                    100  {'RG__ccp_alpha': 0.5, 'RG__learning_rate': 10...   \n",
       "\n",
       "    split0_test_score  ...  split3_test_score  split4_test_score  \\\n",
       "7       -1.329910e-01  ...      -2.842945e+01      -3.376094e+02   \n",
       "15      -1.341322e+00  ...      -6.060986e+01      -2.988227e+02   \n",
       "13      -1.239941e+00  ...      -4.110953e+01      -2.907544e+02   \n",
       "33      -3.642935e+00  ...      -3.161515e+01      -2.996038e+02   \n",
       "12      -2.115352e+00  ...      -3.270342e+01      -2.976547e+02   \n",
       "..                ...  ...                ...                ...   \n",
       "19     -5.175192e+193  ...     -2.233008e+194     -1.341250e+194   \n",
       "17     -5.175192e+193  ...     -2.233008e+194     -1.341250e+194   \n",
       "59     -5.175192e+193  ...     -2.233008e+194     -1.341250e+194   \n",
       "79     -5.175192e+193  ...     -2.233008e+194     -1.341250e+194   \n",
       "57     -5.175192e+193  ...     -2.233008e+194     -1.341250e+194   \n",
       "\n",
       "    split5_test_score  split6_test_score  split7_test_score  \\\n",
       "7       -1.509217e-01      -6.756949e+00      -1.606124e-01   \n",
       "15      -1.165537e+00      -1.340031e+01      -7.639306e-01   \n",
       "13      -1.153818e+00      -1.333107e+01      -4.487431e+01   \n",
       "33      -2.793851e+00      -1.028082e+01      -4.308202e+01   \n",
       "12      -1.465231e+00      -1.015522e+01      -4.616610e+01   \n",
       "..                ...                ...                ...   \n",
       "19     -3.729433e+193     -1.824806e+194     -7.389604e+193   \n",
       "17     -3.729433e+193     -1.824806e+194     -7.389604e+193   \n",
       "59     -3.729433e+193     -1.824806e+194     -7.389604e+193   \n",
       "79     -3.729433e+193     -1.824806e+194     -7.389604e+193   \n",
       "57     -3.729433e+193     -1.824806e+194     -7.389604e+193   \n",
       "\n",
       "    split8_test_score  split9_test_score  mean_test_score  std_test_score  \\\n",
       "7       -3.664048e+00      -8.419343e-01    -3.783110e+01      100.267850   \n",
       "15      -6.859630e+00      -2.222980e+00    -3.914430e+01       88.265337   \n",
       "13      -4.880462e+00      -2.475339e+00    -4.081153e+01       84.758168   \n",
       "33      -6.127995e+00      -3.343476e+00    -4.096170e+01       87.213107   \n",
       "12      -5.872924e+00      -3.034398e+00    -4.099116e+01       86.728852   \n",
       "..                ...                ...              ...             ...   \n",
       "19     -1.322238e+194     -5.964785e+193   -1.040493e+194             inf   \n",
       "17     -1.322238e+194     -5.964785e+193   -1.040493e+194             inf   \n",
       "59     -1.322238e+194     -5.964785e+193   -1.040493e+194             inf   \n",
       "79     -1.322238e+194     -5.964785e+193   -1.040493e+194             inf   \n",
       "57     -1.322238e+194     -5.964785e+193   -1.040493e+194             inf   \n",
       "\n",
       "    rank_test_score  \n",
       "7                 1  \n",
       "15                2  \n",
       "13                3  \n",
       "33                4  \n",
       "12                5  \n",
       "..              ...  \n",
       "19               73  \n",
       "17               73  \n",
       "59               73  \n",
       "79               73  \n",
       "57               80  \n",
       "\n",
       "[80 rows x 22 columns]"
      ]
     },
     "execution_count": 11,
     "metadata": {},
     "output_type": "execute_result"
    }
   ],
   "source": [
    "df = pd.DataFrame(search.cv_results_)\n",
    "df = df.sort_values(by=['rank_test_score'])\n",
    "df"
   ]
  },
  {
   "cell_type": "markdown",
   "metadata": {},
   "source": [
    "# 4. Best Hyperparameter"
   ]
  },
  {
   "cell_type": "code",
   "execution_count": 12,
   "metadata": {},
   "outputs": [
    {
     "name": "stdout",
     "output_type": "stream",
     "text": [
      "{'RG__ccp_alpha': 0.005, 'RG__learning_rate': 0.1, 'RG__min_samples_split': 0.02, 'RG__n_estimators': 100}\n"
     ]
    }
   ],
   "source": [
    "parms = pd.DataFrame(df['params'])\n",
    "for i in parms.iloc[0]:\n",
    "    print(i)"
   ]
  },
  {
   "cell_type": "markdown",
   "metadata": {},
   "source": [
    "# 5. Evaluate Model $log(Sales)$"
   ]
  },
  {
   "cell_type": "code",
   "execution_count": 13,
   "metadata": {},
   "outputs": [],
   "source": [
    "best_lr = parms.iloc[0][0]['RG__learning_rate']\n",
    "best_n_est = parms.iloc[0][0]['RG__n_estimators']\n",
    "best_min_ss=parms.iloc[0][0]['RG__min_samples_split']\n",
    "best_ccp_alpha=parms.iloc[0][0]['RG__ccp_alpha']\n",
    "#best_pca=170\n",
    "#best_lr=0.1\n",
    "#best_n_est=100"
   ]
  },
  {
   "cell_type": "code",
   "execution_count": null,
   "metadata": {},
   "outputs": [],
   "source": []
  },
  {
   "cell_type": "code",
   "execution_count": 14,
   "metadata": {},
   "outputs": [],
   "source": [
    "Model_2 = GradientBoostingRegressor(learning_rate=best_lr,n_estimators=best_n_est,min_samples_split=best_min_ss,ccp_alpha=best_ccp_alpha)"
   ]
  },
  {
   "cell_type": "code",
   "execution_count": 15,
   "metadata": {},
   "outputs": [],
   "source": [
    "X_train1,X_test1,Y_train1,Y_test1 = train_test_split(X_train,Y_train,test_size=0.2,random_state=132)\n"
   ]
  },
  {
   "cell_type": "code",
   "execution_count": 16,
   "metadata": {},
   "outputs": [
    {
     "data": {
      "text/plain": [
       "GradientBoostingRegressor(ccp_alpha=0.005, min_samples_split=0.02)"
      ]
     },
     "execution_count": 16,
     "metadata": {},
     "output_type": "execute_result"
    }
   ],
   "source": [
    "\n",
    "RG1 = Model_2\n",
    "RG1.fit(X_train1,Y_train1.values.ravel())"
   ]
  },
  {
   "cell_type": "code",
   "execution_count": null,
   "metadata": {},
   "outputs": [],
   "source": []
  },
  {
   "cell_type": "code",
   "execution_count": 17,
   "metadata": {},
   "outputs": [
    {
     "data": {
      "text/plain": [
       "0.3761582718695024"
      ]
     },
     "execution_count": 17,
     "metadata": {},
     "output_type": "execute_result"
    }
   ],
   "source": [
    "MSE(RG1.predict(X_test1),Y_test1)"
   ]
  },
  {
   "cell_type": "code",
   "execution_count": 18,
   "metadata": {},
   "outputs": [],
   "source": [
    "result = pd.DataFrame(Y_test1)"
   ]
  },
  {
   "cell_type": "code",
   "execution_count": 19,
   "metadata": {},
   "outputs": [],
   "source": [
    "result[\"Predicted_sales\"] = RG1.predict(X_test1)"
   ]
  },
  {
   "cell_type": "code",
   "execution_count": 20,
   "metadata": {},
   "outputs": [
    {
     "data": {
      "text/plain": [
       "0.3761582718695024"
      ]
     },
     "execution_count": 20,
     "metadata": {},
     "output_type": "execute_result"
    }
   ],
   "source": [
    "MSE(result[\"sales\"],result[\"Predicted_sales\"])"
   ]
  },
  {
   "cell_type": "markdown",
   "metadata": {},
   "source": [
    "# 6. Inventory Decision"
   ]
  },
  {
   "cell_type": "code",
   "execution_count": 21,
   "metadata": {},
   "outputs": [],
   "source": [
    "residual = result['sales']-result['Predicted_sales']"
   ]
  },
  {
   "cell_type": "code",
   "execution_count": 22,
   "metadata": {},
   "outputs": [
    {
     "data": {
      "text/plain": [
       "(4, 8)"
      ]
     },
     "execution_count": 22,
     "metadata": {},
     "output_type": "execute_result"
    }
   ],
   "source": [
    "Price=20\n",
    "Cost=12\n",
    "Salvage=8\n",
    "Over=Cost - Salvage\n",
    "Under=Price - Cost\n",
    "Over, Under"
   ]
  },
  {
   "cell_type": "markdown",
   "metadata": {},
   "source": [
    "### QQ plot to explore the distribution of residual"
   ]
  },
  {
   "cell_type": "markdown",
   "metadata": {},
   "source": [
    "#### Normal Distribution"
   ]
  },
  {
   "cell_type": "code",
   "execution_count": 23,
   "metadata": {},
   "outputs": [],
   "source": [
    "import scipy.stats as sct"
   ]
  },
  {
   "cell_type": "code",
   "execution_count": 24,
   "metadata": {},
   "outputs": [
    {
     "data": {
      "image/png": "[encoded data removed]",
      "text/plain": [
       "<Figure size 432x288 with 1 Axes>"
      ]
     },
     "metadata": {
      "needs_background": "light"
     },
     "output_type": "display_data"
    }
   ],
   "source": [
    "import scipy\n",
    "scipy.stats.probplot(residual, dist=\"norm\", plot=plt)\n",
    "plt.show()"
   ]
  },
  {
   "cell_type": "code",
   "execution_count": 25,
   "metadata": {},
   "outputs": [],
   "source": [
    "s = residual.std()\n",
    "opt_dec_N=round(sct.norm.ppf(Under/(Under+Over))*s + result['Predicted_sales'])"
   ]
  },
  {
   "cell_type": "markdown",
   "metadata": {},
   "source": [
    "#### Exponential Distribution"
   ]
  },
  {
   "cell_type": "code",
   "execution_count": 26,
   "metadata": {},
   "outputs": [
    {
     "data": {
      "image/png": "[encoded data removed]",
      "text/plain": [
       "<Figure size 432x288 with 1 Axes>"
      ]
     },
     "metadata": {
      "needs_background": "light"
     },
     "output_type": "display_data"
    }
   ],
   "source": [
    "scipy.stats.probplot(residual, dist=\"expon\", plot=plt)\n",
    "plt.show()"
   ]
  },
  {
   "cell_type": "code",
   "execution_count": 27,
   "metadata": {},
   "outputs": [],
   "source": [
    "opt_dec_E=round((-result['Predicted_sales'])*np.log(1-(Under/(Under+Over))))"
   ]
  },
  {
   "cell_type": "markdown",
   "metadata": {},
   "source": [
    "#### Empirical Distribution"
   ]
  },
  {
   "cell_type": "code",
   "execution_count": 28,
   "metadata": {},
   "outputs": [
    {
     "data": {
      "text/plain": [
       "[<matplotlib.lines.Line2D at 0x201e11e2670>]"
      ]
     },
     "execution_count": 28,
     "metadata": {},
     "output_type": "execute_result"
    },
    {
     "data": {
      "image/png": "[encoded data removed]",
      "text/plain": [
       "<Figure size 432x288 with 1 Axes>"
      ]
     },
     "metadata": {
      "needs_background": "light"
     },
     "output_type": "display_data"
    }
   ],
   "source": [
    "size = residual.shape[0]\n",
    "step=1/size\n",
    "jumps = [step*i for i in range(1,size+1)]\n",
    "Sample = sorted(residual)\n",
    "plt.plot(Sample,jumps)"
   ]
  },
  {
   "cell_type": "code",
   "execution_count": 29,
   "metadata": {},
   "outputs": [
    {
     "data": {
      "image/png": "[encoded data removed]",
      "text/plain": [
       "<Figure size 432x288 with 1 Axes>"
      ]
     },
     "metadata": {
      "needs_background": "light"
     },
     "output_type": "display_data"
    }
   ],
   "source": [
    "plt.hist(Sample)\n",
    "plt.show()"
   ]
  },
  {
   "cell_type": "code",
   "execution_count": 30,
   "metadata": {},
   "outputs": [],
   "source": [
    "def inv(sample,jump,area):\n",
    "    size = len(sample)\n",
    "    i=0\n",
    "    temp=jump[i]\n",
    "    while temp<area:\n",
    "        i+=1\n",
    "        temp=jump[i]\n",
    "        \n",
    "    return sample[i]"
   ]
  },
  {
   "cell_type": "code",
   "execution_count": 31,
   "metadata": {},
   "outputs": [
    {
     "data": {
      "text/plain": [
       "0.011651521459022263"
      ]
     },
     "execution_count": 31,
     "metadata": {},
     "output_type": "execute_result"
    }
   ],
   "source": [
    "offset = inv(Sample,jumps,2/3)\n",
    "offset"
   ]
  },
  {
   "cell_type": "code",
   "execution_count": 32,
   "metadata": {},
   "outputs": [],
   "source": [
    "opt_dec_B = round(result['Predicted_sales']+offset)"
   ]
  },
  {
   "cell_type": "markdown",
   "metadata": {},
   "source": [
    "# 7. Out-of-samples Profit"
   ]
  },
  {
   "cell_type": "code",
   "execution_count": 33,
   "metadata": {},
   "outputs": [
    {
     "data": {
      "text/plain": [
       "82096"
      ]
     },
     "execution_count": 33,
     "metadata": {},
     "output_type": "execute_result"
    }
   ],
   "source": [
    "#max profit for test data set\n",
    "max_profit = result['sales'].sum()*(Price-Cost)\n",
    "max_profit"
   ]
  },
  {
   "cell_type": "code",
   "execution_count": 34,
   "metadata": {},
   "outputs": [],
   "source": [
    "def profit(demand,inv):\n",
    "    return (Price-Salvage)*np.minimum(demand,inv)-(Cost-Salvage)*inv"
   ]
  },
  {
   "cell_type": "code",
   "execution_count": 35,
   "metadata": {},
   "outputs": [
    {
     "data": {
      "text/plain": [
       "81472.0"
      ]
     },
     "execution_count": 35,
     "metadata": {},
     "output_type": "execute_result"
    }
   ],
   "source": [
    "#Profit (Normal)\n",
    "profit_lst_N = profit(result['sales'],opt_dec_N)\n",
    "profit_lst_N.sum()"
   ]
  },
  {
   "cell_type": "code",
   "execution_count": 36,
   "metadata": {},
   "outputs": [
    {
     "data": {
      "text/plain": [
       "78276.0"
      ]
     },
     "execution_count": 36,
     "metadata": {},
     "output_type": "execute_result"
    }
   ],
   "source": [
    "#Profit (Exponential)\n",
    "profit_lst_E = profit(result['sales'],opt_dec_E)\n",
    "profit_lst_E.sum()"
   ]
  },
  {
   "cell_type": "code",
   "execution_count": 37,
   "metadata": {},
   "outputs": [
    {
     "data": {
      "text/plain": [
       "81556.0"
      ]
     },
     "execution_count": 37,
     "metadata": {},
     "output_type": "execute_result"
    }
   ],
   "source": [
    "#Profit (Empirical)\n",
    "profit_lst_B = profit(result['sales'],opt_dec_B)\n",
    "profit_lst_B.sum()"
   ]
  },
  {
   "cell_type": "markdown",
   "metadata": {},
   "source": [
    "# 8. K-Fold Cross Validation"
   ]
  },
  {
   "cell_type": "markdown",
   "metadata": {},
   "source": [
    "### Repeat steps 5,6,7 with 10-fold cross validation"
   ]
  },
  {
   "cell_type": "code",
   "execution_count": 38,
   "metadata": {},
   "outputs": [],
   "source": [
    "Model_4= GradientBoostingRegressor(learning_rate=best_lr,n_estimators=best_n_est,min_samples_split=best_min_ss,ccp_alpha=best_ccp_alpha)"
   ]
  },
  {
   "cell_type": "code",
   "execution_count": 39,
   "metadata": {},
   "outputs": [],
   "source": [
    "from sklearn.model_selection import KFold\n",
    "k=10\n",
    "kf = KFold(n_splits=k)\n",
    "X_train_t=X_train.to_numpy()\n",
    "Y_train_t=Y_train.to_numpy()\n",
    "model = []\n",
    "mse_lst = []\n",
    "max_profit_lst = []\n",
    "profit_N_lst = []\n",
    "profit_E_lst = []\n",
    "profit_B_lst = []\n",
    "\n",
    "for train_index,test_index in kf.split(X_train_t):\n",
    "    X_train_K,X_test_K=X_train_t[train_index],X_train_t[test_index]\n",
    "    Y_train_K,Y_test_K=Y_train_t[train_index],Y_train_t[test_index]\n",
    "    \n",
    "    #PCA to transform train data\n",
    "    \n",
    "    #Model\n",
    "    RG_K = Model_4\n",
    "    RG_K.fit(X_train_K,Y_train_K.ravel())\n",
    "    \n",
    "    #pca to transform test data\n",
    "    \n",
    "    #MSE\n",
    "    mse_lst.append(MSE(RG_K.predict(X_test_K),Y_test_K))\n",
    "    \n",
    "    #Transform log(sale) back to sale\n",
    "    result_K = pd.DataFrame(Y_test_K)\n",
    "    result_K[\"Predicted_sales\"] = RG_K.predict(X_test_K)\n",
    "    \n",
    "    #Obtain residual\n",
    "    residual_K = result_K[0]-result_K['Predicted_sales']\n",
    "    \n",
    "    #Get std for Normal distribution\n",
    "    s_K = residual.std()\n",
    "    \n",
    "    #Inventory Decision (Normal)\n",
    "    opt_dec_N_K=np.ceil(sct.norm.ppf(Under/(Under+Over))*s_K + result_K['Predicted_sales'])\n",
    "    #Inventory Decision (Exponential)\n",
    "    opt_dec_E_K=np.ceil((-result_K['Predicted_sales'])*np.log(1-(Under/(Under+Over))))\n",
    "    \n",
    "    #Inventory Decision (Empirical Distribution)\n",
    "    size_K = residual_K.shape[0]\n",
    "    step_K=1/size_K\n",
    "    jumps_K = [step_K*i for i in range(1,size+1)]\n",
    "    Sample_K = sorted(residual_K)\n",
    "    offset_K = inv(Sample_K,jumps_K,2/3)\n",
    "    opt_dec_B_K = np.ceil(result_K['Predicted_sales']+offset_K)\n",
    "    \n",
    "    #Out-of_sample profit\n",
    "    profit_lst_B_K = profit(result_K[0],opt_dec_B_K)\n",
    "    profit_B_lst.append(profit_lst_B_K.sum())\n",
    "    \n",
    "    profit_lst_N_K = profit(result_K[0],opt_dec_N_K)\n",
    "    profit_N_lst.append(profit_lst_N_K.sum())\n",
    "    \n",
    "    profit_lst_E_K = profit(result_K[0],opt_dec_E_K)\n",
    "    profit_E_lst.append(profit_lst_E_K.sum())\n",
    "    \n",
    "    max_profit_K = result_K[0].sum()*(Price-Cost)\n",
    "    max_profit_lst.append(max_profit_K)\n",
    "    \n",
    "max_profit_lst = np.array(max_profit_lst)\n",
    "profit_N_lst = np.array(profit_N_lst)\n",
    "profit_E_lst = np.array(profit_E_lst)\n",
    "profit_B_lst = np.array(profit_B_lst)\n",
    "\n",
    "fraction_of_max_N = profit_N_lst/max_profit_lst\n",
    "fraction_of_max_E = profit_E_lst/max_profit_lst\n",
    "fraction_of_max_B = profit_B_lst/max_profit_lst\n",
    "\n",
    "dist_profit = [\"Normal\",\"Exponential\",\"Empirical\",\"Max\"]\n",
    "dist_frac = [\"Normal\",\"Exponential\",\"Empirical\"]\n",
    "col_name = [\"Dataset_\"+str(i) for i in range(1,k+1)]\n",
    "\n",
    "profit_lst = [profit_N_lst,profit_E_lst,profit_B_lst,max_profit_lst]\n",
    "profit_table = pd.DataFrame(profit_lst,index=dist_profit,columns=col_name)\n",
    "profit_table[\"mean_profit\"]=profit_table.mean(axis=1)\n",
    "profit_table[\"std_profit\"]=profit_table.std(ddof=1,axis=1)\n",
    "\n",
    "fraction_lst = [fraction_of_max_N,fraction_of_max_E,fraction_of_max_B]\n",
    "fraction_table = pd.DataFrame(fraction_lst,index=dist_frac,columns=col_name)\n",
    "fraction_table[\"mean_fraction\"]=fraction_table.mean(axis=1)"
   ]
  },
  {
   "cell_type": "code",
   "execution_count": 40,
   "metadata": {},
   "outputs": [
    {
     "data": {
      "text/html": [
       "<div>\n",
       "<style scoped>\n",
       "    .dataframe tbody tr th:only-of-type {\n",
       "        vertical-align: middle;\n",
       "    }\n",
       "\n",
       "    .dataframe tbody tr th {\n",
       "        vertical-align: top;\n",
       "    }\n",
       "\n",
       "    .dataframe thead th {\n",
       "        text-align: right;\n",
       "    }\n",
       "</style>\n",
       "<table border=\"1\" class=\"dataframe\">\n",
       "  <thead>\n",
       "    <tr style=\"text-align: right;\">\n",
       "      <th></th>\n",
       "      <th>Dataset_1</th>\n",
       "      <th>Dataset_2</th>\n",
       "      <th>Dataset_3</th>\n",
       "      <th>Dataset_4</th>\n",
       "      <th>Dataset_5</th>\n",
       "      <th>Dataset_6</th>\n",
       "      <th>Dataset_7</th>\n",
       "      <th>Dataset_8</th>\n",
       "      <th>Dataset_9</th>\n",
       "      <th>Dataset_10</th>\n",
       "      <th>mean_fraction</th>\n",
       "    </tr>\n",
       "  </thead>\n",
       "  <tbody>\n",
       "    <tr>\n",
       "      <th>Normal</th>\n",
       "      <td>0.979509</td>\n",
       "      <td>0.980202</td>\n",
       "      <td>0.980646</td>\n",
       "      <td>0.963262</td>\n",
       "      <td>0.937389</td>\n",
       "      <td>0.977566</td>\n",
       "      <td>0.975576</td>\n",
       "      <td>0.981787</td>\n",
       "      <td>0.978525</td>\n",
       "      <td>0.978102</td>\n",
       "      <td>0.973256</td>\n",
       "    </tr>\n",
       "    <tr>\n",
       "      <th>Exponential</th>\n",
       "      <td>0.938914</td>\n",
       "      <td>0.940339</td>\n",
       "      <td>0.941334</td>\n",
       "      <td>0.943691</td>\n",
       "      <td>0.913296</td>\n",
       "      <td>0.937615</td>\n",
       "      <td>0.943963</td>\n",
       "      <td>0.941370</td>\n",
       "      <td>0.937276</td>\n",
       "      <td>0.937860</td>\n",
       "      <td>0.937566</td>\n",
       "    </tr>\n",
       "    <tr>\n",
       "      <th>Empirical</th>\n",
       "      <td>0.984632</td>\n",
       "      <td>0.984091</td>\n",
       "      <td>0.984534</td>\n",
       "      <td>0.967639</td>\n",
       "      <td>0.942224</td>\n",
       "      <td>0.983098</td>\n",
       "      <td>0.979579</td>\n",
       "      <td>0.985429</td>\n",
       "      <td>0.982105</td>\n",
       "      <td>0.983385</td>\n",
       "      <td>0.977671</td>\n",
       "    </tr>\n",
       "  </tbody>\n",
       "</table>\n",
       "</div>"
      ],
      "text/plain": [
       "             Dataset_1  Dataset_2  Dataset_3  Dataset_4  Dataset_5  Dataset_6  \\\n",
       "Normal        0.979509   0.980202   0.980646   0.963262   0.937389   0.977566   \n",
       "Exponential   0.938914   0.940339   0.941334   0.943691   0.913296   0.937615   \n",
       "Empirical     0.984632   0.984091   0.984534   0.967639   0.942224   0.983098   \n",
       "\n",
       "             Dataset_7  Dataset_8  Dataset_9  Dataset_10  mean_fraction  \n",
       "Normal        0.975576   0.981787   0.978525    0.978102       0.973256  \n",
       "Exponential   0.943963   0.941370   0.937276    0.937860       0.937566  \n",
       "Empirical     0.979579   0.985429   0.982105    0.983385       0.977671  "
      ]
     },
     "execution_count": 40,
     "metadata": {},
     "output_type": "execute_result"
    }
   ],
   "source": [
    "fraction_table"
   ]
  },
  {
   "cell_type": "code",
   "execution_count": 41,
   "metadata": {
    "scrolled": true
   },
   "outputs": [
    {
     "data": {
      "text/html": [
       "<div>\n",
       "<style scoped>\n",
       "    .dataframe tbody tr th:only-of-type {\n",
       "        vertical-align: middle;\n",
       "    }\n",
       "\n",
       "    .dataframe tbody tr th {\n",
       "        vertical-align: top;\n",
       "    }\n",
       "\n",
       "    .dataframe thead th {\n",
       "        text-align: right;\n",
       "    }\n",
       "</style>\n",
       "<table border=\"1\" class=\"dataframe\">\n",
       "  <thead>\n",
       "    <tr style=\"text-align: right;\">\n",
       "      <th></th>\n",
       "      <th>Dataset_1</th>\n",
       "      <th>Dataset_2</th>\n",
       "      <th>Dataset_3</th>\n",
       "      <th>Dataset_4</th>\n",
       "      <th>Dataset_5</th>\n",
       "      <th>Dataset_6</th>\n",
       "      <th>Dataset_7</th>\n",
       "      <th>Dataset_8</th>\n",
       "      <th>Dataset_9</th>\n",
       "      <th>Dataset_10</th>\n",
       "      <th>mean_profit</th>\n",
       "      <th>std_profit</th>\n",
       "    </tr>\n",
       "  </thead>\n",
       "  <tbody>\n",
       "    <tr>\n",
       "      <th>Normal</th>\n",
       "      <td>40536.0</td>\n",
       "      <td>44360.0</td>\n",
       "      <td>45400.0</td>\n",
       "      <td>44888.0</td>\n",
       "      <td>46532.0</td>\n",
       "      <td>38172.0</td>\n",
       "      <td>47772.0</td>\n",
       "      <td>45280.0</td>\n",
       "      <td>43744.0</td>\n",
       "      <td>40736.0</td>\n",
       "      <td>43742.0</td>\n",
       "      <td>2849.105544</td>\n",
       "    </tr>\n",
       "    <tr>\n",
       "      <th>Exponential</th>\n",
       "      <td>38856.0</td>\n",
       "      <td>42556.0</td>\n",
       "      <td>43580.0</td>\n",
       "      <td>43976.0</td>\n",
       "      <td>45336.0</td>\n",
       "      <td>36612.0</td>\n",
       "      <td>46224.0</td>\n",
       "      <td>43416.0</td>\n",
       "      <td>41900.0</td>\n",
       "      <td>39060.0</td>\n",
       "      <td>42151.6</td>\n",
       "      <td>2915.909711</td>\n",
       "    </tr>\n",
       "    <tr>\n",
       "      <th>Empirical</th>\n",
       "      <td>40748.0</td>\n",
       "      <td>44536.0</td>\n",
       "      <td>45580.0</td>\n",
       "      <td>45092.0</td>\n",
       "      <td>46772.0</td>\n",
       "      <td>38388.0</td>\n",
       "      <td>47968.0</td>\n",
       "      <td>45448.0</td>\n",
       "      <td>43904.0</td>\n",
       "      <td>40956.0</td>\n",
       "      <td>43939.2</td>\n",
       "      <td>2842.711832</td>\n",
       "    </tr>\n",
       "    <tr>\n",
       "      <th>Max</th>\n",
       "      <td>41384.0</td>\n",
       "      <td>45256.0</td>\n",
       "      <td>46296.0</td>\n",
       "      <td>46600.0</td>\n",
       "      <td>49640.0</td>\n",
       "      <td>39048.0</td>\n",
       "      <td>48968.0</td>\n",
       "      <td>46120.0</td>\n",
       "      <td>44704.0</td>\n",
       "      <td>41648.0</td>\n",
       "      <td>44966.4</td>\n",
       "      <td>3203.875254</td>\n",
       "    </tr>\n",
       "  </tbody>\n",
       "</table>\n",
       "</div>"
      ],
      "text/plain": [
       "             Dataset_1  Dataset_2  Dataset_3  Dataset_4  Dataset_5  Dataset_6  \\\n",
       "Normal         40536.0    44360.0    45400.0    44888.0    46532.0    38172.0   \n",
       "Exponential    38856.0    42556.0    43580.0    43976.0    45336.0    36612.0   \n",
       "Empirical      40748.0    44536.0    45580.0    45092.0    46772.0    38388.0   \n",
       "Max            41384.0    45256.0    46296.0    46600.0    49640.0    39048.0   \n",
       "\n",
       "             Dataset_7  Dataset_8  Dataset_9  Dataset_10  mean_profit  \\\n",
       "Normal         47772.0    45280.0    43744.0     40736.0      43742.0   \n",
       "Exponential    46224.0    43416.0    41900.0     39060.0      42151.6   \n",
       "Empirical      47968.0    45448.0    43904.0     40956.0      43939.2   \n",
       "Max            48968.0    46120.0    44704.0     41648.0      44966.4   \n",
       "\n",
       "              std_profit  \n",
       "Normal       2849.105544  \n",
       "Exponential  2915.909711  \n",
       "Empirical    2842.711832  \n",
       "Max          3203.875254  "
      ]
     },
     "execution_count": 41,
     "metadata": {},
     "output_type": "execute_result"
    }
   ],
   "source": [
    "profit_table"
   ]
  },
  {
   "cell_type": "code",
   "execution_count": 42,
   "metadata": {},
   "outputs": [],
   "source": [
    "profit_table.to_csv(\".\\\\Model_Selection_Result\\\\4.3B_Gradient_boosting(No_PCA).csv\")"
   ]
  },
  {
   "cell_type": "code",
   "execution_count": 44,
   "metadata": {},
   "outputs": [
    {
     "data": {
      "text/plain": [
       "[<matplotlib.lines.Line2D at 0x201e12053a0>]"
      ]
     },
     "execution_count": 44,
     "metadata": {},
     "output_type": "execute_result"
    },
    {
     "data": {
      "image/png": "[encoded data removed]",
      "text/plain": [
       "<Figure size 432x288 with 1 Axes>"
      ]
     },
     "metadata": {
      "needs_background": "light"
     },
     "output_type": "display_data"
    }
   ],
   "source": [
    "plt.plot(result['sales'],residual,\".\")"
   ]
  },
  {
   "cell_type": "code",
   "execution_count": null,
   "metadata": {},
   "outputs": [],
   "source": []
  }
 ],
 "metadata": {
  "kernelspec": {
   "display_name": "Python 3",
   "language": "python",
   "name": "python3"
  },
  "language_info": {
   "codemirror_mode": {
    "name": "ipython",
    "version": 3
   },
   "file_extension": ".py",
   "mimetype": "text/x-python",
   "name": "python",
   "nbconvert_exporter": "python",
   "pygments_lexer": "ipython3",
   "version": "3.8.5"
  }
 },
 "nbformat": 4,
 "nbformat_minor": 4
}
