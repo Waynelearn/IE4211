{
 "cells": [
  {
   "cell_type": "code",
   "execution_count": 1,
   "metadata": {},
   "outputs": [],
   "source": [
    "import pandas as pd\n",
    "import numpy as np\n",
    "import matplotlib.pyplot as plt\n",
    "from sklearn.pipeline import Pipeline\n",
    "from sklearn.model_selection import GridSearchCV\n",
    "from sklearn.decomposition import PCA\n",
    "from sklearn.metrics import mean_squared_error as MSE\n",
    "from sklearn.linear_model import LinearRegression\n",
    "from sklearn.preprocessing import PolynomialFeatures\n",
    "from sklearn.model_selection import train_test_split\n",
    "from sklearn.linear_model import Lasso\n",
    "from sklearn.neighbors import KNeighborsRegressor\n",
    "from sklearn.tree import DecisionTreeRegressor\n",
    "from sklearn.ensemble import RandomForestRegressor\n",
    "from sklearn.ensemble import GradientBoostingRegressor"
   ]
  },
  {
   "cell_type": "markdown",
   "metadata": {},
   "source": [
    "# 1. Import the train datasets"
   ]
  },
  {
   "cell_type": "code",
   "execution_count": 2,
   "metadata": {},
   "outputs": [],
   "source": [
    "X_train = pd.read_csv(\"data-train.csv\",index_col=0)\n",
    "Y_train = X_train.sales\n",
    "X_train = X_train.drop(['sales'],axis=1)"
   ]
  },
  {
   "cell_type": "code",
   "execution_count": 3,
   "metadata": {},
   "outputs": [],
   "source": [
    "#X_train = pd.read_csv(\"B_encoded_train_data.csv\",index_col=0)\n",
    "#Y_train = pd.read_csv(\"A_sales_train.csv\",index_col=0)"
   ]
  },
  {
   "cell_type": "code",
   "execution_count": 4,
   "metadata": {},
   "outputs": [],
   "source": [
    "Model_1 = RandomForestRegressor()"
   ]
  },
  {
   "cell_type": "markdown",
   "metadata": {},
   "source": [
    "# 2. Setup Pipeline"
   ]
  },
  {
   "cell_type": "code",
   "execution_count": 5,
   "metadata": {},
   "outputs": [],
   "source": [
    "\n",
    "RG = Model_1"
   ]
  },
  {
   "cell_type": "code",
   "execution_count": 6,
   "metadata": {},
   "outputs": [],
   "source": [
    "\n",
    "pipe = Pipeline(steps=[(\"RG\",RG)])"
   ]
  },
  {
   "cell_type": "code",
   "execution_count": 7,
   "metadata": {},
   "outputs": [],
   "source": [
    "param_grid = {\n",
    "    \"RG__ccp_alpha\":[0.005,0.1,0.5,10],\n",
    "    \"RG__n_estimators\":[10,100,1000]\n",
    "}"
   ]
  },
  {
   "cell_type": "markdown",
   "metadata": {},
   "source": [
    "# 3. Setup GridSearch"
   ]
  },
  {
   "cell_type": "code",
   "execution_count": 8,
   "metadata": {},
   "outputs": [],
   "source": [
    "score_metric = 'neg_mean_squared_error'\n",
    "search = GridSearchCV(pipe,param_grid,\n",
    "                      n_jobs=-1,\n",
    "                      cv=10,\n",
    "                      scoring=score_metric)"
   ]
  },
  {
   "cell_type": "code",
   "execution_count": 9,
   "metadata": {},
   "outputs": [
    {
     "data": {
      "text/plain": [
       "GridSearchCV(cv=10, estimator=Pipeline(steps=[('RG', RandomForestRegressor())]),\n",
       "             n_jobs=-1,\n",
       "             param_grid={'RG__ccp_alpha': [0.005, 0.1, 0.5, 10],\n",
       "                         'RG__n_estimators': [10, 100, 1000]},\n",
       "             scoring='neg_mean_squared_error')"
      ]
     },
     "execution_count": 9,
     "metadata": {},
     "output_type": "execute_result"
    }
   ],
   "source": [
    "search.fit(X_train,Y_train.values.ravel())"
   ]
  },
  {
   "cell_type": "code",
   "execution_count": 10,
   "metadata": {},
   "outputs": [
    {
     "name": "stdout",
     "output_type": "stream",
     "text": [
      "Best parameter (CV score=-464.432):\n",
      "{'RG__ccp_alpha': 0.5, 'RG__n_estimators': 10}\n"
     ]
    }
   ],
   "source": [
    "print(\"Best parameter (CV score=%0.3f):\" % search.best_score_)\n",
    "print(search.best_params_)"
   ]
  },
  {
   "cell_type": "code",
   "execution_count": 11,
   "metadata": {},
   "outputs": [
    {
     "data": {
      "text/html": [
       "<div>\n",
       "<style scoped>\n",
       "    .dataframe tbody tr th:only-of-type {\n",
       "        vertical-align: middle;\n",
       "    }\n",
       "\n",
       "    .dataframe tbody tr th {\n",
       "        vertical-align: top;\n",
       "    }\n",
       "\n",
       "    .dataframe thead th {\n",
       "        text-align: right;\n",
       "    }\n",
       "</style>\n",
       "<table border=\"1\" class=\"dataframe\">\n",
       "  <thead>\n",
       "    <tr style=\"text-align: right;\">\n",
       "      <th></th>\n",
       "      <th>mean_fit_time</th>\n",
       "      <th>std_fit_time</th>\n",
       "      <th>mean_score_time</th>\n",
       "      <th>std_score_time</th>\n",
       "      <th>param_RG__ccp_alpha</th>\n",
       "      <th>param_RG__n_estimators</th>\n",
       "      <th>params</th>\n",
       "      <th>split0_test_score</th>\n",
       "      <th>split1_test_score</th>\n",
       "      <th>split2_test_score</th>\n",
       "      <th>split3_test_score</th>\n",
       "      <th>split4_test_score</th>\n",
       "      <th>split5_test_score</th>\n",
       "      <th>split6_test_score</th>\n",
       "      <th>split7_test_score</th>\n",
       "      <th>split8_test_score</th>\n",
       "      <th>split9_test_score</th>\n",
       "      <th>mean_test_score</th>\n",
       "      <th>std_test_score</th>\n",
       "      <th>rank_test_score</th>\n",
       "    </tr>\n",
       "  </thead>\n",
       "  <tbody>\n",
       "    <tr>\n",
       "      <th>6</th>\n",
       "      <td>0.345147</td>\n",
       "      <td>0.019879</td>\n",
       "      <td>0.004987</td>\n",
       "      <td>0.001892</td>\n",
       "      <td>0.5</td>\n",
       "      <td>10</td>\n",
       "      <td>{'RG__ccp_alpha': 0.5, 'RG__n_estimators': 10}</td>\n",
       "      <td>-203.918089</td>\n",
       "      <td>-317.875823</td>\n",
       "      <td>-548.723978</td>\n",
       "      <td>-756.651453</td>\n",
       "      <td>-937.355142</td>\n",
       "      <td>-150.402215</td>\n",
       "      <td>-436.742743</td>\n",
       "      <td>-451.332074</td>\n",
       "      <td>-564.465163</td>\n",
       "      <td>-276.848659</td>\n",
       "      <td>-464.431534</td>\n",
       "      <td>234.573444</td>\n",
       "      <td>1</td>\n",
       "    </tr>\n",
       "    <tr>\n",
       "      <th>1</th>\n",
       "      <td>2.887646</td>\n",
       "      <td>0.239003</td>\n",
       "      <td>0.019755</td>\n",
       "      <td>0.010749</td>\n",
       "      <td>0.005</td>\n",
       "      <td>100</td>\n",
       "      <td>{'RG__ccp_alpha': 0.005, 'RG__n_estimators': 100}</td>\n",
       "      <td>-153.042458</td>\n",
       "      <td>-238.550205</td>\n",
       "      <td>-662.629841</td>\n",
       "      <td>-594.538673</td>\n",
       "      <td>-1180.011760</td>\n",
       "      <td>-163.684792</td>\n",
       "      <td>-449.115959</td>\n",
       "      <td>-389.704883</td>\n",
       "      <td>-564.484160</td>\n",
       "      <td>-269.335099</td>\n",
       "      <td>-466.509783</td>\n",
       "      <td>293.351023</td>\n",
       "      <td>2</td>\n",
       "    </tr>\n",
       "    <tr>\n",
       "      <th>7</th>\n",
       "      <td>3.490129</td>\n",
       "      <td>0.288831</td>\n",
       "      <td>0.017415</td>\n",
       "      <td>0.006787</td>\n",
       "      <td>0.5</td>\n",
       "      <td>100</td>\n",
       "      <td>{'RG__ccp_alpha': 0.5, 'RG__n_estimators': 100}</td>\n",
       "      <td>-150.121395</td>\n",
       "      <td>-270.296605</td>\n",
       "      <td>-744.154584</td>\n",
       "      <td>-666.085484</td>\n",
       "      <td>-1175.528836</td>\n",
       "      <td>-143.139035</td>\n",
       "      <td>-389.310728</td>\n",
       "      <td>-420.838537</td>\n",
       "      <td>-556.904027</td>\n",
       "      <td>-276.565034</td>\n",
       "      <td>-479.294426</td>\n",
       "      <td>302.234378</td>\n",
       "      <td>3</td>\n",
       "    </tr>\n",
       "    <tr>\n",
       "      <th>2</th>\n",
       "      <td>31.096262</td>\n",
       "      <td>1.200755</td>\n",
       "      <td>0.166288</td>\n",
       "      <td>0.021820</td>\n",
       "      <td>0.005</td>\n",
       "      <td>1000</td>\n",
       "      <td>{'RG__ccp_alpha': 0.005, 'RG__n_estimators': 1...</td>\n",
       "      <td>-153.538585</td>\n",
       "      <td>-255.799501</td>\n",
       "      <td>-811.543979</td>\n",
       "      <td>-649.759170</td>\n",
       "      <td>-1151.647335</td>\n",
       "      <td>-150.781212</td>\n",
       "      <td>-372.109071</td>\n",
       "      <td>-404.934125</td>\n",
       "      <td>-580.397349</td>\n",
       "      <td>-267.822024</td>\n",
       "      <td>-479.833235</td>\n",
       "      <td>304.540940</td>\n",
       "      <td>4</td>\n",
       "    </tr>\n",
       "    <tr>\n",
       "      <th>8</th>\n",
       "      <td>37.476693</td>\n",
       "      <td>0.895905</td>\n",
       "      <td>0.158513</td>\n",
       "      <td>0.032041</td>\n",
       "      <td>0.5</td>\n",
       "      <td>1000</td>\n",
       "      <td>{'RG__ccp_alpha': 0.5, 'RG__n_estimators': 1000}</td>\n",
       "      <td>-152.315807</td>\n",
       "      <td>-273.072853</td>\n",
       "      <td>-758.214664</td>\n",
       "      <td>-657.443427</td>\n",
       "      <td>-1177.178907</td>\n",
       "      <td>-153.337686</td>\n",
       "      <td>-382.218073</td>\n",
       "      <td>-410.529033</td>\n",
       "      <td>-581.796063</td>\n",
       "      <td>-277.200685</td>\n",
       "      <td>-482.330720</td>\n",
       "      <td>302.931550</td>\n",
       "      <td>5</td>\n",
       "    </tr>\n",
       "    <tr>\n",
       "      <th>5</th>\n",
       "      <td>34.928935</td>\n",
       "      <td>1.808302</td>\n",
       "      <td>0.144913</td>\n",
       "      <td>0.007234</td>\n",
       "      <td>0.1</td>\n",
       "      <td>1000</td>\n",
       "      <td>{'RG__ccp_alpha': 0.1, 'RG__n_estimators': 1000}</td>\n",
       "      <td>-152.740973</td>\n",
       "      <td>-267.186902</td>\n",
       "      <td>-832.199793</td>\n",
       "      <td>-649.504205</td>\n",
       "      <td>-1171.271933</td>\n",
       "      <td>-144.172765</td>\n",
       "      <td>-385.124281</td>\n",
       "      <td>-408.073133</td>\n",
       "      <td>-571.164138</td>\n",
       "      <td>-272.590746</td>\n",
       "      <td>-485.402887</td>\n",
       "      <td>310.002183</td>\n",
       "      <td>6</td>\n",
       "    </tr>\n",
       "    <tr>\n",
       "      <th>4</th>\n",
       "      <td>3.308571</td>\n",
       "      <td>0.252285</td>\n",
       "      <td>0.018517</td>\n",
       "      <td>0.002929</td>\n",
       "      <td>0.1</td>\n",
       "      <td>100</td>\n",
       "      <td>{'RG__ccp_alpha': 0.1, 'RG__n_estimators': 100}</td>\n",
       "      <td>-157.300229</td>\n",
       "      <td>-283.812202</td>\n",
       "      <td>-777.403976</td>\n",
       "      <td>-703.662805</td>\n",
       "      <td>-1115.751717</td>\n",
       "      <td>-174.435359</td>\n",
       "      <td>-393.457598</td>\n",
       "      <td>-429.441878</td>\n",
       "      <td>-583.813741</td>\n",
       "      <td>-294.112332</td>\n",
       "      <td>-491.319184</td>\n",
       "      <td>288.573206</td>\n",
       "      <td>7</td>\n",
       "    </tr>\n",
       "    <tr>\n",
       "      <th>3</th>\n",
       "      <td>0.374481</td>\n",
       "      <td>0.036845</td>\n",
       "      <td>0.006705</td>\n",
       "      <td>0.005329</td>\n",
       "      <td>0.1</td>\n",
       "      <td>10</td>\n",
       "      <td>{'RG__ccp_alpha': 0.1, 'RG__n_estimators': 10}</td>\n",
       "      <td>-150.046103</td>\n",
       "      <td>-361.508226</td>\n",
       "      <td>-655.972464</td>\n",
       "      <td>-1030.995468</td>\n",
       "      <td>-1140.117945</td>\n",
       "      <td>-165.132248</td>\n",
       "      <td>-541.823111</td>\n",
       "      <td>-462.824243</td>\n",
       "      <td>-568.424150</td>\n",
       "      <td>-274.817147</td>\n",
       "      <td>-535.166111</td>\n",
       "      <td>318.743240</td>\n",
       "      <td>8</td>\n",
       "    </tr>\n",
       "    <tr>\n",
       "      <th>0</th>\n",
       "      <td>0.311906</td>\n",
       "      <td>0.029612</td>\n",
       "      <td>0.003959</td>\n",
       "      <td>0.005770</td>\n",
       "      <td>0.005</td>\n",
       "      <td>10</td>\n",
       "      <td>{'RG__ccp_alpha': 0.005, 'RG__n_estimators': 10}</td>\n",
       "      <td>-185.220360</td>\n",
       "      <td>-299.113610</td>\n",
       "      <td>-997.879129</td>\n",
       "      <td>-612.895031</td>\n",
       "      <td>-1108.599431</td>\n",
       "      <td>-209.560187</td>\n",
       "      <td>-639.207446</td>\n",
       "      <td>-378.995416</td>\n",
       "      <td>-656.767655</td>\n",
       "      <td>-288.789529</td>\n",
       "      <td>-537.702779</td>\n",
       "      <td>307.215042</td>\n",
       "      <td>9</td>\n",
       "    </tr>\n",
       "    <tr>\n",
       "      <th>11</th>\n",
       "      <td>38.131899</td>\n",
       "      <td>3.100870</td>\n",
       "      <td>0.215491</td>\n",
       "      <td>0.123225</td>\n",
       "      <td>10</td>\n",
       "      <td>1000</td>\n",
       "      <td>{'RG__ccp_alpha': 10, 'RG__n_estimators': 1000}</td>\n",
       "      <td>-175.337125</td>\n",
       "      <td>-309.577896</td>\n",
       "      <td>-856.807402</td>\n",
       "      <td>-720.958020</td>\n",
       "      <td>-1247.239125</td>\n",
       "      <td>-184.424149</td>\n",
       "      <td>-477.696743</td>\n",
       "      <td>-446.419006</td>\n",
       "      <td>-650.317747</td>\n",
       "      <td>-309.614636</td>\n",
       "      <td>-537.839185</td>\n",
       "      <td>319.944884</td>\n",
       "      <td>10</td>\n",
       "    </tr>\n",
       "    <tr>\n",
       "      <th>10</th>\n",
       "      <td>3.623913</td>\n",
       "      <td>0.538448</td>\n",
       "      <td>0.014661</td>\n",
       "      <td>0.001097</td>\n",
       "      <td>10</td>\n",
       "      <td>100</td>\n",
       "      <td>{'RG__ccp_alpha': 10, 'RG__n_estimators': 100}</td>\n",
       "      <td>-183.107022</td>\n",
       "      <td>-281.194361</td>\n",
       "      <td>-869.188695</td>\n",
       "      <td>-765.461920</td>\n",
       "      <td>-1225.158053</td>\n",
       "      <td>-180.770938</td>\n",
       "      <td>-475.416880</td>\n",
       "      <td>-456.209567</td>\n",
       "      <td>-631.924301</td>\n",
       "      <td>-321.114252</td>\n",
       "      <td>-538.954599</td>\n",
       "      <td>319.308666</td>\n",
       "      <td>11</td>\n",
       "    </tr>\n",
       "    <tr>\n",
       "      <th>9</th>\n",
       "      <td>0.336301</td>\n",
       "      <td>0.054151</td>\n",
       "      <td>0.005286</td>\n",
       "      <td>0.001414</td>\n",
       "      <td>10</td>\n",
       "      <td>10</td>\n",
       "      <td>{'RG__ccp_alpha': 10, 'RG__n_estimators': 10}</td>\n",
       "      <td>-276.226564</td>\n",
       "      <td>-424.427609</td>\n",
       "      <td>-650.877048</td>\n",
       "      <td>-839.053537</td>\n",
       "      <td>-1126.212335</td>\n",
       "      <td>-174.789256</td>\n",
       "      <td>-524.272033</td>\n",
       "      <td>-461.270043</td>\n",
       "      <td>-625.968430</td>\n",
       "      <td>-399.840745</td>\n",
       "      <td>-550.293760</td>\n",
       "      <td>263.458778</td>\n",
       "      <td>12</td>\n",
       "    </tr>\n",
       "  </tbody>\n",
       "</table>\n",
       "</div>"
      ],
      "text/plain": [
       "    mean_fit_time  std_fit_time  mean_score_time  std_score_time  \\\n",
       "6        0.345147      0.019879         0.004987        0.001892   \n",
       "1        2.887646      0.239003         0.019755        0.010749   \n",
       "7        3.490129      0.288831         0.017415        0.006787   \n",
       "2       31.096262      1.200755         0.166288        0.021820   \n",
       "8       37.476693      0.895905         0.158513        0.032041   \n",
       "5       34.928935      1.808302         0.144913        0.007234   \n",
       "4        3.308571      0.252285         0.018517        0.002929   \n",
       "3        0.374481      0.036845         0.006705        0.005329   \n",
       "0        0.311906      0.029612         0.003959        0.005770   \n",
       "11      38.131899      3.100870         0.215491        0.123225   \n",
       "10       3.623913      0.538448         0.014661        0.001097   \n",
       "9        0.336301      0.054151         0.005286        0.001414   \n",
       "\n",
       "   param_RG__ccp_alpha param_RG__n_estimators  \\\n",
       "6                  0.5                     10   \n",
       "1                0.005                    100   \n",
       "7                  0.5                    100   \n",
       "2                0.005                   1000   \n",
       "8                  0.5                   1000   \n",
       "5                  0.1                   1000   \n",
       "4                  0.1                    100   \n",
       "3                  0.1                     10   \n",
       "0                0.005                     10   \n",
       "11                  10                   1000   \n",
       "10                  10                    100   \n",
       "9                   10                     10   \n",
       "\n",
       "                                               params  split0_test_score  \\\n",
       "6      {'RG__ccp_alpha': 0.5, 'RG__n_estimators': 10}        -203.918089   \n",
       "1   {'RG__ccp_alpha': 0.005, 'RG__n_estimators': 100}        -153.042458   \n",
       "7     {'RG__ccp_alpha': 0.5, 'RG__n_estimators': 100}        -150.121395   \n",
       "2   {'RG__ccp_alpha': 0.005, 'RG__n_estimators': 1...        -153.538585   \n",
       "8    {'RG__ccp_alpha': 0.5, 'RG__n_estimators': 1000}        -152.315807   \n",
       "5    {'RG__ccp_alpha': 0.1, 'RG__n_estimators': 1000}        -152.740973   \n",
       "4     {'RG__ccp_alpha': 0.1, 'RG__n_estimators': 100}        -157.300229   \n",
       "3      {'RG__ccp_alpha': 0.1, 'RG__n_estimators': 10}        -150.046103   \n",
       "0    {'RG__ccp_alpha': 0.005, 'RG__n_estimators': 10}        -185.220360   \n",
       "11    {'RG__ccp_alpha': 10, 'RG__n_estimators': 1000}        -175.337125   \n",
       "10     {'RG__ccp_alpha': 10, 'RG__n_estimators': 100}        -183.107022   \n",
       "9       {'RG__ccp_alpha': 10, 'RG__n_estimators': 10}        -276.226564   \n",
       "\n",
       "    split1_test_score  split2_test_score  split3_test_score  \\\n",
       "6         -317.875823        -548.723978        -756.651453   \n",
       "1         -238.550205        -662.629841        -594.538673   \n",
       "7         -270.296605        -744.154584        -666.085484   \n",
       "2         -255.799501        -811.543979        -649.759170   \n",
       "8         -273.072853        -758.214664        -657.443427   \n",
       "5         -267.186902        -832.199793        -649.504205   \n",
       "4         -283.812202        -777.403976        -703.662805   \n",
       "3         -361.508226        -655.972464       -1030.995468   \n",
       "0         -299.113610        -997.879129        -612.895031   \n",
       "11        -309.577896        -856.807402        -720.958020   \n",
       "10        -281.194361        -869.188695        -765.461920   \n",
       "9         -424.427609        -650.877048        -839.053537   \n",
       "\n",
       "    split4_test_score  split5_test_score  split6_test_score  \\\n",
       "6         -937.355142        -150.402215        -436.742743   \n",
       "1        -1180.011760        -163.684792        -449.115959   \n",
       "7        -1175.528836        -143.139035        -389.310728   \n",
       "2        -1151.647335        -150.781212        -372.109071   \n",
       "8        -1177.178907        -153.337686        -382.218073   \n",
       "5        -1171.271933        -144.172765        -385.124281   \n",
       "4        -1115.751717        -174.435359        -393.457598   \n",
       "3        -1140.117945        -165.132248        -541.823111   \n",
       "0        -1108.599431        -209.560187        -639.207446   \n",
       "11       -1247.239125        -184.424149        -477.696743   \n",
       "10       -1225.158053        -180.770938        -475.416880   \n",
       "9        -1126.212335        -174.789256        -524.272033   \n",
       "\n",
       "    split7_test_score  split8_test_score  split9_test_score  mean_test_score  \\\n",
       "6         -451.332074        -564.465163        -276.848659      -464.431534   \n",
       "1         -389.704883        -564.484160        -269.335099      -466.509783   \n",
       "7         -420.838537        -556.904027        -276.565034      -479.294426   \n",
       "2         -404.934125        -580.397349        -267.822024      -479.833235   \n",
       "8         -410.529033        -581.796063        -277.200685      -482.330720   \n",
       "5         -408.073133        -571.164138        -272.590746      -485.402887   \n",
       "4         -429.441878        -583.813741        -294.112332      -491.319184   \n",
       "3         -462.824243        -568.424150        -274.817147      -535.166111   \n",
       "0         -378.995416        -656.767655        -288.789529      -537.702779   \n",
       "11        -446.419006        -650.317747        -309.614636      -537.839185   \n",
       "10        -456.209567        -631.924301        -321.114252      -538.954599   \n",
       "9         -461.270043        -625.968430        -399.840745      -550.293760   \n",
       "\n",
       "    std_test_score  rank_test_score  \n",
       "6       234.573444                1  \n",
       "1       293.351023                2  \n",
       "7       302.234378                3  \n",
       "2       304.540940                4  \n",
       "8       302.931550                5  \n",
       "5       310.002183                6  \n",
       "4       288.573206                7  \n",
       "3       318.743240                8  \n",
       "0       307.215042                9  \n",
       "11      319.944884               10  \n",
       "10      319.308666               11  \n",
       "9       263.458778               12  "
      ]
     },
     "execution_count": 11,
     "metadata": {},
     "output_type": "execute_result"
    }
   ],
   "source": [
    "df = pd.DataFrame(search.cv_results_)\n",
    "df = df.sort_values(by=['rank_test_score'])\n",
    "df"
   ]
  },
  {
   "cell_type": "markdown",
   "metadata": {},
   "source": [
    "# 4. Best Hyperparameter"
   ]
  },
  {
   "cell_type": "code",
   "execution_count": 12,
   "metadata": {},
   "outputs": [
    {
     "name": "stdout",
     "output_type": "stream",
     "text": [
      "{'RG__ccp_alpha': 0.5, 'RG__n_estimators': 10}\n"
     ]
    }
   ],
   "source": [
    "parms = pd.DataFrame(df['params'])\n",
    "for i in parms.iloc[0]:\n",
    "    print(i)"
   ]
  },
  {
   "cell_type": "markdown",
   "metadata": {},
   "source": [
    "# 5. Evaluate Model $log(Sales)$"
   ]
  },
  {
   "cell_type": "code",
   "execution_count": 13,
   "metadata": {},
   "outputs": [],
   "source": [
    "best_ccp_alpha = parms.iloc[0][0]['RG__ccp_alpha']\n",
    "best_n_est = parms.iloc[0][0]['RG__n_estimators']"
   ]
  },
  {
   "cell_type": "code",
   "execution_count": null,
   "metadata": {},
   "outputs": [],
   "source": []
  },
  {
   "cell_type": "code",
   "execution_count": 14,
   "metadata": {},
   "outputs": [],
   "source": [
    "Model_2 = RandomForestRegressor(ccp_alpha=best_ccp_alpha,n_estimators=best_n_est)"
   ]
  },
  {
   "cell_type": "code",
   "execution_count": 15,
   "metadata": {},
   "outputs": [],
   "source": [
    "X_train1,X_test1,Y_train1,Y_test1 = train_test_split(X_train,Y_train,test_size=0.2,random_state=132)\n"
   ]
  },
  {
   "cell_type": "code",
   "execution_count": 16,
   "metadata": {},
   "outputs": [
    {
     "data": {
      "text/plain": [
       "RandomForestRegressor(ccp_alpha=0.5, n_estimators=10)"
      ]
     },
     "execution_count": 16,
     "metadata": {},
     "output_type": "execute_result"
    }
   ],
   "source": [
    "\n",
    "RG1 = Model_2\n",
    "RG1.fit(X_train1,Y_train1.values.ravel())"
   ]
  },
  {
   "cell_type": "code",
   "execution_count": null,
   "metadata": {},
   "outputs": [],
   "source": []
  },
  {
   "cell_type": "code",
   "execution_count": 17,
   "metadata": {},
   "outputs": [
    {
     "data": {
      "text/plain": [
       "330.43882306574926"
      ]
     },
     "execution_count": 17,
     "metadata": {},
     "output_type": "execute_result"
    }
   ],
   "source": [
    "MSE(RG1.predict(X_test1),Y_test1)"
   ]
  },
  {
   "cell_type": "code",
   "execution_count": 18,
   "metadata": {},
   "outputs": [],
   "source": [
    "result = pd.DataFrame(Y_test1)"
   ]
  },
  {
   "cell_type": "code",
   "execution_count": 19,
   "metadata": {},
   "outputs": [],
   "source": [
    "result[\"Predicted_sales\"] = RG1.predict(X_test1)"
   ]
  },
  {
   "cell_type": "code",
   "execution_count": 20,
   "metadata": {},
   "outputs": [
    {
     "data": {
      "text/plain": [
       "330.43882306574926"
      ]
     },
     "execution_count": 20,
     "metadata": {},
     "output_type": "execute_result"
    }
   ],
   "source": [
    "MSE(result[\"sales\"],result[\"Predicted_sales\"])"
   ]
  },
  {
   "cell_type": "markdown",
   "metadata": {},
   "source": [
    "# 6. Inventory Decision"
   ]
  },
  {
   "cell_type": "code",
   "execution_count": 21,
   "metadata": {},
   "outputs": [],
   "source": [
    "residual = result['sales']-result['Predicted_sales']"
   ]
  },
  {
   "cell_type": "code",
   "execution_count": 22,
   "metadata": {},
   "outputs": [
    {
     "data": {
      "text/plain": [
       "(4, 8)"
      ]
     },
     "execution_count": 22,
     "metadata": {},
     "output_type": "execute_result"
    }
   ],
   "source": [
    "Price=20\n",
    "Cost=12\n",
    "Salvage=8\n",
    "Over=Cost - Salvage\n",
    "Under=Price - Cost\n",
    "Over, Under"
   ]
  },
  {
   "cell_type": "markdown",
   "metadata": {},
   "source": [
    "### QQ plot to explore the distribution of residual"
   ]
  },
  {
   "cell_type": "markdown",
   "metadata": {},
   "source": [
    "#### Normal Distribution"
   ]
  },
  {
   "cell_type": "code",
   "execution_count": 23,
   "metadata": {},
   "outputs": [],
   "source": [
    "import scipy.stats as sct"
   ]
  },
  {
   "cell_type": "code",
   "execution_count": 24,
   "metadata": {},
   "outputs": [
    {
     "data": {
      "image/png": "[encoded data removed]",
      "text/plain": [
       "<Figure size 432x288 with 1 Axes>"
      ]
     },
     "metadata": {
      "needs_background": "light"
     },
     "output_type": "display_data"
    }
   ],
   "source": [
    "import scipy\n",
    "scipy.stats.probplot(residual, dist=\"norm\", plot=plt)\n",
    "plt.show()"
   ]
  },
  {
   "cell_type": "code",
   "execution_count": 25,
   "metadata": {},
   "outputs": [],
   "source": [
    "s = residual.std()\n",
    "opt_dec_N=round(sct.norm.ppf(Under/(Under+Over))*s + result['Predicted_sales'])"
   ]
  },
  {
   "cell_type": "markdown",
   "metadata": {},
   "source": [
    "#### Exponential Distribution"
   ]
  },
  {
   "cell_type": "code",
   "execution_count": 26,
   "metadata": {},
   "outputs": [
    {
     "data": {
      "image/png": "[encoded data removed]",
      "text/plain": [
       "<Figure size 432x288 with 1 Axes>"
      ]
     },
     "metadata": {
      "needs_background": "light"
     },
     "output_type": "display_data"
    }
   ],
   "source": [
    "scipy.stats.probplot(residual, dist=\"expon\", plot=plt)\n",
    "plt.show()"
   ]
  },
  {
   "cell_type": "code",
   "execution_count": 27,
   "metadata": {},
   "outputs": [],
   "source": [
    "opt_dec_E=round((-result['Predicted_sales'])*np.log(1-(Under/(Under+Over))))"
   ]
  },
  {
   "cell_type": "markdown",
   "metadata": {},
   "source": [
    "#### Empirical Distribution"
   ]
  },
  {
   "cell_type": "code",
   "execution_count": 28,
   "metadata": {},
   "outputs": [
    {
     "data": {
      "text/plain": [
       "[<matplotlib.lines.Line2D at 0x16b3e49ed30>]"
      ]
     },
     "execution_count": 28,
     "metadata": {},
     "output_type": "execute_result"
    },
    {
     "data": {
      "image/png": "[encoded data removed]",
      "text/plain": [
       "<Figure size 432x288 with 1 Axes>"
      ]
     },
     "metadata": {
      "needs_background": "light"
     },
     "output_type": "display_data"
    }
   ],
   "source": [
    "size = residual.shape[0]\n",
    "step=1/size\n",
    "jumps = [step*i for i in range(1,size+1)]\n",
    "Sample = sorted(residual)\n",
    "plt.plot(Sample,jumps)"
   ]
  },
  {
   "cell_type": "code",
   "execution_count": 29,
   "metadata": {},
   "outputs": [
    {
     "data": {
      "image/png": "[encoded data removed]",
      "text/plain": [
       "<Figure size 432x288 with 1 Axes>"
      ]
     },
     "metadata": {
      "needs_background": "light"
     },
     "output_type": "display_data"
    }
   ],
   "source": [
    "plt.hist(Sample)\n",
    "plt.show()"
   ]
  },
  {
   "cell_type": "code",
   "execution_count": 30,
   "metadata": {},
   "outputs": [],
   "source": [
    "def inv(sample,jump,area):\n",
    "    size = len(sample)\n",
    "    i=0\n",
    "    temp=jump[i]\n",
    "    while temp<area:\n",
    "        i+=1\n",
    "        temp=jump[i]\n",
    "        \n",
    "    return sample[i]"
   ]
  },
  {
   "cell_type": "code",
   "execution_count": 31,
   "metadata": {},
   "outputs": [
    {
     "data": {
      "text/plain": [
       "1.0372871180854712"
      ]
     },
     "execution_count": 31,
     "metadata": {},
     "output_type": "execute_result"
    }
   ],
   "source": [
    "offset = inv(Sample,jumps,2/3)\n",
    "offset"
   ]
  },
  {
   "cell_type": "code",
   "execution_count": 32,
   "metadata": {},
   "outputs": [],
   "source": [
    "opt_dec_B = round(result['Predicted_sales']+offset)"
   ]
  },
  {
   "cell_type": "markdown",
   "metadata": {},
   "source": [
    "# 7. Out-of-samples Profit"
   ]
  },
  {
   "cell_type": "code",
   "execution_count": 33,
   "metadata": {},
   "outputs": [
    {
     "data": {
      "text/plain": [
       "82096"
      ]
     },
     "execution_count": 33,
     "metadata": {},
     "output_type": "execute_result"
    }
   ],
   "source": [
    "#max profit for test data set\n",
    "max_profit = result['sales'].sum()*(Price-Cost)\n",
    "max_profit"
   ]
  },
  {
   "cell_type": "code",
   "execution_count": 34,
   "metadata": {},
   "outputs": [],
   "source": [
    "def profit(demand,inv):\n",
    "    return (Price-Salvage)*np.minimum(demand,inv)-(Cost-Salvage)*inv"
   ]
  },
  {
   "cell_type": "code",
   "execution_count": 35,
   "metadata": {},
   "outputs": [
    {
     "data": {
      "text/plain": [
       "53804.0"
      ]
     },
     "execution_count": 35,
     "metadata": {},
     "output_type": "execute_result"
    }
   ],
   "source": [
    "#Profit (Normal)\n",
    "profit_lst_N = profit(result['sales'],opt_dec_N)\n",
    "profit_lst_N.sum()"
   ]
  },
  {
   "cell_type": "code",
   "execution_count": 36,
   "metadata": {},
   "outputs": [
    {
     "data": {
      "text/plain": [
       "58816.0"
      ]
     },
     "execution_count": 36,
     "metadata": {},
     "output_type": "execute_result"
    }
   ],
   "source": [
    "#Profit (Exponential)\n",
    "profit_lst_E = profit(result['sales'],opt_dec_E)\n",
    "profit_lst_E.sum()"
   ]
  },
  {
   "cell_type": "code",
   "execution_count": 37,
   "metadata": {},
   "outputs": [
    {
     "data": {
      "text/plain": [
       "58552.0"
      ]
     },
     "execution_count": 37,
     "metadata": {},
     "output_type": "execute_result"
    }
   ],
   "source": [
    "#Profit (Empirical)\n",
    "profit_lst_B = profit(result['sales'],opt_dec_B)\n",
    "profit_lst_B.sum()"
   ]
  },
  {
   "cell_type": "markdown",
   "metadata": {},
   "source": [
    "# 8. K-Fold Cross Validation"
   ]
  },
  {
   "cell_type": "markdown",
   "metadata": {},
   "source": [
    "### Repeat steps 5,6,7 with 10-fold cross validation"
   ]
  },
  {
   "cell_type": "code",
   "execution_count": 38,
   "metadata": {},
   "outputs": [],
   "source": [
    "Model_4= RandomForestRegressor(ccp_alpha=best_ccp_alpha,n_estimators=best_n_est)"
   ]
  },
  {
   "cell_type": "code",
   "execution_count": 39,
   "metadata": {},
   "outputs": [],
   "source": [
    "from sklearn.model_selection import KFold\n",
    "k=10\n",
    "kf = KFold(n_splits=k)\n",
    "X_train_t=X_train.to_numpy()\n",
    "Y_train_t=Y_train.to_numpy()\n",
    "model = []\n",
    "mse_lst = []\n",
    "max_profit_lst = []\n",
    "profit_N_lst = []\n",
    "profit_E_lst = []\n",
    "profit_B_lst = []\n",
    "\n",
    "for train_index,test_index in kf.split(X_train_t):\n",
    "    X_train_K,X_test_K=X_train_t[train_index],X_train_t[test_index]\n",
    "    Y_train_K,Y_test_K=Y_train_t[train_index],Y_train_t[test_index]\n",
    "    \n",
    "    #PCA to transform train data\n",
    "    \n",
    "    #Model\n",
    "    RG_K = Model_4\n",
    "    RG_K.fit(X_train_K,Y_train_K.ravel())\n",
    "    \n",
    "    #pca to transform test data\n",
    "    \n",
    "    #MSE\n",
    "    mse_lst.append(MSE(RG_K.predict(X_test_K),Y_test_K))\n",
    "    \n",
    "    #Transform log(sale) back to sale\n",
    "    result_K = pd.DataFrame(Y_test_K)\n",
    "    result_K[\"Predicted_sales\"] = RG_K.predict(X_test_K)\n",
    "    \n",
    "    #Obtain residual\n",
    "    residual_K = result_K[0]-result_K['Predicted_sales']\n",
    "    \n",
    "    #Get std for Normal distribution\n",
    "    s_K = residual.std()\n",
    "    \n",
    "    #Inventory Decision (Normal)\n",
    "    opt_dec_N_K=np.ceil(sct.norm.ppf(Under/(Under+Over))*s_K + result_K['Predicted_sales'])\n",
    "    #Inventory Decision (Exponential)\n",
    "    opt_dec_E_K=np.ceil((-result_K['Predicted_sales'])*np.log(1-(Under/(Under+Over))))\n",
    "    \n",
    "    #Inventory Decision (Empirical Distribution)\n",
    "    size_K = residual_K.shape[0]\n",
    "    step_K=1/size_K\n",
    "    jumps_K = [step_K*i for i in range(1,size+1)]\n",
    "    Sample_K = sorted(residual_K)\n",
    "    offset_K = inv(Sample_K,jumps_K,2/3)\n",
    "    opt_dec_B_K = np.ceil(result_K['Predicted_sales']+offset_K)\n",
    "    \n",
    "    #Out-of_sample profit\n",
    "    profit_lst_B_K = profit(result_K[0],opt_dec_B_K)\n",
    "    profit_B_lst.append(profit_lst_B_K.sum())\n",
    "    \n",
    "    profit_lst_N_K = profit(result_K[0],opt_dec_N_K)\n",
    "    profit_N_lst.append(profit_lst_N_K.sum())\n",
    "    \n",
    "    profit_lst_E_K = profit(result_K[0],opt_dec_E_K)\n",
    "    profit_E_lst.append(profit_lst_E_K.sum())\n",
    "    \n",
    "    max_profit_K = result_K[0].sum()*(Price-Cost)\n",
    "    max_profit_lst.append(max_profit_K)\n",
    "    \n",
    "max_profit_lst = np.array(max_profit_lst)\n",
    "profit_N_lst = np.array(profit_N_lst)\n",
    "profit_E_lst = np.array(profit_E_lst)\n",
    "profit_B_lst = np.array(profit_B_lst)\n",
    "\n",
    "fraction_of_max_N = profit_N_lst/max_profit_lst\n",
    "fraction_of_max_E = profit_E_lst/max_profit_lst\n",
    "fraction_of_max_B = profit_B_lst/max_profit_lst\n",
    "\n",
    "dist_profit = [\"Normal\",\"Exponential\",\"Empirical\",\"Max\"]\n",
    "dist_frac = [\"Normal\",\"Exponential\",\"Empirical\"]\n",
    "col_name = [\"Dataset_\"+str(i) for i in range(1,k+1)]\n",
    "\n",
    "profit_lst = [profit_N_lst,profit_E_lst,profit_B_lst,max_profit_lst]\n",
    "profit_table = pd.DataFrame(profit_lst,index=dist_profit,columns=col_name)\n",
    "profit_table[\"mean_profit\"]=profit_table.mean(axis=1)\n",
    "profit_table[\"std_profit\"]=profit_table.std(ddof=1,axis=1)\n",
    "\n",
    "fraction_lst = [fraction_of_max_N,fraction_of_max_E,fraction_of_max_B]\n",
    "fraction_table = pd.DataFrame(fraction_lst,index=dist_frac,columns=col_name)\n",
    "fraction_table[\"mean_fraction\"]=fraction_table.mean(axis=1)"
   ]
  },
  {
   "cell_type": "code",
   "execution_count": 40,
   "metadata": {},
   "outputs": [
    {
     "data": {
      "text/html": [
       "<div>\n",
       "<style scoped>\n",
       "    .dataframe tbody tr th:only-of-type {\n",
       "        vertical-align: middle;\n",
       "    }\n",
       "\n",
       "    .dataframe tbody tr th {\n",
       "        vertical-align: top;\n",
       "    }\n",
       "\n",
       "    .dataframe thead th {\n",
       "        text-align: right;\n",
       "    }\n",
       "</style>\n",
       "<table border=\"1\" class=\"dataframe\">\n",
       "  <thead>\n",
       "    <tr style=\"text-align: right;\">\n",
       "      <th></th>\n",
       "      <th>Dataset_1</th>\n",
       "      <th>Dataset_2</th>\n",
       "      <th>Dataset_3</th>\n",
       "      <th>Dataset_4</th>\n",
       "      <th>Dataset_5</th>\n",
       "      <th>Dataset_6</th>\n",
       "      <th>Dataset_7</th>\n",
       "      <th>Dataset_8</th>\n",
       "      <th>Dataset_9</th>\n",
       "      <th>Dataset_10</th>\n",
       "      <th>mean_fraction</th>\n",
       "    </tr>\n",
       "  </thead>\n",
       "  <tbody>\n",
       "    <tr>\n",
       "      <th>Normal</th>\n",
       "      <td>0.687899</td>\n",
       "      <td>0.685080</td>\n",
       "      <td>0.644721</td>\n",
       "      <td>0.671330</td>\n",
       "      <td>0.653908</td>\n",
       "      <td>0.674042</td>\n",
       "      <td>0.693514</td>\n",
       "      <td>0.657849</td>\n",
       "      <td>0.621958</td>\n",
       "      <td>0.635901</td>\n",
       "      <td>0.662620</td>\n",
       "    </tr>\n",
       "    <tr>\n",
       "      <th>Exponential</th>\n",
       "      <td>0.755944</td>\n",
       "      <td>0.725826</td>\n",
       "      <td>0.708398</td>\n",
       "      <td>0.731588</td>\n",
       "      <td>0.719903</td>\n",
       "      <td>0.749641</td>\n",
       "      <td>0.730355</td>\n",
       "      <td>0.694709</td>\n",
       "      <td>0.673407</td>\n",
       "      <td>0.711583</td>\n",
       "      <td>0.720136</td>\n",
       "    </tr>\n",
       "    <tr>\n",
       "      <th>Empirical</th>\n",
       "      <td>0.760487</td>\n",
       "      <td>0.717960</td>\n",
       "      <td>0.710817</td>\n",
       "      <td>0.723090</td>\n",
       "      <td>0.702095</td>\n",
       "      <td>0.742778</td>\n",
       "      <td>0.733295</td>\n",
       "      <td>0.696618</td>\n",
       "      <td>0.675376</td>\n",
       "      <td>0.712159</td>\n",
       "      <td>0.717468</td>\n",
       "    </tr>\n",
       "  </tbody>\n",
       "</table>\n",
       "</div>"
      ],
      "text/plain": [
       "             Dataset_1  Dataset_2  Dataset_3  Dataset_4  Dataset_5  Dataset_6  \\\n",
       "Normal        0.687899   0.685080   0.644721   0.671330   0.653908   0.674042   \n",
       "Exponential   0.755944   0.725826   0.708398   0.731588   0.719903   0.749641   \n",
       "Empirical     0.760487   0.717960   0.710817   0.723090   0.702095   0.742778   \n",
       "\n",
       "             Dataset_7  Dataset_8  Dataset_9  Dataset_10  mean_fraction  \n",
       "Normal        0.693514   0.657849   0.621958    0.635901       0.662620  \n",
       "Exponential   0.730355   0.694709   0.673407    0.711583       0.720136  \n",
       "Empirical     0.733295   0.696618   0.675376    0.712159       0.717468  "
      ]
     },
     "execution_count": 40,
     "metadata": {},
     "output_type": "execute_result"
    }
   ],
   "source": [
    "fraction_table"
   ]
  },
  {
   "cell_type": "code",
   "execution_count": 41,
   "metadata": {
    "scrolled": true
   },
   "outputs": [
    {
     "data": {
      "text/html": [
       "<div>\n",
       "<style scoped>\n",
       "    .dataframe tbody tr th:only-of-type {\n",
       "        vertical-align: middle;\n",
       "    }\n",
       "\n",
       "    .dataframe tbody tr th {\n",
       "        vertical-align: top;\n",
       "    }\n",
       "\n",
       "    .dataframe thead th {\n",
       "        text-align: right;\n",
       "    }\n",
       "</style>\n",
       "<table border=\"1\" class=\"dataframe\">\n",
       "  <thead>\n",
       "    <tr style=\"text-align: right;\">\n",
       "      <th></th>\n",
       "      <th>Dataset_1</th>\n",
       "      <th>Dataset_2</th>\n",
       "      <th>Dataset_3</th>\n",
       "      <th>Dataset_4</th>\n",
       "      <th>Dataset_5</th>\n",
       "      <th>Dataset_6</th>\n",
       "      <th>Dataset_7</th>\n",
       "      <th>Dataset_8</th>\n",
       "      <th>Dataset_9</th>\n",
       "      <th>Dataset_10</th>\n",
       "      <th>mean_profit</th>\n",
       "      <th>std_profit</th>\n",
       "    </tr>\n",
       "  </thead>\n",
       "  <tbody>\n",
       "    <tr>\n",
       "      <th>Normal</th>\n",
       "      <td>28468.0</td>\n",
       "      <td>31004.0</td>\n",
       "      <td>29848.0</td>\n",
       "      <td>31284.0</td>\n",
       "      <td>32460.0</td>\n",
       "      <td>26320.0</td>\n",
       "      <td>33960.0</td>\n",
       "      <td>30340.0</td>\n",
       "      <td>27804.0</td>\n",
       "      <td>26484.0</td>\n",
       "      <td>29797.2</td>\n",
       "      <td>2391.472216</td>\n",
       "    </tr>\n",
       "    <tr>\n",
       "      <th>Exponential</th>\n",
       "      <td>31284.0</td>\n",
       "      <td>32848.0</td>\n",
       "      <td>32796.0</td>\n",
       "      <td>34092.0</td>\n",
       "      <td>35736.0</td>\n",
       "      <td>29272.0</td>\n",
       "      <td>35764.0</td>\n",
       "      <td>32040.0</td>\n",
       "      <td>30104.0</td>\n",
       "      <td>29636.0</td>\n",
       "      <td>32357.2</td>\n",
       "      <td>2229.758050</td>\n",
       "    </tr>\n",
       "    <tr>\n",
       "      <th>Empirical</th>\n",
       "      <td>31472.0</td>\n",
       "      <td>32492.0</td>\n",
       "      <td>32908.0</td>\n",
       "      <td>33696.0</td>\n",
       "      <td>34852.0</td>\n",
       "      <td>29004.0</td>\n",
       "      <td>35908.0</td>\n",
       "      <td>32128.0</td>\n",
       "      <td>30192.0</td>\n",
       "      <td>29660.0</td>\n",
       "      <td>32231.2</td>\n",
       "      <td>2117.319664</td>\n",
       "    </tr>\n",
       "    <tr>\n",
       "      <th>Max</th>\n",
       "      <td>41384.0</td>\n",
       "      <td>45256.0</td>\n",
       "      <td>46296.0</td>\n",
       "      <td>46600.0</td>\n",
       "      <td>49640.0</td>\n",
       "      <td>39048.0</td>\n",
       "      <td>48968.0</td>\n",
       "      <td>46120.0</td>\n",
       "      <td>44704.0</td>\n",
       "      <td>41648.0</td>\n",
       "      <td>44966.4</td>\n",
       "      <td>3203.875254</td>\n",
       "    </tr>\n",
       "  </tbody>\n",
       "</table>\n",
       "</div>"
      ],
      "text/plain": [
       "             Dataset_1  Dataset_2  Dataset_3  Dataset_4  Dataset_5  Dataset_6  \\\n",
       "Normal         28468.0    31004.0    29848.0    31284.0    32460.0    26320.0   \n",
       "Exponential    31284.0    32848.0    32796.0    34092.0    35736.0    29272.0   \n",
       "Empirical      31472.0    32492.0    32908.0    33696.0    34852.0    29004.0   \n",
       "Max            41384.0    45256.0    46296.0    46600.0    49640.0    39048.0   \n",
       "\n",
       "             Dataset_7  Dataset_8  Dataset_9  Dataset_10  mean_profit  \\\n",
       "Normal         33960.0    30340.0    27804.0     26484.0      29797.2   \n",
       "Exponential    35764.0    32040.0    30104.0     29636.0      32357.2   \n",
       "Empirical      35908.0    32128.0    30192.0     29660.0      32231.2   \n",
       "Max            48968.0    46120.0    44704.0     41648.0      44966.4   \n",
       "\n",
       "              std_profit  \n",
       "Normal       2391.472216  \n",
       "Exponential  2229.758050  \n",
       "Empirical    2117.319664  \n",
       "Max          3203.875254  "
      ]
     },
     "execution_count": 41,
     "metadata": {},
     "output_type": "execute_result"
    }
   ],
   "source": [
    "profit_table"
   ]
  },
  {
   "cell_type": "code",
   "execution_count": 42,
   "metadata": {},
   "outputs": [],
   "source": [
    "profit_table.to_csv(\".\\\\Model_Selection_Result\\\\4.2B_Random_forest(No_PCA).csv\")"
   ]
  },
  {
   "cell_type": "code",
   "execution_count": 43,
   "metadata": {},
   "outputs": [
    {
     "data": {
      "text/plain": [
       "[<matplotlib.lines.Line2D at 0x16b3e5c7790>]"
      ]
     },
     "execution_count": 43,
     "metadata": {},
     "output_type": "execute_result"
    },
    {
     "data": {
      "image/png": "[encoded data removed]",
      "text/plain": [
       "<Figure size 432x288 with 1 Axes>"
      ]
     },
     "metadata": {
      "needs_background": "light"
     },
     "output_type": "display_data"
    }
   ],
   "source": [
    "plt.xlabel(\"sales\")\n",
    "plt.ylabel(\"Residual\")\n",
    "plt.plot(result['sales'],residual,\".\")"
   ]
  },
  {
   "cell_type": "code",
   "execution_count": null,
   "metadata": {},
   "outputs": [],
   "source": []
  }
 ],
 "metadata": {
  "kernelspec": {
   "display_name": "Python 3",
   "language": "python",
   "name": "python3"
  },
  "language_info": {
   "codemirror_mode": {
    "name": "ipython",
    "version": 3
   },
   "file_extension": ".py",
   "mimetype": "text/x-python",
   "name": "python",
   "nbconvert_exporter": "python",
   "pygments_lexer": "ipython3",
   "version": "3.8.5"
  }
 },
 "nbformat": 4,
 "nbformat_minor": 4
}
