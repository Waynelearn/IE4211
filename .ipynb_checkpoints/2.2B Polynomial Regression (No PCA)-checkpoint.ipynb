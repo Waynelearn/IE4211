{
 "cells": [
  {
   "cell_type": "code",
   "execution_count": 1,
   "metadata": {},
   "outputs": [],
   "source": [
    "import pandas as pd\n",
    "import numpy as np\n",
    "import matplotlib.pyplot as plt\n",
    "from sklearn.pipeline import Pipeline\n",
    "from sklearn.model_selection import GridSearchCV\n",
    "from sklearn.decomposition import PCA\n",
    "from sklearn.metrics import mean_squared_error as MSE\n",
    "from sklearn.linear_model import LinearRegression\n",
    "from sklearn.preprocessing import PolynomialFeatures\n",
    "from sklearn.model_selection import train_test_split\n",
    "from sklearn.linear_model import Lasso"
   ]
  },
  {
   "cell_type": "markdown",
   "metadata": {},
   "source": [
    "# 1. Import the train datasets"
   ]
  },
  {
   "cell_type": "code",
   "execution_count": 2,
   "metadata": {},
   "outputs": [],
   "source": [
    "X_train = pd.read_csv(\"A_Normalised_train_data.csv\",index_col=0)\n",
    "Y_train = pd.read_csv(\"A_Log_sales_train.csv\",index_col=0)"
   ]
  },
  {
   "cell_type": "code",
   "execution_count": 3,
   "metadata": {},
   "outputs": [],
   "source": [
    "Model_1 = LinearRegression()"
   ]
  },
  {
   "cell_type": "markdown",
   "metadata": {},
   "source": [
    "# 2. Setup Pipeline"
   ]
  },
  {
   "cell_type": "code",
   "execution_count": 4,
   "metadata": {},
   "outputs": [],
   "source": [
    "poly = PolynomialFeatures()\n",
    "pca=PCA()\n",
    "SLR = Model_1"
   ]
  },
  {
   "cell_type": "code",
   "execution_count": 5,
   "metadata": {},
   "outputs": [],
   "source": [
    "# Step 1: Polynomial transform\n",
    "# Step 2: PCA\n",
    "# Step 3: Model\n",
    "pipe = Pipeline(steps=[(\"poly\",poly),(\"pca\",pca),(\"SLR\",SLR)])"
   ]
  },
  {
   "cell_type": "code",
   "execution_count": 6,
   "metadata": {},
   "outputs": [],
   "source": [
    "param_grid = {\n",
    "    \"pca__n_components\": [45, 100 ,150 ,170],\n",
    "    \"poly__degree\":[1,2]\n",
    "}"
   ]
  },
  {
   "cell_type": "markdown",
   "metadata": {},
   "source": [
    "# 3. Setup GridSearch"
   ]
  },
  {
   "cell_type": "code",
   "execution_count": 7,
   "metadata": {},
   "outputs": [],
   "source": [
    "score_metric = 'neg_mean_squared_error'\n",
    "search = GridSearchCV(pipe,param_grid,\n",
    "                      n_jobs=-1,\n",
    "                      cv=10,\n",
    "                      scoring=score_metric)"
   ]
  },
  {
   "cell_type": "code",
   "execution_count": 8,
   "metadata": {},
   "outputs": [
    {
     "data": {
      "text/plain": [
       "GridSearchCV(cv=10,\n",
       "             estimator=Pipeline(steps=[('poly', PolynomialFeatures()),\n",
       "                                       ('pca', PCA()),\n",
       "                                       ('SLR', LinearRegression())]),\n",
       "             n_jobs=-1,\n",
       "             param_grid={'pca__n_components': [45, 100, 150, 170],\n",
       "                         'poly__degree': [1, 2]},\n",
       "             scoring='neg_mean_squared_error')"
      ]
     },
     "execution_count": 8,
     "metadata": {},
     "output_type": "execute_result"
    }
   ],
   "source": [
    "search.fit(X_train,Y_train)"
   ]
  },
  {
   "cell_type": "code",
   "execution_count": 9,
   "metadata": {},
   "outputs": [
    {
     "name": "stdout",
     "output_type": "stream",
     "text": [
      "Best parameter (CV score=-0.790):\n",
      "{'pca__n_components': 100, 'poly__degree': 1}\n"
     ]
    }
   ],
   "source": [
    "print(\"Best parameter (CV score=%0.3f):\" % search.best_score_)\n",
    "print(search.best_params_)"
   ]
  },
  {
   "cell_type": "code",
   "execution_count": 10,
   "metadata": {},
   "outputs": [
    {
     "data": {
      "text/html": [
       "<div>\n",
       "<style scoped>\n",
       "    .dataframe tbody tr th:only-of-type {\n",
       "        vertical-align: middle;\n",
       "    }\n",
       "\n",
       "    .dataframe tbody tr th {\n",
       "        vertical-align: top;\n",
       "    }\n",
       "\n",
       "    .dataframe thead th {\n",
       "        text-align: right;\n",
       "    }\n",
       "</style>\n",
       "<table border=\"1\" class=\"dataframe\">\n",
       "  <thead>\n",
       "    <tr style=\"text-align: right;\">\n",
       "      <th></th>\n",
       "      <th>mean_fit_time</th>\n",
       "      <th>std_fit_time</th>\n",
       "      <th>mean_score_time</th>\n",
       "      <th>std_score_time</th>\n",
       "      <th>param_pca__n_components</th>\n",
       "      <th>param_poly__degree</th>\n",
       "      <th>params</th>\n",
       "      <th>split0_test_score</th>\n",
       "      <th>split1_test_score</th>\n",
       "      <th>split2_test_score</th>\n",
       "      <th>split3_test_score</th>\n",
       "      <th>split4_test_score</th>\n",
       "      <th>split5_test_score</th>\n",
       "      <th>split6_test_score</th>\n",
       "      <th>split7_test_score</th>\n",
       "      <th>split8_test_score</th>\n",
       "      <th>split9_test_score</th>\n",
       "      <th>mean_test_score</th>\n",
       "      <th>std_test_score</th>\n",
       "      <th>rank_test_score</th>\n",
       "    </tr>\n",
       "  </thead>\n",
       "  <tbody>\n",
       "    <tr>\n",
       "      <th>2</th>\n",
       "      <td>0.213728</td>\n",
       "      <td>0.045096</td>\n",
       "      <td>0.008154</td>\n",
       "      <td>0.007049</td>\n",
       "      <td>100</td>\n",
       "      <td>1</td>\n",
       "      <td>{'pca__n_components': 100, 'poly__degree': 1}</td>\n",
       "      <td>-0.744067</td>\n",
       "      <td>-0.735256</td>\n",
       "      <td>-9.093440e-01</td>\n",
       "      <td>-0.822809</td>\n",
       "      <td>-9.260865e-01</td>\n",
       "      <td>-7.057071e-01</td>\n",
       "      <td>-0.674851</td>\n",
       "      <td>-7.663712e-01</td>\n",
       "      <td>-0.811880</td>\n",
       "      <td>-8.013942e-01</td>\n",
       "      <td>-7.897766e-01</td>\n",
       "      <td>7.776686e-02</td>\n",
       "      <td>1</td>\n",
       "    </tr>\n",
       "    <tr>\n",
       "      <th>0</th>\n",
       "      <td>0.109721</td>\n",
       "      <td>0.016807</td>\n",
       "      <td>0.010170</td>\n",
       "      <td>0.007024</td>\n",
       "      <td>45</td>\n",
       "      <td>1</td>\n",
       "      <td>{'pca__n_components': 45, 'poly__degree': 1}</td>\n",
       "      <td>-0.781602</td>\n",
       "      <td>-0.774553</td>\n",
       "      <td>-9.785333e-01</td>\n",
       "      <td>-0.837723</td>\n",
       "      <td>-1.022301e+00</td>\n",
       "      <td>-6.838445e-01</td>\n",
       "      <td>-0.717325</td>\n",
       "      <td>-8.666531e-01</td>\n",
       "      <td>-0.844164</td>\n",
       "      <td>-9.838529e-01</td>\n",
       "      <td>-8.490552e-01</td>\n",
       "      <td>1.096172e-01</td>\n",
       "      <td>2</td>\n",
       "    </tr>\n",
       "    <tr>\n",
       "      <th>7</th>\n",
       "      <td>13.330220</td>\n",
       "      <td>2.263064</td>\n",
       "      <td>0.131253</td>\n",
       "      <td>0.048509</td>\n",
       "      <td>170</td>\n",
       "      <td>2</td>\n",
       "      <td>{'pca__n_components': 170, 'poly__degree': 2}</td>\n",
       "      <td>-0.676217</td>\n",
       "      <td>-0.658530</td>\n",
       "      <td>-2.275541e+00</td>\n",
       "      <td>-0.747069</td>\n",
       "      <td>-9.197885e-01</td>\n",
       "      <td>-6.985074e-01</td>\n",
       "      <td>-0.631887</td>\n",
       "      <td>-6.834858e-01</td>\n",
       "      <td>-0.856160</td>\n",
       "      <td>-7.963276e-01</td>\n",
       "      <td>-8.943514e-01</td>\n",
       "      <td>4.686142e-01</td>\n",
       "      <td>3</td>\n",
       "    </tr>\n",
       "    <tr>\n",
       "      <th>5</th>\n",
       "      <td>14.005080</td>\n",
       "      <td>0.610762</td>\n",
       "      <td>0.220587</td>\n",
       "      <td>0.020266</td>\n",
       "      <td>150</td>\n",
       "      <td>2</td>\n",
       "      <td>{'pca__n_components': 150, 'poly__degree': 2}</td>\n",
       "      <td>-0.715163</td>\n",
       "      <td>-0.702420</td>\n",
       "      <td>-2.037452e+00</td>\n",
       "      <td>-0.792788</td>\n",
       "      <td>-9.549297e-01</td>\n",
       "      <td>-7.462227e-01</td>\n",
       "      <td>-0.662295</td>\n",
       "      <td>-7.040480e-01</td>\n",
       "      <td>-0.845197</td>\n",
       "      <td>-8.408445e-01</td>\n",
       "      <td>-9.001360e-01</td>\n",
       "      <td>3.881447e-01</td>\n",
       "      <td>4</td>\n",
       "    </tr>\n",
       "    <tr>\n",
       "      <th>3</th>\n",
       "      <td>10.545389</td>\n",
       "      <td>0.471139</td>\n",
       "      <td>0.171833</td>\n",
       "      <td>0.026374</td>\n",
       "      <td>100</td>\n",
       "      <td>2</td>\n",
       "      <td>{'pca__n_components': 100, 'poly__degree': 2}</td>\n",
       "      <td>-0.901682</td>\n",
       "      <td>-0.874440</td>\n",
       "      <td>-1.014180e+00</td>\n",
       "      <td>-1.000140</td>\n",
       "      <td>-1.163202e+00</td>\n",
       "      <td>-8.726224e-01</td>\n",
       "      <td>-0.835499</td>\n",
       "      <td>-9.040206e-01</td>\n",
       "      <td>-1.001541</td>\n",
       "      <td>-1.026415e+00</td>\n",
       "      <td>-9.593742e-01</td>\n",
       "      <td>9.431910e-02</td>\n",
       "      <td>5</td>\n",
       "    </tr>\n",
       "    <tr>\n",
       "      <th>1</th>\n",
       "      <td>8.109320</td>\n",
       "      <td>0.145431</td>\n",
       "      <td>0.143906</td>\n",
       "      <td>0.027321</td>\n",
       "      <td>45</td>\n",
       "      <td>2</td>\n",
       "      <td>{'pca__n_components': 45, 'poly__degree': 2}</td>\n",
       "      <td>-1.255271</td>\n",
       "      <td>-1.250163</td>\n",
       "      <td>-1.250673e+00</td>\n",
       "      <td>-1.419536</td>\n",
       "      <td>-1.420146e+00</td>\n",
       "      <td>-1.012368e+00</td>\n",
       "      <td>-1.235013</td>\n",
       "      <td>-1.215576e+00</td>\n",
       "      <td>-1.245629</td>\n",
       "      <td>-1.327718e+00</td>\n",
       "      <td>-1.263209e+00</td>\n",
       "      <td>1.095050e-01</td>\n",
       "      <td>6</td>\n",
       "    </tr>\n",
       "    <tr>\n",
       "      <th>4</th>\n",
       "      <td>0.161563</td>\n",
       "      <td>0.032196</td>\n",
       "      <td>0.010919</td>\n",
       "      <td>0.009390</td>\n",
       "      <td>150</td>\n",
       "      <td>1</td>\n",
       "      <td>{'pca__n_components': 150, 'poly__degree': 1}</td>\n",
       "      <td>-0.512133</td>\n",
       "      <td>-0.569253</td>\n",
       "      <td>-2.564365e+25</td>\n",
       "      <td>-0.633127</td>\n",
       "      <td>-7.563299e+24</td>\n",
       "      <td>-2.796497e+24</td>\n",
       "      <td>-0.581328</td>\n",
       "      <td>-1.890418e+25</td>\n",
       "      <td>-0.670868</td>\n",
       "      <td>-1.070161e+25</td>\n",
       "      <td>-6.560923e+24</td>\n",
       "      <td>8.741028e+24</td>\n",
       "      <td>7</td>\n",
       "    </tr>\n",
       "    <tr>\n",
       "      <th>6</th>\n",
       "      <td>0.158294</td>\n",
       "      <td>0.027537</td>\n",
       "      <td>0.016096</td>\n",
       "      <td>0.010285</td>\n",
       "      <td>170</td>\n",
       "      <td>1</td>\n",
       "      <td>{'pca__n_components': 170, 'poly__degree': 1}</td>\n",
       "      <td>-0.508346</td>\n",
       "      <td>-0.564813</td>\n",
       "      <td>-8.601736e+26</td>\n",
       "      <td>-0.611982</td>\n",
       "      <td>-4.182862e+25</td>\n",
       "      <td>-6.613890e+26</td>\n",
       "      <td>-0.593203</td>\n",
       "      <td>-1.502600e+26</td>\n",
       "      <td>-0.670370</td>\n",
       "      <td>-7.206934e+26</td>\n",
       "      <td>-2.434345e+26</td>\n",
       "      <td>3.359252e+26</td>\n",
       "      <td>8</td>\n",
       "    </tr>\n",
       "  </tbody>\n",
       "</table>\n",
       "</div>"
      ],
      "text/plain": [
       "   mean_fit_time  std_fit_time  mean_score_time  std_score_time  \\\n",
       "2       0.213728      0.045096         0.008154        0.007049   \n",
       "0       0.109721      0.016807         0.010170        0.007024   \n",
       "7      13.330220      2.263064         0.131253        0.048509   \n",
       "5      14.005080      0.610762         0.220587        0.020266   \n",
       "3      10.545389      0.471139         0.171833        0.026374   \n",
       "1       8.109320      0.145431         0.143906        0.027321   \n",
       "4       0.161563      0.032196         0.010919        0.009390   \n",
       "6       0.158294      0.027537         0.016096        0.010285   \n",
       "\n",
       "  param_pca__n_components param_poly__degree  \\\n",
       "2                     100                  1   \n",
       "0                      45                  1   \n",
       "7                     170                  2   \n",
       "5                     150                  2   \n",
       "3                     100                  2   \n",
       "1                      45                  2   \n",
       "4                     150                  1   \n",
       "6                     170                  1   \n",
       "\n",
       "                                          params  split0_test_score  \\\n",
       "2  {'pca__n_components': 100, 'poly__degree': 1}          -0.744067   \n",
       "0   {'pca__n_components': 45, 'poly__degree': 1}          -0.781602   \n",
       "7  {'pca__n_components': 170, 'poly__degree': 2}          -0.676217   \n",
       "5  {'pca__n_components': 150, 'poly__degree': 2}          -0.715163   \n",
       "3  {'pca__n_components': 100, 'poly__degree': 2}          -0.901682   \n",
       "1   {'pca__n_components': 45, 'poly__degree': 2}          -1.255271   \n",
       "4  {'pca__n_components': 150, 'poly__degree': 1}          -0.512133   \n",
       "6  {'pca__n_components': 170, 'poly__degree': 1}          -0.508346   \n",
       "\n",
       "   split1_test_score  split2_test_score  split3_test_score  split4_test_score  \\\n",
       "2          -0.735256      -9.093440e-01          -0.822809      -9.260865e-01   \n",
       "0          -0.774553      -9.785333e-01          -0.837723      -1.022301e+00   \n",
       "7          -0.658530      -2.275541e+00          -0.747069      -9.197885e-01   \n",
       "5          -0.702420      -2.037452e+00          -0.792788      -9.549297e-01   \n",
       "3          -0.874440      -1.014180e+00          -1.000140      -1.163202e+00   \n",
       "1          -1.250163      -1.250673e+00          -1.419536      -1.420146e+00   \n",
       "4          -0.569253      -2.564365e+25          -0.633127      -7.563299e+24   \n",
       "6          -0.564813      -8.601736e+26          -0.611982      -4.182862e+25   \n",
       "\n",
       "   split5_test_score  split6_test_score  split7_test_score  split8_test_score  \\\n",
       "2      -7.057071e-01          -0.674851      -7.663712e-01          -0.811880   \n",
       "0      -6.838445e-01          -0.717325      -8.666531e-01          -0.844164   \n",
       "7      -6.985074e-01          -0.631887      -6.834858e-01          -0.856160   \n",
       "5      -7.462227e-01          -0.662295      -7.040480e-01          -0.845197   \n",
       "3      -8.726224e-01          -0.835499      -9.040206e-01          -1.001541   \n",
       "1      -1.012368e+00          -1.235013      -1.215576e+00          -1.245629   \n",
       "4      -2.796497e+24          -0.581328      -1.890418e+25          -0.670868   \n",
       "6      -6.613890e+26          -0.593203      -1.502600e+26          -0.670370   \n",
       "\n",
       "   split9_test_score  mean_test_score  std_test_score  rank_test_score  \n",
       "2      -8.013942e-01    -7.897766e-01    7.776686e-02                1  \n",
       "0      -9.838529e-01    -8.490552e-01    1.096172e-01                2  \n",
       "7      -7.963276e-01    -8.943514e-01    4.686142e-01                3  \n",
       "5      -8.408445e-01    -9.001360e-01    3.881447e-01                4  \n",
       "3      -1.026415e+00    -9.593742e-01    9.431910e-02                5  \n",
       "1      -1.327718e+00    -1.263209e+00    1.095050e-01                6  \n",
       "4      -1.070161e+25    -6.560923e+24    8.741028e+24                7  \n",
       "6      -7.206934e+26    -2.434345e+26    3.359252e+26                8  "
      ]
     },
     "execution_count": 10,
     "metadata": {},
     "output_type": "execute_result"
    }
   ],
   "source": [
    "df = pd.DataFrame(search.cv_results_)\n",
    "df = df.sort_values(by=['rank_test_score'])\n",
    "df"
   ]
  },
  {
   "cell_type": "markdown",
   "metadata": {},
   "source": [
    "# 4. Best Hyperparameter"
   ]
  },
  {
   "cell_type": "code",
   "execution_count": 11,
   "metadata": {},
   "outputs": [
    {
     "name": "stdout",
     "output_type": "stream",
     "text": [
      "{'pca__n_components': 100, 'poly__degree': 1}\n"
     ]
    }
   ],
   "source": [
    "parms = pd.DataFrame(df['params'])\n",
    "for i in parms.iloc[0]:\n",
    "    print(i)"
   ]
  },
  {
   "cell_type": "markdown",
   "metadata": {},
   "source": [
    "# 5. Evaluate Model $log(Sales)$"
   ]
  },
  {
   "cell_type": "code",
   "execution_count": 90,
   "metadata": {},
   "outputs": [],
   "source": [
    "best_pca =parms.iloc[0][0]['pca__n_components']\n",
    "best_degree=parms.iloc[0][0]['poly__degree']\n"
   ]
  },
  {
   "cell_type": "code",
   "execution_count": 91,
   "metadata": {},
   "outputs": [],
   "source": [
    "Model_2 = LinearRegression()"
   ]
  },
  {
   "cell_type": "code",
   "execution_count": 92,
   "metadata": {},
   "outputs": [],
   "source": [
    "poly1 = PolynomialFeatures(degree=best_degree)"
   ]
  },
  {
   "cell_type": "code",
   "execution_count": 93,
   "metadata": {},
   "outputs": [],
   "source": [
    "X_train1,X_test1,Y_train1,Y_test1 = train_test_split(X_train,Y_train,test_size=0.2,random_state=132)\n"
   ]
  },
  {
   "cell_type": "code",
   "execution_count": 94,
   "metadata": {},
   "outputs": [
    {
     "data": {
      "text/plain": [
       "LinearRegression()"
      ]
     },
     "execution_count": 94,
     "metadata": {},
     "output_type": "execute_result"
    }
   ],
   "source": [
    "pca1 = PCA(n_components=best_pca)\n",
    "X_train1 = poly1.fit_transform(X_train1)\n",
    "pca1.fit(X_train1)\n",
    "PX_train1 = pca1.transform(X_train1)\n",
    "SLR1 = Model_2\n",
    "SLR1.fit(PX_train1,Y_train1)"
   ]
  },
  {
   "cell_type": "code",
   "execution_count": 95,
   "metadata": {},
   "outputs": [],
   "source": [
    "pca2 = PCA(n_components=best_pca)\n",
    "X_test1=poly1.fit_transform(X_test1)\n",
    "pca2.fit(X_test1)\n",
    "PX_test1 = pca2.transform(X_test1)"
   ]
  },
  {
   "cell_type": "code",
   "execution_count": 96,
   "metadata": {},
   "outputs": [
    {
     "data": {
      "text/plain": [
       "2.142009637504929"
      ]
     },
     "execution_count": 96,
     "metadata": {},
     "output_type": "execute_result"
    }
   ],
   "source": [
    "MSE(SLR1.predict(PX_test1),Y_test1)"
   ]
  },
  {
   "cell_type": "code",
   "execution_count": 97,
   "metadata": {},
   "outputs": [],
   "source": [
    "result = pd.DataFrame(np.exp(Y_test1))"
   ]
  },
  {
   "cell_type": "code",
   "execution_count": 98,
   "metadata": {},
   "outputs": [],
   "source": [
    "result[\"Predicted_sales\"] = np.exp(SLR1.predict(PX_test1))"
   ]
  },
  {
   "cell_type": "code",
   "execution_count": 99,
   "metadata": {},
   "outputs": [
    {
     "data": {
      "text/plain": [
       "1307.084650074992"
      ]
     },
     "execution_count": 99,
     "metadata": {},
     "output_type": "execute_result"
    }
   ],
   "source": [
    "MSE(result[\"sales\"],result[\"Predicted_sales\"])"
   ]
  },
  {
   "cell_type": "markdown",
   "metadata": {},
   "source": [
    "# 5.1 Model using original sales data"
   ]
  },
  {
   "cell_type": "code",
   "execution_count": 100,
   "metadata": {},
   "outputs": [],
   "source": [
    "Model_3 = LinearRegression()"
   ]
  },
  {
   "cell_type": "code",
   "execution_count": 101,
   "metadata": {},
   "outputs": [],
   "source": [
    "OY_train = pd.read_csv(\"A_sales_train.csv\",index_col=0)"
   ]
  },
  {
   "cell_type": "code",
   "execution_count": 102,
   "metadata": {},
   "outputs": [],
   "source": [
    "X_train2,X_test2,Y_train2,Y_test2 = train_test_split(X_train,OY_train,test_size=0.2,random_state=132)"
   ]
  },
  {
   "cell_type": "code",
   "execution_count": 103,
   "metadata": {},
   "outputs": [
    {
     "data": {
      "text/plain": [
       "LinearRegression()"
      ]
     },
     "execution_count": 103,
     "metadata": {},
     "output_type": "execute_result"
    }
   ],
   "source": [
    "pca3 = PCA(n_components=best_pca)\n",
    "X_train2 = poly1.fit_transform(X_train2)\n",
    "pca3.fit(X_train2)\n",
    "PX_train2 = pca3.transform(X_train2)\n",
    "SLR2 = Model_3\n",
    "SLR2.fit(PX_train2,Y_train2)"
   ]
  },
  {
   "cell_type": "code",
   "execution_count": 104,
   "metadata": {},
   "outputs": [],
   "source": [
    "pca4 = PCA(n_components=best_pca)\n",
    "X_test2=poly1.fit_transform(X_test2)\n",
    "pca4.fit(X_test2)\n",
    "PX_test2 = pca4.transform(X_test2)"
   ]
  },
  {
   "cell_type": "code",
   "execution_count": 105,
   "metadata": {},
   "outputs": [
    {
     "data": {
      "text/plain": [
       "1903.3625195320458"
      ]
     },
     "execution_count": 105,
     "metadata": {},
     "output_type": "execute_result"
    }
   ],
   "source": [
    "MSE(SLR2.predict(PX_test2),Y_test2)"
   ]
  },
  {
   "cell_type": "markdown",
   "metadata": {},
   "source": [
    "#### Notably model trained on log(Sales) has lower out-of-sample MSE than model with unmodified Sales"
   ]
  },
  {
   "cell_type": "markdown",
   "metadata": {},
   "source": [
    "# 6. Inventory Decision"
   ]
  },
  {
   "cell_type": "code",
   "execution_count": 106,
   "metadata": {},
   "outputs": [],
   "source": [
    "residual = result['sales']-result['Predicted_sales']"
   ]
  },
  {
   "cell_type": "code",
   "execution_count": 107,
   "metadata": {},
   "outputs": [
    {
     "data": {
      "text/plain": [
       "(4, 8)"
      ]
     },
     "execution_count": 107,
     "metadata": {},
     "output_type": "execute_result"
    }
   ],
   "source": [
    "Price=20\n",
    "Cost=12\n",
    "Salvage=8\n",
    "Over=Cost - Salvage\n",
    "Under=Price - Cost\n",
    "Over, Under"
   ]
  },
  {
   "cell_type": "markdown",
   "metadata": {},
   "source": [
    "### QQ plot to explore the distribution of residual"
   ]
  },
  {
   "cell_type": "markdown",
   "metadata": {},
   "source": [
    "#### Normal Distribution"
   ]
  },
  {
   "cell_type": "code",
   "execution_count": 108,
   "metadata": {},
   "outputs": [],
   "source": [
    "import scipy.stats as sct"
   ]
  },
  {
   "cell_type": "code",
   "execution_count": 109,
   "metadata": {},
   "outputs": [
    {
     "data": {
      "image/png": "[encoded data removed]",
      "text/plain": [
       "<Figure size 432x288 with 1 Axes>"
      ]
     },
     "metadata": {
      "needs_background": "light"
     },
     "output_type": "display_data"
    }
   ],
   "source": [
    "import scipy\n",
    "scipy.stats.probplot(residual, dist=\"norm\", plot=plt)\n",
    "plt.show()"
   ]
  },
  {
   "cell_type": "code",
   "execution_count": 110,
   "metadata": {},
   "outputs": [],
   "source": [
    "s = residual.std()\n",
    "opt_dec_N=np.ceil(sct.norm.ppf(Under/(Under+Over))*s + result['Predicted_sales'])"
   ]
  },
  {
   "cell_type": "markdown",
   "metadata": {},
   "source": [
    "#### Exponential Distribution"
   ]
  },
  {
   "cell_type": "code",
   "execution_count": 111,
   "metadata": {},
   "outputs": [
    {
     "data": {
      "image/png": "[encoded data removed]",
      "text/plain": [
       "<Figure size 432x288 with 1 Axes>"
      ]
     },
     "metadata": {
      "needs_background": "light"
     },
     "output_type": "display_data"
    }
   ],
   "source": [
    "scipy.stats.probplot(residual, dist=\"expon\", plot=plt)\n",
    "plt.show()"
   ]
  },
  {
   "cell_type": "code",
   "execution_count": 112,
   "metadata": {},
   "outputs": [],
   "source": [
    "opt_dec_E=np.ceil((-result['Predicted_sales'])*np.log(1-(Under/(Under+Over))))"
   ]
  },
  {
   "cell_type": "markdown",
   "metadata": {},
   "source": [
    "#### Empirical Distribution"
   ]
  },
  {
   "cell_type": "code",
   "execution_count": 113,
   "metadata": {},
   "outputs": [
    {
     "data": {
      "text/plain": [
       "[<matplotlib.lines.Line2D at 0x218853ede20>]"
      ]
     },
     "execution_count": 113,
     "metadata": {},
     "output_type": "execute_result"
    },
    {
     "data": {
      "image/png": "[encoded data removed]",
      "text/plain": [
       "<Figure size 432x288 with 1 Axes>"
      ]
     },
     "metadata": {
      "needs_background": "light"
     },
     "output_type": "display_data"
    }
   ],
   "source": [
    "size = residual.shape[0]\n",
    "step=1/size\n",
    "jumps = [step*i for i in range(1,size+1)]\n",
    "Sample = sorted(residual)\n",
    "plt.plot(Sample,jumps)"
   ]
  },
  {
   "cell_type": "code",
   "execution_count": 114,
   "metadata": {},
   "outputs": [
    {
     "data": {
      "image/png": "[encoded data removed]",
      "text/plain": [
       "<Figure size 432x288 with 1 Axes>"
      ]
     },
     "metadata": {
      "needs_background": "light"
     },
     "output_type": "display_data"
    }
   ],
   "source": [
    "plt.hist(Sample)\n",
    "plt.show()"
   ]
  },
  {
   "cell_type": "code",
   "execution_count": 115,
   "metadata": {},
   "outputs": [],
   "source": [
    "def inv(sample,jump,area):\n",
    "    size = len(sample)\n",
    "    temp=0\n",
    "    i=0\n",
    "    while temp<area:\n",
    "        temp=jump[i]\n",
    "        i+=1\n",
    "    return sample[i]"
   ]
  },
  {
   "cell_type": "code",
   "execution_count": 116,
   "metadata": {},
   "outputs": [
    {
     "data": {
      "text/plain": [
       "7.2507976348008425"
      ]
     },
     "execution_count": 116,
     "metadata": {},
     "output_type": "execute_result"
    }
   ],
   "source": [
    "offset = inv(Sample,jumps,2/3)\n",
    "offset"
   ]
  },
  {
   "cell_type": "code",
   "execution_count": 117,
   "metadata": {},
   "outputs": [],
   "source": [
    "opt_dec_B = np.ceil(result['Predicted_sales']+offset)"
   ]
  },
  {
   "cell_type": "markdown",
   "metadata": {},
   "source": [
    "# 7. Out-of-samples Profit"
   ]
  },
  {
   "cell_type": "code",
   "execution_count": 118,
   "metadata": {},
   "outputs": [
    {
     "data": {
      "text/plain": [
       "82096.0"
      ]
     },
     "execution_count": 118,
     "metadata": {},
     "output_type": "execute_result"
    }
   ],
   "source": [
    "#max profit for test data set\n",
    "max_profit = result['sales'].sum()*(Price-Cost)\n",
    "max_profit"
   ]
  },
  {
   "cell_type": "code",
   "execution_count": 119,
   "metadata": {},
   "outputs": [],
   "source": [
    "def profit(demand,inv):\n",
    "    return (Price-Salvage)*np.minimum(demand,inv)-(Cost-Salvage)*inv"
   ]
  },
  {
   "cell_type": "code",
   "execution_count": 120,
   "metadata": {},
   "outputs": [
    {
     "data": {
      "text/plain": [
       "19816.000000000004"
      ]
     },
     "execution_count": 120,
     "metadata": {},
     "output_type": "execute_result"
    }
   ],
   "source": [
    "#Profit (Normal)\n",
    "profit_lst_N = profit(result['sales'],opt_dec_N)\n",
    "profit_lst_N.sum()"
   ]
  },
  {
   "cell_type": "code",
   "execution_count": 121,
   "metadata": {},
   "outputs": [
    {
     "data": {
      "text/plain": [
       "19756.0"
      ]
     },
     "execution_count": 121,
     "metadata": {},
     "output_type": "execute_result"
    }
   ],
   "source": [
    "#Profit (Exponential)\n",
    "profit_lst_E = profit(result['sales'],opt_dec_E)\n",
    "profit_lst_E.sum()"
   ]
  },
  {
   "cell_type": "code",
   "execution_count": 122,
   "metadata": {},
   "outputs": [
    {
     "data": {
      "text/plain": [
       "22608.0"
      ]
     },
     "execution_count": 122,
     "metadata": {},
     "output_type": "execute_result"
    }
   ],
   "source": [
    "#Profit (Empirical)\n",
    "profit_lst_B = profit(result['sales'],opt_dec_B)\n",
    "profit_lst_B.sum()"
   ]
  },
  {
   "cell_type": "markdown",
   "metadata": {},
   "source": [
    "# 8. K-Fold Cross Validation"
   ]
  },
  {
   "cell_type": "markdown",
   "metadata": {},
   "source": [
    "### Repeat steps 5,6,7 with 10-fold cross validation"
   ]
  },
  {
   "cell_type": "code",
   "execution_count": 123,
   "metadata": {},
   "outputs": [],
   "source": [
    "Model_4=LinearRegression()"
   ]
  },
  {
   "cell_type": "code",
   "execution_count": 124,
   "metadata": {},
   "outputs": [],
   "source": [
    "from sklearn.model_selection import KFold\n",
    "k=10\n",
    "kf = KFold(n_splits=k)\n",
    "X_train_t=X_train.to_numpy()\n",
    "Y_train_t=Y_train.to_numpy()\n",
    "model = []\n",
    "mse_lst = []\n",
    "max_profit_lst = []\n",
    "profit_N_lst = []\n",
    "profit_E_lst = []\n",
    "profit_B_lst = []\n",
    "\n",
    "for train_index,test_index in kf.split(X_train_t):\n",
    "    X_train_K,X_test_K=X_train_t[train_index],X_train_t[test_index]\n",
    "    Y_train_K,Y_test_K=Y_train_t[train_index],Y_train_t[test_index]\n",
    "    \n",
    "    #PCA to transform train data\n",
    "    pca_K1 = PCA(n_components=best_pca)\n",
    "    X_train_K = poly1.fit_transform(X_train_K)\n",
    "    pca_K1.fit(X_train_K)\n",
    "    PX_train_K = pca_K1.transform(X_train_K)\n",
    "    \n",
    "    #Model\n",
    "    SLR_K = Model_4\n",
    "    SLR_K.fit(PX_train_K,Y_train_K)\n",
    "    \n",
    "    #pca to transform test data\n",
    "    pca_K2 = PCA(n_components=best_pca)\n",
    "    X_test_K=poly1.fit_transform(X_test_K)\n",
    "    pca_K2.fit(X_test_K)\n",
    "    PX_test_K = pca_K2.transform(X_test_K)\n",
    "    \n",
    "    #MSE\n",
    "    mse_lst.append(MSE(SLR_K.predict(PX_test_K),Y_test_K))\n",
    "    \n",
    "    #Transform log(sale) back to sale\n",
    "    result_K = pd.DataFrame(np.exp(Y_test_K))\n",
    "    result_K[\"Predicted_sales\"] = np.exp(SLR_K.predict(PX_test_K))\n",
    "    \n",
    "    #Obtain residual\n",
    "    residual_K = result_K[0]-result_K['Predicted_sales']\n",
    "    \n",
    "    #Get std for Normal distribution\n",
    "    s_K = residual.std()\n",
    "    \n",
    "    #Inventory Decision (Normal)\n",
    "    opt_dec_N_K=np.ceil(sct.norm.ppf(Under/(Under+Over))*s_K + result_K['Predicted_sales'])\n",
    "    #Inventory Decision (Exponential)\n",
    "    opt_dec_E_K=np.ceil((-result_K['Predicted_sales'])*np.log(1-(Under/(Under+Over))))\n",
    "    \n",
    "    #Inventory Decision (Empirical Distribution)\n",
    "    size_K = residual_K.shape[0]\n",
    "    step_K=1/size_K\n",
    "    jumps_K = [step_K*i for i in range(1,size+1)]\n",
    "    Sample_K = sorted(residual_K)\n",
    "    offset_K = inv(Sample_K,jumps_K,2/3)\n",
    "    opt_dec_B_K = np.ceil(result_K['Predicted_sales']+offset_K)\n",
    "    \n",
    "    #Out-of_sample profit\n",
    "    profit_lst_B_K = profit(result_K[0],opt_dec_B_K)\n",
    "    profit_B_lst.append(profit_lst_B_K.sum())\n",
    "    \n",
    "    profit_lst_N_K = profit(result_K[0],opt_dec_N_K)\n",
    "    profit_N_lst.append(profit_lst_N_K.sum())\n",
    "    \n",
    "    profit_lst_E_K = profit(result_K[0],opt_dec_E_K)\n",
    "    profit_E_lst.append(profit_lst_E_K.sum())\n",
    "    \n",
    "    max_profit_K = result_K[0].sum()*(Price-Cost)\n",
    "    max_profit_lst.append(max_profit_K)\n",
    "    \n",
    "max_profit_lst = np.array(max_profit_lst)\n",
    "profit_N_lst = np.array(profit_N_lst)\n",
    "profit_E_lst = np.array(profit_E_lst)\n",
    "profit_B_lst = np.array(profit_B_lst)\n",
    "\n",
    "fraction_of_max_N = profit_N_lst/max_profit_lst\n",
    "fraction_of_max_E = profit_E_lst/max_profit_lst\n",
    "fraction_of_max_B = profit_B_lst/max_profit_lst\n",
    "\n",
    "dist_profit = [\"Normal\",\"Exponential\",\"Empirical\",\"Max\"]\n",
    "dist_frac = [\"Normal\",\"Exponential\",\"Empirical\"]\n",
    "col_name = [\"Dataset_\"+str(i) for i in range(1,k+1)]\n",
    "\n",
    "profit_lst = [profit_N_lst,profit_E_lst,profit_B_lst,max_profit_lst]\n",
    "profit_table = pd.DataFrame(profit_lst,index=dist_profit,columns=col_name)\n",
    "profit_table[\"mean_profit\"]=profit_table.mean(axis=1)\n",
    "profit_table[\"std_profit\"]=profit_table.std(ddof=1,axis=1)\n",
    "\n",
    "fraction_lst = [fraction_of_max_N,fraction_of_max_E,fraction_of_max_B]\n",
    "fraction_table = pd.DataFrame(fraction_lst,index=dist_frac,columns=col_name)\n",
    "fraction_table[\"mean_fraction\"]=fraction_table.mean(axis=1)"
   ]
  },
  {
   "cell_type": "code",
   "execution_count": 125,
   "metadata": {},
   "outputs": [
    {
     "data": {
      "text/html": [
       "<div>\n",
       "<style scoped>\n",
       "    .dataframe tbody tr th:only-of-type {\n",
       "        vertical-align: middle;\n",
       "    }\n",
       "\n",
       "    .dataframe tbody tr th {\n",
       "        vertical-align: top;\n",
       "    }\n",
       "\n",
       "    .dataframe thead th {\n",
       "        text-align: right;\n",
       "    }\n",
       "</style>\n",
       "<table border=\"1\" class=\"dataframe\">\n",
       "  <thead>\n",
       "    <tr style=\"text-align: right;\">\n",
       "      <th></th>\n",
       "      <th>Dataset_1</th>\n",
       "      <th>Dataset_2</th>\n",
       "      <th>Dataset_3</th>\n",
       "      <th>Dataset_4</th>\n",
       "      <th>Dataset_5</th>\n",
       "      <th>Dataset_6</th>\n",
       "      <th>Dataset_7</th>\n",
       "      <th>Dataset_8</th>\n",
       "      <th>Dataset_9</th>\n",
       "      <th>Dataset_10</th>\n",
       "      <th>mean_fraction</th>\n",
       "    </tr>\n",
       "  </thead>\n",
       "  <tbody>\n",
       "    <tr>\n",
       "      <th>Normal</th>\n",
       "      <td>0.119853</td>\n",
       "      <td>0.214601</td>\n",
       "      <td>-0.124158</td>\n",
       "      <td>0.173820</td>\n",
       "      <td>0.087107</td>\n",
       "      <td>0.156525</td>\n",
       "      <td>-0.012988</td>\n",
       "      <td>0.211448</td>\n",
       "      <td>0.238636</td>\n",
       "      <td>0.013734</td>\n",
       "      <td>0.107858</td>\n",
       "    </tr>\n",
       "    <tr>\n",
       "      <th>Exponential</th>\n",
       "      <td>0.095979</td>\n",
       "      <td>0.194449</td>\n",
       "      <td>-0.195784</td>\n",
       "      <td>0.147468</td>\n",
       "      <td>0.070508</td>\n",
       "      <td>0.128560</td>\n",
       "      <td>-0.052524</td>\n",
       "      <td>0.167303</td>\n",
       "      <td>0.213672</td>\n",
       "      <td>0.007395</td>\n",
       "      <td>0.077703</td>\n",
       "    </tr>\n",
       "    <tr>\n",
       "      <th>Empirical</th>\n",
       "      <td>0.148560</td>\n",
       "      <td>0.244741</td>\n",
       "      <td>-0.112753</td>\n",
       "      <td>0.192704</td>\n",
       "      <td>0.112409</td>\n",
       "      <td>0.196783</td>\n",
       "      <td>0.013478</td>\n",
       "      <td>0.224371</td>\n",
       "      <td>0.254921</td>\n",
       "      <td>0.059739</td>\n",
       "      <td>0.133495</td>\n",
       "    </tr>\n",
       "  </tbody>\n",
       "</table>\n",
       "</div>"
      ],
      "text/plain": [
       "             Dataset_1  Dataset_2  Dataset_3  Dataset_4  Dataset_5  Dataset_6  \\\n",
       "Normal        0.119853   0.214601  -0.124158   0.173820   0.087107   0.156525   \n",
       "Exponential   0.095979   0.194449  -0.195784   0.147468   0.070508   0.128560   \n",
       "Empirical     0.148560   0.244741  -0.112753   0.192704   0.112409   0.196783   \n",
       "\n",
       "             Dataset_7  Dataset_8  Dataset_9  Dataset_10  mean_fraction  \n",
       "Normal       -0.012988   0.211448   0.238636    0.013734       0.107858  \n",
       "Exponential  -0.052524   0.167303   0.213672    0.007395       0.077703  \n",
       "Empirical     0.013478   0.224371   0.254921    0.059739       0.133495  "
      ]
     },
     "execution_count": 125,
     "metadata": {},
     "output_type": "execute_result"
    }
   ],
   "source": [
    "fraction_table"
   ]
  },
  {
   "cell_type": "code",
   "execution_count": 126,
   "metadata": {},
   "outputs": [
    {
     "data": {
      "text/html": [
       "<div>\n",
       "<style scoped>\n",
       "    .dataframe tbody tr th:only-of-type {\n",
       "        vertical-align: middle;\n",
       "    }\n",
       "\n",
       "    .dataframe tbody tr th {\n",
       "        vertical-align: top;\n",
       "    }\n",
       "\n",
       "    .dataframe thead th {\n",
       "        text-align: right;\n",
       "    }\n",
       "</style>\n",
       "<table border=\"1\" class=\"dataframe\">\n",
       "  <thead>\n",
       "    <tr style=\"text-align: right;\">\n",
       "      <th></th>\n",
       "      <th>Dataset_1</th>\n",
       "      <th>Dataset_2</th>\n",
       "      <th>Dataset_3</th>\n",
       "      <th>Dataset_4</th>\n",
       "      <th>Dataset_5</th>\n",
       "      <th>Dataset_6</th>\n",
       "      <th>Dataset_7</th>\n",
       "      <th>Dataset_8</th>\n",
       "      <th>Dataset_9</th>\n",
       "      <th>Dataset_10</th>\n",
       "      <th>mean_profit</th>\n",
       "      <th>std_profit</th>\n",
       "    </tr>\n",
       "  </thead>\n",
       "  <tbody>\n",
       "    <tr>\n",
       "      <th>Normal</th>\n",
       "      <td>4960.0</td>\n",
       "      <td>9712.0</td>\n",
       "      <td>-5748.0</td>\n",
       "      <td>8100.0</td>\n",
       "      <td>4324.0</td>\n",
       "      <td>6112.0</td>\n",
       "      <td>-636.0</td>\n",
       "      <td>9752.0</td>\n",
       "      <td>10668.0</td>\n",
       "      <td>572.0</td>\n",
       "      <td>4781.6</td>\n",
       "      <td>5046.087498</td>\n",
       "    </tr>\n",
       "    <tr>\n",
       "      <th>Exponential</th>\n",
       "      <td>3972.0</td>\n",
       "      <td>8800.0</td>\n",
       "      <td>-9064.0</td>\n",
       "      <td>6872.0</td>\n",
       "      <td>3500.0</td>\n",
       "      <td>5020.0</td>\n",
       "      <td>-2572.0</td>\n",
       "      <td>7716.0</td>\n",
       "      <td>9552.0</td>\n",
       "      <td>308.0</td>\n",
       "      <td>3410.4</td>\n",
       "      <td>5488.413162</td>\n",
       "    </tr>\n",
       "    <tr>\n",
       "      <th>Empirical</th>\n",
       "      <td>6148.0</td>\n",
       "      <td>11076.0</td>\n",
       "      <td>-5220.0</td>\n",
       "      <td>8980.0</td>\n",
       "      <td>5580.0</td>\n",
       "      <td>7684.0</td>\n",
       "      <td>660.0</td>\n",
       "      <td>10348.0</td>\n",
       "      <td>11396.0</td>\n",
       "      <td>2488.0</td>\n",
       "      <td>5914.0</td>\n",
       "      <td>5023.608663</td>\n",
       "    </tr>\n",
       "    <tr>\n",
       "      <th>Max</th>\n",
       "      <td>41384.0</td>\n",
       "      <td>45256.0</td>\n",
       "      <td>46296.0</td>\n",
       "      <td>46600.0</td>\n",
       "      <td>49640.0</td>\n",
       "      <td>39048.0</td>\n",
       "      <td>48968.0</td>\n",
       "      <td>46120.0</td>\n",
       "      <td>44704.0</td>\n",
       "      <td>41648.0</td>\n",
       "      <td>44966.4</td>\n",
       "      <td>3203.875254</td>\n",
       "    </tr>\n",
       "  </tbody>\n",
       "</table>\n",
       "</div>"
      ],
      "text/plain": [
       "             Dataset_1  Dataset_2  Dataset_3  Dataset_4  Dataset_5  Dataset_6  \\\n",
       "Normal          4960.0     9712.0    -5748.0     8100.0     4324.0     6112.0   \n",
       "Exponential     3972.0     8800.0    -9064.0     6872.0     3500.0     5020.0   \n",
       "Empirical       6148.0    11076.0    -5220.0     8980.0     5580.0     7684.0   \n",
       "Max            41384.0    45256.0    46296.0    46600.0    49640.0    39048.0   \n",
       "\n",
       "             Dataset_7  Dataset_8  Dataset_9  Dataset_10  mean_profit  \\\n",
       "Normal          -636.0     9752.0    10668.0       572.0       4781.6   \n",
       "Exponential    -2572.0     7716.0     9552.0       308.0       3410.4   \n",
       "Empirical        660.0    10348.0    11396.0      2488.0       5914.0   \n",
       "Max            48968.0    46120.0    44704.0     41648.0      44966.4   \n",
       "\n",
       "              std_profit  \n",
       "Normal       5046.087498  \n",
       "Exponential  5488.413162  \n",
       "Empirical    5023.608663  \n",
       "Max          3203.875254  "
      ]
     },
     "execution_count": 126,
     "metadata": {},
     "output_type": "execute_result"
    }
   ],
   "source": [
    "profit_table"
   ]
  },
  {
   "cell_type": "code",
   "execution_count": 129,
   "metadata": {},
   "outputs": [],
   "source": [
    "profit_table.to_csv(\".\\\\Model_Selection_Result\\\\2.2_Poly_reg.csv\")"
   ]
  },
  {
   "cell_type": "code",
   "execution_count": null,
   "metadata": {},
   "outputs": [],
   "source": []
  }
 ],
 "metadata": {
  "kernelspec": {
   "display_name": "Python 3",
   "language": "python",
   "name": "python3"
  },
  "language_info": {
   "codemirror_mode": {
    "name": "ipython",
    "version": 3
   },
   "file_extension": ".py",
   "mimetype": "text/x-python",
   "name": "python",
   "nbconvert_exporter": "python",
   "pygments_lexer": "ipython3",
   "version": "3.8.5"
  }
 },
 "nbformat": 4,
 "nbformat_minor": 4
}
