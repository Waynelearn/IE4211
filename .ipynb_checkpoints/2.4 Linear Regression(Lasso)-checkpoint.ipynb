{
 "cells": [
  {
   "cell_type": "code",
   "execution_count": 1,
   "metadata": {},
   "outputs": [],
   "source": [
    "import pandas as pd\n",
    "import numpy as np\n",
    "import matplotlib.pyplot as plt\n",
    "from sklearn.pipeline import Pipeline\n",
    "from sklearn.model_selection import GridSearchCV\n",
    "from sklearn.decomposition import PCA\n",
    "from sklearn.metrics import mean_squared_error as MSE\n",
    "from sklearn.linear_model import LinearRegression\n",
    "from sklearn.preprocessing import PolynomialFeatures\n",
    "from sklearn.model_selection import train_test_split\n",
    "from sklearn.linear_model import Ridge"
   ]
  },
  {
   "cell_type": "markdown",
   "metadata": {},
   "source": [
    "# 1. Import the train datasets"
   ]
  },
  {
   "cell_type": "code",
   "execution_count": 2,
   "metadata": {},
   "outputs": [],
   "source": [
    "X_train = pd.read_csv(\"A_Normalised_train_data.csv\",index_col=0)\n",
    "Y_train = pd.read_csv(\"A_Log_sales_train.csv\",index_col=0)"
   ]
  },
  {
   "cell_type": "markdown",
   "metadata": {},
   "source": [
    "# 2. Setup Pipeline"
   ]
  },
  {
   "cell_type": "code",
   "execution_count": 3,
   "metadata": {},
   "outputs": [],
   "source": [
    "pca=PCA()\n",
    "SLR = Ridge()"
   ]
  },
  {
   "cell_type": "code",
   "execution_count": 4,
   "metadata": {},
   "outputs": [],
   "source": [
    "# Step 1: PCA\n",
    "# Step 2: Model\n",
    "pipe = Pipeline(steps=[(\"pca\",pca),(\"SLR\",SLR)])"
   ]
  },
  {
   "cell_type": "code",
   "execution_count": 5,
   "metadata": {},
   "outputs": [],
   "source": [
    "param_grid = {\n",
    "    \"pca__n_components\": [5, 10, 30, 45, 60, 100 ,150 ,170],\n",
    "    \"SLR__alpha\":[0.05,0.1,0.2,0.5,1,2,8,10,100,1000,10000]\n",
    "}"
   ]
  },
  {
   "cell_type": "markdown",
   "metadata": {},
   "source": [
    "# 3. Setup GridSearch"
   ]
  },
  {
   "cell_type": "code",
   "execution_count": 6,
   "metadata": {},
   "outputs": [],
   "source": [
    "score_metric = 'neg_mean_squared_error'\n",
    "search = GridSearchCV(pipe,param_grid,\n",
    "                      n_jobs=-1,\n",
    "                      cv=10,\n",
    "                      scoring=score_metric)"
   ]
  },
  {
   "cell_type": "code",
   "execution_count": 7,
   "metadata": {},
   "outputs": [
    {
     "data": {
      "text/plain": [
       "GridSearchCV(cv=10,\n",
       "             estimator=Pipeline(steps=[('pca', PCA()), ('SLR', Ridge())]),\n",
       "             n_jobs=-1,\n",
       "             param_grid={'SLR__alpha': [0.05, 0.1, 0.2, 0.5, 1, 2, 8, 10, 100,\n",
       "                                        1000, 10000],\n",
       "                         'pca__n_components': [5, 10, 30, 45, 60, 100, 150,\n",
       "                                               170]},\n",
       "             scoring='neg_mean_squared_error')"
      ]
     },
     "execution_count": 7,
     "metadata": {},
     "output_type": "execute_result"
    }
   ],
   "source": [
    "search.fit(X_train,Y_train)"
   ]
  },
  {
   "cell_type": "code",
   "execution_count": 8,
   "metadata": {},
   "outputs": [
    {
     "name": "stdout",
     "output_type": "stream",
     "text": [
      "Best parameter (CV score=-0.734):\n",
      "{'SLR__alpha': 1000, 'pca__n_components': 150}\n"
     ]
    }
   ],
   "source": [
    "print(\"Best parameter (CV score=%0.3f):\" % search.best_score_)\n",
    "print(search.best_params_)"
   ]
  },
  {
   "cell_type": "code",
   "execution_count": 9,
   "metadata": {},
   "outputs": [
    {
     "data": {
      "text/html": [
       "<div>\n",
       "<style scoped>\n",
       "    .dataframe tbody tr th:only-of-type {\n",
       "        vertical-align: middle;\n",
       "    }\n",
       "\n",
       "    .dataframe tbody tr th {\n",
       "        vertical-align: top;\n",
       "    }\n",
       "\n",
       "    .dataframe thead th {\n",
       "        text-align: right;\n",
       "    }\n",
       "</style>\n",
       "<table border=\"1\" class=\"dataframe\">\n",
       "  <thead>\n",
       "    <tr style=\"text-align: right;\">\n",
       "      <th></th>\n",
       "      <th>mean_fit_time</th>\n",
       "      <th>std_fit_time</th>\n",
       "      <th>mean_score_time</th>\n",
       "      <th>std_score_time</th>\n",
       "      <th>param_SLR__alpha</th>\n",
       "      <th>param_pca__n_components</th>\n",
       "      <th>params</th>\n",
       "      <th>split0_test_score</th>\n",
       "      <th>split1_test_score</th>\n",
       "      <th>split2_test_score</th>\n",
       "      <th>split3_test_score</th>\n",
       "      <th>split4_test_score</th>\n",
       "      <th>split5_test_score</th>\n",
       "      <th>split6_test_score</th>\n",
       "      <th>split7_test_score</th>\n",
       "      <th>split8_test_score</th>\n",
       "      <th>split9_test_score</th>\n",
       "      <th>mean_test_score</th>\n",
       "      <th>std_test_score</th>\n",
       "      <th>rank_test_score</th>\n",
       "    </tr>\n",
       "  </thead>\n",
       "  <tbody>\n",
       "    <tr>\n",
       "      <th>79</th>\n",
       "      <td>0.115017</td>\n",
       "      <td>0.045773</td>\n",
       "      <td>0.010026</td>\n",
       "      <td>0.002553</td>\n",
       "      <td>1000</td>\n",
       "      <td>170</td>\n",
       "      <td>{'SLR__alpha': 1000, 'pca__n_components': 170}</td>\n",
       "      <td>-0.652320</td>\n",
       "      <td>-0.629464</td>\n",
       "      <td>-1.019701</td>\n",
       "      <td>-0.796638</td>\n",
       "      <td>-0.838327</td>\n",
       "      <td>-0.623856</td>\n",
       "      <td>-0.605852</td>\n",
       "      <td>-0.705903</td>\n",
       "      <td>-0.751369</td>\n",
       "      <td>-0.717822</td>\n",
       "      <td>-0.734125</td>\n",
       "      <td>0.119974</td>\n",
       "      <td>1</td>\n",
       "    </tr>\n",
       "    <tr>\n",
       "      <th>78</th>\n",
       "      <td>0.103993</td>\n",
       "      <td>0.014177</td>\n",
       "      <td>0.012301</td>\n",
       "      <td>0.006283</td>\n",
       "      <td>1000</td>\n",
       "      <td>150</td>\n",
       "      <td>{'SLR__alpha': 1000, 'pca__n_components': 150}</td>\n",
       "      <td>-0.652320</td>\n",
       "      <td>-0.629464</td>\n",
       "      <td>-1.019701</td>\n",
       "      <td>-0.796638</td>\n",
       "      <td>-0.838327</td>\n",
       "      <td>-0.623856</td>\n",
       "      <td>-0.605852</td>\n",
       "      <td>-0.705903</td>\n",
       "      <td>-0.751369</td>\n",
       "      <td>-0.717822</td>\n",
       "      <td>-0.734125</td>\n",
       "      <td>0.119974</td>\n",
       "      <td>1</td>\n",
       "    </tr>\n",
       "    <tr>\n",
       "      <th>70</th>\n",
       "      <td>0.105379</td>\n",
       "      <td>0.013942</td>\n",
       "      <td>0.012092</td>\n",
       "      <td>0.007985</td>\n",
       "      <td>100</td>\n",
       "      <td>150</td>\n",
       "      <td>{'SLR__alpha': 100, 'pca__n_components': 150}</td>\n",
       "      <td>-0.557192</td>\n",
       "      <td>-0.551972</td>\n",
       "      <td>-2.032064</td>\n",
       "      <td>-0.668318</td>\n",
       "      <td>-0.719911</td>\n",
       "      <td>-0.566579</td>\n",
       "      <td>-0.569639</td>\n",
       "      <td>-0.613083</td>\n",
       "      <td>-0.671898</td>\n",
       "      <td>-0.616025</td>\n",
       "      <td>-0.756668</td>\n",
       "      <td>0.428507</td>\n",
       "      <td>3</td>\n",
       "    </tr>\n",
       "    <tr>\n",
       "      <th>71</th>\n",
       "      <td>0.094969</td>\n",
       "      <td>0.007269</td>\n",
       "      <td>0.008298</td>\n",
       "      <td>0.005688</td>\n",
       "      <td>100</td>\n",
       "      <td>170</td>\n",
       "      <td>{'SLR__alpha': 100, 'pca__n_components': 170}</td>\n",
       "      <td>-0.557192</td>\n",
       "      <td>-0.551972</td>\n",
       "      <td>-2.032064</td>\n",
       "      <td>-0.668318</td>\n",
       "      <td>-0.719911</td>\n",
       "      <td>-0.566579</td>\n",
       "      <td>-0.569639</td>\n",
       "      <td>-0.613083</td>\n",
       "      <td>-0.671898</td>\n",
       "      <td>-0.616025</td>\n",
       "      <td>-0.756668</td>\n",
       "      <td>0.428507</td>\n",
       "      <td>3</td>\n",
       "    </tr>\n",
       "    <tr>\n",
       "      <th>54</th>\n",
       "      <td>0.100079</td>\n",
       "      <td>0.022028</td>\n",
       "      <td>0.010937</td>\n",
       "      <td>0.008959</td>\n",
       "      <td>8</td>\n",
       "      <td>150</td>\n",
       "      <td>{'SLR__alpha': 8, 'pca__n_components': 150}</td>\n",
       "      <td>-0.513021</td>\n",
       "      <td>-0.547673</td>\n",
       "      <td>-2.281377</td>\n",
       "      <td>-0.619544</td>\n",
       "      <td>-0.686219</td>\n",
       "      <td>-0.546546</td>\n",
       "      <td>-0.564497</td>\n",
       "      <td>-0.565643</td>\n",
       "      <td>-0.640100</td>\n",
       "      <td>-0.603677</td>\n",
       "      <td>-0.756829</td>\n",
       "      <td>0.510501</td>\n",
       "      <td>5</td>\n",
       "    </tr>\n",
       "    <tr>\n",
       "      <th>...</th>\n",
       "      <td>...</td>\n",
       "      <td>...</td>\n",
       "      <td>...</td>\n",
       "      <td>...</td>\n",
       "      <td>...</td>\n",
       "      <td>...</td>\n",
       "      <td>...</td>\n",
       "      <td>...</td>\n",
       "      <td>...</td>\n",
       "      <td>...</td>\n",
       "      <td>...</td>\n",
       "      <td>...</td>\n",
       "      <td>...</td>\n",
       "      <td>...</td>\n",
       "      <td>...</td>\n",
       "      <td>...</td>\n",
       "      <td>...</td>\n",
       "      <td>...</td>\n",
       "      <td>...</td>\n",
       "      <td>...</td>\n",
       "    </tr>\n",
       "    <tr>\n",
       "      <th>40</th>\n",
       "      <td>0.065544</td>\n",
       "      <td>0.012058</td>\n",
       "      <td>0.008034</td>\n",
       "      <td>0.008023</td>\n",
       "      <td>2</td>\n",
       "      <td>5</td>\n",
       "      <td>{'SLR__alpha': 2, 'pca__n_components': 5}</td>\n",
       "      <td>-1.157000</td>\n",
       "      <td>-1.121837</td>\n",
       "      <td>-1.249321</td>\n",
       "      <td>-1.450368</td>\n",
       "      <td>-1.458274</td>\n",
       "      <td>-0.967006</td>\n",
       "      <td>-1.165236</td>\n",
       "      <td>-1.136080</td>\n",
       "      <td>-1.212425</td>\n",
       "      <td>-1.098784</td>\n",
       "      <td>-1.201633</td>\n",
       "      <td>0.144822</td>\n",
       "      <td>84</td>\n",
       "    </tr>\n",
       "    <tr>\n",
       "      <th>16</th>\n",
       "      <td>0.071806</td>\n",
       "      <td>0.017950</td>\n",
       "      <td>0.010498</td>\n",
       "      <td>0.009610</td>\n",
       "      <td>0.2</td>\n",
       "      <td>5</td>\n",
       "      <td>{'SLR__alpha': 0.2, 'pca__n_components': 5}</td>\n",
       "      <td>-1.157043</td>\n",
       "      <td>-1.136990</td>\n",
       "      <td>-1.246088</td>\n",
       "      <td>-1.450775</td>\n",
       "      <td>-1.455424</td>\n",
       "      <td>-0.964422</td>\n",
       "      <td>-1.210761</td>\n",
       "      <td>-1.116208</td>\n",
       "      <td>-1.184681</td>\n",
       "      <td>-1.122631</td>\n",
       "      <td>-1.204502</td>\n",
       "      <td>0.143081</td>\n",
       "      <td>85</td>\n",
       "    </tr>\n",
       "    <tr>\n",
       "      <th>0</th>\n",
       "      <td>0.090600</td>\n",
       "      <td>0.058142</td>\n",
       "      <td>0.012403</td>\n",
       "      <td>0.004987</td>\n",
       "      <td>0.05</td>\n",
       "      <td>5</td>\n",
       "      <td>{'SLR__alpha': 0.05, 'pca__n_components': 5}</td>\n",
       "      <td>-1.172418</td>\n",
       "      <td>-1.109384</td>\n",
       "      <td>-1.263883</td>\n",
       "      <td>-1.438719</td>\n",
       "      <td>-1.455421</td>\n",
       "      <td>-0.969087</td>\n",
       "      <td>-1.203025</td>\n",
       "      <td>-1.118709</td>\n",
       "      <td>-1.211152</td>\n",
       "      <td>-1.110402</td>\n",
       "      <td>-1.205220</td>\n",
       "      <td>0.142512</td>\n",
       "      <td>86</td>\n",
       "    </tr>\n",
       "    <tr>\n",
       "      <th>8</th>\n",
       "      <td>0.062704</td>\n",
       "      <td>0.015345</td>\n",
       "      <td>0.009440</td>\n",
       "      <td>0.005845</td>\n",
       "      <td>0.1</td>\n",
       "      <td>5</td>\n",
       "      <td>{'SLR__alpha': 0.1, 'pca__n_components': 5}</td>\n",
       "      <td>-1.154642</td>\n",
       "      <td>-1.127810</td>\n",
       "      <td>-1.251138</td>\n",
       "      <td>-1.467245</td>\n",
       "      <td>-1.473783</td>\n",
       "      <td>-0.957277</td>\n",
       "      <td>-1.182454</td>\n",
       "      <td>-1.108764</td>\n",
       "      <td>-1.196499</td>\n",
       "      <td>-1.152461</td>\n",
       "      <td>-1.207207</td>\n",
       "      <td>0.150187</td>\n",
       "      <td>87</td>\n",
       "    </tr>\n",
       "    <tr>\n",
       "      <th>80</th>\n",
       "      <td>0.072180</td>\n",
       "      <td>0.013723</td>\n",
       "      <td>0.007224</td>\n",
       "      <td>0.000932</td>\n",
       "      <td>10000</td>\n",
       "      <td>5</td>\n",
       "      <td>{'SLR__alpha': 10000, 'pca__n_components': 5}</td>\n",
       "      <td>-1.219777</td>\n",
       "      <td>-1.164075</td>\n",
       "      <td>-1.302200</td>\n",
       "      <td>-1.552525</td>\n",
       "      <td>-1.507328</td>\n",
       "      <td>-1.008765</td>\n",
       "      <td>-1.270378</td>\n",
       "      <td>-1.205686</td>\n",
       "      <td>-1.248169</td>\n",
       "      <td>-1.202740</td>\n",
       "      <td>-1.268164</td>\n",
       "      <td>0.151086</td>\n",
       "      <td>88</td>\n",
       "    </tr>\n",
       "  </tbody>\n",
       "</table>\n",
       "<p>88 rows × 20 columns</p>\n",
       "</div>"
      ],
      "text/plain": [
       "    mean_fit_time  std_fit_time  mean_score_time  std_score_time  \\\n",
       "79       0.115017      0.045773         0.010026        0.002553   \n",
       "78       0.103993      0.014177         0.012301        0.006283   \n",
       "70       0.105379      0.013942         0.012092        0.007985   \n",
       "71       0.094969      0.007269         0.008298        0.005688   \n",
       "54       0.100079      0.022028         0.010937        0.008959   \n",
       "..            ...           ...              ...             ...   \n",
       "40       0.065544      0.012058         0.008034        0.008023   \n",
       "16       0.071806      0.017950         0.010498        0.009610   \n",
       "0        0.090600      0.058142         0.012403        0.004987   \n",
       "8        0.062704      0.015345         0.009440        0.005845   \n",
       "80       0.072180      0.013723         0.007224        0.000932   \n",
       "\n",
       "   param_SLR__alpha param_pca__n_components  \\\n",
       "79             1000                     170   \n",
       "78             1000                     150   \n",
       "70              100                     150   \n",
       "71              100                     170   \n",
       "54                8                     150   \n",
       "..              ...                     ...   \n",
       "40                2                       5   \n",
       "16              0.2                       5   \n",
       "0              0.05                       5   \n",
       "8               0.1                       5   \n",
       "80            10000                       5   \n",
       "\n",
       "                                            params  split0_test_score  \\\n",
       "79  {'SLR__alpha': 1000, 'pca__n_components': 170}          -0.652320   \n",
       "78  {'SLR__alpha': 1000, 'pca__n_components': 150}          -0.652320   \n",
       "70   {'SLR__alpha': 100, 'pca__n_components': 150}          -0.557192   \n",
       "71   {'SLR__alpha': 100, 'pca__n_components': 170}          -0.557192   \n",
       "54     {'SLR__alpha': 8, 'pca__n_components': 150}          -0.513021   \n",
       "..                                             ...                ...   \n",
       "40       {'SLR__alpha': 2, 'pca__n_components': 5}          -1.157000   \n",
       "16     {'SLR__alpha': 0.2, 'pca__n_components': 5}          -1.157043   \n",
       "0     {'SLR__alpha': 0.05, 'pca__n_components': 5}          -1.172418   \n",
       "8      {'SLR__alpha': 0.1, 'pca__n_components': 5}          -1.154642   \n",
       "80   {'SLR__alpha': 10000, 'pca__n_components': 5}          -1.219777   \n",
       "\n",
       "    split1_test_score  split2_test_score  split3_test_score  \\\n",
       "79          -0.629464          -1.019701          -0.796638   \n",
       "78          -0.629464          -1.019701          -0.796638   \n",
       "70          -0.551972          -2.032064          -0.668318   \n",
       "71          -0.551972          -2.032064          -0.668318   \n",
       "54          -0.547673          -2.281377          -0.619544   \n",
       "..                ...                ...                ...   \n",
       "40          -1.121837          -1.249321          -1.450368   \n",
       "16          -1.136990          -1.246088          -1.450775   \n",
       "0           -1.109384          -1.263883          -1.438719   \n",
       "8           -1.127810          -1.251138          -1.467245   \n",
       "80          -1.164075          -1.302200          -1.552525   \n",
       "\n",
       "    split4_test_score  split5_test_score  split6_test_score  \\\n",
       "79          -0.838327          -0.623856          -0.605852   \n",
       "78          -0.838327          -0.623856          -0.605852   \n",
       "70          -0.719911          -0.566579          -0.569639   \n",
       "71          -0.719911          -0.566579          -0.569639   \n",
       "54          -0.686219          -0.546546          -0.564497   \n",
       "..                ...                ...                ...   \n",
       "40          -1.458274          -0.967006          -1.165236   \n",
       "16          -1.455424          -0.964422          -1.210761   \n",
       "0           -1.455421          -0.969087          -1.203025   \n",
       "8           -1.473783          -0.957277          -1.182454   \n",
       "80          -1.507328          -1.008765          -1.270378   \n",
       "\n",
       "    split7_test_score  split8_test_score  split9_test_score  mean_test_score  \\\n",
       "79          -0.705903          -0.751369          -0.717822        -0.734125   \n",
       "78          -0.705903          -0.751369          -0.717822        -0.734125   \n",
       "70          -0.613083          -0.671898          -0.616025        -0.756668   \n",
       "71          -0.613083          -0.671898          -0.616025        -0.756668   \n",
       "54          -0.565643          -0.640100          -0.603677        -0.756829   \n",
       "..                ...                ...                ...              ...   \n",
       "40          -1.136080          -1.212425          -1.098784        -1.201633   \n",
       "16          -1.116208          -1.184681          -1.122631        -1.204502   \n",
       "0           -1.118709          -1.211152          -1.110402        -1.205220   \n",
       "8           -1.108764          -1.196499          -1.152461        -1.207207   \n",
       "80          -1.205686          -1.248169          -1.202740        -1.268164   \n",
       "\n",
       "    std_test_score  rank_test_score  \n",
       "79        0.119974                1  \n",
       "78        0.119974                1  \n",
       "70        0.428507                3  \n",
       "71        0.428507                3  \n",
       "54        0.510501                5  \n",
       "..             ...              ...  \n",
       "40        0.144822               84  \n",
       "16        0.143081               85  \n",
       "0         0.142512               86  \n",
       "8         0.150187               87  \n",
       "80        0.151086               88  \n",
       "\n",
       "[88 rows x 20 columns]"
      ]
     },
     "execution_count": 9,
     "metadata": {},
     "output_type": "execute_result"
    }
   ],
   "source": [
    "df = pd.DataFrame(search.cv_results_)\n",
    "df = df.sort_values(by=['rank_test_score'])\n",
    "df"
   ]
  },
  {
   "cell_type": "markdown",
   "metadata": {},
   "source": [
    "# 4. Best Hyperparameter"
   ]
  },
  {
   "cell_type": "code",
   "execution_count": 10,
   "metadata": {},
   "outputs": [
    {
     "name": "stdout",
     "output_type": "stream",
     "text": [
      "{'SLR__alpha': 1000, 'pca__n_components': 170}\n"
     ]
    }
   ],
   "source": [
    "parms = pd.DataFrame(df['params'])\n",
    "for i in parms.iloc[0]:\n",
    "    print(i)"
   ]
  },
  {
   "cell_type": "markdown",
   "metadata": {},
   "source": [
    "# 5. Evaluate Model $log(Sales)$"
   ]
  },
  {
   "cell_type": "code",
   "execution_count": 11,
   "metadata": {},
   "outputs": [],
   "source": [
    "best_pca =parms.iloc[0][0]['pca__n_components']\n",
    "best_alpha=parms.iloc[0][0]['SLR__alpha']"
   ]
  },
  {
   "cell_type": "code",
   "execution_count": 12,
   "metadata": {},
   "outputs": [],
   "source": [
    "X_train1,X_test1,Y_train1,Y_test1 = train_test_split(X_train,Y_train,test_size=0.2,random_state=132)\n"
   ]
  },
  {
   "cell_type": "code",
   "execution_count": 13,
   "metadata": {},
   "outputs": [
    {
     "data": {
      "text/plain": [
       "Ridge(alpha=1000)"
      ]
     },
     "execution_count": 13,
     "metadata": {},
     "output_type": "execute_result"
    }
   ],
   "source": [
    "pca1 = PCA(n_components=100)\n",
    "pca1.fit(X_train1)\n",
    "PX_train1 = pca1.transform(X_train1)\n",
    "SLR1 = Ridge(alpha=best_alpha)\n",
    "SLR1.fit(PX_train1,Y_train1)"
   ]
  },
  {
   "cell_type": "code",
   "execution_count": 14,
   "metadata": {},
   "outputs": [],
   "source": [
    "pca2 = PCA(n_components=100)\n",
    "pca2.fit(X_test1)\n",
    "PX_test1 = pca2.transform(X_test1)"
   ]
  },
  {
   "cell_type": "code",
   "execution_count": 15,
   "metadata": {},
   "outputs": [
    {
     "data": {
      "text/plain": [
       "1.889801076265279"
      ]
     },
     "execution_count": 15,
     "metadata": {},
     "output_type": "execute_result"
    }
   ],
   "source": [
    "MSE(SLR1.predict(PX_test1),Y_test1)"
   ]
  },
  {
   "cell_type": "code",
   "execution_count": 16,
   "metadata": {},
   "outputs": [],
   "source": [
    "result = pd.DataFrame(np.exp(Y_test1))"
   ]
  },
  {
   "cell_type": "code",
   "execution_count": 17,
   "metadata": {},
   "outputs": [],
   "source": [
    "result[\"Predicted_sales\"] = np.exp(SLR1.predict(PX_test1))"
   ]
  },
  {
   "cell_type": "code",
   "execution_count": 18,
   "metadata": {},
   "outputs": [
    {
     "data": {
      "text/plain": [
       "1101.0410836868866"
      ]
     },
     "execution_count": 18,
     "metadata": {},
     "output_type": "execute_result"
    }
   ],
   "source": [
    "MSE(result[\"sales\"],result[\"Predicted_sales\"])"
   ]
  },
  {
   "cell_type": "markdown",
   "metadata": {},
   "source": [
    "# 5.1 Model using original sales data"
   ]
  },
  {
   "cell_type": "code",
   "execution_count": 19,
   "metadata": {},
   "outputs": [],
   "source": [
    "OY_train = pd.read_csv(\"A_sales_train.csv\",index_col=0)"
   ]
  },
  {
   "cell_type": "code",
   "execution_count": 20,
   "metadata": {},
   "outputs": [],
   "source": [
    "X_train2,X_test2,Y_train2,Y_test2 = train_test_split(X_train,OY_train,test_size=0.2,random_state=132)"
   ]
  },
  {
   "cell_type": "code",
   "execution_count": 21,
   "metadata": {},
   "outputs": [
    {
     "data": {
      "text/plain": [
       "Ridge(alpha=1000)"
      ]
     },
     "execution_count": 21,
     "metadata": {},
     "output_type": "execute_result"
    }
   ],
   "source": [
    "pca3 = PCA(n_components=100)\n",
    "pca3.fit(X_train2)\n",
    "PX_train2 = pca3.transform(X_train2)\n",
    "SLR2 = Ridge(alpha=best_alpha)\n",
    "SLR2.fit(PX_train2,Y_train2)"
   ]
  },
  {
   "cell_type": "code",
   "execution_count": 22,
   "metadata": {},
   "outputs": [],
   "source": [
    "pca4 = PCA(n_components=100)\n",
    "pca4.fit(X_test2)\n",
    "PX_test2 = pca4.transform(X_test2)"
   ]
  },
  {
   "cell_type": "code",
   "execution_count": 23,
   "metadata": {},
   "outputs": [
    {
     "data": {
      "text/plain": [
       "1579.490869685305"
      ]
     },
     "execution_count": 23,
     "metadata": {},
     "output_type": "execute_result"
    }
   ],
   "source": [
    "MSE(SLR2.predict(PX_test2),Y_test2)"
   ]
  },
  {
   "cell_type": "markdown",
   "metadata": {},
   "source": [
    "#### Notably model trained on log(Sales) has lower out-of-sample MSE than model with unmodified Sales"
   ]
  },
  {
   "cell_type": "markdown",
   "metadata": {},
   "source": [
    "# 6. Inventory Decision"
   ]
  },
  {
   "cell_type": "code",
   "execution_count": 24,
   "metadata": {},
   "outputs": [],
   "source": [
    "residual = result['sales']-result['Predicted_sales']"
   ]
  },
  {
   "cell_type": "code",
   "execution_count": 25,
   "metadata": {},
   "outputs": [
    {
     "data": {
      "text/plain": [
       "(4, 8)"
      ]
     },
     "execution_count": 25,
     "metadata": {},
     "output_type": "execute_result"
    }
   ],
   "source": [
    "Price=20\n",
    "Cost=12\n",
    "Salvage=8\n",
    "Over=Cost - Salvage\n",
    "Under=Price - Cost\n",
    "Over, Under"
   ]
  },
  {
   "cell_type": "markdown",
   "metadata": {},
   "source": [
    "### QQ plot to explore the distribution of residual"
   ]
  },
  {
   "cell_type": "markdown",
   "metadata": {},
   "source": [
    "#### Normal Distribution"
   ]
  },
  {
   "cell_type": "code",
   "execution_count": 26,
   "metadata": {},
   "outputs": [],
   "source": [
    "import scipy.stats as sct"
   ]
  },
  {
   "cell_type": "code",
   "execution_count": 27,
   "metadata": {},
   "outputs": [
    {
     "data": {
      "image/png": "[encoded data removed]",
      "text/plain": [
       "<Figure size 432x288 with 1 Axes>"
      ]
     },
     "metadata": {
      "needs_background": "light"
     },
     "output_type": "display_data"
    }
   ],
   "source": [
    "import scipy\n",
    "scipy.stats.probplot(residual, dist=\"norm\", plot=plt)\n",
    "plt.show()"
   ]
  },
  {
   "cell_type": "code",
   "execution_count": 28,
   "metadata": {},
   "outputs": [],
   "source": [
    "s = residual.std()\n",
    "opt_dec_N=np.ceil(sct.norm.ppf(Under/(Under+Over))*s + result['Predicted_sales'])"
   ]
  },
  {
   "cell_type": "markdown",
   "metadata": {},
   "source": [
    "#### Exponential Distribution"
   ]
  },
  {
   "cell_type": "code",
   "execution_count": 29,
   "metadata": {},
   "outputs": [
    {
     "data": {
      "image/png": "[encoded data removed]",
      "text/plain": [
       "<Figure size 432x288 with 1 Axes>"
      ]
     },
     "metadata": {
      "needs_background": "light"
     },
     "output_type": "display_data"
    }
   ],
   "source": [
    "scipy.stats.probplot(residual, dist=\"expon\", plot=plt)\n",
    "plt.show()"
   ]
  },
  {
   "cell_type": "code",
   "execution_count": 30,
   "metadata": {},
   "outputs": [],
   "source": [
    "opt_dec_E=np.ceil((-result['Predicted_sales'])*np.log(1-(Under/(Under+Over))))"
   ]
  },
  {
   "cell_type": "markdown",
   "metadata": {},
   "source": [
    "#### Empirical Distribution"
   ]
  },
  {
   "cell_type": "code",
   "execution_count": 31,
   "metadata": {},
   "outputs": [
    {
     "data": {
      "text/plain": [
       "[<matplotlib.lines.Line2D at 0x22d93cd76a0>]"
      ]
     },
     "execution_count": 31,
     "metadata": {},
     "output_type": "execute_result"
    },
    {
     "data": {
      "image/png": "[encoded data removed]",
      "text/plain": [
       "<Figure size 432x288 with 1 Axes>"
      ]
     },
     "metadata": {
      "needs_background": "light"
     },
     "output_type": "display_data"
    }
   ],
   "source": [
    "size = residual.shape[0]\n",
    "step=1/size\n",
    "jumps = [step*i for i in range(1,size+1)]\n",
    "Sample = sorted(residual)\n",
    "plt.plot(Sample,jumps)"
   ]
  },
  {
   "cell_type": "code",
   "execution_count": 32,
   "metadata": {},
   "outputs": [
    {
     "data": {
      "image/png": "[encoded data removed]",
      "text/plain": [
       "<Figure size 432x288 with 1 Axes>"
      ]
     },
     "metadata": {
      "needs_background": "light"
     },
     "output_type": "display_data"
    }
   ],
   "source": [
    "plt.hist(Sample)\n",
    "plt.show()"
   ]
  },
  {
   "cell_type": "code",
   "execution_count": 33,
   "metadata": {},
   "outputs": [],
   "source": [
    "def inv(sample,jump,area):\n",
    "    size = len(sample)\n",
    "    temp=0\n",
    "    i=0\n",
    "    while temp<area:\n",
    "        temp=jump[i]\n",
    "        i+=1\n",
    "    return sample[i]"
   ]
  },
  {
   "cell_type": "code",
   "execution_count": 34,
   "metadata": {},
   "outputs": [
    {
     "data": {
      "text/plain": [
       "7.49886152369427"
      ]
     },
     "execution_count": 34,
     "metadata": {},
     "output_type": "execute_result"
    }
   ],
   "source": [
    "offset = inv(Sample,jumps,2/3)\n",
    "offset"
   ]
  },
  {
   "cell_type": "code",
   "execution_count": 35,
   "metadata": {},
   "outputs": [],
   "source": [
    "opt_dec_B = np.ceil(result['Predicted_sales']+offset)"
   ]
  },
  {
   "cell_type": "markdown",
   "metadata": {},
   "source": [
    "# 7. Out-of-samples Profit"
   ]
  },
  {
   "cell_type": "code",
   "execution_count": 36,
   "metadata": {},
   "outputs": [
    {
     "data": {
      "text/plain": [
       "82096.0"
      ]
     },
     "execution_count": 36,
     "metadata": {},
     "output_type": "execute_result"
    }
   ],
   "source": [
    "#max profit for test data set\n",
    "max_profit = result['sales'].sum()*(Price-Cost)\n",
    "max_profit"
   ]
  },
  {
   "cell_type": "code",
   "execution_count": 37,
   "metadata": {},
   "outputs": [],
   "source": [
    "def profit(demand,inv):\n",
    "    return (Price-Salvage)*np.minimum(demand,inv)-(Cost-Salvage)*inv"
   ]
  },
  {
   "cell_type": "code",
   "execution_count": 38,
   "metadata": {},
   "outputs": [
    {
     "data": {
      "text/plain": [
       "24296.0"
      ]
     },
     "execution_count": 38,
     "metadata": {},
     "output_type": "execute_result"
    }
   ],
   "source": [
    "#Profit (Normal)\n",
    "profit_lst_N = profit(result['sales'],opt_dec_N)\n",
    "profit_lst_N.sum()"
   ]
  },
  {
   "cell_type": "code",
   "execution_count": 39,
   "metadata": {},
   "outputs": [
    {
     "data": {
      "text/plain": [
       "23660.0"
      ]
     },
     "execution_count": 39,
     "metadata": {},
     "output_type": "execute_result"
    }
   ],
   "source": [
    "#Profit (Exponential)\n",
    "profit_lst_E = profit(result['sales'],opt_dec_E)\n",
    "profit_lst_E.sum()"
   ]
  },
  {
   "cell_type": "code",
   "execution_count": 40,
   "metadata": {},
   "outputs": [
    {
     "data": {
      "text/plain": [
       "26084.0"
      ]
     },
     "execution_count": 40,
     "metadata": {},
     "output_type": "execute_result"
    }
   ],
   "source": [
    "#Profit (Empirical)\n",
    "profit_lst_B = profit(result['sales'],opt_dec_B)\n",
    "profit_lst_B.sum()"
   ]
  },
  {
   "cell_type": "markdown",
   "metadata": {},
   "source": [
    "# 8. K-Fold Cross Validation"
   ]
  },
  {
   "cell_type": "markdown",
   "metadata": {},
   "source": [
    "### Repeat steps 5,6,7 with 10-fold cross validation"
   ]
  },
  {
   "cell_type": "code",
   "execution_count": 44,
   "metadata": {},
   "outputs": [],
   "source": [
    "from sklearn.model_selection import KFold\n",
    "k=10\n",
    "kf = KFold(n_splits=k)\n",
    "X_train_t=X_train.to_numpy()\n",
    "Y_train_t=Y_train.to_numpy()\n",
    "model = []\n",
    "mse_lst = []\n",
    "max_profit_lst = []\n",
    "profit_N_lst = []\n",
    "profit_E_lst = []\n",
    "profit_B_lst = []\n",
    "\n",
    "for train_index,test_index in kf.split(X_train_t):\n",
    "    X_train_K,X_test_K=X_train_t[train_index],X_train_t[test_index]\n",
    "    Y_train_K,Y_test_K=Y_train_t[train_index],Y_train_t[test_index]\n",
    "    \n",
    "    #PCA to transform train data\n",
    "    pca_K1 = PCA(n_components=best_pca)\n",
    "    pca_K1.fit(X_train_K)\n",
    "    PX_train_K = pca_K1.transform(X_train_K)\n",
    "    \n",
    "    #Model\n",
    "    SLR_K = Ridge(alpha=best_alpha)\n",
    "    SLR_K.fit(PX_train_K,Y_train_K)\n",
    "    \n",
    "    #pca to transform test data\n",
    "    pca_K2 = PCA(n_components=best_pca)\n",
    "    pca_K2.fit(X_test_K)\n",
    "    PX_test_K = pca_K2.transform(X_test_K)\n",
    "    \n",
    "    #MSE\n",
    "    mse_lst.append(MSE(SLR_K.predict(PX_test_K),Y_test_K))\n",
    "    \n",
    "    #Transform log(sale) back to sale\n",
    "    result_K = pd.DataFrame(np.exp(Y_test_K))\n",
    "    result_K[\"Predicted_sales\"] = np.exp(SLR_K.predict(PX_test_K))\n",
    "    \n",
    "    #Obtain residual\n",
    "    residual_K = result_K[0]-result_K['Predicted_sales']\n",
    "    \n",
    "    #Get std for Normal distribution\n",
    "    s_K = residual.std()\n",
    "    \n",
    "    #Inventory Decision (Normal)\n",
    "    opt_dec_N_K=np.ceil(sct.norm.ppf(Under/(Under+Over))*s_K + result_K['Predicted_sales'])\n",
    "    #Inventory Decision (Exponential)\n",
    "    opt_dec_E_K=np.ceil((-result_K['Predicted_sales'])*np.log(1-(Under/(Under+Over))))\n",
    "    \n",
    "    #Inventory Decision (Empirical Distribution)\n",
    "    size_K = residual_K.shape[0]\n",
    "    step_K=1/size_K\n",
    "    jumps_K = [step_K*i for i in range(1,size+1)]\n",
    "    Sample_K = sorted(residual_K)\n",
    "    offset_K = inv(Sample_K,jumps_K,2/3)\n",
    "    opt_dec_B_K = np.ceil(result_K['Predicted_sales']+offset_K)\n",
    "    \n",
    "    #Out-of_sample profit\n",
    "    profit_lst_B_K = profit(result_K[0],opt_dec_B_K)\n",
    "    profit_B_lst.append(profit_lst_B_K.sum())\n",
    "    \n",
    "    profit_lst_N_K = profit(result_K[0],opt_dec_N_K)\n",
    "    profit_N_lst.append(profit_lst_N_K.sum())\n",
    "    \n",
    "    profit_lst_E_K = profit(result_K[0],opt_dec_E_K)\n",
    "    profit_E_lst.append(profit_lst_E_K.sum())\n",
    "    \n",
    "    max_profit_K = result_K[0].sum()*(Price-Cost)\n",
    "    max_profit_lst.append(max_profit_K)\n",
    "    \n",
    "max_profit_lst = np.array(max_profit_lst)\n",
    "profit_N_lst = np.array(profit_N_lst)\n",
    "profit_E_lst = np.array(profit_E_lst)\n",
    "profit_B_lst = np.array(profit_B_lst)\n",
    "\n",
    "fraction_of_max_N = profit_N_lst/max_profit_lst\n",
    "fraction_of_max_E = profit_E_lst/max_profit_lst\n",
    "fraction_of_max_B = profit_B_lst/max_profit_lst\n",
    "\n",
    "dist_profit = [\"Normal\",\"Exponential\",\"Empirical\",\"Max\"]\n",
    "dist_frac = [\"Normal\",\"Exponential\",\"Empirical\"]\n",
    "col_name = [\"Dataset_\"+str(i) for i in range(1,k+1)]\n",
    "\n",
    "profit_lst = [profit_N_lst,profit_E_lst,profit_B_lst,max_profit_lst]\n",
    "profit_table = pd.DataFrame(profit_lst,index=dist_profit,columns=col_name)\n",
    "profit_table[\"mean_profit\"]=profit_table.mean(axis=1)\n",
    "profit_table[\"std_profit\"]=profit_table.std(ddof=1,axis=1)\n",
    "\n",
    "fraction_lst = [fraction_of_max_N,fraction_of_max_E,fraction_of_max_B]\n",
    "fraction_table = pd.DataFrame(fraction_lst,index=dist_frac,columns=col_name)\n",
    "fraction_table[\"mean_fraction\"]=fraction_table.mean(axis=1)"
   ]
  },
  {
   "cell_type": "code",
   "execution_count": 45,
   "metadata": {},
   "outputs": [
    {
     "data": {
      "text/html": [
       "<div>\n",
       "<style scoped>\n",
       "    .dataframe tbody tr th:only-of-type {\n",
       "        vertical-align: middle;\n",
       "    }\n",
       "\n",
       "    .dataframe tbody tr th {\n",
       "        vertical-align: top;\n",
       "    }\n",
       "\n",
       "    .dataframe thead th {\n",
       "        text-align: right;\n",
       "    }\n",
       "</style>\n",
       "<table border=\"1\" class=\"dataframe\">\n",
       "  <thead>\n",
       "    <tr style=\"text-align: right;\">\n",
       "      <th></th>\n",
       "      <th>Dataset_1</th>\n",
       "      <th>Dataset_2</th>\n",
       "      <th>Dataset_3</th>\n",
       "      <th>Dataset_4</th>\n",
       "      <th>Dataset_5</th>\n",
       "      <th>Dataset_6</th>\n",
       "      <th>Dataset_7</th>\n",
       "      <th>Dataset_8</th>\n",
       "      <th>Dataset_9</th>\n",
       "      <th>Dataset_10</th>\n",
       "      <th>mean_fraction</th>\n",
       "    </tr>\n",
       "  </thead>\n",
       "  <tbody>\n",
       "    <tr>\n",
       "      <th>Normal</th>\n",
       "      <td>0.228977</td>\n",
       "      <td>0.296358</td>\n",
       "      <td>0.072663</td>\n",
       "      <td>0.272446</td>\n",
       "      <td>0.159065</td>\n",
       "      <td>0.250359</td>\n",
       "      <td>0.155040</td>\n",
       "      <td>0.272073</td>\n",
       "      <td>0.281586</td>\n",
       "      <td>0.155686</td>\n",
       "      <td>0.214425</td>\n",
       "    </tr>\n",
       "    <tr>\n",
       "      <th>Exponential</th>\n",
       "      <td>0.207230</td>\n",
       "      <td>0.275234</td>\n",
       "      <td>0.010368</td>\n",
       "      <td>0.252275</td>\n",
       "      <td>0.150685</td>\n",
       "      <td>0.217578</td>\n",
       "      <td>0.124898</td>\n",
       "      <td>0.228968</td>\n",
       "      <td>0.253848</td>\n",
       "      <td>0.144353</td>\n",
       "      <td>0.186544</td>\n",
       "    </tr>\n",
       "    <tr>\n",
       "      <th>Empirical</th>\n",
       "      <td>0.245409</td>\n",
       "      <td>0.315627</td>\n",
       "      <td>0.077415</td>\n",
       "      <td>0.285064</td>\n",
       "      <td>0.179049</td>\n",
       "      <td>0.275456</td>\n",
       "      <td>0.169989</td>\n",
       "      <td>0.277710</td>\n",
       "      <td>0.292054</td>\n",
       "      <td>0.184595</td>\n",
       "      <td>0.230237</td>\n",
       "    </tr>\n",
       "  </tbody>\n",
       "</table>\n",
       "</div>"
      ],
      "text/plain": [
       "             Dataset_1  Dataset_2  Dataset_3  Dataset_4  Dataset_5  Dataset_6  \\\n",
       "Normal        0.228977   0.296358   0.072663   0.272446   0.159065   0.250359   \n",
       "Exponential   0.207230   0.275234   0.010368   0.252275   0.150685   0.217578   \n",
       "Empirical     0.245409   0.315627   0.077415   0.285064   0.179049   0.275456   \n",
       "\n",
       "             Dataset_7  Dataset_8  Dataset_9  Dataset_10  mean_fraction  \n",
       "Normal        0.155040   0.272073   0.281586    0.155686       0.214425  \n",
       "Exponential   0.124898   0.228968   0.253848    0.144353       0.186544  \n",
       "Empirical     0.169989   0.277710   0.292054    0.184595       0.230237  "
      ]
     },
     "execution_count": 45,
     "metadata": {},
     "output_type": "execute_result"
    }
   ],
   "source": [
    "fraction_table"
   ]
  },
  {
   "cell_type": "code",
   "execution_count": 46,
   "metadata": {},
   "outputs": [
    {
     "data": {
      "text/html": [
       "<div>\n",
       "<style scoped>\n",
       "    .dataframe tbody tr th:only-of-type {\n",
       "        vertical-align: middle;\n",
       "    }\n",
       "\n",
       "    .dataframe tbody tr th {\n",
       "        vertical-align: top;\n",
       "    }\n",
       "\n",
       "    .dataframe thead th {\n",
       "        text-align: right;\n",
       "    }\n",
       "</style>\n",
       "<table border=\"1\" class=\"dataframe\">\n",
       "  <thead>\n",
       "    <tr style=\"text-align: right;\">\n",
       "      <th></th>\n",
       "      <th>Dataset_1</th>\n",
       "      <th>Dataset_2</th>\n",
       "      <th>Dataset_3</th>\n",
       "      <th>Dataset_4</th>\n",
       "      <th>Dataset_5</th>\n",
       "      <th>Dataset_6</th>\n",
       "      <th>Dataset_7</th>\n",
       "      <th>Dataset_8</th>\n",
       "      <th>Dataset_9</th>\n",
       "      <th>Dataset_10</th>\n",
       "      <th>mean_profit</th>\n",
       "      <th>std_profit</th>\n",
       "    </tr>\n",
       "  </thead>\n",
       "  <tbody>\n",
       "    <tr>\n",
       "      <th>Normal</th>\n",
       "      <td>9476.0</td>\n",
       "      <td>13412.0</td>\n",
       "      <td>3364.0</td>\n",
       "      <td>12696.0</td>\n",
       "      <td>7896.0</td>\n",
       "      <td>9776.0</td>\n",
       "      <td>7592.0</td>\n",
       "      <td>12548.0</td>\n",
       "      <td>12588.0</td>\n",
       "      <td>6484.0</td>\n",
       "      <td>9583.2</td>\n",
       "      <td>3119.483444</td>\n",
       "    </tr>\n",
       "    <tr>\n",
       "      <th>Exponential</th>\n",
       "      <td>8576.0</td>\n",
       "      <td>12456.0</td>\n",
       "      <td>480.0</td>\n",
       "      <td>11756.0</td>\n",
       "      <td>7480.0</td>\n",
       "      <td>8496.0</td>\n",
       "      <td>6116.0</td>\n",
       "      <td>10560.0</td>\n",
       "      <td>11348.0</td>\n",
       "      <td>6012.0</td>\n",
       "      <td>8328.0</td>\n",
       "      <td>3399.272393</td>\n",
       "    </tr>\n",
       "    <tr>\n",
       "      <th>Empirical</th>\n",
       "      <td>10156.0</td>\n",
       "      <td>14284.0</td>\n",
       "      <td>3584.0</td>\n",
       "      <td>13284.0</td>\n",
       "      <td>8888.0</td>\n",
       "      <td>10756.0</td>\n",
       "      <td>8324.0</td>\n",
       "      <td>12808.0</td>\n",
       "      <td>13056.0</td>\n",
       "      <td>7688.0</td>\n",
       "      <td>10282.8</td>\n",
       "      <td>3109.876936</td>\n",
       "    </tr>\n",
       "    <tr>\n",
       "      <th>Max</th>\n",
       "      <td>41384.0</td>\n",
       "      <td>45256.0</td>\n",
       "      <td>46296.0</td>\n",
       "      <td>46600.0</td>\n",
       "      <td>49640.0</td>\n",
       "      <td>39048.0</td>\n",
       "      <td>48968.0</td>\n",
       "      <td>46120.0</td>\n",
       "      <td>44704.0</td>\n",
       "      <td>41648.0</td>\n",
       "      <td>44966.4</td>\n",
       "      <td>3203.875254</td>\n",
       "    </tr>\n",
       "  </tbody>\n",
       "</table>\n",
       "</div>"
      ],
      "text/plain": [
       "             Dataset_1  Dataset_2  Dataset_3  Dataset_4  Dataset_5  Dataset_6  \\\n",
       "Normal          9476.0    13412.0     3364.0    12696.0     7896.0     9776.0   \n",
       "Exponential     8576.0    12456.0      480.0    11756.0     7480.0     8496.0   \n",
       "Empirical      10156.0    14284.0     3584.0    13284.0     8888.0    10756.0   \n",
       "Max            41384.0    45256.0    46296.0    46600.0    49640.0    39048.0   \n",
       "\n",
       "             Dataset_7  Dataset_8  Dataset_9  Dataset_10  mean_profit  \\\n",
       "Normal          7592.0    12548.0    12588.0      6484.0       9583.2   \n",
       "Exponential     6116.0    10560.0    11348.0      6012.0       8328.0   \n",
       "Empirical       8324.0    12808.0    13056.0      7688.0      10282.8   \n",
       "Max            48968.0    46120.0    44704.0     41648.0      44966.4   \n",
       "\n",
       "              std_profit  \n",
       "Normal       3119.483444  \n",
       "Exponential  3399.272393  \n",
       "Empirical    3109.876936  \n",
       "Max          3203.875254  "
      ]
     },
     "execution_count": 46,
     "metadata": {},
     "output_type": "execute_result"
    }
   ],
   "source": [
    "profit_table"
   ]
  },
  {
   "cell_type": "code",
   "execution_count": null,
   "metadata": {},
   "outputs": [],
   "source": []
  }
 ],
 "metadata": {
  "kernelspec": {
   "display_name": "Python 3",
   "language": "python",
   "name": "python3"
  },
  "language_info": {
   "codemirror_mode": {
    "name": "ipython",
    "version": 3
   },
   "file_extension": ".py",
   "mimetype": "text/x-python",
   "name": "python",
   "nbconvert_exporter": "python",
   "pygments_lexer": "ipython3",
   "version": "3.8.5"
  }
 },
 "nbformat": 4,
 "nbformat_minor": 4
}
