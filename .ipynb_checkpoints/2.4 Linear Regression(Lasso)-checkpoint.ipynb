{
 "cells": [
  {
   "cell_type": "code",
   "execution_count": 1,
   "metadata": {},
   "outputs": [],
   "source": [
    "import pandas as pd\n",
    "import numpy as np\n",
    "import matplotlib.pyplot as plt\n",
    "from sklearn.pipeline import Pipeline\n",
    "from sklearn.model_selection import GridSearchCV\n",
    "from sklearn.decomposition import PCA\n",
    "from sklearn.metrics import mean_squared_error as MSE\n",
    "from sklearn.linear_model import LinearRegression\n",
    "from sklearn.preprocessing import PolynomialFeatures\n",
    "from sklearn.model_selection import train_test_split\n",
    "from sklearn.linear_model import Lasso"
   ]
  },
  {
   "cell_type": "markdown",
   "metadata": {},
   "source": [
    "# 1. Import the train datasets"
   ]
  },
  {
   "cell_type": "code",
   "execution_count": 2,
   "metadata": {},
   "outputs": [],
   "source": [
    "X_train = pd.read_csv(\"A_Normalised_train_data.csv\",index_col=0)\n",
    "Y_train = pd.read_csv(\"A_Log_sales_train.csv\",index_col=0)"
   ]
  },
  {
   "cell_type": "code",
   "execution_count": 3,
   "metadata": {},
   "outputs": [],
   "source": [
    "Model_1 = Lasso()"
   ]
  },
  {
   "cell_type": "markdown",
   "metadata": {},
   "source": [
    "# 2. Setup Pipeline"
   ]
  },
  {
   "cell_type": "code",
   "execution_count": 4,
   "metadata": {},
   "outputs": [],
   "source": [
    "pca=PCA()\n",
    "SLR = Model_1"
   ]
  },
  {
   "cell_type": "code",
   "execution_count": 5,
   "metadata": {},
   "outputs": [],
   "source": [
    "# Step 1: PCA\n",
    "# Step 2: Model\n",
    "pipe = Pipeline(steps=[(\"pca\",pca),(\"SLR\",SLR)])"
   ]
  },
  {
   "cell_type": "code",
   "execution_count": 6,
   "metadata": {},
   "outputs": [],
   "source": [
    "param_grid = {\n",
    "    \"pca__n_components\": [5, 10, 30, 45, 60, 100 ,150 ,170],\n",
    "    \"SLR__alpha\":[0.05,0.1,0.2,0.5,1,2,8,10,100,1000,10000]\n",
    "}"
   ]
  },
  {
   "cell_type": "markdown",
   "metadata": {},
   "source": [
    "# 3. Setup GridSearch"
   ]
  },
  {
   "cell_type": "code",
   "execution_count": 7,
   "metadata": {},
   "outputs": [],
   "source": [
    "score_metric = 'neg_mean_squared_error'\n",
    "search = GridSearchCV(pipe,param_grid,\n",
    "                      n_jobs=-1,\n",
    "                      cv=10,\n",
    "                      scoring=score_metric)"
   ]
  },
  {
   "cell_type": "code",
   "execution_count": 8,
   "metadata": {},
   "outputs": [
    {
     "data": {
      "text/plain": [
       "GridSearchCV(cv=10,\n",
       "             estimator=Pipeline(steps=[('pca', PCA()), ('SLR', Lasso())]),\n",
       "             n_jobs=-1,\n",
       "             param_grid={'SLR__alpha': [0.05, 0.1, 0.2, 0.5, 1, 2, 8, 10, 100,\n",
       "                                        1000, 10000],\n",
       "                         'pca__n_components': [5, 10, 30, 45, 60, 100, 150,\n",
       "                                               170]},\n",
       "             scoring='neg_mean_squared_error')"
      ]
     },
     "execution_count": 8,
     "metadata": {},
     "output_type": "execute_result"
    }
   ],
   "source": [
    "search.fit(X_train,Y_train)"
   ]
  },
  {
   "cell_type": "code",
   "execution_count": 9,
   "metadata": {},
   "outputs": [
    {
     "name": "stdout",
     "output_type": "stream",
     "text": [
      "Best parameter (CV score=-0.858):\n",
      "{'SLR__alpha': 0.05, 'pca__n_components': 100}\n"
     ]
    }
   ],
   "source": [
    "print(\"Best parameter (CV score=%0.3f):\" % search.best_score_)\n",
    "print(search.best_params_)"
   ]
  },
  {
   "cell_type": "code",
   "execution_count": 10,
   "metadata": {},
   "outputs": [
    {
     "data": {
      "text/html": [
       "<div>\n",
       "<style scoped>\n",
       "    .dataframe tbody tr th:only-of-type {\n",
       "        vertical-align: middle;\n",
       "    }\n",
       "\n",
       "    .dataframe tbody tr th {\n",
       "        vertical-align: top;\n",
       "    }\n",
       "\n",
       "    .dataframe thead th {\n",
       "        text-align: right;\n",
       "    }\n",
       "</style>\n",
       "<table border=\"1\" class=\"dataframe\">\n",
       "  <thead>\n",
       "    <tr style=\"text-align: right;\">\n",
       "      <th></th>\n",
       "      <th>mean_fit_time</th>\n",
       "      <th>std_fit_time</th>\n",
       "      <th>mean_score_time</th>\n",
       "      <th>std_score_time</th>\n",
       "      <th>param_SLR__alpha</th>\n",
       "      <th>param_pca__n_components</th>\n",
       "      <th>params</th>\n",
       "      <th>split0_test_score</th>\n",
       "      <th>split1_test_score</th>\n",
       "      <th>split2_test_score</th>\n",
       "      <th>split3_test_score</th>\n",
       "      <th>split4_test_score</th>\n",
       "      <th>split5_test_score</th>\n",
       "      <th>split6_test_score</th>\n",
       "      <th>split7_test_score</th>\n",
       "      <th>split8_test_score</th>\n",
       "      <th>split9_test_score</th>\n",
       "      <th>mean_test_score</th>\n",
       "      <th>std_test_score</th>\n",
       "      <th>rank_test_score</th>\n",
       "    </tr>\n",
       "  </thead>\n",
       "  <tbody>\n",
       "    <tr>\n",
       "      <th>5</th>\n",
       "      <td>0.188361</td>\n",
       "      <td>0.025711</td>\n",
       "      <td>0.008819</td>\n",
       "      <td>0.005846</td>\n",
       "      <td>0.05</td>\n",
       "      <td>100</td>\n",
       "      <td>{'SLR__alpha': 0.05, 'pca__n_components': 100}</td>\n",
       "      <td>-0.778592</td>\n",
       "      <td>-0.820293</td>\n",
       "      <td>-0.948021</td>\n",
       "      <td>-0.931143</td>\n",
       "      <td>-1.023846</td>\n",
       "      <td>-0.710388</td>\n",
       "      <td>-0.757798</td>\n",
       "      <td>-0.851674</td>\n",
       "      <td>-0.880620</td>\n",
       "      <td>-0.881875</td>\n",
       "      <td>-0.858425</td>\n",
       "      <td>0.090352</td>\n",
       "      <td>1</td>\n",
       "    </tr>\n",
       "    <tr>\n",
       "      <th>6</th>\n",
       "      <td>0.108599</td>\n",
       "      <td>0.023118</td>\n",
       "      <td>0.011939</td>\n",
       "      <td>0.004317</td>\n",
       "      <td>0.05</td>\n",
       "      <td>150</td>\n",
       "      <td>{'SLR__alpha': 0.05, 'pca__n_components': 150}</td>\n",
       "      <td>-0.730444</td>\n",
       "      <td>-0.748982</td>\n",
       "      <td>-1.489613</td>\n",
       "      <td>-0.924766</td>\n",
       "      <td>-0.947118</td>\n",
       "      <td>-0.667845</td>\n",
       "      <td>-0.687494</td>\n",
       "      <td>-0.798476</td>\n",
       "      <td>-0.835862</td>\n",
       "      <td>-0.808362</td>\n",
       "      <td>-0.863896</td>\n",
       "      <td>0.226024</td>\n",
       "      <td>2</td>\n",
       "    </tr>\n",
       "    <tr>\n",
       "      <th>7</th>\n",
       "      <td>0.121082</td>\n",
       "      <td>0.035106</td>\n",
       "      <td>0.010771</td>\n",
       "      <td>0.003116</td>\n",
       "      <td>0.05</td>\n",
       "      <td>170</td>\n",
       "      <td>{'SLR__alpha': 0.05, 'pca__n_components': 170}</td>\n",
       "      <td>-0.730444</td>\n",
       "      <td>-0.748982</td>\n",
       "      <td>-1.489613</td>\n",
       "      <td>-0.924766</td>\n",
       "      <td>-0.947118</td>\n",
       "      <td>-0.667845</td>\n",
       "      <td>-0.687494</td>\n",
       "      <td>-0.798476</td>\n",
       "      <td>-0.835862</td>\n",
       "      <td>-0.808362</td>\n",
       "      <td>-0.863896</td>\n",
       "      <td>0.226024</td>\n",
       "      <td>2</td>\n",
       "    </tr>\n",
       "    <tr>\n",
       "      <th>4</th>\n",
       "      <td>0.122171</td>\n",
       "      <td>0.017142</td>\n",
       "      <td>0.012737</td>\n",
       "      <td>0.003783</td>\n",
       "      <td>0.05</td>\n",
       "      <td>60</td>\n",
       "      <td>{'SLR__alpha': 0.05, 'pca__n_components': 60}</td>\n",
       "      <td>-0.825792</td>\n",
       "      <td>-0.850805</td>\n",
       "      <td>-0.989824</td>\n",
       "      <td>-0.925656</td>\n",
       "      <td>-1.023661</td>\n",
       "      <td>-0.710386</td>\n",
       "      <td>-0.738987</td>\n",
       "      <td>-0.855803</td>\n",
       "      <td>-0.890365</td>\n",
       "      <td>-0.903790</td>\n",
       "      <td>-0.871507</td>\n",
       "      <td>0.093684</td>\n",
       "      <td>4</td>\n",
       "    </tr>\n",
       "    <tr>\n",
       "      <th>3</th>\n",
       "      <td>0.102127</td>\n",
       "      <td>0.016323</td>\n",
       "      <td>0.013863</td>\n",
       "      <td>0.008144</td>\n",
       "      <td>0.05</td>\n",
       "      <td>45</td>\n",
       "      <td>{'SLR__alpha': 0.05, 'pca__n_components': 45}</td>\n",
       "      <td>-0.794026</td>\n",
       "      <td>-0.852261</td>\n",
       "      <td>-0.988018</td>\n",
       "      <td>-0.992646</td>\n",
       "      <td>-1.038683</td>\n",
       "      <td>-0.754423</td>\n",
       "      <td>-0.795769</td>\n",
       "      <td>-0.883546</td>\n",
       "      <td>-0.905664</td>\n",
       "      <td>-0.953940</td>\n",
       "      <td>-0.895898</td>\n",
       "      <td>0.091746</td>\n",
       "      <td>5</td>\n",
       "    </tr>\n",
       "    <tr>\n",
       "      <th>...</th>\n",
       "      <td>...</td>\n",
       "      <td>...</td>\n",
       "      <td>...</td>\n",
       "      <td>...</td>\n",
       "      <td>...</td>\n",
       "      <td>...</td>\n",
       "      <td>...</td>\n",
       "      <td>...</td>\n",
       "      <td>...</td>\n",
       "      <td>...</td>\n",
       "      <td>...</td>\n",
       "      <td>...</td>\n",
       "      <td>...</td>\n",
       "      <td>...</td>\n",
       "      <td>...</td>\n",
       "      <td>...</td>\n",
       "      <td>...</td>\n",
       "      <td>...</td>\n",
       "      <td>...</td>\n",
       "      <td>...</td>\n",
       "    </tr>\n",
       "    <tr>\n",
       "      <th>54</th>\n",
       "      <td>0.119053</td>\n",
       "      <td>0.021268</td>\n",
       "      <td>0.005480</td>\n",
       "      <td>0.007488</td>\n",
       "      <td>8</td>\n",
       "      <td>150</td>\n",
       "      <td>{'SLR__alpha': 8, 'pca__n_components': 150}</td>\n",
       "      <td>-1.335629</td>\n",
       "      <td>-1.278040</td>\n",
       "      <td>-1.387610</td>\n",
       "      <td>-1.688652</td>\n",
       "      <td>-1.626386</td>\n",
       "      <td>-1.130144</td>\n",
       "      <td>-1.393647</td>\n",
       "      <td>-1.347467</td>\n",
       "      <td>-1.382383</td>\n",
       "      <td>-1.351740</td>\n",
       "      <td>-1.392170</td>\n",
       "      <td>0.152115</td>\n",
       "      <td>33</td>\n",
       "    </tr>\n",
       "    <tr>\n",
       "      <th>55</th>\n",
       "      <td>0.096092</td>\n",
       "      <td>0.019373</td>\n",
       "      <td>0.013385</td>\n",
       "      <td>0.003924</td>\n",
       "      <td>8</td>\n",
       "      <td>170</td>\n",
       "      <td>{'SLR__alpha': 8, 'pca__n_components': 170}</td>\n",
       "      <td>-1.335629</td>\n",
       "      <td>-1.278040</td>\n",
       "      <td>-1.387610</td>\n",
       "      <td>-1.688652</td>\n",
       "      <td>-1.626386</td>\n",
       "      <td>-1.130144</td>\n",
       "      <td>-1.393647</td>\n",
       "      <td>-1.347467</td>\n",
       "      <td>-1.382383</td>\n",
       "      <td>-1.351740</td>\n",
       "      <td>-1.392170</td>\n",
       "      <td>0.152115</td>\n",
       "      <td>33</td>\n",
       "    </tr>\n",
       "    <tr>\n",
       "      <th>56</th>\n",
       "      <td>0.074826</td>\n",
       "      <td>0.013139</td>\n",
       "      <td>0.011695</td>\n",
       "      <td>0.008441</td>\n",
       "      <td>10</td>\n",
       "      <td>5</td>\n",
       "      <td>{'SLR__alpha': 10, 'pca__n_components': 5}</td>\n",
       "      <td>-1.335629</td>\n",
       "      <td>-1.278040</td>\n",
       "      <td>-1.387610</td>\n",
       "      <td>-1.688652</td>\n",
       "      <td>-1.626386</td>\n",
       "      <td>-1.130144</td>\n",
       "      <td>-1.393647</td>\n",
       "      <td>-1.347467</td>\n",
       "      <td>-1.382383</td>\n",
       "      <td>-1.351740</td>\n",
       "      <td>-1.392170</td>\n",
       "      <td>0.152115</td>\n",
       "      <td>33</td>\n",
       "    </tr>\n",
       "    <tr>\n",
       "      <th>58</th>\n",
       "      <td>0.093373</td>\n",
       "      <td>0.028475</td>\n",
       "      <td>0.012248</td>\n",
       "      <td>0.004935</td>\n",
       "      <td>10</td>\n",
       "      <td>30</td>\n",
       "      <td>{'SLR__alpha': 10, 'pca__n_components': 30}</td>\n",
       "      <td>-1.335629</td>\n",
       "      <td>-1.278040</td>\n",
       "      <td>-1.387610</td>\n",
       "      <td>-1.688652</td>\n",
       "      <td>-1.626386</td>\n",
       "      <td>-1.130144</td>\n",
       "      <td>-1.393647</td>\n",
       "      <td>-1.347467</td>\n",
       "      <td>-1.382383</td>\n",
       "      <td>-1.351740</td>\n",
       "      <td>-1.392170</td>\n",
       "      <td>0.152115</td>\n",
       "      <td>33</td>\n",
       "    </tr>\n",
       "    <tr>\n",
       "      <th>87</th>\n",
       "      <td>0.091169</td>\n",
       "      <td>0.018400</td>\n",
       "      <td>0.011266</td>\n",
       "      <td>0.006120</td>\n",
       "      <td>10000</td>\n",
       "      <td>170</td>\n",
       "      <td>{'SLR__alpha': 10000, 'pca__n_components': 170}</td>\n",
       "      <td>-1.335629</td>\n",
       "      <td>-1.278040</td>\n",
       "      <td>-1.387610</td>\n",
       "      <td>-1.688652</td>\n",
       "      <td>-1.626386</td>\n",
       "      <td>-1.130144</td>\n",
       "      <td>-1.393647</td>\n",
       "      <td>-1.347467</td>\n",
       "      <td>-1.382383</td>\n",
       "      <td>-1.351740</td>\n",
       "      <td>-1.392170</td>\n",
       "      <td>0.152115</td>\n",
       "      <td>33</td>\n",
       "    </tr>\n",
       "  </tbody>\n",
       "</table>\n",
       "<p>88 rows × 20 columns</p>\n",
       "</div>"
      ],
      "text/plain": [
       "    mean_fit_time  std_fit_time  mean_score_time  std_score_time  \\\n",
       "5        0.188361      0.025711         0.008819        0.005846   \n",
       "6        0.108599      0.023118         0.011939        0.004317   \n",
       "7        0.121082      0.035106         0.010771        0.003116   \n",
       "4        0.122171      0.017142         0.012737        0.003783   \n",
       "3        0.102127      0.016323         0.013863        0.008144   \n",
       "..            ...           ...              ...             ...   \n",
       "54       0.119053      0.021268         0.005480        0.007488   \n",
       "55       0.096092      0.019373         0.013385        0.003924   \n",
       "56       0.074826      0.013139         0.011695        0.008441   \n",
       "58       0.093373      0.028475         0.012248        0.004935   \n",
       "87       0.091169      0.018400         0.011266        0.006120   \n",
       "\n",
       "   param_SLR__alpha param_pca__n_components  \\\n",
       "5              0.05                     100   \n",
       "6              0.05                     150   \n",
       "7              0.05                     170   \n",
       "4              0.05                      60   \n",
       "3              0.05                      45   \n",
       "..              ...                     ...   \n",
       "54                8                     150   \n",
       "55                8                     170   \n",
       "56               10                       5   \n",
       "58               10                      30   \n",
       "87            10000                     170   \n",
       "\n",
       "                                             params  split0_test_score  \\\n",
       "5    {'SLR__alpha': 0.05, 'pca__n_components': 100}          -0.778592   \n",
       "6    {'SLR__alpha': 0.05, 'pca__n_components': 150}          -0.730444   \n",
       "7    {'SLR__alpha': 0.05, 'pca__n_components': 170}          -0.730444   \n",
       "4     {'SLR__alpha': 0.05, 'pca__n_components': 60}          -0.825792   \n",
       "3     {'SLR__alpha': 0.05, 'pca__n_components': 45}          -0.794026   \n",
       "..                                              ...                ...   \n",
       "54      {'SLR__alpha': 8, 'pca__n_components': 150}          -1.335629   \n",
       "55      {'SLR__alpha': 8, 'pca__n_components': 170}          -1.335629   \n",
       "56       {'SLR__alpha': 10, 'pca__n_components': 5}          -1.335629   \n",
       "58      {'SLR__alpha': 10, 'pca__n_components': 30}          -1.335629   \n",
       "87  {'SLR__alpha': 10000, 'pca__n_components': 170}          -1.335629   \n",
       "\n",
       "    split1_test_score  split2_test_score  split3_test_score  \\\n",
       "5           -0.820293          -0.948021          -0.931143   \n",
       "6           -0.748982          -1.489613          -0.924766   \n",
       "7           -0.748982          -1.489613          -0.924766   \n",
       "4           -0.850805          -0.989824          -0.925656   \n",
       "3           -0.852261          -0.988018          -0.992646   \n",
       "..                ...                ...                ...   \n",
       "54          -1.278040          -1.387610          -1.688652   \n",
       "55          -1.278040          -1.387610          -1.688652   \n",
       "56          -1.278040          -1.387610          -1.688652   \n",
       "58          -1.278040          -1.387610          -1.688652   \n",
       "87          -1.278040          -1.387610          -1.688652   \n",
       "\n",
       "    split4_test_score  split5_test_score  split6_test_score  \\\n",
       "5           -1.023846          -0.710388          -0.757798   \n",
       "6           -0.947118          -0.667845          -0.687494   \n",
       "7           -0.947118          -0.667845          -0.687494   \n",
       "4           -1.023661          -0.710386          -0.738987   \n",
       "3           -1.038683          -0.754423          -0.795769   \n",
       "..                ...                ...                ...   \n",
       "54          -1.626386          -1.130144          -1.393647   \n",
       "55          -1.626386          -1.130144          -1.393647   \n",
       "56          -1.626386          -1.130144          -1.393647   \n",
       "58          -1.626386          -1.130144          -1.393647   \n",
       "87          -1.626386          -1.130144          -1.393647   \n",
       "\n",
       "    split7_test_score  split8_test_score  split9_test_score  mean_test_score  \\\n",
       "5           -0.851674          -0.880620          -0.881875        -0.858425   \n",
       "6           -0.798476          -0.835862          -0.808362        -0.863896   \n",
       "7           -0.798476          -0.835862          -0.808362        -0.863896   \n",
       "4           -0.855803          -0.890365          -0.903790        -0.871507   \n",
       "3           -0.883546          -0.905664          -0.953940        -0.895898   \n",
       "..                ...                ...                ...              ...   \n",
       "54          -1.347467          -1.382383          -1.351740        -1.392170   \n",
       "55          -1.347467          -1.382383          -1.351740        -1.392170   \n",
       "56          -1.347467          -1.382383          -1.351740        -1.392170   \n",
       "58          -1.347467          -1.382383          -1.351740        -1.392170   \n",
       "87          -1.347467          -1.382383          -1.351740        -1.392170   \n",
       "\n",
       "    std_test_score  rank_test_score  \n",
       "5         0.090352                1  \n",
       "6         0.226024                2  \n",
       "7         0.226024                2  \n",
       "4         0.093684                4  \n",
       "3         0.091746                5  \n",
       "..             ...              ...  \n",
       "54        0.152115               33  \n",
       "55        0.152115               33  \n",
       "56        0.152115               33  \n",
       "58        0.152115               33  \n",
       "87        0.152115               33  \n",
       "\n",
       "[88 rows x 20 columns]"
      ]
     },
     "execution_count": 10,
     "metadata": {},
     "output_type": "execute_result"
    }
   ],
   "source": [
    "df = pd.DataFrame(search.cv_results_)\n",
    "df = df.sort_values(by=['rank_test_score'])\n",
    "df"
   ]
  },
  {
   "cell_type": "markdown",
   "metadata": {},
   "source": [
    "# 4. Best Hyperparameter"
   ]
  },
  {
   "cell_type": "code",
   "execution_count": 11,
   "metadata": {},
   "outputs": [
    {
     "name": "stdout",
     "output_type": "stream",
     "text": [
      "{'SLR__alpha': 0.05, 'pca__n_components': 100}\n"
     ]
    }
   ],
   "source": [
    "parms = pd.DataFrame(df['params'])\n",
    "for i in parms.iloc[0]:\n",
    "    print(i)"
   ]
  },
  {
   "cell_type": "markdown",
   "metadata": {},
   "source": [
    "# 5. Evaluate Model $log(Sales)$"
   ]
  },
  {
   "cell_type": "code",
   "execution_count": 12,
   "metadata": {},
   "outputs": [],
   "source": [
    "best_pca =parms.iloc[0][0]['pca__n_components']\n",
    "best_alpha=parms.iloc[0][0]['SLR__alpha']"
   ]
  },
  {
   "cell_type": "code",
   "execution_count": 13,
   "metadata": {},
   "outputs": [],
   "source": [
    "Model_2 = Lasso(alpha=best_alpha)"
   ]
  },
  {
   "cell_type": "code",
   "execution_count": 14,
   "metadata": {},
   "outputs": [],
   "source": [
    "X_train1,X_test1,Y_train1,Y_test1 = train_test_split(X_train,Y_train,test_size=0.2,random_state=132)\n"
   ]
  },
  {
   "cell_type": "code",
   "execution_count": 15,
   "metadata": {},
   "outputs": [
    {
     "data": {
      "text/plain": [
       "Lasso(alpha=0.05)"
      ]
     },
     "execution_count": 15,
     "metadata": {},
     "output_type": "execute_result"
    }
   ],
   "source": [
    "pca1 = PCA(n_components=100)\n",
    "pca1.fit(X_train1)\n",
    "PX_train1 = pca1.transform(X_train1)\n",
    "SLR1 = Model_2\n",
    "SLR1.fit(PX_train1,Y_train1)"
   ]
  },
  {
   "cell_type": "code",
   "execution_count": 16,
   "metadata": {},
   "outputs": [],
   "source": [
    "pca2 = PCA(n_components=100)\n",
    "pca2.fit(X_test1)\n",
    "PX_test1 = pca2.transform(X_test1)"
   ]
  },
  {
   "cell_type": "code",
   "execution_count": 17,
   "metadata": {},
   "outputs": [
    {
     "data": {
      "text/plain": [
       "1.887289829447705"
      ]
     },
     "execution_count": 17,
     "metadata": {},
     "output_type": "execute_result"
    }
   ],
   "source": [
    "MSE(SLR1.predict(PX_test1),Y_test1)"
   ]
  },
  {
   "cell_type": "code",
   "execution_count": 18,
   "metadata": {},
   "outputs": [],
   "source": [
    "result = pd.DataFrame(np.exp(Y_test1))"
   ]
  },
  {
   "cell_type": "code",
   "execution_count": 19,
   "metadata": {},
   "outputs": [],
   "source": [
    "result[\"Predicted_sales\"] = np.exp(SLR1.predict(PX_test1))"
   ]
  },
  {
   "cell_type": "code",
   "execution_count": 20,
   "metadata": {},
   "outputs": [
    {
     "data": {
      "text/plain": [
       "1101.8420612076354"
      ]
     },
     "execution_count": 20,
     "metadata": {},
     "output_type": "execute_result"
    }
   ],
   "source": [
    "MSE(result[\"sales\"],result[\"Predicted_sales\"])"
   ]
  },
  {
   "cell_type": "markdown",
   "metadata": {},
   "source": [
    "# 5.1 Model using original sales data"
   ]
  },
  {
   "cell_type": "code",
   "execution_count": 21,
   "metadata": {},
   "outputs": [],
   "source": [
    "Model_3 = Lasso(alpha=best_alpha)"
   ]
  },
  {
   "cell_type": "code",
   "execution_count": 22,
   "metadata": {},
   "outputs": [],
   "source": [
    "OY_train = pd.read_csv(\"A_sales_train.csv\",index_col=0)"
   ]
  },
  {
   "cell_type": "code",
   "execution_count": 23,
   "metadata": {},
   "outputs": [],
   "source": [
    "X_train2,X_test2,Y_train2,Y_test2 = train_test_split(X_train,OY_train,test_size=0.2,random_state=132)"
   ]
  },
  {
   "cell_type": "code",
   "execution_count": 24,
   "metadata": {},
   "outputs": [
    {
     "data": {
      "text/plain": [
       "Lasso(alpha=0.05)"
      ]
     },
     "execution_count": 24,
     "metadata": {},
     "output_type": "execute_result"
    }
   ],
   "source": [
    "pca3 = PCA(n_components=100)\n",
    "pca3.fit(X_train2)\n",
    "PX_train2 = pca3.transform(X_train2)\n",
    "SLR2 = Model_3\n",
    "SLR2.fit(PX_train2,Y_train2)"
   ]
  },
  {
   "cell_type": "code",
   "execution_count": 25,
   "metadata": {},
   "outputs": [],
   "source": [
    "pca4 = PCA(n_components=100)\n",
    "pca4.fit(X_test2)\n",
    "PX_test2 = pca4.transform(X_test2)"
   ]
  },
  {
   "cell_type": "code",
   "execution_count": 26,
   "metadata": {},
   "outputs": [
    {
     "data": {
      "text/plain": [
       "1893.5239267230384"
      ]
     },
     "execution_count": 26,
     "metadata": {},
     "output_type": "execute_result"
    }
   ],
   "source": [
    "MSE(SLR2.predict(PX_test2),Y_test2)"
   ]
  },
  {
   "cell_type": "markdown",
   "metadata": {},
   "source": [
    "#### Notably model trained on log(Sales) has lower out-of-sample MSE than model with unmodified Sales"
   ]
  },
  {
   "cell_type": "markdown",
   "metadata": {},
   "source": [
    "# 6. Inventory Decision"
   ]
  },
  {
   "cell_type": "code",
   "execution_count": 27,
   "metadata": {},
   "outputs": [],
   "source": [
    "residual = result['sales']-result['Predicted_sales']"
   ]
  },
  {
   "cell_type": "code",
   "execution_count": 28,
   "metadata": {},
   "outputs": [
    {
     "data": {
      "text/plain": [
       "(4, 8)"
      ]
     },
     "execution_count": 28,
     "metadata": {},
     "output_type": "execute_result"
    }
   ],
   "source": [
    "Price=20\n",
    "Cost=12\n",
    "Salvage=8\n",
    "Over=Cost - Salvage\n",
    "Under=Price - Cost\n",
    "Over, Under"
   ]
  },
  {
   "cell_type": "markdown",
   "metadata": {},
   "source": [
    "### QQ plot to explore the distribution of residual"
   ]
  },
  {
   "cell_type": "markdown",
   "metadata": {},
   "source": [
    "#### Normal Distribution"
   ]
  },
  {
   "cell_type": "code",
   "execution_count": 29,
   "metadata": {},
   "outputs": [],
   "source": [
    "import scipy.stats as sct"
   ]
  },
  {
   "cell_type": "code",
   "execution_count": 30,
   "metadata": {},
   "outputs": [
    {
     "data": {
      "image/png": "[encoded data removed]",
      "text/plain": [
       "<Figure size 432x288 with 1 Axes>"
      ]
     },
     "metadata": {
      "needs_background": "light"
     },
     "output_type": "display_data"
    }
   ],
   "source": [
    "import scipy\n",
    "scipy.stats.probplot(residual, dist=\"norm\", plot=plt)\n",
    "plt.show()"
   ]
  },
  {
   "cell_type": "code",
   "execution_count": 31,
   "metadata": {},
   "outputs": [],
   "source": [
    "s = residual.std()\n",
    "opt_dec_N=np.ceil(sct.norm.ppf(Under/(Under+Over))*s + result['Predicted_sales'])"
   ]
  },
  {
   "cell_type": "markdown",
   "metadata": {},
   "source": [
    "#### Exponential Distribution"
   ]
  },
  {
   "cell_type": "code",
   "execution_count": 32,
   "metadata": {},
   "outputs": [
    {
     "data": {
      "image/png": "[encoded data removed]",
      "text/plain": [
       "<Figure size 432x288 with 1 Axes>"
      ]
     },
     "metadata": {
      "needs_background": "light"
     },
     "output_type": "display_data"
    }
   ],
   "source": [
    "scipy.stats.probplot(residual, dist=\"expon\", plot=plt)\n",
    "plt.show()"
   ]
  },
  {
   "cell_type": "code",
   "execution_count": 33,
   "metadata": {},
   "outputs": [],
   "source": [
    "opt_dec_E=np.ceil((-result['Predicted_sales'])*np.log(1-(Under/(Under+Over))))"
   ]
  },
  {
   "cell_type": "markdown",
   "metadata": {},
   "source": [
    "#### Empirical Distribution"
   ]
  },
  {
   "cell_type": "code",
   "execution_count": 34,
   "metadata": {},
   "outputs": [
    {
     "data": {
      "text/plain": [
       "[<matplotlib.lines.Line2D at 0x1816aeff5e0>]"
      ]
     },
     "execution_count": 34,
     "metadata": {},
     "output_type": "execute_result"
    },
    {
     "data": {
      "image/png": "[encoded data removed]",
      "text/plain": [
       "<Figure size 432x288 with 1 Axes>"
      ]
     },
     "metadata": {
      "needs_background": "light"
     },
     "output_type": "display_data"
    }
   ],
   "source": [
    "size = residual.shape[0]\n",
    "step=1/size\n",
    "jumps = [step*i for i in range(1,size+1)]\n",
    "Sample = sorted(residual)\n",
    "plt.plot(Sample,jumps)"
   ]
  },
  {
   "cell_type": "code",
   "execution_count": 35,
   "metadata": {},
   "outputs": [
    {
     "data": {
      "image/png": "[encoded data removed]",
      "text/plain": [
       "<Figure size 432x288 with 1 Axes>"
      ]
     },
     "metadata": {
      "needs_background": "light"
     },
     "output_type": "display_data"
    }
   ],
   "source": [
    "plt.hist(Sample)\n",
    "plt.show()"
   ]
  },
  {
   "cell_type": "code",
   "execution_count": 36,
   "metadata": {},
   "outputs": [],
   "source": [
    "def inv(sample,jump,area):\n",
    "    size = len(sample)\n",
    "    i=0\n",
    "    temp=jump[i]\n",
    "    while temp<area:\n",
    "        i+=1\n",
    "        temp=jump[i]\n",
    "        \n",
    "    return sample[i]"
   ]
  },
  {
   "cell_type": "code",
   "execution_count": 37,
   "metadata": {},
   "outputs": [
    {
     "data": {
      "text/plain": [
       "7.540358364126254"
      ]
     },
     "execution_count": 37,
     "metadata": {},
     "output_type": "execute_result"
    }
   ],
   "source": [
    "offset = inv(Sample,jumps,2/3)\n",
    "offset"
   ]
  },
  {
   "cell_type": "code",
   "execution_count": 38,
   "metadata": {},
   "outputs": [],
   "source": [
    "opt_dec_B = np.ceil(result['Predicted_sales']+offset)"
   ]
  },
  {
   "cell_type": "markdown",
   "metadata": {},
   "source": [
    "# 7. Out-of-samples Profit"
   ]
  },
  {
   "cell_type": "code",
   "execution_count": 39,
   "metadata": {},
   "outputs": [
    {
     "data": {
      "text/plain": [
       "82096.0"
      ]
     },
     "execution_count": 39,
     "metadata": {},
     "output_type": "execute_result"
    }
   ],
   "source": [
    "#max profit for test data set\n",
    "max_profit = result['sales'].sum()*(Price-Cost)\n",
    "max_profit"
   ]
  },
  {
   "cell_type": "code",
   "execution_count": 40,
   "metadata": {},
   "outputs": [],
   "source": [
    "def profit(demand,inv):\n",
    "    return (Price-Salvage)*np.minimum(demand,inv)-(Cost-Salvage)*inv"
   ]
  },
  {
   "cell_type": "code",
   "execution_count": 41,
   "metadata": {},
   "outputs": [
    {
     "data": {
      "text/plain": [
       "24200.0"
      ]
     },
     "execution_count": 41,
     "metadata": {},
     "output_type": "execute_result"
    }
   ],
   "source": [
    "#Profit (Normal)\n",
    "profit_lst_N = profit(result['sales'],opt_dec_N)\n",
    "profit_lst_N.sum()"
   ]
  },
  {
   "cell_type": "code",
   "execution_count": 42,
   "metadata": {},
   "outputs": [
    {
     "data": {
      "text/plain": [
       "23176.0"
      ]
     },
     "execution_count": 42,
     "metadata": {},
     "output_type": "execute_result"
    }
   ],
   "source": [
    "#Profit (Exponential)\n",
    "profit_lst_E = profit(result['sales'],opt_dec_E)\n",
    "profit_lst_E.sum()"
   ]
  },
  {
   "cell_type": "code",
   "execution_count": 43,
   "metadata": {},
   "outputs": [
    {
     "data": {
      "text/plain": [
       "25792.0"
      ]
     },
     "execution_count": 43,
     "metadata": {},
     "output_type": "execute_result"
    }
   ],
   "source": [
    "#Profit (Empirical)\n",
    "profit_lst_B = profit(result['sales'],opt_dec_B)\n",
    "profit_lst_B.sum()"
   ]
  },
  {
   "cell_type": "markdown",
   "metadata": {},
   "source": [
    "# 8. K-Fold Cross Validation"
   ]
  },
  {
   "cell_type": "markdown",
   "metadata": {},
   "source": [
    "### Repeat steps 5,6,7 with 10-fold cross validation"
   ]
  },
  {
   "cell_type": "code",
   "execution_count": 44,
   "metadata": {},
   "outputs": [],
   "source": [
    "Model_4=Lasso(alpha=best_alpha)"
   ]
  },
  {
   "cell_type": "code",
   "execution_count": 45,
   "metadata": {},
   "outputs": [],
   "source": [
    "from sklearn.model_selection import KFold\n",
    "k=10\n",
    "kf = KFold(n_splits=k)\n",
    "X_train_t=X_train.to_numpy()\n",
    "Y_train_t=Y_train.to_numpy()\n",
    "model = []\n",
    "mse_lst = []\n",
    "max_profit_lst = []\n",
    "profit_N_lst = []\n",
    "profit_E_lst = []\n",
    "profit_B_lst = []\n",
    "\n",
    "for train_index,test_index in kf.split(X_train_t):\n",
    "    X_train_K,X_test_K=X_train_t[train_index],X_train_t[test_index]\n",
    "    Y_train_K,Y_test_K=Y_train_t[train_index],Y_train_t[test_index]\n",
    "    \n",
    "    #PCA to transform train data\n",
    "    pca_K1 = PCA(n_components=best_pca)\n",
    "    pca_K1.fit(X_train_K)\n",
    "    PX_train_K = pca_K1.transform(X_train_K)\n",
    "    \n",
    "    #Model\n",
    "    SLR_K = Model_4\n",
    "    SLR_K.fit(PX_train_K,Y_train_K)\n",
    "    \n",
    "    #pca to transform test data\n",
    "    pca_K2 = PCA(n_components=best_pca)\n",
    "    pca_K2.fit(X_test_K)\n",
    "    PX_test_K = pca_K2.transform(X_test_K)\n",
    "    \n",
    "    #MSE\n",
    "    mse_lst.append(MSE(SLR_K.predict(PX_test_K),Y_test_K))\n",
    "    \n",
    "    #Transform log(sale) back to sale\n",
    "    result_K = pd.DataFrame(np.exp(Y_test_K))\n",
    "    result_K[\"Predicted_sales\"] = np.exp(SLR_K.predict(PX_test_K))\n",
    "    \n",
    "    #Obtain residual\n",
    "    residual_K = result_K[0]-result_K['Predicted_sales']\n",
    "    \n",
    "    #Get std for Normal distribution\n",
    "    s_K = residual.std()\n",
    "    \n",
    "    #Inventory Decision (Normal)\n",
    "    opt_dec_N_K=np.ceil(sct.norm.ppf(Under/(Under+Over))*s_K + result_K['Predicted_sales'])\n",
    "    #Inventory Decision (Exponential)\n",
    "    opt_dec_E_K=np.ceil((-result_K['Predicted_sales'])*np.log(1-(Under/(Under+Over))))\n",
    "    \n",
    "    #Inventory Decision (Empirical Distribution)\n",
    "    size_K = residual_K.shape[0]\n",
    "    step_K=1/size_K\n",
    "    jumps_K = [step_K*i for i in range(1,size+1)]\n",
    "    Sample_K = sorted(residual_K)\n",
    "    offset_K = inv(Sample_K,jumps_K,2/3)\n",
    "    opt_dec_B_K = np.ceil(result_K['Predicted_sales']+offset_K)\n",
    "    \n",
    "    #Out-of_sample profit\n",
    "    profit_lst_B_K = profit(result_K[0],opt_dec_B_K)\n",
    "    profit_B_lst.append(profit_lst_B_K.sum())\n",
    "    \n",
    "    profit_lst_N_K = profit(result_K[0],opt_dec_N_K)\n",
    "    profit_N_lst.append(profit_lst_N_K.sum())\n",
    "    \n",
    "    profit_lst_E_K = profit(result_K[0],opt_dec_E_K)\n",
    "    profit_E_lst.append(profit_lst_E_K.sum())\n",
    "    \n",
    "    max_profit_K = result_K[0].sum()*(Price-Cost)\n",
    "    max_profit_lst.append(max_profit_K)\n",
    "    \n",
    "max_profit_lst = np.array(max_profit_lst)\n",
    "profit_N_lst = np.array(profit_N_lst)\n",
    "profit_E_lst = np.array(profit_E_lst)\n",
    "profit_B_lst = np.array(profit_B_lst)\n",
    "\n",
    "fraction_of_max_N = profit_N_lst/max_profit_lst\n",
    "fraction_of_max_E = profit_E_lst/max_profit_lst\n",
    "fraction_of_max_B = profit_B_lst/max_profit_lst\n",
    "\n",
    "dist_profit = [\"Normal\",\"Exponential\",\"Empirical\",\"Max\"]\n",
    "dist_frac = [\"Normal\",\"Exponential\",\"Empirical\"]\n",
    "col_name = [\"Dataset_\"+str(i) for i in range(1,k+1)]\n",
    "\n",
    "profit_lst = [profit_N_lst,profit_E_lst,profit_B_lst,max_profit_lst]\n",
    "profit_table = pd.DataFrame(profit_lst,index=dist_profit,columns=col_name)\n",
    "profit_table[\"mean_profit\"]=profit_table.mean(axis=1)\n",
    "profit_table[\"std_profit\"]=profit_table.std(ddof=1,axis=1)\n",
    "\n",
    "fraction_lst = [fraction_of_max_N,fraction_of_max_E,fraction_of_max_B]\n",
    "fraction_table = pd.DataFrame(fraction_lst,index=dist_frac,columns=col_name)\n",
    "fraction_table[\"mean_fraction\"]=fraction_table.mean(axis=1)"
   ]
  },
  {
   "cell_type": "code",
   "execution_count": 46,
   "metadata": {},
   "outputs": [
    {
     "data": {
      "text/html": [
       "<div>\n",
       "<style scoped>\n",
       "    .dataframe tbody tr th:only-of-type {\n",
       "        vertical-align: middle;\n",
       "    }\n",
       "\n",
       "    .dataframe tbody tr th {\n",
       "        vertical-align: top;\n",
       "    }\n",
       "\n",
       "    .dataframe thead th {\n",
       "        text-align: right;\n",
       "    }\n",
       "</style>\n",
       "<table border=\"1\" class=\"dataframe\">\n",
       "  <thead>\n",
       "    <tr style=\"text-align: right;\">\n",
       "      <th></th>\n",
       "      <th>Dataset_1</th>\n",
       "      <th>Dataset_2</th>\n",
       "      <th>Dataset_3</th>\n",
       "      <th>Dataset_4</th>\n",
       "      <th>Dataset_5</th>\n",
       "      <th>Dataset_6</th>\n",
       "      <th>Dataset_7</th>\n",
       "      <th>Dataset_8</th>\n",
       "      <th>Dataset_9</th>\n",
       "      <th>Dataset_10</th>\n",
       "      <th>mean_fraction</th>\n",
       "    </tr>\n",
       "  </thead>\n",
       "  <tbody>\n",
       "    <tr>\n",
       "      <th>Normal</th>\n",
       "      <td>0.246182</td>\n",
       "      <td>0.293972</td>\n",
       "      <td>0.063072</td>\n",
       "      <td>0.280258</td>\n",
       "      <td>0.147139</td>\n",
       "      <td>0.259168</td>\n",
       "      <td>0.173664</td>\n",
       "      <td>0.286383</td>\n",
       "      <td>0.288386</td>\n",
       "      <td>0.174030</td>\n",
       "      <td>0.221226</td>\n",
       "    </tr>\n",
       "    <tr>\n",
       "      <th>Exponential</th>\n",
       "      <td>0.224918</td>\n",
       "      <td>0.268163</td>\n",
       "      <td>-0.002419</td>\n",
       "      <td>0.266352</td>\n",
       "      <td>0.139243</td>\n",
       "      <td>0.227208</td>\n",
       "      <td>0.145319</td>\n",
       "      <td>0.248049</td>\n",
       "      <td>0.272906</td>\n",
       "      <td>0.167883</td>\n",
       "      <td>0.195762</td>\n",
       "    </tr>\n",
       "    <tr>\n",
       "      <th>Empirical</th>\n",
       "      <td>0.262130</td>\n",
       "      <td>0.310147</td>\n",
       "      <td>0.069725</td>\n",
       "      <td>0.296910</td>\n",
       "      <td>0.165673</td>\n",
       "      <td>0.285187</td>\n",
       "      <td>0.189103</td>\n",
       "      <td>0.294102</td>\n",
       "      <td>0.305834</td>\n",
       "      <td>0.203227</td>\n",
       "      <td>0.238204</td>\n",
       "    </tr>\n",
       "  </tbody>\n",
       "</table>\n",
       "</div>"
      ],
      "text/plain": [
       "             Dataset_1  Dataset_2  Dataset_3  Dataset_4  Dataset_5  Dataset_6  \\\n",
       "Normal        0.246182   0.293972   0.063072   0.280258   0.147139   0.259168   \n",
       "Exponential   0.224918   0.268163  -0.002419   0.266352   0.139243   0.227208   \n",
       "Empirical     0.262130   0.310147   0.069725   0.296910   0.165673   0.285187   \n",
       "\n",
       "             Dataset_7  Dataset_8  Dataset_9  Dataset_10  mean_fraction  \n",
       "Normal        0.173664   0.286383   0.288386    0.174030       0.221226  \n",
       "Exponential   0.145319   0.248049   0.272906    0.167883       0.195762  \n",
       "Empirical     0.189103   0.294102   0.305834    0.203227       0.238204  "
      ]
     },
     "execution_count": 46,
     "metadata": {},
     "output_type": "execute_result"
    }
   ],
   "source": [
    "fraction_table"
   ]
  },
  {
   "cell_type": "code",
   "execution_count": 47,
   "metadata": {},
   "outputs": [
    {
     "data": {
      "text/html": [
       "<div>\n",
       "<style scoped>\n",
       "    .dataframe tbody tr th:only-of-type {\n",
       "        vertical-align: middle;\n",
       "    }\n",
       "\n",
       "    .dataframe tbody tr th {\n",
       "        vertical-align: top;\n",
       "    }\n",
       "\n",
       "    .dataframe thead th {\n",
       "        text-align: right;\n",
       "    }\n",
       "</style>\n",
       "<table border=\"1\" class=\"dataframe\">\n",
       "  <thead>\n",
       "    <tr style=\"text-align: right;\">\n",
       "      <th></th>\n",
       "      <th>Dataset_1</th>\n",
       "      <th>Dataset_2</th>\n",
       "      <th>Dataset_3</th>\n",
       "      <th>Dataset_4</th>\n",
       "      <th>Dataset_5</th>\n",
       "      <th>Dataset_6</th>\n",
       "      <th>Dataset_7</th>\n",
       "      <th>Dataset_8</th>\n",
       "      <th>Dataset_9</th>\n",
       "      <th>Dataset_10</th>\n",
       "      <th>mean_profit</th>\n",
       "      <th>std_profit</th>\n",
       "    </tr>\n",
       "  </thead>\n",
       "  <tbody>\n",
       "    <tr>\n",
       "      <th>Normal</th>\n",
       "      <td>10188.0</td>\n",
       "      <td>13304.0</td>\n",
       "      <td>2920.0</td>\n",
       "      <td>13060.0</td>\n",
       "      <td>7304.0</td>\n",
       "      <td>10120.0</td>\n",
       "      <td>8504.0</td>\n",
       "      <td>13208.0</td>\n",
       "      <td>12892.0</td>\n",
       "      <td>7248.0</td>\n",
       "      <td>9874.8</td>\n",
       "      <td>3256.290429</td>\n",
       "    </tr>\n",
       "    <tr>\n",
       "      <th>Exponential</th>\n",
       "      <td>9308.0</td>\n",
       "      <td>12136.0</td>\n",
       "      <td>-112.0</td>\n",
       "      <td>12412.0</td>\n",
       "      <td>6912.0</td>\n",
       "      <td>8872.0</td>\n",
       "      <td>7116.0</td>\n",
       "      <td>11440.0</td>\n",
       "      <td>12200.0</td>\n",
       "      <td>6992.0</td>\n",
       "      <td>8727.6</td>\n",
       "      <td>3633.302608</td>\n",
       "    </tr>\n",
       "    <tr>\n",
       "      <th>Empirical</th>\n",
       "      <td>10848.0</td>\n",
       "      <td>14036.0</td>\n",
       "      <td>3228.0</td>\n",
       "      <td>13836.0</td>\n",
       "      <td>8224.0</td>\n",
       "      <td>11136.0</td>\n",
       "      <td>9260.0</td>\n",
       "      <td>13564.0</td>\n",
       "      <td>13672.0</td>\n",
       "      <td>8464.0</td>\n",
       "      <td>10626.8</td>\n",
       "      <td>3274.015052</td>\n",
       "    </tr>\n",
       "    <tr>\n",
       "      <th>Max</th>\n",
       "      <td>41384.0</td>\n",
       "      <td>45256.0</td>\n",
       "      <td>46296.0</td>\n",
       "      <td>46600.0</td>\n",
       "      <td>49640.0</td>\n",
       "      <td>39048.0</td>\n",
       "      <td>48968.0</td>\n",
       "      <td>46120.0</td>\n",
       "      <td>44704.0</td>\n",
       "      <td>41648.0</td>\n",
       "      <td>44966.4</td>\n",
       "      <td>3203.875254</td>\n",
       "    </tr>\n",
       "  </tbody>\n",
       "</table>\n",
       "</div>"
      ],
      "text/plain": [
       "             Dataset_1  Dataset_2  Dataset_3  Dataset_4  Dataset_5  Dataset_6  \\\n",
       "Normal         10188.0    13304.0     2920.0    13060.0     7304.0    10120.0   \n",
       "Exponential     9308.0    12136.0     -112.0    12412.0     6912.0     8872.0   \n",
       "Empirical      10848.0    14036.0     3228.0    13836.0     8224.0    11136.0   \n",
       "Max            41384.0    45256.0    46296.0    46600.0    49640.0    39048.0   \n",
       "\n",
       "             Dataset_7  Dataset_8  Dataset_9  Dataset_10  mean_profit  \\\n",
       "Normal          8504.0    13208.0    12892.0      7248.0       9874.8   \n",
       "Exponential     7116.0    11440.0    12200.0      6992.0       8727.6   \n",
       "Empirical       9260.0    13564.0    13672.0      8464.0      10626.8   \n",
       "Max            48968.0    46120.0    44704.0     41648.0      44966.4   \n",
       "\n",
       "              std_profit  \n",
       "Normal       3256.290429  \n",
       "Exponential  3633.302608  \n",
       "Empirical    3274.015052  \n",
       "Max          3203.875254  "
      ]
     },
     "execution_count": 47,
     "metadata": {},
     "output_type": "execute_result"
    }
   ],
   "source": [
    "profit_table"
   ]
  },
  {
   "cell_type": "code",
   "execution_count": 48,
   "metadata": {},
   "outputs": [],
   "source": [
    "profit_table.to_csv(\".\\\\Model_Selection_Result\\\\2.4_Lin_reg_lasso.csv\")"
   ]
  },
  {
   "cell_type": "code",
   "execution_count": null,
   "metadata": {},
   "outputs": [],
   "source": []
  }
 ],
 "metadata": {
  "kernelspec": {
   "display_name": "Python 3",
   "language": "python",
   "name": "python3"
  },
  "language_info": {
   "codemirror_mode": {
    "name": "ipython",
    "version": 3
   },
   "file_extension": ".py",
   "mimetype": "text/x-python",
   "name": "python",
   "nbconvert_exporter": "python",
   "pygments_lexer": "ipython3",
   "version": "3.8.5"
  }
 },
 "nbformat": 4,
 "nbformat_minor": 4
}
