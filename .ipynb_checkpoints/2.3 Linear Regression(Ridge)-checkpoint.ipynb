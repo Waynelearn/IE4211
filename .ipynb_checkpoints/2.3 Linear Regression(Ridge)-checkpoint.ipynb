{
 "cells": [
  {
   "cell_type": "code",
   "execution_count": 1,
   "metadata": {},
   "outputs": [],
   "source": [
    "import pandas as pd\n",
    "import numpy as np\n",
    "import matplotlib.pyplot as plt\n",
    "from sklearn.pipeline import Pipeline\n",
    "from sklearn.model_selection import GridSearchCV\n",
    "from sklearn.decomposition import PCA\n",
    "from sklearn.metrics import mean_squared_error as MSE\n",
    "from sklearn.linear_model import LinearRegression\n",
    "from sklearn.preprocessing import PolynomialFeaturesm\n",
    "from sklearn.model_selection import train_test_split"
   ]
  },
  {
   "cell_type": "markdown",
   "metadata": {},
   "source": [
    "# Import the train datasets"
   ]
  },
  {
   "cell_type": "code",
   "execution_count": 2,
   "metadata": {},
   "outputs": [],
   "source": [
    "X_train = pd.read_csv(\"A_Normalised_train_data.csv\",index_col=0)\n",
    "Y_train = pd.read_csv(\"A_Log_sales_train.csv\",index_col=0)"
   ]
  },
  {
   "cell_type": "markdown",
   "metadata": {},
   "source": [
    "# Setup Pipeline"
   ]
  },
  {
   "cell_type": "code",
   "execution_count": 3,
   "metadata": {},
   "outputs": [],
   "source": [
    "pca=PCA()\n",
    "SLR = LinearRegression()"
   ]
  },
  {
   "cell_type": "code",
   "execution_count": 4,
   "metadata": {},
   "outputs": [],
   "source": [
    "# Step 1: PCA\n",
    "# Step 2: Model\n",
    "pipe = Pipeline(steps=[(\"pca\",pca),(\"SLR\",SLR)])"
   ]
  },
  {
   "cell_type": "code",
   "execution_count": 5,
   "metadata": {},
   "outputs": [],
   "source": [
    "param_grid = {\n",
    "    \"pca__n_components\": [5, 10, 30, 45, 60, 100 ,150 ,170]\n",
    "}"
   ]
  },
  {
   "cell_type": "markdown",
   "metadata": {},
   "source": [
    "# Setup GridSearch"
   ]
  },
  {
   "cell_type": "code",
   "execution_count": 6,
   "metadata": {},
   "outputs": [],
   "source": [
    "score_metric = 'neg_mean_squared_error'\n",
    "search = GridSearchCV(pipe,param_grid,\n",
    "                      n_jobs=-1,\n",
    "                      cv=10,\n",
    "                      scoring=score_metric)"
   ]
  },
  {
   "cell_type": "code",
   "execution_count": 7,
   "metadata": {},
   "outputs": [
    {
     "data": {
      "text/plain": [
       "GridSearchCV(cv=10,\n",
       "             estimator=Pipeline(steps=[('pca', PCA()),\n",
       "                                       ('SLR', LinearRegression())]),\n",
       "             n_jobs=-1,\n",
       "             param_grid={'pca__n_components': [5, 10, 30, 45, 60, 100, 150,\n",
       "                                               170]},\n",
       "             scoring='neg_mean_squared_error')"
      ]
     },
     "execution_count": 7,
     "metadata": {},
     "output_type": "execute_result"
    }
   ],
   "source": [
    "search.fit(X_train,Y_train)"
   ]
  },
  {
   "cell_type": "code",
   "execution_count": 8,
   "metadata": {},
   "outputs": [
    {
     "name": "stdout",
     "output_type": "stream",
     "text": [
      "Best parameter (CV score=-0.788):\n",
      "{'pca__n_components': 100}\n"
     ]
    }
   ],
   "source": [
    "print(\"Best parameter (CV score=%0.3f):\" % search.best_score_)\n",
    "print(search.best_params_)"
   ]
  },
  {
   "cell_type": "code",
   "execution_count": 9,
   "metadata": {},
   "outputs": [
    {
     "data": {
      "text/html": [
       "<div>\n",
       "<style scoped>\n",
       "    .dataframe tbody tr th:only-of-type {\n",
       "        vertical-align: middle;\n",
       "    }\n",
       "\n",
       "    .dataframe tbody tr th {\n",
       "        vertical-align: top;\n",
       "    }\n",
       "\n",
       "    .dataframe thead th {\n",
       "        text-align: right;\n",
       "    }\n",
       "</style>\n",
       "<table border=\"1\" class=\"dataframe\">\n",
       "  <thead>\n",
       "    <tr style=\"text-align: right;\">\n",
       "      <th></th>\n",
       "      <th>mean_fit_time</th>\n",
       "      <th>std_fit_time</th>\n",
       "      <th>mean_score_time</th>\n",
       "      <th>std_score_time</th>\n",
       "      <th>param_pca__n_components</th>\n",
       "      <th>params</th>\n",
       "      <th>split0_test_score</th>\n",
       "      <th>split1_test_score</th>\n",
       "      <th>split2_test_score</th>\n",
       "      <th>split3_test_score</th>\n",
       "      <th>split4_test_score</th>\n",
       "      <th>split5_test_score</th>\n",
       "      <th>split6_test_score</th>\n",
       "      <th>split7_test_score</th>\n",
       "      <th>split8_test_score</th>\n",
       "      <th>split9_test_score</th>\n",
       "      <th>mean_test_score</th>\n",
       "      <th>std_test_score</th>\n",
       "      <th>rank_test_score</th>\n",
       "    </tr>\n",
       "  </thead>\n",
       "  <tbody>\n",
       "    <tr>\n",
       "      <th>5</th>\n",
       "      <td>0.238100</td>\n",
       "      <td>0.057613</td>\n",
       "      <td>0.014629</td>\n",
       "      <td>0.004646</td>\n",
       "      <td>100</td>\n",
       "      <td>{'pca__n_components': 100}</td>\n",
       "      <td>-0.735436</td>\n",
       "      <td>-0.725419</td>\n",
       "      <td>-8.790508e-01</td>\n",
       "      <td>-0.811140</td>\n",
       "      <td>-9.392985e-01</td>\n",
       "      <td>-7.056569e-01</td>\n",
       "      <td>-0.678123</td>\n",
       "      <td>-7.858939e-01</td>\n",
       "      <td>-0.823663</td>\n",
       "      <td>-7.993607e-01</td>\n",
       "      <td>-7.883041e-01</td>\n",
       "      <td>7.658604e-02</td>\n",
       "      <td>1</td>\n",
       "    </tr>\n",
       "    <tr>\n",
       "      <th>4</th>\n",
       "      <td>0.173144</td>\n",
       "      <td>0.058621</td>\n",
       "      <td>0.025696</td>\n",
       "      <td>0.030360</td>\n",
       "      <td>60</td>\n",
       "      <td>{'pca__n_components': 60}</td>\n",
       "      <td>-0.758210</td>\n",
       "      <td>-0.747421</td>\n",
       "      <td>-9.030017e-01</td>\n",
       "      <td>-0.858788</td>\n",
       "      <td>-1.003606e+00</td>\n",
       "      <td>-7.161614e-01</td>\n",
       "      <td>-0.709572</td>\n",
       "      <td>-8.000520e-01</td>\n",
       "      <td>-0.847735</td>\n",
       "      <td>-8.473590e-01</td>\n",
       "      <td>-8.191906e-01</td>\n",
       "      <td>8.722207e-02</td>\n",
       "      <td>2</td>\n",
       "    </tr>\n",
       "    <tr>\n",
       "      <th>3</th>\n",
       "      <td>0.132936</td>\n",
       "      <td>0.018458</td>\n",
       "      <td>0.019097</td>\n",
       "      <td>0.019367</td>\n",
       "      <td>45</td>\n",
       "      <td>{'pca__n_components': 45}</td>\n",
       "      <td>-0.813193</td>\n",
       "      <td>-0.771802</td>\n",
       "      <td>-9.728659e-01</td>\n",
       "      <td>-0.874626</td>\n",
       "      <td>-9.674591e-01</td>\n",
       "      <td>-7.109648e-01</td>\n",
       "      <td>-0.747096</td>\n",
       "      <td>-8.751499e-01</td>\n",
       "      <td>-0.873537</td>\n",
       "      <td>-9.567377e-01</td>\n",
       "      <td>-8.563432e-01</td>\n",
       "      <td>8.891900e-02</td>\n",
       "      <td>3</td>\n",
       "    </tr>\n",
       "    <tr>\n",
       "      <th>2</th>\n",
       "      <td>0.105154</td>\n",
       "      <td>0.016646</td>\n",
       "      <td>0.014511</td>\n",
       "      <td>0.005287</td>\n",
       "      <td>30</td>\n",
       "      <td>{'pca__n_components': 30}</td>\n",
       "      <td>-0.946778</td>\n",
       "      <td>-0.910464</td>\n",
       "      <td>-1.043843e+00</td>\n",
       "      <td>-0.979356</td>\n",
       "      <td>-1.123438e+00</td>\n",
       "      <td>-8.403102e-01</td>\n",
       "      <td>-0.818407</td>\n",
       "      <td>-9.487551e-01</td>\n",
       "      <td>-0.973832</td>\n",
       "      <td>-1.001909e+00</td>\n",
       "      <td>-9.587091e-01</td>\n",
       "      <td>8.554347e-02</td>\n",
       "      <td>4</td>\n",
       "    </tr>\n",
       "    <tr>\n",
       "      <th>1</th>\n",
       "      <td>0.101801</td>\n",
       "      <td>0.035007</td>\n",
       "      <td>0.016816</td>\n",
       "      <td>0.004303</td>\n",
       "      <td>10</td>\n",
       "      <td>{'pca__n_components': 10}</td>\n",
       "      <td>-0.974771</td>\n",
       "      <td>-0.957298</td>\n",
       "      <td>-1.094978e+00</td>\n",
       "      <td>-1.040884</td>\n",
       "      <td>-1.159232e+00</td>\n",
       "      <td>-7.945834e-01</td>\n",
       "      <td>-0.842957</td>\n",
       "      <td>-9.229367e-01</td>\n",
       "      <td>-0.987196</td>\n",
       "      <td>-9.885689e-01</td>\n",
       "      <td>-9.763405e-01</td>\n",
       "      <td>1.029569e-01</td>\n",
       "      <td>5</td>\n",
       "    </tr>\n",
       "    <tr>\n",
       "      <th>0</th>\n",
       "      <td>0.119329</td>\n",
       "      <td>0.045639</td>\n",
       "      <td>0.016252</td>\n",
       "      <td>0.008899</td>\n",
       "      <td>5</td>\n",
       "      <td>{'pca__n_components': 5}</td>\n",
       "      <td>-1.166665</td>\n",
       "      <td>-1.108364</td>\n",
       "      <td>-1.259939e+00</td>\n",
       "      <td>-1.478801</td>\n",
       "      <td>-1.394645e+00</td>\n",
       "      <td>-9.677052e-01</td>\n",
       "      <td>-1.192776</td>\n",
       "      <td>-1.121883e+00</td>\n",
       "      <td>-1.220615</td>\n",
       "      <td>-1.121888e+00</td>\n",
       "      <td>-1.203328e+00</td>\n",
       "      <td>1.397314e-01</td>\n",
       "      <td>6</td>\n",
       "    </tr>\n",
       "    <tr>\n",
       "      <th>6</th>\n",
       "      <td>0.169252</td>\n",
       "      <td>0.058765</td>\n",
       "      <td>0.012612</td>\n",
       "      <td>0.002814</td>\n",
       "      <td>150</td>\n",
       "      <td>{'pca__n_components': 150}</td>\n",
       "      <td>-0.535833</td>\n",
       "      <td>-0.554218</td>\n",
       "      <td>-1.481674e+22</td>\n",
       "      <td>-0.631670</td>\n",
       "      <td>-1.037960e+23</td>\n",
       "      <td>-5.823736e+23</td>\n",
       "      <td>-0.566493</td>\n",
       "      <td>-3.467720e+23</td>\n",
       "      <td>-0.666246</td>\n",
       "      <td>-4.128813e+23</td>\n",
       "      <td>-1.460640e+23</td>\n",
       "      <td>2.067673e+23</td>\n",
       "      <td>7</td>\n",
       "    </tr>\n",
       "    <tr>\n",
       "      <th>7</th>\n",
       "      <td>0.146583</td>\n",
       "      <td>0.019848</td>\n",
       "      <td>0.013307</td>\n",
       "      <td>0.003467</td>\n",
       "      <td>170</td>\n",
       "      <td>{'pca__n_components': 170}</td>\n",
       "      <td>-0.525045</td>\n",
       "      <td>-0.566361</td>\n",
       "      <td>-3.021293e+24</td>\n",
       "      <td>-0.649931</td>\n",
       "      <td>-5.397617e+22</td>\n",
       "      <td>-7.668862e+24</td>\n",
       "      <td>-0.575569</td>\n",
       "      <td>-1.778556e+25</td>\n",
       "      <td>-0.678793</td>\n",
       "      <td>-6.527168e+25</td>\n",
       "      <td>-9.380137e+24</td>\n",
       "      <td>1.940307e+25</td>\n",
       "      <td>8</td>\n",
       "    </tr>\n",
       "  </tbody>\n",
       "</table>\n",
       "</div>"
      ],
      "text/plain": [
       "   mean_fit_time  std_fit_time  mean_score_time  std_score_time  \\\n",
       "5       0.238100      0.057613         0.014629        0.004646   \n",
       "4       0.173144      0.058621         0.025696        0.030360   \n",
       "3       0.132936      0.018458         0.019097        0.019367   \n",
       "2       0.105154      0.016646         0.014511        0.005287   \n",
       "1       0.101801      0.035007         0.016816        0.004303   \n",
       "0       0.119329      0.045639         0.016252        0.008899   \n",
       "6       0.169252      0.058765         0.012612        0.002814   \n",
       "7       0.146583      0.019848         0.013307        0.003467   \n",
       "\n",
       "  param_pca__n_components                      params  split0_test_score  \\\n",
       "5                     100  {'pca__n_components': 100}          -0.735436   \n",
       "4                      60   {'pca__n_components': 60}          -0.758210   \n",
       "3                      45   {'pca__n_components': 45}          -0.813193   \n",
       "2                      30   {'pca__n_components': 30}          -0.946778   \n",
       "1                      10   {'pca__n_components': 10}          -0.974771   \n",
       "0                       5    {'pca__n_components': 5}          -1.166665   \n",
       "6                     150  {'pca__n_components': 150}          -0.535833   \n",
       "7                     170  {'pca__n_components': 170}          -0.525045   \n",
       "\n",
       "   split1_test_score  split2_test_score  split3_test_score  split4_test_score  \\\n",
       "5          -0.725419      -8.790508e-01          -0.811140      -9.392985e-01   \n",
       "4          -0.747421      -9.030017e-01          -0.858788      -1.003606e+00   \n",
       "3          -0.771802      -9.728659e-01          -0.874626      -9.674591e-01   \n",
       "2          -0.910464      -1.043843e+00          -0.979356      -1.123438e+00   \n",
       "1          -0.957298      -1.094978e+00          -1.040884      -1.159232e+00   \n",
       "0          -1.108364      -1.259939e+00          -1.478801      -1.394645e+00   \n",
       "6          -0.554218      -1.481674e+22          -0.631670      -1.037960e+23   \n",
       "7          -0.566361      -3.021293e+24          -0.649931      -5.397617e+22   \n",
       "\n",
       "   split5_test_score  split6_test_score  split7_test_score  split8_test_score  \\\n",
       "5      -7.056569e-01          -0.678123      -7.858939e-01          -0.823663   \n",
       "4      -7.161614e-01          -0.709572      -8.000520e-01          -0.847735   \n",
       "3      -7.109648e-01          -0.747096      -8.751499e-01          -0.873537   \n",
       "2      -8.403102e-01          -0.818407      -9.487551e-01          -0.973832   \n",
       "1      -7.945834e-01          -0.842957      -9.229367e-01          -0.987196   \n",
       "0      -9.677052e-01          -1.192776      -1.121883e+00          -1.220615   \n",
       "6      -5.823736e+23          -0.566493      -3.467720e+23          -0.666246   \n",
       "7      -7.668862e+24          -0.575569      -1.778556e+25          -0.678793   \n",
       "\n",
       "   split9_test_score  mean_test_score  std_test_score  rank_test_score  \n",
       "5      -7.993607e-01    -7.883041e-01    7.658604e-02                1  \n",
       "4      -8.473590e-01    -8.191906e-01    8.722207e-02                2  \n",
       "3      -9.567377e-01    -8.563432e-01    8.891900e-02                3  \n",
       "2      -1.001909e+00    -9.587091e-01    8.554347e-02                4  \n",
       "1      -9.885689e-01    -9.763405e-01    1.029569e-01                5  \n",
       "0      -1.121888e+00    -1.203328e+00    1.397314e-01                6  \n",
       "6      -4.128813e+23    -1.460640e+23    2.067673e+23                7  \n",
       "7      -6.527168e+25    -9.380137e+24    1.940307e+25                8  "
      ]
     },
     "execution_count": 9,
     "metadata": {},
     "output_type": "execute_result"
    }
   ],
   "source": [
    "df = pd.DataFrame(search.cv_results_)\n",
    "df = df.sort_values(by=['rank_test_score'])\n",
    "df"
   ]
  },
  {
   "cell_type": "markdown",
   "metadata": {},
   "source": [
    "# Best Hyperparameter"
   ]
  },
  {
   "cell_type": "code",
   "execution_count": 10,
   "metadata": {},
   "outputs": [
    {
     "name": "stdout",
     "output_type": "stream",
     "text": [
      "{'pca__n_components': 100}\n"
     ]
    }
   ],
   "source": [
    "parms = pd.DataFrame(df['params'])\n",
    "for i in parms.iloc[0]:\n",
    "    print(i)"
   ]
  },
  {
   "cell_type": "markdown",
   "metadata": {},
   "source": [
    "# Evaluate Model $log(Sales)$"
   ]
  },
  {
   "cell_type": "code",
   "execution_count": 11,
   "metadata": {},
   "outputs": [],
   "source": [
    "best_pca =100"
   ]
  },
  {
   "cell_type": "code",
   "execution_count": 12,
   "metadata": {},
   "outputs": [],
   "source": [
    "X_train1,X_test1,Y_train1,Y_test1 = train_test_split(X_train,Y_train,test_size=0.2,random_state=132)\n"
   ]
  },
  {
   "cell_type": "code",
   "execution_count": 14,
   "metadata": {},
   "outputs": [
    {
     "data": {
      "text/plain": [
       "LinearRegression()"
      ]
     },
     "execution_count": 14,
     "metadata": {},
     "output_type": "execute_result"
    }
   ],
   "source": [
    "pca1 = PCA(n_components=100)\n",
    "pca1.fit(X_train1)\n",
    "PX_train1 = pca1.transform(X_train1)\n",
    "SLR1 = LinearRegression()\n",
    "SLR1.fit(PX_train1,Y_train1)"
   ]
  },
  {
   "cell_type": "code",
   "execution_count": 16,
   "metadata": {},
   "outputs": [],
   "source": [
    "pca2 = PCA(n_components=100)\n",
    "pca2.fit(X_test1)\n",
    "PX_test1 = pca2.transform(X_test1)"
   ]
  },
  {
   "cell_type": "code",
   "execution_count": 17,
   "metadata": {},
   "outputs": [
    {
     "data": {
      "text/plain": [
       "2.1348685403228"
      ]
     },
     "execution_count": 17,
     "metadata": {},
     "output_type": "execute_result"
    }
   ],
   "source": [
    "MSE(SLR1.predict(PX_test1),Y_test1)"
   ]
  },
  {
   "cell_type": "code",
   "execution_count": 18,
   "metadata": {},
   "outputs": [],
   "source": [
    "result = pd.DataFrame(np.exp(Y_test1))"
   ]
  },
  {
   "cell_type": "code",
   "execution_count": 19,
   "metadata": {},
   "outputs": [],
   "source": [
    "result[\"Predicted_sales\"] = np.exp(SLR1.predict(PX_test1))"
   ]
  },
  {
   "cell_type": "code",
   "execution_count": 20,
   "metadata": {},
   "outputs": [
    {
     "data": {
      "text/plain": [
       "1255.9876925886797"
      ]
     },
     "execution_count": 20,
     "metadata": {},
     "output_type": "execute_result"
    }
   ],
   "source": [
    "MSE(result[\"sales\"],result[\"Predicted_sales\"])"
   ]
  },
  {
   "cell_type": "markdown",
   "metadata": {},
   "source": [
    "# Model using original sales data"
   ]
  },
  {
   "cell_type": "code",
   "execution_count": 21,
   "metadata": {},
   "outputs": [],
   "source": [
    "OY_train = pd.read_csv(\"A_sales_train.csv\",index_col=0)"
   ]
  },
  {
   "cell_type": "code",
   "execution_count": 22,
   "metadata": {},
   "outputs": [],
   "source": [
    "X_train2,X_test2,Y_train2,Y_test2 = train_test_split(X_train,OY_train,test_size=0.2,random_state=132)"
   ]
  },
  {
   "cell_type": "code",
   "execution_count": 23,
   "metadata": {},
   "outputs": [
    {
     "data": {
      "text/plain": [
       "LinearRegression()"
      ]
     },
     "execution_count": 23,
     "metadata": {},
     "output_type": "execute_result"
    }
   ],
   "source": [
    "pca3 = PCA(n_components=100)\n",
    "pca3.fit(X_train2)\n",
    "PX_train2 = pca3.transform(X_train2)\n",
    "SLR2 = LinearRegression()\n",
    "SLR2.fit(PX_train2,Y_train2)"
   ]
  },
  {
   "cell_type": "code",
   "execution_count": 24,
   "metadata": {},
   "outputs": [],
   "source": [
    "pca4 = PCA(n_components=100)\n",
    "pca4.fit(X_test2)\n",
    "PX_test2 = pca4.transform(X_test2)"
   ]
  },
  {
   "cell_type": "code",
   "execution_count": 25,
   "metadata": {},
   "outputs": [
    {
     "data": {
      "text/plain": [
       "1902.9773018439016"
      ]
     },
     "execution_count": 25,
     "metadata": {},
     "output_type": "execute_result"
    }
   ],
   "source": [
    "MSE(SLR2.predict(PX_test2),Y_test2)"
   ]
  },
  {
   "cell_type": "markdown",
   "metadata": {},
   "source": [
    "#### Notably model trained on log(Sales) has lower out-of-sample MSE than model with unmodified Sales"
   ]
  },
  {
   "cell_type": "markdown",
   "metadata": {},
   "source": [
    "# Inventory Decision"
   ]
  },
  {
   "cell_type": "code",
   "execution_count": 26,
   "metadata": {},
   "outputs": [],
   "source": [
    "residue = result['sales']-result['Predicted_sales']"
   ]
  },
  {
   "cell_type": "code",
   "execution_count": 27,
   "metadata": {},
   "outputs": [
    {
     "data": {
      "image/png": "[encoded data removed]",
      "text/plain": [
       "<Figure size 432x288 with 1 Axes>"
      ]
     },
     "metadata": {
      "needs_background": "light"
     },
     "output_type": "display_data"
    }
   ],
   "source": [
    "import scipy\n",
    "scipy.stats.probplot(residue, dist=\"norm\", plot=plt)\n",
    "plt.show()"
   ]
  },
  {
   "cell_type": "code",
   "execution_count": 28,
   "metadata": {},
   "outputs": [
    {
     "data": {
      "image/png": "[encoded data removed]",
      "text/plain": [
       "<Figure size 432x288 with 1 Axes>"
      ]
     },
     "metadata": {
      "needs_background": "light"
     },
     "output_type": "display_data"
    }
   ],
   "source": [
    "scipy.stats.probplot(residue, dist=\"expon\", plot=plt)\n",
    "plt.show()"
   ]
  },
  {
   "cell_type": "code",
   "execution_count": 29,
   "metadata": {},
   "outputs": [],
   "source": [
    "import scipy.stats as sct"
   ]
  },
  {
   "cell_type": "code",
   "execution_count": 30,
   "metadata": {},
   "outputs": [
    {
     "data": {
      "text/plain": [
       "(4, 8)"
      ]
     },
     "execution_count": 30,
     "metadata": {},
     "output_type": "execute_result"
    }
   ],
   "source": [
    "Price=20\n",
    "Cost=12\n",
    "Salvage=8\n",
    "Over=Cost - Salvage\n",
    "Under=Price - Cost\n",
    "Over, Under"
   ]
  },
  {
   "cell_type": "code",
   "execution_count": 31,
   "metadata": {},
   "outputs": [],
   "source": [
    "s = residue.std()\n",
    "opt_dec_N=np.ceil(sct.norm.ppf(Under/(Under+Over))*s + result['Predicted_sales'])"
   ]
  },
  {
   "cell_type": "code",
   "execution_count": 32,
   "metadata": {},
   "outputs": [],
   "source": [
    "opt_dec_E=np.ceil((-result['Predicted_sales'])*np.log(1-(Under/(Under+Over))))"
   ]
  },
  {
   "cell_type": "markdown",
   "metadata": {},
   "source": [
    "# Out-of-samples Profit"
   ]
  },
  {
   "cell_type": "code",
   "execution_count": 33,
   "metadata": {},
   "outputs": [
    {
     "data": {
      "text/plain": [
       "82096.0"
      ]
     },
     "execution_count": 33,
     "metadata": {},
     "output_type": "execute_result"
    }
   ],
   "source": [
    "#max profit for test data set\n",
    "max_profit = result['sales'].sum()*(Price-Cost)\n",
    "max_profit"
   ]
  },
  {
   "cell_type": "code",
   "execution_count": 34,
   "metadata": {},
   "outputs": [],
   "source": [
    "def profit(demand,inv):\n",
    "    return (Price-Salvage)*np.minimum(demand,inv)-(Cost-Salvage)*inv"
   ]
  },
  {
   "cell_type": "code",
   "execution_count": 35,
   "metadata": {},
   "outputs": [
    {
     "data": {
      "text/plain": [
       "20720.0"
      ]
     },
     "execution_count": 35,
     "metadata": {},
     "output_type": "execute_result"
    }
   ],
   "source": [
    "profit_lst_N = profit(result['sales'],opt_dec_N)\n",
    "profit_lst_N.sum()"
   ]
  },
  {
   "cell_type": "code",
   "execution_count": 36,
   "metadata": {},
   "outputs": [
    {
     "data": {
      "text/plain": [
       "20532.0"
      ]
     },
     "execution_count": 36,
     "metadata": {},
     "output_type": "execute_result"
    }
   ],
   "source": [
    "profit_lst_E = profit(result['sales'],opt_dec_E)\n",
    "profit_lst_E.sum()"
   ]
  },
  {
   "cell_type": "code",
   "execution_count": null,
   "metadata": {},
   "outputs": [],
   "source": []
  },
  {
   "cell_type": "code",
   "execution_count": null,
   "metadata": {},
   "outputs": [],
   "source": []
  }
 ],
 "metadata": {
  "kernelspec": {
   "display_name": "Python 3",
   "language": "python",
   "name": "python3"
  },
  "language_info": {
   "codemirror_mode": {
    "name": "ipython",
    "version": 3
   },
   "file_extension": ".py",
   "mimetype": "text/x-python",
   "name": "python",
   "nbconvert_exporter": "python",
   "pygments_lexer": "ipython3",
   "version": "3.8.5"
  }
 },
 "nbformat": 4,
 "nbformat_minor": 4
}
