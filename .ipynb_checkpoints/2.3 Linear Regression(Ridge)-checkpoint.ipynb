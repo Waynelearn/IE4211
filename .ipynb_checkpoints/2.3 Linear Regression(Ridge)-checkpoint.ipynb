{
 "cells": [
  {
   "cell_type": "code",
   "execution_count": 1,
   "metadata": {},
   "outputs": [],
   "source": [
    "import pandas as pd\n",
    "import numpy as np\n",
    "import matplotlib.pyplot as plt\n",
    "from sklearn.pipeline import Pipeline\n",
    "from sklearn.model_selection import GridSearchCV\n",
    "from sklearn.decomposition import PCA\n",
    "from sklearn.metrics import mean_squared_error as MSE\n",
    "from sklearn.linear_model import LinearRegression\n",
    "from sklearn.preprocessing import PolynomialFeatures\n",
    "from sklearn.model_selection import train_test_split\n",
    "from sklearn.linear_model import Ridge"
   ]
  },
  {
   "cell_type": "markdown",
   "metadata": {},
   "source": [
    "# 1. Import the train datasets"
   ]
  },
  {
   "cell_type": "code",
   "execution_count": 2,
   "metadata": {},
   "outputs": [],
   "source": [
    "X_train = pd.read_csv(\"A_Normalised_train_data.csv\",index_col=0)\n",
    "Y_train = pd.read_csv(\"A_Log_sales_train.csv\",index_col=0)"
   ]
  },
  {
   "cell_type": "code",
   "execution_count": 3,
   "metadata": {},
   "outputs": [],
   "source": [
    "Model_1 = Ridge()"
   ]
  },
  {
   "cell_type": "markdown",
   "metadata": {},
   "source": [
    "# 2. Setup Pipeline"
   ]
  },
  {
   "cell_type": "code",
   "execution_count": 4,
   "metadata": {},
   "outputs": [],
   "source": [
    "pca=PCA()\n",
    "SLR = Model_1"
   ]
  },
  {
   "cell_type": "code",
   "execution_count": 5,
   "metadata": {},
   "outputs": [],
   "source": [
    "# Step 1: PCA\n",
    "# Step 2: Model\n",
    "pipe = Pipeline(steps=[(\"pca\",pca),(\"SLR\",SLR)])"
   ]
  },
  {
   "cell_type": "code",
   "execution_count": 6,
   "metadata": {},
   "outputs": [],
   "source": [
    "param_grid = {\n",
    "    \"pca__n_components\": [5, 10, 30, 45, 60, 100 ,150 ,170],\n",
    "    \"SLR__alpha\":[0.05,0.1,0.2,0.5,1,2,8,10,100,1000,10000]\n",
    "}"
   ]
  },
  {
   "cell_type": "markdown",
   "metadata": {},
   "source": [
    "# 3. Setup GridSearch"
   ]
  },
  {
   "cell_type": "code",
   "execution_count": 7,
   "metadata": {},
   "outputs": [],
   "source": [
    "score_metric = 'neg_mean_squared_error'\n",
    "search = GridSearchCV(pipe,param_grid,\n",
    "                      n_jobs=-1,\n",
    "                      cv=10,\n",
    "                      scoring=score_metric)"
   ]
  },
  {
   "cell_type": "code",
   "execution_count": 8,
   "metadata": {},
   "outputs": [
    {
     "data": {
      "text/plain": [
       "GridSearchCV(cv=10,\n",
       "             estimator=Pipeline(steps=[('pca', PCA()), ('SLR', Ridge())]),\n",
       "             n_jobs=-1,\n",
       "             param_grid={'SLR__alpha': [0.05, 0.1, 0.2, 0.5, 1, 2, 8, 10, 100,\n",
       "                                        1000, 10000],\n",
       "                         'pca__n_components': [5, 10, 30, 45, 60, 100, 150,\n",
       "                                               170]},\n",
       "             scoring='neg_mean_squared_error')"
      ]
     },
     "execution_count": 8,
     "metadata": {},
     "output_type": "execute_result"
    }
   ],
   "source": [
    "search.fit(X_train,Y_train)"
   ]
  },
  {
   "cell_type": "code",
   "execution_count": 9,
   "metadata": {},
   "outputs": [
    {
     "name": "stdout",
     "output_type": "stream",
     "text": [
      "Best parameter (CV score=-0.734):\n",
      "{'SLR__alpha': 1000, 'pca__n_components': 150}\n"
     ]
    }
   ],
   "source": [
    "print(\"Best parameter (CV score=%0.3f):\" % search.best_score_)\n",
    "print(search.best_params_)"
   ]
  },
  {
   "cell_type": "code",
   "execution_count": 10,
   "metadata": {},
   "outputs": [
    {
     "data": {
      "text/html": [
       "<div>\n",
       "<style scoped>\n",
       "    .dataframe tbody tr th:only-of-type {\n",
       "        vertical-align: middle;\n",
       "    }\n",
       "\n",
       "    .dataframe tbody tr th {\n",
       "        vertical-align: top;\n",
       "    }\n",
       "\n",
       "    .dataframe thead th {\n",
       "        text-align: right;\n",
       "    }\n",
       "</style>\n",
       "<table border=\"1\" class=\"dataframe\">\n",
       "  <thead>\n",
       "    <tr style=\"text-align: right;\">\n",
       "      <th></th>\n",
       "      <th>mean_fit_time</th>\n",
       "      <th>std_fit_time</th>\n",
       "      <th>mean_score_time</th>\n",
       "      <th>std_score_time</th>\n",
       "      <th>param_SLR__alpha</th>\n",
       "      <th>param_pca__n_components</th>\n",
       "      <th>params</th>\n",
       "      <th>split0_test_score</th>\n",
       "      <th>split1_test_score</th>\n",
       "      <th>split2_test_score</th>\n",
       "      <th>split3_test_score</th>\n",
       "      <th>split4_test_score</th>\n",
       "      <th>split5_test_score</th>\n",
       "      <th>split6_test_score</th>\n",
       "      <th>split7_test_score</th>\n",
       "      <th>split8_test_score</th>\n",
       "      <th>split9_test_score</th>\n",
       "      <th>mean_test_score</th>\n",
       "      <th>std_test_score</th>\n",
       "      <th>rank_test_score</th>\n",
       "    </tr>\n",
       "  </thead>\n",
       "  <tbody>\n",
       "    <tr>\n",
       "      <th>79</th>\n",
       "      <td>0.118929</td>\n",
       "      <td>0.038067</td>\n",
       "      <td>0.009031</td>\n",
       "      <td>0.001632</td>\n",
       "      <td>1000</td>\n",
       "      <td>170</td>\n",
       "      <td>{'SLR__alpha': 1000, 'pca__n_components': 170}</td>\n",
       "      <td>-0.652320</td>\n",
       "      <td>-0.629464</td>\n",
       "      <td>-1.019701</td>\n",
       "      <td>-0.796638</td>\n",
       "      <td>-0.838327</td>\n",
       "      <td>-0.623856</td>\n",
       "      <td>-0.605852</td>\n",
       "      <td>-0.705903</td>\n",
       "      <td>-0.751369</td>\n",
       "      <td>-0.717822</td>\n",
       "      <td>-0.734125</td>\n",
       "      <td>0.119974</td>\n",
       "      <td>1</td>\n",
       "    </tr>\n",
       "    <tr>\n",
       "      <th>78</th>\n",
       "      <td>0.098233</td>\n",
       "      <td>0.008265</td>\n",
       "      <td>0.012151</td>\n",
       "      <td>0.005672</td>\n",
       "      <td>1000</td>\n",
       "      <td>150</td>\n",
       "      <td>{'SLR__alpha': 1000, 'pca__n_components': 150}</td>\n",
       "      <td>-0.652320</td>\n",
       "      <td>-0.629464</td>\n",
       "      <td>-1.019701</td>\n",
       "      <td>-0.796638</td>\n",
       "      <td>-0.838327</td>\n",
       "      <td>-0.623856</td>\n",
       "      <td>-0.605852</td>\n",
       "      <td>-0.705903</td>\n",
       "      <td>-0.751369</td>\n",
       "      <td>-0.717822</td>\n",
       "      <td>-0.734125</td>\n",
       "      <td>0.119974</td>\n",
       "      <td>1</td>\n",
       "    </tr>\n",
       "    <tr>\n",
       "      <th>70</th>\n",
       "      <td>0.124828</td>\n",
       "      <td>0.026482</td>\n",
       "      <td>0.012134</td>\n",
       "      <td>0.010196</td>\n",
       "      <td>100</td>\n",
       "      <td>150</td>\n",
       "      <td>{'SLR__alpha': 100, 'pca__n_components': 150}</td>\n",
       "      <td>-0.557192</td>\n",
       "      <td>-0.551972</td>\n",
       "      <td>-2.032064</td>\n",
       "      <td>-0.668318</td>\n",
       "      <td>-0.719911</td>\n",
       "      <td>-0.566579</td>\n",
       "      <td>-0.569639</td>\n",
       "      <td>-0.613083</td>\n",
       "      <td>-0.671898</td>\n",
       "      <td>-0.616025</td>\n",
       "      <td>-0.756668</td>\n",
       "      <td>0.428507</td>\n",
       "      <td>3</td>\n",
       "    </tr>\n",
       "    <tr>\n",
       "      <th>71</th>\n",
       "      <td>0.100769</td>\n",
       "      <td>0.016718</td>\n",
       "      <td>0.012111</td>\n",
       "      <td>0.005507</td>\n",
       "      <td>100</td>\n",
       "      <td>170</td>\n",
       "      <td>{'SLR__alpha': 100, 'pca__n_components': 170}</td>\n",
       "      <td>-0.557192</td>\n",
       "      <td>-0.551972</td>\n",
       "      <td>-2.032064</td>\n",
       "      <td>-0.668318</td>\n",
       "      <td>-0.719911</td>\n",
       "      <td>-0.566579</td>\n",
       "      <td>-0.569639</td>\n",
       "      <td>-0.613083</td>\n",
       "      <td>-0.671898</td>\n",
       "      <td>-0.616025</td>\n",
       "      <td>-0.756668</td>\n",
       "      <td>0.428507</td>\n",
       "      <td>3</td>\n",
       "    </tr>\n",
       "    <tr>\n",
       "      <th>54</th>\n",
       "      <td>0.102604</td>\n",
       "      <td>0.026756</td>\n",
       "      <td>0.007240</td>\n",
       "      <td>0.006526</td>\n",
       "      <td>8</td>\n",
       "      <td>150</td>\n",
       "      <td>{'SLR__alpha': 8, 'pca__n_components': 150}</td>\n",
       "      <td>-0.513021</td>\n",
       "      <td>-0.547673</td>\n",
       "      <td>-2.281377</td>\n",
       "      <td>-0.619544</td>\n",
       "      <td>-0.686219</td>\n",
       "      <td>-0.546546</td>\n",
       "      <td>-0.564497</td>\n",
       "      <td>-0.565643</td>\n",
       "      <td>-0.640100</td>\n",
       "      <td>-0.603677</td>\n",
       "      <td>-0.756829</td>\n",
       "      <td>0.510501</td>\n",
       "      <td>5</td>\n",
       "    </tr>\n",
       "    <tr>\n",
       "      <th>...</th>\n",
       "      <td>...</td>\n",
       "      <td>...</td>\n",
       "      <td>...</td>\n",
       "      <td>...</td>\n",
       "      <td>...</td>\n",
       "      <td>...</td>\n",
       "      <td>...</td>\n",
       "      <td>...</td>\n",
       "      <td>...</td>\n",
       "      <td>...</td>\n",
       "      <td>...</td>\n",
       "      <td>...</td>\n",
       "      <td>...</td>\n",
       "      <td>...</td>\n",
       "      <td>...</td>\n",
       "      <td>...</td>\n",
       "      <td>...</td>\n",
       "      <td>...</td>\n",
       "      <td>...</td>\n",
       "      <td>...</td>\n",
       "    </tr>\n",
       "    <tr>\n",
       "      <th>16</th>\n",
       "      <td>0.060838</td>\n",
       "      <td>0.009803</td>\n",
       "      <td>0.008149</td>\n",
       "      <td>0.004729</td>\n",
       "      <td>0.2</td>\n",
       "      <td>5</td>\n",
       "      <td>{'SLR__alpha': 0.2, 'pca__n_components': 5}</td>\n",
       "      <td>-1.175612</td>\n",
       "      <td>-1.119312</td>\n",
       "      <td>-1.241949</td>\n",
       "      <td>-1.452751</td>\n",
       "      <td>-1.442896</td>\n",
       "      <td>-0.959505</td>\n",
       "      <td>-1.196744</td>\n",
       "      <td>-1.126580</td>\n",
       "      <td>-1.190951</td>\n",
       "      <td>-1.127500</td>\n",
       "      <td>-1.203380</td>\n",
       "      <td>0.141495</td>\n",
       "      <td>84</td>\n",
       "    </tr>\n",
       "    <tr>\n",
       "      <th>8</th>\n",
       "      <td>0.068433</td>\n",
       "      <td>0.014105</td>\n",
       "      <td>0.008633</td>\n",
       "      <td>0.004734</td>\n",
       "      <td>0.1</td>\n",
       "      <td>5</td>\n",
       "      <td>{'SLR__alpha': 0.1, 'pca__n_components': 5}</td>\n",
       "      <td>-1.159809</td>\n",
       "      <td>-1.123291</td>\n",
       "      <td>-1.261161</td>\n",
       "      <td>-1.436917</td>\n",
       "      <td>-1.471896</td>\n",
       "      <td>-0.972122</td>\n",
       "      <td>-1.194501</td>\n",
       "      <td>-1.119799</td>\n",
       "      <td>-1.184277</td>\n",
       "      <td>-1.121476</td>\n",
       "      <td>-1.204525</td>\n",
       "      <td>0.143491</td>\n",
       "      <td>85</td>\n",
       "    </tr>\n",
       "    <tr>\n",
       "      <th>72</th>\n",
       "      <td>0.063669</td>\n",
       "      <td>0.015781</td>\n",
       "      <td>0.006925</td>\n",
       "      <td>0.006529</td>\n",
       "      <td>1000</td>\n",
       "      <td>5</td>\n",
       "      <td>{'SLR__alpha': 1000, 'pca__n_components': 5}</td>\n",
       "      <td>-1.164534</td>\n",
       "      <td>-1.104669</td>\n",
       "      <td>-1.296517</td>\n",
       "      <td>-1.461647</td>\n",
       "      <td>-1.462125</td>\n",
       "      <td>-0.953700</td>\n",
       "      <td>-1.194432</td>\n",
       "      <td>-1.126728</td>\n",
       "      <td>-1.189675</td>\n",
       "      <td>-1.123697</td>\n",
       "      <td>-1.207772</td>\n",
       "      <td>0.151069</td>\n",
       "      <td>86</td>\n",
       "    </tr>\n",
       "    <tr>\n",
       "      <th>56</th>\n",
       "      <td>0.061722</td>\n",
       "      <td>0.007996</td>\n",
       "      <td>0.008543</td>\n",
       "      <td>0.006382</td>\n",
       "      <td>10</td>\n",
       "      <td>5</td>\n",
       "      <td>{'SLR__alpha': 10, 'pca__n_components': 5}</td>\n",
       "      <td>-1.158057</td>\n",
       "      <td>-1.121375</td>\n",
       "      <td>-1.245569</td>\n",
       "      <td>-1.505679</td>\n",
       "      <td>-1.500510</td>\n",
       "      <td>-0.974211</td>\n",
       "      <td>-1.180491</td>\n",
       "      <td>-1.119769</td>\n",
       "      <td>-1.180431</td>\n",
       "      <td>-1.107185</td>\n",
       "      <td>-1.209328</td>\n",
       "      <td>0.161149</td>\n",
       "      <td>87</td>\n",
       "    </tr>\n",
       "    <tr>\n",
       "      <th>80</th>\n",
       "      <td>0.060502</td>\n",
       "      <td>0.005031</td>\n",
       "      <td>0.008776</td>\n",
       "      <td>0.001828</td>\n",
       "      <td>10000</td>\n",
       "      <td>5</td>\n",
       "      <td>{'SLR__alpha': 10000, 'pca__n_components': 5}</td>\n",
       "      <td>-1.231173</td>\n",
       "      <td>-1.176008</td>\n",
       "      <td>-1.271258</td>\n",
       "      <td>-1.549421</td>\n",
       "      <td>-1.493944</td>\n",
       "      <td>-0.990660</td>\n",
       "      <td>-1.264957</td>\n",
       "      <td>-1.202510</td>\n",
       "      <td>-1.251787</td>\n",
       "      <td>-1.192893</td>\n",
       "      <td>-1.262461</td>\n",
       "      <td>0.150629</td>\n",
       "      <td>88</td>\n",
       "    </tr>\n",
       "  </tbody>\n",
       "</table>\n",
       "<p>88 rows × 20 columns</p>\n",
       "</div>"
      ],
      "text/plain": [
       "    mean_fit_time  std_fit_time  mean_score_time  std_score_time  \\\n",
       "79       0.118929      0.038067         0.009031        0.001632   \n",
       "78       0.098233      0.008265         0.012151        0.005672   \n",
       "70       0.124828      0.026482         0.012134        0.010196   \n",
       "71       0.100769      0.016718         0.012111        0.005507   \n",
       "54       0.102604      0.026756         0.007240        0.006526   \n",
       "..            ...           ...              ...             ...   \n",
       "16       0.060838      0.009803         0.008149        0.004729   \n",
       "8        0.068433      0.014105         0.008633        0.004734   \n",
       "72       0.063669      0.015781         0.006925        0.006529   \n",
       "56       0.061722      0.007996         0.008543        0.006382   \n",
       "80       0.060502      0.005031         0.008776        0.001828   \n",
       "\n",
       "   param_SLR__alpha param_pca__n_components  \\\n",
       "79             1000                     170   \n",
       "78             1000                     150   \n",
       "70              100                     150   \n",
       "71              100                     170   \n",
       "54                8                     150   \n",
       "..              ...                     ...   \n",
       "16              0.2                       5   \n",
       "8               0.1                       5   \n",
       "72             1000                       5   \n",
       "56               10                       5   \n",
       "80            10000                       5   \n",
       "\n",
       "                                            params  split0_test_score  \\\n",
       "79  {'SLR__alpha': 1000, 'pca__n_components': 170}          -0.652320   \n",
       "78  {'SLR__alpha': 1000, 'pca__n_components': 150}          -0.652320   \n",
       "70   {'SLR__alpha': 100, 'pca__n_components': 150}          -0.557192   \n",
       "71   {'SLR__alpha': 100, 'pca__n_components': 170}          -0.557192   \n",
       "54     {'SLR__alpha': 8, 'pca__n_components': 150}          -0.513021   \n",
       "..                                             ...                ...   \n",
       "16     {'SLR__alpha': 0.2, 'pca__n_components': 5}          -1.175612   \n",
       "8      {'SLR__alpha': 0.1, 'pca__n_components': 5}          -1.159809   \n",
       "72    {'SLR__alpha': 1000, 'pca__n_components': 5}          -1.164534   \n",
       "56      {'SLR__alpha': 10, 'pca__n_components': 5}          -1.158057   \n",
       "80   {'SLR__alpha': 10000, 'pca__n_components': 5}          -1.231173   \n",
       "\n",
       "    split1_test_score  split2_test_score  split3_test_score  \\\n",
       "79          -0.629464          -1.019701          -0.796638   \n",
       "78          -0.629464          -1.019701          -0.796638   \n",
       "70          -0.551972          -2.032064          -0.668318   \n",
       "71          -0.551972          -2.032064          -0.668318   \n",
       "54          -0.547673          -2.281377          -0.619544   \n",
       "..                ...                ...                ...   \n",
       "16          -1.119312          -1.241949          -1.452751   \n",
       "8           -1.123291          -1.261161          -1.436917   \n",
       "72          -1.104669          -1.296517          -1.461647   \n",
       "56          -1.121375          -1.245569          -1.505679   \n",
       "80          -1.176008          -1.271258          -1.549421   \n",
       "\n",
       "    split4_test_score  split5_test_score  split6_test_score  \\\n",
       "79          -0.838327          -0.623856          -0.605852   \n",
       "78          -0.838327          -0.623856          -0.605852   \n",
       "70          -0.719911          -0.566579          -0.569639   \n",
       "71          -0.719911          -0.566579          -0.569639   \n",
       "54          -0.686219          -0.546546          -0.564497   \n",
       "..                ...                ...                ...   \n",
       "16          -1.442896          -0.959505          -1.196744   \n",
       "8           -1.471896          -0.972122          -1.194501   \n",
       "72          -1.462125          -0.953700          -1.194432   \n",
       "56          -1.500510          -0.974211          -1.180491   \n",
       "80          -1.493944          -0.990660          -1.264957   \n",
       "\n",
       "    split7_test_score  split8_test_score  split9_test_score  mean_test_score  \\\n",
       "79          -0.705903          -0.751369          -0.717822        -0.734125   \n",
       "78          -0.705903          -0.751369          -0.717822        -0.734125   \n",
       "70          -0.613083          -0.671898          -0.616025        -0.756668   \n",
       "71          -0.613083          -0.671898          -0.616025        -0.756668   \n",
       "54          -0.565643          -0.640100          -0.603677        -0.756829   \n",
       "..                ...                ...                ...              ...   \n",
       "16          -1.126580          -1.190951          -1.127500        -1.203380   \n",
       "8           -1.119799          -1.184277          -1.121476        -1.204525   \n",
       "72          -1.126728          -1.189675          -1.123697        -1.207772   \n",
       "56          -1.119769          -1.180431          -1.107185        -1.209328   \n",
       "80          -1.202510          -1.251787          -1.192893        -1.262461   \n",
       "\n",
       "    std_test_score  rank_test_score  \n",
       "79        0.119974                1  \n",
       "78        0.119974                1  \n",
       "70        0.428507                3  \n",
       "71        0.428507                3  \n",
       "54        0.510501                5  \n",
       "..             ...              ...  \n",
       "16        0.141495               84  \n",
       "8         0.143491               85  \n",
       "72        0.151069               86  \n",
       "56        0.161149               87  \n",
       "80        0.150629               88  \n",
       "\n",
       "[88 rows x 20 columns]"
      ]
     },
     "execution_count": 10,
     "metadata": {},
     "output_type": "execute_result"
    }
   ],
   "source": [
    "df = pd.DataFrame(search.cv_results_)\n",
    "df = df.sort_values(by=['rank_test_score'])\n",
    "df"
   ]
  },
  {
   "cell_type": "markdown",
   "metadata": {},
   "source": [
    "# 4. Best Hyperparameter"
   ]
  },
  {
   "cell_type": "code",
   "execution_count": 11,
   "metadata": {},
   "outputs": [
    {
     "name": "stdout",
     "output_type": "stream",
     "text": [
      "{'SLR__alpha': 1000, 'pca__n_components': 170}\n"
     ]
    }
   ],
   "source": [
    "parms = pd.DataFrame(df['params'])\n",
    "for i in parms.iloc[0]:\n",
    "    print(i)"
   ]
  },
  {
   "cell_type": "markdown",
   "metadata": {},
   "source": [
    "# 5. Evaluate Model $log(Sales)$"
   ]
  },
  {
   "cell_type": "code",
   "execution_count": 12,
   "metadata": {},
   "outputs": [],
   "source": [
    "best_pca =parms.iloc[0][0]['pca__n_components']\n",
    "best_alpha=parms.iloc[0][0]['SLR__alpha']"
   ]
  },
  {
   "cell_type": "code",
   "execution_count": 13,
   "metadata": {},
   "outputs": [],
   "source": [
    "Model_2 = Ridge(alpha=best_alpha)"
   ]
  },
  {
   "cell_type": "code",
   "execution_count": 14,
   "metadata": {},
   "outputs": [],
   "source": [
    "X_train1,X_test1,Y_train1,Y_test1 = train_test_split(X_train,Y_train,test_size=0.2,random_state=132)\n"
   ]
  },
  {
   "cell_type": "code",
   "execution_count": 15,
   "metadata": {},
   "outputs": [
    {
     "data": {
      "text/plain": [
       "Ridge(alpha=1000)"
      ]
     },
     "execution_count": 15,
     "metadata": {},
     "output_type": "execute_result"
    }
   ],
   "source": [
    "pca1 = PCA(n_components=100)\n",
    "pca1.fit(X_train1)\n",
    "PX_train1 = pca1.transform(X_train1)\n",
    "SLR1 = Model_2\n",
    "SLR1.fit(PX_train1,Y_train1)"
   ]
  },
  {
   "cell_type": "code",
   "execution_count": 16,
   "metadata": {},
   "outputs": [],
   "source": [
    "pca2 = PCA(n_components=100)\n",
    "pca2.fit(X_test1)\n",
    "PX_test1 = pca2.transform(X_test1)"
   ]
  },
  {
   "cell_type": "code",
   "execution_count": 17,
   "metadata": {},
   "outputs": [
    {
     "data": {
      "text/plain": [
       "1.8788800995658455"
      ]
     },
     "execution_count": 17,
     "metadata": {},
     "output_type": "execute_result"
    }
   ],
   "source": [
    "MSE(SLR1.predict(PX_test1),Y_test1)"
   ]
  },
  {
   "cell_type": "code",
   "execution_count": 18,
   "metadata": {},
   "outputs": [],
   "source": [
    "result = pd.DataFrame(np.exp(Y_test1))"
   ]
  },
  {
   "cell_type": "code",
   "execution_count": 19,
   "metadata": {},
   "outputs": [],
   "source": [
    "result[\"Predicted_sales\"] = np.exp(SLR1.predict(PX_test1))"
   ]
  },
  {
   "cell_type": "code",
   "execution_count": 20,
   "metadata": {},
   "outputs": [
    {
     "data": {
      "text/plain": [
       "1103.5284557825607"
      ]
     },
     "execution_count": 20,
     "metadata": {},
     "output_type": "execute_result"
    }
   ],
   "source": [
    "MSE(result[\"sales\"],result[\"Predicted_sales\"])"
   ]
  },
  {
   "cell_type": "markdown",
   "metadata": {},
   "source": [
    "# 5.1 Model using original sales data"
   ]
  },
  {
   "cell_type": "code",
   "execution_count": 21,
   "metadata": {},
   "outputs": [],
   "source": [
    "Model_3 = Ridge(alpha=best_alpha)"
   ]
  },
  {
   "cell_type": "code",
   "execution_count": 22,
   "metadata": {},
   "outputs": [],
   "source": [
    "OY_train = pd.read_csv(\"A_sales_train.csv\",index_col=0)"
   ]
  },
  {
   "cell_type": "code",
   "execution_count": 23,
   "metadata": {},
   "outputs": [],
   "source": [
    "X_train2,X_test2,Y_train2,Y_test2 = train_test_split(X_train,OY_train,test_size=0.2,random_state=132)"
   ]
  },
  {
   "cell_type": "code",
   "execution_count": 24,
   "metadata": {},
   "outputs": [
    {
     "data": {
      "text/plain": [
       "Ridge(alpha=1000)"
      ]
     },
     "execution_count": 24,
     "metadata": {},
     "output_type": "execute_result"
    }
   ],
   "source": [
    "pca3 = PCA(n_components=100)\n",
    "pca3.fit(X_train2)\n",
    "PX_train2 = pca3.transform(X_train2)\n",
    "SLR2 = Model_3\n",
    "SLR2.fit(PX_train2,Y_train2)"
   ]
  },
  {
   "cell_type": "code",
   "execution_count": 25,
   "metadata": {},
   "outputs": [],
   "source": [
    "pca4 = PCA(n_components=100)\n",
    "pca4.fit(X_test2)\n",
    "PX_test2 = pca4.transform(X_test2)"
   ]
  },
  {
   "cell_type": "code",
   "execution_count": 26,
   "metadata": {},
   "outputs": [
    {
     "data": {
      "text/plain": [
       "1576.6638570506102"
      ]
     },
     "execution_count": 26,
     "metadata": {},
     "output_type": "execute_result"
    }
   ],
   "source": [
    "MSE(SLR2.predict(PX_test2),Y_test2)"
   ]
  },
  {
   "cell_type": "markdown",
   "metadata": {},
   "source": [
    "#### Notably model trained on log(Sales) has lower out-of-sample MSE than model with unmodified Sales"
   ]
  },
  {
   "cell_type": "markdown",
   "metadata": {},
   "source": [
    "# 6. Inventory Decision"
   ]
  },
  {
   "cell_type": "code",
   "execution_count": 27,
   "metadata": {},
   "outputs": [],
   "source": [
    "residual = result['sales']-result['Predicted_sales']"
   ]
  },
  {
   "cell_type": "code",
   "execution_count": 28,
   "metadata": {},
   "outputs": [
    {
     "data": {
      "text/plain": [
       "(4, 8)"
      ]
     },
     "execution_count": 28,
     "metadata": {},
     "output_type": "execute_result"
    }
   ],
   "source": [
    "Price=20\n",
    "Cost=12\n",
    "Salvage=8\n",
    "Over=Cost - Salvage\n",
    "Under=Price - Cost\n",
    "Over, Under"
   ]
  },
  {
   "cell_type": "markdown",
   "metadata": {},
   "source": [
    "### QQ plot to explore the distribution of residual"
   ]
  },
  {
   "cell_type": "markdown",
   "metadata": {},
   "source": [
    "#### Normal Distribution"
   ]
  },
  {
   "cell_type": "code",
   "execution_count": 29,
   "metadata": {},
   "outputs": [],
   "source": [
    "import scipy.stats as sct"
   ]
  },
  {
   "cell_type": "code",
   "execution_count": 30,
   "metadata": {},
   "outputs": [
    {
     "data": {
      "image/png": "[encoded data removed]",
      "text/plain": [
       "<Figure size 432x288 with 1 Axes>"
      ]
     },
     "metadata": {
      "needs_background": "light"
     },
     "output_type": "display_data"
    }
   ],
   "source": [
    "import scipy\n",
    "scipy.stats.probplot(residual, dist=\"norm\", plot=plt)\n",
    "plt.show()"
   ]
  },
  {
   "cell_type": "code",
   "execution_count": 31,
   "metadata": {},
   "outputs": [],
   "source": [
    "s = residual.std()\n",
    "opt_dec_N=np.ceil(sct.norm.ppf(Under/(Under+Over))*s + result['Predicted_sales'])"
   ]
  },
  {
   "cell_type": "markdown",
   "metadata": {},
   "source": [
    "#### Exponential Distribution"
   ]
  },
  {
   "cell_type": "code",
   "execution_count": 32,
   "metadata": {},
   "outputs": [
    {
     "data": {
      "image/png": "[encoded data removed]",
      "text/plain": [
       "<Figure size 432x288 with 1 Axes>"
      ]
     },
     "metadata": {
      "needs_background": "light"
     },
     "output_type": "display_data"
    }
   ],
   "source": [
    "scipy.stats.probplot(residual, dist=\"expon\", plot=plt)\n",
    "plt.show()"
   ]
  },
  {
   "cell_type": "code",
   "execution_count": 33,
   "metadata": {},
   "outputs": [],
   "source": [
    "opt_dec_E=np.ceil((-result['Predicted_sales'])*np.log(1-(Under/(Under+Over))))"
   ]
  },
  {
   "cell_type": "markdown",
   "metadata": {},
   "source": [
    "#### Empirical Distribution"
   ]
  },
  {
   "cell_type": "code",
   "execution_count": 34,
   "metadata": {},
   "outputs": [
    {
     "data": {
      "text/plain": [
       "[<matplotlib.lines.Line2D at 0x219e5c71430>]"
      ]
     },
     "execution_count": 34,
     "metadata": {},
     "output_type": "execute_result"
    },
    {
     "data": {
      "image/png": "[encoded data removed]",
      "text/plain": [
       "<Figure size 432x288 with 1 Axes>"
      ]
     },
     "metadata": {
      "needs_background": "light"
     },
     "output_type": "display_data"
    }
   ],
   "source": [
    "size = residual.shape[0]\n",
    "step=1/size\n",
    "jumps = [step*i for i in range(1,size+1)]\n",
    "Sample = sorted(residual)\n",
    "plt.plot(Sample,jumps)"
   ]
  },
  {
   "cell_type": "code",
   "execution_count": 35,
   "metadata": {},
   "outputs": [
    {
     "data": {
      "image/png": "[encoded data removed]",
      "text/plain": [
       "<Figure size 432x288 with 1 Axes>"
      ]
     },
     "metadata": {
      "needs_background": "light"
     },
     "output_type": "display_data"
    }
   ],
   "source": [
    "plt.hist(Sample)\n",
    "plt.show()"
   ]
  },
  {
   "cell_type": "code",
   "execution_count": 36,
   "metadata": {},
   "outputs": [],
   "source": [
    "def inv(sample,jump,area):\n",
    "    size = len(sample)\n",
    "    i=0\n",
    "    temp=jump[i]\n",
    "    while temp<area:\n",
    "        i+=1\n",
    "        temp=jump[i]\n",
    "        \n",
    "    return sample[i]"
   ]
  },
  {
   "cell_type": "code",
   "execution_count": 37,
   "metadata": {},
   "outputs": [
    {
     "data": {
      "text/plain": [
       "7.089672327749463"
      ]
     },
     "execution_count": 37,
     "metadata": {},
     "output_type": "execute_result"
    }
   ],
   "source": [
    "offset = inv(Sample,jumps,2/3)\n",
    "offset"
   ]
  },
  {
   "cell_type": "code",
   "execution_count": 38,
   "metadata": {},
   "outputs": [],
   "source": [
    "opt_dec_B = np.ceil(result['Predicted_sales']+offset)"
   ]
  },
  {
   "cell_type": "markdown",
   "metadata": {},
   "source": [
    "# 7. Out-of-samples Profit"
   ]
  },
  {
   "cell_type": "code",
   "execution_count": 39,
   "metadata": {},
   "outputs": [
    {
     "data": {
      "text/plain": [
       "82096.0"
      ]
     },
     "execution_count": 39,
     "metadata": {},
     "output_type": "execute_result"
    }
   ],
   "source": [
    "#max profit for test data set\n",
    "max_profit = result['sales'].sum()*(Price-Cost)\n",
    "max_profit"
   ]
  },
  {
   "cell_type": "code",
   "execution_count": 40,
   "metadata": {},
   "outputs": [],
   "source": [
    "def profit(demand,inv):\n",
    "    return (Price-Salvage)*np.minimum(demand,inv)-(Cost-Salvage)*inv"
   ]
  },
  {
   "cell_type": "code",
   "execution_count": 41,
   "metadata": {},
   "outputs": [
    {
     "data": {
      "text/plain": [
       "24496.0"
      ]
     },
     "execution_count": 41,
     "metadata": {},
     "output_type": "execute_result"
    }
   ],
   "source": [
    "#Profit (Normal)\n",
    "profit_lst_N = profit(result['sales'],opt_dec_N)\n",
    "profit_lst_N.sum()"
   ]
  },
  {
   "cell_type": "code",
   "execution_count": 42,
   "metadata": {},
   "outputs": [
    {
     "data": {
      "text/plain": [
       "23916.0"
      ]
     },
     "execution_count": 42,
     "metadata": {},
     "output_type": "execute_result"
    }
   ],
   "source": [
    "#Profit (Exponential)\n",
    "profit_lst_E = profit(result['sales'],opt_dec_E)\n",
    "profit_lst_E.sum()"
   ]
  },
  {
   "cell_type": "code",
   "execution_count": 43,
   "metadata": {},
   "outputs": [
    {
     "data": {
      "text/plain": [
       "26384.0"
      ]
     },
     "execution_count": 43,
     "metadata": {},
     "output_type": "execute_result"
    }
   ],
   "source": [
    "#Profit (Empirical)\n",
    "profit_lst_B = profit(result['sales'],opt_dec_B)\n",
    "profit_lst_B.sum()"
   ]
  },
  {
   "cell_type": "markdown",
   "metadata": {},
   "source": [
    "# 8. K-Fold Cross Validation"
   ]
  },
  {
   "cell_type": "markdown",
   "metadata": {},
   "source": [
    "### Repeat steps 5,6,7 with 10-fold cross validation"
   ]
  },
  {
   "cell_type": "code",
   "execution_count": 44,
   "metadata": {},
   "outputs": [],
   "source": [
    "Model_4=Ridge(alpha=best_alpha)"
   ]
  },
  {
   "cell_type": "code",
   "execution_count": 45,
   "metadata": {},
   "outputs": [],
   "source": [
    "from sklearn.model_selection import KFold\n",
    "k=10\n",
    "kf = KFold(n_splits=k)\n",
    "X_train_t=X_train.to_numpy()\n",
    "Y_train_t=Y_train.to_numpy()\n",
    "model = []\n",
    "mse_lst = []\n",
    "max_profit_lst = []\n",
    "profit_N_lst = []\n",
    "profit_E_lst = []\n",
    "profit_B_lst = []\n",
    "\n",
    "for train_index,test_index in kf.split(X_train_t):\n",
    "    X_train_K,X_test_K=X_train_t[train_index],X_train_t[test_index]\n",
    "    Y_train_K,Y_test_K=Y_train_t[train_index],Y_train_t[test_index]\n",
    "    \n",
    "    #PCA to transform train data\n",
    "    pca_K1 = PCA(n_components=best_pca)\n",
    "    pca_K1.fit(X_train_K)\n",
    "    PX_train_K = pca_K1.transform(X_train_K)\n",
    "    \n",
    "    #Model\n",
    "    SLR_K = Model_4\n",
    "    SLR_K.fit(PX_train_K,Y_train_K)\n",
    "    \n",
    "    #pca to transform test data\n",
    "    pca_K2 = PCA(n_components=best_pca)\n",
    "    pca_K2.fit(X_test_K)\n",
    "    PX_test_K = pca_K2.transform(X_test_K)\n",
    "    \n",
    "    #MSE\n",
    "    mse_lst.append(MSE(SLR_K.predict(PX_test_K),Y_test_K))\n",
    "    \n",
    "    #Transform log(sale) back to sale\n",
    "    result_K = pd.DataFrame(np.exp(Y_test_K))\n",
    "    result_K[\"Predicted_sales\"] = np.exp(SLR_K.predict(PX_test_K))\n",
    "    \n",
    "    #Obtain residual\n",
    "    residual_K = result_K[0]-result_K['Predicted_sales']\n",
    "    \n",
    "    #Get std for Normal distribution\n",
    "    s_K = residual.std()\n",
    "    \n",
    "    #Inventory Decision (Normal)\n",
    "    opt_dec_N_K=np.ceil(sct.norm.ppf(Under/(Under+Over))*s_K + result_K['Predicted_sales'])\n",
    "    #Inventory Decision (Exponential)\n",
    "    opt_dec_E_K=np.ceil((-result_K['Predicted_sales'])*np.log(1-(Under/(Under+Over))))\n",
    "    \n",
    "    #Inventory Decision (Empirical Distribution)\n",
    "    size_K = residual_K.shape[0]\n",
    "    step_K=1/size_K\n",
    "    jumps_K = [step_K*i for i in range(1,size+1)]\n",
    "    Sample_K = sorted(residual_K)\n",
    "    offset_K = inv(Sample_K,jumps_K,2/3)\n",
    "    opt_dec_B_K = np.ceil(result_K['Predicted_sales']+offset_K)\n",
    "    \n",
    "    #Out-of_sample profit\n",
    "    profit_lst_B_K = profit(result_K[0],opt_dec_B_K)\n",
    "    profit_B_lst.append(profit_lst_B_K.sum())\n",
    "    \n",
    "    profit_lst_N_K = profit(result_K[0],opt_dec_N_K)\n",
    "    profit_N_lst.append(profit_lst_N_K.sum())\n",
    "    \n",
    "    profit_lst_E_K = profit(result_K[0],opt_dec_E_K)\n",
    "    profit_E_lst.append(profit_lst_E_K.sum())\n",
    "    \n",
    "    max_profit_K = result_K[0].sum()*(Price-Cost)\n",
    "    max_profit_lst.append(max_profit_K)\n",
    "    \n",
    "max_profit_lst = np.array(max_profit_lst)\n",
    "profit_N_lst = np.array(profit_N_lst)\n",
    "profit_E_lst = np.array(profit_E_lst)\n",
    "profit_B_lst = np.array(profit_B_lst)\n",
    "\n",
    "fraction_of_max_N = profit_N_lst/max_profit_lst\n",
    "fraction_of_max_E = profit_E_lst/max_profit_lst\n",
    "fraction_of_max_B = profit_B_lst/max_profit_lst\n",
    "\n",
    "dist_profit = [\"Normal\",\"Exponential\",\"Empirical\",\"Max\"]\n",
    "dist_frac = [\"Normal\",\"Exponential\",\"Empirical\"]\n",
    "col_name = [\"Dataset_\"+str(i) for i in range(1,k+1)]\n",
    "\n",
    "profit_lst = [profit_N_lst,profit_E_lst,profit_B_lst,max_profit_lst]\n",
    "profit_table = pd.DataFrame(profit_lst,index=dist_profit,columns=col_name)\n",
    "profit_table[\"mean_profit\"]=profit_table.mean(axis=1)\n",
    "profit_table[\"std_profit\"]=profit_table.std(ddof=1,axis=1)\n",
    "\n",
    "fraction_lst = [fraction_of_max_N,fraction_of_max_E,fraction_of_max_B]\n",
    "fraction_table = pd.DataFrame(fraction_lst,index=dist_frac,columns=col_name)\n",
    "fraction_table[\"mean_fraction\"]=fraction_table.mean(axis=1)"
   ]
  },
  {
   "cell_type": "code",
   "execution_count": 46,
   "metadata": {},
   "outputs": [
    {
     "data": {
      "text/html": [
       "<div>\n",
       "<style scoped>\n",
       "    .dataframe tbody tr th:only-of-type {\n",
       "        vertical-align: middle;\n",
       "    }\n",
       "\n",
       "    .dataframe tbody tr th {\n",
       "        vertical-align: top;\n",
       "    }\n",
       "\n",
       "    .dataframe thead th {\n",
       "        text-align: right;\n",
       "    }\n",
       "</style>\n",
       "<table border=\"1\" class=\"dataframe\">\n",
       "  <thead>\n",
       "    <tr style=\"text-align: right;\">\n",
       "      <th></th>\n",
       "      <th>Dataset_1</th>\n",
       "      <th>Dataset_2</th>\n",
       "      <th>Dataset_3</th>\n",
       "      <th>Dataset_4</th>\n",
       "      <th>Dataset_5</th>\n",
       "      <th>Dataset_6</th>\n",
       "      <th>Dataset_7</th>\n",
       "      <th>Dataset_8</th>\n",
       "      <th>Dataset_9</th>\n",
       "      <th>Dataset_10</th>\n",
       "      <th>mean_fraction</th>\n",
       "    </tr>\n",
       "  </thead>\n",
       "  <tbody>\n",
       "    <tr>\n",
       "      <th>Normal</th>\n",
       "      <td>0.228494</td>\n",
       "      <td>0.296358</td>\n",
       "      <td>0.073095</td>\n",
       "      <td>0.272103</td>\n",
       "      <td>0.159226</td>\n",
       "      <td>0.251178</td>\n",
       "      <td>0.155040</td>\n",
       "      <td>0.271813</td>\n",
       "      <td>0.281407</td>\n",
       "      <td>0.156070</td>\n",
       "      <td>0.214478</td>\n",
       "    </tr>\n",
       "    <tr>\n",
       "      <th>Exponential</th>\n",
       "      <td>0.207230</td>\n",
       "      <td>0.275234</td>\n",
       "      <td>0.010368</td>\n",
       "      <td>0.252275</td>\n",
       "      <td>0.150685</td>\n",
       "      <td>0.217578</td>\n",
       "      <td>0.124898</td>\n",
       "      <td>0.228968</td>\n",
       "      <td>0.253848</td>\n",
       "      <td>0.144353</td>\n",
       "      <td>0.186544</td>\n",
       "    </tr>\n",
       "    <tr>\n",
       "      <th>Empirical</th>\n",
       "      <td>0.245892</td>\n",
       "      <td>0.315627</td>\n",
       "      <td>0.078452</td>\n",
       "      <td>0.286266</td>\n",
       "      <td>0.179210</td>\n",
       "      <td>0.276890</td>\n",
       "      <td>0.169172</td>\n",
       "      <td>0.277797</td>\n",
       "      <td>0.292949</td>\n",
       "      <td>0.184595</td>\n",
       "      <td>0.230685</td>\n",
       "    </tr>\n",
       "  </tbody>\n",
       "</table>\n",
       "</div>"
      ],
      "text/plain": [
       "             Dataset_1  Dataset_2  Dataset_3  Dataset_4  Dataset_5  Dataset_6  \\\n",
       "Normal        0.228494   0.296358   0.073095   0.272103   0.159226   0.251178   \n",
       "Exponential   0.207230   0.275234   0.010368   0.252275   0.150685   0.217578   \n",
       "Empirical     0.245892   0.315627   0.078452   0.286266   0.179210   0.276890   \n",
       "\n",
       "             Dataset_7  Dataset_8  Dataset_9  Dataset_10  mean_fraction  \n",
       "Normal        0.155040   0.271813   0.281407    0.156070       0.214478  \n",
       "Exponential   0.124898   0.228968   0.253848    0.144353       0.186544  \n",
       "Empirical     0.169172   0.277797   0.292949    0.184595       0.230685  "
      ]
     },
     "execution_count": 46,
     "metadata": {},
     "output_type": "execute_result"
    }
   ],
   "source": [
    "fraction_table"
   ]
  },
  {
   "cell_type": "code",
   "execution_count": 47,
   "metadata": {},
   "outputs": [
    {
     "data": {
      "text/html": [
       "<div>\n",
       "<style scoped>\n",
       "    .dataframe tbody tr th:only-of-type {\n",
       "        vertical-align: middle;\n",
       "    }\n",
       "\n",
       "    .dataframe tbody tr th {\n",
       "        vertical-align: top;\n",
       "    }\n",
       "\n",
       "    .dataframe thead th {\n",
       "        text-align: right;\n",
       "    }\n",
       "</style>\n",
       "<table border=\"1\" class=\"dataframe\">\n",
       "  <thead>\n",
       "    <tr style=\"text-align: right;\">\n",
       "      <th></th>\n",
       "      <th>Dataset_1</th>\n",
       "      <th>Dataset_2</th>\n",
       "      <th>Dataset_3</th>\n",
       "      <th>Dataset_4</th>\n",
       "      <th>Dataset_5</th>\n",
       "      <th>Dataset_6</th>\n",
       "      <th>Dataset_7</th>\n",
       "      <th>Dataset_8</th>\n",
       "      <th>Dataset_9</th>\n",
       "      <th>Dataset_10</th>\n",
       "      <th>mean_profit</th>\n",
       "      <th>std_profit</th>\n",
       "    </tr>\n",
       "  </thead>\n",
       "  <tbody>\n",
       "    <tr>\n",
       "      <th>Normal</th>\n",
       "      <td>9456.0</td>\n",
       "      <td>13412.0</td>\n",
       "      <td>3384.0</td>\n",
       "      <td>12680.0</td>\n",
       "      <td>7904.0</td>\n",
       "      <td>9808.0</td>\n",
       "      <td>7592.0</td>\n",
       "      <td>12536.0</td>\n",
       "      <td>12580.0</td>\n",
       "      <td>6500.0</td>\n",
       "      <td>9585.2</td>\n",
       "      <td>3110.260208</td>\n",
       "    </tr>\n",
       "    <tr>\n",
       "      <th>Exponential</th>\n",
       "      <td>8576.0</td>\n",
       "      <td>12456.0</td>\n",
       "      <td>480.0</td>\n",
       "      <td>11756.0</td>\n",
       "      <td>7480.0</td>\n",
       "      <td>8496.0</td>\n",
       "      <td>6116.0</td>\n",
       "      <td>10560.0</td>\n",
       "      <td>11348.0</td>\n",
       "      <td>6012.0</td>\n",
       "      <td>8328.0</td>\n",
       "      <td>3399.272393</td>\n",
       "    </tr>\n",
       "    <tr>\n",
       "      <th>Empirical</th>\n",
       "      <td>10176.0</td>\n",
       "      <td>14284.0</td>\n",
       "      <td>3632.0</td>\n",
       "      <td>13340.0</td>\n",
       "      <td>8896.0</td>\n",
       "      <td>10812.0</td>\n",
       "      <td>8284.0</td>\n",
       "      <td>12812.0</td>\n",
       "      <td>13096.0</td>\n",
       "      <td>7688.0</td>\n",
       "      <td>10302.0</td>\n",
       "      <td>3111.901926</td>\n",
       "    </tr>\n",
       "    <tr>\n",
       "      <th>Max</th>\n",
       "      <td>41384.0</td>\n",
       "      <td>45256.0</td>\n",
       "      <td>46296.0</td>\n",
       "      <td>46600.0</td>\n",
       "      <td>49640.0</td>\n",
       "      <td>39048.0</td>\n",
       "      <td>48968.0</td>\n",
       "      <td>46120.0</td>\n",
       "      <td>44704.0</td>\n",
       "      <td>41648.0</td>\n",
       "      <td>44966.4</td>\n",
       "      <td>3203.875254</td>\n",
       "    </tr>\n",
       "  </tbody>\n",
       "</table>\n",
       "</div>"
      ],
      "text/plain": [
       "             Dataset_1  Dataset_2  Dataset_3  Dataset_4  Dataset_5  Dataset_6  \\\n",
       "Normal          9456.0    13412.0     3384.0    12680.0     7904.0     9808.0   \n",
       "Exponential     8576.0    12456.0      480.0    11756.0     7480.0     8496.0   \n",
       "Empirical      10176.0    14284.0     3632.0    13340.0     8896.0    10812.0   \n",
       "Max            41384.0    45256.0    46296.0    46600.0    49640.0    39048.0   \n",
       "\n",
       "             Dataset_7  Dataset_8  Dataset_9  Dataset_10  mean_profit  \\\n",
       "Normal          7592.0    12536.0    12580.0      6500.0       9585.2   \n",
       "Exponential     6116.0    10560.0    11348.0      6012.0       8328.0   \n",
       "Empirical       8284.0    12812.0    13096.0      7688.0      10302.0   \n",
       "Max            48968.0    46120.0    44704.0     41648.0      44966.4   \n",
       "\n",
       "              std_profit  \n",
       "Normal       3110.260208  \n",
       "Exponential  3399.272393  \n",
       "Empirical    3111.901926  \n",
       "Max          3203.875254  "
      ]
     },
     "execution_count": 47,
     "metadata": {},
     "output_type": "execute_result"
    }
   ],
   "source": [
    "profit_table"
   ]
  },
  {
   "cell_type": "code",
   "execution_count": 48,
   "metadata": {},
   "outputs": [],
   "source": [
    "profit_table.to_csv(\".\\\\Model_Selection_Result\\\\2.3_Lin_reg_ridge.csv\")"
   ]
  },
  {
   "cell_type": "code",
   "execution_count": null,
   "metadata": {},
   "outputs": [],
   "source": []
  }
 ],
 "metadata": {
  "kernelspec": {
   "display_name": "Python 3",
   "language": "python",
   "name": "python3"
  },
  "language_info": {
   "codemirror_mode": {
    "name": "ipython",
    "version": 3
   },
   "file_extension": ".py",
   "mimetype": "text/x-python",
   "name": "python",
   "nbconvert_exporter": "python",
   "pygments_lexer": "ipython3",
   "version": "3.8.5"
  }
 },
 "nbformat": 4,
 "nbformat_minor": 4
}
