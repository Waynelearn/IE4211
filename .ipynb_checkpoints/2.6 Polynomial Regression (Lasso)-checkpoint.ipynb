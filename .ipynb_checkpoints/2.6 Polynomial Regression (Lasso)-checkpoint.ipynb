{
 "cells": [
  {
   "cell_type": "code",
   "execution_count": 5,
   "metadata": {},
   "outputs": [],
   "source": [
    "import pandas as pd\n",
    "import numpy as np\n",
    "import matplotlib.pyplot as plt\n",
    "from sklearn.pipeline import Pipeline\n",
    "from sklearn.model_selection import GridSearchCV\n",
    "from sklearn.decomposition import PCA\n",
    "from sklearn.metrics import mean_squared_error as MSE\n",
    "from sklearn.linear_model import LinearRegression\n",
    "from sklearn.preprocessing import PolynomialFeatures\n",
    "from sklearn.model_selection import train_test_split\n",
    "import pickle\n",
    "from sklearn.linear_model import Ridge"
   ]
  },
  {
   "cell_type": "markdown",
   "metadata": {},
   "source": [
    "# Import the train data"
   ]
  },
  {
   "cell_type": "code",
   "execution_count": 6,
   "metadata": {},
   "outputs": [],
   "source": [
    "X_train = pd.read_csv(\"A_Normalised_train_data.csv\",index_col=0)\n",
    "Y_train = pd.read_csv(\"A_Log_sales_train.csv\",index_col=0)"
   ]
  },
  {
   "cell_type": "markdown",
   "metadata": {},
   "source": [
    "# Setup Pipeline"
   ]
  },
  {
   "cell_type": "code",
   "execution_count": 7,
   "metadata": {},
   "outputs": [],
   "source": [
    "poly = PolynomialFeatures()\n",
    "pca=PCA()\n",
    "SLR = Ridge()"
   ]
  },
  {
   "cell_type": "code",
   "execution_count": 8,
   "metadata": {},
   "outputs": [],
   "source": [
    "# Step 1: Polynomial transform\n",
    "# Step 2: PCA\n",
    "# Step 3: Model\n",
    "pipe = Pipeline(steps=[(\"poly\",poly),(\"pca\",pca),(\"SLR\",SLR)])"
   ]
  },
  {
   "cell_type": "code",
   "execution_count": 9,
   "metadata": {},
   "outputs": [],
   "source": [
    "param_grid = {\n",
    "    \"pca__n_components\": [5, 10, 30, 45, 60, 100 ,150 ,170],\n",
    "    \"poly__degree\":[1,2],\n",
    "    \"SLR__alpha\":[0.05,0.1,0.2,0.5,1,2,8,10,100,1000,10000]\n",
    "}"
   ]
  },
  {
   "cell_type": "markdown",
   "metadata": {},
   "source": [
    "# Setup GridSearch"
   ]
  },
  {
   "cell_type": "code",
   "execution_count": 10,
   "metadata": {},
   "outputs": [],
   "source": [
    "score_metric = 'neg_mean_squared_error'\n",
    "search = GridSearchCV(pipe,param_grid,\n",
    "                      n_jobs=-1,\n",
    "                      cv=10,\n",
    "                      scoring=score_metric)"
   ]
  },
  {
   "cell_type": "code",
   "execution_count": 11,
   "metadata": {},
   "outputs": [
    {
     "data": {
      "text/plain": [
       "GridSearchCV(cv=10,\n",
       "             estimator=Pipeline(steps=[('poly', PolynomialFeatures()),\n",
       "                                       ('pca', PCA()), ('SLR', Ridge())]),\n",
       "             n_jobs=-1,\n",
       "             param_grid={'SLR__alpha': [0.05, 0.1, 0.2, 0.5, 1, 2, 8, 10, 100,\n",
       "                                        1000, 10000],\n",
       "                         'pca__n_components': [5, 10, 30, 45, 60, 100, 150,\n",
       "                                               170],\n",
       "                         'poly__degree': [1, 2]},\n",
       "             scoring='neg_mean_squared_error')"
      ]
     },
     "execution_count": 11,
     "metadata": {},
     "output_type": "execute_result"
    }
   ],
   "source": [
    "search.fit(X_train,Y_train)"
   ]
  },
  {
   "cell_type": "code",
   "execution_count": 12,
   "metadata": {},
   "outputs": [
    {
     "name": "stdout",
     "output_type": "stream",
     "text": [
      "Best parameter (CV score=-0.734):\n",
      "{'SLR__alpha': 1000, 'pca__n_components': 150, 'poly__degree': 1}\n"
     ]
    }
   ],
   "source": [
    "print(\"Best parameter (CV score=%0.3f):\" % search.best_score_)\n",
    "print(search.best_params_)"
   ]
  },
  {
   "cell_type": "code",
   "execution_count": 13,
   "metadata": {},
   "outputs": [
    {
     "data": {
      "text/html": [
       "<div>\n",
       "<style scoped>\n",
       "    .dataframe tbody tr th:only-of-type {\n",
       "        vertical-align: middle;\n",
       "    }\n",
       "\n",
       "    .dataframe tbody tr th {\n",
       "        vertical-align: top;\n",
       "    }\n",
       "\n",
       "    .dataframe thead th {\n",
       "        text-align: right;\n",
       "    }\n",
       "</style>\n",
       "<table border=\"1\" class=\"dataframe\">\n",
       "  <thead>\n",
       "    <tr style=\"text-align: right;\">\n",
       "      <th></th>\n",
       "      <th>mean_fit_time</th>\n",
       "      <th>std_fit_time</th>\n",
       "      <th>mean_score_time</th>\n",
       "      <th>std_score_time</th>\n",
       "      <th>param_SLR__alpha</th>\n",
       "      <th>param_pca__n_components</th>\n",
       "      <th>param_poly__degree</th>\n",
       "      <th>params</th>\n",
       "      <th>split0_test_score</th>\n",
       "      <th>split1_test_score</th>\n",
       "      <th>...</th>\n",
       "      <th>split3_test_score</th>\n",
       "      <th>split4_test_score</th>\n",
       "      <th>split5_test_score</th>\n",
       "      <th>split6_test_score</th>\n",
       "      <th>split7_test_score</th>\n",
       "      <th>split8_test_score</th>\n",
       "      <th>split9_test_score</th>\n",
       "      <th>mean_test_score</th>\n",
       "      <th>std_test_score</th>\n",
       "      <th>rank_test_score</th>\n",
       "    </tr>\n",
       "  </thead>\n",
       "  <tbody>\n",
       "    <tr>\n",
       "      <th>158</th>\n",
       "      <td>0.130899</td>\n",
       "      <td>0.018532</td>\n",
       "      <td>0.012240</td>\n",
       "      <td>0.008877</td>\n",
       "      <td>1000</td>\n",
       "      <td>170</td>\n",
       "      <td>1</td>\n",
       "      <td>{'SLR__alpha': 1000, 'pca__n_components': 170,...</td>\n",
       "      <td>-0.652320</td>\n",
       "      <td>-0.629464</td>\n",
       "      <td>...</td>\n",
       "      <td>-0.796638</td>\n",
       "      <td>-0.838327</td>\n",
       "      <td>-0.623856</td>\n",
       "      <td>-0.605852</td>\n",
       "      <td>-0.705903</td>\n",
       "      <td>-0.751369</td>\n",
       "      <td>-0.717822</td>\n",
       "      <td>-0.734125</td>\n",
       "      <td>0.119974</td>\n",
       "      <td>1</td>\n",
       "    </tr>\n",
       "    <tr>\n",
       "      <th>156</th>\n",
       "      <td>0.124455</td>\n",
       "      <td>0.018127</td>\n",
       "      <td>0.015599</td>\n",
       "      <td>0.001630</td>\n",
       "      <td>1000</td>\n",
       "      <td>150</td>\n",
       "      <td>1</td>\n",
       "      <td>{'SLR__alpha': 1000, 'pca__n_components': 150,...</td>\n",
       "      <td>-0.652320</td>\n",
       "      <td>-0.629464</td>\n",
       "      <td>...</td>\n",
       "      <td>-0.796638</td>\n",
       "      <td>-0.838327</td>\n",
       "      <td>-0.623856</td>\n",
       "      <td>-0.605852</td>\n",
       "      <td>-0.705903</td>\n",
       "      <td>-0.751369</td>\n",
       "      <td>-0.717822</td>\n",
       "      <td>-0.734125</td>\n",
       "      <td>0.119974</td>\n",
       "      <td>1</td>\n",
       "    </tr>\n",
       "    <tr>\n",
       "      <th>142</th>\n",
       "      <td>0.120352</td>\n",
       "      <td>0.014434</td>\n",
       "      <td>0.016658</td>\n",
       "      <td>0.003265</td>\n",
       "      <td>100</td>\n",
       "      <td>170</td>\n",
       "      <td>1</td>\n",
       "      <td>{'SLR__alpha': 100, 'pca__n_components': 170, ...</td>\n",
       "      <td>-0.557192</td>\n",
       "      <td>-0.551972</td>\n",
       "      <td>...</td>\n",
       "      <td>-0.668318</td>\n",
       "      <td>-0.719911</td>\n",
       "      <td>-0.566579</td>\n",
       "      <td>-0.569639</td>\n",
       "      <td>-0.613083</td>\n",
       "      <td>-0.671898</td>\n",
       "      <td>-0.616025</td>\n",
       "      <td>-0.756668</td>\n",
       "      <td>0.428507</td>\n",
       "      <td>3</td>\n",
       "    </tr>\n",
       "    <tr>\n",
       "      <th>140</th>\n",
       "      <td>0.130748</td>\n",
       "      <td>0.018606</td>\n",
       "      <td>0.016717</td>\n",
       "      <td>0.012615</td>\n",
       "      <td>100</td>\n",
       "      <td>150</td>\n",
       "      <td>1</td>\n",
       "      <td>{'SLR__alpha': 100, 'pca__n_components': 150, ...</td>\n",
       "      <td>-0.557192</td>\n",
       "      <td>-0.551972</td>\n",
       "      <td>...</td>\n",
       "      <td>-0.668318</td>\n",
       "      <td>-0.719911</td>\n",
       "      <td>-0.566579</td>\n",
       "      <td>-0.569639</td>\n",
       "      <td>-0.613083</td>\n",
       "      <td>-0.671898</td>\n",
       "      <td>-0.616025</td>\n",
       "      <td>-0.756668</td>\n",
       "      <td>0.428507</td>\n",
       "      <td>3</td>\n",
       "    </tr>\n",
       "    <tr>\n",
       "      <th>110</th>\n",
       "      <td>0.122507</td>\n",
       "      <td>0.018303</td>\n",
       "      <td>0.014059</td>\n",
       "      <td>0.017742</td>\n",
       "      <td>8</td>\n",
       "      <td>170</td>\n",
       "      <td>1</td>\n",
       "      <td>{'SLR__alpha': 8, 'pca__n_components': 170, 'p...</td>\n",
       "      <td>-0.513021</td>\n",
       "      <td>-0.547673</td>\n",
       "      <td>...</td>\n",
       "      <td>-0.619544</td>\n",
       "      <td>-0.686219</td>\n",
       "      <td>-0.546546</td>\n",
       "      <td>-0.564497</td>\n",
       "      <td>-0.565643</td>\n",
       "      <td>-0.640100</td>\n",
       "      <td>-0.603677</td>\n",
       "      <td>-0.756829</td>\n",
       "      <td>0.510501</td>\n",
       "      <td>5</td>\n",
       "    </tr>\n",
       "    <tr>\n",
       "      <th>...</th>\n",
       "      <td>...</td>\n",
       "      <td>...</td>\n",
       "      <td>...</td>\n",
       "      <td>...</td>\n",
       "      <td>...</td>\n",
       "      <td>...</td>\n",
       "      <td>...</td>\n",
       "      <td>...</td>\n",
       "      <td>...</td>\n",
       "      <td>...</td>\n",
       "      <td>...</td>\n",
       "      <td>...</td>\n",
       "      <td>...</td>\n",
       "      <td>...</td>\n",
       "      <td>...</td>\n",
       "      <td>...</td>\n",
       "      <td>...</td>\n",
       "      <td>...</td>\n",
       "      <td>...</td>\n",
       "      <td>...</td>\n",
       "      <td>...</td>\n",
       "    </tr>\n",
       "    <tr>\n",
       "      <th>115</th>\n",
       "      <td>5.804003</td>\n",
       "      <td>0.119270</td>\n",
       "      <td>0.142332</td>\n",
       "      <td>0.017611</td>\n",
       "      <td>10</td>\n",
       "      <td>10</td>\n",
       "      <td>2</td>\n",
       "      <td>{'SLR__alpha': 10, 'pca__n_components': 10, 'p...</td>\n",
       "      <td>-1.330983</td>\n",
       "      <td>-1.278905</td>\n",
       "      <td>...</td>\n",
       "      <td>-1.682971</td>\n",
       "      <td>-1.610604</td>\n",
       "      <td>-1.134297</td>\n",
       "      <td>-1.393741</td>\n",
       "      <td>-1.348533</td>\n",
       "      <td>-1.382236</td>\n",
       "      <td>-1.426908</td>\n",
       "      <td>-1.396511</td>\n",
       "      <td>0.147864</td>\n",
       "      <td>172</td>\n",
       "    </tr>\n",
       "    <tr>\n",
       "      <th>83</th>\n",
       "      <td>5.881019</td>\n",
       "      <td>0.117326</td>\n",
       "      <td>0.131565</td>\n",
       "      <td>0.025002</td>\n",
       "      <td>2</td>\n",
       "      <td>10</td>\n",
       "      <td>2</td>\n",
       "      <td>{'SLR__alpha': 2, 'pca__n_components': 10, 'po...</td>\n",
       "      <td>-1.330981</td>\n",
       "      <td>-1.278905</td>\n",
       "      <td>...</td>\n",
       "      <td>-1.682970</td>\n",
       "      <td>-1.610606</td>\n",
       "      <td>-1.134300</td>\n",
       "      <td>-1.393741</td>\n",
       "      <td>-1.348533</td>\n",
       "      <td>-1.382236</td>\n",
       "      <td>-1.426908</td>\n",
       "      <td>-1.396511</td>\n",
       "      <td>0.147864</td>\n",
       "      <td>173</td>\n",
       "    </tr>\n",
       "    <tr>\n",
       "      <th>35</th>\n",
       "      <td>5.910932</td>\n",
       "      <td>0.136019</td>\n",
       "      <td>0.140270</td>\n",
       "      <td>0.009898</td>\n",
       "      <td>0.2</td>\n",
       "      <td>10</td>\n",
       "      <td>2</td>\n",
       "      <td>{'SLR__alpha': 0.2, 'pca__n_components': 10, '...</td>\n",
       "      <td>-1.330979</td>\n",
       "      <td>-1.278905</td>\n",
       "      <td>...</td>\n",
       "      <td>-1.682971</td>\n",
       "      <td>-1.610608</td>\n",
       "      <td>-1.134299</td>\n",
       "      <td>-1.393741</td>\n",
       "      <td>-1.348534</td>\n",
       "      <td>-1.382236</td>\n",
       "      <td>-1.426908</td>\n",
       "      <td>-1.396511</td>\n",
       "      <td>0.147864</td>\n",
       "      <td>174</td>\n",
       "    </tr>\n",
       "    <tr>\n",
       "      <th>19</th>\n",
       "      <td>6.006221</td>\n",
       "      <td>0.280403</td>\n",
       "      <td>0.164173</td>\n",
       "      <td>0.029886</td>\n",
       "      <td>0.1</td>\n",
       "      <td>10</td>\n",
       "      <td>2</td>\n",
       "      <td>{'SLR__alpha': 0.1, 'pca__n_components': 10, '...</td>\n",
       "      <td>-1.330983</td>\n",
       "      <td>-1.278905</td>\n",
       "      <td>...</td>\n",
       "      <td>-1.682970</td>\n",
       "      <td>-1.610602</td>\n",
       "      <td>-1.134299</td>\n",
       "      <td>-1.393741</td>\n",
       "      <td>-1.348536</td>\n",
       "      <td>-1.382237</td>\n",
       "      <td>-1.426908</td>\n",
       "      <td>-1.396511</td>\n",
       "      <td>0.147863</td>\n",
       "      <td>175</td>\n",
       "    </tr>\n",
       "    <tr>\n",
       "      <th>51</th>\n",
       "      <td>5.960884</td>\n",
       "      <td>0.085745</td>\n",
       "      <td>0.127068</td>\n",
       "      <td>0.009699</td>\n",
       "      <td>0.5</td>\n",
       "      <td>10</td>\n",
       "      <td>2</td>\n",
       "      <td>{'SLR__alpha': 0.5, 'pca__n_components': 10, '...</td>\n",
       "      <td>-1.330983</td>\n",
       "      <td>-1.278905</td>\n",
       "      <td>...</td>\n",
       "      <td>-1.682971</td>\n",
       "      <td>-1.610603</td>\n",
       "      <td>-1.134300</td>\n",
       "      <td>-1.393741</td>\n",
       "      <td>-1.348534</td>\n",
       "      <td>-1.382237</td>\n",
       "      <td>-1.426908</td>\n",
       "      <td>-1.396511</td>\n",
       "      <td>0.147863</td>\n",
       "      <td>176</td>\n",
       "    </tr>\n",
       "  </tbody>\n",
       "</table>\n",
       "<p>176 rows × 21 columns</p>\n",
       "</div>"
      ],
      "text/plain": [
       "     mean_fit_time  std_fit_time  mean_score_time  std_score_time  \\\n",
       "158       0.130899      0.018532         0.012240        0.008877   \n",
       "156       0.124455      0.018127         0.015599        0.001630   \n",
       "142       0.120352      0.014434         0.016658        0.003265   \n",
       "140       0.130748      0.018606         0.016717        0.012615   \n",
       "110       0.122507      0.018303         0.014059        0.017742   \n",
       "..             ...           ...              ...             ...   \n",
       "115       5.804003      0.119270         0.142332        0.017611   \n",
       "83        5.881019      0.117326         0.131565        0.025002   \n",
       "35        5.910932      0.136019         0.140270        0.009898   \n",
       "19        6.006221      0.280403         0.164173        0.029886   \n",
       "51        5.960884      0.085745         0.127068        0.009699   \n",
       "\n",
       "    param_SLR__alpha param_pca__n_components param_poly__degree  \\\n",
       "158             1000                     170                  1   \n",
       "156             1000                     150                  1   \n",
       "142              100                     170                  1   \n",
       "140              100                     150                  1   \n",
       "110                8                     170                  1   \n",
       "..               ...                     ...                ...   \n",
       "115               10                      10                  2   \n",
       "83                 2                      10                  2   \n",
       "35               0.2                      10                  2   \n",
       "19               0.1                      10                  2   \n",
       "51               0.5                      10                  2   \n",
       "\n",
       "                                                params  split0_test_score  \\\n",
       "158  {'SLR__alpha': 1000, 'pca__n_components': 170,...          -0.652320   \n",
       "156  {'SLR__alpha': 1000, 'pca__n_components': 150,...          -0.652320   \n",
       "142  {'SLR__alpha': 100, 'pca__n_components': 170, ...          -0.557192   \n",
       "140  {'SLR__alpha': 100, 'pca__n_components': 150, ...          -0.557192   \n",
       "110  {'SLR__alpha': 8, 'pca__n_components': 170, 'p...          -0.513021   \n",
       "..                                                 ...                ...   \n",
       "115  {'SLR__alpha': 10, 'pca__n_components': 10, 'p...          -1.330983   \n",
       "83   {'SLR__alpha': 2, 'pca__n_components': 10, 'po...          -1.330981   \n",
       "35   {'SLR__alpha': 0.2, 'pca__n_components': 10, '...          -1.330979   \n",
       "19   {'SLR__alpha': 0.1, 'pca__n_components': 10, '...          -1.330983   \n",
       "51   {'SLR__alpha': 0.5, 'pca__n_components': 10, '...          -1.330983   \n",
       "\n",
       "     split1_test_score  ...  split3_test_score  split4_test_score  \\\n",
       "158          -0.629464  ...          -0.796638          -0.838327   \n",
       "156          -0.629464  ...          -0.796638          -0.838327   \n",
       "142          -0.551972  ...          -0.668318          -0.719911   \n",
       "140          -0.551972  ...          -0.668318          -0.719911   \n",
       "110          -0.547673  ...          -0.619544          -0.686219   \n",
       "..                 ...  ...                ...                ...   \n",
       "115          -1.278905  ...          -1.682971          -1.610604   \n",
       "83           -1.278905  ...          -1.682970          -1.610606   \n",
       "35           -1.278905  ...          -1.682971          -1.610608   \n",
       "19           -1.278905  ...          -1.682970          -1.610602   \n",
       "51           -1.278905  ...          -1.682971          -1.610603   \n",
       "\n",
       "     split5_test_score  split6_test_score  split7_test_score  \\\n",
       "158          -0.623856          -0.605852          -0.705903   \n",
       "156          -0.623856          -0.605852          -0.705903   \n",
       "142          -0.566579          -0.569639          -0.613083   \n",
       "140          -0.566579          -0.569639          -0.613083   \n",
       "110          -0.546546          -0.564497          -0.565643   \n",
       "..                 ...                ...                ...   \n",
       "115          -1.134297          -1.393741          -1.348533   \n",
       "83           -1.134300          -1.393741          -1.348533   \n",
       "35           -1.134299          -1.393741          -1.348534   \n",
       "19           -1.134299          -1.393741          -1.348536   \n",
       "51           -1.134300          -1.393741          -1.348534   \n",
       "\n",
       "     split8_test_score  split9_test_score  mean_test_score  std_test_score  \\\n",
       "158          -0.751369          -0.717822        -0.734125        0.119974   \n",
       "156          -0.751369          -0.717822        -0.734125        0.119974   \n",
       "142          -0.671898          -0.616025        -0.756668        0.428507   \n",
       "140          -0.671898          -0.616025        -0.756668        0.428507   \n",
       "110          -0.640100          -0.603677        -0.756829        0.510501   \n",
       "..                 ...                ...              ...             ...   \n",
       "115          -1.382236          -1.426908        -1.396511        0.147864   \n",
       "83           -1.382236          -1.426908        -1.396511        0.147864   \n",
       "35           -1.382236          -1.426908        -1.396511        0.147864   \n",
       "19           -1.382237          -1.426908        -1.396511        0.147863   \n",
       "51           -1.382237          -1.426908        -1.396511        0.147863   \n",
       "\n",
       "     rank_test_score  \n",
       "158                1  \n",
       "156                1  \n",
       "142                3  \n",
       "140                3  \n",
       "110                5  \n",
       "..               ...  \n",
       "115              172  \n",
       "83               173  \n",
       "35               174  \n",
       "19               175  \n",
       "51               176  \n",
       "\n",
       "[176 rows x 21 columns]"
      ]
     },
     "execution_count": 13,
     "metadata": {},
     "output_type": "execute_result"
    }
   ],
   "source": [
    "df = pd.DataFrame(search.cv_results_)\n",
    "df = df.sort_values(by=['rank_test_score'])\n",
    "df"
   ]
  },
  {
   "cell_type": "markdown",
   "metadata": {},
   "source": [
    "# Best Hyperparameter"
   ]
  },
  {
   "cell_type": "code",
   "execution_count": 14,
   "metadata": {},
   "outputs": [
    {
     "name": "stdout",
     "output_type": "stream",
     "text": [
      "{'SLR__alpha': 1000, 'pca__n_components': 170, 'poly__degree': 1}\n"
     ]
    }
   ],
   "source": [
    "parms = pd.DataFrame(df['params'])\n",
    "for i in parms.iloc[0]:\n",
    "    print(i)"
   ]
  },
  {
   "cell_type": "markdown",
   "metadata": {},
   "source": [
    "# # Evaluate Model $log(Sales)$"
   ]
  },
  {
   "cell_type": "code",
   "execution_count": 17,
   "metadata": {},
   "outputs": [],
   "source": [
    "best_pca =parms.iloc[0][0]['pca__n_components']\n",
    "best_degree=parms.iloc[0][0]['poly__degree']\n",
    "best_alpha=parms.iloc[0][0]['SLR__alpha']"
   ]
  },
  {
   "cell_type": "code",
   "execution_count": 18,
   "metadata": {},
   "outputs": [],
   "source": [
    "X_train1,X_test1,Y_train1,Y_test1 = train_test_split(X_train,Y_train,test_size=0.2,random_state=132)"
   ]
  },
  {
   "cell_type": "code",
   "execution_count": 19,
   "metadata": {},
   "outputs": [],
   "source": [
    "poly1 = PolynomialFeatures(degree=best_degree)"
   ]
  },
  {
   "cell_type": "code",
   "execution_count": 20,
   "metadata": {},
   "outputs": [
    {
     "data": {
      "text/plain": [
       "Ridge(alpha=1000)"
      ]
     },
     "execution_count": 20,
     "metadata": {},
     "output_type": "execute_result"
    }
   ],
   "source": [
    "pca1 = PCA(n_components=100)\n",
    "X_train1 = poly1.fit_transform(X_train1)\n",
    "pca1.fit(X_train1)\n",
    "PX_train1 = pca1.transform(X_train1)\n",
    "SLR1 = Ridge(alpha=best_alpha)\n",
    "SLR1.fit(PX_train1,Y_train1)"
   ]
  },
  {
   "cell_type": "code",
   "execution_count": 21,
   "metadata": {},
   "outputs": [],
   "source": [
    "pca2 = PCA(n_components=100)\n",
    "X_test1=poly1.fit_transform(X_test1)\n",
    "pca2.fit(X_test1)\n",
    "PX_test1 = pca2.transform(X_test1)"
   ]
  },
  {
   "cell_type": "code",
   "execution_count": 22,
   "metadata": {},
   "outputs": [
    {
     "data": {
      "text/plain": [
       "1.854478458987948"
      ]
     },
     "execution_count": 22,
     "metadata": {},
     "output_type": "execute_result"
    }
   ],
   "source": [
    "MSE(SLR1.predict(PX_test1),Y_test1)"
   ]
  },
  {
   "cell_type": "code",
   "execution_count": 23,
   "metadata": {},
   "outputs": [],
   "source": [
    "result = pd.DataFrame(np.exp(Y_test1))"
   ]
  },
  {
   "cell_type": "code",
   "execution_count": 24,
   "metadata": {},
   "outputs": [],
   "source": [
    "result[\"Predicted_sales\"] = np.exp(SLR1.predict(PX_test1))"
   ]
  },
  {
   "cell_type": "code",
   "execution_count": 25,
   "metadata": {},
   "outputs": [
    {
     "data": {
      "text/plain": [
       "1096.6516365373598"
      ]
     },
     "execution_count": 25,
     "metadata": {},
     "output_type": "execute_result"
    }
   ],
   "source": [
    "MSE(result[\"sales\"],result[\"Predicted_sales\"])"
   ]
  },
  {
   "cell_type": "markdown",
   "metadata": {},
   "source": [
    "# Inventory Decision"
   ]
  },
  {
   "cell_type": "code",
   "execution_count": 26,
   "metadata": {},
   "outputs": [],
   "source": [
    "residue = result['sales']-result['Predicted_sales']"
   ]
  },
  {
   "cell_type": "code",
   "execution_count": 27,
   "metadata": {},
   "outputs": [
    {
     "data": {
      "image/png": "[encoded data removed]",
      "text/plain": [
       "<Figure size 432x288 with 1 Axes>"
      ]
     },
     "metadata": {
      "needs_background": "light"
     },
     "output_type": "display_data"
    }
   ],
   "source": [
    "import scipy\n",
    "scipy.stats.probplot(residue, dist=\"norm\", plot=plt)\n",
    "plt.show()"
   ]
  },
  {
   "cell_type": "code",
   "execution_count": 28,
   "metadata": {},
   "outputs": [
    {
     "data": {
      "image/png": "[encoded data removed]",
      "text/plain": [
       "<Figure size 432x288 with 1 Axes>"
      ]
     },
     "metadata": {
      "needs_background": "light"
     },
     "output_type": "display_data"
    }
   ],
   "source": [
    "scipy.stats.probplot(residue, dist=\"expon\", plot=plt)\n",
    "plt.show()"
   ]
  },
  {
   "cell_type": "code",
   "execution_count": 29,
   "metadata": {},
   "outputs": [],
   "source": [
    "import scipy.stats as sct"
   ]
  },
  {
   "cell_type": "code",
   "execution_count": 30,
   "metadata": {},
   "outputs": [
    {
     "data": {
      "text/plain": [
       "(4, 8)"
      ]
     },
     "execution_count": 30,
     "metadata": {},
     "output_type": "execute_result"
    }
   ],
   "source": [
    "Price=20\n",
    "Cost=12\n",
    "Salvage=8\n",
    "Over=Cost - Salvage\n",
    "Under=Price - Cost\n",
    "Over, Under"
   ]
  },
  {
   "cell_type": "code",
   "execution_count": 31,
   "metadata": {},
   "outputs": [],
   "source": [
    "s = residue.std()\n",
    "opt_dec_N=np.ceil(sct.norm.ppf(Under/(Under+Over))*s + result['Predicted_sales'])"
   ]
  },
  {
   "cell_type": "code",
   "execution_count": 32,
   "metadata": {},
   "outputs": [],
   "source": [
    "opt_dec_E=np.ceil((-result['Predicted_sales'])*np.log(1-(Under/(Under+Over))))"
   ]
  },
  {
   "cell_type": "markdown",
   "metadata": {},
   "source": [
    "# Out-of-samples Profit"
   ]
  },
  {
   "cell_type": "code",
   "execution_count": 33,
   "metadata": {},
   "outputs": [
    {
     "data": {
      "text/plain": [
       "82096.0"
      ]
     },
     "execution_count": 33,
     "metadata": {},
     "output_type": "execute_result"
    }
   ],
   "source": [
    "#max profit for test data set\n",
    "max_profit = result['sales'].sum()*(Price-Cost)\n",
    "max_profit"
   ]
  },
  {
   "cell_type": "code",
   "execution_count": 34,
   "metadata": {},
   "outputs": [],
   "source": [
    "def profit(demand,inv):\n",
    "    return (Price-Salvage)*np.minimum(demand,inv)-(Cost-Salvage)*inv"
   ]
  },
  {
   "cell_type": "code",
   "execution_count": 35,
   "metadata": {},
   "outputs": [
    {
     "data": {
      "text/plain": [
       "24668.0"
      ]
     },
     "execution_count": 35,
     "metadata": {},
     "output_type": "execute_result"
    }
   ],
   "source": [
    "profit_lst_N = profit(result['sales'],opt_dec_N)\n",
    "profit_lst_N.sum()"
   ]
  },
  {
   "cell_type": "code",
   "execution_count": 36,
   "metadata": {},
   "outputs": [
    {
     "data": {
      "text/plain": [
       "24404.0"
      ]
     },
     "execution_count": 36,
     "metadata": {},
     "output_type": "execute_result"
    }
   ],
   "source": [
    "profit_lst_E = profit(result['sales'],opt_dec_E)\n",
    "profit_lst_E.sum()"
   ]
  },
  {
   "cell_type": "code",
   "execution_count": null,
   "metadata": {},
   "outputs": [],
   "source": []
  },
  {
   "cell_type": "code",
   "execution_count": null,
   "metadata": {},
   "outputs": [],
   "source": []
  }
 ],
 "metadata": {
  "kernelspec": {
   "display_name": "Python 3",
   "language": "python",
   "name": "python3"
  },
  "language_info": {
   "codemirror_mode": {
    "name": "ipython",
    "version": 3
   },
   "file_extension": ".py",
   "mimetype": "text/x-python",
   "name": "python",
   "nbconvert_exporter": "python",
   "pygments_lexer": "ipython3",
   "version": "3.8.5"
  }
 },
 "nbformat": 4,
 "nbformat_minor": 4
}
