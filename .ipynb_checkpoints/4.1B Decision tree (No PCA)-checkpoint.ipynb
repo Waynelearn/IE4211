{
 "cells": [
  {
   "cell_type": "code",
   "execution_count": 1,
   "metadata": {},
   "outputs": [],
   "source": [
    "import pandas as pd\n",
    "import numpy as np\n",
    "import matplotlib.pyplot as plt\n",
    "from sklearn.pipeline import Pipeline\n",
    "from sklearn.model_selection import GridSearchCV\n",
    "from sklearn.decomposition import PCA\n",
    "from sklearn.metrics import mean_squared_error as MSE\n",
    "from sklearn.linear_model import LinearRegression\n",
    "from sklearn.preprocessing import PolynomialFeatures\n",
    "from sklearn.model_selection import train_test_split\n",
    "from sklearn.linear_model import Lasso\n",
    "from sklearn.neighbors import KNeighborsRegressor\n",
    "from sklearn.tree import DecisionTreeRegressor\n",
    "from sklearn.ensemble import RandomForestRegressor\n",
    "from sklearn.ensemble import GradientBoostingRegressor"
   ]
  },
  {
   "cell_type": "markdown",
   "metadata": {},
   "source": [
    "# 1. Import the train datasets"
   ]
  },
  {
   "cell_type": "code",
   "execution_count": 2,
   "metadata": {},
   "outputs": [],
   "source": [
    "X_train = pd.read_csv(\"data-train.csv\",index_col=0)\n",
    "X_train.drop(['sales'],axis=1)\n",
    "Y_train = X_train.sales"
   ]
  },
  {
   "cell_type": "code",
   "execution_count": 3,
   "metadata": {},
   "outputs": [],
   "source": [
    "#X_train = pd.read_csv(\"B_encoded_train_data.csv\",index_col=0)\n",
    "#Y_train = pd.read_csv(\"A_sales_train.csv\",index_col=0)"
   ]
  },
  {
   "cell_type": "code",
   "execution_count": 4,
   "metadata": {},
   "outputs": [],
   "source": [
    "Model_1 = RandomForestRegressor()"
   ]
  },
  {
   "cell_type": "markdown",
   "metadata": {},
   "source": [
    "# 2. Setup Pipeline"
   ]
  },
  {
   "cell_type": "code",
   "execution_count": 5,
   "metadata": {},
   "outputs": [],
   "source": [
    "\n",
    "RG = Model_1"
   ]
  },
  {
   "cell_type": "code",
   "execution_count": 6,
   "metadata": {},
   "outputs": [],
   "source": [
    "\n",
    "pipe = Pipeline(steps=[(\"RG\",RG)])"
   ]
  },
  {
   "cell_type": "code",
   "execution_count": 7,
   "metadata": {},
   "outputs": [],
   "source": [
    "param_grid = {\n",
    "    \"RG__ccp_alpha\":[0.005,0.1,0.5,10],\n",
    "    \"RG__n_estimators\":[10,100,1000]\n",
    "}"
   ]
  },
  {
   "cell_type": "markdown",
   "metadata": {},
   "source": [
    "# 3. Setup GridSearch"
   ]
  },
  {
   "cell_type": "code",
   "execution_count": 8,
   "metadata": {},
   "outputs": [],
   "source": [
    "score_metric = 'neg_mean_squared_error'\n",
    "search = GridSearchCV(pipe,param_grid,\n",
    "                      n_jobs=-1,\n",
    "                      cv=10,\n",
    "                      scoring=score_metric)"
   ]
  },
  {
   "cell_type": "code",
   "execution_count": 9,
   "metadata": {},
   "outputs": [
    {
     "data": {
      "text/plain": [
       "GridSearchCV(cv=10, estimator=Pipeline(steps=[('RG', RandomForestRegressor())]),\n",
       "             n_jobs=-1,\n",
       "             param_grid={'RG__ccp_alpha': [0.005, 0.1, 0.5, 10],\n",
       "                         'RG__n_estimators': [10, 100, 1000]},\n",
       "             scoring='neg_mean_squared_error')"
      ]
     },
     "execution_count": 9,
     "metadata": {},
     "output_type": "execute_result"
    }
   ],
   "source": [
    "search.fit(X_train,Y_train.values.ravel())"
   ]
  },
  {
   "cell_type": "code",
   "execution_count": 10,
   "metadata": {},
   "outputs": [
    {
     "name": "stdout",
     "output_type": "stream",
     "text": [
      "Best parameter (CV score=-58.564):\n",
      "{'RG__ccp_alpha': 0.1, 'RG__n_estimators': 100}\n"
     ]
    }
   ],
   "source": [
    "print(\"Best parameter (CV score=%0.3f):\" % search.best_score_)\n",
    "print(search.best_params_)"
   ]
  },
  {
   "cell_type": "code",
   "execution_count": 11,
   "metadata": {},
   "outputs": [
    {
     "data": {
      "text/html": [
       "<div>\n",
       "<style scoped>\n",
       "    .dataframe tbody tr th:only-of-type {\n",
       "        vertical-align: middle;\n",
       "    }\n",
       "\n",
       "    .dataframe tbody tr th {\n",
       "        vertical-align: top;\n",
       "    }\n",
       "\n",
       "    .dataframe thead th {\n",
       "        text-align: right;\n",
       "    }\n",
       "</style>\n",
       "<table border=\"1\" class=\"dataframe\">\n",
       "  <thead>\n",
       "    <tr style=\"text-align: right;\">\n",
       "      <th></th>\n",
       "      <th>mean_fit_time</th>\n",
       "      <th>std_fit_time</th>\n",
       "      <th>mean_score_time</th>\n",
       "      <th>std_score_time</th>\n",
       "      <th>param_RG__ccp_alpha</th>\n",
       "      <th>param_RG__n_estimators</th>\n",
       "      <th>params</th>\n",
       "      <th>split0_test_score</th>\n",
       "      <th>split1_test_score</th>\n",
       "      <th>split2_test_score</th>\n",
       "      <th>split3_test_score</th>\n",
       "      <th>split4_test_score</th>\n",
       "      <th>split5_test_score</th>\n",
       "      <th>split6_test_score</th>\n",
       "      <th>split7_test_score</th>\n",
       "      <th>split8_test_score</th>\n",
       "      <th>split9_test_score</th>\n",
       "      <th>mean_test_score</th>\n",
       "      <th>std_test_score</th>\n",
       "      <th>rank_test_score</th>\n",
       "    </tr>\n",
       "  </thead>\n",
       "  <tbody>\n",
       "    <tr>\n",
       "      <th>4</th>\n",
       "      <td>1.671232</td>\n",
       "      <td>0.115272</td>\n",
       "      <td>0.017853</td>\n",
       "      <td>0.003797</td>\n",
       "      <td>0.1</td>\n",
       "      <td>100</td>\n",
       "      <td>{'RG__ccp_alpha': 0.1, 'RG__n_estimators': 100}</td>\n",
       "      <td>-0.649781</td>\n",
       "      <td>-0.682176</td>\n",
       "      <td>-2.160055</td>\n",
       "      <td>-22.439583</td>\n",
       "      <td>-539.466725</td>\n",
       "      <td>-0.398951</td>\n",
       "      <td>-4.886836</td>\n",
       "      <td>-0.457403</td>\n",
       "      <td>-9.136332</td>\n",
       "      <td>-5.358892</td>\n",
       "      <td>-58.563673</td>\n",
       "      <td>160.428438</td>\n",
       "      <td>1</td>\n",
       "    </tr>\n",
       "    <tr>\n",
       "      <th>8</th>\n",
       "      <td>24.902336</td>\n",
       "      <td>6.993014</td>\n",
       "      <td>0.301294</td>\n",
       "      <td>0.165424</td>\n",
       "      <td>0.5</td>\n",
       "      <td>1000</td>\n",
       "      <td>{'RG__ccp_alpha': 0.5, 'RG__n_estimators': 1000}</td>\n",
       "      <td>-0.383890</td>\n",
       "      <td>-0.892821</td>\n",
       "      <td>-3.933676</td>\n",
       "      <td>-24.521773</td>\n",
       "      <td>-552.125226</td>\n",
       "      <td>-0.275149</td>\n",
       "      <td>-3.117020</td>\n",
       "      <td>-0.694184</td>\n",
       "      <td>-9.358762</td>\n",
       "      <td>-4.038801</td>\n",
       "      <td>-59.934130</td>\n",
       "      <td>164.211197</td>\n",
       "      <td>2</td>\n",
       "    </tr>\n",
       "    <tr>\n",
       "      <th>1</th>\n",
       "      <td>1.590847</td>\n",
       "      <td>0.139980</td>\n",
       "      <td>0.017154</td>\n",
       "      <td>0.002884</td>\n",
       "      <td>0.005</td>\n",
       "      <td>100</td>\n",
       "      <td>{'RG__ccp_alpha': 0.005, 'RG__n_estimators': 100}</td>\n",
       "      <td>-0.180338</td>\n",
       "      <td>-0.243945</td>\n",
       "      <td>-3.598309</td>\n",
       "      <td>-28.226843</td>\n",
       "      <td>-553.857198</td>\n",
       "      <td>-0.045563</td>\n",
       "      <td>-3.875366</td>\n",
       "      <td>-0.740049</td>\n",
       "      <td>-9.299501</td>\n",
       "      <td>-1.873798</td>\n",
       "      <td>-60.194091</td>\n",
       "      <td>164.754322</td>\n",
       "      <td>3</td>\n",
       "    </tr>\n",
       "    <tr>\n",
       "      <th>2</th>\n",
       "      <td>16.120011</td>\n",
       "      <td>0.709759</td>\n",
       "      <td>0.166655</td>\n",
       "      <td>0.050582</td>\n",
       "      <td>0.005</td>\n",
       "      <td>1000</td>\n",
       "      <td>{'RG__ccp_alpha': 0.005, 'RG__n_estimators': 1...</td>\n",
       "      <td>-0.170699</td>\n",
       "      <td>-0.295657</td>\n",
       "      <td>-2.992695</td>\n",
       "      <td>-21.978284</td>\n",
       "      <td>-570.492698</td>\n",
       "      <td>-0.093576</td>\n",
       "      <td>-1.762841</td>\n",
       "      <td>-0.305725</td>\n",
       "      <td>-7.288275</td>\n",
       "      <td>-3.208455</td>\n",
       "      <td>-60.858890</td>\n",
       "      <td>169.994886</td>\n",
       "      <td>4</td>\n",
       "    </tr>\n",
       "    <tr>\n",
       "      <th>5</th>\n",
       "      <td>19.282159</td>\n",
       "      <td>2.468050</td>\n",
       "      <td>0.193982</td>\n",
       "      <td>0.135677</td>\n",
       "      <td>0.1</td>\n",
       "      <td>1000</td>\n",
       "      <td>{'RG__ccp_alpha': 0.1, 'RG__n_estimators': 1000}</td>\n",
       "      <td>-0.347753</td>\n",
       "      <td>-0.486227</td>\n",
       "      <td>-4.822253</td>\n",
       "      <td>-28.661101</td>\n",
       "      <td>-570.475853</td>\n",
       "      <td>-0.126194</td>\n",
       "      <td>-2.262072</td>\n",
       "      <td>-0.415329</td>\n",
       "      <td>-6.277134</td>\n",
       "      <td>-4.117877</td>\n",
       "      <td>-61.799179</td>\n",
       "      <td>169.752186</td>\n",
       "      <td>5</td>\n",
       "    </tr>\n",
       "    <tr>\n",
       "      <th>0</th>\n",
       "      <td>0.179021</td>\n",
       "      <td>0.030614</td>\n",
       "      <td>0.007580</td>\n",
       "      <td>0.009121</td>\n",
       "      <td>0.005</td>\n",
       "      <td>10</td>\n",
       "      <td>{'RG__ccp_alpha': 0.005, 'RG__n_estimators': 10}</td>\n",
       "      <td>-0.394886</td>\n",
       "      <td>-0.281625</td>\n",
       "      <td>-14.903354</td>\n",
       "      <td>-42.073579</td>\n",
       "      <td>-552.741829</td>\n",
       "      <td>-1.770205</td>\n",
       "      <td>-7.891489</td>\n",
       "      <td>-0.297827</td>\n",
       "      <td>-15.885714</td>\n",
       "      <td>-0.498388</td>\n",
       "      <td>-63.673890</td>\n",
       "      <td>163.490220</td>\n",
       "      <td>6</td>\n",
       "    </tr>\n",
       "    <tr>\n",
       "      <th>7</th>\n",
       "      <td>1.686691</td>\n",
       "      <td>0.190578</td>\n",
       "      <td>0.017254</td>\n",
       "      <td>0.005427</td>\n",
       "      <td>0.5</td>\n",
       "      <td>100</td>\n",
       "      <td>{'RG__ccp_alpha': 0.5, 'RG__n_estimators': 100}</td>\n",
       "      <td>-0.508303</td>\n",
       "      <td>-0.951448</td>\n",
       "      <td>-4.059821</td>\n",
       "      <td>-38.311305</td>\n",
       "      <td>-592.001957</td>\n",
       "      <td>-0.576500</td>\n",
       "      <td>-1.576250</td>\n",
       "      <td>-1.053191</td>\n",
       "      <td>-6.365042</td>\n",
       "      <td>-3.283911</td>\n",
       "      <td>-64.868773</td>\n",
       "      <td>176.047541</td>\n",
       "      <td>7</td>\n",
       "    </tr>\n",
       "    <tr>\n",
       "      <th>3</th>\n",
       "      <td>0.169049</td>\n",
       "      <td>0.011260</td>\n",
       "      <td>0.005185</td>\n",
       "      <td>0.000745</td>\n",
       "      <td>0.1</td>\n",
       "      <td>10</td>\n",
       "      <td>{'RG__ccp_alpha': 0.1, 'RG__n_estimators': 10}</td>\n",
       "      <td>-0.364839</td>\n",
       "      <td>-18.460412</td>\n",
       "      <td>-31.379323</td>\n",
       "      <td>-46.828034</td>\n",
       "      <td>-537.945899</td>\n",
       "      <td>-0.433679</td>\n",
       "      <td>-3.615386</td>\n",
       "      <td>-10.388629</td>\n",
       "      <td>-0.596194</td>\n",
       "      <td>-0.351800</td>\n",
       "      <td>-65.036419</td>\n",
       "      <td>158.344100</td>\n",
       "      <td>8</td>\n",
       "    </tr>\n",
       "    <tr>\n",
       "      <th>11</th>\n",
       "      <td>23.876179</td>\n",
       "      <td>4.003103</td>\n",
       "      <td>0.151395</td>\n",
       "      <td>0.084228</td>\n",
       "      <td>10</td>\n",
       "      <td>1000</td>\n",
       "      <td>{'RG__ccp_alpha': 10, 'RG__n_estimators': 1000}</td>\n",
       "      <td>-7.214236</td>\n",
       "      <td>-10.127787</td>\n",
       "      <td>-8.199334</td>\n",
       "      <td>-28.774011</td>\n",
       "      <td>-586.403185</td>\n",
       "      <td>-6.857946</td>\n",
       "      <td>-7.100568</td>\n",
       "      <td>-6.436763</td>\n",
       "      <td>-19.566553</td>\n",
       "      <td>-7.396369</td>\n",
       "      <td>-68.807675</td>\n",
       "      <td>172.670195</td>\n",
       "      <td>9</td>\n",
       "    </tr>\n",
       "    <tr>\n",
       "      <th>10</th>\n",
       "      <td>2.496527</td>\n",
       "      <td>1.483415</td>\n",
       "      <td>0.024235</td>\n",
       "      <td>0.029549</td>\n",
       "      <td>10</td>\n",
       "      <td>100</td>\n",
       "      <td>{'RG__ccp_alpha': 10, 'RG__n_estimators': 100}</td>\n",
       "      <td>-8.617027</td>\n",
       "      <td>-12.230269</td>\n",
       "      <td>-8.743523</td>\n",
       "      <td>-38.069714</td>\n",
       "      <td>-580.622340</td>\n",
       "      <td>-6.781891</td>\n",
       "      <td>-8.825544</td>\n",
       "      <td>-6.508044</td>\n",
       "      <td>-11.985102</td>\n",
       "      <td>-6.630703</td>\n",
       "      <td>-68.901416</td>\n",
       "      <td>170.807401</td>\n",
       "      <td>10</td>\n",
       "    </tr>\n",
       "    <tr>\n",
       "      <th>6</th>\n",
       "      <td>0.184906</td>\n",
       "      <td>0.026676</td>\n",
       "      <td>0.006982</td>\n",
       "      <td>0.007329</td>\n",
       "      <td>0.5</td>\n",
       "      <td>10</td>\n",
       "      <td>{'RG__ccp_alpha': 0.5, 'RG__n_estimators': 10}</td>\n",
       "      <td>-0.593254</td>\n",
       "      <td>-0.977526</td>\n",
       "      <td>-4.234276</td>\n",
       "      <td>-16.371226</td>\n",
       "      <td>-644.933213</td>\n",
       "      <td>-4.863949</td>\n",
       "      <td>-12.515099</td>\n",
       "      <td>-1.352560</td>\n",
       "      <td>-1.739026</td>\n",
       "      <td>-1.509006</td>\n",
       "      <td>-68.908914</td>\n",
       "      <td>192.075281</td>\n",
       "      <td>11</td>\n",
       "    </tr>\n",
       "    <tr>\n",
       "      <th>9</th>\n",
       "      <td>0.310470</td>\n",
       "      <td>0.127900</td>\n",
       "      <td>0.004288</td>\n",
       "      <td>0.000457</td>\n",
       "      <td>10</td>\n",
       "      <td>10</td>\n",
       "      <td>{'RG__ccp_alpha': 10, 'RG__n_estimators': 10}</td>\n",
       "      <td>-13.716133</td>\n",
       "      <td>-12.973977</td>\n",
       "      <td>-13.925252</td>\n",
       "      <td>-32.573526</td>\n",
       "      <td>-578.301523</td>\n",
       "      <td>-5.157318</td>\n",
       "      <td>-19.208145</td>\n",
       "      <td>-12.521868</td>\n",
       "      <td>-36.062028</td>\n",
       "      <td>-14.516079</td>\n",
       "      <td>-73.895585</td>\n",
       "      <td>168.375181</td>\n",
       "      <td>12</td>\n",
       "    </tr>\n",
       "  </tbody>\n",
       "</table>\n",
       "</div>"
      ],
      "text/plain": [
       "    mean_fit_time  std_fit_time  mean_score_time  std_score_time  \\\n",
       "4        1.671232      0.115272         0.017853        0.003797   \n",
       "8       24.902336      6.993014         0.301294        0.165424   \n",
       "1        1.590847      0.139980         0.017154        0.002884   \n",
       "2       16.120011      0.709759         0.166655        0.050582   \n",
       "5       19.282159      2.468050         0.193982        0.135677   \n",
       "0        0.179021      0.030614         0.007580        0.009121   \n",
       "7        1.686691      0.190578         0.017254        0.005427   \n",
       "3        0.169049      0.011260         0.005185        0.000745   \n",
       "11      23.876179      4.003103         0.151395        0.084228   \n",
       "10       2.496527      1.483415         0.024235        0.029549   \n",
       "6        0.184906      0.026676         0.006982        0.007329   \n",
       "9        0.310470      0.127900         0.004288        0.000457   \n",
       "\n",
       "   param_RG__ccp_alpha param_RG__n_estimators  \\\n",
       "4                  0.1                    100   \n",
       "8                  0.5                   1000   \n",
       "1                0.005                    100   \n",
       "2                0.005                   1000   \n",
       "5                  0.1                   1000   \n",
       "0                0.005                     10   \n",
       "7                  0.5                    100   \n",
       "3                  0.1                     10   \n",
       "11                  10                   1000   \n",
       "10                  10                    100   \n",
       "6                  0.5                     10   \n",
       "9                   10                     10   \n",
       "\n",
       "                                               params  split0_test_score  \\\n",
       "4     {'RG__ccp_alpha': 0.1, 'RG__n_estimators': 100}          -0.649781   \n",
       "8    {'RG__ccp_alpha': 0.5, 'RG__n_estimators': 1000}          -0.383890   \n",
       "1   {'RG__ccp_alpha': 0.005, 'RG__n_estimators': 100}          -0.180338   \n",
       "2   {'RG__ccp_alpha': 0.005, 'RG__n_estimators': 1...          -0.170699   \n",
       "5    {'RG__ccp_alpha': 0.1, 'RG__n_estimators': 1000}          -0.347753   \n",
       "0    {'RG__ccp_alpha': 0.005, 'RG__n_estimators': 10}          -0.394886   \n",
       "7     {'RG__ccp_alpha': 0.5, 'RG__n_estimators': 100}          -0.508303   \n",
       "3      {'RG__ccp_alpha': 0.1, 'RG__n_estimators': 10}          -0.364839   \n",
       "11    {'RG__ccp_alpha': 10, 'RG__n_estimators': 1000}          -7.214236   \n",
       "10     {'RG__ccp_alpha': 10, 'RG__n_estimators': 100}          -8.617027   \n",
       "6      {'RG__ccp_alpha': 0.5, 'RG__n_estimators': 10}          -0.593254   \n",
       "9       {'RG__ccp_alpha': 10, 'RG__n_estimators': 10}         -13.716133   \n",
       "\n",
       "    split1_test_score  split2_test_score  split3_test_score  \\\n",
       "4           -0.682176          -2.160055         -22.439583   \n",
       "8           -0.892821          -3.933676         -24.521773   \n",
       "1           -0.243945          -3.598309         -28.226843   \n",
       "2           -0.295657          -2.992695         -21.978284   \n",
       "5           -0.486227          -4.822253         -28.661101   \n",
       "0           -0.281625         -14.903354         -42.073579   \n",
       "7           -0.951448          -4.059821         -38.311305   \n",
       "3          -18.460412         -31.379323         -46.828034   \n",
       "11         -10.127787          -8.199334         -28.774011   \n",
       "10         -12.230269          -8.743523         -38.069714   \n",
       "6           -0.977526          -4.234276         -16.371226   \n",
       "9          -12.973977         -13.925252         -32.573526   \n",
       "\n",
       "    split4_test_score  split5_test_score  split6_test_score  \\\n",
       "4         -539.466725          -0.398951          -4.886836   \n",
       "8         -552.125226          -0.275149          -3.117020   \n",
       "1         -553.857198          -0.045563          -3.875366   \n",
       "2         -570.492698          -0.093576          -1.762841   \n",
       "5         -570.475853          -0.126194          -2.262072   \n",
       "0         -552.741829          -1.770205          -7.891489   \n",
       "7         -592.001957          -0.576500          -1.576250   \n",
       "3         -537.945899          -0.433679          -3.615386   \n",
       "11        -586.403185          -6.857946          -7.100568   \n",
       "10        -580.622340          -6.781891          -8.825544   \n",
       "6         -644.933213          -4.863949         -12.515099   \n",
       "9         -578.301523          -5.157318         -19.208145   \n",
       "\n",
       "    split7_test_score  split8_test_score  split9_test_score  mean_test_score  \\\n",
       "4           -0.457403          -9.136332          -5.358892       -58.563673   \n",
       "8           -0.694184          -9.358762          -4.038801       -59.934130   \n",
       "1           -0.740049          -9.299501          -1.873798       -60.194091   \n",
       "2           -0.305725          -7.288275          -3.208455       -60.858890   \n",
       "5           -0.415329          -6.277134          -4.117877       -61.799179   \n",
       "0           -0.297827         -15.885714          -0.498388       -63.673890   \n",
       "7           -1.053191          -6.365042          -3.283911       -64.868773   \n",
       "3          -10.388629          -0.596194          -0.351800       -65.036419   \n",
       "11          -6.436763         -19.566553          -7.396369       -68.807675   \n",
       "10          -6.508044         -11.985102          -6.630703       -68.901416   \n",
       "6           -1.352560          -1.739026          -1.509006       -68.908914   \n",
       "9          -12.521868         -36.062028         -14.516079       -73.895585   \n",
       "\n",
       "    std_test_score  rank_test_score  \n",
       "4       160.428438                1  \n",
       "8       164.211197                2  \n",
       "1       164.754322                3  \n",
       "2       169.994886                4  \n",
       "5       169.752186                5  \n",
       "0       163.490220                6  \n",
       "7       176.047541                7  \n",
       "3       158.344100                8  \n",
       "11      172.670195                9  \n",
       "10      170.807401               10  \n",
       "6       192.075281               11  \n",
       "9       168.375181               12  "
      ]
     },
     "execution_count": 11,
     "metadata": {},
     "output_type": "execute_result"
    }
   ],
   "source": [
    "df = pd.DataFrame(search.cv_results_)\n",
    "df = df.sort_values(by=['rank_test_score'])\n",
    "df"
   ]
  },
  {
   "cell_type": "markdown",
   "metadata": {},
   "source": [
    "# 4. Best Hyperparameter"
   ]
  },
  {
   "cell_type": "code",
   "execution_count": 12,
   "metadata": {},
   "outputs": [
    {
     "name": "stdout",
     "output_type": "stream",
     "text": [
      "{'RG__ccp_alpha': 0.1, 'RG__n_estimators': 100}\n"
     ]
    }
   ],
   "source": [
    "parms = pd.DataFrame(df['params'])\n",
    "for i in parms.iloc[0]:\n",
    "    print(i)"
   ]
  },
  {
   "cell_type": "markdown",
   "metadata": {},
   "source": [
    "# 5. Evaluate Model $log(Sales)$"
   ]
  },
  {
   "cell_type": "code",
   "execution_count": 13,
   "metadata": {},
   "outputs": [],
   "source": [
    "best_ccp_alpha = parms.iloc[0][0]['RG__ccp_alpha']\n",
    "best_n_est = parms.iloc[0][0]['RG__n_estimators']"
   ]
  },
  {
   "cell_type": "code",
   "execution_count": null,
   "metadata": {},
   "outputs": [],
   "source": []
  },
  {
   "cell_type": "code",
   "execution_count": 14,
   "metadata": {},
   "outputs": [],
   "source": [
    "Model_2 = RandomForestRegressor(ccp_alpha=best_ccp_alpha,n_estimators=best_n_est)"
   ]
  },
  {
   "cell_type": "code",
   "execution_count": 15,
   "metadata": {},
   "outputs": [],
   "source": [
    "X_train1,X_test1,Y_train1,Y_test1 = train_test_split(X_train,Y_train,test_size=0.2,random_state=132)\n"
   ]
  },
  {
   "cell_type": "code",
   "execution_count": 16,
   "metadata": {},
   "outputs": [
    {
     "data": {
      "text/plain": [
       "RandomForestRegressor(ccp_alpha=0.1)"
      ]
     },
     "execution_count": 16,
     "metadata": {},
     "output_type": "execute_result"
    }
   ],
   "source": [
    "\n",
    "RG1 = Model_2\n",
    "RG1.fit(X_train1,Y_train1.values.ravel())"
   ]
  },
  {
   "cell_type": "code",
   "execution_count": null,
   "metadata": {},
   "outputs": [],
   "source": []
  },
  {
   "cell_type": "code",
   "execution_count": 17,
   "metadata": {},
   "outputs": [
    {
     "data": {
      "text/plain": [
       "0.4612953915344969"
      ]
     },
     "execution_count": 17,
     "metadata": {},
     "output_type": "execute_result"
    }
   ],
   "source": [
    "MSE(RG1.predict(X_test1),Y_test1)"
   ]
  },
  {
   "cell_type": "code",
   "execution_count": 18,
   "metadata": {},
   "outputs": [],
   "source": [
    "result = pd.DataFrame(Y_test1)"
   ]
  },
  {
   "cell_type": "code",
   "execution_count": 19,
   "metadata": {},
   "outputs": [],
   "source": [
    "result[\"Predicted_sales\"] = RG1.predict(X_test1)"
   ]
  },
  {
   "cell_type": "code",
   "execution_count": 20,
   "metadata": {},
   "outputs": [
    {
     "data": {
      "text/plain": [
       "0.4612953915344969"
      ]
     },
     "execution_count": 20,
     "metadata": {},
     "output_type": "execute_result"
    }
   ],
   "source": [
    "MSE(result[\"sales\"],result[\"Predicted_sales\"])"
   ]
  },
  {
   "cell_type": "markdown",
   "metadata": {},
   "source": [
    "# 6. Inventory Decision"
   ]
  },
  {
   "cell_type": "code",
   "execution_count": 21,
   "metadata": {},
   "outputs": [],
   "source": [
    "residual = result['sales']-result['Predicted_sales']"
   ]
  },
  {
   "cell_type": "code",
   "execution_count": 22,
   "metadata": {},
   "outputs": [
    {
     "data": {
      "text/plain": [
       "(4, 8)"
      ]
     },
     "execution_count": 22,
     "metadata": {},
     "output_type": "execute_result"
    }
   ],
   "source": [
    "Price=20\n",
    "Cost=12\n",
    "Salvage=8\n",
    "Over=Cost - Salvage\n",
    "Under=Price - Cost\n",
    "Over, Under"
   ]
  },
  {
   "cell_type": "markdown",
   "metadata": {},
   "source": [
    "### QQ plot to explore the distribution of residual"
   ]
  },
  {
   "cell_type": "markdown",
   "metadata": {},
   "source": [
    "#### Normal Distribution"
   ]
  },
  {
   "cell_type": "code",
   "execution_count": 23,
   "metadata": {},
   "outputs": [],
   "source": [
    "import scipy.stats as sct"
   ]
  },
  {
   "cell_type": "code",
   "execution_count": 24,
   "metadata": {},
   "outputs": [
    {
     "data": {
      "image/png": "[encoded data removed]",
      "text/plain": [
       "<Figure size 432x288 with 1 Axes>"
      ]
     },
     "metadata": {
      "needs_background": "light"
     },
     "output_type": "display_data"
    }
   ],
   "source": [
    "import scipy\n",
    "scipy.stats.probplot(residual, dist=\"norm\", plot=plt)\n",
    "plt.show()"
   ]
  },
  {
   "cell_type": "code",
   "execution_count": 25,
   "metadata": {},
   "outputs": [],
   "source": [
    "s = residual.std()\n",
    "opt_dec_N=round(sct.norm.ppf(Under/(Under+Over))*s + result['Predicted_sales'])"
   ]
  },
  {
   "cell_type": "markdown",
   "metadata": {},
   "source": [
    "#### Exponential Distribution"
   ]
  },
  {
   "cell_type": "code",
   "execution_count": 26,
   "metadata": {},
   "outputs": [
    {
     "data": {
      "image/png": "[encoded data removed]",
      "text/plain": [
       "<Figure size 432x288 with 1 Axes>"
      ]
     },
     "metadata": {
      "needs_background": "light"
     },
     "output_type": "display_data"
    }
   ],
   "source": [
    "scipy.stats.probplot(residual, dist=\"expon\", plot=plt)\n",
    "plt.show()"
   ]
  },
  {
   "cell_type": "code",
   "execution_count": 27,
   "metadata": {},
   "outputs": [],
   "source": [
    "opt_dec_E=round((-result['Predicted_sales'])*np.log(1-(Under/(Under+Over))))"
   ]
  },
  {
   "cell_type": "markdown",
   "metadata": {},
   "source": [
    "#### Empirical Distribution"
   ]
  },
  {
   "cell_type": "code",
   "execution_count": 28,
   "metadata": {},
   "outputs": [
    {
     "data": {
      "text/plain": [
       "[<matplotlib.lines.Line2D at 0x18c26166280>]"
      ]
     },
     "execution_count": 28,
     "metadata": {},
     "output_type": "execute_result"
    },
    {
     "data": {
      "image/png": "[encoded data removed]",
      "text/plain": [
       "<Figure size 432x288 with 1 Axes>"
      ]
     },
     "metadata": {
      "needs_background": "light"
     },
     "output_type": "display_data"
    }
   ],
   "source": [
    "size = residual.shape[0]\n",
    "step=1/size\n",
    "jumps = [step*i for i in range(1,size+1)]\n",
    "Sample = sorted(residual)\n",
    "plt.plot(Sample,jumps)"
   ]
  },
  {
   "cell_type": "code",
   "execution_count": 29,
   "metadata": {},
   "outputs": [
    {
     "data": {
      "image/png": "[encoded data removed]",
      "text/plain": [
       "<Figure size 432x288 with 1 Axes>"
      ]
     },
     "metadata": {
      "needs_background": "light"
     },
     "output_type": "display_data"
    }
   ],
   "source": [
    "plt.hist(Sample)\n",
    "plt.show()"
   ]
  },
  {
   "cell_type": "code",
   "execution_count": 30,
   "metadata": {},
   "outputs": [],
   "source": [
    "def inv(sample,jump,area):\n",
    "    size = len(sample)\n",
    "    temp=0\n",
    "    i=0\n",
    "    while temp<area:\n",
    "        temp=jump[i]\n",
    "        i+=1\n",
    "    return sample[i]"
   ]
  },
  {
   "cell_type": "code",
   "execution_count": 31,
   "metadata": {},
   "outputs": [
    {
     "data": {
      "text/plain": [
       "0.0892762707777166"
      ]
     },
     "execution_count": 31,
     "metadata": {},
     "output_type": "execute_result"
    }
   ],
   "source": [
    "offset = inv(Sample,jumps,2/3)\n",
    "offset"
   ]
  },
  {
   "cell_type": "code",
   "execution_count": 32,
   "metadata": {},
   "outputs": [],
   "source": [
    "opt_dec_B = round(result['Predicted_sales']+offset)"
   ]
  },
  {
   "cell_type": "markdown",
   "metadata": {},
   "source": [
    "# 7. Out-of-samples Profit"
   ]
  },
  {
   "cell_type": "code",
   "execution_count": 33,
   "metadata": {},
   "outputs": [
    {
     "data": {
      "text/plain": [
       "82096"
      ]
     },
     "execution_count": 33,
     "metadata": {},
     "output_type": "execute_result"
    }
   ],
   "source": [
    "#max profit for test data set\n",
    "max_profit = result['sales'].sum()*(Price-Cost)\n",
    "max_profit"
   ]
  },
  {
   "cell_type": "code",
   "execution_count": 34,
   "metadata": {},
   "outputs": [],
   "source": [
    "def profit(demand,inv):\n",
    "    return (Price-Salvage)*np.minimum(demand,inv)-(Cost-Salvage)*inv"
   ]
  },
  {
   "cell_type": "code",
   "execution_count": 35,
   "metadata": {},
   "outputs": [
    {
     "data": {
      "text/plain": [
       "81532.0"
      ]
     },
     "execution_count": 35,
     "metadata": {},
     "output_type": "execute_result"
    }
   ],
   "source": [
    "#Profit (Normal)\n",
    "profit_lst_N = profit(result['sales'],opt_dec_N)\n",
    "profit_lst_N.sum()"
   ]
  },
  {
   "cell_type": "code",
   "execution_count": 36,
   "metadata": {},
   "outputs": [
    {
     "data": {
      "text/plain": [
       "78040.0"
      ]
     },
     "execution_count": 36,
     "metadata": {},
     "output_type": "execute_result"
    }
   ],
   "source": [
    "#Profit (Exponential)\n",
    "profit_lst_E = profit(result['sales'],opt_dec_E)\n",
    "profit_lst_E.sum()"
   ]
  },
  {
   "cell_type": "code",
   "execution_count": 37,
   "metadata": {},
   "outputs": [
    {
     "data": {
      "text/plain": [
       "81344.0"
      ]
     },
     "execution_count": 37,
     "metadata": {},
     "output_type": "execute_result"
    }
   ],
   "source": [
    "#Profit (Empirical)\n",
    "profit_lst_B = profit(result['sales'],opt_dec_B)\n",
    "profit_lst_B.sum()"
   ]
  },
  {
   "cell_type": "markdown",
   "metadata": {},
   "source": [
    "# 8. K-Fold Cross Validation"
   ]
  },
  {
   "cell_type": "markdown",
   "metadata": {},
   "source": [
    "### Repeat steps 5,6,7 with 10-fold cross validation"
   ]
  },
  {
   "cell_type": "code",
   "execution_count": 38,
   "metadata": {},
   "outputs": [],
   "source": [
    "Model_4= RandomForestRegressor(ccp_alpha=best_ccp_alpha,n_estimators=best_n_est)"
   ]
  },
  {
   "cell_type": "code",
   "execution_count": 39,
   "metadata": {},
   "outputs": [],
   "source": [
    "from sklearn.model_selection import KFold\n",
    "k=10\n",
    "kf = KFold(n_splits=k)\n",
    "X_train_t=X_train.to_numpy()\n",
    "Y_train_t=Y_train.to_numpy()\n",
    "model = []\n",
    "mse_lst = []\n",
    "max_profit_lst = []\n",
    "profit_N_lst = []\n",
    "profit_E_lst = []\n",
    "profit_B_lst = []\n",
    "\n",
    "for train_index,test_index in kf.split(X_train_t):\n",
    "    X_train_K,X_test_K=X_train_t[train_index],X_train_t[test_index]\n",
    "    Y_train_K,Y_test_K=Y_train_t[train_index],Y_train_t[test_index]\n",
    "    \n",
    "    #PCA to transform train data\n",
    "    \n",
    "    #Model\n",
    "    RG_K = Model_4\n",
    "    RG_K.fit(X_train_K,Y_train_K.ravel())\n",
    "    \n",
    "    #pca to transform test data\n",
    "    \n",
    "    #MSE\n",
    "    mse_lst.append(MSE(RG_K.predict(X_test_K),Y_test_K))\n",
    "    \n",
    "    #Transform log(sale) back to sale\n",
    "    result_K = pd.DataFrame(Y_test_K)\n",
    "    result_K[\"Predicted_sales\"] = RG_K.predict(X_test_K)\n",
    "    \n",
    "    #Obtain residual\n",
    "    residual_K = result_K[0]-result_K['Predicted_sales']\n",
    "    \n",
    "    #Get std for Normal distribution\n",
    "    s_K = residual.std()\n",
    "    \n",
    "    #Inventory Decision (Normal)\n",
    "    opt_dec_N_K=np.ceil(sct.norm.ppf(Under/(Under+Over))*s_K + result_K['Predicted_sales'])\n",
    "    #Inventory Decision (Exponential)\n",
    "    opt_dec_E_K=np.ceil((-result_K['Predicted_sales'])*np.log(1-(Under/(Under+Over))))\n",
    "    \n",
    "    #Inventory Decision (Empirical Distribution)\n",
    "    size_K = residual_K.shape[0]\n",
    "    step_K=1/size_K\n",
    "    jumps_K = [step_K*i for i in range(1,size+1)]\n",
    "    Sample_K = sorted(residual_K)\n",
    "    offset_K = inv(Sample_K,jumps_K,2/3)\n",
    "    opt_dec_B_K = np.ceil(result_K['Predicted_sales']+offset_K)\n",
    "    \n",
    "    #Out-of_sample profit\n",
    "    profit_lst_B_K = profit(result_K[0],opt_dec_B_K)\n",
    "    profit_B_lst.append(profit_lst_B_K.sum())\n",
    "    \n",
    "    profit_lst_N_K = profit(result_K[0],opt_dec_N_K)\n",
    "    profit_N_lst.append(profit_lst_N_K.sum())\n",
    "    \n",
    "    profit_lst_E_K = profit(result_K[0],opt_dec_E_K)\n",
    "    profit_E_lst.append(profit_lst_E_K.sum())\n",
    "    \n",
    "    max_profit_K = result_K[0].sum()*(Price-Cost)\n",
    "    max_profit_lst.append(max_profit_K)\n",
    "    \n",
    "max_profit_lst = np.array(max_profit_lst)\n",
    "profit_N_lst = np.array(profit_N_lst)\n",
    "profit_E_lst = np.array(profit_E_lst)\n",
    "profit_B_lst = np.array(profit_B_lst)\n",
    "\n",
    "fraction_of_max_N = profit_N_lst/max_profit_lst\n",
    "fraction_of_max_E = profit_E_lst/max_profit_lst\n",
    "fraction_of_max_B = profit_B_lst/max_profit_lst\n",
    "\n",
    "dist_profit = [\"Normal\",\"Exponential\",\"Empirical\",\"Max\"]\n",
    "dist_frac = [\"Normal\",\"Exponential\",\"Empirical\"]\n",
    "col_name = [\"Dataset_\"+str(i) for i in range(1,k+1)]\n",
    "\n",
    "profit_lst = [profit_N_lst,profit_E_lst,profit_B_lst,max_profit_lst]\n",
    "profit_table = pd.DataFrame(profit_lst,index=dist_profit,columns=col_name)\n",
    "profit_table[\"mean_profit\"]=profit_table.mean(axis=1)\n",
    "profit_table[\"std_profit\"]=profit_table.std(ddof=1,axis=1)\n",
    "\n",
    "fraction_lst = [fraction_of_max_N,fraction_of_max_E,fraction_of_max_B]\n",
    "fraction_table = pd.DataFrame(fraction_lst,index=dist_frac,columns=col_name)\n",
    "fraction_table[\"mean_fraction\"]=fraction_table.mean(axis=1)"
   ]
  },
  {
   "cell_type": "code",
   "execution_count": 40,
   "metadata": {},
   "outputs": [
    {
     "data": {
      "text/html": [
       "<div>\n",
       "<style scoped>\n",
       "    .dataframe tbody tr th:only-of-type {\n",
       "        vertical-align: middle;\n",
       "    }\n",
       "\n",
       "    .dataframe tbody tr th {\n",
       "        vertical-align: top;\n",
       "    }\n",
       "\n",
       "    .dataframe thead th {\n",
       "        text-align: right;\n",
       "    }\n",
       "</style>\n",
       "<table border=\"1\" class=\"dataframe\">\n",
       "  <thead>\n",
       "    <tr style=\"text-align: right;\">\n",
       "      <th></th>\n",
       "      <th>Dataset_1</th>\n",
       "      <th>Dataset_2</th>\n",
       "      <th>Dataset_3</th>\n",
       "      <th>Dataset_4</th>\n",
       "      <th>Dataset_5</th>\n",
       "      <th>Dataset_6</th>\n",
       "      <th>Dataset_7</th>\n",
       "      <th>Dataset_8</th>\n",
       "      <th>Dataset_9</th>\n",
       "      <th>Dataset_10</th>\n",
       "      <th>mean_fraction</th>\n",
       "    </tr>\n",
       "  </thead>\n",
       "  <tbody>\n",
       "    <tr>\n",
       "      <th>Normal</th>\n",
       "      <td>0.978156</td>\n",
       "      <td>0.981616</td>\n",
       "      <td>0.976067</td>\n",
       "      <td>0.967811</td>\n",
       "      <td>0.920467</td>\n",
       "      <td>0.978386</td>\n",
       "      <td>0.976883</td>\n",
       "      <td>0.983955</td>\n",
       "      <td>0.976915</td>\n",
       "      <td>0.975413</td>\n",
       "      <td>0.971567</td>\n",
       "    </tr>\n",
       "    <tr>\n",
       "      <th>Exponential</th>\n",
       "      <td>0.936691</td>\n",
       "      <td>0.942284</td>\n",
       "      <td>0.935718</td>\n",
       "      <td>0.937425</td>\n",
       "      <td>0.889283</td>\n",
       "      <td>0.937513</td>\n",
       "      <td>0.939389</td>\n",
       "      <td>0.938682</td>\n",
       "      <td>0.937903</td>\n",
       "      <td>0.932866</td>\n",
       "      <td>0.932775</td>\n",
       "    </tr>\n",
       "    <tr>\n",
       "      <th>Empirical</th>\n",
       "      <td>0.982215</td>\n",
       "      <td>0.983295</td>\n",
       "      <td>0.980041</td>\n",
       "      <td>0.969957</td>\n",
       "      <td>0.923691</td>\n",
       "      <td>0.982278</td>\n",
       "      <td>0.981212</td>\n",
       "      <td>0.985256</td>\n",
       "      <td>0.981210</td>\n",
       "      <td>0.979927</td>\n",
       "      <td>0.974908</td>\n",
       "    </tr>\n",
       "  </tbody>\n",
       "</table>\n",
       "</div>"
      ],
      "text/plain": [
       "             Dataset_1  Dataset_2  Dataset_3  Dataset_4  Dataset_5  Dataset_6  \\\n",
       "Normal        0.978156   0.981616   0.976067   0.967811   0.920467   0.978386   \n",
       "Exponential   0.936691   0.942284   0.935718   0.937425   0.889283   0.937513   \n",
       "Empirical     0.982215   0.983295   0.980041   0.969957   0.923691   0.982278   \n",
       "\n",
       "             Dataset_7  Dataset_8  Dataset_9  Dataset_10  mean_fraction  \n",
       "Normal        0.976883   0.983955   0.976915    0.975413       0.971567  \n",
       "Exponential   0.939389   0.938682   0.937903    0.932866       0.932775  \n",
       "Empirical     0.981212   0.985256   0.981210    0.979927       0.974908  "
      ]
     },
     "execution_count": 40,
     "metadata": {},
     "output_type": "execute_result"
    }
   ],
   "source": [
    "fraction_table"
   ]
  },
  {
   "cell_type": "code",
   "execution_count": 41,
   "metadata": {
    "scrolled": true
   },
   "outputs": [
    {
     "data": {
      "text/html": [
       "<div>\n",
       "<style scoped>\n",
       "    .dataframe tbody tr th:only-of-type {\n",
       "        vertical-align: middle;\n",
       "    }\n",
       "\n",
       "    .dataframe tbody tr th {\n",
       "        vertical-align: top;\n",
       "    }\n",
       "\n",
       "    .dataframe thead th {\n",
       "        text-align: right;\n",
       "    }\n",
       "</style>\n",
       "<table border=\"1\" class=\"dataframe\">\n",
       "  <thead>\n",
       "    <tr style=\"text-align: right;\">\n",
       "      <th></th>\n",
       "      <th>Dataset_1</th>\n",
       "      <th>Dataset_2</th>\n",
       "      <th>Dataset_3</th>\n",
       "      <th>Dataset_4</th>\n",
       "      <th>Dataset_5</th>\n",
       "      <th>Dataset_6</th>\n",
       "      <th>Dataset_7</th>\n",
       "      <th>Dataset_8</th>\n",
       "      <th>Dataset_9</th>\n",
       "      <th>Dataset_10</th>\n",
       "      <th>mean_profit</th>\n",
       "      <th>std_profit</th>\n",
       "    </tr>\n",
       "  </thead>\n",
       "  <tbody>\n",
       "    <tr>\n",
       "      <th>Normal</th>\n",
       "      <td>40480.0</td>\n",
       "      <td>44424.0</td>\n",
       "      <td>45188.0</td>\n",
       "      <td>45100.0</td>\n",
       "      <td>45692.0</td>\n",
       "      <td>38204.0</td>\n",
       "      <td>47836.0</td>\n",
       "      <td>45380.0</td>\n",
       "      <td>43672.0</td>\n",
       "      <td>40624.0</td>\n",
       "      <td>43660.0</td>\n",
       "      <td>2803.859055</td>\n",
       "    </tr>\n",
       "    <tr>\n",
       "      <th>Exponential</th>\n",
       "      <td>38764.0</td>\n",
       "      <td>42644.0</td>\n",
       "      <td>43320.0</td>\n",
       "      <td>43684.0</td>\n",
       "      <td>44144.0</td>\n",
       "      <td>36608.0</td>\n",
       "      <td>46000.0</td>\n",
       "      <td>43292.0</td>\n",
       "      <td>41928.0</td>\n",
       "      <td>38852.0</td>\n",
       "      <td>41923.6</td>\n",
       "      <td>2768.773562</td>\n",
       "    </tr>\n",
       "    <tr>\n",
       "      <th>Empirical</th>\n",
       "      <td>40648.0</td>\n",
       "      <td>44500.0</td>\n",
       "      <td>45372.0</td>\n",
       "      <td>45200.0</td>\n",
       "      <td>45852.0</td>\n",
       "      <td>38356.0</td>\n",
       "      <td>48048.0</td>\n",
       "      <td>45440.0</td>\n",
       "      <td>43864.0</td>\n",
       "      <td>40812.0</td>\n",
       "      <td>43809.2</td>\n",
       "      <td>2799.475408</td>\n",
       "    </tr>\n",
       "    <tr>\n",
       "      <th>Max</th>\n",
       "      <td>41384.0</td>\n",
       "      <td>45256.0</td>\n",
       "      <td>46296.0</td>\n",
       "      <td>46600.0</td>\n",
       "      <td>49640.0</td>\n",
       "      <td>39048.0</td>\n",
       "      <td>48968.0</td>\n",
       "      <td>46120.0</td>\n",
       "      <td>44704.0</td>\n",
       "      <td>41648.0</td>\n",
       "      <td>44966.4</td>\n",
       "      <td>3203.875254</td>\n",
       "    </tr>\n",
       "  </tbody>\n",
       "</table>\n",
       "</div>"
      ],
      "text/plain": [
       "             Dataset_1  Dataset_2  Dataset_3  Dataset_4  Dataset_5  Dataset_6  \\\n",
       "Normal         40480.0    44424.0    45188.0    45100.0    45692.0    38204.0   \n",
       "Exponential    38764.0    42644.0    43320.0    43684.0    44144.0    36608.0   \n",
       "Empirical      40648.0    44500.0    45372.0    45200.0    45852.0    38356.0   \n",
       "Max            41384.0    45256.0    46296.0    46600.0    49640.0    39048.0   \n",
       "\n",
       "             Dataset_7  Dataset_8  Dataset_9  Dataset_10  mean_profit  \\\n",
       "Normal         47836.0    45380.0    43672.0     40624.0      43660.0   \n",
       "Exponential    46000.0    43292.0    41928.0     38852.0      41923.6   \n",
       "Empirical      48048.0    45440.0    43864.0     40812.0      43809.2   \n",
       "Max            48968.0    46120.0    44704.0     41648.0      44966.4   \n",
       "\n",
       "              std_profit  \n",
       "Normal       2803.859055  \n",
       "Exponential  2768.773562  \n",
       "Empirical    2799.475408  \n",
       "Max          3203.875254  "
      ]
     },
     "execution_count": 41,
     "metadata": {},
     "output_type": "execute_result"
    }
   ],
   "source": [
    "profit_table"
   ]
  },
  {
   "cell_type": "code",
   "execution_count": 42,
   "metadata": {},
   "outputs": [],
   "source": [
    "profit_table.to_csv(\".\\\\Model_Selection_Result\\\\4.2B_Random_forest(No_PCA).csv\")"
   ]
  },
  {
   "cell_type": "code",
   "execution_count": null,
   "metadata": {},
   "outputs": [],
   "source": []
  }
 ],
 "metadata": {
  "kernelspec": {
   "display_name": "Python 3",
   "language": "python",
   "name": "python3"
  },
  "language_info": {
   "codemirror_mode": {
    "name": "ipython",
    "version": 3
   },
   "file_extension": ".py",
   "mimetype": "text/x-python",
   "name": "python",
   "nbconvert_exporter": "python",
   "pygments_lexer": "ipython3",
   "version": "3.8.5"
  }
 },
 "nbformat": 4,
 "nbformat_minor": 4
}
