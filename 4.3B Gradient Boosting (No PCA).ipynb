{
 "cells": [
  {
   "cell_type": "code",
   "execution_count": 1,
   "metadata": {},
   "outputs": [],
   "source": [
    "import pandas as pd\n",
    "import numpy as np\n",
    "import matplotlib.pyplot as plt\n",
    "from sklearn.pipeline import Pipeline\n",
    "from sklearn.model_selection import GridSearchCV\n",
    "from sklearn.decomposition import PCA\n",
    "from sklearn.metrics import mean_squared_error as MSE\n",
    "from sklearn.linear_model import LinearRegression\n",
    "from sklearn.preprocessing import PolynomialFeatures\n",
    "from sklearn.model_selection import train_test_split\n",
    "from sklearn.linear_model import Lasso\n",
    "from sklearn.neighbors import KNeighborsRegressor\n",
    "from sklearn.tree import DecisionTreeRegressor\n",
    "from sklearn.ensemble import RandomForestRegressor\n",
    "from sklearn.ensemble import GradientBoostingRegressor"
   ]
  },
  {
   "cell_type": "markdown",
   "metadata": {},
   "source": [
    "# 1. Import the train datasets"
   ]
  },
  {
   "cell_type": "code",
   "execution_count": 2,
   "metadata": {},
   "outputs": [],
   "source": [
    "X_train = pd.read_csv(\"data-train.csv\",index_col=0)\n",
    "X_train.drop(['sales'],axis=1)\n",
    "Y_train = X_train.sales"
   ]
  },
  {
   "cell_type": "code",
   "execution_count": 3,
   "metadata": {},
   "outputs": [],
   "source": [
    "#X_train = pd.read_csv(\"B_encoded_train_data.csv\",index_col=0)\n",
    "#Y_train = pd.read_csv(\"A_sales_train.csv\",index_col=0)"
   ]
  },
  {
   "cell_type": "code",
   "execution_count": 4,
   "metadata": {},
   "outputs": [],
   "source": [
    "Model_1 = GradientBoostingRegressor()"
   ]
  },
  {
   "cell_type": "markdown",
   "metadata": {},
   "source": [
    "# 2. Setup Pipeline"
   ]
  },
  {
   "cell_type": "code",
   "execution_count": 5,
   "metadata": {},
   "outputs": [],
   "source": [
    "\n",
    "RG = Model_1"
   ]
  },
  {
   "cell_type": "code",
   "execution_count": 6,
   "metadata": {},
   "outputs": [],
   "source": [
    "\n",
    "pipe = Pipeline(steps=[(\"RG\",RG)])"
   ]
  },
  {
   "cell_type": "code",
   "execution_count": 7,
   "metadata": {},
   "outputs": [],
   "source": [
    "param_grid = {\n",
    "    \"RG__learning_rate\":[0.005,0.1,0.5,1,10],\n",
    "    \"RG__n_estimators\":[10,100],\n",
    "    \"RG__min_samples_split\":[0.01*i for i in range(1,3)],\n",
    "    \"RG__ccp_alpha\":[0.005,0.1,0.5,10]\n",
    "    \n",
    "}"
   ]
  },
  {
   "cell_type": "markdown",
   "metadata": {},
   "source": [
    "# 3. Setup GridSearch"
   ]
  },
  {
   "cell_type": "code",
   "execution_count": 8,
   "metadata": {},
   "outputs": [],
   "source": [
    "score_metric = 'neg_mean_squared_error'\n",
    "search = GridSearchCV(pipe,param_grid,\n",
    "                      n_jobs=-1,\n",
    "                      cv=10,\n",
    "                      scoring=score_metric)"
   ]
  },
  {
   "cell_type": "code",
   "execution_count": 9,
   "metadata": {},
   "outputs": [
    {
     "name": "stderr",
     "output_type": "stream",
     "text": [
      "C:\\Users\\Wayne Linn\\anaconda3\\lib\\site-packages\\sklearn\\model_selection\\_search.py:813: RuntimeWarning: overflow encountered in square\n",
      "  array_stds = np.sqrt(np.average((array -\n"
     ]
    },
    {
     "data": {
      "text/plain": [
       "GridSearchCV(cv=10,\n",
       "             estimator=Pipeline(steps=[('RG', GradientBoostingRegressor())]),\n",
       "             n_jobs=-1,\n",
       "             param_grid={'RG__ccp_alpha': [0.005, 0.1, 0.5, 10],\n",
       "                         'RG__learning_rate': [0.005, 0.1, 0.5, 1, 10],\n",
       "                         'RG__min_samples_split': [0.01, 0.02],\n",
       "                         'RG__n_estimators': [10, 100]},\n",
       "             scoring='neg_mean_squared_error')"
      ]
     },
     "execution_count": 9,
     "metadata": {},
     "output_type": "execute_result"
    }
   ],
   "source": [
    "search.fit(X_train,Y_train.values.ravel())"
   ]
  },
  {
   "cell_type": "code",
   "execution_count": 10,
   "metadata": {},
   "outputs": [
    {
     "name": "stdout",
     "output_type": "stream",
     "text": [
      "Best parameter (CV score=-35.364):\n",
      "{'RG__ccp_alpha': 0.005, 'RG__learning_rate': 0.5, 'RG__min_samples_split': 0.01, 'RG__n_estimators': 100}\n"
     ]
    }
   ],
   "source": [
    "print(\"Best parameter (CV score=%0.3f):\" % search.best_score_)\n",
    "print(search.best_params_)"
   ]
  },
  {
   "cell_type": "code",
   "execution_count": 11,
   "metadata": {},
   "outputs": [
    {
     "data": {
      "text/html": [
       "<div>\n",
       "<style scoped>\n",
       "    .dataframe tbody tr th:only-of-type {\n",
       "        vertical-align: middle;\n",
       "    }\n",
       "\n",
       "    .dataframe tbody tr th {\n",
       "        vertical-align: top;\n",
       "    }\n",
       "\n",
       "    .dataframe thead th {\n",
       "        text-align: right;\n",
       "    }\n",
       "</style>\n",
       "<table border=\"1\" class=\"dataframe\">\n",
       "  <thead>\n",
       "    <tr style=\"text-align: right;\">\n",
       "      <th></th>\n",
       "      <th>mean_fit_time</th>\n",
       "      <th>std_fit_time</th>\n",
       "      <th>mean_score_time</th>\n",
       "      <th>std_score_time</th>\n",
       "      <th>param_RG__ccp_alpha</th>\n",
       "      <th>param_RG__learning_rate</th>\n",
       "      <th>param_RG__min_samples_split</th>\n",
       "      <th>param_RG__n_estimators</th>\n",
       "      <th>params</th>\n",
       "      <th>split0_test_score</th>\n",
       "      <th>...</th>\n",
       "      <th>split3_test_score</th>\n",
       "      <th>split4_test_score</th>\n",
       "      <th>split5_test_score</th>\n",
       "      <th>split6_test_score</th>\n",
       "      <th>split7_test_score</th>\n",
       "      <th>split8_test_score</th>\n",
       "      <th>split9_test_score</th>\n",
       "      <th>mean_test_score</th>\n",
       "      <th>std_test_score</th>\n",
       "      <th>rank_test_score</th>\n",
       "    </tr>\n",
       "  </thead>\n",
       "  <tbody>\n",
       "    <tr>\n",
       "      <th>9</th>\n",
       "      <td>4.911916</td>\n",
       "      <td>2.700389</td>\n",
       "      <td>0.028489</td>\n",
       "      <td>7.305746e-02</td>\n",
       "      <td>0.005</td>\n",
       "      <td>0.5</td>\n",
       "      <td>0.01</td>\n",
       "      <td>100</td>\n",
       "      <td>{'RG__ccp_alpha': 0.005, 'RG__learning_rate': ...</td>\n",
       "      <td>-1.118042e+00</td>\n",
       "      <td>...</td>\n",
       "      <td>-2.677658e+01</td>\n",
       "      <td>-2.991230e+02</td>\n",
       "      <td>-1.959836e+00</td>\n",
       "      <td>-4.861289e+00</td>\n",
       "      <td>-1.068701e+00</td>\n",
       "      <td>-7.742943e+00</td>\n",
       "      <td>-1.036878e+00</td>\n",
       "      <td>-3.536410e+01</td>\n",
       "      <td>88.230255</td>\n",
       "      <td>1</td>\n",
       "    </tr>\n",
       "    <tr>\n",
       "      <th>7</th>\n",
       "      <td>4.152880</td>\n",
       "      <td>2.815515</td>\n",
       "      <td>0.002152</td>\n",
       "      <td>1.749855e-03</td>\n",
       "      <td>0.005</td>\n",
       "      <td>0.1</td>\n",
       "      <td>0.02</td>\n",
       "      <td>100</td>\n",
       "      <td>{'RG__ccp_alpha': 0.005, 'RG__learning_rate': ...</td>\n",
       "      <td>-1.329910e-01</td>\n",
       "      <td>...</td>\n",
       "      <td>-2.842945e+01</td>\n",
       "      <td>-3.460774e+02</td>\n",
       "      <td>-1.509217e-01</td>\n",
       "      <td>-6.756949e+00</td>\n",
       "      <td>-1.606124e-01</td>\n",
       "      <td>-3.664048e+00</td>\n",
       "      <td>-8.419343e-01</td>\n",
       "      <td>-3.867790e+01</td>\n",
       "      <td>102.799798</td>\n",
       "      <td>2</td>\n",
       "    </tr>\n",
       "    <tr>\n",
       "      <th>15</th>\n",
       "      <td>1.610859</td>\n",
       "      <td>2.006306</td>\n",
       "      <td>0.028735</td>\n",
       "      <td>7.922216e-02</td>\n",
       "      <td>0.005</td>\n",
       "      <td>1</td>\n",
       "      <td>0.02</td>\n",
       "      <td>100</td>\n",
       "      <td>{'RG__ccp_alpha': 0.005, 'RG__learning_rate': ...</td>\n",
       "      <td>-1.341322e+00</td>\n",
       "      <td>...</td>\n",
       "      <td>-6.060986e+01</td>\n",
       "      <td>-2.988227e+02</td>\n",
       "      <td>-1.165537e+00</td>\n",
       "      <td>-1.340031e+01</td>\n",
       "      <td>-7.639306e-01</td>\n",
       "      <td>-6.859630e+00</td>\n",
       "      <td>-2.222980e+00</td>\n",
       "      <td>-3.914430e+01</td>\n",
       "      <td>88.265337</td>\n",
       "      <td>3</td>\n",
       "    </tr>\n",
       "    <tr>\n",
       "      <th>8</th>\n",
       "      <td>0.352757</td>\n",
       "      <td>0.315612</td>\n",
       "      <td>0.002992</td>\n",
       "      <td>2.185142e-07</td>\n",
       "      <td>0.005</td>\n",
       "      <td>0.5</td>\n",
       "      <td>0.01</td>\n",
       "      <td>10</td>\n",
       "      <td>{'RG__ccp_alpha': 0.005, 'RG__learning_rate': ...</td>\n",
       "      <td>-3.939001e+00</td>\n",
       "      <td>...</td>\n",
       "      <td>-2.698142e+01</td>\n",
       "      <td>-3.114563e+02</td>\n",
       "      <td>-4.101640e+00</td>\n",
       "      <td>-9.113117e+00</td>\n",
       "      <td>-3.541889e+00</td>\n",
       "      <td>-1.634583e+01</td>\n",
       "      <td>-3.173221e+00</td>\n",
       "      <td>-3.923715e+01</td>\n",
       "      <td>91.020344</td>\n",
       "      <td>4</td>\n",
       "    </tr>\n",
       "    <tr>\n",
       "      <th>27</th>\n",
       "      <td>3.555298</td>\n",
       "      <td>2.858429</td>\n",
       "      <td>0.030159</td>\n",
       "      <td>7.729955e-02</td>\n",
       "      <td>0.1</td>\n",
       "      <td>0.1</td>\n",
       "      <td>0.02</td>\n",
       "      <td>100</td>\n",
       "      <td>{'RG__ccp_alpha': 0.1, 'RG__learning_rate': 0....</td>\n",
       "      <td>-2.617531e-01</td>\n",
       "      <td>...</td>\n",
       "      <td>-3.263819e+01</td>\n",
       "      <td>-3.553158e+02</td>\n",
       "      <td>-3.480039e-01</td>\n",
       "      <td>-8.146124e+00</td>\n",
       "      <td>-3.422013e-01</td>\n",
       "      <td>-3.338380e+00</td>\n",
       "      <td>-8.606966e-01</td>\n",
       "      <td>-4.023741e+01</td>\n",
       "      <td>105.452964</td>\n",
       "      <td>5</td>\n",
       "    </tr>\n",
       "    <tr>\n",
       "      <th>...</th>\n",
       "      <td>...</td>\n",
       "      <td>...</td>\n",
       "      <td>...</td>\n",
       "      <td>...</td>\n",
       "      <td>...</td>\n",
       "      <td>...</td>\n",
       "      <td>...</td>\n",
       "      <td>...</td>\n",
       "      <td>...</td>\n",
       "      <td>...</td>\n",
       "      <td>...</td>\n",
       "      <td>...</td>\n",
       "      <td>...</td>\n",
       "      <td>...</td>\n",
       "      <td>...</td>\n",
       "      <td>...</td>\n",
       "      <td>...</td>\n",
       "      <td>...</td>\n",
       "      <td>...</td>\n",
       "      <td>...</td>\n",
       "      <td>...</td>\n",
       "    </tr>\n",
       "    <tr>\n",
       "      <th>19</th>\n",
       "      <td>3.603368</td>\n",
       "      <td>2.793196</td>\n",
       "      <td>0.002161</td>\n",
       "      <td>4.639471e-03</td>\n",
       "      <td>0.005</td>\n",
       "      <td>10</td>\n",
       "      <td>0.02</td>\n",
       "      <td>100</td>\n",
       "      <td>{'RG__ccp_alpha': 0.005, 'RG__learning_rate': ...</td>\n",
       "      <td>-5.175192e+193</td>\n",
       "      <td>...</td>\n",
       "      <td>-2.233008e+194</td>\n",
       "      <td>-1.341250e+194</td>\n",
       "      <td>-3.729433e+193</td>\n",
       "      <td>-1.824806e+194</td>\n",
       "      <td>-7.389604e+193</td>\n",
       "      <td>-1.322238e+194</td>\n",
       "      <td>-5.964785e+193</td>\n",
       "      <td>-1.040493e+194</td>\n",
       "      <td>inf</td>\n",
       "      <td>74</td>\n",
       "    </tr>\n",
       "    <tr>\n",
       "      <th>59</th>\n",
       "      <td>2.481631</td>\n",
       "      <td>2.603918</td>\n",
       "      <td>0.001496</td>\n",
       "      <td>1.905504e-03</td>\n",
       "      <td>0.5</td>\n",
       "      <td>10</td>\n",
       "      <td>0.02</td>\n",
       "      <td>100</td>\n",
       "      <td>{'RG__ccp_alpha': 0.5, 'RG__learning_rate': 10...</td>\n",
       "      <td>-5.175192e+193</td>\n",
       "      <td>...</td>\n",
       "      <td>-2.233008e+194</td>\n",
       "      <td>-1.341250e+194</td>\n",
       "      <td>-3.729433e+193</td>\n",
       "      <td>-1.824806e+194</td>\n",
       "      <td>-7.389604e+193</td>\n",
       "      <td>-1.322238e+194</td>\n",
       "      <td>-5.964785e+193</td>\n",
       "      <td>-1.040493e+194</td>\n",
       "      <td>inf</td>\n",
       "      <td>74</td>\n",
       "    </tr>\n",
       "    <tr>\n",
       "      <th>17</th>\n",
       "      <td>2.205113</td>\n",
       "      <td>2.565251</td>\n",
       "      <td>0.006036</td>\n",
       "      <td>5.087685e-03</td>\n",
       "      <td>0.005</td>\n",
       "      <td>10</td>\n",
       "      <td>0.01</td>\n",
       "      <td>100</td>\n",
       "      <td>{'RG__ccp_alpha': 0.005, 'RG__learning_rate': ...</td>\n",
       "      <td>-5.175192e+193</td>\n",
       "      <td>...</td>\n",
       "      <td>-2.233008e+194</td>\n",
       "      <td>-1.341250e+194</td>\n",
       "      <td>-3.729433e+193</td>\n",
       "      <td>-1.824806e+194</td>\n",
       "      <td>-7.389604e+193</td>\n",
       "      <td>-1.322238e+194</td>\n",
       "      <td>-5.964785e+193</td>\n",
       "      <td>-1.040493e+194</td>\n",
       "      <td>inf</td>\n",
       "      <td>78</td>\n",
       "    </tr>\n",
       "    <tr>\n",
       "      <th>39</th>\n",
       "      <td>3.131298</td>\n",
       "      <td>2.976172</td>\n",
       "      <td>0.005383</td>\n",
       "      <td>5.369987e-03</td>\n",
       "      <td>0.1</td>\n",
       "      <td>10</td>\n",
       "      <td>0.02</td>\n",
       "      <td>100</td>\n",
       "      <td>{'RG__ccp_alpha': 0.1, 'RG__learning_rate': 10...</td>\n",
       "      <td>-5.175192e+193</td>\n",
       "      <td>...</td>\n",
       "      <td>-2.233008e+194</td>\n",
       "      <td>-1.341250e+194</td>\n",
       "      <td>-3.729433e+193</td>\n",
       "      <td>-1.824806e+194</td>\n",
       "      <td>-7.389604e+193</td>\n",
       "      <td>-1.322238e+194</td>\n",
       "      <td>-5.964785e+193</td>\n",
       "      <td>-1.040493e+194</td>\n",
       "      <td>inf</td>\n",
       "      <td>78</td>\n",
       "    </tr>\n",
       "    <tr>\n",
       "      <th>57</th>\n",
       "      <td>3.948621</td>\n",
       "      <td>3.049616</td>\n",
       "      <td>0.027235</td>\n",
       "      <td>7.740021e-02</td>\n",
       "      <td>0.5</td>\n",
       "      <td>10</td>\n",
       "      <td>0.01</td>\n",
       "      <td>100</td>\n",
       "      <td>{'RG__ccp_alpha': 0.5, 'RG__learning_rate': 10...</td>\n",
       "      <td>-5.175192e+193</td>\n",
       "      <td>...</td>\n",
       "      <td>-2.233008e+194</td>\n",
       "      <td>-1.341250e+194</td>\n",
       "      <td>-3.729433e+193</td>\n",
       "      <td>-1.824806e+194</td>\n",
       "      <td>-7.389604e+193</td>\n",
       "      <td>-1.322238e+194</td>\n",
       "      <td>-5.964785e+193</td>\n",
       "      <td>-1.040493e+194</td>\n",
       "      <td>inf</td>\n",
       "      <td>80</td>\n",
       "    </tr>\n",
       "  </tbody>\n",
       "</table>\n",
       "<p>80 rows × 22 columns</p>\n",
       "</div>"
      ],
      "text/plain": [
       "    mean_fit_time  std_fit_time  mean_score_time  std_score_time  \\\n",
       "9        4.911916      2.700389         0.028489    7.305746e-02   \n",
       "7        4.152880      2.815515         0.002152    1.749855e-03   \n",
       "15       1.610859      2.006306         0.028735    7.922216e-02   \n",
       "8        0.352757      0.315612         0.002992    2.185142e-07   \n",
       "27       3.555298      2.858429         0.030159    7.729955e-02   \n",
       "..            ...           ...              ...             ...   \n",
       "19       3.603368      2.793196         0.002161    4.639471e-03   \n",
       "59       2.481631      2.603918         0.001496    1.905504e-03   \n",
       "17       2.205113      2.565251         0.006036    5.087685e-03   \n",
       "39       3.131298      2.976172         0.005383    5.369987e-03   \n",
       "57       3.948621      3.049616         0.027235    7.740021e-02   \n",
       "\n",
       "   param_RG__ccp_alpha param_RG__learning_rate param_RG__min_samples_split  \\\n",
       "9                0.005                     0.5                        0.01   \n",
       "7                0.005                     0.1                        0.02   \n",
       "15               0.005                       1                        0.02   \n",
       "8                0.005                     0.5                        0.01   \n",
       "27                 0.1                     0.1                        0.02   \n",
       "..                 ...                     ...                         ...   \n",
       "19               0.005                      10                        0.02   \n",
       "59                 0.5                      10                        0.02   \n",
       "17               0.005                      10                        0.01   \n",
       "39                 0.1                      10                        0.02   \n",
       "57                 0.5                      10                        0.01   \n",
       "\n",
       "   param_RG__n_estimators                                             params  \\\n",
       "9                     100  {'RG__ccp_alpha': 0.005, 'RG__learning_rate': ...   \n",
       "7                     100  {'RG__ccp_alpha': 0.005, 'RG__learning_rate': ...   \n",
       "15                    100  {'RG__ccp_alpha': 0.005, 'RG__learning_rate': ...   \n",
       "8                      10  {'RG__ccp_alpha': 0.005, 'RG__learning_rate': ...   \n",
       "27                    100  {'RG__ccp_alpha': 0.1, 'RG__learning_rate': 0....   \n",
       "..                    ...                                                ...   \n",
       "19                    100  {'RG__ccp_alpha': 0.005, 'RG__learning_rate': ...   \n",
       "59                    100  {'RG__ccp_alpha': 0.5, 'RG__learning_rate': 10...   \n",
       "17                    100  {'RG__ccp_alpha': 0.005, 'RG__learning_rate': ...   \n",
       "39                    100  {'RG__ccp_alpha': 0.1, 'RG__learning_rate': 10...   \n",
       "57                    100  {'RG__ccp_alpha': 0.5, 'RG__learning_rate': 10...   \n",
       "\n",
       "    split0_test_score  ...  split3_test_score  split4_test_score  \\\n",
       "9       -1.118042e+00  ...      -2.677658e+01      -2.991230e+02   \n",
       "7       -1.329910e-01  ...      -2.842945e+01      -3.460774e+02   \n",
       "15      -1.341322e+00  ...      -6.060986e+01      -2.988227e+02   \n",
       "8       -3.939001e+00  ...      -2.698142e+01      -3.114563e+02   \n",
       "27      -2.617531e-01  ...      -3.263819e+01      -3.553158e+02   \n",
       "..                ...  ...                ...                ...   \n",
       "19     -5.175192e+193  ...     -2.233008e+194     -1.341250e+194   \n",
       "59     -5.175192e+193  ...     -2.233008e+194     -1.341250e+194   \n",
       "17     -5.175192e+193  ...     -2.233008e+194     -1.341250e+194   \n",
       "39     -5.175192e+193  ...     -2.233008e+194     -1.341250e+194   \n",
       "57     -5.175192e+193  ...     -2.233008e+194     -1.341250e+194   \n",
       "\n",
       "    split5_test_score  split6_test_score  split7_test_score  \\\n",
       "9       -1.959836e+00      -4.861289e+00      -1.068701e+00   \n",
       "7       -1.509217e-01      -6.756949e+00      -1.606124e-01   \n",
       "15      -1.165537e+00      -1.340031e+01      -7.639306e-01   \n",
       "8       -4.101640e+00      -9.113117e+00      -3.541889e+00   \n",
       "27      -3.480039e-01      -8.146124e+00      -3.422013e-01   \n",
       "..                ...                ...                ...   \n",
       "19     -3.729433e+193     -1.824806e+194     -7.389604e+193   \n",
       "59     -3.729433e+193     -1.824806e+194     -7.389604e+193   \n",
       "17     -3.729433e+193     -1.824806e+194     -7.389604e+193   \n",
       "39     -3.729433e+193     -1.824806e+194     -7.389604e+193   \n",
       "57     -3.729433e+193     -1.824806e+194     -7.389604e+193   \n",
       "\n",
       "    split8_test_score  split9_test_score  mean_test_score  std_test_score  \\\n",
       "9       -7.742943e+00      -1.036878e+00    -3.536410e+01       88.230255   \n",
       "7       -3.664048e+00      -8.419343e-01    -3.867790e+01      102.799798   \n",
       "15      -6.859630e+00      -2.222980e+00    -3.914430e+01       88.265337   \n",
       "8       -1.634583e+01      -3.173221e+00    -3.923715e+01       91.020344   \n",
       "27      -3.338380e+00      -8.606966e-01    -4.023741e+01      105.452964   \n",
       "..                ...                ...              ...             ...   \n",
       "19     -1.322238e+194     -5.964785e+193   -1.040493e+194             inf   \n",
       "59     -1.322238e+194     -5.964785e+193   -1.040493e+194             inf   \n",
       "17     -1.322238e+194     -5.964785e+193   -1.040493e+194             inf   \n",
       "39     -1.322238e+194     -5.964785e+193   -1.040493e+194             inf   \n",
       "57     -1.322238e+194     -5.964785e+193   -1.040493e+194             inf   \n",
       "\n",
       "    rank_test_score  \n",
       "9                 1  \n",
       "7                 2  \n",
       "15                3  \n",
       "8                 4  \n",
       "27                5  \n",
       "..              ...  \n",
       "19               74  \n",
       "59               74  \n",
       "17               78  \n",
       "39               78  \n",
       "57               80  \n",
       "\n",
       "[80 rows x 22 columns]"
      ]
     },
     "execution_count": 11,
     "metadata": {},
     "output_type": "execute_result"
    }
   ],
   "source": [
    "df = pd.DataFrame(search.cv_results_)\n",
    "df = df.sort_values(by=['rank_test_score'])\n",
    "df"
   ]
  },
  {
   "cell_type": "markdown",
   "metadata": {},
   "source": [
    "# 4. Best Hyperparameter"
   ]
  },
  {
   "cell_type": "code",
   "execution_count": 12,
   "metadata": {},
   "outputs": [
    {
     "name": "stdout",
     "output_type": "stream",
     "text": [
      "{'RG__ccp_alpha': 0.005, 'RG__learning_rate': 0.5, 'RG__min_samples_split': 0.01, 'RG__n_estimators': 100}\n"
     ]
    }
   ],
   "source": [
    "parms = pd.DataFrame(df['params'])\n",
    "for i in parms.iloc[0]:\n",
    "    print(i)"
   ]
  },
  {
   "cell_type": "markdown",
   "metadata": {},
   "source": [
    "# 5. Evaluate Model $log(Sales)$"
   ]
  },
  {
   "cell_type": "code",
   "execution_count": 13,
   "metadata": {},
   "outputs": [],
   "source": [
    "best_lr = parms.iloc[0][0]['RG__learning_rate']\n",
    "best_n_est = parms.iloc[0][0]['RG__n_estimators']\n",
    "best_min_ss=parms.iloc[0][0]['RG__min_samples_split']\n",
    "best_ccp_alpha=parms.iloc[0][0]['RG__ccp_alpha']\n",
    "#best_pca=170\n",
    "#best_lr=0.1\n",
    "#best_n_est=100"
   ]
  },
  {
   "cell_type": "code",
   "execution_count": null,
   "metadata": {},
   "outputs": [],
   "source": []
  },
  {
   "cell_type": "code",
   "execution_count": 14,
   "metadata": {},
   "outputs": [],
   "source": [
    "Model_2 = GradientBoostingRegressor(learning_rate=best_lr,n_estimators=best_n_est,min_samples_split=best_min_ss,ccp_alpha=best_ccp_alpha)"
   ]
  },
  {
   "cell_type": "code",
   "execution_count": 15,
   "metadata": {},
   "outputs": [],
   "source": [
    "X_train1,X_test1,Y_train1,Y_test1 = train_test_split(X_train,Y_train,test_size=0.2,random_state=132)\n"
   ]
  },
  {
   "cell_type": "code",
   "execution_count": 16,
   "metadata": {},
   "outputs": [
    {
     "data": {
      "text/plain": [
       "GradientBoostingRegressor(ccp_alpha=0.005, learning_rate=0.5,\n",
       "                          min_samples_split=0.01)"
      ]
     },
     "execution_count": 16,
     "metadata": {},
     "output_type": "execute_result"
    }
   ],
   "source": [
    "\n",
    "RG1 = Model_2\n",
    "RG1.fit(X_train1,Y_train1.values.ravel())"
   ]
  },
  {
   "cell_type": "code",
   "execution_count": null,
   "metadata": {},
   "outputs": [],
   "source": []
  },
  {
   "cell_type": "code",
   "execution_count": 17,
   "metadata": {},
   "outputs": [
    {
     "data": {
      "text/plain": [
       "107.30984402292606"
      ]
     },
     "execution_count": 17,
     "metadata": {},
     "output_type": "execute_result"
    }
   ],
   "source": [
    "MSE(RG1.predict(X_test1),Y_test1)"
   ]
  },
  {
   "cell_type": "code",
   "execution_count": 18,
   "metadata": {},
   "outputs": [],
   "source": [
    "result = pd.DataFrame(Y_test1)"
   ]
  },
  {
   "cell_type": "code",
   "execution_count": 19,
   "metadata": {},
   "outputs": [],
   "source": [
    "result[\"Predicted_sales\"] = RG1.predict(X_test1)"
   ]
  },
  {
   "cell_type": "code",
   "execution_count": 20,
   "metadata": {},
   "outputs": [
    {
     "data": {
      "text/plain": [
       "107.30984402292606"
      ]
     },
     "execution_count": 20,
     "metadata": {},
     "output_type": "execute_result"
    }
   ],
   "source": [
    "MSE(result[\"sales\"],result[\"Predicted_sales\"])"
   ]
  },
  {
   "cell_type": "markdown",
   "metadata": {},
   "source": [
    "# 6. Inventory Decision"
   ]
  },
  {
   "cell_type": "code",
   "execution_count": 21,
   "metadata": {},
   "outputs": [],
   "source": [
    "residual = result['sales']-result['Predicted_sales']"
   ]
  },
  {
   "cell_type": "code",
   "execution_count": 22,
   "metadata": {},
   "outputs": [
    {
     "data": {
      "text/plain": [
       "(4, 8)"
      ]
     },
     "execution_count": 22,
     "metadata": {},
     "output_type": "execute_result"
    }
   ],
   "source": [
    "Price=20\n",
    "Cost=12\n",
    "Salvage=8\n",
    "Over=Cost - Salvage\n",
    "Under=Price - Cost\n",
    "Over, Under"
   ]
  },
  {
   "cell_type": "markdown",
   "metadata": {},
   "source": [
    "### QQ plot to explore the distribution of residual"
   ]
  },
  {
   "cell_type": "markdown",
   "metadata": {},
   "source": [
    "#### Normal Distribution"
   ]
  },
  {
   "cell_type": "code",
   "execution_count": 23,
   "metadata": {},
   "outputs": [],
   "source": [
    "import scipy.stats as sct"
   ]
  },
  {
   "cell_type": "code",
   "execution_count": 24,
   "metadata": {},
   "outputs": [
    {
     "data": {
      "image/png": "[encoded data removed]",
      "text/plain": [
       "<Figure size 432x288 with 1 Axes>"
      ]
     },
     "metadata": {
      "needs_background": "light"
     },
     "output_type": "display_data"
    }
   ],
   "source": [
    "import scipy\n",
    "scipy.stats.probplot(residual, dist=\"norm\", plot=plt)\n",
    "plt.show()"
   ]
  },
  {
   "cell_type": "code",
   "execution_count": 25,
   "metadata": {},
   "outputs": [],
   "source": [
    "s = residual.std()\n",
    "opt_dec_N=round(sct.norm.ppf(Under/(Under+Over))*s + result['Predicted_sales'])"
   ]
  },
  {
   "cell_type": "markdown",
   "metadata": {},
   "source": [
    "#### Exponential Distribution"
   ]
  },
  {
   "cell_type": "code",
   "execution_count": 26,
   "metadata": {},
   "outputs": [
    {
     "data": {
      "image/png": "[encoded data removed]",
      "text/plain": [
       "<Figure size 432x288 with 1 Axes>"
      ]
     },
     "metadata": {
      "needs_background": "light"
     },
     "output_type": "display_data"
    }
   ],
   "source": [
    "scipy.stats.probplot(residual, dist=\"expon\", plot=plt)\n",
    "plt.show()"
   ]
  },
  {
   "cell_type": "code",
   "execution_count": 27,
   "metadata": {},
   "outputs": [],
   "source": [
    "opt_dec_E=round((-result['Predicted_sales'])*np.log(1-(Under/(Under+Over))))"
   ]
  },
  {
   "cell_type": "markdown",
   "metadata": {},
   "source": [
    "#### Empirical Distribution"
   ]
  },
  {
   "cell_type": "code",
   "execution_count": 28,
   "metadata": {},
   "outputs": [
    {
     "data": {
      "text/plain": [
       "[<matplotlib.lines.Line2D at 0x1ef4c0b0550>]"
      ]
     },
     "execution_count": 28,
     "metadata": {},
     "output_type": "execute_result"
    },
    {
     "data": {
      "image/png": "[encoded data removed]",
      "text/plain": [
       "<Figure size 432x288 with 1 Axes>"
      ]
     },
     "metadata": {
      "needs_background": "light"
     },
     "output_type": "display_data"
    }
   ],
   "source": [
    "size = residual.shape[0]\n",
    "step=1/size\n",
    "jumps = [step*i for i in range(1,size+1)]\n",
    "Sample = sorted(residual)\n",
    "plt.plot(Sample,jumps)"
   ]
  },
  {
   "cell_type": "code",
   "execution_count": 29,
   "metadata": {},
   "outputs": [
    {
     "data": {
      "image/png": "[encoded data removed]",
      "text/plain": [
       "<Figure size 432x288 with 1 Axes>"
      ]
     },
     "metadata": {
      "needs_background": "light"
     },
     "output_type": "display_data"
    }
   ],
   "source": [
    "plt.hist(Sample)\n",
    "plt.show()"
   ]
  },
  {
   "cell_type": "code",
   "execution_count": 30,
   "metadata": {},
   "outputs": [],
   "source": [
    "def inv(sample,jump,area):\n",
    "    size = len(sample)\n",
    "    i=0\n",
    "    temp=jump[i]\n",
    "    while temp<area:\n",
    "        i+=1\n",
    "        temp=jump[i]\n",
    "        \n",
    "    return sample[i]"
   ]
  },
  {
   "cell_type": "code",
   "execution_count": 31,
   "metadata": {},
   "outputs": [
    {
     "data": {
      "text/plain": [
       "0.22441656244879127"
      ]
     },
     "execution_count": 31,
     "metadata": {},
     "output_type": "execute_result"
    }
   ],
   "source": [
    "offset = inv(Sample,jumps,2/3)\n",
    "offset"
   ]
  },
  {
   "cell_type": "code",
   "execution_count": 32,
   "metadata": {},
   "outputs": [],
   "source": [
    "opt_dec_B = round(result['Predicted_sales']+offset)"
   ]
  },
  {
   "cell_type": "markdown",
   "metadata": {},
   "source": [
    "# 7. Out-of-samples Profit"
   ]
  },
  {
   "cell_type": "code",
   "execution_count": 33,
   "metadata": {},
   "outputs": [
    {
     "data": {
      "text/plain": [
       "82096"
      ]
     },
     "execution_count": 33,
     "metadata": {},
     "output_type": "execute_result"
    }
   ],
   "source": [
    "#max profit for test data set\n",
    "max_profit = result['sales'].sum()*(Price-Cost)\n",
    "max_profit"
   ]
  },
  {
   "cell_type": "code",
   "execution_count": 34,
   "metadata": {},
   "outputs": [],
   "source": [
    "def profit(demand,inv):\n",
    "    return (Price-Salvage)*np.minimum(demand,inv)-(Cost-Salvage)*inv"
   ]
  },
  {
   "cell_type": "code",
   "execution_count": 35,
   "metadata": {},
   "outputs": [
    {
     "data": {
      "text/plain": [
       "72720.0"
      ]
     },
     "execution_count": 35,
     "metadata": {},
     "output_type": "execute_result"
    }
   ],
   "source": [
    "#Profit (Normal)\n",
    "profit_lst_N = profit(result['sales'],opt_dec_N)\n",
    "profit_lst_N.sum()"
   ]
  },
  {
   "cell_type": "code",
   "execution_count": 36,
   "metadata": {},
   "outputs": [
    {
     "data": {
      "text/plain": [
       "77152.0"
      ]
     },
     "execution_count": 36,
     "metadata": {},
     "output_type": "execute_result"
    }
   ],
   "source": [
    "#Profit (Exponential)\n",
    "profit_lst_E = profit(result['sales'],opt_dec_E)\n",
    "profit_lst_E.sum()"
   ]
  },
  {
   "cell_type": "code",
   "execution_count": 37,
   "metadata": {},
   "outputs": [
    {
     "data": {
      "text/plain": [
       "79932.0"
      ]
     },
     "execution_count": 37,
     "metadata": {},
     "output_type": "execute_result"
    }
   ],
   "source": [
    "#Profit (Empirical)\n",
    "profit_lst_B = profit(result['sales'],opt_dec_B)\n",
    "profit_lst_B.sum()"
   ]
  },
  {
   "cell_type": "markdown",
   "metadata": {},
   "source": [
    "# 8. K-Fold Cross Validation"
   ]
  },
  {
   "cell_type": "markdown",
   "metadata": {},
   "source": [
    "### Repeat steps 5,6,7 with 10-fold cross validation"
   ]
  },
  {
   "cell_type": "code",
   "execution_count": 38,
   "metadata": {},
   "outputs": [],
   "source": [
    "Model_4= GradientBoostingRegressor(learning_rate=best_lr,n_estimators=best_n_est,min_samples_split=best_min_ss,ccp_alpha=best_ccp_alpha)"
   ]
  },
  {
   "cell_type": "code",
   "execution_count": 39,
   "metadata": {},
   "outputs": [],
   "source": [
    "from sklearn.model_selection import KFold\n",
    "k=10\n",
    "kf = KFold(n_splits=k)\n",
    "X_train_t=X_train.to_numpy()\n",
    "Y_train_t=Y_train.to_numpy()\n",
    "model = []\n",
    "mse_lst = []\n",
    "max_profit_lst = []\n",
    "profit_N_lst = []\n",
    "profit_E_lst = []\n",
    "profit_B_lst = []\n",
    "\n",
    "for train_index,test_index in kf.split(X_train_t):\n",
    "    X_train_K,X_test_K=X_train_t[train_index],X_train_t[test_index]\n",
    "    Y_train_K,Y_test_K=Y_train_t[train_index],Y_train_t[test_index]\n",
    "    \n",
    "    #PCA to transform train data\n",
    "    \n",
    "    #Model\n",
    "    RG_K = Model_4\n",
    "    RG_K.fit(X_train_K,Y_train_K.ravel())\n",
    "    \n",
    "    #pca to transform test data\n",
    "    \n",
    "    #MSE\n",
    "    mse_lst.append(MSE(RG_K.predict(X_test_K),Y_test_K))\n",
    "    \n",
    "    #Transform log(sale) back to sale\n",
    "    result_K = pd.DataFrame(Y_test_K)\n",
    "    result_K[\"Predicted_sales\"] = RG_K.predict(X_test_K)\n",
    "    \n",
    "    #Obtain residual\n",
    "    residual_K = result_K[0]-result_K['Predicted_sales']\n",
    "    \n",
    "    #Get std for Normal distribution\n",
    "    s_K = residual.std()\n",
    "    \n",
    "    #Inventory Decision (Normal)\n",
    "    opt_dec_N_K=np.ceil(sct.norm.ppf(Under/(Under+Over))*s_K + result_K['Predicted_sales'])\n",
    "    #Inventory Decision (Exponential)\n",
    "    opt_dec_E_K=np.ceil((-result_K['Predicted_sales'])*np.log(1-(Under/(Under+Over))))\n",
    "    \n",
    "    #Inventory Decision (Empirical Distribution)\n",
    "    size_K = residual_K.shape[0]\n",
    "    step_K=1/size_K\n",
    "    jumps_K = [step_K*i for i in range(1,size+1)]\n",
    "    Sample_K = sorted(residual_K)\n",
    "    offset_K = inv(Sample_K,jumps_K,2/3)\n",
    "    opt_dec_B_K = np.ceil(result_K['Predicted_sales']+offset_K)\n",
    "    \n",
    "    #Out-of_sample profit\n",
    "    profit_lst_B_K = profit(result_K[0],opt_dec_B_K)\n",
    "    profit_B_lst.append(profit_lst_B_K.sum())\n",
    "    \n",
    "    profit_lst_N_K = profit(result_K[0],opt_dec_N_K)\n",
    "    profit_N_lst.append(profit_lst_N_K.sum())\n",
    "    \n",
    "    profit_lst_E_K = profit(result_K[0],opt_dec_E_K)\n",
    "    profit_E_lst.append(profit_lst_E_K.sum())\n",
    "    \n",
    "    max_profit_K = result_K[0].sum()*(Price-Cost)\n",
    "    max_profit_lst.append(max_profit_K)\n",
    "    \n",
    "max_profit_lst = np.array(max_profit_lst)\n",
    "profit_N_lst = np.array(profit_N_lst)\n",
    "profit_E_lst = np.array(profit_E_lst)\n",
    "profit_B_lst = np.array(profit_B_lst)\n",
    "\n",
    "fraction_of_max_N = profit_N_lst/max_profit_lst\n",
    "fraction_of_max_E = profit_E_lst/max_profit_lst\n",
    "fraction_of_max_B = profit_B_lst/max_profit_lst\n",
    "\n",
    "dist_profit = [\"Normal\",\"Exponential\",\"Empirical\",\"Max\"]\n",
    "dist_frac = [\"Normal\",\"Exponential\",\"Empirical\"]\n",
    "col_name = [\"Dataset_\"+str(i) for i in range(1,k+1)]\n",
    "\n",
    "profit_lst = [profit_N_lst,profit_E_lst,profit_B_lst,max_profit_lst]\n",
    "profit_table = pd.DataFrame(profit_lst,index=dist_profit,columns=col_name)\n",
    "profit_table[\"mean_profit\"]=profit_table.mean(axis=1)\n",
    "profit_table[\"std_profit\"]=profit_table.std(ddof=1,axis=1)\n",
    "\n",
    "fraction_lst = [fraction_of_max_N,fraction_of_max_E,fraction_of_max_B]\n",
    "fraction_table = pd.DataFrame(fraction_lst,index=dist_frac,columns=col_name)\n",
    "fraction_table[\"mean_fraction\"]=fraction_table.mean(axis=1)"
   ]
  },
  {
   "cell_type": "code",
   "execution_count": 40,
   "metadata": {},
   "outputs": [
    {
     "data": {
      "text/html": [
       "<div>\n",
       "<style scoped>\n",
       "    .dataframe tbody tr th:only-of-type {\n",
       "        vertical-align: middle;\n",
       "    }\n",
       "\n",
       "    .dataframe tbody tr th {\n",
       "        vertical-align: top;\n",
       "    }\n",
       "\n",
       "    .dataframe thead th {\n",
       "        text-align: right;\n",
       "    }\n",
       "</style>\n",
       "<table border=\"1\" class=\"dataframe\">\n",
       "  <thead>\n",
       "    <tr style=\"text-align: right;\">\n",
       "      <th></th>\n",
       "      <th>Dataset_1</th>\n",
       "      <th>Dataset_2</th>\n",
       "      <th>Dataset_3</th>\n",
       "      <th>Dataset_4</th>\n",
       "      <th>Dataset_5</th>\n",
       "      <th>Dataset_6</th>\n",
       "      <th>Dataset_7</th>\n",
       "      <th>Dataset_8</th>\n",
       "      <th>Dataset_9</th>\n",
       "      <th>Dataset_10</th>\n",
       "      <th>mean_fraction</th>\n",
       "    </tr>\n",
       "  </thead>\n",
       "  <tbody>\n",
       "    <tr>\n",
       "      <th>Normal</th>\n",
       "      <td>0.885850</td>\n",
       "      <td>0.900742</td>\n",
       "      <td>0.892604</td>\n",
       "      <td>0.887039</td>\n",
       "      <td>0.858662</td>\n",
       "      <td>0.880455</td>\n",
       "      <td>0.901242</td>\n",
       "      <td>0.898786</td>\n",
       "      <td>0.894059</td>\n",
       "      <td>0.892048</td>\n",
       "      <td>0.889149</td>\n",
       "    </tr>\n",
       "    <tr>\n",
       "      <th>Exponential</th>\n",
       "      <td>0.937657</td>\n",
       "      <td>0.942637</td>\n",
       "      <td>0.940211</td>\n",
       "      <td>0.940858</td>\n",
       "      <td>0.904351</td>\n",
       "      <td>0.943454</td>\n",
       "      <td>0.941840</td>\n",
       "      <td>0.941977</td>\n",
       "      <td>0.937992</td>\n",
       "      <td>0.940549</td>\n",
       "      <td>0.937153</td>\n",
       "    </tr>\n",
       "    <tr>\n",
       "      <th>Empirical</th>\n",
       "      <td>0.977383</td>\n",
       "      <td>0.975164</td>\n",
       "      <td>0.971661</td>\n",
       "      <td>0.964292</td>\n",
       "      <td>0.930943</td>\n",
       "      <td>0.976234</td>\n",
       "      <td>0.978272</td>\n",
       "      <td>0.979618</td>\n",
       "      <td>0.976020</td>\n",
       "      <td>0.977718</td>\n",
       "      <td>0.970730</td>\n",
       "    </tr>\n",
       "  </tbody>\n",
       "</table>\n",
       "</div>"
      ],
      "text/plain": [
       "             Dataset_1  Dataset_2  Dataset_3  Dataset_4  Dataset_5  Dataset_6  \\\n",
       "Normal        0.885850   0.900742   0.892604   0.887039   0.858662   0.880455   \n",
       "Exponential   0.937657   0.942637   0.940211   0.940858   0.904351   0.943454   \n",
       "Empirical     0.977383   0.975164   0.971661   0.964292   0.930943   0.976234   \n",
       "\n",
       "             Dataset_7  Dataset_8  Dataset_9  Dataset_10  mean_fraction  \n",
       "Normal        0.901242   0.898786   0.894059    0.892048       0.889149  \n",
       "Exponential   0.941840   0.941977   0.937992    0.940549       0.937153  \n",
       "Empirical     0.978272   0.979618   0.976020    0.977718       0.970730  "
      ]
     },
     "execution_count": 40,
     "metadata": {},
     "output_type": "execute_result"
    }
   ],
   "source": [
    "fraction_table"
   ]
  },
  {
   "cell_type": "code",
   "execution_count": 41,
   "metadata": {
    "scrolled": true
   },
   "outputs": [
    {
     "data": {
      "text/html": [
       "<div>\n",
       "<style scoped>\n",
       "    .dataframe tbody tr th:only-of-type {\n",
       "        vertical-align: middle;\n",
       "    }\n",
       "\n",
       "    .dataframe tbody tr th {\n",
       "        vertical-align: top;\n",
       "    }\n",
       "\n",
       "    .dataframe thead th {\n",
       "        text-align: right;\n",
       "    }\n",
       "</style>\n",
       "<table border=\"1\" class=\"dataframe\">\n",
       "  <thead>\n",
       "    <tr style=\"text-align: right;\">\n",
       "      <th></th>\n",
       "      <th>Dataset_1</th>\n",
       "      <th>Dataset_2</th>\n",
       "      <th>Dataset_3</th>\n",
       "      <th>Dataset_4</th>\n",
       "      <th>Dataset_5</th>\n",
       "      <th>Dataset_6</th>\n",
       "      <th>Dataset_7</th>\n",
       "      <th>Dataset_8</th>\n",
       "      <th>Dataset_9</th>\n",
       "      <th>Dataset_10</th>\n",
       "      <th>mean_profit</th>\n",
       "      <th>std_profit</th>\n",
       "    </tr>\n",
       "  </thead>\n",
       "  <tbody>\n",
       "    <tr>\n",
       "      <th>Normal</th>\n",
       "      <td>36660.0</td>\n",
       "      <td>40764.0</td>\n",
       "      <td>41324.0</td>\n",
       "      <td>41336.0</td>\n",
       "      <td>42624.0</td>\n",
       "      <td>34380.0</td>\n",
       "      <td>44132.0</td>\n",
       "      <td>41452.0</td>\n",
       "      <td>39968.0</td>\n",
       "      <td>37152.0</td>\n",
       "      <td>39979.2</td>\n",
       "      <td>2846.690598</td>\n",
       "    </tr>\n",
       "    <tr>\n",
       "      <th>Exponential</th>\n",
       "      <td>38804.0</td>\n",
       "      <td>42660.0</td>\n",
       "      <td>43528.0</td>\n",
       "      <td>43844.0</td>\n",
       "      <td>44892.0</td>\n",
       "      <td>36840.0</td>\n",
       "      <td>46120.0</td>\n",
       "      <td>43444.0</td>\n",
       "      <td>41932.0</td>\n",
       "      <td>39172.0</td>\n",
       "      <td>42123.6</td>\n",
       "      <td>2797.916625</td>\n",
       "    </tr>\n",
       "    <tr>\n",
       "      <th>Empirical</th>\n",
       "      <td>40448.0</td>\n",
       "      <td>44132.0</td>\n",
       "      <td>44984.0</td>\n",
       "      <td>44936.0</td>\n",
       "      <td>46212.0</td>\n",
       "      <td>38120.0</td>\n",
       "      <td>47904.0</td>\n",
       "      <td>45180.0</td>\n",
       "      <td>43632.0</td>\n",
       "      <td>40720.0</td>\n",
       "      <td>43626.8</td>\n",
       "      <td>2829.849494</td>\n",
       "    </tr>\n",
       "    <tr>\n",
       "      <th>Max</th>\n",
       "      <td>41384.0</td>\n",
       "      <td>45256.0</td>\n",
       "      <td>46296.0</td>\n",
       "      <td>46600.0</td>\n",
       "      <td>49640.0</td>\n",
       "      <td>39048.0</td>\n",
       "      <td>48968.0</td>\n",
       "      <td>46120.0</td>\n",
       "      <td>44704.0</td>\n",
       "      <td>41648.0</td>\n",
       "      <td>44966.4</td>\n",
       "      <td>3203.875254</td>\n",
       "    </tr>\n",
       "  </tbody>\n",
       "</table>\n",
       "</div>"
      ],
      "text/plain": [
       "             Dataset_1  Dataset_2  Dataset_3  Dataset_4  Dataset_5  Dataset_6  \\\n",
       "Normal         36660.0    40764.0    41324.0    41336.0    42624.0    34380.0   \n",
       "Exponential    38804.0    42660.0    43528.0    43844.0    44892.0    36840.0   \n",
       "Empirical      40448.0    44132.0    44984.0    44936.0    46212.0    38120.0   \n",
       "Max            41384.0    45256.0    46296.0    46600.0    49640.0    39048.0   \n",
       "\n",
       "             Dataset_7  Dataset_8  Dataset_9  Dataset_10  mean_profit  \\\n",
       "Normal         44132.0    41452.0    39968.0     37152.0      39979.2   \n",
       "Exponential    46120.0    43444.0    41932.0     39172.0      42123.6   \n",
       "Empirical      47904.0    45180.0    43632.0     40720.0      43626.8   \n",
       "Max            48968.0    46120.0    44704.0     41648.0      44966.4   \n",
       "\n",
       "              std_profit  \n",
       "Normal       2846.690598  \n",
       "Exponential  2797.916625  \n",
       "Empirical    2829.849494  \n",
       "Max          3203.875254  "
      ]
     },
     "execution_count": 41,
     "metadata": {},
     "output_type": "execute_result"
    }
   ],
   "source": [
    "profit_table"
   ]
  },
  {
   "cell_type": "code",
   "execution_count": 42,
   "metadata": {},
   "outputs": [],
   "source": [
    "profit_table.to_csv(\".\\\\Model_Selection_Result\\\\4.3B_Gradient_boosting(No_PCA).csv\")"
   ]
  },
  {
   "cell_type": "code",
   "execution_count": 43,
   "metadata": {},
   "outputs": [
    {
     "data": {
      "text/plain": [
       "[<matplotlib.lines.Line2D at 0x1ef4c0c3e80>]"
      ]
     },
     "execution_count": 43,
     "metadata": {},
     "output_type": "execute_result"
    },
    {
     "data": {
      "image/png": "[encoded data removed]",
      "text/plain": [
       "<Figure size 432x288 with 1 Axes>"
      ]
     },
     "metadata": {
      "needs_background": "light"
     },
     "output_type": "display_data"
    }
   ],
   "source": [
    "plt.plot(result['sales'],residual,\".\")"
   ]
  }
 ],
 "metadata": {
  "kernelspec": {
   "display_name": "Python 3",
   "language": "python",
   "name": "python3"
  },
  "language_info": {
   "codemirror_mode": {
    "name": "ipython",
    "version": 3
   },
   "file_extension": ".py",
   "mimetype": "text/x-python",
   "name": "python",
   "nbconvert_exporter": "python",
   "pygments_lexer": "ipython3",
   "version": "3.8.5"
  }
 },
 "nbformat": 4,
 "nbformat_minor": 4
}
