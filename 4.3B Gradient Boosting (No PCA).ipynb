{
 "cells": [
  {
   "cell_type": "code",
   "execution_count": 1,
   "metadata": {},
   "outputs": [],
   "source": [
    "import pandas as pd\n",
    "import numpy as np\n",
    "import matplotlib.pyplot as plt\n",
    "from sklearn.pipeline import Pipeline\n",
    "from sklearn.model_selection import GridSearchCV\n",
    "from sklearn.decomposition import PCA\n",
    "from sklearn.metrics import mean_squared_error as MSE\n",
    "from sklearn.linear_model import LinearRegression\n",
    "from sklearn.preprocessing import PolynomialFeatures\n",
    "from sklearn.model_selection import train_test_split\n",
    "from sklearn.linear_model import Lasso\n",
    "from sklearn.neighbors import KNeighborsRegressor\n",
    "from sklearn.tree import DecisionTreeRegressor\n",
    "from sklearn.ensemble import RandomForestRegressor\n",
    "from sklearn.ensemble import GradientBoostingRegressor"
   ]
  },
  {
   "cell_type": "markdown",
   "metadata": {},
   "source": [
    "# 1. Import the train datasets"
   ]
  },
  {
   "cell_type": "code",
   "execution_count": 2,
   "metadata": {},
   "outputs": [],
   "source": [
    "X_train = pd.read_csv(\"data-train.csv\",index_col=0)\n",
    "Y_train = X_train.sales\n",
    "X_train = X_train.drop(['sales'],axis=1)"
   ]
  },
  {
   "cell_type": "code",
   "execution_count": 3,
   "metadata": {},
   "outputs": [],
   "source": [
    "#X_train = pd.read_csv(\"B_encoded_train_data.csv\",index_col=0)\n",
    "#Y_train = pd.read_csv(\"A_sales_train.csv\",index_col=0)"
   ]
  },
  {
   "cell_type": "code",
   "execution_count": 4,
   "metadata": {},
   "outputs": [],
   "source": [
    "Model_1 = GradientBoostingRegressor()"
   ]
  },
  {
   "cell_type": "markdown",
   "metadata": {},
   "source": [
    "# 2. Setup Pipeline"
   ]
  },
  {
   "cell_type": "code",
   "execution_count": 5,
   "metadata": {},
   "outputs": [],
   "source": [
    "\n",
    "RG = Model_1"
   ]
  },
  {
   "cell_type": "code",
   "execution_count": 6,
   "metadata": {},
   "outputs": [],
   "source": [
    "\n",
    "pipe = Pipeline(steps=[(\"RG\",RG)])"
   ]
  },
  {
   "cell_type": "code",
   "execution_count": 7,
   "metadata": {},
   "outputs": [],
   "source": [
    "param_grid = {\n",
    "    \"RG__learning_rate\":[0.005,0.1,0.5,1,10],\n",
    "    \"RG__n_estimators\":[10,100],\n",
    "    \"RG__min_samples_split\":[0.01*i for i in range(1,3)],\n",
    "    \"RG__ccp_alpha\":[0.005,0.1,0.5,10]\n",
    "    \n",
    "}"
   ]
  },
  {
   "cell_type": "markdown",
   "metadata": {},
   "source": [
    "# 3. Setup GridSearch"
   ]
  },
  {
   "cell_type": "code",
   "execution_count": 8,
   "metadata": {},
   "outputs": [],
   "source": [
    "score_metric = 'neg_mean_squared_error'\n",
    "search = GridSearchCV(pipe,param_grid,\n",
    "                      n_jobs=-1,\n",
    "                      cv=10,\n",
    "                      scoring=score_metric)"
   ]
  },
  {
   "cell_type": "code",
   "execution_count": 9,
   "metadata": {},
   "outputs": [
    {
     "name": "stderr",
     "output_type": "stream",
     "text": [
      "C:\\Users\\Wayne Linn\\anaconda3\\lib\\site-packages\\sklearn\\model_selection\\_search.py:813: RuntimeWarning: overflow encountered in square\n",
      "  array_stds = np.sqrt(np.average((array -\n"
     ]
    },
    {
     "data": {
      "text/plain": [
       "GridSearchCV(cv=10,\n",
       "             estimator=Pipeline(steps=[('RG', GradientBoostingRegressor())]),\n",
       "             n_jobs=-1,\n",
       "             param_grid={'RG__ccp_alpha': [0.005, 0.1, 0.5, 10],\n",
       "                         'RG__learning_rate': [0.005, 0.1, 0.5, 1, 10],\n",
       "                         'RG__min_samples_split': [0.01, 0.02],\n",
       "                         'RG__n_estimators': [10, 100]},\n",
       "             scoring='neg_mean_squared_error')"
      ]
     },
     "execution_count": 9,
     "metadata": {},
     "output_type": "execute_result"
    }
   ],
   "source": [
    "search.fit(X_train,Y_train.values.ravel())"
   ]
  },
  {
   "cell_type": "code",
   "execution_count": 10,
   "metadata": {},
   "outputs": [
    {
     "name": "stdout",
     "output_type": "stream",
     "text": [
      "Best parameter (CV score=-519.093):\n",
      "{'RG__ccp_alpha': 0.1, 'RG__learning_rate': 0.5, 'RG__min_samples_split': 0.02, 'RG__n_estimators': 100}\n"
     ]
    }
   ],
   "source": [
    "print(\"Best parameter (CV score=%0.3f):\" % search.best_score_)\n",
    "print(search.best_params_)"
   ]
  },
  {
   "cell_type": "code",
   "execution_count": 11,
   "metadata": {},
   "outputs": [
    {
     "data": {
      "text/html": [
       "<div>\n",
       "<style scoped>\n",
       "    .dataframe tbody tr th:only-of-type {\n",
       "        vertical-align: middle;\n",
       "    }\n",
       "\n",
       "    .dataframe tbody tr th {\n",
       "        vertical-align: top;\n",
       "    }\n",
       "\n",
       "    .dataframe thead th {\n",
       "        text-align: right;\n",
       "    }\n",
       "</style>\n",
       "<table border=\"1\" class=\"dataframe\">\n",
       "  <thead>\n",
       "    <tr style=\"text-align: right;\">\n",
       "      <th></th>\n",
       "      <th>mean_fit_time</th>\n",
       "      <th>std_fit_time</th>\n",
       "      <th>mean_score_time</th>\n",
       "      <th>std_score_time</th>\n",
       "      <th>param_RG__ccp_alpha</th>\n",
       "      <th>param_RG__learning_rate</th>\n",
       "      <th>param_RG__min_samples_split</th>\n",
       "      <th>param_RG__n_estimators</th>\n",
       "      <th>params</th>\n",
       "      <th>split0_test_score</th>\n",
       "      <th>...</th>\n",
       "      <th>split3_test_score</th>\n",
       "      <th>split4_test_score</th>\n",
       "      <th>split5_test_score</th>\n",
       "      <th>split6_test_score</th>\n",
       "      <th>split7_test_score</th>\n",
       "      <th>split8_test_score</th>\n",
       "      <th>split9_test_score</th>\n",
       "      <th>mean_test_score</th>\n",
       "      <th>std_test_score</th>\n",
       "      <th>rank_test_score</th>\n",
       "    </tr>\n",
       "  </thead>\n",
       "  <tbody>\n",
       "    <tr>\n",
       "      <th>31</th>\n",
       "      <td>1.026923</td>\n",
       "      <td>0.138288</td>\n",
       "      <td>0.002958</td>\n",
       "      <td>0.004879</td>\n",
       "      <td>0.1</td>\n",
       "      <td>0.5</td>\n",
       "      <td>0.02</td>\n",
       "      <td>100</td>\n",
       "      <td>{'RG__ccp_alpha': 0.1, 'RG__learning_rate': 0....</td>\n",
       "      <td>-1.818502e+02</td>\n",
       "      <td>...</td>\n",
       "      <td>-4.460117e+02</td>\n",
       "      <td>-8.433489e+02</td>\n",
       "      <td>-2.133747e+02</td>\n",
       "      <td>-5.346240e+02</td>\n",
       "      <td>-4.230545e+02</td>\n",
       "      <td>-6.334373e+02</td>\n",
       "      <td>-2.345782e+02</td>\n",
       "      <td>-5.190927e+02</td>\n",
       "      <td>356.539833</td>\n",
       "      <td>1</td>\n",
       "    </tr>\n",
       "    <tr>\n",
       "      <th>11</th>\n",
       "      <td>0.877951</td>\n",
       "      <td>0.037784</td>\n",
       "      <td>0.004686</td>\n",
       "      <td>0.007159</td>\n",
       "      <td>0.005</td>\n",
       "      <td>0.5</td>\n",
       "      <td>0.02</td>\n",
       "      <td>100</td>\n",
       "      <td>{'RG__ccp_alpha': 0.005, 'RG__learning_rate': ...</td>\n",
       "      <td>-1.722996e+02</td>\n",
       "      <td>...</td>\n",
       "      <td>-4.436743e+02</td>\n",
       "      <td>-8.249443e+02</td>\n",
       "      <td>-2.118729e+02</td>\n",
       "      <td>-5.459485e+02</td>\n",
       "      <td>-4.213238e+02</td>\n",
       "      <td>-6.357713e+02</td>\n",
       "      <td>-2.336413e+02</td>\n",
       "      <td>-5.263804e+02</td>\n",
       "      <td>388.439765</td>\n",
       "      <td>2</td>\n",
       "    </tr>\n",
       "    <tr>\n",
       "      <th>51</th>\n",
       "      <td>1.001477</td>\n",
       "      <td>0.126939</td>\n",
       "      <td>0.004557</td>\n",
       "      <td>0.004202</td>\n",
       "      <td>0.5</td>\n",
       "      <td>0.5</td>\n",
       "      <td>0.02</td>\n",
       "      <td>100</td>\n",
       "      <td>{'RG__ccp_alpha': 0.5, 'RG__learning_rate': 0....</td>\n",
       "      <td>-2.074087e+02</td>\n",
       "      <td>...</td>\n",
       "      <td>-4.783307e+02</td>\n",
       "      <td>-1.146763e+03</td>\n",
       "      <td>-1.544513e+02</td>\n",
       "      <td>-5.478472e+02</td>\n",
       "      <td>-4.315470e+02</td>\n",
       "      <td>-7.187497e+02</td>\n",
       "      <td>-2.403109e+02</td>\n",
       "      <td>-5.634755e+02</td>\n",
       "      <td>401.437496</td>\n",
       "      <td>3</td>\n",
       "    </tr>\n",
       "    <tr>\n",
       "      <th>47</th>\n",
       "      <td>0.950107</td>\n",
       "      <td>0.093156</td>\n",
       "      <td>0.002260</td>\n",
       "      <td>0.004667</td>\n",
       "      <td>0.5</td>\n",
       "      <td>0.1</td>\n",
       "      <td>0.02</td>\n",
       "      <td>100</td>\n",
       "      <td>{'RG__ccp_alpha': 0.5, 'RG__learning_rate': 0....</td>\n",
       "      <td>-1.782078e+02</td>\n",
       "      <td>...</td>\n",
       "      <td>-4.759029e+02</td>\n",
       "      <td>-9.821374e+02</td>\n",
       "      <td>-2.056012e+02</td>\n",
       "      <td>-6.709349e+02</td>\n",
       "      <td>-4.000857e+02</td>\n",
       "      <td>-7.122550e+02</td>\n",
       "      <td>-2.573928e+02</td>\n",
       "      <td>-5.723434e+02</td>\n",
       "      <td>420.958609</td>\n",
       "      <td>4</td>\n",
       "    </tr>\n",
       "    <tr>\n",
       "      <th>27</th>\n",
       "      <td>0.956659</td>\n",
       "      <td>0.063163</td>\n",
       "      <td>0.002294</td>\n",
       "      <td>0.001947</td>\n",
       "      <td>0.1</td>\n",
       "      <td>0.1</td>\n",
       "      <td>0.02</td>\n",
       "      <td>100</td>\n",
       "      <td>{'RG__ccp_alpha': 0.1, 'RG__learning_rate': 0....</td>\n",
       "      <td>-1.796140e+02</td>\n",
       "      <td>...</td>\n",
       "      <td>-4.719039e+02</td>\n",
       "      <td>-9.822286e+02</td>\n",
       "      <td>-1.890067e+02</td>\n",
       "      <td>-6.766918e+02</td>\n",
       "      <td>-3.950785e+02</td>\n",
       "      <td>-7.063319e+02</td>\n",
       "      <td>-2.516377e+02</td>\n",
       "      <td>-5.760216e+02</td>\n",
       "      <td>441.711975</td>\n",
       "      <td>5</td>\n",
       "    </tr>\n",
       "    <tr>\n",
       "      <th>...</th>\n",
       "      <td>...</td>\n",
       "      <td>...</td>\n",
       "      <td>...</td>\n",
       "      <td>...</td>\n",
       "      <td>...</td>\n",
       "      <td>...</td>\n",
       "      <td>...</td>\n",
       "      <td>...</td>\n",
       "      <td>...</td>\n",
       "      <td>...</td>\n",
       "      <td>...</td>\n",
       "      <td>...</td>\n",
       "      <td>...</td>\n",
       "      <td>...</td>\n",
       "      <td>...</td>\n",
       "      <td>...</td>\n",
       "      <td>...</td>\n",
       "      <td>...</td>\n",
       "      <td>...</td>\n",
       "      <td>...</td>\n",
       "      <td>...</td>\n",
       "    </tr>\n",
       "    <tr>\n",
       "      <th>17</th>\n",
       "      <td>0.895917</td>\n",
       "      <td>0.022802</td>\n",
       "      <td>0.001961</td>\n",
       "      <td>0.004706</td>\n",
       "      <td>0.005</td>\n",
       "      <td>10</td>\n",
       "      <td>0.01</td>\n",
       "      <td>100</td>\n",
       "      <td>{'RG__ccp_alpha': 0.005, 'RG__learning_rate': ...</td>\n",
       "      <td>-2.747432e+193</td>\n",
       "      <td>...</td>\n",
       "      <td>-1.023351e+194</td>\n",
       "      <td>-5.637643e+193</td>\n",
       "      <td>-2.730949e+193</td>\n",
       "      <td>-1.778593e+194</td>\n",
       "      <td>-3.003149e+193</td>\n",
       "      <td>-2.990801e+193</td>\n",
       "      <td>-3.747398e+193</td>\n",
       "      <td>-6.572824e+193</td>\n",
       "      <td>inf</td>\n",
       "      <td>75</td>\n",
       "    </tr>\n",
       "    <tr>\n",
       "      <th>79</th>\n",
       "      <td>0.829307</td>\n",
       "      <td>0.041572</td>\n",
       "      <td>0.001861</td>\n",
       "      <td>0.004672</td>\n",
       "      <td>10</td>\n",
       "      <td>10</td>\n",
       "      <td>0.02</td>\n",
       "      <td>100</td>\n",
       "      <td>{'RG__ccp_alpha': 10, 'RG__learning_rate': 10,...</td>\n",
       "      <td>-3.770349e+193</td>\n",
       "      <td>...</td>\n",
       "      <td>-1.023351e+194</td>\n",
       "      <td>-7.666040e+193</td>\n",
       "      <td>-2.730949e+193</td>\n",
       "      <td>-1.773245e+194</td>\n",
       "      <td>-4.026377e+193</td>\n",
       "      <td>-4.015652e+193</td>\n",
       "      <td>-6.901978e+193</td>\n",
       "      <td>-6.948134e+193</td>\n",
       "      <td>inf</td>\n",
       "      <td>77</td>\n",
       "    </tr>\n",
       "    <tr>\n",
       "      <th>19</th>\n",
       "      <td>0.888110</td>\n",
       "      <td>0.028497</td>\n",
       "      <td>0.002655</td>\n",
       "      <td>0.004627</td>\n",
       "      <td>0.005</td>\n",
       "      <td>10</td>\n",
       "      <td>0.02</td>\n",
       "      <td>100</td>\n",
       "      <td>{'RG__ccp_alpha': 0.005, 'RG__learning_rate': ...</td>\n",
       "      <td>-3.770349e+193</td>\n",
       "      <td>...</td>\n",
       "      <td>-1.023351e+194</td>\n",
       "      <td>-7.666040e+193</td>\n",
       "      <td>-2.730949e+193</td>\n",
       "      <td>-1.778593e+194</td>\n",
       "      <td>-4.026377e+193</td>\n",
       "      <td>-4.015652e+193</td>\n",
       "      <td>-6.901978e+193</td>\n",
       "      <td>-6.953483e+193</td>\n",
       "      <td>inf</td>\n",
       "      <td>78</td>\n",
       "    </tr>\n",
       "    <tr>\n",
       "      <th>39</th>\n",
       "      <td>1.031734</td>\n",
       "      <td>0.150824</td>\n",
       "      <td>0.005588</td>\n",
       "      <td>0.006669</td>\n",
       "      <td>0.1</td>\n",
       "      <td>10</td>\n",
       "      <td>0.02</td>\n",
       "      <td>100</td>\n",
       "      <td>{'RG__ccp_alpha': 0.1, 'RG__learning_rate': 10...</td>\n",
       "      <td>-3.770349e+193</td>\n",
       "      <td>...</td>\n",
       "      <td>-1.023351e+194</td>\n",
       "      <td>-7.666040e+193</td>\n",
       "      <td>-2.730949e+193</td>\n",
       "      <td>-1.778593e+194</td>\n",
       "      <td>-4.026377e+193</td>\n",
       "      <td>-4.015652e+193</td>\n",
       "      <td>-6.901978e+193</td>\n",
       "      <td>-6.953483e+193</td>\n",
       "      <td>inf</td>\n",
       "      <td>79</td>\n",
       "    </tr>\n",
       "    <tr>\n",
       "      <th>59</th>\n",
       "      <td>0.907629</td>\n",
       "      <td>0.052209</td>\n",
       "      <td>0.007346</td>\n",
       "      <td>0.007135</td>\n",
       "      <td>0.5</td>\n",
       "      <td>10</td>\n",
       "      <td>0.02</td>\n",
       "      <td>100</td>\n",
       "      <td>{'RG__ccp_alpha': 0.5, 'RG__learning_rate': 10...</td>\n",
       "      <td>-3.770349e+193</td>\n",
       "      <td>...</td>\n",
       "      <td>-1.023351e+194</td>\n",
       "      <td>-7.666040e+193</td>\n",
       "      <td>-2.730949e+193</td>\n",
       "      <td>-1.778593e+194</td>\n",
       "      <td>-4.026377e+193</td>\n",
       "      <td>-4.015652e+193</td>\n",
       "      <td>-6.901978e+193</td>\n",
       "      <td>-6.953483e+193</td>\n",
       "      <td>inf</td>\n",
       "      <td>80</td>\n",
       "    </tr>\n",
       "  </tbody>\n",
       "</table>\n",
       "<p>80 rows × 22 columns</p>\n",
       "</div>"
      ],
      "text/plain": [
       "    mean_fit_time  std_fit_time  mean_score_time  std_score_time  \\\n",
       "31       1.026923      0.138288         0.002958        0.004879   \n",
       "11       0.877951      0.037784         0.004686        0.007159   \n",
       "51       1.001477      0.126939         0.004557        0.004202   \n",
       "47       0.950107      0.093156         0.002260        0.004667   \n",
       "27       0.956659      0.063163         0.002294        0.001947   \n",
       "..            ...           ...              ...             ...   \n",
       "17       0.895917      0.022802         0.001961        0.004706   \n",
       "79       0.829307      0.041572         0.001861        0.004672   \n",
       "19       0.888110      0.028497         0.002655        0.004627   \n",
       "39       1.031734      0.150824         0.005588        0.006669   \n",
       "59       0.907629      0.052209         0.007346        0.007135   \n",
       "\n",
       "   param_RG__ccp_alpha param_RG__learning_rate param_RG__min_samples_split  \\\n",
       "31                 0.1                     0.5                        0.02   \n",
       "11               0.005                     0.5                        0.02   \n",
       "51                 0.5                     0.5                        0.02   \n",
       "47                 0.5                     0.1                        0.02   \n",
       "27                 0.1                     0.1                        0.02   \n",
       "..                 ...                     ...                         ...   \n",
       "17               0.005                      10                        0.01   \n",
       "79                  10                      10                        0.02   \n",
       "19               0.005                      10                        0.02   \n",
       "39                 0.1                      10                        0.02   \n",
       "59                 0.5                      10                        0.02   \n",
       "\n",
       "   param_RG__n_estimators                                             params  \\\n",
       "31                    100  {'RG__ccp_alpha': 0.1, 'RG__learning_rate': 0....   \n",
       "11                    100  {'RG__ccp_alpha': 0.005, 'RG__learning_rate': ...   \n",
       "51                    100  {'RG__ccp_alpha': 0.5, 'RG__learning_rate': 0....   \n",
       "47                    100  {'RG__ccp_alpha': 0.5, 'RG__learning_rate': 0....   \n",
       "27                    100  {'RG__ccp_alpha': 0.1, 'RG__learning_rate': 0....   \n",
       "..                    ...                                                ...   \n",
       "17                    100  {'RG__ccp_alpha': 0.005, 'RG__learning_rate': ...   \n",
       "79                    100  {'RG__ccp_alpha': 10, 'RG__learning_rate': 10,...   \n",
       "19                    100  {'RG__ccp_alpha': 0.005, 'RG__learning_rate': ...   \n",
       "39                    100  {'RG__ccp_alpha': 0.1, 'RG__learning_rate': 10...   \n",
       "59                    100  {'RG__ccp_alpha': 0.5, 'RG__learning_rate': 10...   \n",
       "\n",
       "    split0_test_score  ...  split3_test_score  split4_test_score  \\\n",
       "31      -1.818502e+02  ...      -4.460117e+02      -8.433489e+02   \n",
       "11      -1.722996e+02  ...      -4.436743e+02      -8.249443e+02   \n",
       "51      -2.074087e+02  ...      -4.783307e+02      -1.146763e+03   \n",
       "47      -1.782078e+02  ...      -4.759029e+02      -9.821374e+02   \n",
       "27      -1.796140e+02  ...      -4.719039e+02      -9.822286e+02   \n",
       "..                ...  ...                ...                ...   \n",
       "17     -2.747432e+193  ...     -1.023351e+194     -5.637643e+193   \n",
       "79     -3.770349e+193  ...     -1.023351e+194     -7.666040e+193   \n",
       "19     -3.770349e+193  ...     -1.023351e+194     -7.666040e+193   \n",
       "39     -3.770349e+193  ...     -1.023351e+194     -7.666040e+193   \n",
       "59     -3.770349e+193  ...     -1.023351e+194     -7.666040e+193   \n",
       "\n",
       "    split5_test_score  split6_test_score  split7_test_score  \\\n",
       "31      -2.133747e+02      -5.346240e+02      -4.230545e+02   \n",
       "11      -2.118729e+02      -5.459485e+02      -4.213238e+02   \n",
       "51      -1.544513e+02      -5.478472e+02      -4.315470e+02   \n",
       "47      -2.056012e+02      -6.709349e+02      -4.000857e+02   \n",
       "27      -1.890067e+02      -6.766918e+02      -3.950785e+02   \n",
       "..                ...                ...                ...   \n",
       "17     -2.730949e+193     -1.778593e+194     -3.003149e+193   \n",
       "79     -2.730949e+193     -1.773245e+194     -4.026377e+193   \n",
       "19     -2.730949e+193     -1.778593e+194     -4.026377e+193   \n",
       "39     -2.730949e+193     -1.778593e+194     -4.026377e+193   \n",
       "59     -2.730949e+193     -1.778593e+194     -4.026377e+193   \n",
       "\n",
       "    split8_test_score  split9_test_score  mean_test_score  std_test_score  \\\n",
       "31      -6.334373e+02      -2.345782e+02    -5.190927e+02      356.539833   \n",
       "11      -6.357713e+02      -2.336413e+02    -5.263804e+02      388.439765   \n",
       "51      -7.187497e+02      -2.403109e+02    -5.634755e+02      401.437496   \n",
       "47      -7.122550e+02      -2.573928e+02    -5.723434e+02      420.958609   \n",
       "27      -7.063319e+02      -2.516377e+02    -5.760216e+02      441.711975   \n",
       "..                ...                ...              ...             ...   \n",
       "17     -2.990801e+193     -3.747398e+193   -6.572824e+193             inf   \n",
       "79     -4.015652e+193     -6.901978e+193   -6.948134e+193             inf   \n",
       "19     -4.015652e+193     -6.901978e+193   -6.953483e+193             inf   \n",
       "39     -4.015652e+193     -6.901978e+193   -6.953483e+193             inf   \n",
       "59     -4.015652e+193     -6.901978e+193   -6.953483e+193             inf   \n",
       "\n",
       "    rank_test_score  \n",
       "31                1  \n",
       "11                2  \n",
       "51                3  \n",
       "47                4  \n",
       "27                5  \n",
       "..              ...  \n",
       "17               75  \n",
       "79               77  \n",
       "19               78  \n",
       "39               79  \n",
       "59               80  \n",
       "\n",
       "[80 rows x 22 columns]"
      ]
     },
     "execution_count": 11,
     "metadata": {},
     "output_type": "execute_result"
    }
   ],
   "source": [
    "df = pd.DataFrame(search.cv_results_)\n",
    "df = df.sort_values(by=['rank_test_score'])\n",
    "df"
   ]
  },
  {
   "cell_type": "markdown",
   "metadata": {},
   "source": [
    "# 4. Best Hyperparameter"
   ]
  },
  {
   "cell_type": "code",
   "execution_count": 12,
   "metadata": {},
   "outputs": [
    {
     "name": "stdout",
     "output_type": "stream",
     "text": [
      "{'RG__ccp_alpha': 0.1, 'RG__learning_rate': 0.5, 'RG__min_samples_split': 0.02, 'RG__n_estimators': 100}\n"
     ]
    }
   ],
   "source": [
    "parms = pd.DataFrame(df['params'])\n",
    "for i in parms.iloc[0]:\n",
    "    print(i)"
   ]
  },
  {
   "cell_type": "markdown",
   "metadata": {},
   "source": [
    "# 5. Evaluate Model $log(Sales)$"
   ]
  },
  {
   "cell_type": "code",
   "execution_count": 13,
   "metadata": {},
   "outputs": [],
   "source": [
    "best_lr = parms.iloc[0][0]['RG__learning_rate']\n",
    "best_n_est = parms.iloc[0][0]['RG__n_estimators']\n",
    "best_min_ss=parms.iloc[0][0]['RG__min_samples_split']\n",
    "best_ccp_alpha=parms.iloc[0][0]['RG__ccp_alpha']\n",
    "#best_pca=170\n",
    "#best_lr=0.1\n",
    "#best_n_est=100"
   ]
  },
  {
   "cell_type": "code",
   "execution_count": null,
   "metadata": {},
   "outputs": [],
   "source": []
  },
  {
   "cell_type": "code",
   "execution_count": 14,
   "metadata": {},
   "outputs": [],
   "source": [
    "Model_2 = GradientBoostingRegressor(learning_rate=best_lr,n_estimators=best_n_est,min_samples_split=best_min_ss,ccp_alpha=best_ccp_alpha)"
   ]
  },
  {
   "cell_type": "code",
   "execution_count": 15,
   "metadata": {},
   "outputs": [],
   "source": [
    "X_train1,X_test1,Y_train1,Y_test1 = train_test_split(X_train,Y_train,test_size=0.2,random_state=132)\n"
   ]
  },
  {
   "cell_type": "code",
   "execution_count": 16,
   "metadata": {},
   "outputs": [
    {
     "data": {
      "text/plain": [
       "GradientBoostingRegressor(ccp_alpha=0.1, learning_rate=0.5,\n",
       "                          min_samples_split=0.02)"
      ]
     },
     "execution_count": 16,
     "metadata": {},
     "output_type": "execute_result"
    }
   ],
   "source": [
    "\n",
    "RG1 = Model_2\n",
    "RG1.fit(X_train1,Y_train1.values.ravel())"
   ]
  },
  {
   "cell_type": "code",
   "execution_count": null,
   "metadata": {},
   "outputs": [],
   "source": []
  },
  {
   "cell_type": "code",
   "execution_count": 17,
   "metadata": {},
   "outputs": [
    {
     "data": {
      "text/plain": [
       "296.4777795754036"
      ]
     },
     "execution_count": 17,
     "metadata": {},
     "output_type": "execute_result"
    }
   ],
   "source": [
    "MSE(RG1.predict(X_test1),Y_test1)"
   ]
  },
  {
   "cell_type": "code",
   "execution_count": 18,
   "metadata": {},
   "outputs": [],
   "source": [
    "result = pd.DataFrame(Y_test1)"
   ]
  },
  {
   "cell_type": "code",
   "execution_count": 19,
   "metadata": {},
   "outputs": [],
   "source": [
    "result[\"Predicted_sales\"] = RG1.predict(X_test1)"
   ]
  },
  {
   "cell_type": "code",
   "execution_count": 20,
   "metadata": {},
   "outputs": [
    {
     "data": {
      "text/plain": [
       "296.4777795754036"
      ]
     },
     "execution_count": 20,
     "metadata": {},
     "output_type": "execute_result"
    }
   ],
   "source": [
    "MSE(result[\"sales\"],result[\"Predicted_sales\"])"
   ]
  },
  {
   "cell_type": "markdown",
   "metadata": {},
   "source": [
    "# 6. Inventory Decision"
   ]
  },
  {
   "cell_type": "code",
   "execution_count": 21,
   "metadata": {},
   "outputs": [],
   "source": [
    "residual = result['sales']-result['Predicted_sales']"
   ]
  },
  {
   "cell_type": "code",
   "execution_count": 22,
   "metadata": {},
   "outputs": [
    {
     "data": {
      "text/plain": [
       "(4, 8)"
      ]
     },
     "execution_count": 22,
     "metadata": {},
     "output_type": "execute_result"
    }
   ],
   "source": [
    "Price=20\n",
    "Cost=12\n",
    "Salvage=8\n",
    "Over=Cost - Salvage\n",
    "Under=Price - Cost\n",
    "Over, Under"
   ]
  },
  {
   "cell_type": "markdown",
   "metadata": {},
   "source": [
    "### QQ plot to explore the distribution of residual"
   ]
  },
  {
   "cell_type": "markdown",
   "metadata": {},
   "source": [
    "#### Normal Distribution"
   ]
  },
  {
   "cell_type": "code",
   "execution_count": 23,
   "metadata": {},
   "outputs": [],
   "source": [
    "import scipy.stats as sct"
   ]
  },
  {
   "cell_type": "code",
   "execution_count": 24,
   "metadata": {},
   "outputs": [
    {
     "data": {
      "image/png": "[encoded data removed]",
      "text/plain": [
       "<Figure size 432x288 with 1 Axes>"
      ]
     },
     "metadata": {
      "needs_background": "light"
     },
     "output_type": "display_data"
    }
   ],
   "source": [
    "import scipy\n",
    "scipy.stats.probplot(residual, dist=\"norm\", plot=plt)\n",
    "plt.show()"
   ]
  },
  {
   "cell_type": "code",
   "execution_count": 25,
   "metadata": {},
   "outputs": [],
   "source": [
    "s = residual.std()\n",
    "opt_dec_N=round(sct.norm.ppf(Under/(Under+Over))*s + result['Predicted_sales'])"
   ]
  },
  {
   "cell_type": "markdown",
   "metadata": {},
   "source": [
    "#### Exponential Distribution"
   ]
  },
  {
   "cell_type": "code",
   "execution_count": 26,
   "metadata": {},
   "outputs": [
    {
     "data": {
      "image/png": "[encoded data removed]",
      "text/plain": [
       "<Figure size 432x288 with 1 Axes>"
      ]
     },
     "metadata": {
      "needs_background": "light"
     },
     "output_type": "display_data"
    }
   ],
   "source": [
    "scipy.stats.probplot(residual, dist=\"expon\", plot=plt)\n",
    "plt.show()"
   ]
  },
  {
   "cell_type": "code",
   "execution_count": 27,
   "metadata": {},
   "outputs": [],
   "source": [
    "opt_dec_E=round((-result['Predicted_sales'])*np.log(1-(Under/(Under+Over))))"
   ]
  },
  {
   "cell_type": "markdown",
   "metadata": {},
   "source": [
    "#### Empirical Distribution"
   ]
  },
  {
   "cell_type": "code",
   "execution_count": 28,
   "metadata": {},
   "outputs": [
    {
     "data": {
      "text/plain": [
       "[<matplotlib.lines.Line2D at 0x17f3b8d74c0>]"
      ]
     },
     "execution_count": 28,
     "metadata": {},
     "output_type": "execute_result"
    },
    {
     "data": {
      "image/png": "[encoded data removed]",
      "text/plain": [
       "<Figure size 432x288 with 1 Axes>"
      ]
     },
     "metadata": {
      "needs_background": "light"
     },
     "output_type": "display_data"
    }
   ],
   "source": [
    "size = residual.shape[0]\n",
    "step=1/size\n",
    "jumps = [step*i for i in range(1,size+1)]\n",
    "Sample = sorted(residual)\n",
    "plt.plot(Sample,jumps)"
   ]
  },
  {
   "cell_type": "code",
   "execution_count": 29,
   "metadata": {},
   "outputs": [
    {
     "data": {
      "image/png": "[encoded data removed]",
      "text/plain": [
       "<Figure size 432x288 with 1 Axes>"
      ]
     },
     "metadata": {
      "needs_background": "light"
     },
     "output_type": "display_data"
    }
   ],
   "source": [
    "plt.hist(Sample)\n",
    "plt.show()"
   ]
  },
  {
   "cell_type": "code",
   "execution_count": 30,
   "metadata": {},
   "outputs": [],
   "source": [
    "def inv(sample,jump,area):\n",
    "    size = len(sample)\n",
    "    i=0\n",
    "    temp=jump[i]\n",
    "    while temp<area:\n",
    "        i+=1\n",
    "        temp=jump[i]\n",
    "        \n",
    "    return sample[i]"
   ]
  },
  {
   "cell_type": "code",
   "execution_count": 31,
   "metadata": {},
   "outputs": [
    {
     "data": {
      "text/plain": [
       "2.286148601651783"
      ]
     },
     "execution_count": 31,
     "metadata": {},
     "output_type": "execute_result"
    }
   ],
   "source": [
    "offset = inv(Sample,jumps,2/3)\n",
    "offset"
   ]
  },
  {
   "cell_type": "code",
   "execution_count": 32,
   "metadata": {},
   "outputs": [],
   "source": [
    "opt_dec_B = round(result['Predicted_sales']+offset)"
   ]
  },
  {
   "cell_type": "markdown",
   "metadata": {},
   "source": [
    "# 7. Out-of-samples Profit"
   ]
  },
  {
   "cell_type": "code",
   "execution_count": 33,
   "metadata": {},
   "outputs": [
    {
     "data": {
      "text/plain": [
       "82096"
      ]
     },
     "execution_count": 33,
     "metadata": {},
     "output_type": "execute_result"
    }
   ],
   "source": [
    "#max profit for test data set\n",
    "max_profit = result['sales'].sum()*(Price-Cost)\n",
    "max_profit"
   ]
  },
  {
   "cell_type": "code",
   "execution_count": 34,
   "metadata": {},
   "outputs": [],
   "source": [
    "def profit(demand,inv):\n",
    "    return (Price-Salvage)*np.minimum(demand,inv)-(Cost-Salvage)*inv"
   ]
  },
  {
   "cell_type": "code",
   "execution_count": 35,
   "metadata": {},
   "outputs": [
    {
     "data": {
      "text/plain": [
       "55252.0"
      ]
     },
     "execution_count": 35,
     "metadata": {},
     "output_type": "execute_result"
    }
   ],
   "source": [
    "#Profit (Normal)\n",
    "profit_lst_N = profit(result['sales'],opt_dec_N)\n",
    "profit_lst_N.sum()"
   ]
  },
  {
   "cell_type": "code",
   "execution_count": 36,
   "metadata": {},
   "outputs": [
    {
     "data": {
      "text/plain": [
       "58012.0"
      ]
     },
     "execution_count": 36,
     "metadata": {},
     "output_type": "execute_result"
    }
   ],
   "source": [
    "#Profit (Exponential)\n",
    "profit_lst_E = profit(result['sales'],opt_dec_E)\n",
    "profit_lst_E.sum()"
   ]
  },
  {
   "cell_type": "code",
   "execution_count": 37,
   "metadata": {},
   "outputs": [
    {
     "data": {
      "text/plain": [
       "58500.0"
      ]
     },
     "execution_count": 37,
     "metadata": {},
     "output_type": "execute_result"
    }
   ],
   "source": [
    "#Profit (Empirical)\n",
    "profit_lst_B = profit(result['sales'],opt_dec_B)\n",
    "profit_lst_B.sum()"
   ]
  },
  {
   "cell_type": "markdown",
   "metadata": {},
   "source": [
    "# 8. K-Fold Cross Validation"
   ]
  },
  {
   "cell_type": "markdown",
   "metadata": {},
   "source": [
    "### Repeat steps 5,6,7 with 10-fold cross validation"
   ]
  },
  {
   "cell_type": "code",
   "execution_count": 38,
   "metadata": {},
   "outputs": [],
   "source": [
    "Model_4= GradientBoostingRegressor(learning_rate=best_lr,n_estimators=best_n_est,min_samples_split=best_min_ss,ccp_alpha=best_ccp_alpha)"
   ]
  },
  {
   "cell_type": "code",
   "execution_count": 39,
   "metadata": {},
   "outputs": [],
   "source": [
    "from sklearn.model_selection import KFold\n",
    "k=10\n",
    "kf = KFold(n_splits=k)\n",
    "X_train_t=X_train.to_numpy()\n",
    "Y_train_t=Y_train.to_numpy()\n",
    "model = []\n",
    "mse_lst = []\n",
    "max_profit_lst = []\n",
    "profit_N_lst = []\n",
    "profit_E_lst = []\n",
    "profit_B_lst = []\n",
    "\n",
    "for train_index,test_index in kf.split(X_train_t):\n",
    "    X_train_K,X_test_K=X_train_t[train_index],X_train_t[test_index]\n",
    "    Y_train_K,Y_test_K=Y_train_t[train_index],Y_train_t[test_index]\n",
    "    \n",
    "    #PCA to transform train data\n",
    "    \n",
    "    #Model\n",
    "    RG_K = Model_4\n",
    "    RG_K.fit(X_train_K,Y_train_K.ravel())\n",
    "    \n",
    "    #pca to transform test data\n",
    "    \n",
    "    #MSE\n",
    "    mse_lst.append(MSE(RG_K.predict(X_test_K),Y_test_K))\n",
    "    \n",
    "    #Transform log(sale) back to sale\n",
    "    result_K = pd.DataFrame(Y_test_K)\n",
    "    result_K[\"Predicted_sales\"] = RG_K.predict(X_test_K)\n",
    "    \n",
    "    #Obtain residual\n",
    "    residual_K = result_K[0]-result_K['Predicted_sales']\n",
    "    \n",
    "    #Get std for Normal distribution\n",
    "    s_K = residual.std()\n",
    "    \n",
    "    #Inventory Decision (Normal)\n",
    "    opt_dec_N_K=np.ceil(sct.norm.ppf(Under/(Under+Over))*s_K + result_K['Predicted_sales'])\n",
    "    #Inventory Decision (Exponential)\n",
    "    opt_dec_E_K=np.ceil((-result_K['Predicted_sales'])*np.log(1-(Under/(Under+Over))))\n",
    "    \n",
    "    #Inventory Decision (Empirical Distribution)\n",
    "    size_K = residual_K.shape[0]\n",
    "    step_K=1/size_K\n",
    "    jumps_K = [step_K*i for i in range(1,size+1)]\n",
    "    Sample_K = sorted(residual_K)\n",
    "    offset_K = inv(Sample_K,jumps_K,2/3)\n",
    "    opt_dec_B_K = np.ceil(result_K['Predicted_sales']+offset_K)\n",
    "    \n",
    "    #Out-of_sample profit\n",
    "    profit_lst_B_K = profit(result_K[0],opt_dec_B_K)\n",
    "    profit_B_lst.append(profit_lst_B_K.sum())\n",
    "    \n",
    "    profit_lst_N_K = profit(result_K[0],opt_dec_N_K)\n",
    "    profit_N_lst.append(profit_lst_N_K.sum())\n",
    "    \n",
    "    profit_lst_E_K = profit(result_K[0],opt_dec_E_K)\n",
    "    profit_E_lst.append(profit_lst_E_K.sum())\n",
    "    \n",
    "    max_profit_K = result_K[0].sum()*(Price-Cost)\n",
    "    max_profit_lst.append(max_profit_K)\n",
    "    \n",
    "max_profit_lst = np.array(max_profit_lst)\n",
    "profit_N_lst = np.array(profit_N_lst)\n",
    "profit_E_lst = np.array(profit_E_lst)\n",
    "profit_B_lst = np.array(profit_B_lst)\n",
    "\n",
    "fraction_of_max_N = profit_N_lst/max_profit_lst\n",
    "fraction_of_max_E = profit_E_lst/max_profit_lst\n",
    "fraction_of_max_B = profit_B_lst/max_profit_lst\n",
    "\n",
    "dist_profit = [\"Normal\",\"Exponential\",\"Empirical\",\"Max\"]\n",
    "dist_frac = [\"Normal\",\"Exponential\",\"Empirical\"]\n",
    "col_name = [\"Dataset_\"+str(i) for i in range(1,k+1)]\n",
    "\n",
    "profit_lst = [profit_N_lst,profit_E_lst,profit_B_lst,max_profit_lst]\n",
    "profit_table = pd.DataFrame(profit_lst,index=dist_profit,columns=col_name)\n",
    "profit_table[\"mean_profit\"]=profit_table.mean(axis=1)\n",
    "profit_table[\"std_profit\"]=profit_table.std(ddof=1,axis=1)\n",
    "\n",
    "fraction_lst = [fraction_of_max_N,fraction_of_max_E,fraction_of_max_B]\n",
    "fraction_table = pd.DataFrame(fraction_lst,index=dist_frac,columns=col_name)\n",
    "fraction_table[\"mean_fraction\"]=fraction_table.mean(axis=1)"
   ]
  },
  {
   "cell_type": "code",
   "execution_count": 40,
   "metadata": {},
   "outputs": [
    {
     "data": {
      "text/html": [
       "<div>\n",
       "<style scoped>\n",
       "    .dataframe tbody tr th:only-of-type {\n",
       "        vertical-align: middle;\n",
       "    }\n",
       "\n",
       "    .dataframe tbody tr th {\n",
       "        vertical-align: top;\n",
       "    }\n",
       "\n",
       "    .dataframe thead th {\n",
       "        text-align: right;\n",
       "    }\n",
       "</style>\n",
       "<table border=\"1\" class=\"dataframe\">\n",
       "  <thead>\n",
       "    <tr style=\"text-align: right;\">\n",
       "      <th></th>\n",
       "      <th>Dataset_1</th>\n",
       "      <th>Dataset_2</th>\n",
       "      <th>Dataset_3</th>\n",
       "      <th>Dataset_4</th>\n",
       "      <th>Dataset_5</th>\n",
       "      <th>Dataset_6</th>\n",
       "      <th>Dataset_7</th>\n",
       "      <th>Dataset_8</th>\n",
       "      <th>Dataset_9</th>\n",
       "      <th>Dataset_10</th>\n",
       "      <th>mean_fraction</th>\n",
       "    </tr>\n",
       "  </thead>\n",
       "  <tbody>\n",
       "    <tr>\n",
       "      <th>Normal</th>\n",
       "      <td>0.683356</td>\n",
       "      <td>0.703642</td>\n",
       "      <td>0.607655</td>\n",
       "      <td>0.693219</td>\n",
       "      <td>0.681708</td>\n",
       "      <td>0.663696</td>\n",
       "      <td>0.692861</td>\n",
       "      <td>0.676930</td>\n",
       "      <td>0.667144</td>\n",
       "      <td>0.671917</td>\n",
       "      <td>0.674213</td>\n",
       "    </tr>\n",
       "    <tr>\n",
       "      <th>Exponential</th>\n",
       "      <td>0.725884</td>\n",
       "      <td>0.739615</td>\n",
       "      <td>0.648436</td>\n",
       "      <td>0.730386</td>\n",
       "      <td>0.716035</td>\n",
       "      <td>0.714608</td>\n",
       "      <td>0.725127</td>\n",
       "      <td>0.700781</td>\n",
       "      <td>0.708304</td>\n",
       "      <td>0.729831</td>\n",
       "      <td>0.713901</td>\n",
       "    </tr>\n",
       "    <tr>\n",
       "      <th>Empirical</th>\n",
       "      <td>0.734873</td>\n",
       "      <td>0.738200</td>\n",
       "      <td>0.653361</td>\n",
       "      <td>0.731760</td>\n",
       "      <td>0.707575</td>\n",
       "      <td>0.721573</td>\n",
       "      <td>0.727741</td>\n",
       "      <td>0.707285</td>\n",
       "      <td>0.715372</td>\n",
       "      <td>0.731368</td>\n",
       "      <td>0.716911</td>\n",
       "    </tr>\n",
       "  </tbody>\n",
       "</table>\n",
       "</div>"
      ],
      "text/plain": [
       "             Dataset_1  Dataset_2  Dataset_3  Dataset_4  Dataset_5  Dataset_6  \\\n",
       "Normal        0.683356   0.703642   0.607655   0.693219   0.681708   0.663696   \n",
       "Exponential   0.725884   0.739615   0.648436   0.730386   0.716035   0.714608   \n",
       "Empirical     0.734873   0.738200   0.653361   0.731760   0.707575   0.721573   \n",
       "\n",
       "             Dataset_7  Dataset_8  Dataset_9  Dataset_10  mean_fraction  \n",
       "Normal        0.692861   0.676930   0.667144    0.671917       0.674213  \n",
       "Exponential   0.725127   0.700781   0.708304    0.729831       0.713901  \n",
       "Empirical     0.727741   0.707285   0.715372    0.731368       0.716911  "
      ]
     },
     "execution_count": 40,
     "metadata": {},
     "output_type": "execute_result"
    }
   ],
   "source": [
    "fraction_table"
   ]
  },
  {
   "cell_type": "code",
   "execution_count": 41,
   "metadata": {
    "scrolled": true
   },
   "outputs": [
    {
     "data": {
      "text/html": [
       "<div>\n",
       "<style scoped>\n",
       "    .dataframe tbody tr th:only-of-type {\n",
       "        vertical-align: middle;\n",
       "    }\n",
       "\n",
       "    .dataframe tbody tr th {\n",
       "        vertical-align: top;\n",
       "    }\n",
       "\n",
       "    .dataframe thead th {\n",
       "        text-align: right;\n",
       "    }\n",
       "</style>\n",
       "<table border=\"1\" class=\"dataframe\">\n",
       "  <thead>\n",
       "    <tr style=\"text-align: right;\">\n",
       "      <th></th>\n",
       "      <th>Dataset_1</th>\n",
       "      <th>Dataset_2</th>\n",
       "      <th>Dataset_3</th>\n",
       "      <th>Dataset_4</th>\n",
       "      <th>Dataset_5</th>\n",
       "      <th>Dataset_6</th>\n",
       "      <th>Dataset_7</th>\n",
       "      <th>Dataset_8</th>\n",
       "      <th>Dataset_9</th>\n",
       "      <th>Dataset_10</th>\n",
       "      <th>mean_profit</th>\n",
       "      <th>std_profit</th>\n",
       "    </tr>\n",
       "  </thead>\n",
       "  <tbody>\n",
       "    <tr>\n",
       "      <th>Normal</th>\n",
       "      <td>28280.0</td>\n",
       "      <td>31844.0</td>\n",
       "      <td>28132.0</td>\n",
       "      <td>32304.0</td>\n",
       "      <td>33840.0</td>\n",
       "      <td>25916.0</td>\n",
       "      <td>33928.0</td>\n",
       "      <td>31220.0</td>\n",
       "      <td>29824.0</td>\n",
       "      <td>27984.0</td>\n",
       "      <td>30327.2</td>\n",
       "      <td>2579.214020</td>\n",
       "    </tr>\n",
       "    <tr>\n",
       "      <th>Exponential</th>\n",
       "      <td>30040.0</td>\n",
       "      <td>33472.0</td>\n",
       "      <td>30020.0</td>\n",
       "      <td>34036.0</td>\n",
       "      <td>35544.0</td>\n",
       "      <td>27904.0</td>\n",
       "      <td>35508.0</td>\n",
       "      <td>32320.0</td>\n",
       "      <td>31664.0</td>\n",
       "      <td>30396.0</td>\n",
       "      <td>32090.4</td>\n",
       "      <td>2417.099220</td>\n",
       "    </tr>\n",
       "    <tr>\n",
       "      <th>Empirical</th>\n",
       "      <td>30412.0</td>\n",
       "      <td>33408.0</td>\n",
       "      <td>30248.0</td>\n",
       "      <td>34100.0</td>\n",
       "      <td>35124.0</td>\n",
       "      <td>28176.0</td>\n",
       "      <td>35636.0</td>\n",
       "      <td>32620.0</td>\n",
       "      <td>31980.0</td>\n",
       "      <td>30460.0</td>\n",
       "      <td>32216.4</td>\n",
       "      <td>2277.601159</td>\n",
       "    </tr>\n",
       "    <tr>\n",
       "      <th>Max</th>\n",
       "      <td>41384.0</td>\n",
       "      <td>45256.0</td>\n",
       "      <td>46296.0</td>\n",
       "      <td>46600.0</td>\n",
       "      <td>49640.0</td>\n",
       "      <td>39048.0</td>\n",
       "      <td>48968.0</td>\n",
       "      <td>46120.0</td>\n",
       "      <td>44704.0</td>\n",
       "      <td>41648.0</td>\n",
       "      <td>44966.4</td>\n",
       "      <td>3203.875254</td>\n",
       "    </tr>\n",
       "  </tbody>\n",
       "</table>\n",
       "</div>"
      ],
      "text/plain": [
       "             Dataset_1  Dataset_2  Dataset_3  Dataset_4  Dataset_5  Dataset_6  \\\n",
       "Normal         28280.0    31844.0    28132.0    32304.0    33840.0    25916.0   \n",
       "Exponential    30040.0    33472.0    30020.0    34036.0    35544.0    27904.0   \n",
       "Empirical      30412.0    33408.0    30248.0    34100.0    35124.0    28176.0   \n",
       "Max            41384.0    45256.0    46296.0    46600.0    49640.0    39048.0   \n",
       "\n",
       "             Dataset_7  Dataset_8  Dataset_9  Dataset_10  mean_profit  \\\n",
       "Normal         33928.0    31220.0    29824.0     27984.0      30327.2   \n",
       "Exponential    35508.0    32320.0    31664.0     30396.0      32090.4   \n",
       "Empirical      35636.0    32620.0    31980.0     30460.0      32216.4   \n",
       "Max            48968.0    46120.0    44704.0     41648.0      44966.4   \n",
       "\n",
       "              std_profit  \n",
       "Normal       2579.214020  \n",
       "Exponential  2417.099220  \n",
       "Empirical    2277.601159  \n",
       "Max          3203.875254  "
      ]
     },
     "execution_count": 41,
     "metadata": {},
     "output_type": "execute_result"
    }
   ],
   "source": [
    "profit_table"
   ]
  },
  {
   "cell_type": "code",
   "execution_count": 42,
   "metadata": {},
   "outputs": [],
   "source": [
    "profit_table.to_csv(\".\\\\Model_Selection_Result\\\\4.3B_Gradient_boosting(No_PCA).csv\")"
   ]
  },
  {
   "cell_type": "code",
   "execution_count": 43,
   "metadata": {},
   "outputs": [
    {
     "data": {
      "text/plain": [
       "[<matplotlib.lines.Line2D at 0x17f3b86b2b0>]"
      ]
     },
     "execution_count": 43,
     "metadata": {},
     "output_type": "execute_result"
    },
    {
     "data": {
      "image/png": "[encoded data removed]",
      "text/plain": [
       "<Figure size 432x288 with 1 Axes>"
      ]
     },
     "metadata": {
      "needs_background": "light"
     },
     "output_type": "display_data"
    }
   ],
   "source": [
    "plt.plot(result['sales'],residual,\".\")"
   ]
  }
 ],
 "metadata": {
  "kernelspec": {
   "display_name": "Python 3",
   "language": "python",
   "name": "python3"
  },
  "language_info": {
   "codemirror_mode": {
    "name": "ipython",
    "version": 3
   },
   "file_extension": ".py",
   "mimetype": "text/x-python",
   "name": "python",
   "nbconvert_exporter": "python",
   "pygments_lexer": "ipython3",
   "version": "3.8.5"
  }
 },
 "nbformat": 4,
 "nbformat_minor": 4
}
